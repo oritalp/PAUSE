{
 "cells": [
  {
   "cell_type": "code",
   "execution_count": 12,
   "metadata": {},
   "outputs": [],
   "source": [
    "from utils import plot_graphs\n",
    "plot_graphs({\"BSFL brute\": r\"C:\\dev\\FL_privacy_mab\\checkpoints\\good results - mnist 700 trunc\\BSFL brute\\last_model.pth.tar\",\n",
    "             \"random selection\": r\"C:\\dev\\FL_privacy_mab\\checkpoints\\good results - mnist 700 trunc\\random selection\\last_model.pth.tar\"})\n",
    "\n",
    "\n",
    "\n"
   ]
  }
 ],
 "metadata": {
  "kernelspec": {
   "display_name": "Python 3",
   "language": "python",
   "name": "python3"
  },
  "language_info": {
   "codemirror_mode": {
    "name": "ipython",
    "version": 3
   },
   "file_extension": ".py",
   "mimetype": "text/x-python",
   "name": "python",
   "nbconvert_exporter": "python",
   "pygments_lexer": "ipython3",
   "version": "3.11.3"
  }
 },
 "nbformat": 4,
 "nbformat_minor": 2
}
