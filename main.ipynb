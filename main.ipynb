{
 "cells": [
  {
   "cell_type": "code",
   "execution_count": 21,
   "metadata": {},
   "outputs": [],
   "source": [
    "import gc\n",
    "import sys\n",
    "from statistics import mean\n",
    "import time\n",
    "import torch\n",
    "from tqdm import tqdm\n",
    "from torchinfo import summary\n",
    "import numpy as np\n",
    "import itertools\n",
    "from pathlib import Path\n",
    "from scipy import special\n",
    "import matplotlib.pyplot as plt\n",
    "import datetime\n",
    "import torch.linalg as LA\n",
    "from torch.distributions.laplace import Laplace\n",
    "\n",
    "\n",
    "\n",
    "import utils\n",
    "import models\n",
    "import learning_utils\n",
    "from configurations import args_parser, arguments\n",
    "\n"
   ]
  },
  {
   "cell_type": "code",
   "execution_count": 22,
   "metadata": {},
   "outputs": [
    {
     "name": "stdout",
     "output_type": "stream",
     "text": [
      "The autoreload extension is already loaded. To reload it, use:\n",
      "  %reload_ext autoreload\n",
      "{'exp_name': None, 'eval': False, 'data': 'mnist', 'norm_std': 0.5, 'norm_mean': 0.5, 'train_batch_size': 20, 'test_batch_size': 1000, 'model': 'cnn2', 'num_users': 30, 'num_users_per_round': 5, 'local_epochs': 1, 'local_iterations': 100, 'global_epochs': 200, 'tau_min': 0.05, 'privacy_noise': 'laplace', 'epsilon_bar': 400, 'optimizer': 'Adam', 'lr': 0.01, 'momentum': 0.5, 'lr_scheduler': False, 'device': device(type='cpu'), 'seed': 0, 'zeta_coeff': 1.05, 'alpha': 10, 'beta': 2, 'gamma': 1, 'max_seconds': 300, 'method_choosing_users': 'ALSA', 'data_truncation': 1750, 'choosing_users_verbose': True, 'save_best_model': False, 'privacy': True, 'privacy_choosing_users': True, 'epsilon_sum_deascent_coeff': 0.02, 'delta_f': 0.0008, 'snr_verbose': True, 'max_iterations_alsa': 500, 'ALSA_simulation': False, 'ALSA_verbose': False, 'beta_max_reduction': 20}\n"
     ]
    }
   ],
   "source": [
    "%load_ext autoreload\n",
    "%autoreload 2\n",
    "\n",
    "\n",
    "start_time = time.time()\n",
    "args = arguments()\n",
    "#boardio is for the the tensorboardx prensetaion and textio is for written documentation\n",
    "boardio, textio, best_val_acc, path_best_model, last_model_path = utils.initializations(args)\n",
    "textio.cprint(str(args) if args.__class__.__name__ == 'Namespace' else str(vars(args)))\n",
    "\n",
    "#mnist_train_data, mnist_test_loader  = utils.data(args)\n",
    "\n",
    "\n",
    "\n"
   ]
  },
  {
   "cell_type": "code",
   "execution_count": 23,
   "metadata": {},
   "outputs": [
    {
     "name": "stdout",
     "output_type": "stream",
     "text": [
      "=================================================================\n",
      "Layer (type:depth-idx)                   Param #\n",
      "=================================================================\n",
      "CNN2Layer                                --\n",
      "├─Conv2d: 1-1                            156\n",
      "├─Conv2d: 1-2                            906\n",
      "├─Linear: 1-3                            4,850\n",
      "├─Linear: 1-4                            510\n",
      "├─Dropout: 1-5                           --\n",
      "├─Dropout: 1-6                           --\n",
      "├─BatchNorm2d: 1-7                       12\n",
      "├─BatchNorm1d: 1-8                       100\n",
      "=================================================================\n",
      "Total params: 6,534\n",
      "Trainable params: 6,534\n",
      "Non-trainable params: 0\n",
      "=================================================================\n",
      "global model's device: cpu\n"
     ]
    }
   ],
   "source": [
    "# data\n",
    "train_data, test_loader = utils.data(args)\n",
    "#input in the CNNs is the number of channels and in linear models is the size of the flatten pictures\n",
    "input, output, train_data, val_loader = utils.data_split(train_data, len(test_loader.dataset), args)\n",
    "\n",
    "# model\n",
    "if args.model == 'mlp':\n",
    "    global_model = models.FC2Layer(input, output)\n",
    "elif args.model == 'cnn2':\n",
    "    global_model = models.CNN2Layer(input, output, args.data)\n",
    "elif args.model == 'cnn3':\n",
    "    if args.data == 'cifar10':\n",
    "        global_model = models.CNN3LayerCifar()\n",
    "    else:\n",
    "        global_model = models.CNN3LayerMnist()\n",
    "elif args.model == 'cnn5':\n",
    "    if args.data == 'mnist' or args.data == 'fashion mnist':\n",
    "        raise ValueError('CNN5 is not supported for MNIST type datasets')\n",
    "    global_model = models.CNN5Layer(input, output)\n",
    "elif args.model == 'linear':\n",
    "    global_model = models.Linear(input, output)\n",
    "\n",
    "\n",
    "\n",
    "textio.cprint(str(summary(global_model)).encode('utf-8', errors='ignore').decode('utf-8', errors='ignore'))\n",
    "global_model = global_model.to(args.device)\n",
    "print(f\"global model's device: {next(global_model.parameters()).device}\")\n",
    "\n",
    "train_criterion = torch.nn.CrossEntropyLoss(reduction='mean')\n",
    "test_criterion = torch.nn.CrossEntropyLoss(reduction='sum')\n",
    "\n",
    "local_models = utils.federated_setup(global_model, train_data, args, i_i_d=True)\n",
    "utils.update_data_equility_partititon(local_models, args)\n",
    "\n",
    "\n",
    "\n"
   ]
  },
  {
   "cell_type": "code",
   "execution_count": 24,
   "metadata": {},
   "outputs": [],
   "source": [
    "# for i in range(100):\n",
    "#     local_models[0].update_privacy_violation_and_reward()\n",
    "#     print(f\"iteration {i}, next_privacy_term is {local_models[0].next_privacy_term}\")"
   ]
  },
  {
   "cell_type": "code",
   "execution_count": 25,
   "metadata": {},
   "outputs": [
    {
     "name": "stderr",
     "output_type": "stream",
     "text": [
      "  4%|▎         | 7/200 [00:00<00:11, 16.36it/s]"
     ]
    },
    {
     "name": "stdout",
     "output_type": "stream",
     "text": [
      "iteration: 1\n",
      "[0, 1, 2, 3, 4, 5, 6, 7, 8, 9, 10, 11, 12, 13, 14, 15, 16, 17, 18, 19, 20, 21, 22, 23, 24, 25, 26, 27, 28, 29]\n",
      "user 6, g: 0.027777777777777776, ucb: inf, num_of_obs: 1, privacy reward: 0.9801986733067553, curr_delay = 0.13849360544433548\n",
      "user 22, g: 0.027777777777777776, ucb: inf, num_of_obs: 1, privacy reward: 0.9801986733067553, curr_delay = 0.8011717532223018\n",
      "user 24, g: 0.027777777777777776, ucb: inf, num_of_obs: 1, privacy reward: 0.9801986733067553, curr_delay = 0.8300878615351364\n",
      "user 17, g: 0.027777777777777776, ucb: inf, num_of_obs: 1, privacy reward: 0.9801986733067553, curr_delay = 0.7207796891795588\n",
      "user 27, g: 0.027777777777777776, ucb: inf, num_of_obs: 1, privacy reward: 0.9801986733067553, curr_delay = 0.8872186616668128\n",
      "max_delay = 0.89 seconds\n",
      "iteration: 2\n",
      "[0, 1, 2, 3, 4, 5, 7, 8, 9, 10, 11, 12, 13, 14, 15, 16, 18, 19, 20, 21, 23, 25, 26, 28, 29]\n",
      "user 21, g: 0.027777777777777776, ucb: inf, num_of_obs: 1, privacy reward: 0.9801986733067553, curr_delay = 0.8240326371462802\n",
      "user 7, g: 0.027777777777777776, ucb: inf, num_of_obs: 1, privacy reward: 0.9801986733067553, curr_delay = 0.1575976845729729\n",
      "user 18, g: 0.027777777777777776, ucb: inf, num_of_obs: 1, privacy reward: 0.9801986733067553, curr_delay = 0.7509534677056341\n",
      "user 12, g: 0.027777777777777776, ucb: inf, num_of_obs: 1, privacy reward: 0.9801986733067553, curr_delay = 0.1620659960624177\n",
      "user 13, g: 0.027777777777777776, ucb: inf, num_of_obs: 1, privacy reward: 0.9801986733067553, curr_delay = 0.1846497775287727\n",
      "max_delay = 0.82 seconds\n",
      "iteration: 3\n",
      "[0, 1, 2, 3, 4, 5, 8, 9, 10, 11, 14, 15, 16, 19, 20, 23, 25, 26, 28, 29]\n",
      "user 20, g: 0.027777777777777776, ucb: inf, num_of_obs: 1, privacy reward: 0.9801986733067553, curr_delay = 0.7672286824307695\n",
      "user 8, g: 0.027777777777777776, ucb: inf, num_of_obs: 1, privacy reward: 0.9801986733067553, curr_delay = 0.13924643297152461\n",
      "user 5, g: 0.027777777777777776, ucb: inf, num_of_obs: 1, privacy reward: 0.9801986733067553, curr_delay = 0.12634480743753906\n",
      "user 4, g: 0.027777777777777776, ucb: inf, num_of_obs: 1, privacy reward: 0.9801986733067553, curr_delay = 0.09536856375198699\n",
      "user 29, g: 0.027777777777777776, ucb: inf, num_of_obs: 1, privacy reward: 0.9801986733067553, curr_delay = 0.94570802628688\n",
      "max_delay = 0.95 seconds\n",
      "iteration: 4\n",
      "[0, 1, 2, 3, 9, 10, 11, 14, 15, 16, 19, 23, 25, 26, 28]\n",
      "user 1, g: 0.027777777777777776, ucb: inf, num_of_obs: 1, privacy reward: 0.9801986733067553, curr_delay = 0.0976243280394926\n",
      "user 14, g: 0.027777777777777776, ucb: inf, num_of_obs: 1, privacy reward: 0.9801986733067553, curr_delay = 0.21356358758124064\n",
      "user 28, g: 0.027777777777777776, ucb: inf, num_of_obs: 1, privacy reward: 0.9801986733067553, curr_delay = 0.9011784679272412\n",
      "user 23, g: 0.027777777777777776, ucb: inf, num_of_obs: 1, privacy reward: 0.9801986733067553, curr_delay = 0.8200856920339938\n",
      "user 10, g: 0.027777777777777776, ucb: inf, num_of_obs: 1, privacy reward: 0.9801986733067553, curr_delay = 0.12681251719526043\n",
      "max_delay = 0.90 seconds\n",
      "iteration: 5\n",
      "[0, 2, 3, 9, 11, 15, 16, 19, 25, 26]\n",
      "user 25, g: 0.027777777777777776, ucb: inf, num_of_obs: 1, privacy reward: 0.9801986733067553, curr_delay = 0.8419255594582585\n",
      "user 26, g: 0.027777777777777776, ucb: inf, num_of_obs: 1, privacy reward: 0.9801986733067553, curr_delay = 0.8747219880294783\n",
      "user 11, g: 0.027777777777777776, ucb: inf, num_of_obs: 1, privacy reward: 0.9801986733067553, curr_delay = 0.1742242802227373\n",
      "user 2, g: 0.027777777777777776, ucb: inf, num_of_obs: 1, privacy reward: 0.9801986733067553, curr_delay = 0.05378360776554564\n",
      "user 0, g: 0.027777777777777776, ucb: inf, num_of_obs: 1, privacy reward: 0.9801986733067553, curr_delay = 0.06550668857369926\n",
      "max_delay = 0.87 seconds\n",
      "iteration: 6\n",
      "[3, 9, 15, 16, 19]\n",
      "user 16, g: 0.027777777777777776, ucb: inf, num_of_obs: 1, privacy reward: 0.9801986733067553, curr_delay = 0.7195078212389844\n",
      "user 3, g: 0.027777777777777776, ucb: inf, num_of_obs: 1, privacy reward: 0.9801986733067553, curr_delay = 0.07571334348451415\n",
      "user 15, g: 0.027777777777777776, ucb: inf, num_of_obs: 1, privacy reward: 0.9801986733067553, curr_delay = 0.7045127763337379\n",
      "user 9, g: 0.027777777777777776, ucb: inf, num_of_obs: 1, privacy reward: 0.9801986733067553, curr_delay = 0.1603452961464339\n",
      "user 19, g: 0.027777777777777776, ucb: inf, num_of_obs: 1, privacy reward: 0.9801986733067553, curr_delay = 0.7673713330307763\n",
      "max_delay = 0.77 seconds\n",
      "iteration: 7\n",
      "user 0, g: 0.0005668934240362811, ucb: 8.403785038435291, num_of_obs: 2, privacy reward: 0.9607894391523231, curr_delay = 0.07496186427449751\n",
      "user 1, g: 0.0005668934240362811, ucb: 8.152671620445938, num_of_obs: 2, privacy reward: 0.9607894391523231, curr_delay = 0.07049946087991554\n",
      "user 2, g: 0.0005668934240362811, ucb: 8.570155486388611, num_of_obs: 2, privacy reward: 0.9607894391523231, curr_delay = 0.1022550274385837\n",
      "user 3, g: 0.0005668934240362811, ucb: 8.300889779400011, num_of_obs: 2, privacy reward: 0.9607894391523231, curr_delay = 0.09799850530182325\n",
      "user 4, g: 0.0005668934240362811, ucb: 8.164785978937829, num_of_obs: 2, privacy reward: 0.9607894391523231, curr_delay = 0.10617486068896635\n",
      "max_delay = 0.11 seconds\n",
      "iteration: 8\n",
      "user 10, g: 0.0017361111111111104, ucb: 8.292589387718623, num_of_obs: 2, privacy reward: 0.9607894391523231, curr_delay = 0.17200882567517808\n",
      "user 5, g: 0.0017361111111111104, ucb: 8.294048964391559, num_of_obs: 2, privacy reward: 0.9607894391523231, curr_delay = 0.09392372055539569\n",
      "user 6, g: 0.0017361111111111104, ucb: 8.259334042194816, num_of_obs: 2, privacy reward: 0.9607894391523231, curr_delay = 0.13028054340683992\n",
      "user 7, g: 0.0017361111111111104, ucb: 8.215570087622435, num_of_obs: 2, privacy reward: 0.9607894391523231, curr_delay = 0.13687176924825573\n",
      "user 8, g: 0.0017361111111111104, ucb: 8.25738216857397, num_of_obs: 2, privacy reward: 0.9607894391523231, curr_delay = 0.13455219968125723\n",
      "max_delay = 0.17 seconds\n",
      "iteration: 9\n"
     ]
    },
    {
     "name": "stderr",
     "output_type": "stream",
     "text": [
      "  4%|▍         | 9/200 [00:01<00:36,  5.26it/s]"
     ]
    },
    {
     "name": "stdout",
     "output_type": "stream",
     "text": [
      "user 12, g: 0.0030864197530864196, ucb: 8.427428614694987, num_of_obs: 2, privacy reward: 0.9607894391523231, curr_delay = 0.20097624284468188\n",
      "user 13, g: 0.0030864197530864196, ucb: 8.389695211559236, num_of_obs: 2, privacy reward: 0.9607894391523231, curr_delay = 0.1565390614520586\n",
      "user 14, g: 0.0030864197530864196, ucb: 8.35303463157268, num_of_obs: 2, privacy reward: 0.9607894391523231, curr_delay = 0.21964056743421995\n",
      "user 16, g: 0.0030864197530864196, ucb: 8.188404271572004, num_of_obs: 2, privacy reward: 0.9607894391523231, curr_delay = 0.7206545290753982\n",
      "user 9, g: 0.0030864197530864196, ucb: 8.430739369476925, num_of_obs: 2, privacy reward: 0.9607894391523231, curr_delay = 0.16139960573235007\n",
      "max_delay = 0.72 seconds\n",
      "iteration: 10\n"
     ]
    },
    {
     "name": "stderr",
     "output_type": "stream",
     "text": [
      "  6%|▌         | 11/200 [00:02<01:01,  3.06it/s]"
     ]
    },
    {
     "name": "stdout",
     "output_type": "stream",
     "text": [
      "user 11, g: 0.004444444444444443, ucb: 8.59827708723615, num_of_obs: 2, privacy reward: 0.9607894391523231, curr_delay = 0.16858164094889405\n",
      "user 15, g: 0.004444444444444443, ucb: 8.382261715057952, num_of_obs: 2, privacy reward: 0.9607894391523231, curr_delay = 0.7149518626565735\n",
      "user 17, g: 0.004444444444444443, ucb: 8.380660005635075, num_of_obs: 2, privacy reward: 0.9607894391523231, curr_delay = 0.7366449962990969\n",
      "user 18, g: 0.004444444444444443, ucb: 8.377872702935734, num_of_obs: 2, privacy reward: 0.9607894391523231, curr_delay = 0.7552363331015601\n",
      "user 20, g: 0.004444444444444443, ucb: 8.37646029914658, num_of_obs: 2, privacy reward: 0.9607894391523231, curr_delay = 0.7792718236517056\n",
      "max_delay = 0.78 seconds\n",
      "iteration: 11\n",
      "user 19, g: 0.005739210284664828, ucb: 8.546717394046492, num_of_obs: 2, privacy reward: 0.9607894391523231, curr_delay = 0.770759972870536\n",
      "user 22, g: 0.005739210284664828, ucb: 8.543968481626557, num_of_obs: 2, privacy reward: 0.9607894391523231, curr_delay = 0.8091365624313918\n",
      "user 23, g: 0.005739210284664828, ucb: 8.542529129280032, num_of_obs: 2, privacy reward: 0.9607894391523231, curr_delay = 0.8368979407638141\n",
      "user 24, g: 0.005739210284664828, ucb: 8.541794478546917, num_of_obs: 2, privacy reward: 0.9607894391523231, curr_delay = 0.853406949379361\n",
      "user 25, g: 0.005739210284664828, ucb: 8.540947564179772, num_of_obs: 2, privacy reward: 0.9607894391523231, curr_delay = 0.8455956071735032\n",
      "max_delay = 0.85 seconds\n",
      "iteration: 12\n"
     ]
    },
    {
     "name": "stderr",
     "output_type": "stream",
     "text": [
      "  6%|▌         | 12/200 [00:03<01:13,  2.55it/s]"
     ]
    },
    {
     "name": "stdout",
     "output_type": "stream",
     "text": [
      "user 21, g: 0.006944444444444444, ucb: 8.694749219481404, num_of_obs: 2, privacy reward: 0.9607894391523231, curr_delay = 0.7723220774940904\n",
      "user 26, g: 0.006944444444444444, ucb: 8.691233029942259, num_of_obs: 2, privacy reward: 0.9607894391523231, curr_delay = 0.8608808158185132\n",
      "user 27, g: 0.006944444444444444, ucb: 8.690427904185162, num_of_obs: 2, privacy reward: 0.9607894391523231, curr_delay = 0.8557444684179888\n",
      "user 28, g: 0.006944444444444444, ucb: 8.689554916895217, num_of_obs: 2, privacy reward: 0.9607894391523231, curr_delay = 0.8733936301706746\n",
      "user 29, g: 0.006944444444444444, ucb: 8.686942451714753, num_of_obs: 2, privacy reward: 0.9607894391523231, curr_delay = 0.907615255875308\n",
      "max_delay = 0.91 seconds\n",
      "iteration: 13\n"
     ]
    },
    {
     "name": "stderr",
     "output_type": "stream",
     "text": [
      "  7%|▋         | 14/200 [00:04<01:15,  2.47it/s]"
     ]
    },
    {
     "name": "stdout",
     "output_type": "stream",
     "text": [
      "user 0, g: 0.00016436554898093314, ucb: 6.917904034408428, num_of_obs: 3, privacy reward: 0.9417645335842486, curr_delay = 0.05590805601010199\n",
      "user 1, g: 0.00016436554898093314, ucb: 6.813457054574498, num_of_obs: 3, privacy reward: 0.9417645335842486, curr_delay = 0.09283965870278651\n",
      "user 2, g: 0.00016436554898093314, ucb: 6.9120731032677964, num_of_obs: 3, privacy reward: 0.9417645335842486, curr_delay = 0.07374084594248\n",
      "user 3, g: 0.00016436554898093314, ucb: 6.7880594249151995, num_of_obs: 3, privacy reward: 0.9417645335842486, curr_delay = 0.0811516106929895\n",
      "user 4, g: 0.00016436554898093314, ucb: 6.700362226866966, num_of_obs: 3, privacy reward: 0.9417645335842486, curr_delay = 0.10516406459064248\n",
      "max_delay = 0.11 seconds\n",
      "iteration: 14\n",
      "user 10, g: 0.0005668934240362811, ucb: 6.634212289229031, num_of_obs: 3, privacy reward: 0.9417645335842486, curr_delay = 0.15714548867945566\n",
      "user 5, g: 0.0005668934240362811, ucb: 6.755774140275013, num_of_obs: 3, privacy reward: 0.9417645335842486, curr_delay = 0.08081477185184538\n",
      "user 6, g: 0.0005668934240362811, ucb: 6.664136817955323, num_of_obs: 3, privacy reward: 0.9417645335842486, curr_delay = 0.11834784317552881\n",
      "user 7, g: 0.0005668934240362811, ucb: 6.6330139728380075, num_of_obs: 3, privacy reward: 0.9417645335842486, curr_delay = 0.15065221467204037\n",
      "user 8, g: 0.0005668934240362811, ucb: 6.657068796281577, num_of_obs: 3, privacy reward: 0.9417645335842486, curr_delay = 0.13827171906665603\n",
      "max_delay = 0.16 seconds\n",
      "iteration: 15\n"
     ]
    },
    {
     "name": "stderr",
     "output_type": "stream",
     "text": [
      "  8%|▊         | 15/200 [00:04<01:19,  2.32it/s]"
     ]
    },
    {
     "name": "stdout",
     "output_type": "stream",
     "text": [
      "user 12, g: 0.0011111111111111107, ucb: 6.652092180019069, num_of_obs: 3, privacy reward: 0.9417645335842486, curr_delay = 0.18524916036100098\n",
      "user 13, g: 0.0011111111111111107, ucb: 6.668537214072538, num_of_obs: 3, privacy reward: 0.9417645335842486, curr_delay = 0.20376303994407172\n",
      "user 15, g: 0.0011111111111111107, ucb: 6.443894128489035, num_of_obs: 3, privacy reward: 0.9417645335842486, curr_delay = 0.6943142861795093\n",
      "user 17, g: 0.0011111111111111107, ucb: 6.442063534555014, num_of_obs: 3, privacy reward: 0.9417645335842486, curr_delay = 0.7710910584273055\n",
      "user 9, g: 0.0011111111111111107, ucb: 6.684249795374105, num_of_obs: 3, privacy reward: 0.9417645335842486, curr_delay = 0.14440603232083382\n",
      "max_delay = 0.77 seconds\n",
      "iteration: 16\n"
     ]
    },
    {
     "name": "stderr",
     "output_type": "stream",
     "text": [
      "  8%|▊         | 16/200 [00:05<01:25,  2.14it/s]"
     ]
    },
    {
     "name": "stdout",
     "output_type": "stream",
     "text": [
      "user 11, g: 0.0017361111111111104, ucb: 6.7407295912753975, num_of_obs: 3, privacy reward: 0.9417645335842486, curr_delay = 0.18995997594295688\n",
      "user 14, g: 0.0017361111111111104, ucb: 6.679823766349161, num_of_obs: 3, privacy reward: 0.9417645335842486, curr_delay = 0.19599595490908603\n",
      "user 16, g: 0.0017361111111111104, ucb: 6.51837694759912, num_of_obs: 3, privacy reward: 0.9417645335842486, curr_delay = 0.7129128886105898\n",
      "user 20, g: 0.0017361111111111104, ucb: 6.513606328331875, num_of_obs: 3, privacy reward: 0.9417645335842486, curr_delay = 0.7567230407313238\n",
      "user 21, g: 0.0017361111111111104, ucb: 6.511648806810605, num_of_obs: 3, privacy reward: 0.9417645335842486, curr_delay = 0.7797847255884157\n",
      "max_delay = 0.78 seconds\n",
      "iteration: 17\n"
     ]
    },
    {
     "name": "stderr",
     "output_type": "stream",
     "text": [
      "  8%|▊         | 17/200 [00:05<01:35,  1.92it/s]"
     ]
    },
    {
     "name": "stdout",
     "output_type": "stream",
     "text": [
      "user 19, g: 0.002402921953094963, ucb: 6.58407863325373, num_of_obs: 3, privacy reward: 0.9417645335842486, curr_delay = 0.7466697748896686\n",
      "user 22, g: 0.002402921953094963, ucb: 6.581165790731273, num_of_obs: 3, privacy reward: 0.9417645335842486, curr_delay = 0.7971948797744235\n",
      "user 23, g: 0.002402921953094963, ucb: 6.579421202251087, num_of_obs: 3, privacy reward: 0.9417645335842486, curr_delay = 0.8270148631559614\n",
      "user 24, g: 0.002402921953094963, ucb: 6.578476003984079, num_of_obs: 3, privacy reward: 0.9417645335842486, curr_delay = 0.8404966052774716\n",
      "user 25, g: 0.002402921953094963, ucb: 6.578323158631402, num_of_obs: 3, privacy reward: 0.9417645335842486, curr_delay = 0.8606704196146271\n",
      "max_delay = 0.86 seconds\n",
      "iteration: 18\n"
     ]
    },
    {
     "name": "stderr",
     "output_type": "stream",
     "text": [
      " 10%|▉         | 19/200 [00:06<01:31,  1.97it/s]"
     ]
    },
    {
     "name": "stdout",
     "output_type": "stream",
     "text": [
      "user 18, g: 0.0030864197530864196, ucb: 6.650888380881738, num_of_obs: 3, privacy reward: 0.9417645335842486, curr_delay = 0.7414245985626411\n",
      "user 26, g: 0.0030864197530864196, ucb: 6.642115683012366, num_of_obs: 3, privacy reward: 0.9417645335842486, curr_delay = 0.846315351905924\n",
      "user 27, g: 0.0030864197530864196, ucb: 6.6418874240994965, num_of_obs: 3, privacy reward: 0.9417645335842486, curr_delay = 0.8490549718944367\n",
      "user 28, g: 0.0030864197530864196, ucb: 6.640860579905671, num_of_obs: 3, privacy reward: 0.9417645335842486, curr_delay = 0.8840104427623957\n",
      "user 29, g: 0.0030864197530864196, ucb: 6.638475080464442, num_of_obs: 3, privacy reward: 0.9417645335842486, curr_delay = 0.90853160130567\n",
      "max_delay = 0.91 seconds\n",
      "iteration: 19\n",
      "user 0, g: 7.694675284702985e-05, ucb: 6.201139214914373, num_of_obs: 4, privacy reward: 0.9231163463866355, curr_delay = 0.06561187692791678\n",
      "user 1, g: 7.694675284702985e-05, ucb: 6.012920377544305, num_of_obs: 4, privacy reward: 0.9231163463866355, curr_delay = 0.05072633311652869\n",
      "user 2, g: 7.694675284702985e-05, ucb: 6.1251601827538655, num_of_obs: 4, privacy reward: 0.9231163463866355, curr_delay = 0.07933503794049229\n",
      "user 3, g: 7.694675284702985e-05, ucb: 6.021844548114912, num_of_obs: 4, privacy reward: 0.9231163463866355, curr_delay = 0.08739546316228716\n",
      "user 5, g: 7.694675284702985e-05, ucb: 5.9418645214921035, num_of_obs: 4, privacy reward: 0.9231163463866355, curr_delay = 0.10362985854619759\n",
      "max_delay = 0.10 seconds\n",
      "iteration: 20\n",
      "user 10, g: 0.00027777777777777767, ucb: 5.807709002897065, num_of_obs: 4, privacy reward: 0.9231163463866355, curr_delay = 0.17251331992308336\n",
      "user 4, g: 0.00027777777777777767, ucb: 5.963545179734382, num_of_obs: 4, privacy reward: 0.9231163463866355, curr_delay = 0.1266663257567604\n",
      "user 6, g: 0.00027777777777777767, ucb: 5.862427661075097, num_of_obs: 4, privacy reward: 0.9231163463866355, curr_delay = 0.12263024190747286\n",
      "user 7, g: 0.00027777777777777767, ucb: 5.811481376017775, num_of_obs: 4, privacy reward: 0.9231163463866355, curr_delay = 0.11933140289078875\n",
      "user 8, g: 0.00027777777777777767, ucb: 5.837423459077538, num_of_obs: 4, privacy reward: 0.9231163463866355, curr_delay = 0.14835652754360798\n",
      "max_delay = 0.17 seconds\n"
     ]
    },
    {
     "name": "stderr",
     "output_type": "stream",
     "text": [
      " 10%|█         | 21/200 [00:07<01:25,  2.08it/s]"
     ]
    },
    {
     "name": "stdout",
     "output_type": "stream",
     "text": [
      "iteration: 21\n",
      "user 11, g: 0.0005668934240362811, ucb: 5.799983111044707, num_of_obs: 4, privacy reward: 0.9231163463866355, curr_delay = 0.18790971978311238\n",
      "user 12, g: 0.0005668934240362811, ucb: 5.793455351978931, num_of_obs: 4, privacy reward: 0.9231163463866355, curr_delay = 0.19452519058717788\n",
      "user 15, g: 0.0005668934240362811, ucb: 5.588692231269755, num_of_obs: 4, privacy reward: 0.9231163463866355, curr_delay = 0.7063127669607943\n",
      "user 16, g: 0.0005668934240362811, ucb: 5.587388500123594, num_of_obs: 4, privacy reward: 0.9231163463866355, curr_delay = 0.7213448186873828\n",
      "user 17, g: 0.0005668934240362811, ucb: 5.585081731134512, num_of_obs: 4, privacy reward: 0.9231163463866355, curr_delay = 0.7375949297659169\n",
      "max_delay = 0.74 seconds\n"
     ]
    },
    {
     "name": "stderr",
     "output_type": "stream",
     "text": [
      " 11%|█         | 22/200 [00:08<01:31,  1.94it/s]"
     ]
    },
    {
     "name": "stdout",
     "output_type": "stream",
     "text": [
      "iteration: 22\n",
      "user 13, g: 0.0009182736455463729, ucb: 5.838239446380423, num_of_obs: 4, privacy reward: 0.9231163463866355, curr_delay = 0.1996575635723306\n",
      "user 14, g: 0.0009182736455463729, ucb: 5.798672516868695, num_of_obs: 4, privacy reward: 0.9231163463866355, curr_delay = 0.1974541417936227\n",
      "user 19, g: 0.0009182736455463729, ucb: 5.6253786120414615, num_of_obs: 4, privacy reward: 0.9231163463866355, curr_delay = 0.7528298488683239\n",
      "user 20, g: 0.0009182736455463729, ucb: 5.624849913732933, num_of_obs: 4, privacy reward: 0.9231163463866355, curr_delay = 0.764234752290895\n",
      "user 9, g: 0.0009182736455463729, ucb: 5.882335452183169, num_of_obs: 4, privacy reward: 0.9231163463866355, curr_delay = 0.14551638996192504\n",
      "max_delay = 0.76 seconds\n",
      "iteration: 23\n"
     ]
    },
    {
     "name": "stderr",
     "output_type": "stream",
     "text": [
      " 12%|█▏        | 23/200 [00:08<01:37,  1.82it/s]"
     ]
    },
    {
     "name": "stdout",
     "output_type": "stream",
     "text": [
      "user 18, g: 0.0013127494223902538, ucb: 5.666289790372716, num_of_obs: 4, privacy reward: 0.9231163463866355, curr_delay = 0.7630456003959171\n",
      "user 21, g: 0.0013127494223902538, ucb: 5.662727488592392, num_of_obs: 4, privacy reward: 0.9231163463866355, curr_delay = 0.7718529783967119\n",
      "user 22, g: 0.0013127494223902538, ucb: 5.66185598148729, num_of_obs: 4, privacy reward: 0.9231163463866355, curr_delay = 0.8134969932842252\n",
      "user 23, g: 0.0013127494223902538, ucb: 5.659939083970429, num_of_obs: 4, privacy reward: 0.9231163463866355, curr_delay = 0.8242054970731708\n",
      "user 24, g: 0.0013127494223902538, ucb: 5.65898569661697, num_of_obs: 4, privacy reward: 0.9231163463866355, curr_delay = 0.8125920129787036\n",
      "max_delay = 0.82 seconds\n",
      "iteration: 24\n"
     ]
    },
    {
     "name": "stderr",
     "output_type": "stream",
     "text": [
      " 12%|█▏        | 24/200 [00:09<01:42,  1.73it/s]"
     ]
    },
    {
     "name": "stdout",
     "output_type": "stream",
     "text": [
      "user 25, g: 0.0017361111111111104, ucb: 5.696293632928966, num_of_obs: 4, privacy reward: 0.9231163463866355, curr_delay = 0.837861403973386\n",
      "user 26, g: 0.0017361111111111104, ucb: 5.695529919862841, num_of_obs: 4, privacy reward: 0.9231163463866355, curr_delay = 0.875698505995911\n",
      "user 27, g: 0.0017361111111111104, ucb: 5.695314203766672, num_of_obs: 4, privacy reward: 0.9231163463866355, curr_delay = 0.8685377304011594\n",
      "user 28, g: 0.0017361111111111104, ucb: 5.6938534462198245, num_of_obs: 4, privacy reward: 0.9231163463866355, curr_delay = 0.8599780081386346\n",
      "user 29, g: 0.0017361111111111104, ucb: 5.691754260303075, num_of_obs: 4, privacy reward: 0.9231163463866355, curr_delay = 0.9244256939712346\n",
      "max_delay = 0.92 seconds\n",
      "iteration: 25\n"
     ]
    },
    {
     "name": "stderr",
     "output_type": "stream",
     "text": [
      " 12%|█▎        | 25/200 [00:10<01:31,  1.91it/s]"
     ]
    },
    {
     "name": "stdout",
     "output_type": "stream",
     "text": [
      "user 0, g: 4.444444444444428e-05, ucb: 5.685074361338201, num_of_obs: 5, privacy reward: 0.9048374180359593, curr_delay = 0.05897238416544495\n",
      "user 1, g: 4.444444444444428e-05, ucb: 5.599816280575838, num_of_obs: 5, privacy reward: 0.9048374180359593, curr_delay = 0.0671444560760338\n",
      "user 2, g: 4.444444444444428e-05, ucb: 5.595135439263029, num_of_obs: 5, privacy reward: 0.9048374180359593, curr_delay = 0.05361132993493174\n",
      "user 3, g: 4.444444444444428e-05, ucb: 5.503117092894344, num_of_obs: 5, privacy reward: 0.9048374180359593, curr_delay = 0.08551993568695096\n",
      "user 5, g: 4.444444444444428e-05, ucb: 5.420725659849276, num_of_obs: 5, privacy reward: 0.9048374180359593, curr_delay = 0.07117380208245246\n",
      "max_delay = 0.09 seconds\n",
      "iteration: 26\n"
     ]
    },
    {
     "name": "stderr",
     "output_type": "stream",
     "text": [
      " 14%|█▎        | 27/200 [00:10<01:23,  2.08it/s]"
     ]
    },
    {
     "name": "stdout",
     "output_type": "stream",
     "text": [
      "user 10, g: 0.00016436554898093314, ucb: 5.266494047708782, num_of_obs: 5, privacy reward: 0.9048374180359593, curr_delay = 0.18204106432822037\n",
      "user 11, g: 0.00016436554898093314, ucb: 5.221469644577583, num_of_obs: 5, privacy reward: 0.9048374180359593, curr_delay = 0.13673039503383252\n",
      "user 4, g: 0.00016436554898093314, ucb: 5.409597483344747, num_of_obs: 5, privacy reward: 0.9048374180359593, curr_delay = 0.11422581111120167\n",
      "user 7, g: 0.00016436554898093314, ucb: 5.301615452318468, num_of_obs: 5, privacy reward: 0.9048374180359593, curr_delay = 0.1354258830905336\n",
      "user 8, g: 0.00016436554898093314, ucb: 5.300578204843605, num_of_obs: 5, privacy reward: 0.9048374180359593, curr_delay = 0.13184280758668573\n",
      "max_delay = 0.18 seconds\n",
      "iteration: 27\n",
      "user 0, g: -0.0003429355281207133, ucb: 5.23381617921004, num_of_obs: 6, privacy reward: 0.8869204367171573, curr_delay = 0.08487272236246385\n",
      "user 12, g: 0.0003429355281207133, ucb: 5.242859312440294, num_of_obs: 5, privacy reward: 0.9048374180359593, curr_delay = 0.17845094289030064\n",
      "user 13, g: 0.0003429355281207133, ucb: 5.243299072722248, num_of_obs: 5, privacy reward: 0.9048374180359593, curr_delay = 0.20160470480226605\n",
      "user 6, g: 0.0003429355281207133, ucb: 5.365555073674472, num_of_obs: 5, privacy reward: 0.9048374180359593, curr_delay = 0.1147204383024914\n",
      "user 9, g: 0.0003429355281207133, ucb: 5.2996648586913375, num_of_obs: 5, privacy reward: 0.9048374180359593, curr_delay = 0.15340676012838136\n",
      "max_delay = 0.20 seconds\n"
     ]
    },
    {
     "name": "stderr",
     "output_type": "stream",
     "text": [
      " 14%|█▍        | 28/200 [00:11<01:26,  2.00it/s]"
     ]
    },
    {
     "name": "stdout",
     "output_type": "stream",
     "text": [
      "iteration: 28\n",
      "user 14, g: 0.0005668934240362811, ucb: 5.241677715181522, num_of_obs: 5, privacy reward: 0.9048374180359593, curr_delay = 0.21660682472775727\n",
      "user 15, g: 0.0005668934240362811, ucb: 5.070080680477864, num_of_obs: 5, privacy reward: 0.9048374180359593, curr_delay = 0.7141678595375963\n",
      "user 16, g: 0.0005668934240362811, ucb: 5.068734084335409, num_of_obs: 5, privacy reward: 0.9048374180359593, curr_delay = 0.7472153595595781\n",
      "user 17, g: 0.0005668934240362811, ucb: 5.066622234332593, num_of_obs: 5, privacy reward: 0.9048374180359593, curr_delay = 0.7150267287420573\n",
      "user 20, g: 0.0005668934240362811, ucb: 5.064361155196206, num_of_obs: 5, privacy reward: 0.9048374180359593, curr_delay = 0.8049856071004542\n",
      "max_delay = 0.80 seconds\n",
      "iteration: 29\n"
     ]
    },
    {
     "name": "stderr",
     "output_type": "stream",
     "text": [
      " 14%|█▍        | 29/200 [00:12<01:30,  1.88it/s]"
     ]
    },
    {
     "name": "stdout",
     "output_type": "stream",
     "text": [
      "user 18, g: 0.0008257365570088515, ucb: 5.091845091251636, num_of_obs: 5, privacy reward: 0.9048374180359593, curr_delay = 0.7501524053690255\n",
      "user 19, g: 0.0008257365570088515, ucb: 5.091259473998581, num_of_obs: 5, privacy reward: 0.9048374180359593, curr_delay = 0.7933715990807874\n",
      "user 21, g: 0.0008257365570088515, ucb: 5.088986438116057, num_of_obs: 5, privacy reward: 0.9048374180359593, curr_delay = 0.8268114612315677\n",
      "user 22, g: 0.0008257365570088515, ucb: 5.087503774307208, num_of_obs: 5, privacy reward: 0.9048374180359593, curr_delay = 0.806550837277729\n",
      "user 23, g: 0.0008257365570088515, ucb: 5.085866461267181, num_of_obs: 5, privacy reward: 0.9048374180359593, curr_delay = 0.8149342927595592\n",
      "max_delay = 0.83 seconds\n",
      "iteration: 30\n"
     ]
    },
    {
     "name": "stderr",
     "output_type": "stream",
     "text": [
      " 15%|█▌        | 30/200 [00:12<01:31,  1.86it/s]"
     ]
    },
    {
     "name": "stdout",
     "output_type": "stream",
     "text": [
      "user 24, g: 0.0011111111111111107, ucb: 5.1106024334261875, num_of_obs: 5, privacy reward: 0.9048374180359593, curr_delay = 0.8302888929590958\n",
      "user 25, g: 0.0011111111111111107, ucb: 5.1097134743930255, num_of_obs: 5, privacy reward: 0.9048374180359593, curr_delay = 0.842519654569621\n",
      "user 26, g: 0.0011111111111111107, ucb: 5.108496073587232, num_of_obs: 5, privacy reward: 0.9048374180359593, curr_delay = 0.8777709569627464\n",
      "user 27, g: 0.0011111111111111107, ucb: 5.108451973050763, num_of_obs: 5, privacy reward: 0.9048374180359593, curr_delay = 0.8670190496510294\n",
      "user 28, g: 0.0011111111111111107, ucb: 5.107499654567661, num_of_obs: 5, privacy reward: 0.9048374180359593, curr_delay = 0.891701967819261\n",
      "max_delay = 0.89 seconds\n",
      "iteration: 31\n"
     ]
    },
    {
     "name": "stderr",
     "output_type": "stream",
     "text": [
      " 16%|█▌        | 31/200 [00:13<01:24,  2.00it/s]"
     ]
    },
    {
     "name": "stdout",
     "output_type": "stream",
     "text": [
      "user 1, g: 2.8905075731298364e-05, ucb: 5.237214482091654, num_of_obs: 6, privacy reward: 0.8869204367171573, curr_delay = 0.06655122973417447\n",
      "user 2, g: 2.8905075731298364e-05, ucb: 5.271064921556336, num_of_obs: 6, privacy reward: 0.8869204367171573, curr_delay = 0.07654664113820005\n",
      "user 29, g: 0.001416348710833622, ucb: 5.129199307637372, num_of_obs: 5, privacy reward: 0.9048374180359593, curr_delay = 0.903900959156424\n",
      "user 3, g: 2.8905075731298364e-05, ucb: 5.127854308215778, num_of_obs: 6, privacy reward: 0.8869204367171573, curr_delay = 0.09635282506209944\n",
      "user 5, g: 2.8905075731298364e-05, ucb: 5.085510497317362, num_of_obs: 6, privacy reward: 0.8869204367171573, curr_delay = 0.11951458276980596\n",
      "max_delay = 0.90 seconds\n",
      "iteration: 32\n",
      "user 0, g: -0.0004340277777777782, ucb: 4.916713258230252, num_of_obs: 7, privacy reward: 0.8693582353988054, curr_delay = 0.05\n",
      "user 4, g: 0.00010850694444444425, ucb: 5.0207130019536805, num_of_obs: 6, privacy reward: 0.8869204367171573, curr_delay = 0.09959196338447178\n",
      "user 6, g: 0.00010850694444444425, ucb: 4.962263401581813, num_of_obs: 6, privacy reward: 0.8869204367171573, curr_delay = 0.11711636394247597\n",
      "user 7, g: 0.00010850694444444425, ucb: 4.9206226179504124, num_of_obs: 6, privacy reward: 0.8869204367171573, curr_delay = 0.13757108050021358\n",
      "user 8, g: 0.00010850694444444425, ucb: 4.921799591083851, num_of_obs: 6, privacy reward: 0.8869204367171573, curr_delay = 0.1372016607915902\n",
      "max_delay = 0.14 seconds\n"
     ]
    },
    {
     "name": "stderr",
     "output_type": "stream",
     "text": [
      " 16%|█▌        | 32/200 [00:13<01:17,  2.17it/s]"
     ]
    },
    {
     "name": "stdout",
     "output_type": "stream",
     "text": [
      "iteration: 33\n"
     ]
    },
    {
     "name": "stderr",
     "output_type": "stream",
     "text": [
      " 16%|█▋        | 33/200 [00:13<01:14,  2.24it/s]"
     ]
    },
    {
     "name": "stdout",
     "output_type": "stream",
     "text": [
      "user 1, g: -0.00022956841138659364, ucb: 4.888145983896113, num_of_obs: 7, privacy reward: 0.8693582353988054, curr_delay = 0.09077776543819537\n",
      "user 10, g: 0.0002295684113865928, ucb: 4.8938164043696055, num_of_obs: 6, privacy reward: 0.8869204367171573, curr_delay = 0.159242456376549\n",
      "user 11, g: 0.0002295684113865928, ucb: 4.876000848998601, num_of_obs: 6, privacy reward: 0.8869204367171573, curr_delay = 0.19808372708040617\n",
      "user 2, g: -0.00022956841138659364, ucb: 4.900003951284253, num_of_obs: 7, privacy reward: 0.8693582353988054, curr_delay = 0.09106466693785709\n",
      "user 9, g: 0.0002295684113865928, ucb: 4.907768357246523, num_of_obs: 6, privacy reward: 0.8869204367171573, curr_delay = 0.1479104821878592\n",
      "max_delay = 0.20 seconds\n",
      "iteration: 34\n"
     ]
    },
    {
     "name": "stderr",
     "output_type": "stream",
     "text": [
      " 17%|█▋        | 34/200 [00:14<01:18,  2.13it/s]"
     ]
    },
    {
     "name": "stdout",
     "output_type": "stream",
     "text": [
      "user 12, g: 0.0003844675124951936, ucb: 4.8726871056840855, num_of_obs: 6, privacy reward: 0.8869204367171573, curr_delay = 0.17006907675042057\n",
      "user 13, g: 0.0003844675124951936, ucb: 4.866603121114399, num_of_obs: 6, privacy reward: 0.8869204367171573, curr_delay = 0.16264961966703168\n",
      "user 14, g: 0.0003844675124951936, ucb: 4.839986458269346, num_of_obs: 6, privacy reward: 0.8869204367171573, curr_delay = 0.2012213775613908\n",
      "user 3, g: -9.611687812379895e-05, ucb: 4.776094904562477, num_of_obs: 7, privacy reward: 0.8693582353988054, curr_delay = 0.08940555413651412\n",
      "user 5, g: -9.611687812379895e-05, ucb: 4.724047202908163, num_of_obs: 7, privacy reward: 0.8693582353988054, curr_delay = 0.11451593537661481\n",
      "max_delay = 0.20 seconds\n",
      "iteration: 35\n"
     ]
    },
    {
     "name": "stderr",
     "output_type": "stream",
     "text": [
      " 18%|█▊        | 35/200 [00:14<01:23,  1.98it/s]"
     ]
    },
    {
     "name": "stdout",
     "output_type": "stream",
     "text": [
      "user 16, g: 0.0005668934240362811, ucb: 4.68771502145624, num_of_obs: 6, privacy reward: 0.8869204367171573, curr_delay = 0.7304256549011028\n",
      "user 17, g: 0.0005668934240362811, ucb: 4.686628010081354, num_of_obs: 6, privacy reward: 0.8869204367171573, curr_delay = 0.767513623960451\n",
      "user 18, g: 0.0005668934240362811, ucb: 4.685148222215772, num_of_obs: 6, privacy reward: 0.8869204367171573, curr_delay = 0.7481621461956034\n",
      "user 20, g: 0.0005668934240362811, ucb: 4.683256237960331, num_of_obs: 6, privacy reward: 0.8869204367171573, curr_delay = 0.7924716332102663\n",
      "user 21, g: 0.0005668934240362811, ucb: 4.681625331009854, num_of_obs: 6, privacy reward: 0.8869204367171573, curr_delay = 0.801514561068243\n",
      "max_delay = 0.80 seconds\n",
      "iteration: 36\n"
     ]
    },
    {
     "name": "stderr",
     "output_type": "stream",
     "text": [
      " 18%|█▊        | 36/200 [00:15<01:31,  1.80it/s]"
     ]
    },
    {
     "name": "stdout",
     "output_type": "stream",
     "text": [
      "user 15, g: 0.000771604938271604, ucb: 4.707673538045554, num_of_obs: 6, privacy reward: 0.8869204367171573, curr_delay = 0.7259143107397092\n",
      "user 19, g: 0.000771604938271604, ucb: 4.702215489893273, num_of_obs: 6, privacy reward: 0.8869204367171573, curr_delay = 0.7605634524450878\n",
      "user 22, g: 0.000771604938271604, ucb: 4.699004970601059, num_of_obs: 6, privacy reward: 0.8869204367171573, curr_delay = 0.7918738097980741\n",
      "user 23, g: 0.000771604938271604, ucb: 4.697567573617062, num_of_obs: 6, privacy reward: 0.8869204367171573, curr_delay = 0.8279932885628465\n",
      "user 25, g: 0.000771604938271604, ucb: 4.696056007472666, num_of_obs: 6, privacy reward: 0.8869204367171573, curr_delay = 0.8612642699304953\n",
      "max_delay = 0.86 seconds\n",
      "iteration: 37\n"
     ]
    },
    {
     "name": "stderr",
     "output_type": "stream",
     "text": [
      " 18%|█▊        | 37/200 [00:16<01:50,  1.47it/s]"
     ]
    },
    {
     "name": "stdout",
     "output_type": "stream",
     "text": [
      "user 24, g: 0.000994237480723966, ucb: 4.714634846522887, num_of_obs: 6, privacy reward: 0.8869204367171573, curr_delay = 0.8288076739246983\n",
      "user 26, g: 0.000994237480723966, ucb: 4.712298251550578, num_of_obs: 6, privacy reward: 0.8869204367171573, curr_delay = 0.8503473830721261\n",
      "user 27, g: 0.000994237480723966, ucb: 4.712404249487974, num_of_obs: 6, privacy reward: 0.8869204367171573, curr_delay = 0.8848162624414715\n",
      "user 28, g: 0.000994237480723966, ucb: 4.711323132033438, num_of_obs: 6, privacy reward: 0.8869204367171573, curr_delay = 0.8601345099184518\n",
      "user 29, g: 0.000994237480723966, ucb: 4.709101592932341, num_of_obs: 6, privacy reward: 0.8869204367171573, curr_delay = 0.9108007462489297\n",
      "max_delay = 0.91 seconds\n",
      "iteration: 38\n"
     ]
    },
    {
     "name": "stderr",
     "output_type": "stream",
     "text": [
      " 19%|█▉        | 38/200 [00:17<01:40,  1.61it/s]"
     ]
    },
    {
     "name": "stdout",
     "output_type": "stream",
     "text": [
      "user 2, g: -0.0003077870113881194, ucb: 4.64291788316354, num_of_obs: 8, privacy reward: 0.8521437889662109, curr_delay = 0.07265578908174308\n",
      "user 4, g: 7.694675284702985e-05, ucb: 4.732258785959395, num_of_obs: 7, privacy reward: 0.8693582353988054, curr_delay = 0.11669487887182692\n",
      "user 6, g: 7.694675284702985e-05, ucb: 4.671030332413549, num_of_obs: 7, privacy reward: 0.8693582353988054, curr_delay = 0.12216991741825031\n",
      "user 7, g: 7.694675284702985e-05, ucb: 4.625750122189381, num_of_obs: 7, privacy reward: 0.8693582353988054, curr_delay = 0.1308487965335962\n",
      "user 8, g: 7.694675284702985e-05, ucb: 4.626894032509605, num_of_obs: 7, privacy reward: 0.8693582353988054, curr_delay = 0.0917690870781829\n",
      "max_delay = 0.13 seconds\n",
      "iteration: 39\n"
     ]
    },
    {
     "name": "stderr",
     "output_type": "stream",
     "text": [
      " 20%|█▉        | 39/200 [00:17<01:35,  1.69it/s]"
     ]
    },
    {
     "name": "stdout",
     "output_type": "stream",
     "text": [
      "user 0, g: -0.00016436554898093385, ucb: 4.751537624868868, num_of_obs: 8, privacy reward: 0.8521437889662109, curr_delay = 0.05884506593099896\n",
      "user 1, g: -0.00016436554898093385, ucb: 4.647074121162769, num_of_obs: 8, privacy reward: 0.8521437889662109, curr_delay = 0.07897945041030235\n",
      "user 10, g: 0.00016436554898093314, ucb: 4.59353498496826, num_of_obs: 7, privacy reward: 0.8693582353988054, curr_delay = 0.18714274591507285\n",
      "user 11, g: 0.00016436554898093314, ucb: 4.568427338462365, num_of_obs: 7, privacy reward: 0.8693582353988054, curr_delay = 0.166419456431913\n",
      "user 9, g: 0.00016436554898093314, ucb: 4.609170893492346, num_of_obs: 7, privacy reward: 0.8693582353988054, curr_delay = 0.11366042301352029\n",
      "max_delay = 0.19 seconds\n",
      "iteration: 40\n"
     ]
    },
    {
     "name": "stderr",
     "output_type": "stream",
     "text": [
      " 20%|██        | 40/200 [00:18<01:30,  1.77it/s]"
     ]
    },
    {
     "name": "stdout",
     "output_type": "stream",
     "text": [
      "user 0, g: -0.0011111111111111124, ucb: 4.51598044349594, num_of_obs: 9, privacy reward: 0.8352702114112716, curr_delay = 0.07733096309470472\n",
      "user 12, g: 0.00027777777777777767, ucb: 4.571099420972796, num_of_obs: 7, privacy reward: 0.8693582353988054, curr_delay = 0.17232073125048533\n",
      "user 13, g: 0.00027777777777777767, ucb: 4.568264613687635, num_of_obs: 7, privacy reward: 0.8693582353988054, curr_delay = 0.19298719198543146\n",
      "user 14, g: 0.00027777777777777767, ucb: 4.536262941347952, num_of_obs: 7, privacy reward: 0.8693582353988054, curr_delay = 0.19848364976615343\n",
      "user 3, g: -6.944444444444442e-05, ucb: 4.5506390689849345, num_of_obs: 8, privacy reward: 0.8521437889662109, curr_delay = 0.09202010689906664\n",
      "max_delay = 0.20 seconds\n",
      "iteration: 41\n"
     ]
    },
    {
     "name": "stderr",
     "output_type": "stream",
     "text": [
      " 20%|██        | 41/200 [00:18<01:46,  1.49it/s]"
     ]
    },
    {
     "name": "stdout",
     "output_type": "stream",
     "text": [
      "user 15, g: 0.0004131138872364333, ucb: 4.379477296684176, num_of_obs: 7, privacy reward: 0.8693582353988054, curr_delay = 0.6927680500135076\n",
      "user 16, g: 0.0004131138872364333, ucb: 4.377992589969551, num_of_obs: 7, privacy reward: 0.8693582353988054, curr_delay = 0.7269424102658367\n",
      "user 18, g: 0.0004131138872364333, ucb: 4.37558312333436, num_of_obs: 7, privacy reward: 0.8693582353988054, curr_delay = 0.7636610340801996\n",
      "user 19, g: 0.0004131138872364333, ucb: 4.374405936788786, num_of_obs: 7, privacy reward: 0.8693582353988054, curr_delay = 0.7740311755071123\n",
      "user 21, g: 0.0004131138872364333, ucb: 4.371905958288262, num_of_obs: 7, privacy reward: 0.8693582353988054, curr_delay = 0.7948298400111565\n",
      "max_delay = 0.79 seconds\n",
      "iteration: 42\n"
     ]
    },
    {
     "name": "stderr",
     "output_type": "stream",
     "text": [
      " 21%|██        | 42/200 [00:20<02:06,  1.25it/s]"
     ]
    },
    {
     "name": "stdout",
     "output_type": "stream",
     "text": [
      "user 17, g: 0.0005668934240362811, ucb: 4.390493636921102, num_of_obs: 7, privacy reward: 0.8693582353988054, curr_delay = 0.742021734580396\n",
      "user 20, g: 0.0005668934240362811, ucb: 4.3873418797583135, num_of_obs: 7, privacy reward: 0.8693582353988054, curr_delay = 0.7680807309574239\n",
      "user 22, g: 0.0005668934240362811, ucb: 4.3852554691375945, num_of_obs: 7, privacy reward: 0.8693582353988054, curr_delay = 0.7946139216493388\n",
      "user 24, g: 0.0005668934240362811, ucb: 4.383067382577623, num_of_obs: 7, privacy reward: 0.8693582353988054, curr_delay = 0.8330880284721813\n",
      "user 25, g: 0.0005668934240362811, ucb: 4.381950136028859, num_of_obs: 7, privacy reward: 0.8693582353988054, curr_delay = 0.8613926072183127\n",
      "max_delay = 0.86 seconds\n",
      "iteration: 43\n"
     ]
    },
    {
     "name": "stderr",
     "output_type": "stream",
     "text": [
      " 22%|██▏       | 43/200 [00:21<02:18,  1.14it/s]"
     ]
    },
    {
     "name": "stdout",
     "output_type": "stream",
     "text": [
      "user 23, g: 0.000736133645814554, ucb: 4.397184949403808, num_of_obs: 7, privacy reward: 0.8693582353988054, curr_delay = 0.8277805973002701\n",
      "user 26, g: 0.000736133645814554, ucb: 4.394451911644028, num_of_obs: 7, privacy reward: 0.8693582353988054, curr_delay = 0.877074531570147\n",
      "user 27, g: 0.000736133645814554, ucb: 4.394158477966308, num_of_obs: 7, privacy reward: 0.8693582353988054, curr_delay = 0.8589616890430763\n",
      "user 28, g: 0.000736133645814554, ucb: 4.393527802713197, num_of_obs: 7, privacy reward: 0.8693582353988054, curr_delay = 0.915159994325828\n",
      "user 29, g: 0.000736133645814554, ucb: 4.391137571156629, num_of_obs: 7, privacy reward: 0.8693582353988054, curr_delay = 0.9192570085415208\n",
      "max_delay = 0.92 seconds\n",
      "iteration: 44\n"
     ]
    },
    {
     "name": "stderr",
     "output_type": "stream",
     "text": [
      " 22%|██▏       | 44/200 [00:21<02:07,  1.22it/s]"
     ]
    },
    {
     "name": "stdout",
     "output_type": "stream",
     "text": [
      "user 1, g: -0.00022956841138659364, ucb: 4.445240123925538, num_of_obs: 9, privacy reward: 0.8352702114112716, curr_delay = 0.0863576633361045\n",
      "user 2, g: -0.00022956841138659364, ucb: 4.460804229989822, num_of_obs: 9, privacy reward: 0.8352702114112716, curr_delay = 0.08177732492835384\n",
      "user 4, g: 5.73921028466482e-05, ucb: 4.489100051493852, num_of_obs: 8, privacy reward: 0.8521437889662109, curr_delay = 0.0829965205324994\n",
      "user 5, g: 5.73921028466482e-05, ucb: 4.539546522843077, num_of_obs: 8, privacy reward: 0.8521437889662109, curr_delay = 0.1011174141499729\n",
      "user 6, g: 5.73921028466482e-05, ucb: 4.433875410867067, num_of_obs: 8, privacy reward: 0.8521437889662109, curr_delay = 0.14327975739351362\n",
      "max_delay = 0.14 seconds\n",
      "iteration: 45\n"
     ]
    },
    {
     "name": "stderr",
     "output_type": "stream",
     "text": [
      " 22%|██▎       | 45/200 [00:22<02:02,  1.27it/s]"
     ]
    },
    {
     "name": "stdout",
     "output_type": "stream",
     "text": [
      "user 10, g: 0.00012345679012345652, ucb: 4.346063940082388, num_of_obs: 8, privacy reward: 0.8521437889662109, curr_delay = 0.17088508417277964\n",
      "user 3, g: -0.00012345679012345715, ucb: 4.348854306721406, num_of_obs: 9, privacy reward: 0.8352702114112716, curr_delay = 0.0630026431398128\n",
      "user 7, g: 0.00012345679012345652, ucb: 4.403126015926131, num_of_obs: 8, privacy reward: 0.8521437889662109, curr_delay = 0.15355710558233804\n",
      "user 8, g: 0.00012345679012345652, ucb: 4.4273529875731805, num_of_obs: 8, privacy reward: 0.8521437889662109, curr_delay = 0.13335766018816844\n",
      "user 9, g: 0.00012345679012345652, ucb: 4.384142023174024, num_of_obs: 8, privacy reward: 0.8521437889662109, curr_delay = 0.14460972763091642\n",
      "max_delay = 0.17 seconds\n",
      "iteration: 46\n"
     ]
    },
    {
     "name": "stderr",
     "output_type": "stream",
     "text": [
      " 23%|██▎       | 46/200 [00:23<01:52,  1.36it/s]"
     ]
    },
    {
     "name": "stdout",
     "output_type": "stream",
     "text": [
      "user 11, g: 0.0002100399075824401, ucb: 4.340939616741568, num_of_obs: 8, privacy reward: 0.8521437889662109, curr_delay = 0.134882817617336\n",
      "user 12, g: 0.0002100399075824401, ucb: 4.32910592737801, num_of_obs: 8, privacy reward: 0.8521437889662109, curr_delay = 0.19858178511786326\n",
      "user 13, g: 0.0002100399075824401, ucb: 4.322237226349387, num_of_obs: 8, privacy reward: 0.8521437889662109, curr_delay = 0.2059800374520048\n",
      "user 14, g: 0.0002100399075824401, ucb: 4.293782273949141, num_of_obs: 8, privacy reward: 0.8521437889662109, curr_delay = 0.218709948704499\n",
      "user 5, g: -5.250997689561023e-05, ucb: 4.299270969653561, num_of_obs: 9, privacy reward: 0.8352702114112716, curr_delay = 0.1202204330741824\n",
      "max_delay = 0.22 seconds\n",
      "iteration: 47\n"
     ]
    },
    {
     "name": "stderr",
     "output_type": "stream",
     "text": [
      " 24%|██▎       | 47/200 [00:23<01:48,  1.41it/s]"
     ]
    },
    {
     "name": "stdout",
     "output_type": "stream",
     "text": [
      "user 15, g: 0.0003143705045017855, ucb: 4.132779054075445, num_of_obs: 8, privacy reward: 0.8521437889662109, curr_delay = 0.7087801539790626\n",
      "user 16, g: 0.0003143705045017855, ucb: 4.131021735506179, num_of_obs: 8, privacy reward: 0.8521437889662109, curr_delay = 0.7362282430324643\n",
      "user 17, g: 0.0003143705045017855, ucb: 4.129573072885109, num_of_obs: 8, privacy reward: 0.8521437889662109, curr_delay = 0.7254583511894518\n",
      "user 18, g: 0.0003143705045017855, ucb: 4.128484026357115, num_of_obs: 8, privacy reward: 0.8521437889662109, curr_delay = 0.72724385930457\n",
      "user 19, g: 0.0003143705045017855, ucb: 4.127349695904795, num_of_obs: 8, privacy reward: 0.8521437889662109, curr_delay = 0.7780831697095302\n",
      "max_delay = 0.78 seconds\n",
      "iteration: 48\n"
     ]
    },
    {
     "name": "stderr",
     "output_type": "stream",
     "text": [
      " 24%|██▍       | 48/200 [00:24<01:42,  1.49it/s]"
     ]
    },
    {
     "name": "stdout",
     "output_type": "stream",
     "text": [
      "user 20, g: 0.000434027777777777, ucb: 4.13763602942084, num_of_obs: 8, privacy reward: 0.8521437889662109, curr_delay = 0.7922621615220996\n",
      "user 21, g: 0.000434027777777777, ucb: 4.136056435866581, num_of_obs: 8, privacy reward: 0.8521437889662109, curr_delay = 0.7698814919781958\n",
      "user 22, g: 0.000434027777777777, ucb: 4.135537151149949, num_of_obs: 8, privacy reward: 0.8521437889662109, curr_delay = 0.8460373468171564\n",
      "user 23, g: 0.000434027777777777, ucb: 4.133756785968214, num_of_obs: 8, privacy reward: 0.8521437889662109, curr_delay = 0.812814045998429\n",
      "user 24, g: 0.000434027777777777, ucb: 4.1332465094677735, num_of_obs: 8, privacy reward: 0.8521437889662109, curr_delay = 0.8469230572061874\n",
      "max_delay = 0.85 seconds\n",
      "iteration: 49\n"
     ]
    },
    {
     "name": "stderr",
     "output_type": "stream",
     "text": [
      " 24%|██▍       | 49/200 [00:24<01:38,  1.54it/s]"
     ]
    },
    {
     "name": "stdout",
     "output_type": "stream",
     "text": [
      "user 25, g: 0.0005668934240362811, ucb: 4.142840299617158, num_of_obs: 8, privacy reward: 0.8521437889662109, curr_delay = 0.8826399655583657\n",
      "user 26, g: 0.0005668934240362811, ucb: 4.141762375820597, num_of_obs: 8, privacy reward: 0.8521437889662109, curr_delay = 0.8430338714429089\n",
      "user 27, g: 0.0005668934240362811, ucb: 4.141682592074638, num_of_obs: 8, privacy reward: 0.8521437889662109, curr_delay = 0.8807604967162197\n",
      "user 28, g: 0.0005668934240362811, ucb: 4.140631362079606, num_of_obs: 8, privacy reward: 0.8521437889662109, curr_delay = 0.8972828417080405\n",
      "user 29, g: 0.0005668934240362811, ucb: 4.138547806096607, num_of_obs: 8, privacy reward: 0.8521437889662109, curr_delay = 0.8807538861004891\n",
      "max_delay = 0.90 seconds\n",
      "iteration: 50\n"
     ]
    },
    {
     "name": "stderr",
     "output_type": "stream",
     "text": [
      " 25%|██▌       | 50/200 [00:25<01:24,  1.77it/s]"
     ]
    },
    {
     "name": "stdout",
     "output_type": "stream",
     "text": [
      "user 0, g: -0.00017777777777777784, ucb: 4.391093709107566, num_of_obs: 10, privacy reward: 0.8187307530779814, curr_delay = 0.06056891967561218\n",
      "user 1, g: -0.00017777777777777784, ucb: 4.278266876058524, num_of_obs: 10, privacy reward: 0.8187307530779814, curr_delay = 0.09514847863426801\n",
      "user 2, g: -0.00017777777777777784, ucb: 4.295704861143384, num_of_obs: 10, privacy reward: 0.8187307530779814, curr_delay = 0.09008572344762869\n",
      "user 4, g: 4.444444444444428e-05, ucb: 4.309663514664081, num_of_obs: 9, privacy reward: 0.8352702114112716, curr_delay = 0.08008625344111238\n",
      "user 6, g: 4.444444444444428e-05, ucb: 4.229658548489175, num_of_obs: 9, privacy reward: 0.8352702114112716, curr_delay = 0.09942597989594512\n",
      "max_delay = 0.10 seconds\n",
      "iteration: 51\n"
     ]
    },
    {
     "name": "stderr",
     "output_type": "stream",
     "text": [
      " 26%|██▌       | 51/200 [00:25<01:16,  1.94it/s]"
     ]
    },
    {
     "name": "stdout",
     "output_type": "stream",
     "text": [
      "user 10, g: 9.61168781237984e-05, ucb: 4.145011072108523, num_of_obs: 9, privacy reward: 0.8352702114112716, curr_delay = 0.15977198931274106\n",
      "user 3, g: -9.611687812379895e-05, ucb: 4.215638538938151, num_of_obs: 10, privacy reward: 0.8187307530779814, curr_delay = 0.09236283263366957\n",
      "user 7, g: 9.61168781237984e-05, ucb: 4.199067572611406, num_of_obs: 9, privacy reward: 0.8352702114112716, curr_delay = 0.1054183377472693\n",
      "user 8, g: 9.61168781237984e-05, ucb: 4.226431151471833, num_of_obs: 9, privacy reward: 0.8352702114112716, curr_delay = 0.15550586788621196\n",
      "user 9, g: 9.61168781237984e-05, ucb: 4.184974884225978, num_of_obs: 9, privacy reward: 0.8352702114112716, curr_delay = 0.14592562605951728\n",
      "max_delay = 0.16 seconds\n",
      "iteration: 52\n"
     ]
    },
    {
     "name": "stderr",
     "output_type": "stream",
     "text": [
      " 26%|██▌       | 52/200 [00:26<01:12,  2.04it/s]"
     ]
    },
    {
     "name": "stdout",
     "output_type": "stream",
     "text": [
      "user 11, g: 0.00016436554898093314, ucb: 4.1495715187770275, num_of_obs: 9, privacy reward: 0.8352702114112716, curr_delay = 0.15745476307974726\n",
      "user 12, g: 0.00016436554898093314, ucb: 4.12435370202463, num_of_obs: 9, privacy reward: 0.8352702114112716, curr_delay = 0.21796219187801028\n",
      "user 13, g: 0.00016436554898093314, ucb: 4.117213156179268, num_of_obs: 9, privacy reward: 0.8352702114112716, curr_delay = 0.16967773247479587\n",
      "user 4, g: -4.109138724523346e-05, ucb: 4.124760955465971, num_of_obs: 10, privacy reward: 0.8187307530779814, curr_delay = 0.13230600820494193\n",
      "user 5, g: -4.109138724523346e-05, ucb: 4.12884327577956, num_of_obs: 10, privacy reward: 0.8187307530779814, curr_delay = 0.09601323957596553\n",
      "max_delay = 0.22 seconds\n",
      "iteration: 53\n"
     ]
    },
    {
     "name": "stderr",
     "output_type": "stream",
     "text": [
      " 26%|██▋       | 53/200 [00:26<01:10,  2.08it/s]"
     ]
    },
    {
     "name": "stdout",
     "output_type": "stream",
     "text": [
      "user 14, g: 0.0002472212333372888, ucb: 4.09981622045386, num_of_obs: 9, privacy reward: 0.8352702114112716, curr_delay = 0.19067765767168118\n",
      "user 16, g: 0.0002472212333372888, ucb: 3.9273724770094214, num_of_obs: 9, privacy reward: 0.8352702114112716, curr_delay = 0.7499538488479899\n",
      "user 17, g: 0.0002472212333372888, ucb: 3.9262309250293144, num_of_obs: 9, privacy reward: 0.8352702114112716, curr_delay = 0.7669038229840838\n",
      "user 18, g: 0.0002472212333372888, ucb: 3.9252568574215165, num_of_obs: 9, privacy reward: 0.8352702114112716, curr_delay = 0.7397009755070143\n",
      "user 19, g: 0.0002472212333372888, ucb: 3.9237027874734083, num_of_obs: 9, privacy reward: 0.8352702114112716, curr_delay = 0.7787977497120407\n",
      "max_delay = 0.78 seconds\n",
      "iteration: 54\n"
     ]
    },
    {
     "name": "stderr",
     "output_type": "stream",
     "text": [
      " 27%|██▋       | 54/200 [00:27<01:05,  2.22it/s]"
     ]
    },
    {
     "name": "stdout",
     "output_type": "stream",
     "text": [
      "user 1, g: -0.0003429355281207133, ucb: 4.112323743336777, num_of_obs: 11, privacy reward: 0.8025187979624779, curr_delay = 0.08063211115417186\n",
      "user 2, g: -0.0003429355281207133, ucb: 4.130971172431773, num_of_obs: 11, privacy reward: 0.8025187979624779, curr_delay = 0.051058016092947675\n",
      "user 3, g: -0.0003429355281207133, ucb: 4.04932778347491, num_of_obs: 11, privacy reward: 0.8025187979624779, curr_delay = 0.07569421066659976\n",
      "user 6, g: 0.0, ucb: 4.057442862610722, num_of_obs: 10, privacy reward: 0.8187307530779814, curr_delay = 0.12390632091754812\n",
      "user 8, g: 0.0, ucb: 4.025817360166232, num_of_obs: 10, privacy reward: 0.8187307530779814, curr_delay = 0.15216795398127947\n",
      "max_delay = 0.15 seconds\n",
      "iteration: 55\n"
     ]
    },
    {
     "name": "stderr",
     "output_type": "stream",
     "text": [
      " 28%|██▊       | 55/200 [00:27<01:09,  2.09it/s]"
     ]
    },
    {
     "name": "stdout",
     "output_type": "stream",
     "text": [
      "user 20, g: 0.0004499540863177226, ucb: 3.940812605655258, num_of_obs: 9, privacy reward: 0.8352702114112716, curr_delay = 0.7607923040489182\n",
      "user 21, g: 0.0004499540863177226, ucb: 3.939659790992886, num_of_obs: 9, privacy reward: 0.8352702114112716, curr_delay = 0.801403887510272\n",
      "user 22, g: 0.0004499540863177226, ucb: 3.9384746650539895, num_of_obs: 9, privacy reward: 0.8352702114112716, curr_delay = 0.800177994973602\n",
      "user 23, g: 0.0004499540863177226, ucb: 3.9372188004059, num_of_obs: 9, privacy reward: 0.8352702114112716, curr_delay = 0.8278013397617007\n",
      "user 24, g: 0.0004499540863177226, ucb: 3.936462627874523, num_of_obs: 9, privacy reward: 0.8352702114112716, curr_delay = 0.8268977321956347\n",
      "max_delay = 0.83 seconds\n",
      "iteration: 56\n"
     ]
    },
    {
     "name": "stderr",
     "output_type": "stream",
     "text": [
      " 28%|██▊       | 56/200 [00:28<01:15,  1.91it/s]"
     ]
    },
    {
     "name": "stdout",
     "output_type": "stream",
     "text": [
      "user 15, g: 0.0005668934240362811, ucb: 3.9559020012312014, num_of_obs: 9, privacy reward: 0.8352702114112716, curr_delay = 0.7182067844843805\n",
      "user 25, g: 0.0005668934240362811, ucb: 3.943784963716728, num_of_obs: 9, privacy reward: 0.8352702114112716, curr_delay = 0.8639165268912415\n",
      "user 26, g: 0.0005668934240362811, ucb: 3.943174450227747, num_of_obs: 9, privacy reward: 0.8352702114112716, curr_delay = 0.8652823846299036\n",
      "user 27, g: 0.0005668934240362811, ucb: 3.9427870799394595, num_of_obs: 9, privacy reward: 0.8352702114112716, curr_delay = 0.864094782433144\n",
      "user 28, g: 0.0005668934240362811, ucb: 3.9417365871172745, num_of_obs: 9, privacy reward: 0.8352702114112716, curr_delay = 0.9049464165272594\n",
      "max_delay = 0.90 seconds\n",
      "iteration: 57\n"
     ]
    },
    {
     "name": "stderr",
     "output_type": "stream",
     "text": [
      " 28%|██▊       | 57/200 [00:28<01:12,  1.99it/s]"
     ]
    },
    {
     "name": "stdout",
     "output_type": "stream",
     "text": [
      "user 0, g: -7.694675284702985e-05, ucb: 4.267234225454737, num_of_obs: 11, privacy reward: 0.8025187979624779, curr_delay = 0.08589248564378581\n",
      "user 10, g: 7.694675284702985e-05, ucb: 3.9771191071697145, num_of_obs: 10, privacy reward: 0.8187307530779814, curr_delay = 0.17236606321500236\n",
      "user 5, g: -7.694675284702985e-05, ucb: 3.984483318165153, num_of_obs: 11, privacy reward: 0.8025187979624779, curr_delay = 0.08670443206757737\n",
      "user 7, g: 7.694675284702985e-05, ucb: 4.04309764237228, num_of_obs: 10, privacy reward: 0.8187307530779814, curr_delay = 0.10751619270215602\n",
      "user 9, g: 7.694675284702985e-05, ucb: 4.01594186561842, num_of_obs: 10, privacy reward: 0.8187307530779814, curr_delay = 0.13298883486600033\n",
      "max_delay = 0.17 seconds\n",
      "iteration: 58\n"
     ]
    },
    {
     "name": "stderr",
     "output_type": "stream",
     "text": [
      " 29%|██▉       | 58/200 [00:29<01:05,  2.16it/s]"
     ]
    },
    {
     "name": "stdout",
     "output_type": "stream",
     "text": [
      "user 0, g: -0.0005284713964856652, ucb: 4.093891467727887, num_of_obs: 12, privacy reward: 0.7866278610665528, curr_delay = 0.0639864939060915\n",
      "user 11, g: 0.00013211784912141598, ucb: 3.9811539576856836, num_of_obs: 10, privacy reward: 0.8187307530779814, curr_delay = 0.15958682582760356\n",
      "user 13, g: 0.00013211784912141598, ucb: 3.949849272948452, num_of_obs: 10, privacy reward: 0.8187307530779814, curr_delay = 0.15358027559936507\n",
      "user 29, g: 0.0008257365570088515, ucb: 3.9569423783514504, num_of_obs: 9, privacy reward: 0.8352702114112716, curr_delay = 0.8851845358711188\n",
      "user 4, g: -3.3029462280354315e-05, ucb: 3.9740068621405973, num_of_obs: 11, privacy reward: 0.8025187979624779, curr_delay = 0.0868947136794218\n",
      "max_delay = 0.89 seconds\n",
      "iteration: 59\n"
     ]
    },
    {
     "name": "stderr",
     "output_type": "stream",
     "text": [
      " 30%|██▉       | 59/200 [00:29<01:05,  2.15it/s]"
     ]
    },
    {
     "name": "stdout",
     "output_type": "stream",
     "text": [
      "user 1, g: -0.0003910115228701847, ucb: 3.984754864755155, num_of_obs: 12, privacy reward: 0.7866278610665528, curr_delay = 0.09153657745952758\n",
      "user 12, g: 0.0001994956749337669, ucb: 3.9566793191202216, num_of_obs: 10, privacy reward: 0.8187307530779814, curr_delay = 0.18782913190925546\n",
      "user 14, g: 0.0001994956749337669, ucb: 3.9302779131118752, num_of_obs: 10, privacy reward: 0.8187307530779814, curr_delay = 0.19493982515767513\n",
      "user 2, g: -0.0003910115228701847, ucb: 4.034359601503514, num_of_obs: 12, privacy reward: 0.7866278610665528, curr_delay = 0.08727651514673335\n",
      "user 3, g: -0.0003910115228701847, ucb: 3.931163278799671, num_of_obs: 12, privacy reward: 0.7866278610665528, curr_delay = 0.09771836698489814\n",
      "max_delay = 0.19 seconds\n",
      "iteration: 60\n"
     ]
    },
    {
     "name": "stderr",
     "output_type": "stream",
     "text": [
      " 30%|███       | 60/200 [00:29<01:06,  2.10it/s]"
     ]
    },
    {
     "name": "stdout",
     "output_type": "stream",
     "text": [
      "user 16, g: 0.00027777777777777767, ucb: 3.7628568621505236, num_of_obs: 10, privacy reward: 0.8187307530779814, curr_delay = 0.7346452404448527\n",
      "user 17, g: 0.00027777777777777767, ucb: 3.761678421981687, num_of_obs: 10, privacy reward: 0.8187307530779814, curr_delay = 0.7581118155054549\n",
      "user 18, g: 0.00027777777777777767, ucb: 3.7610789905776243, num_of_obs: 10, privacy reward: 0.8187307530779814, curr_delay = 0.7450200734738528\n",
      "user 19, g: 0.00027777777777777767, ucb: 3.7593205549684927, num_of_obs: 10, privacy reward: 0.8187307530779814, curr_delay = 0.7483268933771122\n",
      "user 20, g: 0.00027777777777777767, ucb: 3.7587357024370256, num_of_obs: 10, privacy reward: 0.8187307530779814, curr_delay = 0.7785618896930596\n",
      "max_delay = 0.78 seconds\n",
      "iteration: 61\n"
     ]
    },
    {
     "name": "stderr",
     "output_type": "stream",
     "text": [
      " 30%|███       | 61/200 [00:30<01:03,  2.18it/s]"
     ]
    },
    {
     "name": "stdout",
     "output_type": "stream",
     "text": [
      "user 0, g: -0.0009032816745797131, ucb: 3.9732169683449876, num_of_obs: 13, privacy reward: 0.7710515858035656, curr_delay = 0.05722889236538413\n",
      "user 2, g: -0.0009032816745797131, ucb: 3.894854746341649, num_of_obs: 13, privacy reward: 0.7710515858035656, curr_delay = 0.07216691762566274\n",
      "user 6, g: 7.465137806443923e-06, ucb: 3.9220279319767393, num_of_obs: 11, privacy reward: 0.8025187979624779, curr_delay = 0.11242359681795352\n",
      "user 7, g: 7.465137806443923e-06, ucb: 3.8931026238289976, num_of_obs: 11, privacy reward: 0.8025187979624779, curr_delay = 0.1478431386997845\n",
      "user 8, g: 7.465137806443923e-06, ucb: 3.8860703429178054, num_of_obs: 11, privacy reward: 0.8025187979624779, curr_delay = 0.1297733426321178\n",
      "max_delay = 0.15 seconds\n",
      "iteration: 62\n"
     ]
    },
    {
     "name": "stderr",
     "output_type": "stream",
     "text": [
      " 31%|███       | 62/200 [00:31<01:11,  1.93it/s]"
     ]
    },
    {
     "name": "stdout",
     "output_type": "stream",
     "text": [
      "user 15, g: 0.0004624812117007738, ucb: 3.779606840999931, num_of_obs: 10, privacy reward: 0.8187307530779814, curr_delay = 0.6930022316735673\n",
      "user 21, g: 0.0004624812117007738, ucb: 3.7721044289426726, num_of_obs: 10, privacy reward: 0.8187307530779814, curr_delay = 0.7629482021576108\n",
      "user 22, g: 0.0004624812117007738, ucb: 3.7710616040874485, num_of_obs: 10, privacy reward: 0.8187307530779814, curr_delay = 0.8174827677550266\n",
      "user 23, g: 0.0004624812117007738, ucb: 3.769713598629831, num_of_obs: 10, privacy reward: 0.8187307530779814, curr_delay = 0.8071245938867165\n",
      "user 24, g: 0.0004624812117007738, ucb: 3.7690487790747818, num_of_obs: 10, privacy reward: 0.8187307530779814, curr_delay = 0.797524520065475\n",
      "max_delay = 0.82 seconds\n",
      "iteration: 63\n"
     ]
    },
    {
     "name": "stderr",
     "output_type": "stream",
     "text": [
      " 32%|███▏      | 63/200 [00:31<01:13,  1.85it/s]"
     ]
    },
    {
     "name": "stdout",
     "output_type": "stream",
     "text": [
      "user 25, g: 0.0005668934240362811, ucb: 3.7747142924626957, num_of_obs: 10, privacy reward: 0.8187307530779814, curr_delay = 0.8276802231125822\n",
      "user 26, g: 0.0005668934240362811, ucb: 3.7741614629346096, num_of_obs: 10, privacy reward: 0.8187307530779814, curr_delay = 0.8379958660722908\n",
      "user 27, g: 0.0005668934240362811, ucb: 3.7738259580686893, num_of_obs: 10, privacy reward: 0.8187307530779814, curr_delay = 0.8894484410546754\n",
      "user 28, g: 0.0005668934240362811, ucb: 3.7726019497350727, num_of_obs: 10, privacy reward: 0.8187307530779814, curr_delay = 0.8715679333623787\n",
      "user 29, g: 0.0005668934240362811, ucb: 3.771234657929447, num_of_obs: 10, privacy reward: 0.8187307530779814, curr_delay = 0.9171194672093067\n",
      "max_delay = 0.92 seconds\n",
      "iteration: 64\n"
     ]
    },
    {
     "name": "stderr",
     "output_type": "stream",
     "text": [
      " 32%|███▏      | 64/200 [00:32<01:08,  2.00it/s]"
     ]
    },
    {
     "name": "stdout",
     "output_type": "stream",
     "text": [
      "user 10, g: 0.00010850694444444425, ucb: 3.8366721675082607, num_of_obs: 11, privacy reward: 0.8025187979624779, curr_delay = 0.1291435420422719\n",
      "user 11, g: 0.00010850694444444425, ucb: 3.8355277872545046, num_of_obs: 11, privacy reward: 0.8025187979624779, curr_delay = 0.16044816835388642\n",
      "user 4, g: -2.7126736111111208e-05, ucb: 3.8600053052879693, num_of_obs: 12, privacy reward: 0.7866278610665528, curr_delay = 0.06950147377840635\n",
      "user 5, g: -2.7126736111111208e-05, ucb: 3.8764465237167505, num_of_obs: 12, privacy reward: 0.7866278610665528, curr_delay = 0.07061828835749112\n",
      "user 9, g: 0.00010850694444444425, ucb: 3.8802017609031276, num_of_obs: 11, privacy reward: 0.8025187979624779, curr_delay = 0.13022257749732905\n",
      "max_delay = 0.16 seconds\n",
      "iteration: 65\n"
     ]
    },
    {
     "name": "stderr",
     "output_type": "stream",
     "text": [
      " 32%|███▎      | 65/200 [00:32<01:04,  2.09it/s]"
     ]
    },
    {
     "name": "stdout",
     "output_type": "stream",
     "text": [
      "user 12, g: 0.00016436554898093314, ucb: 3.808405068511586, num_of_obs: 11, privacy reward: 0.8025187979624779, curr_delay = 0.20055591228039987\n",
      "user 13, g: 0.00016436554898093314, ucb: 3.8151568249613828, num_of_obs: 11, privacy reward: 0.8025187979624779, curr_delay = 0.19694405686801617\n",
      "user 14, g: 0.00016436554898093314, ucb: 3.7836728049045725, num_of_obs: 11, privacy reward: 0.8025187979624779, curr_delay = 0.23697125537521627\n",
      "user 3, g: -0.0003221564760026305, ucb: 3.81982675488941, num_of_obs: 13, privacy reward: 0.7710515858035656, curr_delay = 0.08218376010132888\n",
      "user 6, g: -6.57462195923744e-06, ucb: 3.787502214919942, num_of_obs: 12, privacy reward: 0.7866278610665528, curr_delay = 0.13589080426599892\n",
      "max_delay = 0.24 seconds\n",
      "iteration: 66\n"
     ]
    },
    {
     "name": "stderr",
     "output_type": "stream",
     "text": [
      " 33%|███▎      | 66/200 [00:33<01:14,  1.80it/s]"
     ]
    },
    {
     "name": "stdout",
     "output_type": "stream",
     "text": [
      "user 15, g: 0.0002295684113865928, ucb: 3.615982037199196, num_of_obs: 11, privacy reward: 0.8025187979624779, curr_delay = 0.7255817614379133\n",
      "user 16, g: 0.0002295684113865928, ucb: 3.613785228537003, num_of_obs: 11, privacy reward: 0.8025187979624779, curr_delay = 0.7528349898480257\n",
      "user 17, g: 0.0002295684113865928, ucb: 3.6125139594340006, num_of_obs: 11, privacy reward: 0.8025187979624779, curr_delay = 0.7323000698885226\n",
      "user 18, g: 0.0002295684113865928, ucb: 3.6120903665716764, num_of_obs: 11, privacy reward: 0.8025187979624779, curr_delay = 0.7644931975684253\n",
      "user 20, g: 0.0002295684113865928, ucb: 3.609692275708935, num_of_obs: 11, privacy reward: 0.8025187979624779, curr_delay = 0.7737785777460152\n",
      "max_delay = 0.77 seconds\n",
      "iteration: 67\n"
     ]
    },
    {
     "name": "stderr",
     "output_type": "stream",
     "text": [
      " 34%|███▎      | 67/200 [00:33<01:10,  1.90it/s]"
     ]
    },
    {
     "name": "stdout",
     "output_type": "stream",
     "text": [
      "user 1, g: -0.00015469914111036854, ucb: 3.8835371212758822, num_of_obs: 13, privacy reward: 0.7710515858035656, curr_delay = 0.0655669984082081\n",
      "user 2, g: -0.0007487438429741846, ucb: 3.8043271630139595, num_of_obs: 14, privacy reward: 0.7557837414557247, curr_delay = 0.05\n",
      "user 5, g: -0.00015469914111036854, ucb: 3.7673969079371563, num_of_obs: 13, privacy reward: 0.7710515858035656, curr_delay = 0.12842617858228658\n",
      "user 7, g: 6.1879656444146855e-06, ucb: 3.7637457244949006, num_of_obs: 12, privacy reward: 0.7866278610665528, curr_delay = 0.12816679326315855\n",
      "user 8, g: 6.1879656444146855e-06, ucb: 3.7616337288114927, num_of_obs: 12, privacy reward: 0.7866278610665528, curr_delay = 0.1326963487265988\n",
      "max_delay = 0.13 seconds\n",
      "iteration: 68\n"
     ]
    },
    {
     "name": "stderr",
     "output_type": "stream",
     "text": [
      " 34%|███▍      | 68/200 [00:34<01:07,  1.96it/s]"
     ]
    },
    {
     "name": "stdout",
     "output_type": "stream",
     "text": [
      "user 19, g: 0.0003844675124951936, ucb: 3.6230864427161573, num_of_obs: 11, privacy reward: 0.8025187979624779, curr_delay = 0.7434836479905447\n",
      "user 21, g: 0.0003844675124951936, ucb: 3.621176731997523, num_of_obs: 11, privacy reward: 0.8025187979624779, curr_delay = 0.7726026489165121\n",
      "user 24, g: 0.0003844675124951936, ucb: 3.618142521985677, num_of_obs: 11, privacy reward: 0.8025187979624779, curr_delay = 0.8308267252722248\n",
      "user 25, g: 0.0003844675124951936, ucb: 3.6165485412718557, num_of_obs: 11, privacy reward: 0.8025187979624779, curr_delay = 0.8292676808794383\n",
      "user 26, g: 0.0003844675124951936, ucb: 3.6159766308489862, num_of_obs: 11, privacy reward: 0.8025187979624779, curr_delay = 0.874189688667452\n",
      "max_delay = 0.87 seconds\n",
      "iteration: 69\n"
     ]
    },
    {
     "name": "stderr",
     "output_type": "stream",
     "text": [
      " 34%|███▍      | 69/200 [00:34<01:06,  1.96it/s]"
     ]
    },
    {
     "name": "stdout",
     "output_type": "stream",
     "text": [
      "user 0, g: -0.00047258979206049205, ucb: 3.9014492156782, num_of_obs: 14, privacy reward: 0.7557837414557247, curr_delay = 0.056754956069295884\n",
      "user 10, g: 5.250997689561023e-05, ucb: 3.71013302834958, num_of_obs: 12, privacy reward: 0.7866278610665528, curr_delay = 0.16323146441256295\n",
      "user 3, g: -0.00047258979206049205, ucb: 3.7166788046892694, num_of_obs: 14, privacy reward: 0.7557837414557247, curr_delay = 0.10844687166813326\n",
      "user 4, g: -5.250997689561023e-05, ucb: 3.764594456243305, num_of_obs: 13, privacy reward: 0.7710515858035656, curr_delay = 0.08750194430554738\n",
      "user 9, g: 5.250997689561023e-05, ucb: 3.7494137413048483, num_of_obs: 12, privacy reward: 0.7866278610665528, curr_delay = 0.1625741343579078\n",
      "max_delay = 0.16 seconds\n",
      "iteration: 70\n"
     ]
    },
    {
     "name": "stderr",
     "output_type": "stream",
     "text": [
      " 35%|███▌      | 70/200 [00:35<01:08,  1.89it/s]"
     ]
    },
    {
     "name": "stdout",
     "output_type": "stream",
     "text": [
      "user 22, g: 0.0005668934240362811, ucb: 3.6320012052917394, num_of_obs: 11, privacy reward: 0.8025187979624779, curr_delay = 0.8208793653436515\n",
      "user 23, g: 0.0005668934240362811, ucb: 3.630866493937514, num_of_obs: 11, privacy reward: 0.8025187979624779, curr_delay = 0.8361554403772786\n",
      "user 27, g: 0.0005668934240362811, ucb: 3.627529724867795, num_of_obs: 11, privacy reward: 0.8025187979624779, curr_delay = 0.901862629034441\n",
      "user 28, g: 0.0005668934240362811, ucb: 3.6265434435267245, num_of_obs: 11, privacy reward: 0.8025187979624779, curr_delay = 0.8652164465138604\n",
      "user 29, g: 0.0005668934240362811, ucb: 3.6250279458654, num_of_obs: 11, privacy reward: 0.8025187979624779, curr_delay = 0.9501168154181795\n",
      "max_delay = 0.95 seconds\n",
      "iteration: 71\n"
     ]
    },
    {
     "name": "stderr",
     "output_type": "stream",
     "text": [
      " 36%|███▌      | 71/200 [00:35<01:04,  1.99it/s]"
     ]
    },
    {
     "name": "stdout",
     "output_type": "stream",
     "text": [
      "user 1, g: -0.00027000815534836614, ucb: 3.7870736121948734, num_of_obs: 14, privacy reward: 0.7557837414557247, curr_delay = 0.06818308499832942\n",
      "user 11, g: 0.00013775926293283967, ucb: 3.7136723022813936, num_of_obs: 12, privacy reward: 0.7866278610665528, curr_delay = 0.1620755745456034\n",
      "user 12, g: 0.00013775926293283967, ucb: 3.6773699170571716, num_of_obs: 12, privacy reward: 0.7866278610665528, curr_delay = 0.17308815554619086\n",
      "user 13, g: 0.00013775926293283967, ucb: 3.683923528941781, num_of_obs: 12, privacy reward: 0.7866278610665528, curr_delay = 0.15187739098426173\n",
      "user 6, g: -5.5103705173136126e-06, ucb: 3.67405474172164, num_of_obs: 13, privacy reward: 0.7710515858035656, curr_delay = 0.11913109513327792\n",
      "max_delay = 0.17 seconds\n",
      "iteration: 72\n"
     ]
    },
    {
     "name": "stderr",
     "output_type": "stream",
     "text": [
      " 36%|███▌      | 72/200 [00:36<01:01,  2.07it/s]"
     ]
    },
    {
     "name": "stdout",
     "output_type": "stream",
     "text": [
      "user 14, g: 0.00019290123456790063, ucb: 3.656992276791995, num_of_obs: 12, privacy reward: 0.7866278610665528, curr_delay = 0.22225700960872807\n",
      "user 16, g: 0.00019290123456790063, ucb: 3.4835275851506298, num_of_obs: 12, privacy reward: 0.7866278610665528, curr_delay = 0.6922005275340289\n",
      "user 18, g: 0.00019290123456790063, ucb: 3.4818947278264196, num_of_obs: 12, privacy reward: 0.7866278610665528, curr_delay = 0.7920257889814162\n",
      "user 19, g: 0.00019290123456790063, ucb: 3.4805970626164204, num_of_obs: 12, privacy reward: 0.7866278610665528, curr_delay = 0.7782181180590042\n",
      "user 20, g: 0.00019290123456790063, ucb: 3.4796432964225157, num_of_obs: 12, privacy reward: 0.7866278610665528, curr_delay = 0.78397478574486\n",
      "max_delay = 0.79 seconds\n",
      "iteration: 73\n"
     ]
    },
    {
     "name": "stderr",
     "output_type": "stream",
     "text": [
      " 36%|███▋      | 73/200 [00:36<00:59,  2.12it/s]"
     ]
    },
    {
     "name": "stdout",
     "output_type": "stream",
     "text": [
      "user 0, g: -0.0006307207939784407, ucb: 3.815249868154205, num_of_obs: 15, privacy reward: 0.7408182206817171, curr_delay = 0.056369469622978216\n",
      "user 4, g: -0.00013031421363190925, ucb: 3.6623290208453607, num_of_obs: 14, privacy reward: 0.7557837414557247, curr_delay = 0.09772648567128693\n",
      "user 5, g: -0.00013031421363190925, ucb: 3.6613589387814125, num_of_obs: 14, privacy reward: 0.7557837414557247, curr_delay = 0.0946592154475085\n",
      "user 7, g: 5.2125685452763695e-06, ucb: 3.6535388279551464, num_of_obs: 13, privacy reward: 0.7710515858035656, curr_delay = 0.1672316786770141\n",
      "user 8, g: 5.2125685452763695e-06, ucb: 3.650493121019876, num_of_obs: 13, privacy reward: 0.7710515858035656, curr_delay = 0.14230643280000632\n",
      "max_delay = 0.17 seconds\n",
      "iteration: 74\n"
     ]
    },
    {
     "name": "stderr",
     "output_type": "stream",
     "text": [
      " 37%|███▋      | 74/200 [00:37<01:06,  1.88it/s]"
     ]
    },
    {
     "name": "stdout",
     "output_type": "stream",
     "text": [
      "user 1, g: -0.0005072640207775352, ucb: 3.6935232067761894, num_of_obs: 15, privacy reward: 0.7408182206817171, curr_delay = 0.05\n",
      "user 10, g: 2.029056083110121e-05, ucb: 3.5917604133536916, num_of_obs: 13, privacy reward: 0.7710515858035656, curr_delay = 0.1481737915644033\n",
      "user 12, g: 2.029056083110121e-05, ucb: 3.5497810497428177, num_of_obs: 13, privacy reward: 0.7710515858035656, curr_delay = 0.1753802343349554\n",
      "user 13, g: 2.029056083110121e-05, ucb: 3.5591504258514495, num_of_obs: 13, privacy reward: 0.7710515858035656, curr_delay = 0.19478868592204177\n",
      "user 9, g: 2.029056083110121e-05, ucb: 3.627870942408385, num_of_obs: 13, privacy reward: 0.7710515858035656, curr_delay = 0.15488801706081706\n",
      "max_delay = 0.19 seconds\n",
      "iteration: 75\n"
     ]
    },
    {
     "name": "stderr",
     "output_type": "stream",
     "text": [
      " 38%|███▊      | 75/200 [00:37<01:07,  1.86it/s]"
     ]
    },
    {
     "name": "stdout",
     "output_type": "stream",
     "text": [
      "user 15, g: 0.0003999999999999996, ucb: 3.5020123130923633, num_of_obs: 12, privacy reward: 0.7866278610665528, curr_delay = 0.7061950930715793\n",
      "user 17, g: 0.0003999999999999996, ucb: 3.4988020423942223, num_of_obs: 12, privacy reward: 0.7866278610665528, curr_delay = 0.7390897723929185\n",
      "user 21, g: 0.0003999999999999996, ucb: 3.4948913856535615, num_of_obs: 12, privacy reward: 0.7866278610665528, curr_delay = 0.8161946380919669\n",
      "user 22, g: 0.0003999999999999996, ucb: 3.4932947189909633, num_of_obs: 12, privacy reward: 0.7866278610665528, curr_delay = 0.8245378909024115\n",
      "user 23, g: 0.0003999999999999996, ucb: 3.4921619999713225, num_of_obs: 12, privacy reward: 0.7866278610665528, curr_delay = 0.8045711277571236\n",
      "max_delay = 0.82 seconds\n",
      "iteration: 76\n"
     ]
    },
    {
     "name": "stderr",
     "output_type": "stream",
     "text": [
      " 38%|███▊      | 76/200 [00:38<01:07,  1.83it/s]"
     ]
    },
    {
     "name": "stdout",
     "output_type": "stream",
     "text": [
      "user 0, g: -0.0009425977223761165, ucb: 3.733078011515156, num_of_obs: 16, privacy reward: 0.72614903707369, curr_delay = 0.0661179433731893\n",
      "user 1, g: -0.0009425977223761165, ucb: 3.6225158615600765, num_of_obs: 16, privacy reward: 0.72614903707369, curr_delay = 0.05387903559353504\n",
      "user 11, g: 7.694675284702985e-05, ucb: 3.594840574229398, num_of_obs: 13, privacy reward: 0.7710515858035656, curr_delay = 0.18861364463534824\n",
      "user 2, g: -0.0003077870113881194, ucb: 3.757863916233311, num_of_obs: 15, privacy reward: 0.7408182206817171, curr_delay = 0.08167488745614197\n",
      "user 3, g: -0.0003077870113881194, ucb: 3.627880552262738, num_of_obs: 15, privacy reward: 0.7408182206817171, curr_delay = 0.0793328020607622\n",
      "max_delay = 0.19 seconds\n",
      "iteration: 77\n"
     ]
    },
    {
     "name": "stderr",
     "output_type": "stream",
     "text": [
      " 38%|███▊      | 77/200 [00:38<01:08,  1.80it/s]"
     ]
    },
    {
     "name": "stdout",
     "output_type": "stream",
     "text": [
      "user 24, g: 0.0005668934240362811, ucb: 3.502163102221566, num_of_obs: 12, privacy reward: 0.7866278610665528, curr_delay = 0.849849052323211\n",
      "user 25, g: 0.0005668934240362811, ucb: 3.5007243144683833, num_of_obs: 12, privacy reward: 0.7866278610665528, curr_delay = 0.8327602365121637\n",
      "user 26, g: 0.0005668934240362811, ucb: 3.4999227288435537, num_of_obs: 12, privacy reward: 0.7866278610665528, curr_delay = 0.8592056947701684\n",
      "user 27, g: 0.0005668934240362811, ucb: 3.4991749011430957, num_of_obs: 12, privacy reward: 0.7866278610665528, curr_delay = 0.8562822488813006\n",
      "user 28, g: 0.0005668934240362811, ucb: 3.4984917537338496, num_of_obs: 12, privacy reward: 0.7866278610665528, curr_delay = 0.8933846042851514\n",
      "max_delay = 0.89 seconds\n",
      "iteration: 78\n"
     ]
    },
    {
     "name": "stderr",
     "output_type": "stream",
     "text": [
      " 39%|███▉      | 78/200 [00:39<01:01,  1.97it/s]"
     ]
    },
    {
     "name": "stdout",
     "output_type": "stream",
     "text": [
      "user 14, g: 0.00016436554898093314, ucb: 3.5406525875432253, num_of_obs: 13, privacy reward: 0.7710515858035656, curr_delay = 0.19607302483341799\n",
      "user 5, g: -0.00016436554898093385, ucb: 3.5711792881668005, num_of_obs: 15, privacy reward: 0.7408182206817171, curr_delay = 0.12744679867902017\n",
      "user 6, g: 0.0, ucb: 3.5811678194407754, num_of_obs: 14, privacy reward: 0.7557837414557247, curr_delay = 0.10747581990363661\n",
      "user 7, g: 0.0, ucb: 3.543141018708625, num_of_obs: 14, privacy reward: 0.7557837414557247, curr_delay = 0.14046215779409219\n",
      "user 8, g: 0.0, ucb: 3.5443579081943755, num_of_obs: 14, privacy reward: 0.7557837414557247, curr_delay = 0.11445028951232726\n",
      "max_delay = 0.20 seconds\n",
      "iteration: 79\n"
     ]
    },
    {
     "name": "stderr",
     "output_type": "stream",
     "text": [
      " 40%|███▉      | 79/200 [00:39<00:59,  2.04it/s]"
     ]
    },
    {
     "name": "stdout",
     "output_type": "stream",
     "text": [
      "user 2, g: -0.0005385532945218903, ucb: 3.661070354516296, num_of_obs: 16, privacy reward: 0.72614903707369, curr_delay = 0.06637358116473097\n",
      "user 29, g: 0.0007521942708611511, ucb: 3.5067888058969325, num_of_obs: 12, privacy reward: 0.7866278610665528, curr_delay = 0.8802989379237396\n",
      "user 3, g: -0.0005385532945218903, ucb: 3.540957417981458, num_of_obs: 16, privacy reward: 0.72614903707369, curr_delay = 0.062416518303865895\n",
      "user 4, g: -0.00011127134184336576, ucb: 3.5753597132497, num_of_obs: 15, privacy reward: 0.7408182206817171, curr_delay = 0.12876615511074457\n",
      "user 9, g: 4.450853673734631e-06, ucb: 3.5211231649105046, num_of_obs: 14, privacy reward: 0.7557837414557247, curr_delay = 0.15500800237996418\n",
      "max_delay = 0.88 seconds\n",
      "iteration: 80\n"
     ]
    },
    {
     "name": "stderr",
     "output_type": "stream",
     "text": [
      " 40%|████      | 80/200 [00:40<01:05,  1.82it/s]"
     ]
    },
    {
     "name": "stdout",
     "output_type": "stream",
     "text": [
      "user 15, g: 0.00027777777777777767, ucb: 3.3804103505132788, num_of_obs: 13, privacy reward: 0.7710515858035656, curr_delay = 0.706525140425991\n",
      "user 16, g: 0.00027777777777777767, ucb: 3.378491079440908, num_of_obs: 13, privacy reward: 0.7710515858035656, curr_delay = 0.7238180234464033\n",
      "user 17, g: 0.00027777777777777767, ucb: 3.377205003700287, num_of_obs: 13, privacy reward: 0.7710515858035656, curr_delay = 0.7169582565313142\n",
      "user 18, g: 0.00027777777777777767, ucb: 3.376235614730229, num_of_obs: 13, privacy reward: 0.7710515858035656, curr_delay = 0.7226854671915686\n",
      "user 19, g: 0.00027777777777777767, ucb: 3.375139428444479, num_of_obs: 13, privacy reward: 0.7710515858035656, curr_delay = 0.7534331220960011\n",
      "max_delay = 0.75 seconds\n",
      "iteration: 81\n"
     ]
    },
    {
     "name": "stderr",
     "output_type": "stream",
     "text": [
      " 40%|████      | 81/200 [00:40<00:59,  2.00it/s]"
     ]
    },
    {
     "name": "stdout",
     "output_type": "stream",
     "text": [
      "user 0, g: -0.0009525986892242036, ucb: 3.6583964677012903, num_of_obs: 17, privacy reward: 0.7117703227626089, curr_delay = 0.05\n",
      "user 10, g: 3.810394756896814e-05, ucb: 3.4979872722814167, num_of_obs: 14, privacy reward: 0.7557837414557247, curr_delay = 0.1873028383007089\n",
      "user 11, g: 3.810394756896814e-05, ucb: 3.485898992859936, num_of_obs: 14, privacy reward: 0.7557837414557247, curr_delay = 0.1701545493924501\n",
      "user 2, g: -0.0009525986892242036, ucb: 3.5784022412692007, num_of_obs: 17, privacy reward: 0.7117703227626089, curr_delay = 0.12389605423441902\n",
      "user 6, g: -3.810394756896814e-05, ucb: 3.4829505907317744, num_of_obs: 15, privacy reward: 0.7408182206817171, curr_delay = 0.12362200899108512\n",
      "max_delay = 0.19 seconds\n",
      "iteration: 82\n"
     ]
    },
    {
     "name": "stderr",
     "output_type": "stream",
     "text": [
      " 41%|████      | 82/200 [00:41<01:08,  1.73it/s]"
     ]
    },
    {
     "name": "stdout",
     "output_type": "stream",
     "text": [
      "user 20, g: 0.0004131138872364333, ucb: 3.3835381722177673, num_of_obs: 13, privacy reward: 0.7710515858035656, curr_delay = 0.7901010370278299\n",
      "user 21, g: 0.0004131138872364333, ucb: 3.382400005735612, num_of_obs: 13, privacy reward: 0.7710515858035656, curr_delay = 0.7996545349934823\n",
      "user 22, g: 0.0004131138872364333, ucb: 3.380884738743264, num_of_obs: 13, privacy reward: 0.7710515858035656, curr_delay = 0.8273915633576565\n",
      "user 23, g: 0.0004131138872364333, ucb: 3.379971819855114, num_of_obs: 13, privacy reward: 0.7710515858035656, curr_delay = 0.8317018558584236\n",
      "user 24, g: 0.0004131138872364333, ucb: 3.3792913957613018, num_of_obs: 13, privacy reward: 0.7710515858035656, curr_delay = 0.8342235578057925\n",
      "max_delay = 0.83 seconds\n",
      "iteration: 83\n"
     ]
    },
    {
     "name": "stderr",
     "output_type": "stream",
     "text": [
      " 42%|████▏     | 83/200 [00:42<01:06,  1.77it/s]"
     ]
    },
    {
     "name": "stdout",
     "output_type": "stream",
     "text": [
      "user 25, g: 0.0004878953565265075, ucb: 3.382634907073339, num_of_obs: 13, privacy reward: 0.7710515858035656, curr_delay = 0.8466420721663765\n",
      "user 26, g: 0.0004878953565265075, ucb: 3.3817461195386143, num_of_obs: 13, privacy reward: 0.7710515858035656, curr_delay = 0.8585973480633159\n",
      "user 27, g: 0.0004878953565265075, ucb: 3.381077167358817, num_of_obs: 13, privacy reward: 0.7710515858035656, curr_delay = 0.8801972519906894\n",
      "user 28, g: 0.0004878953565265075, ucb: 3.380248863548639, num_of_obs: 13, privacy reward: 0.7710515858035656, curr_delay = 0.8956278237919743\n",
      "user 29, g: 0.0004878953565265075, ucb: 3.3786249530065398, num_of_obs: 13, privacy reward: 0.7710515858035656, curr_delay = 0.8841212437630479\n",
      "max_delay = 0.90 seconds\n",
      "iteration: 84\n"
     ]
    },
    {
     "name": "stderr",
     "output_type": "stream",
     "text": [
      " 42%|████▏     | 84/200 [00:42<01:04,  1.80it/s]"
     ]
    },
    {
     "name": "stdout",
     "output_type": "stream",
     "text": [
      "user 1, g: -0.0005668934240362811, ucb: 3.57733398530784, num_of_obs: 17, privacy reward: 0.7117703227626089, curr_delay = 0.08655516876900157\n",
      "user 12, g: 0.00014172335600906995, ucb: 3.4683604292123507, num_of_obs: 14, privacy reward: 0.7557837414557247, curr_delay = 0.2039690079303234\n",
      "user 13, g: 0.00014172335600906995, ucb: 3.4748239747747673, num_of_obs: 14, privacy reward: 0.7557837414557247, curr_delay = 0.16800662227177968\n",
      "user 2, g: -0.0012755102040816334, ucb: 3.4862924977420318, num_of_obs: 18, privacy reward: 0.6976763260710301, curr_delay = 0.07681843483454037\n",
      "user 8, g: 0.0, ucb: 3.459416625158973, num_of_obs: 15, privacy reward: 0.7408182206817171, curr_delay = 0.13294105587198102\n",
      "max_delay = 0.20 seconds\n",
      "iteration: 85\n"
     ]
    },
    {
     "name": "stderr",
     "output_type": "stream",
     "text": [
      " 42%|████▎     | 85/200 [00:43<01:02,  1.83it/s]"
     ]
    },
    {
     "name": "stdout",
     "output_type": "stream",
     "text": [
      "user 14, g: 0.00018838908112264456, ucb: 3.443425890313759, num_of_obs: 14, privacy reward: 0.7557837414557247, curr_delay = 0.18107226656684378\n",
      "user 3, g: -0.0004652056901191852, ucb: 3.484481204586592, num_of_obs: 17, privacy reward: 0.7117703227626089, curr_delay = 0.09920472934480684\n",
      "user 4, g: -9.611687812379895e-05, ucb: 3.4877874405043494, num_of_obs: 16, privacy reward: 0.72614903707369, curr_delay = 0.10755838301182942\n",
      "user 5, g: -9.611687812379895e-05, ucb: 3.4883199250290615, num_of_obs: 16, privacy reward: 0.72614903707369, curr_delay = 0.13290412804473595\n",
      "user 7, g: 3.844675124951914e-06, ucb: 3.4566201480005034, num_of_obs: 15, privacy reward: 0.7408182206817171, curr_delay = 0.13800746529176466\n",
      "max_delay = 0.18 seconds\n",
      "iteration: 86\n"
     ]
    },
    {
     "name": "stderr",
     "output_type": "stream",
     "text": [
      " 43%|████▎     | 86/200 [00:43<00:58,  1.93it/s]"
     ]
    },
    {
     "name": "stdout",
     "output_type": "stream",
     "text": [
      "user 10, g: 1.5023135628868296e-05, ucb: 3.39966672212766, num_of_obs: 15, privacy reward: 0.7408182206817171, curr_delay = 0.14216217933098657\n",
      "user 11, g: 1.5023135628868296e-05, ucb: 3.3903635436539057, num_of_obs: 15, privacy reward: 0.7408182206817171, curr_delay = 0.17631926216370336\n",
      "user 4, g: -0.0003755783907217117, ucb: 3.394299263402459, num_of_obs: 17, privacy reward: 0.7117703227626089, curr_delay = 0.08346103806138397\n",
      "user 6, g: -6.0092542515474046e-05, ucb: 3.3983783822861735, num_of_obs: 16, privacy reward: 0.72614903707369, curr_delay = 0.13252758667381695\n",
      "user 9, g: 1.5023135628868296e-05, ucb: 3.4335463827202934, num_of_obs: 15, privacy reward: 0.7408182206817171, curr_delay = 0.14160739873126452\n",
      "max_delay = 0.18 seconds\n",
      "iteration: 87\n"
     ]
    },
    {
     "name": "stderr",
     "output_type": "stream",
     "text": [
      " 44%|████▎     | 87/200 [00:44<00:58,  1.94it/s]"
     ]
    },
    {
     "name": "stdout",
     "output_type": "stream",
     "text": [
      "user 15, g: 0.00029726516052318595, ucb: 3.2808689043812342, num_of_obs: 14, privacy reward: 0.7557837414557247, curr_delay = 0.7309327445606529\n",
      "user 16, g: 0.00029726516052318595, ucb: 3.278967211553788, num_of_obs: 14, privacy reward: 0.7557837414557247, curr_delay = 0.7169210541846107\n",
      "user 17, g: 0.00029726516052318595, ucb: 3.2778309055598434, num_of_obs: 14, privacy reward: 0.7557837414557247, curr_delay = 0.7453593269912225\n",
      "user 19, g: 0.00029726516052318595, ucb: 3.2756645148341295, num_of_obs: 14, privacy reward: 0.7557837414557247, curr_delay = 0.7686522765357726\n",
      "user 20, g: 0.00029726516052318595, ucb: 3.274584280117418, num_of_obs: 14, privacy reward: 0.7557837414557247, curr_delay = 0.8065208961350944\n",
      "max_delay = 0.81 seconds\n",
      "iteration: 88\n"
     ]
    },
    {
     "name": "stderr",
     "output_type": "stream",
     "text": [
      " 44%|████▍     | 88/200 [00:44<00:56,  1.97it/s]"
     ]
    },
    {
     "name": "stdout",
     "output_type": "stream",
     "text": [
      "user 18, g: 0.00035870064279155126, ucb: 3.280998665942941, num_of_obs: 14, privacy reward: 0.7557837414557247, curr_delay = 0.7422801074232347\n",
      "user 21, g: 0.00035870064279155126, ucb: 3.277580602077637, num_of_obs: 14, privacy reward: 0.7557837414557247, curr_delay = 0.7813305082299069\n",
      "user 23, g: 0.00035870064279155126, ucb: 3.2751538686255044, num_of_obs: 14, privacy reward: 0.7557837414557247, curr_delay = 0.8235985442110066\n",
      "user 24, g: 0.00035870064279155126, ucb: 3.274511806033914, num_of_obs: 14, privacy reward: 0.7557837414557247, curr_delay = 0.8504262033316271\n",
      "user 25, g: 0.00035870064279155126, ucb: 3.2733196144956582, num_of_obs: 14, privacy reward: 0.7557837414557247, curr_delay = 0.8420308135808104\n",
      "max_delay = 0.85 seconds\n",
      "iteration: 89\n"
     ]
    },
    {
     "name": "stderr",
     "output_type": "stream",
     "text": [
      " 44%|████▍     | 89/200 [00:45<00:55,  1.99it/s]"
     ]
    },
    {
     "name": "stdout",
     "output_type": "stream",
     "text": [
      "user 12, g: 8.767130973923037e-05, ucb: 3.3702558807684087, num_of_obs: 15, privacy reward: 0.7408182206817171, curr_delay = 0.20135755764371782\n",
      "user 13, g: 8.767130973923037e-05, ucb: 3.380005747063041, num_of_obs: 15, privacy reward: 0.7408182206817171, curr_delay = 0.19055692699132265\n",
      "user 5, g: -0.0001718357670888918, ucb: 3.400359662725355, num_of_obs: 17, privacy reward: 0.7117703227626089, curr_delay = 0.10685052106072648\n",
      "user 7, g: -3.506852389569235e-06, ucb: 3.366793735090426, num_of_obs: 16, privacy reward: 0.72614903707369, curr_delay = 0.12786503234667868\n",
      "user 8, g: -3.506852389569235e-06, ucb: 3.3741624008737663, num_of_obs: 16, privacy reward: 0.72614903707369, curr_delay = 0.16427706267943296\n",
      "max_delay = 0.20 seconds\n",
      "iteration: 90\n"
     ]
    },
    {
     "name": "stderr",
     "output_type": "stream",
     "text": [
      " 45%|████▌     | 90/200 [00:45<01:00,  1.82it/s]"
     ]
    },
    {
     "name": "stdout",
     "output_type": "stream",
     "text": [
      "user 22, g: 0.0004938271604938274, ucb: 3.284077469200009, num_of_obs: 14, privacy reward: 0.7557837414557247, curr_delay = 0.8078180730292986\n",
      "user 26, g: 0.0004938271604938274, ucb: 3.280492755167483, num_of_obs: 14, privacy reward: 0.7557837414557247, curr_delay = 0.8756933620338456\n",
      "user 27, g: 0.0004938271604938274, ucb: 3.279765332697363, num_of_obs: 14, privacy reward: 0.7557837414557247, curr_delay = 0.8914029539936084\n",
      "user 28, g: 0.0004938271604938274, ucb: 3.27892546084218, num_of_obs: 14, privacy reward: 0.7557837414557247, curr_delay = 0.8716181796498483\n",
      "user 29, g: 0.0004938271604938274, ucb: 3.2774823564186413, num_of_obs: 14, privacy reward: 0.7557837414557247, curr_delay = 0.8951563636936154\n",
      "max_delay = 0.90 seconds\n",
      "iteration: 91\n"
     ]
    },
    {
     "name": "stderr",
     "output_type": "stream",
     "text": [
      " 46%|████▌     | 91/200 [00:46<00:57,  1.89it/s]"
     ]
    },
    {
     "name": "stdout",
     "output_type": "stream",
     "text": [
      "user 0, g: -0.00040588227401414264, ucb: 3.6218098457402075, num_of_obs: 18, privacy reward: 0.6976763260710301, curr_delay = 0.08353948865910558\n",
      "user 1, g: -0.00040588227401414264, ucb: 3.5095165731986775, num_of_obs: 18, privacy reward: 0.6976763260710301, curr_delay = 0.06033996293176819\n",
      "user 14, g: 0.00016436554898093314, ucb: 3.353021724810079, num_of_obs: 15, privacy reward: 0.7408182206817171, curr_delay = 0.20065235122351738\n",
      "user 3, g: -0.00040588227401414264, ucb: 3.4141724799839896, num_of_obs: 18, privacy reward: 0.6976763260710301, curr_delay = 0.0897041605742265\n",
      "user 9, g: 3.354398958794539e-06, ucb: 3.3482638999488734, num_of_obs: 16, privacy reward: 0.72614903707369, curr_delay = 0.17939209305134177\n",
      "max_delay = 0.20 seconds\n",
      "iteration: 92\n"
     ]
    },
    {
     "name": "stderr",
     "output_type": "stream",
     "text": [
      " 46%|████▌     | 92/200 [00:46<00:58,  1.85it/s]"
     ]
    },
    {
     "name": "stdout",
     "output_type": "stream",
     "text": [
      "user 15, g: 0.0002100399075824401, ucb: 3.1832302939093964, num_of_obs: 15, privacy reward: 0.7408182206817171, curr_delay = 0.7026675780453394\n",
      "user 16, g: 0.0002100399075824401, ucb: 3.1815599319688137, num_of_obs: 15, privacy reward: 0.7408182206817171, curr_delay = 0.7210754107028631\n",
      "user 17, g: 0.0002100399075824401, ucb: 3.1803147230586206, num_of_obs: 15, privacy reward: 0.7408182206817171, curr_delay = 0.7221395087992594\n",
      "user 18, g: 0.0002100399075824401, ucb: 3.179464218348886, num_of_obs: 15, privacy reward: 0.7408182206817171, curr_delay = 0.7305086995449039\n",
      "user 20, g: 0.0002100399075824401, ucb: 3.1769366376292676, num_of_obs: 15, privacy reward: 0.7408182206817171, curr_delay = 0.7876157792494032\n",
      "max_delay = 0.79 seconds\n",
      "iteration: 93\n"
     ]
    },
    {
     "name": "stderr",
     "output_type": "stream",
     "text": [
      " 46%|████▋     | 93/200 [00:47<00:56,  1.89it/s]"
     ]
    },
    {
     "name": "stdout",
     "output_type": "stream",
     "text": [
      "user 21, g: 0.0002601456815816853, ucb: 3.179768730855026, num_of_obs: 15, privacy reward: 0.7408182206817171, curr_delay = 0.7762402982713127\n",
      "user 22, g: 0.0002601456815816853, ucb: 3.1781703303867856, num_of_obs: 15, privacy reward: 0.7408182206817171, curr_delay = 0.8004756561051803\n",
      "user 23, g: 0.0002601456815816853, ucb: 3.1772807486453596, num_of_obs: 15, privacy reward: 0.7408182206817171, curr_delay = 0.827332958003514\n",
      "user 24, g: 0.0002601456815816853, ucb: 3.176547751936426, num_of_obs: 15, privacy reward: 0.7408182206817171, curr_delay = 0.8226631679552211\n",
      "user 26, g: 0.0002601456815816853, ucb: 3.174498987925268, num_of_obs: 15, privacy reward: 0.7408182206817171, curr_delay = 0.8692851999550869\n",
      "max_delay = 0.87 seconds\n",
      "iteration: 94\n"
     ]
    },
    {
     "name": "stderr",
     "output_type": "stream",
     "text": [
      " 47%|████▋     | 94/200 [00:47<00:51,  2.06it/s]"
     ]
    },
    {
     "name": "stdout",
     "output_type": "stream",
     "text": [
      "user 10, g: 5.029928072028545e-05, ucb: 3.327330416632744, num_of_obs: 16, privacy reward: 0.72614903707369, curr_delay = 0.16972186612760345\n",
      "user 2, g: -0.0006161661888235003, ucb: 3.439609974005264, num_of_obs: 19, privacy reward: 0.6838614092123549, curr_delay = 0.08876807730382794\n",
      "user 4, g: -0.00020119712288114338, ucb: 3.3414400710694374, num_of_obs: 18, privacy reward: 0.6976763260710301, curr_delay = 0.11834132527716097\n",
      "user 5, g: -0.00020119712288114338, ucb: 3.328981012072196, num_of_obs: 18, privacy reward: 0.6976763260710301, curr_delay = 0.12940281683672245\n",
      "user 6, g: -1.2574820180071461e-05, ucb: 3.33003995948677, num_of_obs: 17, privacy reward: 0.7117703227626089, curr_delay = 0.10995760434054339\n",
      "max_delay = 0.17 seconds\n",
      "iteration: 95\n"
     ]
    },
    {
     "name": "stderr",
     "output_type": "stream",
     "text": [
      " 48%|████▊     | 95/200 [00:48<00:50,  2.07it/s]"
     ]
    },
    {
     "name": "stdout",
     "output_type": "stream",
     "text": [
      "user 0, g: -0.0005201600492459225, ucb: 3.5441448439512198, num_of_obs: 19, privacy reward: 0.6838614092123549, curr_delay = 0.05\n",
      "user 11, g: 7.694675284702985e-05, ucb: 3.317613632346542, num_of_obs: 16, privacy reward: 0.72614903707369, curr_delay = 0.18312812175631416\n",
      "user 13, g: 7.694675284702985e-05, ucb: 3.295456545813873, num_of_obs: 16, privacy reward: 0.72614903707369, curr_delay = 0.17536903755039226\n",
      "user 3, g: -0.0005201600492459225, ucb: 3.3457577986738314, num_of_obs: 19, privacy reward: 0.6838614092123549, curr_delay = 0.09110420612157542\n",
      "user 8, g: -3.0778701138812134e-06, ucb: 3.295427834653445, num_of_obs: 17, privacy reward: 0.7117703227626089, curr_delay = 0.12287857725039872\n",
      "max_delay = 0.18 seconds\n",
      "iteration: 96\n"
     ]
    },
    {
     "name": "stderr",
     "output_type": "stream",
     "text": [
      " 48%|████▊     | 96/200 [00:48<00:47,  2.19it/s]"
     ]
    },
    {
     "name": "stdout",
     "output_type": "stream",
     "text": [
      "user 1, g: -0.0004340277777777782, ucb: 3.45404006064265, num_of_obs: 19, privacy reward: 0.6838614092123549, curr_delay = 0.0634283441264809\n",
      "user 12, g: 0.00010850694444444425, ucb: 3.288886116620454, num_of_obs: 16, privacy reward: 0.72614903707369, curr_delay = 0.1995439006011494\n",
      "user 14, g: 0.00010850694444444425, ucb: 3.2657023497686395, num_of_obs: 16, privacy reward: 0.72614903707369, curr_delay = 0.19817639626871333\n",
      "user 7, g: 0.0, ucb: 3.2972944192641123, num_of_obs: 17, privacy reward: 0.7117703227626089, curr_delay = 0.14770636274511884\n",
      "user 9, g: 0.0, ucb: 3.2659578788633117, num_of_obs: 17, privacy reward: 0.7117703227626089, curr_delay = 0.16883936316117837\n",
      "max_delay = 0.20 seconds\n",
      "iteration: 97\n"
     ]
    },
    {
     "name": "stderr",
     "output_type": "stream",
     "text": [
      " 48%|████▊     | 97/200 [00:49<00:51,  2.00it/s]"
     ]
    },
    {
     "name": "stdout",
     "output_type": "stream",
     "text": [
      "user 19, g: 0.0004989312832866878, ucb: 3.196320800253139, num_of_obs: 15, privacy reward: 0.7408182206817171, curr_delay = 0.7639004967149209\n",
      "user 25, g: 0.0004989312832866878, ucb: 3.189926614403596, num_of_obs: 15, privacy reward: 0.7408182206817171, curr_delay = 0.8721873173355456\n",
      "user 27, g: 0.0004989312832866878, ucb: 3.1881956747212947, num_of_obs: 15, privacy reward: 0.7408182206817171, curr_delay = 0.8644594687603576\n",
      "user 28, g: 0.0004989312832866878, ucb: 3.1875067374342243, num_of_obs: 15, privacy reward: 0.7408182206817171, curr_delay = 0.8699504009219232\n",
      "user 29, g: 0.0004989312832866878, ucb: 3.1860589687304506, num_of_obs: 15, privacy reward: 0.7408182206817171, curr_delay = 0.9049143885041174\n",
      "max_delay = 0.90 seconds\n",
      "iteration: 98\n"
     ]
    },
    {
     "name": "stderr",
     "output_type": "stream",
     "text": [
      " 49%|████▉     | 98/200 [00:49<00:49,  2.05it/s]"
     ]
    },
    {
     "name": "stdout",
     "output_type": "stream",
     "text": [
      "user 1, g: -0.0007404322273126939, ucb: 3.39139554306314, num_of_obs: 20, privacy reward: 0.6703200460356383, curr_delay = 0.0654361215853353\n",
      "user 3, g: -0.0007404322273126939, ucb: 3.2792076958030805, num_of_obs: 20, privacy reward: 0.6703200460356383, curr_delay = 0.10991827086467512\n",
      "user 4, g: -0.00028923133879402163, ucb: 3.269398172090286, num_of_obs: 19, privacy reward: 0.6838614092123549, curr_delay = 0.12163402866185369\n",
      "user 5, g: -0.00028923133879402163, ucb: 3.2556248206043708, num_of_obs: 19, privacy reward: 0.6838614092123549, curr_delay = 0.09443574755771612\n",
      "user 6, g: -4.6277014207043464e-05, ucb: 3.25840229444785, num_of_obs: 18, privacy reward: 0.6976763260710301, curr_delay = 0.10651408627177791\n",
      "max_delay = 0.12 seconds\n",
      "iteration: 99\n"
     ]
    },
    {
     "name": "stderr",
     "output_type": "stream",
     "text": [
      " 50%|████▉     | 99/200 [00:50<00:49,  2.04it/s]"
     ]
    },
    {
     "name": "stdout",
     "output_type": "stream",
     "text": [
      "user 15, g: 0.0002295684113865928, ucb: 3.1020161160048034, num_of_obs: 16, privacy reward: 0.72614903707369, curr_delay = 0.7307571529463284\n",
      "user 16, g: 0.0002295684113865928, ucb: 3.100336009670204, num_of_obs: 16, privacy reward: 0.72614903707369, curr_delay = 0.7148476349995158\n",
      "user 17, g: 0.0002295684113865928, ucb: 3.0991670029386293, num_of_obs: 16, privacy reward: 0.72614903707369, curr_delay = 0.7638459215582203\n",
      "user 18, g: 0.0002295684113865928, ucb: 3.0983203155880923, num_of_obs: 16, privacy reward: 0.72614903707369, curr_delay = 0.7627412461771166\n",
      "user 19, g: 0.0002295684113865928, ucb: 3.096901599787065, num_of_obs: 16, privacy reward: 0.72614903707369, curr_delay = 0.7520839205221435\n",
      "max_delay = 0.76 seconds\n",
      "iteration: 100\n"
     ]
    },
    {
     "name": "stderr",
     "output_type": "stream",
     "text": [
      " 50%|█████     | 100/200 [00:50<00:48,  2.08it/s]"
     ]
    },
    {
     "name": "stdout",
     "output_type": "stream",
     "text": [
      "user 10, g: 4.444444444444428e-05, ucb: 3.2502725107048076, num_of_obs: 17, privacy reward: 0.7117703227626089, curr_delay = 0.12817528507668444\n",
      "user 11, g: 4.444444444444428e-05, ucb: 3.2365259028066036, num_of_obs: 17, privacy reward: 0.7117703227626089, curr_delay = 0.17511004629014743\n",
      "user 13, g: 4.444444444444428e-05, ucb: 3.2165086438750667, num_of_obs: 17, privacy reward: 0.7117703227626089, curr_delay = 0.2213773589243216\n",
      "user 7, g: -1.1111111111111254e-05, ucb: 3.2206495891797, num_of_obs: 18, privacy reward: 0.6976763260710301, curr_delay = 0.14516477559856247\n",
      "user 8, g: -1.1111111111111254e-05, ucb: 3.226076225546313, num_of_obs: 18, privacy reward: 0.6976763260710301, curr_delay = 0.1450290106043671\n",
      "max_delay = 0.22 seconds\n",
      "iteration: 101\n"
     ]
    },
    {
     "name": "stderr",
     "output_type": "stream",
     "text": [
      " 50%|█████     | 101/200 [00:51<00:48,  2.04it/s]"
     ]
    },
    {
     "name": "stdout",
     "output_type": "stream",
     "text": [
      "user 20, g: 0.00032948839438399276, ucb: 3.1022207535945516, num_of_obs: 16, privacy reward: 0.72614903707369, curr_delay = 0.7965749701412422\n",
      "user 21, g: 0.00032948839438399276, ucb: 3.1014550870842292, num_of_obs: 16, privacy reward: 0.72614903707369, curr_delay = 0.7988340610547394\n",
      "user 22, g: 0.00032948839438399276, ucb: 3.099833234518925, num_of_obs: 16, privacy reward: 0.72614903707369, curr_delay = 0.7947964715599859\n",
      "user 25, g: 0.00032948839438399276, ucb: 3.096982293568134, num_of_obs: 16, privacy reward: 0.72614903707369, curr_delay = 0.8367702980413836\n",
      "user 26, g: 0.00032948839438399276, ucb: 3.0960770255994556, num_of_obs: 16, privacy reward: 0.72614903707369, curr_delay = 0.8280146589911145\n",
      "max_delay = 0.84 seconds\n",
      "iteration: 102\n"
     ]
    },
    {
     "name": "stderr",
     "output_type": "stream",
     "text": [
      " 51%|█████     | 102/200 [00:51<00:47,  2.07it/s]"
     ]
    },
    {
     "name": "stdout",
     "output_type": "stream",
     "text": [
      "user 23, g: 0.0003844675124951936, ucb: 3.1021089298190634, num_of_obs: 16, privacy reward: 0.72614903707369, curr_delay = 0.8567028731130518\n",
      "user 24, g: 0.0003844675124951936, ucb: 3.101447669955345, num_of_obs: 16, privacy reward: 0.72614903707369, curr_delay = 0.8455023601444679\n",
      "user 27, g: 0.0003844675124951936, ucb: 3.0986420666480288, num_of_obs: 16, privacy reward: 0.72614903707369, curr_delay = 0.8768505971125732\n",
      "user 28, g: 0.0003844675124951936, ucb: 3.097974720468124, num_of_obs: 16, privacy reward: 0.72614903707369, curr_delay = 0.8735204888720249\n",
      "user 29, g: 0.0003844675124951936, ucb: 3.0964754233239433, num_of_obs: 16, privacy reward: 0.72614903707369, curr_delay = 0.9035692744275211\n",
      "max_delay = 0.90 seconds\n",
      "iteration: 103\n"
     ]
    },
    {
     "name": "stderr",
     "output_type": "stream",
     "text": [
      " 52%|█████▏    | 103/200 [00:52<00:44,  2.17it/s]"
     ]
    },
    {
     "name": "stdout",
     "output_type": "stream",
     "text": [
      "user 0, g: -0.0003168169583477345, ucb: 3.5054610081732305, num_of_obs: 20, privacy reward: 0.6703200460356383, curr_delay = 0.06490287235356532\n",
      "user 12, g: 0.00012829777652098332, ucb: 3.214354430605996, num_of_obs: 17, privacy reward: 0.7117703227626089, curr_delay = 0.18310685508625138\n",
      "user 14, g: 0.00012829777652098332, ucb: 3.1927277150012396, num_of_obs: 17, privacy reward: 0.7117703227626089, curr_delay = 0.20487678443108687\n",
      "user 6, g: -6.545804924539985e-05, ucb: 3.1963040129646068, num_of_obs: 19, privacy reward: 0.6838614092123549, curr_delay = 0.12673199831791035\n",
      "user 9, g: 2.6183219698159222e-06, ucb: 3.1977983159733236, num_of_obs: 18, privacy reward: 0.6976763260710301, curr_delay = 0.15804631829949845\n",
      "max_delay = 0.20 seconds\n",
      "iteration: 104\n"
     ]
    },
    {
     "name": "stderr",
     "output_type": "stream",
     "text": [
      " 52%|█████▏    | 104/200 [00:52<00:42,  2.25it/s]"
     ]
    },
    {
     "name": "stdout",
     "output_type": "stream",
     "text": [
      "user 0, g: -0.0006574621959237354, ucb: 3.4382162248554087, num_of_obs: 21, privacy reward: 0.6570468198150559, curr_delay = 0.05\n",
      "user 1, g: -0.0006574621959237354, ucb: 3.3433735448909623, num_of_obs: 21, privacy reward: 0.6570468198150559, curr_delay = 0.07182613119216506\n",
      "user 2, g: -0.0002568211702827087, ucb: 3.3892944157881097, num_of_obs: 20, privacy reward: 0.6703200460356383, curr_delay = 0.10583227200289609\n",
      "user 3, g: -0.0006574621959237354, ucb: 3.2213340631793788, num_of_obs: 21, privacy reward: 0.6570468198150559, curr_delay = 0.09270368429718677\n",
      "user 4, g: -0.0002568211702827087, ucb: 3.2081022633457765, num_of_obs: 20, privacy reward: 0.6703200460356383, curr_delay = 0.08672945866749131\n",
      "max_delay = 0.11 seconds\n",
      "iteration: 105\n"
     ]
    },
    {
     "name": "stderr",
     "output_type": "stream",
     "text": [
      " 52%|█████▎    | 105/200 [00:52<00:44,  2.13it/s]"
     ]
    },
    {
     "name": "stdout",
     "output_type": "stream",
     "text": [
      "user 16, g: 0.00020408163265306055, ucb: 3.022877155484561, num_of_obs: 17, privacy reward: 0.7117703227626089, curr_delay = 0.7202939494234191\n",
      "user 17, g: 0.00020408163265306055, ucb: 3.0215007899425, num_of_obs: 17, privacy reward: 0.7117703227626089, curr_delay = 0.7459118923347013\n",
      "user 18, g: 0.00020408163265306055, ucb: 3.0207129457334543, num_of_obs: 17, privacy reward: 0.7117703227626089, curr_delay = 0.7405755908027564\n",
      "user 19, g: 0.00020408163265306055, ucb: 3.01944095668765, num_of_obs: 17, privacy reward: 0.7117703227626089, curr_delay = 0.7772379454694949\n",
      "user 20, g: 0.00020408163265306055, ucb: 3.0180171236238955, num_of_obs: 17, privacy reward: 0.7117703227626089, curr_delay = 0.7888193099824629\n",
      "max_delay = 0.79 seconds\n",
      "iteration: 106\n"
     ]
    },
    {
     "name": "stderr",
     "output_type": "stream",
     "text": [
      " 53%|█████▎    | 106/200 [00:53<00:41,  2.24it/s]"
     ]
    },
    {
     "name": "stdout",
     "output_type": "stream",
     "text": [
      "user 10, g: 3.95553973339662e-05, ucb: 3.1851212486780773, num_of_obs: 18, privacy reward: 0.6976763260710301, curr_delay = 0.1675002340584707\n",
      "user 11, g: 3.95553973339662e-05, ucb: 3.166032907554967, num_of_obs: 18, privacy reward: 0.6976763260710301, curr_delay = 0.1660721710664026\n",
      "user 5, g: -0.0001582215893358648, ucb: 3.206832465702243, num_of_obs: 20, privacy reward: 0.6703200460356383, curr_delay = 0.09329437989506537\n",
      "user 7, g: -9.88884933349155e-06, ucb: 3.1563878911876575, num_of_obs: 19, privacy reward: 0.6838614092123549, curr_delay = 0.1336527186141783\n",
      "user 8, g: -9.88884933349155e-06, ucb: 3.1615309607910786, num_of_obs: 19, privacy reward: 0.6838614092123549, curr_delay = 0.12369996863076692\n",
      "max_delay = 0.17 seconds\n",
      "iteration: 107\n"
     ]
    },
    {
     "name": "stderr",
     "output_type": "stream",
     "text": [
      " 54%|█████▎    | 107/200 [00:53<00:43,  2.15it/s]"
     ]
    },
    {
     "name": "stdout",
     "output_type": "stream",
     "text": [
      "user 21, g: 0.0002935724614473851, ucb: 3.0232703600197377, num_of_obs: 17, privacy reward: 0.7117703227626089, curr_delay = 0.7754996338581633\n",
      "user 22, g: 0.0002935724614473851, ucb: 3.0217697460679958, num_of_obs: 17, privacy reward: 0.7117703227626089, curr_delay = 0.82140967546272\n",
      "user 23, g: 0.0002935724614473851, ucb: 3.0205805122826583, num_of_obs: 17, privacy reward: 0.7117703227626089, curr_delay = 0.7989215210330477\n",
      "user 24, g: 0.0002935724614473851, ucb: 3.0200089029363655, num_of_obs: 17, privacy reward: 0.7117703227626089, curr_delay = 0.8184936407644939\n",
      "user 25, g: 0.0002935724614473851, ucb: 3.0188997619133593, num_of_obs: 17, privacy reward: 0.7117703227626089, curr_delay = 0.8381229291467328\n",
      "max_delay = 0.84 seconds\n",
      "iteration: 108\n"
     ]
    },
    {
     "name": "stderr",
     "output_type": "stream",
     "text": [
      " 54%|█████▍    | 108/200 [00:54<00:42,  2.18it/s]"
     ]
    },
    {
     "name": "stdout",
     "output_type": "stream",
     "text": [
      "user 12, g: 8.573388203017806e-05, ucb: 3.1413140460413853, num_of_obs: 18, privacy reward: 0.6976763260710301, curr_delay = 0.18038299255234702\n",
      "user 13, g: 8.573388203017806e-05, ucb: 3.149426288504999, num_of_obs: 18, privacy reward: 0.6976763260710301, curr_delay = 0.18946516342738637\n",
      "user 2, g: -0.0003429355281207133, ucb: 3.3209861235077436, num_of_obs: 21, privacy reward: 0.6570468198150559, curr_delay = 0.055810248459879586\n",
      "user 4, g: -0.0003429355281207133, ucb: 3.154056563824722, num_of_obs: 21, privacy reward: 0.6570468198150559, curr_delay = 0.08120017844304321\n",
      "user 5, g: -0.0003429355281207133, ucb: 3.1455517435760387, num_of_obs: 21, privacy reward: 0.6570468198150559, curr_delay = 0.0995719979121509\n",
      "max_delay = 0.19 seconds\n",
      "iteration: 109\n"
     ]
    },
    {
     "name": "stderr",
     "output_type": "stream",
     "text": [
      " 55%|█████▍    | 109/200 [00:54<00:44,  2.04it/s]"
     ]
    },
    {
     "name": "stdout",
     "output_type": "stream",
     "text": [
      "user 15, g: 0.00039512199683902334, ucb: 3.0361988471277006, num_of_obs: 17, privacy reward: 0.7117703227626089, curr_delay = 0.6987484610357243\n",
      "user 26, g: 0.00039512199683902334, ucb: 3.023950187143189, num_of_obs: 17, privacy reward: 0.7117703227626089, curr_delay = 0.8639820181284253\n",
      "user 27, g: 0.00039512199683902334, ucb: 3.023106136724356, num_of_obs: 17, privacy reward: 0.7117703227626089, curr_delay = 0.8884444936728964\n",
      "user 28, g: 0.00039512199683902334, ucb: 3.0224940862457768, num_of_obs: 17, privacy reward: 0.7117703227626089, curr_delay = 0.8933089724797967\n",
      "user 29, g: 0.00039512199683902334, ucb: 3.0209695238215017, num_of_obs: 17, privacy reward: 0.7117703227626089, curr_delay = 0.917538148363876\n",
      "max_delay = 0.92 seconds\n",
      "iteration: 110\n"
     ]
    },
    {
     "name": "stderr",
     "output_type": "stream",
     "text": [
      " 55%|█████▌    | 110/200 [00:55<00:43,  2.06it/s]"
     ]
    },
    {
     "name": "stdout",
     "output_type": "stream",
     "text": [
      "user 1, g: -0.0005876951331496795, ucb: 3.2948983374856624, num_of_obs: 22, privacy reward: 0.6440364210831403, curr_delay = 0.05667136125192142\n",
      "user 14, g: 0.00014692378328741952, ucb: 3.124879675231701, num_of_obs: 18, privacy reward: 0.6976763260710301, curr_delay = 0.23254427676258752\n",
      "user 2, g: -0.0005876951331496795, ucb: 3.272897042010743, num_of_obs: 22, privacy reward: 0.6440364210831403, curr_delay = 0.07093704126567099\n",
      "user 3, g: -0.0005876951331496795, ucb: 3.171204898251261, num_of_obs: 22, privacy reward: 0.6440364210831403, curr_delay = 0.06645694386352095\n",
      "user 9, g: 9.182736455463678e-06, ucb: 3.1356698046958864, num_of_obs: 19, privacy reward: 0.6838614092123549, curr_delay = 0.15252688168726963\n",
      "max_delay = 0.23 seconds\n",
      "iteration: 111\n"
     ]
    },
    {
     "name": "stderr",
     "output_type": "stream",
     "text": [
      " 56%|█████▌    | 111/200 [00:55<00:44,  2.00it/s]"
     ]
    },
    {
     "name": "stdout",
     "output_type": "stream",
     "text": [
      "user 16, g: 0.00018261504747991238, ucb: 2.9517686978654076, num_of_obs: 18, privacy reward: 0.6976763260710301, curr_delay = 0.7273038893833292\n",
      "user 17, g: 0.00018261504747991238, ucb: 2.950333056250219, num_of_obs: 18, privacy reward: 0.6976763260710301, curr_delay = 0.7330940339021782\n",
      "user 18, g: 0.00018261504747991238, ucb: 2.949619967995709, num_of_obs: 18, privacy reward: 0.6976763260710301, curr_delay = 0.7556088988210709\n",
      "user 19, g: 0.00018261504747991238, ucb: 2.9482354672128634, num_of_obs: 18, privacy reward: 0.6976763260710301, curr_delay = 0.7475688943758122\n",
      "user 20, g: 0.00018261504747991238, ucb: 2.946839830692129, num_of_obs: 18, privacy reward: 0.6976763260710301, curr_delay = 0.780262022765489\n",
      "max_delay = 0.78 seconds\n",
      "iteration: 112\n"
     ]
    },
    {
     "name": "stderr",
     "output_type": "stream",
     "text": [
      " 56%|█████▌    | 112/200 [00:56<00:42,  2.08it/s]"
     ]
    },
    {
     "name": "stdout",
     "output_type": "stream",
     "text": [
      "user 10, g: 3.5430839002267324e-05, ucb: 3.1197117098163596, num_of_obs: 19, privacy reward: 0.6838614092123549, curr_delay = 0.1648068624840393\n",
      "user 11, g: 3.5430839002267324e-05, ucb: 3.1018264363762524, num_of_obs: 19, privacy reward: 0.6838614092123549, curr_delay = 0.17207758747930188\n",
      "user 4, g: -0.0004340277777777782, ucb: 3.1055389134494176, num_of_obs: 22, privacy reward: 0.6440364210831403, curr_delay = 0.12032625182507725\n",
      "user 6, g: -8.857709750566995e-06, ucb: 3.145331251992481, num_of_obs: 20, privacy reward: 0.6703200460356383, curr_delay = 0.11668108922611839\n",
      "user 8, g: -8.857709750566995e-06, ucb: 3.1047546988967247, num_of_obs: 20, privacy reward: 0.6703200460356383, curr_delay = 0.15629531189889467\n",
      "max_delay = 0.17 seconds\n",
      "iteration: 113\n"
     ]
    },
    {
     "name": "stderr",
     "output_type": "stream",
     "text": [
      " 56%|█████▋    | 113/200 [00:56<00:39,  2.20it/s]"
     ]
    },
    {
     "name": "stdout",
     "output_type": "stream",
     "text": [
      "user 12, g: 5.438518634540239e-05, ucb: 3.0743696328510506, num_of_obs: 19, privacy reward: 0.6838614092123549, curr_delay = 0.15557587032145997\n",
      "user 13, g: 5.438518634540239e-05, ucb: 3.0812930152847926, num_of_obs: 19, privacy reward: 0.6838614092123549, curr_delay = 0.18123702070814993\n",
      "user 6, g: -0.00010659496523698903, ucb: 3.0793582631855703, num_of_obs: 21, privacy reward: 0.6570468198150559, curr_delay = 0.10908119757996229\n",
      "user 7, g: -2.175407453816161e-06, ucb: 3.1008679007624345, num_of_obs: 20, privacy reward: 0.6703200460356383, curr_delay = 0.1356303885694999\n",
      "user 9, g: -2.175407453816161e-06, ucb: 3.0683352347100676, num_of_obs: 20, privacy reward: 0.6703200460356383, curr_delay = 0.14354759525309269\n",
      "max_delay = 0.18 seconds\n",
      "iteration: 114\n"
     ]
    },
    {
     "name": "stderr",
     "output_type": "stream",
     "text": [
      " 57%|█████▋    | 114/200 [00:57<00:41,  2.09it/s]"
     ]
    },
    {
     "name": "stdout",
     "output_type": "stream",
     "text": [
      "user 15, g: 0.0003077870113881194, ucb: 2.961438239148179, num_of_obs: 18, privacy reward: 0.6976763260710301, curr_delay = 0.7168749493624077\n",
      "user 21, g: 0.0003077870113881194, ucb: 2.954368605904766, num_of_obs: 18, privacy reward: 0.6976763260710301, curr_delay = 0.7744224763871276\n",
      "user 24, g: 0.0003077870113881194, ucb: 2.951099779622269, num_of_obs: 18, privacy reward: 0.6976763260710301, curr_delay = 0.8481585695607409\n",
      "user 25, g: 0.0003077870113881194, ucb: 2.94997172279347, num_of_obs: 18, privacy reward: 0.6976763260710301, curr_delay = 0.8253914485629705\n",
      "user 26, g: 0.0003077870113881194, ucb: 2.949105092491458, num_of_obs: 18, privacy reward: 0.6976763260710301, curr_delay = 0.8636994034715104\n",
      "max_delay = 0.86 seconds\n",
      "iteration: 115\n"
     ]
    },
    {
     "name": "stderr",
     "output_type": "stream",
     "text": [
      " 57%|█████▊    | 115/200 [00:57<00:38,  2.20it/s]"
     ]
    },
    {
     "name": "stdout",
     "output_type": "stream",
     "text": [
      "user 0, g: -0.00025414828817475353, ucb: 3.411918981192117, num_of_obs: 22, privacy reward: 0.6440364210831403, curr_delay = 0.05\n",
      "user 10, g: 2.100399075824409e-06, ucb: 3.0519190060615324, num_of_obs: 20, privacy reward: 0.6703200460356383, curr_delay = 0.12796963617538742\n",
      "user 14, g: 0.00010291955471539549, ucb: 3.0552835032171646, num_of_obs: 19, privacy reward: 0.6838614092123549, curr_delay = 0.19350128795238958\n",
      "user 2, g: -0.0006070153329132543, ucb: 3.226319539293496, num_of_obs: 23, privacy reward: 0.6312836455069248, curr_delay = 0.0619657527433556\n",
      "user 5, g: -0.00025414828817475353, ucb: 3.099291051725177, num_of_obs: 22, privacy reward: 0.6440364210831403, curr_delay = 0.10963203608656613\n",
      "max_delay = 0.19 seconds\n",
      "iteration: 116\n"
     ]
    },
    {
     "name": "stderr",
     "output_type": "stream",
     "text": [
      " 58%|█████▊    | 116/200 [00:58<00:40,  2.06it/s]"
     ]
    },
    {
     "name": "stdout",
     "output_type": "stream",
     "text": [
      "user 22, g: 0.0004046109129343376, ucb: 2.958047464779645, num_of_obs: 18, privacy reward: 0.6976763260710301, curr_delay = 0.80263288920311\n",
      "user 23, g: 0.0004046109129343376, ucb: 2.9570289744186384, num_of_obs: 18, privacy reward: 0.6976763260710301, curr_delay = 0.8365691323800206\n",
      "user 27, g: 0.0004046109129343376, ucb: 2.9535201381418825, num_of_obs: 18, privacy reward: 0.6976763260710301, curr_delay = 0.8481698016522659\n",
      "user 28, g: 0.0004046109129343376, ucb: 2.952926063551951, num_of_obs: 18, privacy reward: 0.6976763260710301, curr_delay = 0.9059849010015177\n",
      "user 29, g: 0.0004046109129343376, ucb: 2.951404238414837, num_of_obs: 18, privacy reward: 0.6976763260710301, curr_delay = 0.9243577615761325\n",
      "max_delay = 0.92 seconds\n",
      "iteration: 117\n"
     ]
    },
    {
     "name": "stderr",
     "output_type": "stream",
     "text": [
      " 58%|█████▊    | 117/200 [00:58<00:40,  2.07it/s]"
     ]
    },
    {
     "name": "stdout",
     "output_type": "stream",
     "text": [
      "user 15, g: 0.00016436554898093314, ucb: 2.887641326482713, num_of_obs: 19, privacy reward: 0.6838614092123549, curr_delay = 0.7198652132837989\n",
      "user 17, g: 0.00016436554898093314, ucb: 2.884765314715692, num_of_obs: 19, privacy reward: 0.6838614092123549, curr_delay = 0.7385318545630897\n",
      "user 18, g: 0.00016436554898093314, ucb: 2.883978938275845, num_of_obs: 19, privacy reward: 0.6838614092123549, curr_delay = 0.7366713296737505\n",
      "user 19, g: 0.00016436554898093314, ucb: 2.882710891366016, num_of_obs: 19, privacy reward: 0.6838614092123549, curr_delay = 0.777494254505207\n",
      "user 20, g: 0.00016436554898093314, ucb: 2.8812370996451406, num_of_obs: 19, privacy reward: 0.6838614092123549, curr_delay = 0.7856536029022682\n",
      "max_delay = 0.79 seconds\n",
      "iteration: 118\n"
     ]
    },
    {
     "name": "stderr",
     "output_type": "stream",
     "text": [
      " 59%|█████▉    | 118/200 [00:59<00:37,  2.17it/s]"
     ]
    },
    {
     "name": "stdout",
     "output_type": "stream",
     "text": [
      "user 11, g: 3.191930798940283e-05, ucb: 3.0417181019715027, num_of_obs: 20, privacy reward: 0.6703200460356383, curr_delay = 0.17450394976939895\n",
      "user 3, g: -0.0003910115228701847, ucb: 3.1383030373206973, num_of_obs: 23, privacy reward: 0.6312836455069248, curr_delay = 0.08514792374281932\n",
      "user 4, g: -0.0003910115228701847, ucb: 3.0555750058105136, num_of_obs: 23, privacy reward: 0.6312836455069248, curr_delay = 0.10864054957454039\n",
      "user 7, g: -7.979826997350708e-06, ucb: 3.043849920634692, num_of_obs: 21, privacy reward: 0.6570468198150559, curr_delay = 0.12849768800211772\n",
      "user 8, g: -7.979826997350708e-06, ucb: 3.0475465945933014, num_of_obs: 21, privacy reward: 0.6570468198150559, curr_delay = 0.11824564117067526\n",
      "max_delay = 0.17 seconds\n",
      "iteration: 119\n"
     ]
    },
    {
     "name": "stderr",
     "output_type": "stream",
     "text": [
      " 60%|█████▉    | 119/200 [00:59<00:38,  2.08it/s]"
     ]
    },
    {
     "name": "stdout",
     "output_type": "stream",
     "text": [
      "user 16, g: 0.00023734984189754336, ucb: 2.891160516090682, num_of_obs: 19, privacy reward: 0.6838614092123549, curr_delay = 0.7148724955097776\n",
      "user 21, g: 0.00023734984189754336, ucb: 2.885685662177388, num_of_obs: 19, privacy reward: 0.6838614092123549, curr_delay = 0.838984220356248\n",
      "user 22, g: 0.00023734984189754336, ucb: 2.8840255131636283, num_of_obs: 19, privacy reward: 0.6838614092123549, curr_delay = 0.8207821432168533\n",
      "user 23, g: 0.00023734984189754336, ucb: 2.8829232135636733, num_of_obs: 19, privacy reward: 0.6838614092123549, curr_delay = 0.8293381597728865\n",
      "user 25, g: 0.00023734984189754336, ucb: 2.881311554567778, num_of_obs: 19, privacy reward: 0.6838614092123549, curr_delay = 0.829821133880572\n",
      "max_delay = 0.84 seconds\n",
      "iteration: 120\n"
     ]
    },
    {
     "name": "stderr",
     "output_type": "stream",
     "text": [
      " 60%|██████    | 120/200 [01:00<00:36,  2.17it/s]"
     ]
    },
    {
     "name": "stdout",
     "output_type": "stream",
     "text": [
      "user 0, g: -0.00027777777777777767, ucb: 3.3721520998989463, num_of_obs: 23, privacy reward: 0.6312836455069248, curr_delay = 0.05062469998432943\n",
      "user 12, g: 6.944444444444442e-05, ucb: 3.0196575543438566, num_of_obs: 20, privacy reward: 0.6703200460356383, curr_delay = 0.19593535497048842\n",
      "user 13, g: 6.944444444444442e-05, ucb: 3.0238215600632694, num_of_obs: 20, privacy reward: 0.6703200460356383, curr_delay = 0.2009748131921877\n",
      "user 6, g: -6.944444444444442e-05, ucb: 3.033646703610712, num_of_obs: 22, privacy reward: 0.6440364210831403, curr_delay = 0.09155486534309046\n",
      "user 9, g: 0.0, ucb: 3.016635267812489, num_of_obs: 21, privacy reward: 0.6570468198150559, curr_delay = 0.1646945695578076\n",
      "max_delay = 0.20 seconds\n",
      "iteration: 121\n"
     ]
    },
    {
     "name": "stderr",
     "output_type": "stream",
     "text": [
      " 60%|██████    | 121/200 [01:00<00:36,  2.15it/s]"
     ]
    },
    {
     "name": "stdout",
     "output_type": "stream",
     "text": [
      "user 24, g: 0.0003206368721019355, ucb: 2.887203611824601, num_of_obs: 19, privacy reward: 0.6838614092123549, curr_delay = 0.8355573131167764\n",
      "user 26, g: 0.0003206368721019355, ucb: 2.8852608112285507, num_of_obs: 19, privacy reward: 0.6838614092123549, curr_delay = 0.8325031886676982\n",
      "user 27, g: 0.0003206368721019355, ucb: 2.8844809058543914, num_of_obs: 19, privacy reward: 0.6838614092123549, curr_delay = 0.8848980590117486\n",
      "user 28, g: 0.0003206368721019355, ucb: 2.8837108408348295, num_of_obs: 19, privacy reward: 0.6838614092123549, curr_delay = 0.877194982616775\n",
      "user 29, g: 0.0003206368721019355, ucb: 2.8822126200264795, num_of_obs: 19, privacy reward: 0.6838614092123549, curr_delay = 0.9160881286584021\n",
      "max_delay = 0.92 seconds\n",
      "iteration: 122\n"
     ]
    },
    {
     "name": "stderr",
     "output_type": "stream",
     "text": [
      " 61%|██████    | 122/200 [01:00<00:34,  2.26it/s]"
     ]
    },
    {
     "name": "stdout",
     "output_type": "stream",
     "text": [
      "user 1, g: -0.00018662844516109808, ucb: 3.271175111469469, num_of_obs: 23, privacy reward: 0.6312836455069248, curr_delay = 0.07073169163746539\n",
      "user 10, g: 7.465137806443923e-06, ucb: 3.0029703099455345, num_of_obs: 21, privacy reward: 0.6570468198150559, curr_delay = 0.14359670232158744\n",
      "user 14, g: 0.00011944220490310218, ucb: 2.998072992677781, num_of_obs: 20, privacy reward: 0.6703200460356383, curr_delay = 0.2167208165260045\n",
      "user 5, g: -0.00018662844516109808, ucb: 3.053417512516023, num_of_obs: 23, privacy reward: 0.6312836455069248, curr_delay = 0.1165049869033579\n",
      "user 8, g: -2.9860551225775693e-05, ucb: 2.9945816599266872, num_of_obs: 22, privacy reward: 0.6440364210831403, curr_delay = 0.15641108311008625\n",
      "max_delay = 0.22 seconds\n",
      "iteration: 123\n"
     ]
    },
    {
     "name": "stderr",
     "output_type": "stream",
     "text": [
      " 62%|██████▏   | 123/200 [01:01<00:34,  2.25it/s]"
     ]
    },
    {
     "name": "stdout",
     "output_type": "stream",
     "text": [
      "user 15, g: 0.0001487209994051156, ucb: 2.826812951054798, num_of_obs: 20, privacy reward: 0.6703200460356383, curr_delay = 0.7073382934535561\n",
      "user 16, g: 0.0001487209994051156, ucb: 2.8254269390088322, num_of_obs: 20, privacy reward: 0.6703200460356383, curr_delay = 0.7387058960746957\n",
      "user 17, g: 0.0001487209994051156, ucb: 2.823995910414357, num_of_obs: 20, privacy reward: 0.6703200460356383, curr_delay = 0.7628358080565232\n",
      "user 20, g: 0.0001487209994051156, ucb: 2.8204396746656064, num_of_obs: 20, privacy reward: 0.6703200460356383, curr_delay = 0.8113904409260038\n",
      "user 21, g: 0.0001487209994051156, ucb: 2.819695673926806, num_of_obs: 20, privacy reward: 0.6703200460356383, curr_delay = 0.7999463753953205\n",
      "max_delay = 0.81 seconds\n",
      "iteration: 124\n"
     ]
    },
    {
     "name": "stderr",
     "output_type": "stream",
     "text": [
      " 62%|██████▏   | 124/200 [01:01<00:33,  2.30it/s]"
     ]
    },
    {
     "name": "stdout",
     "output_type": "stream",
     "text": [
      "user 1, g: -0.000354087177708406, ucb: 3.2189401454768323, num_of_obs: 24, privacy reward: 0.6187833918061397, curr_delay = 0.06238311962416335\n",
      "user 11, g: 2.8905075731298364e-05, ucb: 2.985562275227899, num_of_obs: 21, privacy reward: 0.6570468198150559, curr_delay = 0.1610669529637746\n",
      "user 2, g: -0.000354087177708406, ucb: 3.195485533929277, num_of_obs: 24, privacy reward: 0.6187833918061397, curr_delay = 0.056806993154191784\n",
      "user 6, g: -0.00011562030292519405, ucb: 2.9880574924145122, num_of_obs: 23, privacy reward: 0.6312836455069248, curr_delay = 0.1382927566408454\n",
      "user 7, g: -7.226268932824591e-06, ucb: 2.9938843363996086, num_of_obs: 22, privacy reward: 0.6440364210831403, curr_delay = 0.15236733960907878\n",
      "max_delay = 0.16 seconds\n",
      "iteration: 125\n"
     ]
    },
    {
     "name": "stderr",
     "output_type": "stream",
     "text": [
      " 62%|██████▎   | 125/200 [01:02<00:35,  2.10it/s]"
     ]
    },
    {
     "name": "stdout",
     "output_type": "stream",
     "text": [
      "user 18, g: 0.00021511111111111096, ucb: 2.8278756150962825, num_of_obs: 20, privacy reward: 0.6703200460356383, curr_delay = 0.7379513821251622\n",
      "user 19, g: 0.00021511111111111096, ucb: 2.826486743463653, num_of_obs: 20, privacy reward: 0.6703200460356383, curr_delay = 0.744968493036405\n",
      "user 23, g: 0.00021511111111111096, ucb: 2.821730793124115, num_of_obs: 20, privacy reward: 0.6703200460356383, curr_delay = 0.8186816616304812\n",
      "user 24, g: 0.00021511111111111096, ucb: 2.8211040714737017, num_of_obs: 20, privacy reward: 0.6703200460356383, curr_delay = 0.8176466071964179\n",
      "user 25, g: 0.00021511111111111096, ucb: 2.8202021114678413, num_of_obs: 20, privacy reward: 0.6703200460356383, curr_delay = 0.8289289689753386\n",
      "max_delay = 0.83 seconds\n",
      "iteration: 126\n"
     ]
    },
    {
     "name": "stderr",
     "output_type": "stream",
     "text": [
      " 63%|██████▎   | 126/200 [01:02<00:33,  2.20it/s]"
     ]
    },
    {
     "name": "stdout",
     "output_type": "stream",
     "text": [
      "user 0, g: -0.00025195263290501383, ucb: 3.3361074981706427, num_of_obs: 24, privacy reward: 0.6187833918061397, curr_delay = 0.06968986979870084\n",
      "user 12, g: 6.298815822625346e-05, ucb: 2.9629080659492124, num_of_obs: 21, privacy reward: 0.6570468198150559, curr_delay = 0.18049855915635316\n",
      "user 13, g: 6.298815822625346e-05, ucb: 2.9665439307375645, num_of_obs: 21, privacy reward: 0.6570468198150559, curr_delay = 0.18319281989476746\n",
      "user 3, g: -0.00025195263290501383, ucb: 3.099308788952137, num_of_obs: 24, privacy reward: 0.6187833918061397, curr_delay = 0.10432242977278001\n",
      "user 9, g: 0.0, ucb: 2.9637610898526994, num_of_obs: 22, privacy reward: 0.6440364210831403, curr_delay = 0.16575969794532447\n",
      "max_delay = 0.18 seconds\n",
      "iteration: 127\n"
     ]
    },
    {
     "name": "stderr",
     "output_type": "stream",
     "text": [
      " 64%|██████▎   | 127/200 [01:03<00:34,  2.13it/s]"
     ]
    },
    {
     "name": "stdout",
     "output_type": "stream",
     "text": [
      "user 22, g: 0.0002910561376678302, ucb: 2.8273430587510706, num_of_obs: 20, privacy reward: 0.6703200460356383, curr_delay = 0.821921726766471\n",
      "user 26, g: 0.0002910561376678302, ucb: 2.82380998238573, num_of_obs: 20, privacy reward: 0.6703200460356383, curr_delay = 0.8550527501436493\n",
      "user 27, g: 0.0002910561376678302, ucb: 2.822883959065239, num_of_obs: 20, privacy reward: 0.6703200460356383, curr_delay = 0.8621772370660271\n",
      "user 28, g: 0.0002910561376678302, ucb: 2.8221805388555126, num_of_obs: 20, privacy reward: 0.6703200460356383, curr_delay = 0.8995210019397408\n",
      "user 29, g: 0.0002910561376678302, ucb: 2.8206338050190993, num_of_obs: 20, privacy reward: 0.6703200460356383, curr_delay = 0.9053292183137515\n",
      "max_delay = 0.91 seconds\n",
      "iteration: 128\n"
     ]
    },
    {
     "name": "stderr",
     "output_type": "stream",
     "text": [
      " 64%|██████▍   | 128/200 [01:03<00:32,  2.22it/s]"
     ]
    },
    {
     "name": "stdout",
     "output_type": "stream",
     "text": [
      "user 10, g: 6.78168402777773e-06, ucb: 2.9527449683208378, num_of_obs: 22, privacy reward: 0.6440364210831403, curr_delay = 0.1477511826458829\n",
      "user 14, g: 0.00010850694444444425, ucb: 2.9410556028941612, num_of_obs: 21, privacy reward: 0.6570468198150559, curr_delay = 0.21938187497525088\n",
      "user 5, g: -0.00016954210069444468, ucb: 3.0068191244553235, num_of_obs: 24, privacy reward: 0.6187833918061397, curr_delay = 0.11952845963112331\n",
      "user 7, g: -2.7126736111111208e-05, ucb: 2.9400901637188674, num_of_obs: 23, privacy reward: 0.6312836455069248, curr_delay = 0.1369614947082583\n",
      "user 8, g: -2.7126736111111208e-05, ucb: 2.9445986234343575, num_of_obs: 23, privacy reward: 0.6312836455069248, curr_delay = 0.15826839484112903\n",
      "max_delay = 0.22 seconds\n",
      "iteration: 129\n"
     ]
    },
    {
     "name": "stderr",
     "output_type": "stream",
     "text": [
      " 64%|██████▍   | 129/200 [01:04<00:32,  2.21it/s]"
     ]
    },
    {
     "name": "stdout",
     "output_type": "stream",
     "text": [
      "user 13, g: 1.5023135628868296e-05, ucb: 2.9080099813623637, num_of_obs: 22, privacy reward: 0.6440364210831403, curr_delay = 0.20285770902684933\n",
      "user 15, g: 0.00013520822065981596, ucb: 2.7702979091656585, num_of_obs: 21, privacy reward: 0.6570468198150559, curr_delay = 0.7189583181503796\n",
      "user 16, g: 0.00013520822065981596, ucb: 2.768831117798216, num_of_obs: 21, privacy reward: 0.6570468198150559, curr_delay = 0.7415111038947098\n",
      "user 17, g: 0.00013520822065981596, ucb: 2.7673645890464327, num_of_obs: 21, privacy reward: 0.6570468198150559, curr_delay = 0.718797961836874\n",
      "user 18, g: 0.00013520822065981596, ucb: 2.7667759114296038, num_of_obs: 21, privacy reward: 0.6570468198150559, curr_delay = 0.7250630211190928\n",
      "max_delay = 0.74 seconds\n",
      "iteration: 130\n"
     ]
    },
    {
     "name": "stderr",
     "output_type": "stream",
     "text": [
      " 65%|██████▌   | 130/200 [01:04<00:30,  2.26it/s]"
     ]
    },
    {
     "name": "stdout",
     "output_type": "stream",
     "text": [
      "user 11, g: 2.629848783694919e-05, ucb: 2.934247397190387, num_of_obs: 22, privacy reward: 0.6440364210831403, curr_delay = 0.15389666479349295\n",
      "user 12, g: 2.629848783694919e-05, ucb: 2.9068337835063645, num_of_obs: 22, privacy reward: 0.6440364210831403, curr_delay = 0.17775778085073698\n",
      "user 4, g: -0.0001051939513477979, ucb: 3.0227588327825616, num_of_obs: 24, privacy reward: 0.6187833918061397, curr_delay = 0.12853033239995634\n",
      "user 6, g: -0.0001051939513477979, ucb: 2.9412374196254047, num_of_obs: 24, privacy reward: 0.6187833918061397, curr_delay = 0.12332637047466566\n",
      "user 9, g: -6.57462195923744e-06, ucb: 2.9100835659297966, num_of_obs: 23, privacy reward: 0.6312836455069248, curr_delay = 0.15082560520726185\n",
      "max_delay = 0.18 seconds\n",
      "iteration: 131\n"
     ]
    },
    {
     "name": "stderr",
     "output_type": "stream",
     "text": [
      " 66%|██████▌   | 131/200 [01:05<00:32,  2.10it/s]"
     ]
    },
    {
     "name": "stdout",
     "output_type": "stream",
     "text": [
      "user 19, g: 0.00019585753225983944, ucb: 2.769694867001683, num_of_obs: 21, privacy reward: 0.6570468198150559, curr_delay = 0.7885820052219483\n",
      "user 20, g: 0.00019585753225983944, ucb: 2.7680603446316914, num_of_obs: 21, privacy reward: 0.6570468198150559, curr_delay = 0.8060620456775418\n",
      "user 21, g: 0.00019585753225983944, ucb: 2.7673976227115635, num_of_obs: 21, privacy reward: 0.6570468198150559, curr_delay = 0.7975340904475974\n",
      "user 23, g: 0.00019585753225983944, ucb: 2.764874557554231, num_of_obs: 21, privacy reward: 0.6570468198150559, curr_delay = 0.8109818878201513\n",
      "user 24, g: 0.00019585753225983944, ucb: 2.764283037636049, num_of_obs: 21, privacy reward: 0.6570468198150559, curr_delay = 0.8229629985377142\n",
      "max_delay = 0.82 seconds\n",
      "iteration: 132\n"
     ]
    },
    {
     "name": "stderr",
     "output_type": "stream",
     "text": [
      " 66%|██████▌   | 132/200 [01:05<00:29,  2.30it/s]"
     ]
    },
    {
     "name": "stdout",
     "output_type": "stream",
     "text": [
      "user 0, g: -0.00022956841138659364, ucb: 3.290562814538451, num_of_obs: 25, privacy reward: 0.6065306597126323, curr_delay = 0.05286916766043709\n",
      "user 1, g: -0.00022956841138659364, ucb: 3.185763762172095, num_of_obs: 25, privacy reward: 0.6065306597126323, curr_delay = 0.06972474395055597\n",
      "user 2, g: -0.00022956841138659364, ucb: 3.166564528286063, num_of_obs: 25, privacy reward: 0.6065306597126323, curr_delay = 0.07240920315242945\n",
      "user 3, g: -0.00022956841138659364, ucb: 3.0537065067123006, num_of_obs: 25, privacy reward: 0.6065306597126323, curr_delay = 0.12041833662706719\n",
      "user 4, g: -0.00022956841138659364, ucb: 2.968820388254928, num_of_obs: 25, privacy reward: 0.6065306597126323, curr_delay = 0.09599612000986409\n",
      "max_delay = 0.12 seconds\n",
      "iteration: 133\n"
     ]
    },
    {
     "name": "stderr",
     "output_type": "stream",
     "text": [
      " 66%|██████▋   | 133/200 [01:05<00:31,  2.14it/s]"
     ]
    },
    {
     "name": "stdout",
     "output_type": "stream",
     "text": [
      "user 22, g: 0.0002653877802275111, ucb: 2.7700850222144564, num_of_obs: 21, privacy reward: 0.6570468198150559, curr_delay = 0.811715659838523\n",
      "user 25, g: 0.0002653877802275111, ucb: 2.7675835694731683, num_of_obs: 21, privacy reward: 0.6570468198150559, curr_delay = 0.8522495152555639\n",
      "user 26, g: 0.0002653877802275111, ucb: 2.766610743723431, num_of_obs: 21, privacy reward: 0.6570468198150559, curr_delay = 0.8567152815434769\n",
      "user 27, g: 0.0002653877802275111, ucb: 2.7657068611677755, num_of_obs: 21, privacy reward: 0.6570468198150559, curr_delay = 0.8693461449573194\n",
      "user 28, g: 0.0002653877802275111, ucb: 2.7649182331023865, num_of_obs: 21, privacy reward: 0.6570468198150559, curr_delay = 0.8766730727156913\n",
      "max_delay = 0.88 seconds\n",
      "iteration: 134\n"
     ]
    },
    {
     "name": "stderr",
     "output_type": "stream",
     "text": [
      " 67%|██████▋   | 134/200 [01:06<00:28,  2.32it/s]"
     ]
    },
    {
     "name": "stdout",
     "output_type": "stream",
     "text": [
      "user 0, g: -0.0003960298012425443, ucb: 3.249400418303342, num_of_obs: 26, privacy reward: 0.5945205479701932, curr_delay = 0.05\n",
      "user 1, g: -0.0003960298012425443, ucb: 3.1396483177103116, num_of_obs: 26, privacy reward: 0.5945205479701932, curr_delay = 0.05688236582773076\n",
      "user 2, g: -0.0003960298012425443, ucb: 3.1201536300370707, num_of_obs: 26, privacy reward: 0.5945205479701932, curr_delay = 0.09637977744463638\n",
      "user 3, g: -0.0003960298012425443, ucb: 3.000797897168239, num_of_obs: 26, privacy reward: 0.5945205479701932, curr_delay = 0.07329537552925534\n",
      "user 5, g: -0.00015469914111036854, ucb: 2.962415733849683, num_of_obs: 25, privacy reward: 0.6065306597126323, curr_delay = 0.12800941503427743\n",
      "max_delay = 0.13 seconds\n",
      "iteration: 135\n"
     ]
    },
    {
     "name": "stderr",
     "output_type": "stream",
     "text": [
      " 68%|██████▊   | 135/200 [01:06<00:28,  2.26it/s]"
     ]
    },
    {
     "name": "stdout",
     "output_type": "stream",
     "text": [
      "user 14, g: 0.00012345679012345652, ucb: 2.889714013944697, num_of_obs: 22, privacy reward: 0.6440364210831403, curr_delay = 0.20435553774444692\n",
      "user 4, g: -0.0003429355281207133, ucb: 2.9253720205561726, num_of_obs: 26, privacy reward: 0.5945205479701932, curr_delay = 0.09828377655047009\n",
      "user 6, g: -0.00012345679012345715, ucb: 2.8970583740342555, num_of_obs: 25, privacy reward: 0.6065306597126323, curr_delay = 0.10595925327039112\n",
      "user 7, g: -1.3717421124828571e-05, ucb: 2.897194949148279, num_of_obs: 24, privacy reward: 0.6187833918061397, curr_delay = 0.16510289464797256\n",
      "user 8, g: -1.3717421124828571e-05, ucb: 2.8993705599508686, num_of_obs: 24, privacy reward: 0.6187833918061397, curr_delay = 0.15854344766901438\n",
      "max_delay = 0.20 seconds\n",
      "iteration: 136\n"
     ]
    },
    {
     "name": "stderr",
     "output_type": "stream",
     "text": [
      " 68%|██████▊   | 136/200 [01:07<00:30,  2.13it/s]"
     ]
    },
    {
     "name": "stdout",
     "output_type": "stream",
     "text": [
      "user 10, g: 2.4029219530949463e-05, ucb: 2.909070982732401, num_of_obs: 23, privacy reward: 0.6312836455069248, curr_delay = 0.16030595225469535\n",
      "user 11, g: 2.4029219530949463e-05, ucb: 2.8867879873347184, num_of_obs: 23, privacy reward: 0.6312836455069248, curr_delay = 0.1775652250469051\n",
      "user 12, g: 2.4029219530949463e-05, ucb: 2.8586380973943704, num_of_obs: 23, privacy reward: 0.6312836455069248, curr_delay = 0.16384745245587773\n",
      "user 13, g: 2.4029219530949463e-05, ucb: 2.860176269284936, num_of_obs: 23, privacy reward: 0.6312836455069248, curr_delay = 0.19772812046580854\n",
      "user 9, g: -6.007304882737502e-06, ucb: 2.865008223449035, num_of_obs: 24, privacy reward: 0.6187833918061397, curr_delay = 0.15063042366016752\n",
      "max_delay = 0.20 seconds\n",
      "iteration: 137\n"
     ]
    },
    {
     "name": "stderr",
     "output_type": "stream",
     "text": [
      " 68%|██████▊   | 137/200 [01:07<00:30,  2.07it/s]"
     ]
    },
    {
     "name": "stdout",
     "output_type": "stream",
     "text": [
      "user 14, g: 3.699954416561579e-05, ucb: 2.8328222326287777, num_of_obs: 23, privacy reward: 0.6312836455069248, curr_delay = 0.20280124056014778\n",
      "user 15, g: 0.00017907779376158042, ucb: 2.7214518541970363, num_of_obs: 22, privacy reward: 0.6440364210831403, curr_delay = 0.6985106651288998\n",
      "user 16, g: 0.00017907779376158042, ucb: 2.719954186833599, num_of_obs: 22, privacy reward: 0.6440364210831403, curr_delay = 0.7293254305848286\n",
      "user 18, g: 0.00017907779376158042, ucb: 2.7180696878777524, num_of_obs: 22, privacy reward: 0.6440364210831403, curr_delay = 0.7219010444266202\n",
      "user 29, g: 0.00042771473055451965, ucb: 2.771624087676848, num_of_obs: 21, privacy reward: 0.6570468198150559, curr_delay = 0.8899621908910877\n",
      "max_delay = 0.89 seconds\n",
      "iteration: 138\n"
     ]
    },
    {
     "name": "stderr",
     "output_type": "stream",
     "text": [
      " 69%|██████▉   | 138/200 [01:08<00:29,  2.08it/s]"
     ]
    },
    {
     "name": "stdout",
     "output_type": "stream",
     "text": [
      "user 19, g: 0.0002100399075824401, ucb: 2.71847694104882, num_of_obs: 22, privacy reward: 0.6440364210831403, curr_delay = 0.7568193423177365\n",
      "user 21, g: 0.0002100399075824401, ucb: 2.7162551987797263, num_of_obs: 22, privacy reward: 0.6440364210831403, curr_delay = 0.7984799346716374\n",
      "user 22, g: 0.0002100399075824401, ucb: 2.7147634120749857, num_of_obs: 22, privacy reward: 0.6440364210831403, curr_delay = 0.8194026036386516\n",
      "user 23, g: 0.0002100399075824401, ucb: 2.7138027754496608, num_of_obs: 22, privacy reward: 0.6440364210831403, curr_delay = 0.8151814104356658\n",
      "user 24, g: 0.0002100399075824401, ucb: 2.713196681000287, num_of_obs: 22, privacy reward: 0.6440364210831403, curr_delay = 0.8378434025976432\n",
      "max_delay = 0.84 seconds\n",
      "iteration: 139\n"
     ]
    },
    {
     "name": "stderr",
     "output_type": "stream",
     "text": [
      " 70%|██████▉   | 139/200 [01:08<00:30,  2.03it/s]"
     ]
    },
    {
     "name": "stdout",
     "output_type": "stream",
     "text": [
      "user 17, g: 0.0002429710907532962, ucb: 2.7225608743151586, num_of_obs: 22, privacy reward: 0.6440364210831403, curr_delay = 0.7608514238909803\n",
      "user 25, g: 0.0002429710907532962, ucb: 2.714184742205087, num_of_obs: 22, privacy reward: 0.6440364210831403, curr_delay = 0.8396571576276145\n",
      "user 26, g: 0.0002429710907532962, ucb: 2.7132436787400462, num_of_obs: 22, privacy reward: 0.6440364210831403, curr_delay = 0.8696653865448083\n",
      "user 27, g: 0.0002429710907532962, ucb: 2.7123424593091356, num_of_obs: 22, privacy reward: 0.6440364210831403, curr_delay = 0.900863834920545\n",
      "user 28, g: 0.0002429710907532962, ucb: 2.7115684951494874, num_of_obs: 22, privacy reward: 0.6440364210831403, curr_delay = 0.8956395675635095\n",
      "max_delay = 0.90 seconds\n",
      "iteration: 140\n"
     ]
    },
    {
     "name": "stderr",
     "output_type": "stream",
     "text": [
      " 70%|███████   | 140/200 [01:09<00:27,  2.16it/s]"
     ]
    },
    {
     "name": "stdout",
     "output_type": "stream",
     "text": [
      "user 10, g: 5.668934240362771e-06, ucb: 2.8592491431928746, num_of_obs: 24, privacy reward: 0.6187833918061397, curr_delay = 0.15276025929302975\n",
      "user 5, g: -0.0001417233560090706, ucb: 2.919341098673995, num_of_obs: 26, privacy reward: 0.5945205479701932, curr_delay = 0.09099918840727868\n",
      "user 6, g: -0.0001417233560090706, ucb: 2.8580471379178936, num_of_obs: 26, privacy reward: 0.5945205479701932, curr_delay = 0.09876275684782566\n",
      "user 7, g: -2.267573696145135e-05, ucb: 2.8503956936674766, num_of_obs: 25, privacy reward: 0.6065306597126323, curr_delay = 0.1393801403012565\n",
      "user 8, g: -2.267573696145135e-05, ucb: 2.85300271712604, num_of_obs: 25, privacy reward: 0.6065306597126323, curr_delay = 0.1533765204776213\n",
      "max_delay = 0.15 seconds\n",
      "iteration: 141\n"
     ]
    },
    {
     "name": "stderr",
     "output_type": "stream",
     "text": [
      " 70%|███████   | 141/200 [01:09<00:27,  2.13it/s]"
     ]
    },
    {
     "name": "stdout",
     "output_type": "stream",
     "text": [
      "user 10, g: -1.2574820180071461e-05, ucb: 2.8078702812871, num_of_obs: 25, privacy reward: 0.6065306597126323, curr_delay = 0.14615314810292745\n",
      "user 11, g: 1.2574820180071264e-05, ucb: 2.8384445276294725, num_of_obs: 24, privacy reward: 0.6187833918061397, curr_delay = 0.15725312274874878\n",
      "user 12, g: 1.2574820180071264e-05, ucb: 2.8125435560784977, num_of_obs: 24, privacy reward: 0.6187833918061397, curr_delay = 0.17504502499768576\n",
      "user 13, g: 1.2574820180071264e-05, ucb: 2.8117413978194294, num_of_obs: 24, privacy reward: 0.6187833918061397, curr_delay = 0.2050084420776353\n",
      "user 9, g: -1.2574820180071461e-05, ucb: 2.820728796584184, num_of_obs: 25, privacy reward: 0.6065306597126323, curr_delay = 0.15869696353280952\n",
      "max_delay = 0.21 seconds\n",
      "iteration: 142\n"
     ]
    },
    {
     "name": "stderr",
     "output_type": "stream",
     "text": [
      " 71%|███████   | 142/200 [01:10<00:26,  2.16it/s]"
     ]
    },
    {
     "name": "stdout",
     "output_type": "stream",
     "text": [
      "user 0, g: -0.00027000815534836614, ucb: 3.223080942369439, num_of_obs: 27, privacy reward: 0.5827482523739884, curr_delay = 0.05\n",
      "user 1, g: -0.00027000815534836614, ucb: 3.11289650102023, num_of_obs: 27, privacy reward: 0.5827482523739884, curr_delay = 0.07791693070019037\n",
      "user 2, g: -0.00027000815534836614, ucb: 3.080296762412665, num_of_obs: 27, privacy reward: 0.5827482523739884, curr_delay = 0.0859875435354771\n",
      "user 3, g: -0.00027000815534836614, ucb: 2.971815875049176, num_of_obs: 27, privacy reward: 0.5827482523739884, curr_delay = 0.08871692571320264\n",
      "user 4, g: -0.00027000815534836614, ucb: 2.8908515699846298, num_of_obs: 27, privacy reward: 0.5827482523739884, curr_delay = 0.10465159005786667\n",
      "max_delay = 0.10 seconds\n",
      "iteration: 143\n"
     ]
    },
    {
     "name": "stderr",
     "output_type": "stream",
     "text": [
      " 72%|███████▏  | 143/200 [01:10<00:25,  2.26it/s]"
     ]
    },
    {
     "name": "stdout",
     "output_type": "stream",
     "text": [
      "user 0, g: -0.0004903798610092316, ucb: 3.1862707592852946, num_of_obs: 28, privacy reward: 0.5712090638488136, curr_delay = 0.06859591942900958\n",
      "user 1, g: -0.0004903798610092316, ucb: 3.0668971881863953, num_of_obs: 28, privacy reward: 0.5712090638488136, curr_delay = 0.05535408042053793\n",
      "user 2, g: -0.0004903798610092316, ucb: 3.033274125691975, num_of_obs: 28, privacy reward: 0.5712090638488136, curr_delay = 0.05\n",
      "user 4, g: -0.0004903798610092316, ucb: 2.8470045424379413, num_of_obs: 28, privacy reward: 0.5712090638488136, curr_delay = 0.11274842801169592\n",
      "user 5, g: -0.00022956841138659364, ucb: 2.879679463174841, num_of_obs: 27, privacy reward: 0.5827482523739884, curr_delay = 0.1236431853474534\n",
      "max_delay = 0.12 seconds\n",
      "iteration: 144\n"
     ]
    },
    {
     "name": "stderr",
     "output_type": "stream",
     "text": [
      " 72%|███████▏  | 144/200 [01:10<00:24,  2.31it/s]"
     ]
    },
    {
     "name": "stdout",
     "output_type": "stream",
     "text": [
      "user 11, g: 0.0, ucb: 2.791076265650029, num_of_obs: 25, privacy reward: 0.6065306597126323, curr_delay = 0.16938025167486503\n",
      "user 14, g: 4.8225308641975353e-05, ucb: 2.7888549361788773, num_of_obs: 24, privacy reward: 0.6187833918061397, curr_delay = 0.20307924291020693\n",
      "user 6, g: -0.00019290123456790141, ucb: 2.820761226688635, num_of_obs: 27, privacy reward: 0.5827482523739884, curr_delay = 0.12288634431637403\n",
      "user 7, g: -4.8225308641975353e-05, ucb: 2.806860385924682, num_of_obs: 26, privacy reward: 0.5945205479701932, curr_delay = 0.1281874554750615\n",
      "user 8, g: -4.8225308641975353e-05, ucb: 2.8080536874066118, num_of_obs: 26, privacy reward: 0.5945205479701932, curr_delay = 0.12844182822853462\n",
      "max_delay = 0.20 seconds\n",
      "iteration: 145\n"
     ]
    },
    {
     "name": "stderr",
     "output_type": "stream",
     "text": [
      " 72%|███████▎  | 145/200 [01:11<00:23,  2.33it/s]"
     ]
    },
    {
     "name": "stdout",
     "output_type": "stream",
     "text": [
      "user 10, g: -3.3029462280354315e-05, ucb: 2.765353092907028, num_of_obs: 26, privacy reward: 0.5945205479701932, curr_delay = 0.1750642954817148\n",
      "user 12, g: 1.321178491214147e-06, ucb: 2.7666426748584536, num_of_obs: 25, privacy reward: 0.6065306597126323, curr_delay = 0.20962446708668284\n",
      "user 13, g: 1.321178491214147e-06, ucb: 2.7641344232310954, num_of_obs: 25, privacy reward: 0.6065306597126323, curr_delay = 0.19885102427745704\n",
      "user 8, g: -0.0001598625974369139, ucb: 2.7631933699280378, num_of_obs: 27, privacy reward: 0.5827482523739884, curr_delay = 0.12805054756205222\n",
      "user 9, g: -3.3029462280354315e-05, ucb: 2.77661562729387, num_of_obs: 26, privacy reward: 0.5945205479701932, curr_delay = 0.15882133576401347\n",
      "max_delay = 0.21 seconds\n",
      "iteration: 146\n"
     ]
    },
    {
     "name": "stderr",
     "output_type": "stream",
     "text": [
      " 73%|███████▎  | 146/200 [01:11<00:24,  2.19it/s]"
     ]
    },
    {
     "name": "stdout",
     "output_type": "stream",
     "text": [
      "user 16, g: 0.0002554158587185421, ucb: 2.6756830590282132, num_of_obs: 23, privacy reward: 0.6312836455069248, curr_delay = 0.7330584048743957\n",
      "user 17, g: 0.0002554158587185421, ucb: 2.6743175807582484, num_of_obs: 23, privacy reward: 0.6312836455069248, curr_delay = 0.7673270869494749\n",
      "user 18, g: 0.0002554158587185421, ucb: 2.67391626770002, num_of_obs: 23, privacy reward: 0.6312836455069248, curr_delay = 0.7576878792163102\n",
      "user 20, g: 0.000521256854527637, ucb: 2.7319833732594025, num_of_obs: 22, privacy reward: 0.6440364210831403, curr_delay = 0.7884456743227769\n",
      "user 29, g: 0.000521256854527637, ucb: 2.7232969552765884, num_of_obs: 22, privacy reward: 0.6440364210831403, curr_delay = 0.9212104370808333\n",
      "max_delay = 0.92 seconds\n",
      "iteration: 147\n"
     ]
    },
    {
     "name": "stderr",
     "output_type": "stream",
     "text": [
      " 74%|███████▎  | 147/200 [01:12<00:25,  2.07it/s]"
     ]
    },
    {
     "name": "stdout",
     "output_type": "stream",
     "text": [
      "user 15, g: 0.0002892313387940207, ucb: 2.679034812030828, num_of_obs: 23, privacy reward: 0.6312836455069248, curr_delay = 0.713504552173465\n",
      "user 19, g: 0.0002892313387940207, ucb: 2.6740747328388452, num_of_obs: 23, privacy reward: 0.6312836455069248, curr_delay = 0.7567110446798101\n",
      "user 21, g: 0.0002892313387940207, ucb: 2.671797297782744, num_of_obs: 23, privacy reward: 0.6312836455069248, curr_delay = 0.7852759088454891\n",
      "user 22, g: 0.0002892313387940207, ucb: 2.670300641549004, num_of_obs: 23, privacy reward: 0.6312836455069248, curr_delay = 0.8158910035528475\n",
      "user 23, g: 0.0002892313387940207, ucb: 2.66939803275476, num_of_obs: 23, privacy reward: 0.6312836455069248, curr_delay = 0.8343744101983188\n",
      "max_delay = 0.83 seconds\n",
      "iteration: 148\n"
     ]
    },
    {
     "name": "stderr",
     "output_type": "stream",
     "text": [
      " 74%|███████▍  | 148/200 [01:13<00:26,  1.93it/s]"
     ]
    },
    {
     "name": "stdout",
     "output_type": "stream",
     "text": [
      "user 20, g: 0.0003246489732976213, ucb: 2.674177229938696, num_of_obs: 23, privacy reward: 0.6312836455069248, curr_delay = 0.7675553436806241\n",
      "user 24, g: 0.0003246489732976213, ucb: 2.6705154609186397, num_of_obs: 23, privacy reward: 0.6312836455069248, curr_delay = 0.8041872558576235\n",
      "user 25, g: 0.0003246489732976213, ucb: 2.669597903123963, num_of_obs: 23, privacy reward: 0.6312836455069248, curr_delay = 0.8745777772892771\n",
      "user 26, g: 0.0003246489732976213, ucb: 2.6686062181458943, num_of_obs: 23, privacy reward: 0.6312836455069248, curr_delay = 0.8771144047084514\n",
      "user 27, g: 0.0003246489732976213, ucb: 2.6676554589830266, num_of_obs: 23, privacy reward: 0.6312836455069248, curr_delay = 0.8518852293177736\n",
      "max_delay = 0.88 seconds\n",
      "iteration: 149\n"
     ]
    },
    {
     "name": "stderr",
     "output_type": "stream",
     "text": [
      " 74%|███████▍  | 149/200 [01:13<00:25,  2.01it/s]"
     ]
    },
    {
     "name": "stdout",
     "output_type": "stream",
     "text": [
      "user 0, g: -0.0004516813556946891, ucb: 3.1495885605365634, num_of_obs: 29, privacy reward: 0.5598983665654007, curr_delay = 0.07478207720675749\n",
      "user 1, g: -0.0004516813556946891, ucb: 3.0407058114509375, num_of_obs: 29, privacy reward: 0.5598983665654007, curr_delay = 0.05433757231077353\n",
      "user 2, g: -0.0004516813556946891, ucb: 3.0117380091540253, num_of_obs: 29, privacy reward: 0.5598983665654007, curr_delay = 0.08595654374911804\n",
      "user 3, g: -0.0002114519365994524, ucb: 2.93785238859601, num_of_obs: 28, privacy reward: 0.5712090638488136, curr_delay = 0.08089720470857903\n",
      "user 5, g: -0.0002114519365994524, ucb: 2.8416023291818666, num_of_obs: 28, privacy reward: 0.5712090638488136, curr_delay = 0.11208376941719143\n",
      "max_delay = 0.11 seconds\n",
      "iteration: 150\n"
     ]
    },
    {
     "name": "stderr",
     "output_type": "stream",
     "text": [
      " 75%|███████▌  | 150/200 [01:13<00:24,  2.05it/s]"
     ]
    },
    {
     "name": "stdout",
     "output_type": "stream",
     "text": [
      "user 10, g: -4.444444444444465e-05, ucb: 2.7246614414571937, num_of_obs: 27, privacy reward: 0.5827482523739884, curr_delay = 0.15714743073220003\n",
      "user 11, g: 0.0, ucb: 2.7505902064018177, num_of_obs: 26, privacy reward: 0.5945205479701932, curr_delay = 0.1728023236285467\n",
      "user 13, g: 0.0, ucb: 2.7213107031646664, num_of_obs: 26, privacy reward: 0.5945205479701932, curr_delay = 0.18493152501607793\n",
      "user 7, g: -4.444444444444465e-05, ucb: 2.7702237240789396, num_of_obs: 27, privacy reward: 0.5827482523739884, curr_delay = 0.11612240129867617\n",
      "user 9, g: -4.444444444444465e-05, ucb: 2.7366142557137594, num_of_obs: 27, privacy reward: 0.5827482523739884, curr_delay = 0.14131172997671923\n",
      "max_delay = 0.18 seconds\n",
      "iteration: 151\n"
     ]
    },
    {
     "name": "stderr",
     "output_type": "stream",
     "text": [
      " 76%|███████▌  | 151/200 [01:14<00:24,  1.99it/s]"
     ]
    },
    {
     "name": "stdout",
     "output_type": "stream",
     "text": [
      "user 15, g: 0.0002058876559994929, ucb: 2.6285353087090124, num_of_obs: 24, privacy reward: 0.6187833918061397, curr_delay = 0.7066660737173258\n",
      "user 16, g: 0.0002058876559994929, ucb: 2.6269551074087825, num_of_obs: 24, privacy reward: 0.6187833918061397, curr_delay = 0.724826707704882\n",
      "user 17, g: 0.0002058876559994929, ucb: 2.625516557365283, num_of_obs: 24, privacy reward: 0.6187833918061397, curr_delay = 0.757233311488873\n",
      "user 28, g: 0.0004397955255373788, ucb: 2.6721675720337665, num_of_obs: 23, privacy reward: 0.6312836455069248, curr_delay = 0.8514742554743527\n",
      "user 29, g: 0.0004397955255373788, ucb: 2.670706398885005, num_of_obs: 23, privacy reward: 0.6312836455069248, curr_delay = 0.8960131874046119\n",
      "max_delay = 0.90 seconds\n",
      "iteration: 152\n"
     ]
    },
    {
     "name": "stderr",
     "output_type": "stream",
     "text": [
      " 76%|███████▌  | 152/200 [01:14<00:24,  1.98it/s]"
     ]
    },
    {
     "name": "stdout",
     "output_type": "stream",
     "text": [
      "user 18, g: 0.0002356494305940287, ucb: 2.626850939269139, num_of_obs: 24, privacy reward: 0.6187833918061397, curr_delay = 0.7516743219765953\n",
      "user 19, g: 0.0002356494305940287, ucb: 2.6252991233980874, num_of_obs: 24, privacy reward: 0.6187833918061397, curr_delay = 0.7722626663891555\n",
      "user 21, g: 0.0002356494305940287, ucb: 2.6230162058873345, num_of_obs: 24, privacy reward: 0.6187833918061397, curr_delay = 0.8100905792048213\n",
      "user 22, g: 0.0002356494305940287, ucb: 2.6214807437169396, num_of_obs: 24, privacy reward: 0.6187833918061397, curr_delay = 0.7691749433209255\n",
      "user 23, g: 0.0002356494305940287, ucb: 2.620558354453285, num_of_obs: 24, privacy reward: 0.6187833918061397, curr_delay = 0.8110090376112405\n",
      "max_delay = 0.81 seconds\n",
      "iteration: 153\n"
     ]
    },
    {
     "name": "stderr",
     "output_type": "stream",
     "text": [
      " 76%|███████▋  | 153/200 [01:15<00:24,  1.90it/s]"
     ]
    },
    {
     "name": "stdout",
     "output_type": "stream",
     "text": [
      "user 20, g: 0.00026699132812166255, ucb: 2.6253322888476958, num_of_obs: 24, privacy reward: 0.6187833918061397, curr_delay = 0.7554642559172909\n",
      "user 24, g: 0.00026699132812166255, ucb: 2.6217007137612183, num_of_obs: 24, privacy reward: 0.6187833918061397, curr_delay = 0.845153881192612\n",
      "user 25, g: 0.00026699132812166255, ucb: 2.6206054789247415, num_of_obs: 24, privacy reward: 0.6187833918061397, curr_delay = 0.8598697853347699\n",
      "user 26, g: 0.00026699132812166255, ucb: 2.619649722087315, num_of_obs: 24, privacy reward: 0.6187833918061397, curr_delay = 0.8620337817733698\n",
      "user 27, g: 0.00026699132812166255, ucb: 2.6188137022792355, num_of_obs: 24, privacy reward: 0.6187833918061397, curr_delay = 0.8670261838051856\n",
      "max_delay = 0.87 seconds\n",
      "iteration: 154\n"
     ]
    },
    {
     "name": "stderr",
     "output_type": "stream",
     "text": [
      " 77%|███████▋  | 154/200 [01:16<00:23,  1.93it/s]"
     ]
    },
    {
     "name": "stdout",
     "output_type": "stream",
     "text": [
      "user 12, g: 1.8740278480538153e-05, ucb: 2.7296328341990748, num_of_obs: 26, privacy reward: 0.5945205479701932, curr_delay = 0.19475942304757957\n",
      "user 14, g: 0.00011712674050336376, ucb: 2.7521689514982017, num_of_obs: 25, privacy reward: 0.6065306597126323, curr_delay = 0.2182328187370548\n",
      "user 6, g: -7.49611139221531e-05, ucb: 2.7911050204726267, num_of_obs: 28, privacy reward: 0.5712090638488136, curr_delay = 0.13560044728919024\n",
      "user 7, g: -7.49611139221531e-05, ucb: 2.7338658223418735, num_of_obs: 28, privacy reward: 0.5712090638488136, curr_delay = 0.10807339625640242\n",
      "user 8, g: -7.49611139221531e-05, ucb: 2.733456589563341, num_of_obs: 28, privacy reward: 0.5712090638488136, curr_delay = 0.160325839937718\n",
      "max_delay = 0.22 seconds\n",
      "iteration: 155\n"
     ]
    },
    {
     "name": "stderr",
     "output_type": "stream",
     "text": [
      " 78%|███████▊  | 155/200 [01:16<00:21,  2.06it/s]"
     ]
    },
    {
     "name": "stdout",
     "output_type": "stream",
     "text": [
      "user 11, g: -1.1562030292519823e-06, ucb: 2.710475000414797, num_of_obs: 27, privacy reward: 0.5827482523739884, curr_delay = 0.17012942756310176\n",
      "user 14, g: 2.8905075731298364e-05, ucb: 2.7024981038290083, num_of_obs: 26, privacy reward: 0.5945205479701932, curr_delay = 0.20623646189245803\n",
      "user 3, g: -0.00019539831194357725, ucb: 2.905842458028039, num_of_obs: 29, privacy reward: 0.5598983665654007, curr_delay = 0.09542616904250961\n",
      "user 6, g: -0.00019539831194357725, ucb: 2.7479446095322224, num_of_obs: 29, privacy reward: 0.5598983665654007, curr_delay = 0.10931392994442334\n",
      "user 9, g: -5.6653948433345045e-05, ucb: 2.700177956858984, num_of_obs: 28, privacy reward: 0.5712090638488136, curr_delay = 0.14078344303975457\n",
      "max_delay = 0.21 seconds\n",
      "iteration: 156\n"
     ]
    },
    {
     "name": "stderr",
     "output_type": "stream",
     "text": [
      " 78%|███████▊  | 156/200 [01:16<00:19,  2.20it/s]"
     ]
    },
    {
     "name": "stdout",
     "output_type": "stream",
     "text": [
      "user 10, g: -4.109138724523346e-05, ucb: 2.6888560346415407, num_of_obs: 28, privacy reward: 0.5712090638488136, curr_delay = 0.13944074793227235\n",
      "user 12, g: 0.0, ucb: 2.6844227553617754, num_of_obs: 27, privacy reward: 0.5827482523739884, curr_delay = 0.20164914789362742\n",
      "user 13, g: 0.0, ucb: 2.683129219215107, num_of_obs: 27, privacy reward: 0.5827482523739884, curr_delay = 0.20343750767812513\n",
      "user 4, g: -0.00016436554898093385, ucb: 2.8228422550981276, num_of_obs: 29, privacy reward: 0.5598983665654007, curr_delay = 0.10091514590832468\n",
      "user 7, g: -0.00016436554898093385, ucb: 2.6975854578662792, num_of_obs: 29, privacy reward: 0.5598983665654007, curr_delay = 0.1125703208305035\n",
      "max_delay = 0.20 seconds\n",
      "iteration: 157\n"
     ]
    },
    {
     "name": "stderr",
     "output_type": "stream",
     "text": [
      " 78%|███████▊  | 157/200 [01:17<00:19,  2.19it/s]"
     ]
    },
    {
     "name": "stdout",
     "output_type": "stream",
     "text": [
      "user 11, g: -2.8173331349930793e-05, ucb: 2.6682302157896345, num_of_obs: 28, privacy reward: 0.5712090638488136, curr_delay = 0.17060814145997943\n",
      "user 12, g: -2.8173331349930793e-05, ucb: 2.639960892514268, num_of_obs: 28, privacy reward: 0.5712090638488136, curr_delay = 0.19221906485118037\n",
      "user 13, g: -2.8173331349930793e-05, ucb: 2.638634535343331, num_of_obs: 28, privacy reward: 0.5712090638488136, curr_delay = 0.19881717975386887\n",
      "user 28, g: 0.0004068229046930007, ucb: 2.624684710102941, num_of_obs: 24, privacy reward: 0.6187833918061397, curr_delay = 0.9111002711112957\n",
      "user 29, g: 0.0004068229046930007, ucb: 2.6231601561632787, num_of_obs: 24, privacy reward: 0.6187833918061397, curr_delay = 0.8979952315128239\n",
      "max_delay = 0.91 seconds\n",
      "iteration: 158\n"
     ]
    },
    {
     "name": "stderr",
     "output_type": "stream",
     "text": [
      " 79%|███████▉  | 158/200 [01:17<00:18,  2.22it/s]"
     ]
    },
    {
     "name": "stdout",
     "output_type": "stream",
     "text": [
      "user 16, g: 0.0002180918300129961, ucb: 2.584385099639292, num_of_obs: 25, privacy reward: 0.6065306597126323, curr_delay = 0.720043979778888\n",
      "user 18, g: 0.0002180918300129961, ucb: 2.582570499591736, num_of_obs: 25, privacy reward: 0.6065306597126323, curr_delay = 0.744635589241069\n",
      "user 19, g: 0.0002180918300129961, ucb: 2.5810094527551057, num_of_obs: 25, privacy reward: 0.6065306597126323, curr_delay = 0.7572206542245995\n",
      "user 21, g: 0.0002180918300129961, ucb: 2.57869568524364, num_of_obs: 25, privacy reward: 0.6065306597126323, curr_delay = 0.801479731971772\n",
      "user 23, g: 0.0002180918300129961, ucb: 2.57633733183264, num_of_obs: 25, privacy reward: 0.6065306597126323, curr_delay = 0.8428842291528744\n",
      "max_delay = 0.84 seconds\n",
      "iteration: 159\n"
     ]
    },
    {
     "name": "stderr",
     "output_type": "stream",
     "text": [
      " 80%|███████▉  | 159/200 [01:18<00:19,  2.11it/s]"
     ]
    },
    {
     "name": "stdout",
     "output_type": "stream",
     "text": [
      "user 15, g: 0.0002472212333372888, ucb: 2.5875403475766365, num_of_obs: 25, privacy reward: 0.6065306597126323, curr_delay = 0.7224206067198785\n",
      "user 17, g: 0.0002472212333372888, ucb: 2.584450505499103, num_of_obs: 25, privacy reward: 0.6065306597126323, curr_delay = 0.7723616956316068\n",
      "user 20, g: 0.0002472212333372888, ucb: 2.58106775216148, num_of_obs: 25, privacy reward: 0.6065306597126323, curr_delay = 0.8003347873551065\n",
      "user 22, g: 0.0002472212333372888, ucb: 2.5789280246001787, num_of_obs: 25, privacy reward: 0.6065306597126323, curr_delay = 0.8307403991791051\n",
      "user 24, g: 0.0002472212333372888, ucb: 2.5772948408622574, num_of_obs: 25, privacy reward: 0.6065306597126323, curr_delay = 0.8582290466900198\n",
      "max_delay = 0.86 seconds\n",
      "iteration: 160\n"
     ]
    },
    {
     "name": "stderr",
     "output_type": "stream",
     "text": [
      " 80%|████████  | 160/200 [01:18<00:19,  2.09it/s]"
     ]
    },
    {
     "name": "stdout",
     "output_type": "stream",
     "text": [
      "user 25, g: 0.00027777777777777767, ucb: 2.577759286424205, num_of_obs: 25, privacy reward: 0.6065306597126323, curr_delay = 0.8428294127509084\n",
      "user 26, g: 0.00027777777777777767, ucb: 2.576837270621484, num_of_obs: 25, privacy reward: 0.6065306597126323, curr_delay = 0.8788128336962888\n",
      "user 27, g: 0.00027777777777777767, ucb: 2.5760221690555407, num_of_obs: 25, privacy reward: 0.6065306597126323, curr_delay = 0.8816958923089159\n",
      "user 28, g: 0.00027777777777777767, ucb: 2.5752433833488357, num_of_obs: 25, privacy reward: 0.6065306597126323, curr_delay = 0.900662908159121\n",
      "user 29, g: 0.00027777777777777767, ucb: 2.5738157225427916, num_of_obs: 25, privacy reward: 0.6065306597126323, curr_delay = 0.9199577376032634\n",
      "max_delay = 0.92 seconds\n",
      "iteration: 161\n"
     ]
    },
    {
     "name": "stderr",
     "output_type": "stream",
     "text": [
      " 80%|████████  | 161/200 [01:19<00:17,  2.18it/s]"
     ]
    },
    {
     "name": "stdout",
     "output_type": "stream",
     "text": [
      "user 15, g: 0.00012966749396671088, ucb: 2.5396759324044145, num_of_obs: 26, privacy reward: 0.5945205479701932, curr_delay = 0.7084023543929343\n",
      "user 16, g: 0.00012966749396671088, ucb: 2.538160374182158, num_of_obs: 26, privacy reward: 0.5945205479701932, curr_delay = 0.7141160746616014\n",
      "user 18, g: 0.00012966749396671088, ucb: 2.5363266275572216, num_of_obs: 26, privacy reward: 0.5945205479701932, curr_delay = 0.7757251145716522\n",
      "user 22, g: 0.00012966749396671088, ucb: 2.5310471229970886, num_of_obs: 26, privacy reward: 0.5945205479701932, curr_delay = 0.7847376626875946\n",
      "user 23, g: 0.00012966749396671088, ucb: 2.530029714077499, num_of_obs: 26, privacy reward: 0.5945205479701932, curr_delay = 0.7949977295129433\n",
      "max_delay = 0.79 seconds\n",
      "iteration: 162\n"
     ]
    },
    {
     "name": "stderr",
     "output_type": "stream",
     "text": [
      " 81%|████████  | 162/200 [01:19<00:16,  2.26it/s]"
     ]
    },
    {
     "name": "stdout",
     "output_type": "stream",
     "text": [
      "user 0, g: -0.00015241579027587256, ucb: 3.122547276392181, num_of_obs: 30, privacy reward: 0.5488116360940252, curr_delay = 0.06867375177762429\n",
      "user 1, g: -0.00015241579027587256, ucb: 3.0260937326415265, num_of_obs: 30, privacy reward: 0.5488116360940252, curr_delay = 0.07344078298227434\n",
      "user 2, g: -0.00015241579027587256, ucb: 2.9864529466583676, num_of_obs: 30, privacy reward: 0.5488116360940252, curr_delay = 0.09928092319854691\n",
      "user 3, g: -0.00015241579027587256, ucb: 2.87341680889286, num_of_obs: 30, privacy reward: 0.5488116360940252, curr_delay = 0.09573148878584253\n",
      "user 5, g: -3.810394756896814e-05, ucb: 2.817045343020226, num_of_obs: 29, privacy reward: 0.5598983665654007, curr_delay = 0.10271990601180603\n",
      "max_delay = 0.10 seconds\n",
      "iteration: 163\n"
     ]
    },
    {
     "name": "stderr",
     "output_type": "stream",
     "text": [
      " 82%|████████▏ | 163/200 [01:19<00:15,  2.36it/s]"
     ]
    },
    {
     "name": "stdout",
     "output_type": "stream",
     "text": [
      "user 0, g: -0.00030214828475959874, ucb: 3.08200688475798, num_of_obs: 31, privacy reward: 0.5379444375946731, curr_delay = 0.05\n",
      "user 1, g: -0.00030214828475959874, ucb: 2.987193139550007, num_of_obs: 31, privacy reward: 0.5379444375946731, curr_delay = 0.06336560863213504\n",
      "user 2, g: -0.00030214828475959874, ucb: 2.942967072989884, num_of_obs: 31, privacy reward: 0.5379444375946731, curr_delay = 0.09431555786762141\n",
      "user 3, g: -0.00030214828475959874, ucb: 2.834321231851984, num_of_obs: 31, privacy reward: 0.5379444375946731, curr_delay = 0.058008891910522935\n",
      "user 4, g: -0.0001265049911969256, ucb: 2.7922525102574065, num_of_obs: 30, privacy reward: 0.5488116360940252, curr_delay = 0.07402664332259168\n",
      "max_delay = 0.09 seconds\n",
      "iteration: 164\n"
     ]
    },
    {
     "name": "stderr",
     "output_type": "stream",
     "text": [
      " 82%|████████▏ | 164/200 [01:20<00:14,  2.46it/s]"
     ]
    },
    {
     "name": "stdout",
     "output_type": "stream",
     "text": [
      "user 0, g: -0.0004998678035560848, ucb: 3.0522816843610734, num_of_obs: 32, privacy reward: 0.5272924240430472, curr_delay = 0.05775215062929376\n",
      "user 1, g: -0.0004998678035560848, ucb: 2.9537223040135183, num_of_obs: 32, privacy reward: 0.5272924240430472, curr_delay = 0.0584122463582124\n",
      "user 4, g: -0.0002643928878313175, ucb: 2.760980784593161, num_of_obs: 31, privacy reward: 0.5379444375946731, curr_delay = 0.0832003605079163\n",
      "user 5, g: -0.00010327847180910833, ucb: 2.779356431878509, num_of_obs: 30, privacy reward: 0.5488116360940252, curr_delay = 0.0901498692285063\n",
      "user 6, g: -0.00010327847180910833, ucb: 2.7214330847279915, num_of_obs: 30, privacy reward: 0.5488116360940252, curr_delay = 0.10655043128412846\n",
      "max_delay = 0.11 seconds\n",
      "iteration: 165\n"
     ]
    },
    {
     "name": "stderr",
     "output_type": "stream",
     "text": [
      " 82%|████████▎ | 165/200 [01:20<00:15,  2.25it/s]"
     ]
    },
    {
     "name": "stdout",
     "output_type": "stream",
     "text": [
      "user 17, g: 0.0002295684113865928, ucb: 2.5424864659440463, num_of_obs: 26, privacy reward: 0.5945205479701932, curr_delay = 0.7218375964440464\n",
      "user 19, g: 0.0002295684113865928, ucb: 2.5407391749801507, num_of_obs: 26, privacy reward: 0.5945205479701932, curr_delay = 0.731772570928779\n",
      "user 20, g: 0.0002295684113865928, ucb: 2.539148516599859, num_of_obs: 26, privacy reward: 0.5945205479701932, curr_delay = 0.7806396049277762\n",
      "user 21, g: 0.0002295684113865928, ucb: 2.538372104499617, num_of_obs: 26, privacy reward: 0.5945205479701932, curr_delay = 0.7896506166608827\n",
      "user 24, g: 0.0002295684113865928, ucb: 2.5353579477517005, num_of_obs: 26, privacy reward: 0.5945205479701932, curr_delay = 0.8346680617813799\n",
      "max_delay = 0.83 seconds\n",
      "iteration: 166\n"
     ]
    },
    {
     "name": "stderr",
     "output_type": "stream",
     "text": [
      " 83%|████████▎ | 166/200 [01:21<00:14,  2.29it/s]"
     ]
    },
    {
     "name": "stdout",
     "output_type": "stream",
     "text": [
      "user 0, g: -0.0006814406219254538, ucb: 3.020986594768404, num_of_obs: 33, privacy reward: 0.5168513344916977, curr_delay = 0.0699564230551675\n",
      "user 1, g: -0.0006814406219254538, ucb: 2.9252014532138415, num_of_obs: 33, privacy reward: 0.5168513344916977, curr_delay = 0.07612488195145926\n",
      "user 2, g: -0.00040321930291446913, ucb: 2.905208641232535, num_of_obs: 32, privacy reward: 0.5272924240430472, curr_delay = 0.09497591521934266\n",
      "user 3, g: -0.00040321930291446913, ucb: 2.8107707818287686, num_of_obs: 32, privacy reward: 0.5272924240430472, curr_delay = 0.08404720364312035\n",
      "user 5, g: -0.0001975774584280901, ucb: 2.7458382365996727, num_of_obs: 31, privacy reward: 0.5379444375946731, curr_delay = 0.11073809328354393\n",
      "max_delay = 0.11 seconds\n",
      "iteration: 167\n"
     ]
    },
    {
     "name": "stderr",
     "output_type": "stream",
     "text": [
      " 84%|████████▎ | 167/200 [01:21<00:14,  2.25it/s]"
     ]
    },
    {
     "name": "stdout",
     "output_type": "stream",
     "text": [
      "user 14, g: 0.00012051744813765648, ucb: 2.672494422155476, num_of_obs: 27, privacy reward: 0.5827482523739884, curr_delay = 0.20504866258093207\n",
      "user 25, g: 0.0002878474587750648, ucb: 2.537271140229251, num_of_obs: 26, privacy reward: 0.5945205479701932, curr_delay = 0.8574326847157868\n",
      "user 26, g: 0.0002878474587750648, ucb: 2.5362888430752677, num_of_obs: 26, privacy reward: 0.5945205479701932, curr_delay = 0.8315306909215647\n",
      "user 27, g: 0.0002878474587750648, ucb: 2.5354989039387683, num_of_obs: 26, privacy reward: 0.5945205479701932, curr_delay = 0.9074435985135916\n",
      "user 28, g: 0.0002878474587750648, ucb: 2.5347035004669816, num_of_obs: 26, privacy reward: 0.5945205479701932, curr_delay = 0.8890509818052643\n",
      "max_delay = 0.91 seconds\n",
      "iteration: 168\n"
     ]
    },
    {
     "name": "stderr",
     "output_type": "stream",
     "text": [
      " 84%|████████▍ | 168/200 [01:22<00:14,  2.24it/s]"
     ]
    },
    {
     "name": "stdout",
     "output_type": "stream",
     "text": [
      "user 15, g: 0.00014172335600906995, ucb: 2.5018517633966275, num_of_obs: 27, privacy reward: 0.5827482523739884, curr_delay = 0.7083079326525633\n",
      "user 16, g: 0.00014172335600906995, ucb: 2.5003727755248946, num_of_obs: 27, privacy reward: 0.5827482523739884, curr_delay = 0.7068063601445526\n",
      "user 17, g: 0.00014172335600906995, ucb: 2.4987769496348697, num_of_obs: 27, privacy reward: 0.5827482523739884, curr_delay = 0.7648441083996628\n",
      "user 19, g: 0.00014172335600906995, ucb: 2.4970606922296628, num_of_obs: 27, privacy reward: 0.5827482523739884, curr_delay = 0.7625982388536341\n",
      "user 29, g: 0.00031887755102040787, ucb: 2.534731381652383, num_of_obs: 26, privacy reward: 0.5945205479701932, curr_delay = 0.863934196394096\n",
      "max_delay = 0.86 seconds\n",
      "iteration: 169\n"
     ]
    },
    {
     "name": "stderr",
     "output_type": "stream",
     "text": [
      " 84%|████████▍ | 169/200 [01:22<00:13,  2.22it/s]"
     ]
    },
    {
     "name": "stdout",
     "output_type": "stream",
     "text": [
      "user 18, g: 0.00016436554898093314, ucb: 2.4998034014591144, num_of_obs: 27, privacy reward: 0.5827482523739884, curr_delay = 0.7628961503105102\n",
      "user 20, g: 0.00016436554898093314, ucb: 2.4967744264484315, num_of_obs: 27, privacy reward: 0.5827482523739884, curr_delay = 0.7566865828436578\n",
      "user 23, g: 0.00016436554898093314, ucb: 2.493688578469384, num_of_obs: 27, privacy reward: 0.5827482523739884, curr_delay = 0.8051804967926054\n",
      "user 25, g: 0.00016436554898093314, ucb: 2.4919421551334975, num_of_obs: 27, privacy reward: 0.5827482523739884, curr_delay = 0.8286342730467547\n",
      "user 26, g: 0.00016436554898093314, ucb: 2.491067502331466, num_of_obs: 27, privacy reward: 0.5827482523739884, curr_delay = 0.8600266997065534\n",
      "max_delay = 0.86 seconds\n",
      "iteration: 170\n"
     ]
    },
    {
     "name": "stderr",
     "output_type": "stream",
     "text": [
      " 85%|████████▌ | 170/200 [01:23<00:12,  2.37it/s]"
     ]
    },
    {
     "name": "stdout",
     "output_type": "stream",
     "text": [
      "user 0, g: -0.0007535563244905813, ucb: 2.989028912544234, num_of_obs: 34, privacy reward: 0.5066169923655881, curr_delay = 0.06820515783761084\n",
      "user 2, g: -0.0004652056901191852, ucb: 2.8704422211635436, num_of_obs: 33, privacy reward: 0.5168513344916977, curr_delay = 0.09759847745567407\n",
      "user 4, g: -0.00024605920799692423, ucb: 2.7352405692291737, num_of_obs: 32, privacy reward: 0.5272924240430472, curr_delay = 0.08083299198774531\n",
      "user 5, g: -0.00024605920799692423, ucb: 2.7131701091073266, num_of_obs: 32, privacy reward: 0.5272924240430472, curr_delay = 0.11086296778097571\n",
      "user 8, g: 3.844675124951914e-06, ucb: 2.7115155742145594, num_of_obs: 29, privacy reward: 0.5598983665654007, curr_delay = 0.1441919240099531\n",
      "max_delay = 0.14 seconds\n",
      "iteration: 171\n"
     ]
    },
    {
     "name": "stderr",
     "output_type": "stream",
     "text": [
      " 86%|████████▌ | 171/200 [01:23<00:11,  2.43it/s]"
     ]
    },
    {
     "name": "stdout",
     "output_type": "stream",
     "text": [
      "user 3, g: -0.0004189323210560514, ucb: 2.7823473264518603, num_of_obs: 33, privacy reward: 0.5168513344916977, curr_delay = 0.09783829233281752\n",
      "user 6, g: -7.694675284702985e-05, ucb: 2.6935531009242437, num_of_obs: 31, privacy reward: 0.5379444375946731, curr_delay = 0.12389835249833997\n",
      "user 7, g: -8.549639205225538e-06, ucb: 2.680316876230723, num_of_obs: 30, privacy reward: 0.5488116360940252, curr_delay = 0.1497221872348117\n",
      "user 8, g: -8.549639205225538e-06, ucb: 2.6713775763716425, num_of_obs: 30, privacy reward: 0.5488116360940252, curr_delay = 0.15505020034230937\n",
      "user 9, g: 8.549639205225538e-06, ucb: 2.680845391066201, num_of_obs: 29, privacy reward: 0.5598983665654007, curr_delay = 0.13113899771043147\n",
      "max_delay = 0.16 seconds\n",
      "iteration: 172\n"
     ]
    },
    {
     "name": "stderr",
     "output_type": "stream",
     "text": [
      " 86%|████████▌ | 172/200 [01:23<00:11,  2.34it/s]"
     ]
    },
    {
     "name": "stdout",
     "output_type": "stream",
     "text": [
      "user 0, g: -0.0009614806802475813, ucb: 2.956638945297679, num_of_obs: 35, privacy reward: 0.496585303791408, curr_delay = 0.05302956590894871\n",
      "user 1, g: -0.0006347274803196932, ucb: 2.896850362026691, num_of_obs: 34, privacy reward: 0.5066169923655881, curr_delay = 0.09303194096751309\n",
      "user 2, g: -0.0006347274803196932, ucb: 2.8344331997590317, num_of_obs: 34, privacy reward: 0.5066169923655881, curr_delay = 0.0726418095468733\n",
      "user 3, g: -0.0006347274803196932, ucb: 2.747755174534128, num_of_obs: 34, privacy reward: 0.5066169923655881, curr_delay = 0.11102767546772233\n",
      "user 4, g: -0.0003755783907217117, ucb: 2.7061489807732975, num_of_obs: 33, privacy reward: 0.5168513344916977, curr_delay = 0.0856269825868035\n",
      "max_delay = 0.11 seconds\n",
      "iteration: 173\n"
     ]
    },
    {
     "name": "stderr",
     "output_type": "stream",
     "text": [
      " 86%|████████▋ | 173/200 [01:24<00:11,  2.35it/s]"
     ]
    },
    {
     "name": "stdout",
     "output_type": "stream",
     "text": [
      "user 10, g: 2.3203062061694045e-05, ucb: 2.671247623285217, num_of_obs: 29, privacy reward: 0.5598983665654007, curr_delay = 0.13928953549757891\n",
      "user 11, g: 2.3203062061694045e-05, ucb: 2.647574283887653, num_of_obs: 29, privacy reward: 0.5598983665654007, curr_delay = 0.18468138472767737\n",
      "user 14, g: 0.00011230282037859941, ucb: 2.635330836166369, num_of_obs: 28, privacy reward: 0.5712090638488136, curr_delay = 0.24428008242574473\n",
      "user 7, g: -4.547800164092063e-05, ucb: 2.6427796550388822, num_of_obs: 31, privacy reward: 0.5379444375946731, curr_delay = 0.12854932690455514\n",
      "user 9, g: -9.281224824677832e-07, ucb: 2.644268662547583, num_of_obs: 30, privacy reward: 0.5488116360940252, curr_delay = 0.16099888898734477\n",
      "max_delay = 0.24 seconds\n",
      "iteration: 174\n"
     ]
    },
    {
     "name": "stderr",
     "output_type": "stream",
     "text": [
      " 87%|████████▋ | 174/200 [01:24<00:11,  2.18it/s]"
     ]
    },
    {
     "name": "stdout",
     "output_type": "stream",
     "text": [
      "user 21, g: 0.00029726516052318595, ucb: 2.502903918068271, num_of_obs: 27, privacy reward: 0.5827482523739884, curr_delay = 0.7961318876467763\n",
      "user 22, g: 0.00029726516052318595, ucb: 2.5016026364218296, num_of_obs: 27, privacy reward: 0.5827482523739884, curr_delay = 0.8045016514242778\n",
      "user 27, g: 0.00029726516052318595, ucb: 2.497018628403088, num_of_obs: 27, privacy reward: 0.5827482523739884, curr_delay = 0.8276042610230385\n",
      "user 28, g: 0.00029726516052318595, ucb: 2.496297659727055, num_of_obs: 27, privacy reward: 0.5827482523739884, curr_delay = 0.868851776101019\n",
      "user 29, g: 0.00029726516052318595, ucb: 2.494997922489128, num_of_obs: 27, privacy reward: 0.5827482523739884, curr_delay = 0.9062015524630056\n",
      "max_delay = 0.91 seconds\n",
      "iteration: 175\n"
     ]
    },
    {
     "name": "stderr",
     "output_type": "stream",
     "text": [
      " 88%|████████▊ | 175/200 [01:25<00:11,  2.21it/s]"
     ]
    },
    {
     "name": "stdout",
     "output_type": "stream",
     "text": [
      "user 13, g: 4.444444444444428e-05, ucb: 2.620169627600728, num_of_obs: 29, privacy reward: 0.5598983665654007, curr_delay = 0.1963629087980411\n",
      "user 15, g: 0.00015328798185941045, ucb: 2.46589416568993, num_of_obs: 28, privacy reward: 0.5712090638488136, curr_delay = 0.7472632934670982\n",
      "user 16, g: 0.00015328798185941045, ucb: 2.4644755094552293, num_of_obs: 28, privacy reward: 0.5712090638488136, curr_delay = 0.7316029580500709\n",
      "user 17, g: 0.00015328798185941045, ucb: 2.462739975849748, num_of_obs: 28, privacy reward: 0.5712090638488136, curr_delay = 0.7614871010904721\n",
      "user 24, g: 0.0003274376417233555, ucb: 2.5012290437649076, num_of_obs: 27, privacy reward: 0.5827482523739884, curr_delay = 0.8182061464880096\n",
      "max_delay = 0.82 seconds\n",
      "iteration: 176\n"
     ]
    },
    {
     "name": "stderr",
     "output_type": "stream",
     "text": [
      " 88%|████████▊ | 176/200 [01:25<00:11,  2.11it/s]"
     ]
    },
    {
     "name": "stdout",
     "output_type": "stream",
     "text": [
      "user 18, g: 0.00017576331496786012, ucb: 2.4637000832726947, num_of_obs: 28, privacy reward: 0.5712090638488136, curr_delay = 0.7490586477342687\n",
      "user 19, g: 0.00017576331496786012, ucb: 2.4624154873379114, num_of_obs: 28, privacy reward: 0.5712090638488136, curr_delay = 0.8169411771017107\n",
      "user 20, g: 0.00017576331496786012, ucb: 2.4608032123748638, num_of_obs: 28, privacy reward: 0.5712090638488136, curr_delay = 0.7783859246671317\n",
      "user 21, g: 0.00017576331496786012, ucb: 2.459935986672558, num_of_obs: 28, privacy reward: 0.5712090638488136, curr_delay = 0.812950377191102\n",
      "user 22, g: 0.00017576331496786012, ucb: 2.4586587010819616, num_of_obs: 28, privacy reward: 0.5712090638488136, curr_delay = 0.8018515668289733\n",
      "max_delay = 0.82 seconds\n",
      "iteration: 177\n"
     ]
    },
    {
     "name": "stderr",
     "output_type": "stream",
     "text": [
      " 88%|████████▊ | 177/200 [01:26<00:10,  2.24it/s]"
     ]
    },
    {
     "name": "stdout",
     "output_type": "stream",
     "text": [
      "user 1, g: -0.0006463659867854073, ucb: 2.8649546548218647, num_of_obs: 35, privacy reward: 0.496585303791408, curr_delay = 0.06867721152138363\n",
      "user 2, g: -0.0006463659867854073, ucb: 2.8088103215571834, num_of_obs: 35, privacy reward: 0.496585303791408, curr_delay = 0.09451430829460275\n",
      "user 3, g: -0.0006463659867854073, ucb: 2.7176825124764723, num_of_obs: 35, privacy reward: 0.496585303791408, curr_delay = 0.09163307033649574\n",
      "user 4, g: -0.0003910115228701847, ucb: 2.6808803264417382, num_of_obs: 34, privacy reward: 0.5066169923655881, curr_delay = 0.1338058456966458\n",
      "user 5, g: -0.00019949567493376767, ucb: 2.6856382485191164, num_of_obs: 33, privacy reward: 0.5168513344916977, curr_delay = 0.12196640052649474\n",
      "max_delay = 0.13 seconds\n",
      "iteration: 178\n"
     ]
    },
    {
     "name": "stderr",
     "output_type": "stream",
     "text": [
      " 89%|████████▉ | 178/200 [01:26<00:10,  2.02it/s]"
     ]
    },
    {
     "name": "stdout",
     "output_type": "stream",
     "text": [
      "user 23, g: 0.0002244385529324294, ucb: 2.4603018845032145, num_of_obs: 28, privacy reward: 0.5712090638488136, curr_delay = 0.8088037743997589\n",
      "user 24, g: 0.0002244385529324294, ucb: 2.45957348647309, num_of_obs: 28, privacy reward: 0.5712090638488136, curr_delay = 0.8579847072604526\n",
      "user 25, g: 0.0002244385529324294, ucb: 2.458555046227643, num_of_obs: 28, privacy reward: 0.5712090638488136, curr_delay = 0.8515334932323895\n",
      "user 26, g: 0.0002244385529324294, ucb: 2.457631213120406, num_of_obs: 28, privacy reward: 0.5712090638488136, curr_delay = 0.8449657102339375\n",
      "user 27, g: 0.0002244385529324294, ucb: 2.4567978394881225, num_of_obs: 28, privacy reward: 0.5712090638488136, curr_delay = 0.8631591799088557\n",
      "max_delay = 0.86 seconds\n",
      "iteration: 179\n"
     ]
    },
    {
     "name": "stderr",
     "output_type": "stream",
     "text": [
      " 90%|████████▉ | 179/200 [01:27<00:09,  2.11it/s]"
     ]
    },
    {
     "name": "stdout",
     "output_type": "stream",
     "text": [
      "user 10, g: 2.1673619563822695e-05, ucb: 2.63929670124636, num_of_obs: 30, privacy reward: 0.5488116360940252, curr_delay = 0.14875048498381754\n",
      "user 11, g: 2.1673619563822695e-05, ucb: 2.61339734023611, num_of_obs: 30, privacy reward: 0.5488116360940252, curr_delay = 0.16564933306298305\n",
      "user 12, g: 0.00010490031868890185, ucb: 2.62689802401513, num_of_obs: 29, privacy reward: 0.5598983665654007, curr_delay = 0.18484265916105846\n",
      "user 8, g: -8.669447825529078e-07, ucb: 2.64125288373268, num_of_obs: 31, privacy reward: 0.5379444375946731, curr_delay = 0.15318104235000635\n",
      "user 9, g: -8.669447825529078e-07, ucb: 2.6121309127831704, num_of_obs: 31, privacy reward: 0.5379444375946731, curr_delay = 0.1600260393027224\n",
      "max_delay = 0.18 seconds\n",
      "iteration: 180\n"
     ]
    },
    {
     "name": "stderr",
     "output_type": "stream",
     "text": [
      " 90%|█████████ | 180/200 [01:27<00:09,  2.13it/s]"
     ]
    },
    {
     "name": "stdout",
     "output_type": "stream",
     "text": [
      "user 10, g: 0.0, ucb: 2.6020287161073714, num_of_obs: 31, privacy reward: 0.5379444375946731, curr_delay = 0.17833166930467112\n",
      "user 14, g: 0.00012345679012345652, ucb: 2.5998893298915577, num_of_obs: 29, privacy reward: 0.5598983665654007, curr_delay = 0.21724853442466074\n",
      "user 6, g: -3.0864197530864286e-05, ucb: 2.667054297844291, num_of_obs: 32, privacy reward: 0.5272924240430472, curr_delay = 0.12439692571806653\n",
      "user 7, g: -3.0864197530864286e-05, ucb: 2.6149677826711284, num_of_obs: 32, privacy reward: 0.5272924240430472, curr_delay = 0.12255740456935088\n",
      "user 8, g: -3.0864197530864286e-05, ucb: 2.6042174621852956, num_of_obs: 32, privacy reward: 0.5272924240430472, curr_delay = 0.1626442063160506\n",
      "max_delay = 0.22 seconds\n",
      "iteration: 181\n"
     ]
    },
    {
     "name": "stderr",
     "output_type": "stream",
     "text": [
      " 90%|█████████ | 181/200 [01:28<00:08,  2.20it/s]"
     ]
    },
    {
     "name": "stdout",
     "output_type": "stream",
     "text": [
      "user 11, g: 8.478916326662078e-07, ucb: 2.5770649011312665, num_of_obs: 31, privacy reward: 0.5379444375946731, curr_delay = 0.16445401329879186\n",
      "user 12, g: 4.1546690000644185e-05, ucb: 2.5884129252332206, num_of_obs: 30, privacy reward: 0.5488116360940252, curr_delay = 0.18687525518430537\n",
      "user 13, g: 4.1546690000644185e-05, ucb: 2.5863331336127966, num_of_obs: 30, privacy reward: 0.5488116360940252, curr_delay = 0.1729579571686949\n",
      "user 6, g: -0.00010259488755261172, ucb: 2.6321954536659513, num_of_obs: 33, privacy reward: 0.5168513344916977, curr_delay = 0.13564993337373285\n",
      "user 9, g: -2.1197290816655453e-05, ucb: 2.5767800252617445, num_of_obs: 32, privacy reward: 0.5272924240430472, curr_delay = 0.17555745697987904\n",
      "max_delay = 0.19 seconds\n",
      "iteration: 182\n"
     ]
    },
    {
     "name": "stderr",
     "output_type": "stream",
     "text": [
      " 91%|█████████ | 182/200 [01:28<00:08,  2.25it/s]"
     ]
    },
    {
     "name": "stdout",
     "output_type": "stream",
     "text": [
      "user 0, g: -0.0006574621959237354, ucb: 2.940826259123904, num_of_obs: 36, privacy reward: 0.4867522559599702, curr_delay = 0.09960771169438404\n",
      "user 1, g: -0.0006574621959237354, ucb: 2.8398691450002667, num_of_obs: 36, privacy reward: 0.4867522559599702, curr_delay = 0.05606023150850316\n",
      "user 2, g: -0.0006574621959237354, ucb: 2.7796425610475763, num_of_obs: 36, privacy reward: 0.4867522559599702, curr_delay = 0.08477982183872738\n",
      "user 3, g: -0.0006574621959237354, ucb: 2.691593663682257, num_of_obs: 36, privacy reward: 0.4867522559599702, curr_delay = 0.10372009625118139\n",
      "user 5, g: -0.00021468153336285213, ucb: 2.6556273977557283, num_of_obs: 34, privacy reward: 0.5066169923655881, curr_delay = 0.11510057701045609\n",
      "max_delay = 0.12 seconds\n",
      "iteration: 183\n"
     ]
    },
    {
     "name": "stderr",
     "output_type": "stream",
     "text": [
      " 92%|█████████▏| 183/200 [01:28<00:07,  2.22it/s]"
     ]
    },
    {
     "name": "stdout",
     "output_type": "stream",
     "text": [
      "user 16, g: 0.00018662844516109732, ucb: 2.431445840275063, num_of_obs: 29, privacy reward: 0.5598983665654007, curr_delay = 0.7400959649437914\n",
      "user 18, g: 0.00018662844516109732, ucb: 2.429367336048336, num_of_obs: 29, privacy reward: 0.5598983665654007, curr_delay = 0.777637658343676\n",
      "user 19, g: 0.00018662844516109732, ucb: 2.427930528162056, num_of_obs: 29, privacy reward: 0.5598983665654007, curr_delay = 0.744423956743383\n",
      "user 28, g: 0.0003657917525157512, ucb: 2.4624028072531616, num_of_obs: 28, privacy reward: 0.5712090638488136, curr_delay = 0.8837841054336437\n",
      "user 29, g: 0.0003657917525157512, ucb: 2.4610633620754903, num_of_obs: 28, privacy reward: 0.5712090638488136, curr_delay = 0.8847293259953137\n",
      "max_delay = 0.88 seconds\n",
      "iteration: 184\n"
     ]
    },
    {
     "name": "stderr",
     "output_type": "stream",
     "text": [
      " 92%|█████████▏| 184/200 [01:29<00:07,  2.04it/s]"
     ]
    },
    {
     "name": "stdout",
     "output_type": "stream",
     "text": [
      "user 17, g: 0.0002100399075824401, ucb: 2.4309118956497175, num_of_obs: 29, privacy reward: 0.5598983665654007, curr_delay = 0.7531692407940201\n",
      "user 20, g: 0.0002100399075824401, ucb: 2.427719499299664, num_of_obs: 29, privacy reward: 0.5598983665654007, curr_delay = 0.8057924433881128\n",
      "user 21, g: 0.0002100399075824401, ucb: 2.4267857059678795, num_of_obs: 29, privacy reward: 0.5598983665654007, curr_delay = 0.8076520850599241\n",
      "user 22, g: 0.0002100399075824401, ucb: 2.4255844416960746, num_of_obs: 29, privacy reward: 0.5598983665654007, curr_delay = 0.812826930000782\n",
      "user 24, g: 0.0002100399075824401, ucb: 2.423796718445948, num_of_obs: 29, privacy reward: 0.5598983665654007, curr_delay = 0.8599131679968359\n",
      "max_delay = 0.86 seconds\n",
      "iteration: 185\n"
     ]
    },
    {
     "name": "stderr",
     "output_type": "stream",
     "text": [
      " 92%|█████████▎| 185/200 [01:29<00:06,  2.16it/s]"
     ]
    },
    {
     "name": "stdout",
     "output_type": "stream",
     "text": [
      "user 10, g: -8.116224332440883e-07, ucb: 2.5694965102330585, num_of_obs: 32, privacy reward: 0.5272924240430472, curr_delay = 0.1727806033655638\n",
      "user 12, g: 2.029056083110121e-05, ucb: 2.554162036455838, num_of_obs: 31, privacy reward: 0.5379444375946731, curr_delay = 0.19161225564471127\n",
      "user 13, g: 2.029056083110121e-05, ucb: 2.5528692189781053, num_of_obs: 31, privacy reward: 0.5379444375946731, curr_delay = 0.18039175821778639\n",
      "user 14, g: 9.820631442253028e-05, ucb: 2.5645926359573625, num_of_obs: 30, privacy reward: 0.5488116360940252, curr_delay = 0.18686070682841108\n",
      "user 6, g: -0.00013716419121824572, ucb: 2.6013586932379966, num_of_obs: 34, privacy reward: 0.5066169923655881, curr_delay = 0.13263270934560148\n",
      "max_delay = 0.19 seconds\n",
      "iteration: 186\n"
     ]
    },
    {
     "name": "stderr",
     "output_type": "stream",
     "text": [
      " 93%|█████████▎| 186/200 [01:30<00:06,  2.06it/s]"
     ]
    },
    {
     "name": "stdout",
     "output_type": "stream",
     "text": [
      "user 15, g: 0.0002601456815816853, ucb: 2.4364469368416297, num_of_obs: 29, privacy reward: 0.5598983665654007, curr_delay = 0.7140601035423453\n",
      "user 23, g: 0.0002601456815816853, ucb: 2.4270745235500963, num_of_obs: 29, privacy reward: 0.5598983665654007, curr_delay = 0.8250323344855615\n",
      "user 25, g: 0.0002601456815816853, ucb: 2.425279283237996, num_of_obs: 29, privacy reward: 0.5598983665654007, curr_delay = 0.8224532553516047\n",
      "user 26, g: 0.0002601456815816853, ucb: 2.424404744258277, num_of_obs: 29, privacy reward: 0.5598983665654007, curr_delay = 0.8940981968627905\n",
      "user 27, g: 0.0002601456815816853, ucb: 2.423556589117484, num_of_obs: 29, privacy reward: 0.5598983665654007, curr_delay = 0.8801022502040639\n",
      "max_delay = 0.89 seconds\n",
      "iteration: 187\n"
     ]
    },
    {
     "name": "stderr",
     "output_type": "stream",
     "text": [
      " 94%|█████████▎| 187/200 [01:30<00:06,  2.12it/s]"
     ]
    },
    {
     "name": "stdout",
     "output_type": "stream",
     "text": [
      "user 12, g: 7.943543646594819e-07, ucb: 2.5190505857027823, num_of_obs: 32, privacy reward: 0.5272924240430472, curr_delay = 0.14863704578092093\n",
      "user 13, g: 7.943543646594819e-07, ucb: 2.5183230488768986, num_of_obs: 32, privacy reward: 0.5272924240430472, curr_delay = 0.170179360427301\n",
      "user 14, g: 3.892336386831496e-05, ucb: 2.5287803082195706, num_of_obs: 31, privacy reward: 0.5379444375946731, curr_delay = 0.18841709774621154\n",
      "user 28, g: 0.00028676192564207673, ucb: 2.4239500403911216, num_of_obs: 29, privacy reward: 0.5598983665654007, curr_delay = 0.8699441987817488\n",
      "user 29, g: 0.00028676192564207673, ucb: 2.422656273859952, num_of_obs: 29, privacy reward: 0.5598983665654007, curr_delay = 0.8725907976514224\n",
      "max_delay = 0.87 seconds\n",
      "iteration: 188\n"
     ]
    },
    {
     "name": "stderr",
     "output_type": "stream",
     "text": [
      " 94%|█████████▍| 188/200 [01:31<00:05,  2.12it/s]"
     ]
    },
    {
     "name": "stdout",
     "output_type": "stream",
     "text": [
      "user 15, g: 0.0001540415472058747, ucb: 2.397663232727038, num_of_obs: 30, privacy reward: 0.5488116360940252, curr_delay = 0.7397918915075486\n",
      "user 16, g: 0.0001540415472058747, ucb: 2.396306861400532, num_of_obs: 30, privacy reward: 0.5488116360940252, curr_delay = 0.7344488117662215\n",
      "user 18, g: 0.0001540415472058747, ucb: 2.3941875639157715, num_of_obs: 30, privacy reward: 0.5488116360940252, curr_delay = 0.7443905767874267\n",
      "user 19, g: 0.0001540415472058747, ucb: 2.392899222849505, num_of_obs: 30, privacy reward: 0.5488116360940252, curr_delay = 0.7538677769038019\n",
      "user 20, g: 0.0001540415472058747, ucb: 2.3913262862354023, num_of_obs: 30, privacy reward: 0.5488116360940252, curr_delay = 0.7617243900783868\n",
      "max_delay = 0.76 seconds\n",
      "iteration: 189\n"
     ]
    },
    {
     "name": "stderr",
     "output_type": "stream",
     "text": [
      " 94%|█████████▍| 189/200 [01:31<00:05,  2.13it/s]"
     ]
    },
    {
     "name": "stdout",
     "output_type": "stream",
     "text": [
      "user 17, g: 0.0001749671061840374, ucb: 2.395736769929868, num_of_obs: 30, privacy reward: 0.5488116360940252, curr_delay = 0.7405210848723524\n",
      "user 21, g: 0.0001749671061840374, ucb: 2.3915984386200333, num_of_obs: 30, privacy reward: 0.5488116360940252, curr_delay = 0.8067293862773751\n",
      "user 22, g: 0.0001749671061840374, ucb: 2.390425006393958, num_of_obs: 30, privacy reward: 0.5488116360940252, curr_delay = 0.8307033337307269\n",
      "user 24, g: 0.0001749671061840374, ucb: 2.388582780350425, num_of_obs: 30, privacy reward: 0.5488116360940252, curr_delay = 0.8211110676142919\n",
      "user 25, g: 0.0001749671061840374, ucb: 2.3877411229629115, num_of_obs: 30, privacy reward: 0.5488116360940252, curr_delay = 0.8346889352927489\n",
      "max_delay = 0.83 seconds\n",
      "iteration: 190\n"
     ]
    },
    {
     "name": "stderr",
     "output_type": "stream",
     "text": [
      " 95%|█████████▌| 190/200 [01:32<00:04,  2.10it/s]"
     ]
    },
    {
     "name": "stdout",
     "output_type": "stream",
     "text": [
      "user 1, g: -0.0005201600492459225, ucb: 2.8234750288477755, num_of_obs: 37, privacy reward: 0.4771139155210329, curr_delay = 0.056979673590714035\n",
      "user 2, g: -0.0005201600492459225, ucb: 2.756528770137627, num_of_obs: 37, privacy reward: 0.4771139155210329, curr_delay = 0.05613134546490791\n",
      "user 4, g: -0.00015081563558017876, ucb: 2.6592651899109008, num_of_obs: 35, privacy reward: 0.496585303791408, curr_delay = 0.06118462654006653\n",
      "user 7, g: -3.0778701138812134e-06, ucb: 2.5922051096575998, num_of_obs: 33, privacy reward: 0.5168513344916977, curr_delay = 0.12427036205540382\n",
      "user 8, g: -3.0778701138812134e-06, ucb: 2.5786484682615334, num_of_obs: 33, privacy reward: 0.5168513344916977, curr_delay = 0.13166711172504403\n",
      "max_delay = 0.13 seconds\n",
      "iteration: 191\n"
     ]
    },
    {
     "name": "stderr",
     "output_type": "stream",
     "text": [
      " 96%|█████████▌| 191/200 [01:32<00:04,  2.21it/s]"
     ]
    },
    {
     "name": "stdout",
     "output_type": "stream",
     "text": [
      "user 11, g: 1.9035784228624216e-05, ucb: 2.551785828696074, num_of_obs: 32, privacy reward: 0.5272924240430472, curr_delay = 0.17863198235752842\n",
      "user 5, g: -0.0001286819013855006, ucb: 2.6319592234375153, num_of_obs: 35, privacy reward: 0.496585303791408, curr_delay = 0.08342219296211256\n",
      "user 6, g: -0.0001286819013855006, ucb: 2.574284228584543, num_of_obs: 35, privacy reward: 0.496585303791408, curr_delay = 0.1399019382247774\n",
      "user 7, g: -3.7310137088103666e-05, ucb: 2.560284100594484, num_of_obs: 34, privacy reward: 0.5066169923655881, curr_delay = 0.10159599618481452\n",
      "user 9, g: -7.614313691450074e-07, ucb: 2.5513128348440666, num_of_obs: 33, privacy reward: 0.5168513344916977, curr_delay = 0.156904492142834\n",
      "max_delay = 0.18 seconds\n",
      "iteration: 192\n"
     ]
    },
    {
     "name": "stderr",
     "output_type": "stream",
     "text": [
      " 96%|█████████▌| 192/200 [01:33<00:03,  2.31it/s]"
     ]
    },
    {
     "name": "stdout",
     "output_type": "stream",
     "text": [
      "user 10, g: 0.0, ucb: 2.5409393475968436, num_of_obs: 33, privacy reward: 0.5168513344916977, curr_delay = 0.1652514378054287\n",
      "user 3, g: -0.0004340277777777782, ucb: 2.670019595403772, num_of_obs: 37, privacy reward: 0.4771139155210329, curr_delay = 0.09250128979374765\n",
      "user 5, g: -0.000244140625, ucb: 2.6054702815503785, num_of_obs: 36, privacy reward: 0.4867522559599702, curr_delay = 0.11689001084371267\n",
      "user 6, g: -0.000244140625, ucb: 2.5425297807764284, num_of_obs: 36, privacy reward: 0.4867522559599702, curr_delay = 0.06588310050895657\n",
      "user 8, g: -2.7126736111111208e-05, ucb: 2.547539313355037, num_of_obs: 34, privacy reward: 0.5066169923655881, curr_delay = 0.11662757710424934\n",
      "max_delay = 0.17 seconds\n",
      "iteration: 193\n"
     ]
    },
    {
     "name": "stderr",
     "output_type": "stream",
     "text": [
      " 96%|█████████▋| 193/200 [01:33<00:03,  2.28it/s]"
     ]
    },
    {
     "name": "stdout",
     "output_type": "stream",
     "text": [
      "user 14, g: 3.654087656342754e-05, ucb: 2.499135947811869, num_of_obs: 32, privacy reward: 0.5272924240430472, curr_delay = 0.1892232262239282\n",
      "user 23, g: 0.0002692093150897409, ucb: 2.3941152291997136, num_of_obs: 30, privacy reward: 0.5488116360940252, curr_delay = 0.8389497683864235\n",
      "user 26, g: 0.0002692093150897409, ucb: 2.3913760831176285, num_of_obs: 30, privacy reward: 0.5488116360940252, curr_delay = 0.8495898026529549\n",
      "user 27, g: 0.0002692093150897409, ucb: 2.3905878406213295, num_of_obs: 30, privacy reward: 0.5488116360940252, curr_delay = 0.9028452119814598\n",
      "user 28, g: 0.0002692093150897409, ucb: 2.3898188134078135, num_of_obs: 30, privacy reward: 0.5488116360940252, curr_delay = 0.9070170619419999\n",
      "max_delay = 0.91 seconds\n",
      "iteration: 194\n"
     ]
    },
    {
     "name": "stderr",
     "output_type": "stream",
     "text": [
      " 97%|█████████▋| 194/200 [01:33<00:02,  2.38it/s]"
     ]
    },
    {
     "name": "stdout",
     "output_type": "stream",
     "text": [
      "user 11, g: 2.9522561141223915e-06, ucb: 2.5190265064190123, num_of_obs: 33, privacy reward: 0.5168513344916977, curr_delay = 0.16684872951785307\n",
      "user 4, g: -0.00018894439130383458, ucb: 2.6413563973519003, num_of_obs: 36, privacy reward: 0.4867522559599702, curr_delay = 0.08672088113184194\n",
      "user 7, g: -7.380640285306025e-05, ucb: 2.5345424387827817, num_of_obs: 35, privacy reward: 0.496585303791408, curr_delay = 0.13631031291792564\n",
      "user 8, g: -7.380640285306025e-05, ucb: 2.5192528555321623, num_of_obs: 35, privacy reward: 0.496585303791408, curr_delay = 0.16812444173378097\n",
      "user 9, g: -1.1809024456489756e-05, ucb: 2.520259067765121, num_of_obs: 34, privacy reward: 0.5066169923655881, curr_delay = 0.1269237967655676\n",
      "max_delay = 0.17 seconds\n",
      "iteration: 195\n"
     ]
    },
    {
     "name": "stderr",
     "output_type": "stream",
     "text": [
      " 98%|█████████▊| 195/200 [01:34<00:02,  2.13it/s]"
     ]
    },
    {
     "name": "stdout",
     "output_type": "stream",
     "text": [
      "user 15, g: 0.00016436554898093314, ucb: 2.3664299821234063, num_of_obs: 31, privacy reward: 0.5379444375946731, curr_delay = 0.7180729245439071\n",
      "user 16, g: 0.00016436554898093314, ucb: 2.3651352128103573, num_of_obs: 31, privacy reward: 0.5379444375946731, curr_delay = 0.7392178914605105\n",
      "user 17, g: 0.00016436554898093314, ucb: 2.363426132796918, num_of_obs: 31, privacy reward: 0.5379444375946731, curr_delay = 0.7612643240053149\n",
      "user 18, g: 0.00016436554898093314, ucb: 2.363056251093888, num_of_obs: 31, privacy reward: 0.5379444375946731, curr_delay = 0.7494209933232596\n",
      "user 29, g: 0.00032215647600262955, ucb: 2.390847917685641, num_of_obs: 30, privacy reward: 0.5488116360940252, curr_delay = 0.8990629942834307\n",
      "max_delay = 0.90 seconds\n",
      "iteration: 196\n"
     ]
    },
    {
     "name": "stderr",
     "output_type": "stream",
     "text": [
      " 98%|█████████▊| 196/200 [01:35<00:01,  2.06it/s]"
     ]
    },
    {
     "name": "stdout",
     "output_type": "stream",
     "text": [
      "user 20, g: 0.0001851080568281731, ucb: 2.361352898872051, num_of_obs: 31, privacy reward: 0.5379444375946731, curr_delay = 0.783043673570152\n",
      "user 21, g: 0.0001851080568281731, ucb: 2.360354533062314, num_of_obs: 31, privacy reward: 0.5379444375946731, curr_delay = 0.8023140303909739\n",
      "user 22, g: 0.0001851080568281731, ucb: 2.359160592155354, num_of_obs: 31, privacy reward: 0.5379444375946731, curr_delay = 0.7774164708486996\n",
      "user 23, g: 0.0001851080568281731, ucb: 2.358215673167145, num_of_obs: 31, privacy reward: 0.5379444375946731, curr_delay = 0.8056048171480023\n",
      "user 24, g: 0.0001851080568281731, ucb: 2.3574032117307526, num_of_obs: 31, privacy reward: 0.5379444375946731, curr_delay = 0.8167158345086637\n",
      "max_delay = 0.82 seconds\n",
      "iteration: 197\n"
     ]
    },
    {
     "name": "stderr",
     "output_type": "stream",
     "text": [
      " 98%|█████████▊| 197/200 [01:35<00:01,  2.27it/s]"
     ]
    },
    {
     "name": "stdout",
     "output_type": "stream",
     "text": [
      "user 0, g: -0.0002583879455223732, ucb: 2.9179932452869686, num_of_obs: 37, privacy reward: 0.4771139155210329, curr_delay = 0.08154683662424193\n",
      "user 1, g: -0.00044734755111214253, ucb: 2.80604414263394, num_of_obs: 38, privacy reward: 0.4676664270099077, curr_delay = 0.0532990258432392\n",
      "user 2, g: -0.00044734755111214253, ucb: 2.7412656742353914, num_of_obs: 38, privacy reward: 0.4676664270099077, curr_delay = 0.08630937865230706\n",
      "user 3, g: -0.00044734755111214253, ucb: 2.6455996577322076, num_of_obs: 38, privacy reward: 0.4676664270099077, curr_delay = 0.07006176393684149\n",
      "user 4, g: -0.0002583879455223732, ucb: 2.616355516621514, num_of_obs: 37, privacy reward: 0.4771139155210329, curr_delay = 0.08766535806732041\n",
      "max_delay = 0.09 seconds\n",
      "iteration: 198\n"
     ]
    },
    {
     "name": "stderr",
     "output_type": "stream",
     "text": [
      " 99%|█████████▉| 198/200 [01:35<00:00,  2.21it/s]"
     ]
    },
    {
     "name": "stdout",
     "output_type": "stream",
     "text": [
      "user 19, g: 0.0002295684113865928, ucb: 2.3651046665417748, num_of_obs: 31, privacy reward: 0.5379444375946731, curr_delay = 0.7530460534922299\n",
      "user 25, g: 0.0002295684113865928, ucb: 2.358765050685524, num_of_obs: 31, privacy reward: 0.5379444375946731, curr_delay = 0.861251646753492\n",
      "user 26, g: 0.0002295684113865928, ucb: 2.357751411498793, num_of_obs: 31, privacy reward: 0.5379444375946731, curr_delay = 0.8769474764329288\n",
      "user 27, g: 0.0002295684113865928, ucb: 2.3568737286919617, num_of_obs: 31, privacy reward: 0.5379444375946731, curr_delay = 0.8545587984014621\n",
      "user 28, g: 0.0002295684113865928, ucb: 2.3561218449176597, num_of_obs: 31, privacy reward: 0.5379444375946731, curr_delay = 0.8797313657047614\n",
      "max_delay = 0.88 seconds\n",
      "iteration: 199\n"
     ]
    },
    {
     "name": "stderr",
     "output_type": "stream",
     "text": [
      "100%|█████████▉| 199/200 [01:36<00:00,  2.29it/s]"
     ]
    },
    {
     "name": "stdout",
     "output_type": "stream",
     "text": [
      "user 10, g: 7.014413216276711e-07, ucb: 2.5139219166963414, num_of_obs: 34, privacy reward: 0.5066169923655881, curr_delay = 0.15022154390309944\n",
      "user 11, g: 7.014413216276711e-07, ucb: 2.4904646954622334, num_of_obs: 34, privacy reward: 0.5066169923655881, curr_delay = 0.1475382330587412\n",
      "user 12, g: 3.437062475975621e-05, ucb: 2.4988453362420238, num_of_obs: 33, privacy reward: 0.5168513344916977, curr_delay = 0.1945314902683012\n",
      "user 13, g: 3.437062475975621e-05, ucb: 2.4968098402062253, num_of_obs: 33, privacy reward: 0.5168513344916977, curr_delay = 0.20206720935130748\n",
      "user 9, g: -1.753603304069201e-05, ucb: 2.4948628545233436, num_of_obs: 35, privacy reward: 0.496585303791408, curr_delay = 0.15991751668008325\n",
      "max_delay = 0.20 seconds\n",
      "iteration: 200\n"
     ]
    },
    {
     "name": "stderr",
     "output_type": "stream",
     "text": [
      "100%|██████████| 200/200 [01:36<00:00,  2.07it/s]"
     ]
    },
    {
     "name": "stdout",
     "output_type": "stream",
     "text": [
      "user 14, g: 4.444444444444428e-05, ucb: 2.4717831093332174, num_of_obs: 33, privacy reward: 0.5168513344916977, curr_delay = 0.2239499673685012\n",
      "user 15, g: 0.0001361111111111109, ucb: 2.334489798883208, num_of_obs: 32, privacy reward: 0.5272924240430472, curr_delay = 0.7404742214091116\n",
      "user 16, g: 0.0001361111111111109, ucb: 2.333172546149521, num_of_obs: 32, privacy reward: 0.5272924240430472, curr_delay = 0.7291039950429921\n",
      "user 18, g: 0.0001361111111111109, ucb: 2.331130941848849, num_of_obs: 32, privacy reward: 0.5272924240430472, curr_delay = 0.7640197605992314\n",
      "user 29, g: 0.00027777777777777767, ucb: 2.3571089517231747, num_of_obs: 31, privacy reward: 0.5379444375946731, curr_delay = 0.8892522388789502\n",
      "max_delay = 0.89 seconds\n"
     ]
    },
    {
     "name": "stderr",
     "output_type": "stream",
     "text": [
      "\n"
     ]
    },
    {
     "data": {
      "image/png": "[encoded data removed]",
      "text/plain": [
       "<Figure size 640x480 with 1 Axes>"
      ]
     },
     "metadata": {},
     "output_type": "display_data"
    }
   ],
   "source": [
    "\n",
    "\n",
    "choices_table = np.zeros((args.global_epochs, args.num_users))\n",
    "num_of_obs_arr = np.zeros((1,args.num_users))\n",
    "train_loss_list = []\n",
    "val_acc_list = []\n",
    "val_losses_list = []\n",
    "l1_norm_avg_deltha_theta_list = []\n",
    "global_epochs_time_list = []\n",
    "\n",
    "\n",
    "time_counter = 0\n",
    "for global_epoch in tqdm(range(1, args.global_epochs+1)):\n",
    "    \"\"\"Part 1: Choosing Users\"\"\"\n",
    "    for usr_idx in range(args.num_users):\n",
    "        local_models[usr_idx].update_g(global_epoch)\n",
    "        local_models[usr_idx].update_ucb(global_epoch)\n",
    "    \n",
    "    if args.choosing_users_verbose:\n",
    "        print(f\"iteration: {global_epoch}\")\n",
    "    a=time.time()\n",
    "    rounds_choise = utils.choose_users(local_models, args, global_epoch, method=args.method_choosing_users)\n",
    "\n",
    "    \n",
    "    #choices_table[global_epoch-1, rounds_choise] = 1\n",
    "    num_of_obs_arr[0,rounds_choise] += 1\n",
    "    for usr_idx in rounds_choise:\n",
    "        local_models[usr_idx].update_emp_avg()\n",
    "        local_models[usr_idx].update_privacy_violation_and_reward()\n",
    "        local_models[usr_idx].increase_num_of_obs()\n",
    "        if args.choosing_users_verbose:\n",
    "            print(f\"user {usr_idx}, g: {local_models[usr_idx].g}, ucb: {local_models[usr_idx].ucb}, num_of_obs: {local_models[usr_idx].num_of_obs}, privacy reward: {local_models[usr_idx].privacy_reward}, curr_delay = {local_models[usr_idx].last_access_time}\")\n",
    "    \n",
    "    max_delay = max([local_models[i].last_access_time for i in rounds_choise])\n",
    "    if args.choosing_users_verbose:\n",
    "        print(f\"max_delay = {max_delay:.2f} seconds\")\n",
    "    \n",
    "    \n",
    "    \"\"\"Part 2: Training\"\"\"\n",
    "#     learning_utils.distribute_model(local_models, global_model)\n",
    "#     users_avg_loss_over_local_epochs = []\n",
    "\n",
    "#     for user_idx in rounds_choise:\n",
    "#         user_loss = []\n",
    "#         for local_epoch in range(args.local_epochs):\n",
    "#             user = local_models[user_idx]\n",
    "#             train_loss = learning_utils.train_one_epoch(user, train_criterion, args)\n",
    "#             if args.lr_scheduler:\n",
    "#                 user.scheduler.step(train_loss)\n",
    "#             user_loss.append(train_loss)\n",
    "#         users_avg_loss_over_local_epochs.append(mean(user_loss))\n",
    "    \n",
    "#     avg_loss_over_chosen_users_curr_global_epoch = mean(users_avg_loss_over_local_epochs)\n",
    "#     train_loss_list.append(avg_loss_over_chosen_users_curr_global_epoch)\n",
    "\n",
    "\n",
    "#     avg_deltha_theta = learning_utils.Fed_avg_models(local_models, global_model, rounds_choise,\n",
    "#                                                       args, snr_verbose = args.snr_verbose)\n",
    "#     # l1_norm_avg_deltha_theta = sum(LA.vector_norm(param.flatten(),1) for param in avg_deltha_theta.values())\n",
    "#     # l1_norm_avg_deltha_theta_list.append(l1_norm_avg_deltha_theta)\n",
    "#     # print(f\"l1_norm_avg_deltha_theta is {l1_norm_avg_deltha_theta}\")\n",
    "    \n",
    "\n",
    "#     val_acc, val_loss = learning_utils.test(test_loader, global_model, test_criterion, args)\n",
    "#     val_acc_list.append(val_acc) ; val_losses_list.append(val_loss)\n",
    "    \n",
    "\n",
    "#     # boardio.add_scalars(\"Losses over time in seconds\", {\"train_loss\":avg_loss_over_chosen_users_curr_global_epoch,\n",
    "#     #                                     \"val_loss\": val_loss}, time.time()-start_time)\n",
    "#     # boardio.add_scalar('Val Accuracy', val_acc, time.time()-start_time)\n",
    "\n",
    "\n",
    "#     time_counter += max_delay\n",
    "#     print((f\"global epoch {global_epoch} has been done artifficialy in {max_delay:.2f} secs, the total time by now is {time_counter:.2f} \\n with avg train loss {avg_loss_over_chosen_users_curr_global_epoch:.3f}, val loss {val_loss:.3f}, avg val acc {val_acc:.2f}%\"))\n",
    "#     global_epochs_time_list.append(time_counter)\n",
    "#     gc.collect()\n",
    "\n",
    "\n",
    "#     if val_acc > best_val_acc and args.save_best_model:\n",
    "#         best_val_acc = val_acc\n",
    "#         torch.save({\"model's state dict\":global_model.state_dict(),\n",
    "#                     \"train_loss_list\": train_loss_list,\n",
    "#                     \"val_acc_list\": val_acc_list,\n",
    "#                     \"val_losses_list\": val_losses_list,\n",
    "#                     \"global_epochs_time_list\": global_epochs_time_list,\n",
    "#                     \"num_of_users\": args.num_users,\n",
    "#                     \"num_of_users_per_round\": args.num_users_per_round,\n",
    "#                     \"l1_norm_avg_deltha_theta_list\": l1_norm_avg_deltha_theta_list}\n",
    "#                     , path_best_model)\n",
    "    \n",
    "    \n",
    "#     torch.save({\"model's state dict\":global_model.state_dict(),\n",
    "#                 \"train_loss_list\": train_loss_list,\n",
    "#                 \"val_acc_list\": val_acc_list,\n",
    "#                 \"val_losses_list\": val_losses_list,\n",
    "#                 \"global_epochs_time_list\": global_epochs_time_list,\n",
    "#                 \"num_of_obs_arr\": num_of_obs_arr.reshape(-1),\n",
    "#                 \"global_epoch\": global_epoch,\n",
    "#                 \"num_of_users\": args.num_users,\n",
    "#                 \"num_of_users_per_round\": args.num_users_per_round,\n",
    "#                 \"l1_norm_avg_deltha_theta_list\": l1_norm_avg_deltha_theta_list}\n",
    "#                 , last_model_path)\n",
    "\n",
    "#     if time_counter > args.max_seconds:\n",
    "#         break\n",
    "\n",
    "users_idxs = tuple([str(x) for x in range(1,args.num_users+1)])\n",
    "plt.bar(users_idxs, num_of_obs_arr.reshape(-1), width = 0.4)\n",
    "plt.title(\"Number of times each user was chosen\")\n",
    "plt.ylabel(\"number of times\")\n",
    "plt.xlabel(\"user index\")\n",
    "plt.xticks(rotation=90, fontsize=5)\n",
    "#boardio.add_figure(\"Number of times each user was chosen\", fig, global_epoch)\n",
    "plt.savefig(last_model_path.parent / \"Number of times each user was chosen.png\")\n",
    "\n",
    "#choices_table = choices_table.cumsum(axis=0)\n"
   ]
  }
 ],
 "metadata": {
  "kernelspec": {
   "display_name": "Python 3",
   "language": "python",
   "name": "python3"
  },
  "language_info": {
   "codemirror_mode": {
    "name": "ipython",
    "version": 3
   },
   "file_extension": ".py",
   "mimetype": "text/x-python",
   "name": "python",
   "nbconvert_exporter": "python",
   "pygments_lexer": "ipython3",
   "version": "3.11.3"
  }
 },
 "nbformat": 4,
 "nbformat_minor": 2
}
