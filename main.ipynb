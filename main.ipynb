{
 "cells": [
  {
   "cell_type": "code",
   "execution_count": 1,
   "metadata": {},
   "outputs": [],
   "source": [
    "import gc\n",
    "import sys\n",
    "from statistics import mean\n",
    "import time\n",
    "import torch\n",
    "from tqdm import tqdm\n",
    "from torchinfo import summary\n",
    "import numpy as np\n",
    "import itertools\n",
    "from pathlib import Path\n",
    "from scipy import special\n",
    "import matplotlib.pyplot as plt\n",
    "import datetime\n",
    "\n",
    "import utils\n",
    "import models\n",
    "import learning_utils\n",
    "from configurations import args_parser, arguments\n",
    "\n"
   ]
  },
  {
   "cell_type": "code",
   "execution_count": 2,
   "metadata": {},
   "outputs": [
    {
     "name": "stdout",
     "output_type": "stream",
     "text": [
      "{'exp_name': 'random selection', 'eval': False, 'data': 'mnist', 'norm_std': 0.5, 'norm_mean': 0.5, 'train_batch_size': 20, 'test_batch_size': 1000, 'model': 'cnn2', 'num_users': 30, 'num_users_per_round': 5, 'local_epochs': 1, 'local_iterations': 100, 'global_epochs': 200, 'tau_min': 0.05, 'privacy_noise': 'laplace', 'epsilon': 4, 'optimizer': 'sgd', 'lr': 0.01, 'momentum': 0.5, 'lr_scheduler': True, 'device': 'cpu', 'seed': 0, 'zeta_coeff': 1.5, 'alpha': 1, 'beta': 2, 'gamma': 1, 'max_seconds': 200, 'method_choosing_users': 'brute force', 'data_truncation': 1000, 'initiated_delay': 0.0}\n"
     ]
    }
   ],
   "source": [
    "start_time = time.time()\n",
    "args = arguments()\n",
    "#boardio is for the the tensorboardx prensation and textio is for written documentation\n",
    "boardio, textio, best_val_acc, path_best_model, last_model_path = utils.initializations(args)\n",
    "textio.cprint(str(args) if args.__class__.__name__ == 'Namespace' else str(vars(args)))\n",
    "\n",
    "#mnist_train_data, mnist_test_loader  = utils.data(args)\n",
    "\n",
    "\n",
    "\n"
   ]
  },
  {
   "cell_type": "code",
   "execution_count": 3,
   "metadata": {},
   "outputs": [
    {
     "name": "stdout",
     "output_type": "stream",
     "text": [
      "=================================================================\n",
      "Layer (type:depth-idx)                   Param #\n",
      "=================================================================\n",
      "CNN2Layer                                --\n",
      "├─Conv2d: 1-1                            156\n",
      "├─Conv2d: 1-2                            906\n",
      "├─Linear: 1-3                            4,850\n",
      "├─Linear: 1-4                            510\n",
      "├─Dropout: 1-5                           --\n",
      "├─Dropout: 1-6                           --\n",
      "=================================================================\n",
      "Total params: 6,422\n",
      "Trainable params: 6,422\n",
      "Non-trainable params: 0\n",
      "=================================================================\n"
     ]
    }
   ],
   "source": [
    "# data\n",
    "train_data, test_loader = utils.data(args)\n",
    "#input in the CNNs is the number of channels and in linear models is the size of the flatten pictures\n",
    "input, output, train_data, val_loader = utils.data_split(train_data, len(test_loader.dataset), args)\n",
    "\n",
    "# model\n",
    "if args.model == 'mlp':\n",
    "    global_model = models.FC2Layer(input, output)\n",
    "elif args.model == 'cnn2':\n",
    "    global_model = models.CNN2Layer(input, output, args.data)\n",
    "elif args.model == 'cnn3':\n",
    "    if args.data == 'mnist':\n",
    "        raise ValueError('CNN3 is not supported for MNIST')\n",
    "    global_model = models.CNN3Layer()\n",
    "elif args.model == 'cnn5':\n",
    "    if args.data == 'mnist':\n",
    "        raise ValueError('CNN3 is not supported for MNIST')\n",
    "    global_model = models.CNN5Layer(input, output)\n",
    "elif args.model == 'linear':\n",
    "    global_model = models.Linear(input, output)\n",
    "\n",
    "\n",
    "\n",
    "textio.cprint(str(summary(global_model)).encode('utf-8', errors='ignore').decode('utf-8', errors='ignore'))\n",
    "global_model.to(args.device)\n",
    "\n",
    "train_criterion = torch.nn.CrossEntropyLoss(reduction='mean')\n",
    "test_criterion = torch.nn.CrossEntropyLoss(reduction='sum')\n",
    "\n",
    "local_models = utils.federated_setup(global_model, train_data, args, i_i_d=True)\n",
    "utils.update_data_equility_partititon(local_models, args)\n",
    "\n"
   ]
  },
  {
   "cell_type": "code",
   "execution_count": 4,
   "metadata": {},
   "outputs": [
    {
     "name": "stderr",
     "output_type": "stream",
     "text": [
      "  0%|          | 0/200 [00:00<?, ?it/s]"
     ]
    },
    {
     "name": "stdout",
     "output_type": "stream",
     "text": [
      "iteration1\n"
     ]
    },
    {
     "name": "stderr",
     "output_type": "stream",
     "text": [
      "  0%|          | 1/200 [00:00<02:15,  1.46it/s]"
     ]
    },
    {
     "name": "stdout",
     "output_type": "stream",
     "text": [
      "user 0, g: 0.027777777777777776,curr_delay = 0.07049809529445017, ucb: inf num_of_obs: 1\n",
      "user 1, g: 0.027777777777777776,curr_delay = 0.056791396782105194, ucb: inf num_of_obs: 1\n",
      "user 2, g: 0.027777777777777776,curr_delay = 0.06643864588826198, ucb: inf num_of_obs: 1\n",
      "user 3, g: 0.027777777777777776,curr_delay = 0.10069492243540534, ucb: inf num_of_obs: 1\n",
      "user 4, g: 0.027777777777777776,curr_delay = 0.09479443698512131, ucb: inf num_of_obs: 1\n",
      "iteration2\n"
     ]
    },
    {
     "name": "stderr",
     "output_type": "stream",
     "text": [
      "  1%|          | 2/200 [00:01<02:35,  1.27it/s]"
     ]
    },
    {
     "name": "stdout",
     "output_type": "stream",
     "text": [
      "user 5, g: 0.027777777777777776,curr_delay = 0.11059389900574162, ucb: inf num_of_obs: 1\n",
      "user 6, g: 0.027777777777777776,curr_delay = 0.13221155797827427, ucb: inf num_of_obs: 1\n",
      "user 7, g: 0.027777777777777776,curr_delay = 0.10924322543988298, ucb: inf num_of_obs: 1\n",
      "user 8, g: 0.027777777777777776,curr_delay = 0.14788559244538924, ucb: inf num_of_obs: 1\n",
      "user 9, g: 0.027777777777777776,curr_delay = 0.11216333024449146, ucb: inf num_of_obs: 1\n",
      "iteration3\n"
     ]
    },
    {
     "name": "stderr",
     "output_type": "stream",
     "text": [
      "  2%|▏         | 3/200 [00:02<02:42,  1.21it/s]"
     ]
    },
    {
     "name": "stdout",
     "output_type": "stream",
     "text": [
      "user 10, g: 0.027777777777777776,curr_delay = 0.18021806134152774, ucb: inf num_of_obs: 1\n",
      "user 11, g: 0.027777777777777776,curr_delay = 0.1627952956716698, ucb: inf num_of_obs: 1\n",
      "user 12, g: 0.027777777777777776,curr_delay = 0.19453055952592094, ucb: inf num_of_obs: 1\n",
      "user 13, g: 0.027777777777777776,curr_delay = 0.16850534462141142, ucb: inf num_of_obs: 1\n",
      "user 14, g: 0.027777777777777776,curr_delay = 0.1911805765703162, ucb: inf num_of_obs: 1\n",
      "iteration4\n"
     ]
    },
    {
     "name": "stderr",
     "output_type": "stream",
     "text": [
      "  2%|▏         | 4/200 [00:03<02:48,  1.16it/s]"
     ]
    },
    {
     "name": "stdout",
     "output_type": "stream",
     "text": [
      "user 15, g: 0.027777777777777776,curr_delay = 0.7064471786276835, ucb: inf num_of_obs: 1\n",
      "user 16, g: 0.027777777777777776,curr_delay = 0.7270133345123959, ucb: inf num_of_obs: 1\n",
      "user 17, g: 0.027777777777777776,curr_delay = 0.7434131783309588, ucb: inf num_of_obs: 1\n",
      "user 18, g: 0.027777777777777776,curr_delay = 0.7567646299329644, ucb: inf num_of_obs: 1\n",
      "user 19, g: 0.027777777777777776,curr_delay = 0.7731636515194661, ucb: inf num_of_obs: 1\n",
      "iteration5\n"
     ]
    },
    {
     "name": "stderr",
     "output_type": "stream",
     "text": [
      "  2%|▎         | 5/200 [00:04<02:39,  1.22it/s]"
     ]
    },
    {
     "name": "stdout",
     "output_type": "stream",
     "text": [
      "user 20, g: 0.027777777777777776,curr_delay = 0.7636753847754442, ucb: inf num_of_obs: 1\n",
      "user 21, g: 0.027777777777777776,curr_delay = 0.8277034877389866, ucb: inf num_of_obs: 1\n",
      "user 22, g: 0.027777777777777776,curr_delay = 0.7915786212426292, ucb: inf num_of_obs: 1\n",
      "user 23, g: 0.027777777777777776,curr_delay = 0.8253375904263389, ucb: inf num_of_obs: 1\n",
      "user 24, g: 0.027777777777777776,curr_delay = 0.8124684836405365, ucb: inf num_of_obs: 1\n",
      "iteration6\n"
     ]
    },
    {
     "name": "stderr",
     "output_type": "stream",
     "text": [
      "  3%|▎         | 6/200 [00:04<02:37,  1.23it/s]"
     ]
    },
    {
     "name": "stdout",
     "output_type": "stream",
     "text": [
      "user 25, g: 0.027777777777777776,curr_delay = 0.8356479398860751, ucb: inf num_of_obs: 1\n",
      "user 26, g: 0.027777777777777776,curr_delay = 0.8232569419377354, ucb: inf num_of_obs: 1\n",
      "user 27, g: 0.027777777777777776,curr_delay = 0.867242901422615, ucb: inf num_of_obs: 1\n",
      "user 28, g: 0.027777777777777776,curr_delay = 0.9074725594067597, ucb: inf num_of_obs: 1\n",
      "user 29, g: 0.027777777777777776,curr_delay = 0.9127896025634604, ucb: inf num_of_obs: 1\n",
      "iteration7\n"
     ]
    },
    {
     "name": "stderr",
     "output_type": "stream",
     "text": [
      "  4%|▎         | 7/200 [00:05<02:34,  1.25it/s]"
     ]
    },
    {
     "name": "stdout",
     "output_type": "stream",
     "text": [
      "user 0, g: 0.0005668934240362811,curr_delay = 0.07769866506913399, ucb: 8.349743222449526 num_of_obs: 2\n",
      "user 1, g: 0.0005668934240362811,curr_delay = 0.06541470426862254, ucb: 8.520919245008576 num_of_obs: 2\n",
      "user 2, g: 0.0005668934240362811,curr_delay = 0.0822601096943326, ucb: 8.393078240480465 num_of_obs: 2\n",
      "user 3, g: 0.0005668934240362811,curr_delay = 0.11164726255558201, ucb: 8.137053569757516 num_of_obs: 2\n",
      "user 4, g: 0.0005668934240362811,curr_delay = 0.13154652956894683, ucb: 8.167961315072358 num_of_obs: 2\n",
      "iteration8\n"
     ]
    },
    {
     "name": "stderr",
     "output_type": "stream",
     "text": [
      "  4%|▍         | 8/200 [00:06<02:34,  1.24it/s]"
     ]
    },
    {
     "name": "stdout",
     "output_type": "stream",
     "text": [
      "user 5, g: 0.0017361111111111104,curr_delay = 0.11902435104872221, ucb: 8.35041104850981 num_of_obs: 2\n",
      "user 6, g: 0.0017361111111111104,curr_delay = 0.12317876161508533, ucb: 8.276488305558052 num_of_obs: 2\n",
      "user 7, g: 0.0017361111111111104,curr_delay = 0.10901128603081424, ucb: 8.356000828579608 num_of_obs: 2\n",
      "user 8, g: 0.0017361111111111104,curr_delay = 0.15948247162687362, ucb: 8.236405739839661 num_of_obs: 2\n",
      "user 9, g: 0.0017361111111111104,curr_delay = 0.12217016778366285, ucb: 8.344085033293766 num_of_obs: 2\n",
      "iteration9\n"
     ]
    },
    {
     "name": "stderr",
     "output_type": "stream",
     "text": [
      "  4%|▍         | 9/200 [00:07<02:30,  1.27it/s]"
     ]
    },
    {
     "name": "stdout",
     "output_type": "stream",
     "text": [
      "user 10, g: 0.0030864197530864196,curr_delay = 0.16203185854682134, ucb: 8.396353994249374 num_of_obs: 2\n",
      "user 11, g: 0.0030864197530864196,curr_delay = 0.15937766097438352, ucb: 8.426046505896727 num_of_obs: 2\n",
      "user 12, g: 0.0030864197530864196,curr_delay = 0.22117332158173655, ucb: 8.375941348464824 num_of_obs: 2\n",
      "user 13, g: 0.0030864197530864196,curr_delay = 0.19593986143412653, ucb: 8.415638816939639 num_of_obs: 2\n",
      "user 14, g: 0.0030864197530864196,curr_delay = 0.19071391029279544, ucb: 8.38044516819103 num_of_obs: 2\n",
      "iteration10\n"
     ]
    },
    {
     "name": "stderr",
     "output_type": "stream",
     "text": [
      "  5%|▌         | 10/200 [00:07<02:28,  1.28it/s]"
     ]
    },
    {
     "name": "stdout",
     "output_type": "stream",
     "text": [
      "user 15, g: 0.004444444444444443,curr_delay = 0.7247210308057498, ucb: 8.382067381306513 num_of_obs: 2\n",
      "user 16, g: 0.004444444444444443,curr_delay = 0.7118491271472748, ucb: 8.38006521081623 num_of_obs: 2\n",
      "user 17, g: 0.004444444444444443,curr_delay = 0.7253837475004077, ucb: 8.378548030902166 num_of_obs: 2\n",
      "user 18, g: 0.004444444444444443,curr_delay = 0.7635202768390003, ucb: 8.37736142252756 num_of_obs: 2\n",
      "user 20, g: 0.004444444444444443,curr_delay = 0.7552994620950815, ucb: 8.376763526217593 num_of_obs: 2\n",
      "iteration11\n"
     ]
    },
    {
     "name": "stderr",
     "output_type": "stream",
     "text": [
      "  6%|▌         | 11/200 [00:08<02:26,  1.29it/s]"
     ]
    },
    {
     "name": "stdout",
     "output_type": "stream",
     "text": [
      "user 19, g: 0.005739210284664828,curr_delay = 0.778405300246312, ucb: 8.546229252876044 num_of_obs: 2\n",
      "user 22, g: 0.005739210284664828,curr_delay = 0.8086146812656817, ucb: 8.544724810601162 num_of_obs: 2\n",
      "user 23, g: 0.005739210284664828,curr_delay = 0.813540624181732, ucb: 8.542141161679348 num_of_obs: 2\n",
      "user 24, g: 0.005739210284664828,curr_delay = 0.8310492683890719, ucb: 8.543100739629505 num_of_obs: 2\n",
      "user 26, g: 0.005739210284664828,curr_delay = 0.8403642873778187, ucb: 8.542294271022175 num_of_obs: 2\n",
      "iteration12\n"
     ]
    },
    {
     "name": "stderr",
     "output_type": "stream",
     "text": [
      "  6%|▌         | 12/200 [00:09<02:25,  1.29it/s]"
     ]
    },
    {
     "name": "stdout",
     "output_type": "stream",
     "text": [
      "user 21, g: 0.006944444444444444,curr_delay = 0.7810795203224963, ucb: 8.694480117116264 num_of_obs: 2\n",
      "user 25, g: 0.006944444444444444,curr_delay = 0.8580741736858194, ucb: 8.693905821070912 num_of_obs: 2\n",
      "user 27, g: 0.006944444444444444,curr_delay = 0.8986881224809824, ucb: 8.69172598550225 num_of_obs: 2\n",
      "user 28, g: 0.006944444444444444,curr_delay = 0.8973479841230863, ucb: 8.68917009591003 num_of_obs: 2\n",
      "user 29, g: 0.006944444444444444,curr_delay = 0.9068444587701274, ucb: 8.68884914692713 num_of_obs: 2\n",
      "iteration13\n"
     ]
    },
    {
     "name": "stderr",
     "output_type": "stream",
     "text": [
      "  6%|▋         | 13/200 [00:10<02:22,  1.32it/s]"
     ]
    },
    {
     "name": "stdout",
     "output_type": "stream",
     "text": [
      "user 0, g: 0.00016436554898093314,curr_delay = 0.0728693324471662, ucb: 6.8791360644439035 num_of_obs: 3\n",
      "user 1, g: 0.00016436554898093314,curr_delay = 0.09390922363382993, ucb: 7.025145295833808 num_of_obs: 3\n",
      "user 2, g: 0.00016436554898093314,curr_delay = 0.08126556155050611, ucb: 6.882961736186103 num_of_obs: 3\n",
      "user 3, g: 0.00016436554898093314,curr_delay = 0.08844009621359866, ucb: 6.674954895491719 num_of_obs: 3\n",
      "user 7, g: 0.00016436554898093314,curr_delay = 0.12968239085643207, ucb: 6.660941900120031 num_of_obs: 3\n",
      "iteration14\n"
     ]
    },
    {
     "name": "stderr",
     "output_type": "stream",
     "text": [
      "  7%|▋         | 14/200 [00:11<02:26,  1.27it/s]"
     ]
    },
    {
     "name": "stdout",
     "output_type": "stream",
     "text": [
      "user 4, g: 0.0005668934240362811,curr_delay = 0.08417723224297351, ucb: 6.745504866546583 num_of_obs: 3\n",
      "user 5, g: 0.0005668934240362811,curr_delay = 0.11806396572087641, ucb: 6.7278227929554975 num_of_obs: 3\n",
      "user 6, g: 0.0005668934240362811,curr_delay = 0.11973509644271986, ucb: 6.683777434292439 num_of_obs: 3\n",
      "user 8, g: 0.0005668934240362811,curr_delay = 0.13383837166251317, ucb: 6.6175361246921165 num_of_obs: 3\n",
      "user 9, g: 0.0005668934240362811,curr_delay = 0.1718834229695375, ucb: 6.71925134013677 num_of_obs: 3\n",
      "iteration15\n"
     ]
    },
    {
     "name": "stderr",
     "output_type": "stream",
     "text": [
      "  8%|▊         | 15/200 [00:11<02:25,  1.27it/s]"
     ]
    },
    {
     "name": "stdout",
     "output_type": "stream",
     "text": [
      "user 10, g: 0.0011111111111111107,curr_delay = 0.17734953374547663, ucb: 6.666452702971118 num_of_obs: 3\n",
      "user 11, g: 0.0011111111111111107,curr_delay = 0.16779443518478604, ucb: 6.68386843969611 num_of_obs: 3\n",
      "user 12, g: 0.0011111111111111107,curr_delay = 0.14648303934618784, ucb: 6.614989259079129 num_of_obs: 3\n",
      "user 13, g: 0.0011111111111111107,curr_delay = 0.18366941171368834, ucb: 6.649394637930168 num_of_obs: 3\n",
      "user 14, g: 0.0011111111111111107,curr_delay = 0.20911399932731978, ucb: 6.635294045096458 num_of_obs: 3\n",
      "iteration16\n"
     ]
    },
    {
     "name": "stderr",
     "output_type": "stream",
     "text": [
      "  8%|▊         | 16/200 [00:12<02:23,  1.28it/s]"
     ]
    },
    {
     "name": "stdout",
     "output_type": "stream",
     "text": [
      "user 15, g: 0.0017361111111111104,curr_delay = 0.7114974874612326, ucb: 6.518824669804118 num_of_obs: 3\n",
      "user 16, g: 0.0017361111111111104,curr_delay = 0.7260550863394869, ucb: 6.518447353818337 num_of_obs: 3\n",
      "user 17, g: 0.0017361111111111104,curr_delay = 0.7219605271858459, ucb: 6.517033478736717 num_of_obs: 3\n",
      "user 18, g: 0.0017361111111111104,curr_delay = 0.7585131403067531, ucb: 6.514718731023368 num_of_obs: 3\n",
      "user 20, g: 0.0017361111111111104,curr_delay = 0.7732580821364257, ucb: 6.5147761643422895 num_of_obs: 3\n",
      "iteration17\n"
     ]
    },
    {
     "name": "stderr",
     "output_type": "stream",
     "text": [
      "  8%|▊         | 17/200 [00:13<02:26,  1.25it/s]"
     ]
    },
    {
     "name": "stdout",
     "output_type": "stream",
     "text": [
      "user 19, g: 0.002402921953094963,curr_delay = 0.7485038913855255, ucb: 6.583515988059861 num_of_obs: 3\n",
      "user 21, g: 0.002402921953094963,curr_delay = 0.7787612445954407, ucb: 6.581275399736492 num_of_obs: 3\n",
      "user 22, g: 0.002402921953094963,curr_delay = 0.8239016320728402, ucb: 6.581563896276005 num_of_obs: 3\n",
      "user 23, g: 0.002402921953094963,curr_delay = 0.8222535690991026, ucb: 6.580084870663114 num_of_obs: 3\n",
      "user 24, g: 0.002402921953094963,curr_delay = 0.8578334741167559, ucb: 6.579917239043486 num_of_obs: 3\n",
      "iteration18\n"
     ]
    },
    {
     "name": "stderr",
     "output_type": "stream",
     "text": [
      "  9%|▉         | 18/200 [00:14<02:21,  1.29it/s]"
     ]
    },
    {
     "name": "stdout",
     "output_type": "stream",
     "text": [
      "user 25, g: 0.0030864197530864196,curr_delay = 0.84260960381167, ucb: 6.643547064486828 num_of_obs: 3\n",
      "user 26, g: 0.0030864197530864196,curr_delay = 0.8450353202582466, ucb: 6.6446113424743025 num_of_obs: 3\n",
      "user 27, g: 0.0030864197530864196,curr_delay = 0.8981382115977884, ucb: 6.641140463203353 num_of_obs: 3\n",
      "user 28, g: 0.0030864197530864196,curr_delay = 0.8824650486549028, ucb: 6.639904063501936 num_of_obs: 3\n",
      "user 29, g: 0.0030864197530864196,curr_delay = 0.9059057649721828, ucb: 6.639451840446768 num_of_obs: 3\n",
      "iteration19\n"
     ]
    },
    {
     "name": "stderr",
     "output_type": "stream",
     "text": [
      " 10%|▉         | 19/200 [00:14<02:17,  1.32it/s]"
     ]
    },
    {
     "name": "stdout",
     "output_type": "stream",
     "text": [
      "user 0, g: 7.694675284702985e-05,curr_delay = 0.05, ucb: 6.105905305713342 num_of_obs: 4\n",
      "user 1, g: 7.694675284702985e-05,curr_delay = 0.05, ucb: 6.152001244587565 num_of_obs: 4\n",
      "user 2, g: 7.694675284702985e-05,curr_delay = 0.10841174709615765, ucb: 6.0848247754066 num_of_obs: 4\n",
      "user 3, g: 7.694675284702985e-05,curr_delay = 0.08515662595490955, ucb: 5.929516099142538 num_of_obs: 4\n",
      "user 4, g: 7.694675284702985e-05,curr_delay = 0.06920558299075218, ucb: 5.926780362793988 num_of_obs: 4\n",
      "iteration20\n"
     ]
    },
    {
     "name": "stderr",
     "output_type": "stream",
     "text": [
      " 10%|█         | 20/200 [00:15<02:17,  1.31it/s]"
     ]
    },
    {
     "name": "stdout",
     "output_type": "stream",
     "text": [
      "user 5, g: 0.00027777777777777767,curr_delay = 0.1150304162937034, ucb: 5.905223589424368 num_of_obs: 4\n",
      "user 6, g: 0.00027777777777777767,curr_delay = 0.1272594215261656, ucb: 5.873889771512268 num_of_obs: 4\n",
      "user 7, g: 0.00027777777777777767,curr_delay = 0.11595165936124958, ucb: 5.907301554615484 num_of_obs: 4\n",
      "user 8, g: 0.00027777777777777767,curr_delay = 0.14681893483444766, ucb: 5.815061043103761 num_of_obs: 4\n",
      "user 9, g: 0.00027777777777777767,curr_delay = 0.16416222736469352, ucb: 5.85530781858774 num_of_obs: 4\n",
      "iteration21\n"
     ]
    },
    {
     "name": "stderr",
     "output_type": "stream",
     "text": [
      " 10%|█         | 21/200 [00:16<02:17,  1.30it/s]"
     ]
    },
    {
     "name": "stdout",
     "output_type": "stream",
     "text": [
      "user 10, g: 0.0005668934240362811,curr_delay = 0.13928993402976542, ucb: 5.807036492272502 num_of_obs: 4\n",
      "user 11, g: 0.0005668934240362811,curr_delay = 0.18025967152120528, ucb: 5.823998493112565 num_of_obs: 4\n",
      "user 12, g: 0.0005668934240362811,curr_delay = 0.1705635812875794, ucb: 5.79252996777048 num_of_obs: 4\n",
      "user 13, g: 0.0005668934240362811,curr_delay = 0.17583894711688075, ucb: 5.7924308171938845 num_of_obs: 4\n",
      "user 14, g: 0.0005668934240362811,curr_delay = 0.22023141443271355, ucb: 5.771989019945227 num_of_obs: 4\n",
      "iteration22\n"
     ]
    },
    {
     "name": "stderr",
     "output_type": "stream",
     "text": [
      " 11%|█         | 22/200 [00:17<02:15,  1.32it/s]"
     ]
    },
    {
     "name": "stdout",
     "output_type": "stream",
     "text": [
      "user 15, g: 0.0009182736455463729,curr_delay = 0.7374461112067763, ucb: 5.6297287895897945 num_of_obs: 4\n",
      "user 16, g: 0.0009182736455463729,curr_delay = 0.7387926330314639, ucb: 5.629007572641939 num_of_obs: 4\n",
      "user 17, g: 0.0009182736455463729,curr_delay = 0.7248476571459478, ucb: 5.628195177829293 num_of_obs: 4\n",
      "user 18, g: 0.0009182736455463729,curr_delay = 0.7467695486150726, ucb: 5.6255395367722905 num_of_obs: 4\n",
      "user 20, g: 0.0009182736455463729,curr_delay = 0.7897749387466645, ucb: 5.625158835093383 num_of_obs: 4\n",
      "iteration23\n"
     ]
    },
    {
     "name": "stderr",
     "output_type": "stream",
     "text": [
      " 12%|█▏        | 23/200 [00:17<02:12,  1.33it/s]"
     ]
    },
    {
     "name": "stdout",
     "output_type": "stream",
     "text": [
      "user 19, g: 0.0013127494223902538,curr_delay = 0.7829165118399937, ucb: 5.664782779294671 num_of_obs: 4\n",
      "user 21, g: 0.0013127494223902538,curr_delay = 0.7966230137686163, ucb: 5.66242392390643 num_of_obs: 4\n",
      "user 22, g: 0.0013127494223902538,curr_delay = 0.7795758448494269, ucb: 5.661443696920559 num_of_obs: 4\n",
      "user 23, g: 0.0013127494223902538,curr_delay = 0.8349318929671904, ucb: 5.660498225229641 num_of_obs: 4\n",
      "user 24, g: 0.0013127494223902538,curr_delay = 0.8268053226875247, ucb: 5.659545763595731 num_of_obs: 4\n",
      "iteration24\n"
     ]
    },
    {
     "name": "stderr",
     "output_type": "stream",
     "text": [
      " 12%|█▏        | 24/200 [00:18<02:15,  1.30it/s]"
     ]
    },
    {
     "name": "stdout",
     "output_type": "stream",
     "text": [
      "user 25, g: 0.0017361111111111104,curr_delay = 0.8672838135350687, ucb: 5.696570783776559 num_of_obs: 4\n",
      "user 26, g: 0.0017361111111111104,curr_delay = 0.8591759745489882, ucb: 5.6972235234640936 num_of_obs: 4\n",
      "user 27, g: 0.0017361111111111104,curr_delay = 0.8758538028928272, ucb: 5.693743468811189 num_of_obs: 4\n",
      "user 28, g: 0.0017361111111111104,curr_delay = 0.895219934792723, ucb: 5.6932487852739335 num_of_obs: 4\n",
      "user 29, g: 0.0017361111111111104,curr_delay = 0.8876292069749439, ucb: 5.692458606891279 num_of_obs: 4\n",
      "iteration25\n"
     ]
    },
    {
     "name": "stderr",
     "output_type": "stream",
     "text": [
      " 12%|█▎        | 25/200 [00:19<02:11,  1.33it/s]"
     ]
    },
    {
     "name": "stdout",
     "output_type": "stream",
     "text": [
      "user 0, g: 4.444444444444428e-05,curr_delay = 0.05, ucb: 5.673134641700576 num_of_obs: 5\n",
      "user 1, g: 4.444444444444428e-05,curr_delay = 0.05549603952371439, ucb: 5.707706595856244 num_of_obs: 5\n",
      "user 2, g: 4.444444444444428e-05,curr_delay = 0.07287756861495312, ucb: 5.522625402145868 num_of_obs: 5\n",
      "user 3, g: 4.444444444444428e-05,curr_delay = 0.06026323764164873, ucb: 5.437631079544753 num_of_obs: 5\n",
      "user 4, g: 4.444444444444428e-05,curr_delay = 0.10096927648075484, ucb: 5.46941220030793 num_of_obs: 5\n",
      "iteration26\n"
     ]
    },
    {
     "name": "stderr",
     "output_type": "stream",
     "text": [
      " 13%|█▎        | 26/200 [00:20<02:10,  1.34it/s]"
     ]
    },
    {
     "name": "stdout",
     "output_type": "stream",
     "text": [
      "user 5, g: 0.00016436554898093314,curr_delay = 0.11357469835112381, ucb: 5.375838725402956 num_of_obs: 5\n",
      "user 6, g: 0.00016436554898093314,curr_delay = 0.1371774210508673, ucb: 5.341896005668274 num_of_obs: 5\n",
      "user 7, g: 0.00016436554898093314,curr_delay = 0.11516890971601287, ucb: 5.3765338340033395 num_of_obs: 5\n",
      "user 8, g: 0.00016436554898093314,curr_delay = 0.15077447190724722, ucb: 5.284688786963009 num_of_obs: 5\n",
      "user 9, g: 0.00016436554898093314,curr_delay = 0.16131568421496026, ucb: 5.305879177387404 num_of_obs: 5\n",
      "iteration27\n"
     ]
    },
    {
     "name": "stderr",
     "output_type": "stream",
     "text": [
      " 14%|█▎        | 27/200 [00:20<02:09,  1.33it/s]"
     ]
    },
    {
     "name": "stdout",
     "output_type": "stream",
     "text": [
      "user 0, g: -0.0003429355281207133,curr_delay = 0.05, ucb: 5.25469350787623 num_of_obs: 6\n",
      "user 1, g: -0.0003429355281207133,curr_delay = 0.06660025462172384, ucb: 5.2625441099441295 num_of_obs: 6\n",
      "user 10, g: 0.0003429355281207133,curr_delay = 0.1478919127594976, ucb: 5.278527008947287 num_of_obs: 5\n",
      "user 11, g: 0.0003429355281207133,curr_delay = 0.16026477345123988, ucb: 5.270852045433719 num_of_obs: 5\n",
      "user 12, g: 0.0003429355281207133,curr_delay = 0.16492986567067275, ucb: 5.251192698263333 num_of_obs: 5\n",
      "iteration28\n"
     ]
    },
    {
     "name": "stderr",
     "output_type": "stream",
     "text": [
      " 14%|█▍        | 28/200 [00:21<02:08,  1.34it/s]"
     ]
    },
    {
     "name": "stdout",
     "output_type": "stream",
     "text": [
      "user 2, g: -0.0001417233560090706,curr_delay = 0.08824123670373174, ucb: 5.095969780263041 num_of_obs: 6\n",
      "user 13, g: 0.0005668934240362811,curr_delay = 0.19800460139258974, ucb: 5.2762748555135195 num_of_obs: 5\n",
      "user 14, g: 0.0005668934240362811,curr_delay = 0.18118326567595025, ucb: 5.246614208279014 num_of_obs: 5\n",
      "user 15, g: 0.0005668934240362811,curr_delay = 0.7054564498672284, ucb: 5.068614472380632 num_of_obs: 5\n",
      "user 16, g: 0.0005668934240362811,curr_delay = 0.75380555732881, ucb: 5.068042665924279 num_of_obs: 5\n",
      "iteration29\n"
     ]
    },
    {
     "name": "stderr",
     "output_type": "stream",
     "text": [
      " 14%|█▍        | 29/200 [00:22<02:05,  1.36it/s]"
     ]
    },
    {
     "name": "stdout",
     "output_type": "stream",
     "text": [
      "user 17, g: 0.0008257365570088515,curr_delay = 0.7272348917003894, ucb: 5.09401288378932 num_of_obs: 5\n",
      "user 18, g: 0.0008257365570088515,curr_delay = 0.729802806284051, ucb: 5.09151491504915 num_of_obs: 5\n",
      "user 19, g: 0.0008257365570088515,curr_delay = 0.7468986275643608, ucb: 5.090299054608083 num_of_obs: 5\n",
      "user 20, g: 0.0008257365570088515,curr_delay = 0.8003457321648132, ucb: 5.090317917578635 num_of_obs: 5\n",
      "user 21, g: 0.0008257365570088515,curr_delay = 0.7744041061377276, ucb: 5.08825520694154 num_of_obs: 5\n",
      "iteration30\n"
     ]
    },
    {
     "name": "stderr",
     "output_type": "stream",
     "text": [
      " 15%|█▌        | 30/200 [00:23<02:06,  1.34it/s]"
     ]
    },
    {
     "name": "stdout",
     "output_type": "stream",
     "text": [
      "user 22, g: 0.0011111111111111107,curr_delay = 0.8180377572577068, ucb: 5.113097420658438 num_of_obs: 5\n",
      "user 23, g: 0.0011111111111111107,curr_delay = 0.8205284215125986, ucb: 5.111325237578776 num_of_obs: 5\n",
      "user 24, g: 0.0011111111111111107,curr_delay = 0.82799857045637, ucb: 5.11075804227754 num_of_obs: 5\n",
      "user 25, g: 0.0011111111111111107,curr_delay = 0.8730131938640302, ucb: 5.1094152159857 num_of_obs: 5\n",
      "user 26, g: 0.0011111111111111107,curr_delay = 0.8808466388496707, ucb: 5.110040781040281 num_of_obs: 5\n",
      "iteration31\n"
     ]
    },
    {
     "name": "stderr",
     "output_type": "stream",
     "text": [
      " 16%|█▌        | 31/200 [00:23<02:08,  1.31it/s]"
     ]
    },
    {
     "name": "stdout",
     "output_type": "stream",
     "text": [
      "user 3, g: 2.8905075731298364e-05,curr_delay = 0.11701689884961003, ucb: 5.124472342760735 num_of_obs: 6\n",
      "user 4, g: 2.8905075731298364e-05,curr_delay = 0.11556099071873868, ucb: 5.082998622630088 num_of_obs: 6\n",
      "user 27, g: 0.001416348710833622,curr_delay = 0.8540166564412575, ucb: 5.131441093374021 num_of_obs: 5\n",
      "user 28, g: 0.001416348710833622,curr_delay = 0.8589654372284558, ucb: 5.130761341692075 num_of_obs: 5\n",
      "user 29, g: 0.001416348710833622,curr_delay = 0.8947273520407281, ucb: 5.130288115541965 num_of_obs: 5\n",
      "iteration32\n"
     ]
    },
    {
     "name": "stderr",
     "output_type": "stream",
     "text": [
      " 16%|█▌        | 32/200 [00:24<02:09,  1.30it/s]"
     ]
    },
    {
     "name": "stdout",
     "output_type": "stream",
     "text": [
      "user 0, g: -0.0004340277777777782,curr_delay = 0.05994602825429647, ucb: 5.002591460599903 num_of_obs: 7\n",
      "user 1, g: -0.0004340277777777782,curr_delay = 0.07108423021675363, ucb: 4.9675916090781085 num_of_obs: 7\n",
      "user 5, g: 0.00010850694444444425,curr_delay = 0.08760772347789078, ucb: 4.994207887704907 num_of_obs: 6\n",
      "user 6, g: 0.00010850694444444425,curr_delay = 0.12673435957758214, ucb: 4.951904226611718 num_of_obs: 6\n",
      "user 7, g: 0.00010850694444444425,curr_delay = 0.12961221184670688, ucb: 4.993545184105061 num_of_obs: 6\n",
      "iteration33\n"
     ]
    },
    {
     "name": "stderr",
     "output_type": "stream",
     "text": [
      " 16%|█▋        | 33/200 [00:25<02:08,  1.30it/s]"
     ]
    },
    {
     "name": "stdout",
     "output_type": "stream",
     "text": [
      "user 8, g: 0.0002295684113865928,curr_delay = 0.15398108039259048, ucb: 4.919763760190418 num_of_obs: 6\n",
      "user 9, g: 0.0002295684113865928,curr_delay = 0.1691884142257815, ucb: 4.932382100044 num_of_obs: 6\n",
      "user 10, g: 0.0002295684113865928,curr_delay = 0.17999421797560175, ucb: 4.893288851400617 num_of_obs: 6\n",
      "user 11, g: 0.0002295684113865928,curr_delay = 0.1578057202549343, ucb: 4.881928674808796 num_of_obs: 6\n",
      "user 12, g: 0.0002295684113865928,curr_delay = 0.2002563982007069, ucb: 4.864436285893012 num_of_obs: 6\n",
      "iteration34\n"
     ]
    },
    {
     "name": "stderr",
     "output_type": "stream",
     "text": [
      " 17%|█▋        | 34/200 [00:26<02:06,  1.31it/s]"
     ]
    },
    {
     "name": "stdout",
     "output_type": "stream",
     "text": [
      "user 0, g: -0.0015378700499807767,curr_delay = 0.06334993257658852, ucb: 4.726539975640229 num_of_obs: 8\n",
      "user 2, g: -9.611687812379895e-05,curr_delay = 0.07441279193242223, ucb: 4.813954698315301 num_of_obs: 7\n",
      "user 3, g: -9.611687812379895e-05,curr_delay = 0.07070109814738369, ucb: 4.758003694648384 num_of_obs: 7\n",
      "user 13, g: 0.0003844675124951936,curr_delay = 0.20271294590298886, ucb: 4.872001450291557 num_of_obs: 6\n",
      "user 14, g: 0.0003844675124951936,curr_delay = 0.18792289580572505, ucb: 4.85296179084822 num_of_obs: 6\n",
      "iteration35\n"
     ]
    },
    {
     "name": "stderr",
     "output_type": "stream",
     "text": [
      " 18%|█▊        | 35/200 [00:27<02:06,  1.31it/s]"
     ]
    },
    {
     "name": "stdout",
     "output_type": "stream",
     "text": [
      "user 1, g: -0.0011111111111111124,curr_delay = 0.07192388721285672, ucb: 4.693815274744575 num_of_obs: 8\n",
      "user 4, g: -2.267573696145135e-05,curr_delay = 0.08242689784775348, ucb: 4.741562643204657 num_of_obs: 7\n",
      "user 15, g: 0.0005668934240362811,curr_delay = 0.7015599136632149, ucb: 4.6884115288165615 num_of_obs: 6\n",
      "user 16, g: 0.0005668934240362811,curr_delay = 0.7332038104657603, ucb: 4.687044884717417 num_of_obs: 6\n",
      "user 17, g: 0.0005668934240362811,curr_delay = 0.7362633513142258, ucb: 4.68730254715691 num_of_obs: 6\n",
      "iteration36\n"
     ]
    },
    {
     "name": "stderr",
     "output_type": "stream",
     "text": [
      " 18%|█▊        | 36/200 [00:27<02:03,  1.33it/s]"
     ]
    },
    {
     "name": "stdout",
     "output_type": "stream",
     "text": [
      "user 18, g: 0.000771604938271604,curr_delay = 0.7326421740593052, ucb: 4.703517740206478 num_of_obs: 6\n",
      "user 19, g: 0.000771604938271604,curr_delay = 0.7587198592534575, ucb: 4.702231418112392 num_of_obs: 6\n",
      "user 20, g: 0.000771604938271604,curr_delay = 0.7662395398505669, ucb: 4.701352410972991 num_of_obs: 6\n",
      "user 21, g: 0.000771604938271604,curr_delay = 0.8027396758211152, ucb: 4.700120796865279 num_of_obs: 6\n",
      "user 22, g: 0.000771604938271604,curr_delay = 0.8011668366817326, ucb: 4.699118379799659 num_of_obs: 6\n",
      "iteration37\n"
     ]
    },
    {
     "name": "stderr",
     "output_type": "stream",
     "text": [
      " 18%|█▊        | 37/200 [00:28<02:02,  1.33it/s]"
     ]
    },
    {
     "name": "stdout",
     "output_type": "stream",
     "text": [
      "user 23, g: 0.000994237480723966,curr_delay = 0.806343303346563, ucb: 4.7153563574293065 num_of_obs: 6\n",
      "user 24, g: 0.000994237480723966,curr_delay = 0.8320947735392447, ucb: 4.714792648451106 num_of_obs: 6\n",
      "user 25, g: 0.000994237480723966,curr_delay = 0.8512011059828529, ucb: 4.713095652487031 num_of_obs: 6\n",
      "user 26, g: 0.000994237480723966,curr_delay = 0.8491766290418792, ucb: 4.713494237959308 num_of_obs: 6\n",
      "user 27, g: 0.000994237480723966,curr_delay = 0.8526541596665937, ucb: 4.7115412360499676 num_of_obs: 6\n",
      "iteration38\n"
     ]
    },
    {
     "name": "stderr",
     "output_type": "stream",
     "text": [
      " 19%|█▉        | 38/200 [00:29<02:02,  1.32it/s]"
     ]
    },
    {
     "name": "stdout",
     "output_type": "stream",
     "text": [
      "user 5, g: 7.694675284702985e-05,curr_delay = 0.10175276822173838, ucb: 4.721617423138472 num_of_obs: 7\n",
      "user 6, g: 7.694675284702985e-05,curr_delay = 0.10769961414466522, ucb: 4.6569977162647485 num_of_obs: 7\n",
      "user 7, g: 7.694675284702985e-05,curr_delay = 0.1503167158967006, ucb: 4.6902385340174115 num_of_obs: 7\n",
      "user 28, g: 0.0012311480455524776,curr_delay = 0.9047927336040309, ucb: 4.72808658948326 num_of_obs: 6\n",
      "user 29, g: 0.0012311480455524776,curr_delay = 0.9022693701254303, ucb: 4.727242685732764 num_of_obs: 6\n",
      "iteration39\n"
     ]
    },
    {
     "name": "stderr",
     "output_type": "stream",
     "text": [
      " 20%|█▉        | 39/200 [00:30<02:02,  1.31it/s]"
     ]
    },
    {
     "name": "stdout",
     "output_type": "stream",
     "text": [
      "user 2, g: -0.00016436554898093385,curr_delay = 0.07881036758685063, ucb: 4.585519111733868 num_of_obs: 8\n",
      "user 8, g: 0.00016436554898093314,curr_delay = 0.14588288216019385, ucb: 4.6169458817254245 num_of_obs: 7\n",
      "user 9, g: 0.00016436554898093314,curr_delay = 0.13135260458791864, ucb: 4.622596713732255 num_of_obs: 7\n",
      "user 10, g: 0.00016436554898093314,curr_delay = 0.14862469077306115, ucb: 4.587062038318954 num_of_obs: 7\n",
      "user 11, g: 0.00016436554898093314,curr_delay = 0.17367666528985562, ucb: 4.584104990182717 num_of_obs: 7\n",
      "iteration40\n"
     ]
    },
    {
     "name": "stderr",
     "output_type": "stream",
     "text": [
      " 20%|██        | 40/200 [00:30<02:02,  1.31it/s]"
     ]
    },
    {
     "name": "stdout",
     "output_type": "stream",
     "text": [
      "user 0, g: -0.0011111111111111124,curr_delay = 0.05, ucb: 4.552096786182331 num_of_obs: 9\n",
      "user 3, g: -6.944444444444442e-05,curr_delay = 0.05, ucb: 4.556268492190938 num_of_obs: 8\n",
      "user 12, g: 0.00027777777777777767,curr_delay = 0.14208419649126847, ucb: 4.573096984964726 num_of_obs: 7\n",
      "user 13, g: 0.00027777777777777767,curr_delay = 0.20543514316404107, ucb: 4.562637377613805 num_of_obs: 7\n",
      "user 14, g: 0.00027777777777777767,curr_delay = 0.21496459471227455, ucb: 4.55000638905811 num_of_obs: 7\n",
      "iteration41\n"
     ]
    },
    {
     "name": "stderr",
     "output_type": "stream",
     "text": [
      " 20%|██        | 41/200 [00:31<01:58,  1.34it/s]"
     ]
    },
    {
     "name": "stdout",
     "output_type": "stream",
     "text": [
      "user 1, g: -0.0008097032189834102,curr_delay = 0.0757206605348322, ucb: 4.510176777074685 num_of_obs: 9\n",
      "user 4, g: -1.6524555489457512e-05,curr_delay = 0.10761906222266727, ucb: 4.526326827614159 num_of_obs: 8\n",
      "user 5, g: -1.6524555489457512e-05,curr_delay = 0.1377357601514922, ucb: 4.45121462572664 num_of_obs: 8\n",
      "user 6, g: -1.6524555489457512e-05,curr_delay = 0.10712960238724728, ucb: 4.391950176120333 num_of_obs: 8\n",
      "user 7, g: -1.6524555489457512e-05,curr_delay = 0.13398622834942173, ucb: 4.401638989407008 num_of_obs: 8\n",
      "iteration42\n"
     ]
    },
    {
     "name": "stderr",
     "output_type": "stream",
     "text": [
      " 21%|██        | 42/200 [00:32<02:00,  1.31it/s]"
     ]
    },
    {
     "name": "stdout",
     "output_type": "stream",
     "text": [
      "user 15, g: 0.0005668934240362811,curr_delay = 0.7055366369107051, ucb: 4.393000623714911 num_of_obs: 7\n",
      "user 16, g: 0.0005668934240362811,curr_delay = 0.7254745511296017, ucb: 4.3913491056715115 num_of_obs: 7\n",
      "user 17, g: 0.0005668934240362811,curr_delay = 0.7048152515165289, ucb: 4.391516594461608 num_of_obs: 7\n",
      "user 18, g: 0.0005668934240362811,curr_delay = 0.7492219765635351, ucb: 4.389866904803248 num_of_obs: 7\n",
      "user 19, g: 0.0005668934240362811,curr_delay = 0.7815921554957777, ucb: 4.388404025838818 num_of_obs: 7\n",
      "iteration43\n"
     ]
    },
    {
     "name": "stderr",
     "output_type": "stream",
     "text": [
      " 22%|██▏       | 43/200 [00:33<02:03,  1.27it/s]"
     ]
    },
    {
     "name": "stdout",
     "output_type": "stream",
     "text": [
      "user 20, g: 0.000736133645814554,curr_delay = 0.7618613189381193, ucb: 4.401150110982876 num_of_obs: 7\n",
      "user 21, g: 0.000736133645814554,curr_delay = 0.7796735219282565, ucb: 4.399629257179471 num_of_obs: 7\n",
      "user 22, g: 0.000736133645814554,curr_delay = 0.8094935866324062, ucb: 4.398814289680606 num_of_obs: 7\n",
      "user 23, g: 0.000736133645814554,curr_delay = 0.8047309341851717, ucb: 4.397535138055552 num_of_obs: 7\n",
      "user 24, g: 0.000736133645814554,curr_delay = 0.8399683882159225, ucb: 4.396745544087967 num_of_obs: 7\n",
      "iteration44\n"
     ]
    },
    {
     "name": "stderr",
     "output_type": "stream",
     "text": [
      " 22%|██▏       | 44/200 [00:33<02:01,  1.28it/s]"
     ]
    },
    {
     "name": "stdout",
     "output_type": "stream",
     "text": [
      "user 25, g: 0.0009182736455463729,curr_delay = 0.8596536983815448, ucb: 4.408339620863619 num_of_obs: 7\n",
      "user 26, g: 0.0009182736455463729,curr_delay = 0.8435884116588991, ucb: 4.4086951154520335 num_of_obs: 7\n",
      "user 27, g: 0.0009182736455463729,curr_delay = 0.8741816806735773, ucb: 4.407027590019503 num_of_obs: 7\n",
      "user 28, g: 0.0009182736455463729,curr_delay = 0.8642354466289297, ucb: 4.40595501306015 num_of_obs: 7\n",
      "user 29, g: 0.0009182736455463729,curr_delay = 0.8972415663847174, ucb: 4.4052775180005534 num_of_obs: 7\n",
      "iteration45\n"
     ]
    },
    {
     "name": "stderr",
     "output_type": "stream",
     "text": [
      " 22%|██▎       | 45/200 [00:34<01:58,  1.31it/s]"
     ]
    },
    {
     "name": "stdout",
     "output_type": "stream",
     "text": [
      "user 0, g: -0.0011111111111111124,curr_delay = 0.06666186119724214, ucb: 4.413507032932856 num_of_obs: 10\n",
      "user 2, g: -0.00012345679012345715,curr_delay = 0.06696327049633438, ucb: 4.402718264331877 num_of_obs: 9\n",
      "user 3, g: -0.00012345679012345715,curr_delay = 0.07375210619375347, ucb: 4.410860113541308 num_of_obs: 9\n",
      "user 8, g: 0.00012345679012345652,curr_delay = 0.1219673918493989, ucb: 4.37692541741789 num_of_obs: 8\n",
      "user 9, g: 0.00012345679012345652,curr_delay = 0.19414859415488922, ucb: 4.387185289456346 num_of_obs: 8\n",
      "iteration46\n"
     ]
    },
    {
     "name": "stderr",
     "output_type": "stream",
     "text": [
      " 23%|██▎       | 46/200 [00:35<01:58,  1.30it/s]"
     ]
    },
    {
     "name": "stdout",
     "output_type": "stream",
     "text": [
      "user 1, g: -0.0008401596303297637,curr_delay = 0.06864767375984099, ucb: 4.33772494676087 num_of_obs: 10\n",
      "user 4, g: -5.250997689561023e-05,curr_delay = 0.09435798849792718, ucb: 4.317003254572771 num_of_obs: 9\n",
      "user 10, g: 0.0002100399075824401,curr_delay = 0.17475860091942044, ucb: 4.362051104875593 num_of_obs: 8\n",
      "user 11, g: 0.0002100399075824401,curr_delay = 0.19267736991472126, ucb: 4.352584126088723 num_of_obs: 8\n",
      "user 12, g: 0.0002100399075824401,curr_delay = 0.18447808614345265, ucb: 4.339639183080509 num_of_obs: 8\n",
      "iteration47\n"
     ]
    },
    {
     "name": "stderr",
     "output_type": "stream",
     "text": [
      " 24%|██▎       | 47/200 [00:36<01:58,  1.29it/s]"
     ]
    },
    {
     "name": "stdout",
     "output_type": "stream",
     "text": [
      "user 0, g: -0.002125144610432072,curr_delay = 0.05, ucb: 4.239825732830384 num_of_obs: 11\n",
      "user 2, g: -0.0006161661888235003,curr_delay = 0.09253055654531833, ucb: 4.220502202624791 num_of_obs: 10\n",
      "user 5, g: -1.2574820180071461e-05,curr_delay = 0.10882413077005837, ucb: 4.249208797045523 num_of_obs: 9\n",
      "user 13, g: 0.0003143705045017855,curr_delay = 0.2017476411164903, ucb: 4.326532149648706 num_of_obs: 8\n",
      "user 14, g: 0.0003143705045017855,curr_delay = 0.18730410977265224, ucb: 4.314164248930462 num_of_obs: 8\n",
      "iteration48\n"
     ]
    },
    {
     "name": "stderr",
     "output_type": "stream",
     "text": [
      " 24%|██▍       | 48/200 [00:37<02:01,  1.26it/s]"
     ]
    },
    {
     "name": "stdout",
     "output_type": "stream",
     "text": [
      "user 1, g: -0.0017361111111111127,curr_delay = 0.06315913644281629, ucb: 4.169489692695431 num_of_obs: 11\n",
      "user 3, g: -0.0004340277777777782,curr_delay = 0.09194343316199854, ucb: 4.2298839880066 num_of_obs: 10\n",
      "user 6, g: 0.0,curr_delay = 0.12374384739725137, ucb: 4.220690944819008 num_of_obs: 9\n",
      "user 7, g: 0.0,curr_delay = 0.11622604385057822, ucb: 4.2174746908187295 num_of_obs: 9\n",
      "user 8, g: 0.0,curr_delay = 0.11193891386611263, ucb: 4.156965657538608 num_of_obs: 9\n",
      "iteration49\n"
     ]
    },
    {
     "name": "stderr",
     "output_type": "stream",
     "text": [
      " 24%|██▍       | 49/200 [00:37<01:58,  1.27it/s]"
     ]
    },
    {
     "name": "stdout",
     "output_type": "stream",
     "text": [
      "user 9, g: 1.1569253551760866e-05,curr_delay = 0.13542907991936626, ucb: 4.15702517409911 num_of_obs: 9\n",
      "user 15, g: 0.0005668934240362811,curr_delay = 0.7167627377052004, ucb: 4.154143932042191 num_of_obs: 8\n",
      "user 16, g: 0.0005668934240362811,curr_delay = 0.7156251497195394, ucb: 4.152450111317598 num_of_obs: 8\n",
      "user 17, g: 0.0005668934240362811,curr_delay = 0.7438706819378426, ucb: 4.1528822689883915 num_of_obs: 8\n",
      "user 18, g: 0.0005668934240362811,curr_delay = 0.7332286258960939, ucb: 4.150867580710183 num_of_obs: 8\n",
      "iteration50\n"
     ]
    },
    {
     "name": "stderr",
     "output_type": "stream",
     "text": [
      " 25%|██▌       | 50/200 [00:38<01:54,  1.30it/s]"
     ]
    },
    {
     "name": "stdout",
     "output_type": "stream",
     "text": [
      "user 19, g: 0.00071111111111111,curr_delay = 0.7797307625367303, ucb: 4.159805336622134 num_of_obs: 8\n",
      "user 20, g: 0.00071111111111111,curr_delay = 0.7809031595355689, ucb: 4.15932176418246 num_of_obs: 8\n",
      "user 21, g: 0.00071111111111111,curr_delay = 0.803080748888322, ucb: 4.157803984369987 num_of_obs: 8\n",
      "user 22, g: 0.00071111111111111,curr_delay = 0.8131971582089491, ucb: 4.15676795589817 num_of_obs: 8\n",
      "user 23, g: 0.00071111111111111,curr_delay = 0.8226907156710702, ucb: 4.15572376260983 num_of_obs: 8\n",
      "iteration51\n"
     ]
    },
    {
     "name": "stderr",
     "output_type": "stream",
     "text": [
      " 26%|██▌       | 51/200 [00:39<01:54,  1.30it/s]"
     ]
    },
    {
     "name": "stdout",
     "output_type": "stream",
     "text": [
      "user 24, g: 0.0008650519031141856,curr_delay = 0.8264187937850199, ucb: 4.165024961054322 num_of_obs: 8\n",
      "user 25, g: 0.0008650519031141856,curr_delay = 0.8362990049533224, ucb: 4.163425409964783 num_of_obs: 8\n",
      "user 26, g: 0.0008650519031141856,curr_delay = 0.8400235777213197, ucb: 4.163888355979314 num_of_obs: 8\n",
      "user 27, g: 0.0008650519031141856,curr_delay = 0.8691840896777254, ucb: 4.162162725341779 num_of_obs: 8\n",
      "user 28, g: 0.0008650519031141856,curr_delay = 0.85160823503193, ucb: 4.161337410250265 num_of_obs: 8\n",
      "iteration52\n"
     ]
    },
    {
     "name": "stderr",
     "output_type": "stream",
     "text": [
      " 26%|██▌       | 52/200 [00:40<01:52,  1.31it/s]"
     ]
    },
    {
     "name": "stdout",
     "output_type": "stream",
     "text": [
      "user 0, g: -0.002013477975016437,curr_delay = 0.07728268413149739, ucb: 4.138364985128722 num_of_obs: 12\n",
      "user 4, g: -4.109138724523346e-05,curr_delay = 0.11081311647537927, ucb: 4.157271324957684 num_of_obs: 10\n",
      "user 10, g: 0.00016436554898093314,curr_delay = 0.1656986718494124, ucb: 4.15747117256735 num_of_obs: 9\n",
      "user 11, g: 0.00016436554898093314,curr_delay = 0.17045925378368, ucb: 4.145861591596886 num_of_obs: 9\n",
      "user 29, g: 0.0010272846811308347,curr_delay = 0.8845419566395553, ucb: 4.170576746880646 num_of_obs: 8\n",
      "iteration53\n"
     ]
    },
    {
     "name": "stderr",
     "output_type": "stream",
     "text": [
      " 26%|██▋       | 53/200 [00:40<01:52,  1.31it/s]"
     ]
    },
    {
     "name": "stdout",
     "output_type": "stream",
     "text": [
      "user 2, g: -0.0004845536173410872,curr_delay = 0.11909516118119506, ucb: 4.0795122561082655 num_of_obs: 11\n",
      "user 5, g: -9.88884933349155e-06,curr_delay = 0.10991729345453319, ucb: 4.0884737664229185 num_of_obs: 10\n",
      "user 12, g: 0.0002472212333372888,curr_delay = 0.1757993808695419, ucb: 4.145243717975451 num_of_obs: 9\n",
      "user 13, g: 0.0002472212333372888,curr_delay = 0.19559762462193958, ucb: 4.120934170710529 num_of_obs: 9\n",
      "user 14, g: 0.0002472212333372888,curr_delay = 0.18336205092426777, ucb: 4.112501155727977 num_of_obs: 9\n",
      "iteration54\n"
     ]
    },
    {
     "name": "stderr",
     "output_type": "stream",
     "text": [
      " 27%|██▋       | 54/200 [00:41<01:50,  1.32it/s]"
     ]
    },
    {
     "name": "stdout",
     "output_type": "stream",
     "text": [
      "user 1, g: -0.0013717421124828531,curr_delay = 0.09439496039734607, ucb: 4.0626865711988716 num_of_obs: 12\n",
      "user 3, g: -0.0003429355281207133,curr_delay = 0.09578283875140085, ucb: 4.087612286657137 num_of_obs: 11\n",
      "user 6, g: 0.0,curr_delay = 0.1426903232613132, ucb: 4.056300978799936 num_of_obs: 10\n",
      "user 7, g: 0.0,curr_delay = 0.12171171579454704, ucb: 4.056346051486576 num_of_obs: 10\n",
      "user 8, g: 0.0,curr_delay = 0.15588487457119274, ucb: 4.004390912177455 num_of_obs: 10\n",
      "iteration55\n"
     ]
    },
    {
     "name": "stderr",
     "output_type": "stream",
     "text": [
      " 28%|██▊       | 55/200 [00:42<01:51,  1.31it/s]"
     ]
    },
    {
     "name": "stdout",
     "output_type": "stream",
     "text": [
      "user 0, g: -0.0026538108356290173,curr_delay = 0.09068528941026778, ucb: 4.003449228094274 num_of_obs: 13\n",
      "user 4, g: -0.00022956841138659364,curr_delay = 0.07816230387829151, ucb: 3.9876954772399973 num_of_obs: 11\n",
      "user 9, g: 9.182736455463678e-06,curr_delay = 0.13169445316656966, ucb: 3.9952050329531055 num_of_obs: 10\n",
      "user 10, g: 9.182736455463678e-06,curr_delay = 0.1542585951811071, ucb: 3.9622811323680187 num_of_obs: 10\n",
      "user 11, g: 9.182736455463678e-06,curr_delay = 0.16393922494755825, ucb: 3.951025133894872 num_of_obs: 10\n",
      "iteration56\n"
     ]
    },
    {
     "name": "stderr",
     "output_type": "stream",
     "text": [
      " 28%|██▊       | 56/200 [00:43<01:50,  1.30it/s]"
     ]
    },
    {
     "name": "stdout",
     "output_type": "stream",
     "text": [
      "user 15, g: 0.0005668934240362811,curr_delay = 0.7110605184914051, ucb: 3.955314373499742 num_of_obs: 9\n",
      "user 16, g: 0.0005668934240362811,curr_delay = 0.7502364460364979, ucb: 3.9538461416668884 num_of_obs: 9\n",
      "user 17, g: 0.0005668934240362811,curr_delay = 0.759455774577279, ucb: 3.953892655026222 num_of_obs: 9\n",
      "user 18, g: 0.0005668934240362811,curr_delay = 0.7734532185795715, ucb: 3.9522517491044136 num_of_obs: 9\n",
      "user 19, g: 0.0005668934240362811,curr_delay = 0.7793330438160906, ucb: 3.9503007436845126 num_of_obs: 9\n",
      "iteration57\n"
     ]
    },
    {
     "name": "stderr",
     "output_type": "stream",
     "text": [
      " 28%|██▊       | 57/200 [00:43<01:50,  1.30it/s]"
     ]
    },
    {
     "name": "stdout",
     "output_type": "stream",
     "text": [
      "user 12, g: 7.694675284702985e-05,curr_delay = 0.20298272513643847, ucb: 3.957500300991983 num_of_obs: 10\n",
      "user 20, g: 0.0006925207756232686,curr_delay = 0.761694199959364, ucb: 3.9583979599489094 num_of_obs: 9\n",
      "user 21, g: 0.0006925207756232686,curr_delay = 0.801608548712584, ucb: 3.9568488793634575 num_of_obs: 9\n",
      "user 22, g: 0.0006925207756232686,curr_delay = 0.7989149307859964, ucb: 3.9558455375127135 num_of_obs: 9\n",
      "user 23, g: 0.0006925207756232686,curr_delay = 0.8295595571359765, ucb: 3.9548431779979367 num_of_obs: 9\n",
      "iteration58\n"
     ]
    },
    {
     "name": "stderr",
     "output_type": "stream",
     "text": [
      " 29%|██▉       | 58/200 [00:44<01:48,  1.31it/s]"
     ]
    },
    {
     "name": "stdout",
     "output_type": "stream",
     "text": [
      "user 24, g: 0.0008257365570088515,curr_delay = 0.8709997445375943, ucb: 3.9622567031900147 num_of_obs: 9\n",
      "user 25, g: 0.0008257365570088515,curr_delay = 0.8481134122250569, ucb: 3.960767748060004 num_of_obs: 9\n",
      "user 26, g: 0.0008257365570088515,curr_delay = 0.8837252717268015, ucb: 3.961139689567621 num_of_obs: 9\n",
      "user 27, g: 0.0008257365570088515,curr_delay = 0.869896088096888, ucb: 3.959380147048164 num_of_obs: 9\n",
      "user 28, g: 0.0008257365570088515,curr_delay = 0.8830425639725674, ucb: 3.9588064000841956 num_of_obs: 9\n",
      "iteration59\n"
     ]
    },
    {
     "name": "stderr",
     "output_type": "stream",
     "text": [
      " 30%|██▉       | 59/200 [00:45<01:47,  1.32it/s]"
     ]
    },
    {
     "name": "stdout",
     "output_type": "stream",
     "text": [
      "user 2, g: -0.0003910115228701847,curr_delay = 0.08011506966011507, ucb: 3.944096981785814 num_of_obs: 12\n",
      "user 3, g: -0.0003910115228701847,curr_delay = 0.11241356087346391, ucb: 3.953372979956719 num_of_obs: 12\n",
      "user 5, g: -7.979826997350708e-06,curr_delay = 0.09766373813840355, ucb: 3.948521543413093 num_of_obs: 11\n",
      "user 13, g: 0.0001994956749337669,curr_delay = 0.18205531137943134, ucb: 3.94831655554557 num_of_obs: 10\n",
      "user 29, g: 0.0009655590666794338,curr_delay = 0.8991357465286014, ucb: 3.9659643487162644 num_of_obs: 9\n",
      "iteration60\n"
     ]
    },
    {
     "name": "stderr",
     "output_type": "stream",
     "text": [
      " 30%|███       | 60/200 [00:46<01:46,  1.32it/s]"
     ]
    },
    {
     "name": "stdout",
     "output_type": "stream",
     "text": [
      "user 0, g: -0.002500000000000002,curr_delay = 0.05979817053767409, ucb: 3.8900428755564866 num_of_obs: 14\n",
      "user 1, g: -0.0011111111111111124,curr_delay = 0.05358738833242552, ucb: 3.9441449879213035 num_of_obs: 13\n",
      "user 6, g: 0.0,curr_delay = 0.11020816505269224, ucb: 3.908620760008203 num_of_obs: 11\n",
      "user 7, g: 0.0,curr_delay = 0.1183930629089513, ucb: 3.914701086442048 num_of_obs: 11\n",
      "user 14, g: 0.00027777777777777767,curr_delay = 0.19978998437505724, ucb: 3.950306108766024 num_of_obs: 10\n",
      "iteration61\n"
     ]
    },
    {
     "name": "stderr",
     "output_type": "stream",
     "text": [
      " 30%|███       | 61/200 [00:46<01:45,  1.32it/s]"
     ]
    },
    {
     "name": "stdout",
     "output_type": "stream",
     "text": [
      "user 1, g: -0.0021574248260622887,curr_delay = 0.08854603125336703, ucb: 3.839311189288466 num_of_obs: 14\n",
      "user 4, g: -0.00018662844516109808,curr_delay = 0.12203495480478246, ucb: 3.8796170491815993 num_of_obs: 12\n",
      "user 8, g: 7.465137806443923e-06,curr_delay = 0.13651086463714124, ucb: 3.8660030629872124 num_of_obs: 11\n",
      "user 9, g: 7.465137806443923e-06,curr_delay = 0.1795818277808977, ucb: 3.856088071629196 num_of_obs: 11\n",
      "user 10, g: 7.465137806443923e-06,curr_delay = 0.150736516427647, ucb: 3.820902994642437 num_of_obs: 11\n",
      "iteration62\n"
     ]
    },
    {
     "name": "stderr",
     "output_type": "stream",
     "text": [
      " 31%|███       | 62/200 [00:47<01:44,  1.32it/s]"
     ]
    },
    {
     "name": "stdout",
     "output_type": "stream",
     "text": [
      "user 2, g: -0.0007226268932824606,curr_delay = 0.07267306185610867, ucb: 3.822715561230208 num_of_obs: 13\n",
      "user 3, g: -0.0007226268932824606,curr_delay = 0.07265382324055113, ucb: 3.8162755500071093 num_of_obs: 13\n",
      "user 5, g: -0.00011562030292519405,curr_delay = 0.10346534124829077, ucb: 3.8115172889863 num_of_obs: 12\n",
      "user 11, g: 2.8905075731298364e-05,curr_delay = 0.2170510652425427, ucb: 3.8157971558798405 num_of_obs: 11\n",
      "user 12, g: 2.8905075731298364e-05,curr_delay = 0.17466638940750912, ucb: 3.8011315890790964 num_of_obs: 11\n",
      "iteration63\n"
     ]
    },
    {
     "name": "stderr",
     "output_type": "stream",
     "text": [
      " 32%|███▏      | 63/200 [00:48<01:42,  1.33it/s]"
     ]
    },
    {
     "name": "stdout",
     "output_type": "stream",
     "text": [
      "user 0, g: -0.0030864197530864196,curr_delay = 0.05, ucb: 3.79724988399829 num_of_obs: 15\n",
      "user 13, g: 6.298815822625346e-05,curr_delay = 0.20328412587472006, ucb: 3.788450871863608 num_of_obs: 11\n",
      "user 15, g: 0.0005668934240362811,curr_delay = 0.7100588751247893, ucb: 3.7863450501469735 num_of_obs: 10\n",
      "user 16, g: 0.0005668934240362811,curr_delay = 0.70672752582816, ucb: 3.784631972191668 num_of_obs: 10\n",
      "user 17, g: 0.0005668934240362811,curr_delay = 0.7322470213134856, ucb: 3.784583424344992 num_of_obs: 10\n",
      "iteration64\n"
     ]
    },
    {
     "name": "stderr",
     "output_type": "stream",
     "text": [
      " 32%|███▏      | 64/200 [00:49<01:48,  1.25it/s]"
     ]
    },
    {
     "name": "stdout",
     "output_type": "stream",
     "text": [
      "user 14, g: 0.00010850694444444425,curr_delay = 0.2084779194285041, ucb: 3.787666386353221 num_of_obs: 11\n",
      "user 18, g: 0.0006781684027777773,curr_delay = 0.7768002395965439, ucb: 3.7900486090419894 num_of_obs: 10\n",
      "user 19, g: 0.0006781684027777773,curr_delay = 0.7712867043162283, ucb: 3.7882601900530233 num_of_obs: 10\n",
      "user 20, g: 0.0006781684027777773,curr_delay = 0.7841363171316184, ucb: 3.788038460972326 num_of_obs: 10\n",
      "user 21, g: 0.0006781684027777773,curr_delay = 0.8207555443650694, ucb: 3.78629832745162 num_of_obs: 10\n",
      "iteration65\n"
     ]
    },
    {
     "name": "stderr",
     "output_type": "stream",
     "text": [
      " 32%|███▎      | 65/200 [00:50<01:45,  1.28it/s]"
     ]
    },
    {
     "name": "stdout",
     "output_type": "stream",
     "text": [
      "user 22, g: 0.0007955292570677177,curr_delay = 0.7836614834315067, ucb: 3.7923635471098054 num_of_obs: 10\n",
      "user 23, g: 0.0007955292570677177,curr_delay = 0.8132134894382763, ucb: 3.791215678849224 num_of_obs: 10\n",
      "user 24, g: 0.0007955292570677177,curr_delay = 0.8396506473861334, ucb: 3.790050578681744 num_of_obs: 10\n",
      "user 25, g: 0.0007955292570677177,curr_delay = 0.8350631666722814, ucb: 3.7888991831684544 num_of_obs: 10\n",
      "user 26, g: 0.0007955292570677177,curr_delay = 0.8274519470872376, ucb: 3.7889658300495284 num_of_obs: 10\n",
      "iteration66\n"
     ]
    },
    {
     "name": "stderr",
     "output_type": "stream",
     "text": [
      " 33%|███▎      | 66/200 [00:50<01:45,  1.27it/s]"
     ]
    },
    {
     "name": "stdout",
     "output_type": "stream",
     "text": [
      "user 6, g: 0.0,curr_delay = 0.10633315648109994, ucb: 3.788716136095402 num_of_obs: 12\n",
      "user 7, g: 0.0,curr_delay = 0.10256182357429433, ucb: 3.791392355411949 num_of_obs: 12\n",
      "user 27, g: 0.0009182736455463729,curr_delay = 0.886701496554148, ucb: 3.7943170104694057 num_of_obs: 10\n",
      "user 28, g: 0.0009182736455463729,curr_delay = 0.9269208273577877, ucb: 3.793711933462542 num_of_obs: 10\n",
      "user 29, g: 0.0009182736455463729,curr_delay = 0.8859338688112488, ucb: 3.79266830119228 num_of_obs: 10\n",
      "iteration67\n"
     ]
    },
    {
     "name": "stderr",
     "output_type": "stream",
     "text": [
      " 34%|███▎      | 67/200 [00:51<01:47,  1.24it/s]"
     ]
    },
    {
     "name": "stdout",
     "output_type": "stream",
     "text": [
      "user 0, g: -0.0032734338258954008,curr_delay = 0.05422428746519578, ucb: 3.729680252310672 num_of_obs: 16\n",
      "user 1, g: -0.0017883220712358607,curr_delay = 0.07951335181072151, ucb: 3.7470493185259115 num_of_obs: 15\n",
      "user 2, g: -0.0007487438429741846,curr_delay = 0.08145005074353061, ucb: 3.731519185944607 num_of_obs: 14\n",
      "user 4, g: -0.00015469914111036854,curr_delay = 0.08571739249378424, ucb: 3.7633144581842024 num_of_obs: 13\n",
      "user 8, g: 6.1879656444146855e-06,curr_delay = 0.16672994410987943, ucb: 3.7416620264561735 num_of_obs: 12\n",
      "iteration68\n"
     ]
    },
    {
     "name": "stderr",
     "output_type": "stream",
     "text": [
      " 34%|███▍      | 68/200 [00:52<01:45,  1.25it/s]"
     ]
    },
    {
     "name": "stdout",
     "output_type": "stream",
     "text": [
      "user 3, g: -0.0006007304882737407,curr_delay = 0.06619455121756584, ucb: 3.731071520159226 num_of_obs: 14\n",
      "user 5, g: -9.611687812379895e-05,curr_delay = 0.11143839216068219, ucb: 3.7066600700921164 num_of_obs: 13\n",
      "user 9, g: 2.4029219530949463e-05,curr_delay = 0.1472444665580574, ucb: 3.7306229333815564 num_of_obs: 12\n",
      "user 10, g: 2.4029219530949463e-05,curr_delay = 0.14487753970437328, ucb: 3.703480137876059 num_of_obs: 12\n",
      "user 11, g: 2.4029219530949463e-05,curr_delay = 0.19536090281509247, ucb: 3.6833175877600817 num_of_obs: 12\n",
      "iteration69\n"
     ]
    },
    {
     "name": "stderr",
     "output_type": "stream",
     "text": [
      " 34%|███▍      | 69/200 [00:53<01:43,  1.27it/s]"
     ]
    },
    {
     "name": "stdout",
     "output_type": "stream",
     "text": [
      "user 0, g: -0.004253308128544425,curr_delay = 0.0731658667174166, ucb: 3.653169793839329 num_of_obs: 17\n",
      "user 6, g: -5.250997689561023e-05,curr_delay = 0.1106813386872336, ucb: 3.667080241602073 num_of_obs: 13\n",
      "user 7, g: -5.250997689561023e-05,curr_delay = 0.14702854592031803, ucb: 3.670974327205844 num_of_obs: 13\n",
      "user 12, g: 5.250997689561023e-05,curr_delay = 0.16552985347203764, ucb: 3.680930367363942 num_of_obs: 12\n",
      "user 13, g: 5.250997689561023e-05,curr_delay = 0.1966994810351724, ucb: 3.6595441795614163 num_of_obs: 12\n",
      "iteration70\n"
     ]
    },
    {
     "name": "stderr",
     "output_type": "stream",
     "text": [
      " 35%|███▌      | 70/200 [00:54<01:43,  1.25it/s]"
     ]
    },
    {
     "name": "stdout",
     "output_type": "stream",
     "text": [
      "user 4, g: -0.00036281179138322056,curr_delay = 0.08563126283738046, ucb: 3.657086381398284 num_of_obs: 14\n",
      "user 14, g: 9.070294784580487e-05,curr_delay = 0.18590863267427063, ucb: 3.657957545001805 num_of_obs: 12\n",
      "user 15, g: 0.0005668934240362811,curr_delay = 0.7236439184704951, ucb: 3.640217116033502 num_of_obs: 11\n",
      "user 16, g: 0.0005668934240362811,curr_delay = 0.7280807416162585, ucb: 3.638708538667604 num_of_obs: 11\n",
      "user 17, g: 0.0005668934240362811,curr_delay = 0.736641090584592, ucb: 3.638418280015244 num_of_obs: 11\n",
      "iteration71\n"
     ]
    },
    {
     "name": "stderr",
     "output_type": "stream",
     "text": [
      " 36%|███▌      | 71/200 [00:54<01:44,  1.23it/s]"
     ]
    },
    {
     "name": "stdout",
     "output_type": "stream",
     "text": [
      "user 1, g: -0.0019892437567502045,curr_delay = 0.08967575075616362, ucb: 3.6574258116413834 num_of_obs: 16\n",
      "user 3, g: -0.0009312526174259955,curr_delay = 0.0760168956494097, ucb: 3.643244529824072 num_of_obs: 15\n",
      "user 18, g: 0.0006667548325949428,curr_delay = 0.7528862729138532, ucb: 3.642549600418182 num_of_obs: 11\n",
      "user 19, g: 0.0006667548325949428,curr_delay = 0.7590637230812133, ucb: 3.6409860357365753 num_of_obs: 11\n",
      "user 20, g: 0.0006667548325949428,curr_delay = 0.780139297018579, ucb: 3.640680248230594 num_of_obs: 11\n",
      "iteration72\n"
     ]
    },
    {
     "name": "stderr",
     "output_type": "stream",
     "text": [
      " 36%|███▌      | 72/200 [00:55<01:43,  1.23it/s]"
     ]
    },
    {
     "name": "stdout",
     "output_type": "stream",
     "text": [
      "user 2, g: -0.0007716049382716057,curr_delay = 0.07251480771632243, ucb: 3.6436002614654788 num_of_obs: 15\n",
      "user 21, g: 0.000771604938271604,curr_delay = 0.7894031628038898, ucb: 3.6446914810087216 num_of_obs: 11\n",
      "user 22, g: 0.000771604938271604,curr_delay = 0.821318810941151, ucb: 3.644198195750035 num_of_obs: 11\n",
      "user 23, g: 0.000771604938271604,curr_delay = 0.8095547168122119, ucb: 3.642933255349514 num_of_obs: 11\n",
      "user 24, g: 0.000771604938271604,curr_delay = 0.8660804319584771, ucb: 3.6416910758009835 num_of_obs: 11\n",
      "iteration73\n"
     ]
    },
    {
     "name": "stderr",
     "output_type": "stream",
     "text": [
      " 36%|███▋      | 73/200 [00:56<01:42,  1.24it/s]"
     ]
    },
    {
     "name": "stdout",
     "output_type": "stream",
     "text": [
      "user 25, g: 0.0008809240841517065,curr_delay = 0.8405943627646953, ucb: 3.6464591446939787 num_of_obs: 11\n",
      "user 26, g: 0.0008809240841517065,curr_delay = 0.8604999465538627, ucb: 3.646574202855795 num_of_obs: 11\n",
      "user 27, g: 0.0008809240841517065,curr_delay = 0.8645270650416389, ucb: 3.644852744118738 num_of_obs: 11\n",
      "user 28, g: 0.0008809240841517065,curr_delay = 0.8777947100483253, ucb: 3.6440635025362202 num_of_obs: 11\n",
      "user 29, g: 0.0008809240841517065,curr_delay = 0.9073417148133809, ucb: 3.643373791639469 num_of_obs: 11\n",
      "iteration74\n"
     ]
    },
    {
     "name": "stderr",
     "output_type": "stream",
     "text": [
      " 37%|███▋      | 74/200 [00:57<01:45,  1.20it/s]"
     ]
    },
    {
     "name": "stdout",
     "output_type": "stream",
     "text": [
      "user 0, g: -0.003976949922895871,curr_delay = 0.05, ucb: 3.5825809870694045 num_of_obs: 18\n",
      "user 5, g: -8.116224332440582e-05,curr_delay = 0.1201237317449535, ucb: 3.6095768809457978 num_of_obs: 14\n",
      "user 8, g: 2.029056083110121e-05,curr_delay = 0.1438054496697834, ucb: 3.630964989158099 num_of_obs: 13\n",
      "user 9, g: 2.029056083110121e-05,curr_delay = 0.15117786448113318, ucb: 3.61868904514675 num_of_obs: 13\n",
      "user 10, g: 2.029056083110121e-05,curr_delay = 0.16552607732480712, ucb: 3.5942704595460793 num_of_obs: 13\n",
      "iteration75\n"
     ]
    },
    {
     "name": "stderr",
     "output_type": "stream",
     "text": [
      " 38%|███▊      | 75/200 [00:58<01:40,  1.24it/s]"
     ]
    },
    {
     "name": "stdout",
     "output_type": "stream",
     "text": [
      "user 1, g: -0.0021777777777777798,curr_delay = 0.09387357705696736, ucb: 3.571573814326694 num_of_obs: 17\n",
      "user 4, g: -0.0004000000000000007,curr_delay = 0.09659031127047789, ucb: 3.571729480305555 num_of_obs: 15\n",
      "user 6, g: -4.444444444444465e-05,curr_delay = 0.08853584944829959, ucb: 3.5730063930730993 num_of_obs: 14\n",
      "user 11, g: 4.444444444444428e-05,curr_delay = 0.1896126353106637, ucb: 3.5734673276449196 num_of_obs: 13\n",
      "user 12, g: 4.444444444444428e-05,curr_delay = 0.1783151915577332, ucb: 3.569747955550548 num_of_obs: 13\n",
      "iteration76\n"
     ]
    },
    {
     "name": "stderr",
     "output_type": "stream",
     "text": [
      " 38%|███▊      | 76/200 [00:58<01:38,  1.26it/s]"
     ]
    },
    {
     "name": "stdout",
     "output_type": "stream",
     "text": [
      "user 2, g: -0.0009425977223761165,curr_delay = 0.0719260263590682, ucb: 3.564258378273924 num_of_obs: 16\n",
      "user 3, g: -0.0009425977223761165,curr_delay = 0.08831515647490622, ucb: 3.5664325275855395 num_of_obs: 16\n",
      "user 7, g: -1.9236688211757585e-05,curr_delay = 0.13627076827978762, ucb: 3.572848417436114 num_of_obs: 14\n",
      "user 13, g: 7.694675284702985e-05,curr_delay = 0.2157800978398597, ucb: 3.551190762144833 num_of_obs: 13\n",
      "user 14, g: 7.694675284702985e-05,curr_delay = 0.2106597789726826, ucb: 3.5456775481707297 num_of_obs: 13\n",
      "iteration77\n"
     ]
    },
    {
     "name": "stderr",
     "output_type": "stream",
     "text": [
      " 38%|███▊      | 77/200 [00:59<01:38,  1.25it/s]"
     ]
    },
    {
     "name": "stdout",
     "output_type": "stream",
     "text": [
      "user 0, g: -0.004502351904949308,curr_delay = 0.07937283490053226, ucb: 3.5269016861667235 num_of_obs: 19\n",
      "user 8, g: -4.685069620134598e-06,curr_delay = 0.13740850946774913, ucb: 3.516561580370493 num_of_obs: 14\n",
      "user 15, g: 0.0005668934240362811,curr_delay = 0.7243528504247791, ucb: 3.5119501603948775 num_of_obs: 12\n",
      "user 16, g: 0.0005668934240362811,curr_delay = 0.740234865296405, ucb: 3.510540448801474 num_of_obs: 12\n",
      "user 17, g: 0.0005668934240362811,curr_delay = 0.7574131587641186, ucb: 3.5102040279863393 num_of_obs: 12\n",
      "iteration78\n"
     ]
    },
    {
     "name": "stderr",
     "output_type": "stream",
     "text": [
      " 39%|███▉      | 78/200 [01:00<01:36,  1.26it/s]"
     ]
    },
    {
     "name": "stdout",
     "output_type": "stream",
     "text": [
      "user 5, g: -0.00016436554898093385,curr_delay = 0.14927640239870663, ucb: 3.51046875625681 num_of_obs: 15\n",
      "user 18, g: 0.000657462195923734,curr_delay = 0.7708283698689319, ucb: 3.513521509166535 num_of_obs: 12\n",
      "user 19, g: 0.000657462195923734,curr_delay = 0.7825934065072696, ucb: 3.5120509530869835 num_of_obs: 12\n",
      "user 20, g: 0.000657462195923734,curr_delay = 0.7790826203077008, ucb: 3.5116111913337167 num_of_obs: 12\n",
      "user 21, g: 0.000657462195923734,curr_delay = 0.7989259094683155, ucb: 3.5098604392235284 num_of_obs: 12\n",
      "iteration79\n"
     ]
    },
    {
     "name": "stderr",
     "output_type": "stream",
     "text": [
      " 40%|███▉      | 79/200 [01:01<01:36,  1.26it/s]"
     ]
    },
    {
     "name": "stdout",
     "output_type": "stream",
     "text": [
      "user 22, g: 0.0007521942708611511,curr_delay = 0.8208142941130598, ucb: 3.514224109737011 num_of_obs: 12\n",
      "user 23, g: 0.0007521942708611511,curr_delay = 0.7991578607152454, ucb: 3.513154586467123 num_of_obs: 12\n",
      "user 24, g: 0.0007521942708611511,curr_delay = 0.8503277664064919, ucb: 3.5116588787671836 num_of_obs: 12\n",
      "user 25, g: 0.0007521942708611511,curr_delay = 0.8383329553011799, ucb: 3.5109056913125403 num_of_obs: 12\n",
      "user 26, g: 0.0007521942708611511,curr_delay = 0.878133611785246, ucb: 3.510885201852126 num_of_obs: 12\n",
      "iteration80\n"
     ]
    },
    {
     "name": "stderr",
     "output_type": "stream",
     "text": [
      " 40%|████      | 80/200 [01:02<01:34,  1.27it/s]"
     ]
    },
    {
     "name": "stdout",
     "output_type": "stream",
     "text": [
      "user 1, g: -0.002100694444444445,curr_delay = 0.08321282846000695, ucb: 3.495781248082006 num_of_obs: 18\n",
      "user 9, g: 1.736111111111099e-05,curr_delay = 0.15690861148094218, ucb: 3.5178244129469753 num_of_obs: 14\n",
      "user 27, g: 0.0008506944444444433,curr_delay = 0.8567472558147792, ucb: 3.5142609548761197 num_of_obs: 12\n",
      "user 28, g: 0.0008506944444444433,curr_delay = 0.8709089048284688, ucb: 3.513463993187886 num_of_obs: 12\n",
      "user 29, g: 0.0008506944444444433,curr_delay = 0.9008249966917135, ucb: 3.512668356347551 num_of_obs: 12\n",
      "iteration81\n"
     ]
    },
    {
     "name": "stderr",
     "output_type": "stream",
     "text": [
      " 40%|████      | 81/200 [01:02<01:34,  1.25it/s]"
     ]
    },
    {
     "name": "stdout",
     "output_type": "stream",
     "text": [
      "user 2, g: -0.0009525986892242036,curr_delay = 0.09638132531701624, ucb: 3.4963114546423117 num_of_obs: 17\n",
      "user 3, g: -0.0009525986892242036,curr_delay = 0.12179586252468552, ucb: 3.4902869432529235 num_of_obs: 17\n",
      "user 4, g: -0.0003429355281207133,curr_delay = 0.0938227476506564, ucb: 3.493839222506424 num_of_obs: 16\n",
      "user 6, g: -3.810394756896814e-05,curr_delay = 0.13088224577923116, ucb: 3.495763691014429 num_of_obs: 15\n",
      "user 10, g: 3.810394756896814e-05,curr_delay = 0.18725062222085442, ucb: 3.4975831315839385 num_of_obs: 14\n",
      "iteration82\n"
     ]
    },
    {
     "name": "stderr",
     "output_type": "stream",
     "text": [
      " 41%|████      | 82/200 [01:03<01:34,  1.25it/s]"
     ]
    },
    {
     "name": "stdout",
     "output_type": "stream",
     "text": [
      "user 0, g: -0.00423028620530108,curr_delay = 0.06518450562363551, ucb: 3.463177212819507 num_of_obs: 20\n",
      "user 7, g: -1.6524555489457512e-05,curr_delay = 0.13911450960988683, ucb: 3.4812752070070627 num_of_obs: 15\n",
      "user 11, g: 6.609822195782915e-05,curr_delay = 0.14436962732401132, ucb: 3.475153400381133 num_of_obs: 14\n",
      "user 12, g: 6.609822195782915e-05,curr_delay = 0.18630495551516335, ucb: 3.4730052761401944 num_of_obs: 14\n",
      "user 13, g: 6.609822195782915e-05,curr_delay = 0.1750244899311774, ucb: 3.4474823161600003 num_of_obs: 14\n",
      "iteration83\n"
     ]
    },
    {
     "name": "stderr",
     "output_type": "stream",
     "text": [
      " 42%|████▏     | 83/200 [01:04<01:31,  1.28it/s]"
     ]
    },
    {
     "name": "stdout",
     "output_type": "stream",
     "text": [
      "user 1, g: -0.0025201206432154334,curr_delay = 0.08596132227326704, ucb: 3.4224223815870487 num_of_obs: 19\n",
      "user 5, g: -0.0001975774584280901,curr_delay = 0.14004348964001298, ucb: 3.419833321412966 num_of_obs: 16\n",
      "user 8, g: -4.03219302914468e-06,curr_delay = 0.14517523614222397, ucb: 3.4285882365188445 num_of_obs: 15\n",
      "user 9, g: -4.03219302914468e-06,curr_delay = 0.18585748438824007, ucb: 3.4136247575744143 num_of_obs: 15\n",
      "user 14, g: 0.000100804825728617,curr_delay = 0.19632681954345868, ucb: 3.4472092643015935 num_of_obs: 14\n",
      "iteration84\n"
     ]
    },
    {
     "name": "stderr",
     "output_type": "stream",
     "text": [
      " 42%|████▏     | 84/200 [01:05<01:29,  1.29it/s]"
     ]
    },
    {
     "name": "stdout",
     "output_type": "stream",
     "text": [
      "user 0, g: -0.00510204081632653,curr_delay = 0.05, ucb: 3.4004904052574743 num_of_obs: 21\n",
      "user 2, g: -0.0012755102040816334,curr_delay = 0.06104007377763544, ucb: 3.4158075569848796 num_of_obs: 18\n",
      "user 3, g: -0.0012755102040816334,curr_delay = 0.10053169802684375, ucb: 3.403769798042255 num_of_obs: 18\n",
      "user 4, g: -0.0005668934240362811,curr_delay = 0.10005479803231312, ucb: 3.4117843603000315 num_of_obs: 17\n",
      "user 6, g: -0.0001417233560090706,curr_delay = 0.1249866155345489, ucb: 3.400947516794654 num_of_obs: 16\n",
      "iteration85\n"
     ]
    },
    {
     "name": "stderr",
     "output_type": "stream",
     "text": [
      " 42%|████▎     | 85/200 [01:06<01:29,  1.28it/s]"
     ]
    },
    {
     "name": "stdout",
     "output_type": "stream",
     "text": [
      "user 15, g: 0.0006497500961168777,curr_delay = 0.6820234651622213, ucb: 3.4026168794505063 num_of_obs: 13\n",
      "user 16, g: 0.0006497500961168777,curr_delay = 0.7020964094391652, ucb: 3.401201226919534 num_of_obs: 13\n",
      "user 17, g: 0.0006497500961168777,curr_delay = 0.7695428457127642, ucb: 3.400765177776193 num_of_obs: 13\n",
      "user 18, g: 0.0006497500961168777,curr_delay = 0.7325614958780252, ucb: 3.399027800799875 num_of_obs: 13\n",
      "user 19, g: 0.0006497500961168777,curr_delay = 0.7505058007335175, ucb: 3.3975985289366775 num_of_obs: 13\n",
      "iteration86\n"
     ]
    },
    {
     "name": "stderr",
     "output_type": "stream",
     "text": [
      " 43%|████▎     | 86/200 [01:06<01:27,  1.30it/s]"
     ]
    },
    {
     "name": "stdout",
     "output_type": "stream",
     "text": [
      "user 10, g: 1.5023135628868296e-05,curr_delay = 0.14973232933428673, ucb: 3.399296765769092 num_of_obs: 15\n",
      "user 20, g: 0.000736133645814554,curr_delay = 0.7835426195968539, ucb: 3.4016034228461756 num_of_obs: 13\n",
      "user 21, g: 0.000736133645814554,curr_delay = 0.787652951503387, ucb: 3.3998657317827075 num_of_obs: 13\n",
      "user 22, g: 0.000736133645814554,curr_delay = 0.8263726983144296, ucb: 3.399110477478293 num_of_obs: 13\n",
      "user 23, g: 0.000736133645814554,curr_delay = 0.8157289671115034, ucb: 3.3982676430603127 num_of_obs: 13\n",
      "iteration87\n"
     ]
    },
    {
     "name": "stderr",
     "output_type": "stream",
     "text": [
      " 44%|████▎     | 87/200 [01:07<01:28,  1.28it/s]"
     ]
    },
    {
     "name": "stdout",
     "output_type": "stream",
     "text": [
      "user 24, g: 0.0008257365570088515,curr_delay = 0.8032195015605469, ucb: 3.400910507577971 num_of_obs: 13\n",
      "user 25, g: 0.0008257365570088515,curr_delay = 0.827694567521886, ucb: 3.4002901956323113 num_of_obs: 13\n",
      "user 26, g: 0.0008257365570088515,curr_delay = 0.8474537756352569, ucb: 3.4000461444074612 num_of_obs: 13\n",
      "user 27, g: 0.0008257365570088515,curr_delay = 0.8625463827054446, ucb: 3.398707483665411 num_of_obs: 13\n",
      "user 28, g: 0.0008257365570088515,curr_delay = 0.9107542367765921, ucb: 3.39789785354453 num_of_obs: 13\n",
      "iteration88\n"
     ]
    },
    {
     "name": "stderr",
     "output_type": "stream",
     "text": [
      " 44%|████▍     | 88/200 [01:08<01:27,  1.28it/s]"
     ]
    },
    {
     "name": "stdout",
     "output_type": "stream",
     "text": [
      "user 2, g: -0.0014348025711662092,curr_delay = 0.08352665316343266, ucb: 3.3623404669984414 num_of_obs: 19\n",
      "user 7, g: -1.434802571166205e-05,curr_delay = 0.13148728798747766, ucb: 3.3975085515321615 num_of_obs: 16\n",
      "user 11, g: 5.73921028466482e-05,curr_delay = 0.16243590763808718, ucb: 3.3879712721444033 num_of_obs: 15\n",
      "user 12, g: 5.73921028466482e-05,curr_delay = 0.20683606113403108, ucb: 3.3804082962834414 num_of_obs: 15\n",
      "user 29, g: 0.0009182736455463729,curr_delay = 0.8802083277920664, ucb: 3.401282353435098 num_of_obs: 13\n",
      "iteration89\n"
     ]
    },
    {
     "name": "stderr",
     "output_type": "stream",
     "text": [
      " 44%|████▍     | 89/200 [01:09<01:27,  1.28it/s]"
     ]
    },
    {
     "name": "stdout",
     "output_type": "stream",
     "text": [
      "user 0, g: -0.00480088092132026,curr_delay = 0.08337279513233656, ucb: 3.3631765624919394 num_of_obs: 22\n",
      "user 1, g: -0.0021917827434807615,curr_delay = 0.05, ucb: 3.364138023017517 num_of_obs: 20\n",
      "user 8, g: -3.506852389569235e-06,curr_delay = 0.1398183898049764, ucb: 3.3471655488397976 num_of_obs: 16\n",
      "user 13, g: 8.767130973923037e-05,curr_delay = 0.18660684670355684, ucb: 3.3618500222036127 num_of_obs: 15\n",
      "user 14, g: 8.767130973923037e-05,curr_delay = 0.2057973147457049, ucb: 3.35531264018225 num_of_obs: 15\n",
      "iteration90\n"
     ]
    },
    {
     "name": "stderr",
     "output_type": "stream",
     "text": [
      " 45%|████▌     | 90/200 [01:09<01:26,  1.27it/s]"
     ]
    },
    {
     "name": "stdout",
     "output_type": "stream",
     "text": [
      "user 3, g: -0.0011111111111111124,curr_delay = 0.057504587555320015, ucb: 3.3399418691662506 num_of_obs: 19\n",
      "user 4, g: -0.0004938271604938274,curr_delay = 0.07876145546065698, ucb: 3.345662660450649 num_of_obs: 18\n",
      "user 5, g: -0.00012345679012345715,curr_delay = 0.12020112670920187, ucb: 3.346062024021789 num_of_obs: 17\n",
      "user 6, g: -0.00012345679012345715,curr_delay = 0.11958537245702729, ucb: 3.3272705456209932 num_of_obs: 17\n",
      "user 9, g: 0.0,curr_delay = 0.1613783098361106, ucb: 3.331900594181771 num_of_obs: 16\n",
      "iteration91\n"
     ]
    },
    {
     "name": "stderr",
     "output_type": "stream",
     "text": [
      " 46%|████▌     | 91/200 [01:10<01:24,  1.29it/s]"
     ]
    },
    {
     "name": "stdout",
     "output_type": "stream",
     "text": [
      "user 1, g: -0.0028210495243462283,curr_delay = 0.08077791504974538, ucb: 3.3180482183475846 num_of_obs: 21\n",
      "user 2, g: -0.0017744770492023254,curr_delay = 0.09682772860351807, ucb: 3.2977315628735324 num_of_obs: 20\n",
      "user 7, g: -8.38599739698645e-05,curr_delay = 0.11604104394988307, ucb: 3.3117622964661733 num_of_obs: 17\n",
      "user 10, g: 3.354398958794539e-06,curr_delay = 0.17743762168263827, ucb: 3.3150202791255827 num_of_obs: 16\n",
      "user 15, g: 0.0005668934240362811,curr_delay = 0.7093215819349942, ucb: 3.2966170690627914 num_of_obs: 14\n",
      "iteration92\n"
     ]
    },
    {
     "name": "stderr",
     "output_type": "stream",
     "text": [
      " 46%|████▌     | 92/200 [01:11<01:24,  1.28it/s]"
     ]
    },
    {
     "name": "stdout",
     "output_type": "stream",
     "text": [
      "user 0, g: -0.005250997689561019,curr_delay = 0.05819087748364448, ucb: 3.303566356921937 num_of_obs: 23\n",
      "user 11, g: 1.3127494223902458e-05,curr_delay = 0.1585006417199766, ucb: 3.2989136256852176 num_of_obs: 16\n",
      "user 16, g: 0.0006432472169712246,curr_delay = 0.7074738381048613, ucb: 3.2990552416308287 num_of_obs: 14\n",
      "user 17, g: 0.0006432472169712246,curr_delay = 0.7510457569227186, ucb: 3.298172607758946 num_of_obs: 14\n",
      "user 18, g: 0.0006432472169712246,curr_delay = 0.7715457235431231, ucb: 3.2968211840351525 num_of_obs: 14\n",
      "iteration93\n"
     ]
    },
    {
     "name": "stderr",
     "output_type": "stream",
     "text": [
      " 46%|████▋     | 93/200 [01:12<01:24,  1.27it/s]"
     ]
    },
    {
     "name": "stdout",
     "output_type": "stream",
     "text": [
      "user 19, g: 0.0007226268932824606,curr_delay = 0.7697428670237986, ucb: 3.299235610062451 num_of_obs: 14\n",
      "user 20, g: 0.0007226268932824606,curr_delay = 0.794414681643652, ucb: 3.29866957395295 num_of_obs: 14\n",
      "user 21, g: 0.0007226268932824606,curr_delay = 0.803901335939641, ucb: 3.2970399357453886 num_of_obs: 14\n",
      "user 22, g: 0.0007226268932824606,curr_delay = 0.8123119284772143, ucb: 3.296113981995444 num_of_obs: 14\n",
      "user 23, g: 0.0007226268932824606,curr_delay = 0.8119835536847528, ucb: 3.2953967103543484 num_of_obs: 14\n",
      "iteration94\n"
     ]
    },
    {
     "name": "stderr",
     "output_type": "stream",
     "text": [
      " 47%|████▋     | 94/200 [01:13<01:23,  1.27it/s]"
     ]
    },
    {
     "name": "stdout",
     "output_type": "stream",
     "text": [
      "user 12, g: 5.029928072028545e-05,curr_delay = 0.17414583368601955, ucb: 3.2945927164097606 num_of_obs: 16\n",
      "user 24, g: 0.0008047884915245704,curr_delay = 0.8545770505741035, ucb: 3.2977284109182454 num_of_obs: 14\n",
      "user 25, g: 0.0008047884915245704,curr_delay = 0.8364743456526088, ucb: 3.2970142208446735 num_of_obs: 14\n",
      "user 26, g: 0.0008047884915245704,curr_delay = 0.8926802017311889, ucb: 3.2966805974941247 num_of_obs: 14\n",
      "user 27, g: 0.0008047884915245704,curr_delay = 0.8554509082542594, ucb: 3.2953654975021376 num_of_obs: 14\n",
      "iteration95\n"
     ]
    },
    {
     "name": "stderr",
     "output_type": "stream",
     "text": [
      " 48%|████▊     | 95/200 [01:13<01:24,  1.25it/s]"
     ]
    },
    {
     "name": "stdout",
     "output_type": "stream",
     "text": [
      "user 3, g: -0.0011111111111111124,curr_delay = 0.0735692888820806, ucb: 3.2969774198470736 num_of_obs: 20\n",
      "user 4, g: -0.0005201600492459225,curr_delay = 0.11521956803297657, ucb: 3.2886220227341334 num_of_obs: 19\n",
      "user 13, g: 7.694675284702985e-05,curr_delay = 0.18184559990510715, ucb: 3.278881484400909 num_of_obs: 16\n",
      "user 28, g: 0.000889504462911664,curr_delay = 0.8832633232767252, ucb: 3.2981508331940974 num_of_obs: 14\n",
      "user 29, g: 0.000889504462911664,curr_delay = 0.903304034223302, ucb: 3.2974774922019106 num_of_obs: 14\n",
      "iteration96\n"
     ]
    },
    {
     "name": "stderr",
     "output_type": "stream",
     "text": [
      " 48%|████▊     | 96/200 [01:14<01:22,  1.27it/s]"
     ]
    },
    {
     "name": "stdout",
     "output_type": "stream",
     "text": [
      "user 0, g: -0.005316840277777781,curr_delay = 0.06915663002573937, ucb: 3.2620754431166032 num_of_obs: 24\n",
      "user 1, g: -0.002712673611111112,curr_delay = 0.05, ucb: 3.2657055903824745 num_of_obs: 22\n",
      "user 5, g: -0.00010850694444444483,curr_delay = 0.1273395985570218, ucb: 3.2779768502819002 num_of_obs: 18\n",
      "user 8, g: 0.0,curr_delay = 0.1497579582221733, ucb: 3.276803583833368 num_of_obs: 17\n",
      "user 14, g: 0.00010850694444444425,curr_delay = 0.17110196191319427, ucb: 3.274581958797603 num_of_obs: 16\n",
      "iteration97\n"
     ]
    },
    {
     "name": "stderr",
     "output_type": "stream",
     "text": [
      " 48%|████▊     | 97/200 [01:15<01:22,  1.24it/s]"
     ]
    },
    {
     "name": "stdout",
     "output_type": "stream",
     "text": [
      "user 2, g: -0.001561743484370756,curr_delay = 0.12383623742396038, ucb: 3.24287356256339 num_of_obs: 21\n",
      "user 6, g: -7.380640285306025e-05,curr_delay = 0.10854907884612684, ucb: 3.263636679375233 num_of_obs: 18\n",
      "user 7, g: -7.380640285306025e-05,curr_delay = 0.14162701169809122, ucb: 3.246437348416297 num_of_obs: 18\n",
      "user 9, g: 2.9522561141223915e-06,curr_delay = 0.14112669783903642, ucb: 3.2593318354669725 num_of_obs: 17\n",
      "user 10, g: 2.9522561141223915e-06,curr_delay = 0.13850775639229757, ucb: 3.238302897356084 num_of_obs: 17\n",
      "iteration98\n"
     ]
    },
    {
     "name": "stderr",
     "output_type": "stream",
     "text": [
      " 49%|████▉     | 98/200 [01:16<01:20,  1.27it/s]"
     ]
    },
    {
     "name": "stdout",
     "output_type": "stream",
     "text": [
      "user 1, g: -0.0033435142764588837,curr_delay = 0.06519866769142227, ucb: 3.225707527024706 num_of_obs: 23\n",
      "user 3, g: -0.0013998796797630628,curr_delay = 0.11338995966007283, ucb: 3.2411941687670467 num_of_obs: 21\n",
      "user 4, g: -0.0007404322273126939,curr_delay = 0.07248734685092893, ucb: 3.2190333809465472 num_of_obs: 20\n",
      "user 11, g: 1.1569253551760866e-05,curr_delay = 0.1577915313637636, ucb: 3.2251792291630994 num_of_obs: 17\n",
      "user 12, g: 1.1569253551760866e-05,curr_delay = 0.1935946953094388, ucb: 3.2126605738383933 num_of_obs: 17\n",
      "iteration99\n"
     ]
    },
    {
     "name": "stderr",
     "output_type": "stream",
     "text": [
      " 50%|████▉     | 99/200 [01:17<01:19,  1.27it/s]"
     ]
    },
    {
     "name": "stdout",
     "output_type": "stream",
     "text": [
      "user 5, g: -0.00022956841138659364,curr_delay = 0.1154464507779936, ucb: 3.204671890611453 num_of_obs: 19\n",
      "user 15, g: 0.0006376900316294253,curr_delay = 0.7176229935962732, ucb: 3.2081767074762317 num_of_obs: 15\n",
      "user 16, g: 0.0006376900316294253,curr_delay = 0.7485075420008709, ucb: 3.206826729028522 num_of_obs: 15\n",
      "user 17, g: 0.0006376900316294253,curr_delay = 0.722476054159273, ucb: 3.205714272465866 num_of_obs: 15\n",
      "user 18, g: 0.0006376900316294253,curr_delay = 0.7488303166777693, ucb: 3.2043330313904788 num_of_obs: 15\n",
      "iteration100\n"
     ]
    },
    {
     "name": "stderr",
     "output_type": "stream",
     "text": [
      " 50%|█████     | 100/200 [01:17<01:19,  1.25it/s]"
     ]
    },
    {
     "name": "stdout",
     "output_type": "stream",
     "text": [
      "user 19, g: 0.00071111111111111,curr_delay = 0.7896082804573727, ucb: 3.206431959583715 num_of_obs: 15\n",
      "user 20, g: 0.00071111111111111,curr_delay = 0.7782132889346008, ucb: 3.2057622592215798 num_of_obs: 15\n",
      "user 21, g: 0.00071111111111111,curr_delay = 0.8072658957342302, ucb: 3.204195971343647 num_of_obs: 15\n",
      "user 22, g: 0.00071111111111111,curr_delay = 0.821071037403532, ucb: 3.2032901587202054 num_of_obs: 15\n",
      "user 23, g: 0.00071111111111111,curr_delay = 0.8368163048793957, ucb: 3.2026258988085345 num_of_obs: 15\n",
      "iteration101\n"
     ]
    },
    {
     "name": "stderr",
     "output_type": "stream",
     "text": [
      " 50%|█████     | 101/200 [01:18<01:17,  1.27it/s]"
     ]
    },
    {
     "name": "stdout",
     "output_type": "stream",
     "text": [
      "user 8, g: -2.723044581685957e-06,curr_delay = 0.1385097601243793, ucb: 3.2041694363671276 num_of_obs: 18\n",
      "user 13, g: 6.80761145421471e-05,curr_delay = 0.18545068585998814, ucb: 3.2035077271637933 num_of_obs: 17\n",
      "user 24, g: 0.0007869598841072214,curr_delay = 0.8112365809800437, ucb: 3.2044226644558904 num_of_obs: 15\n",
      "user 25, g: 0.0007869598841072214,curr_delay = 0.8631534301524868, ucb: 3.2038499323397067 num_of_obs: 15\n",
      "user 26, g: 0.0007869598841072214,curr_delay = 0.8392674603680119, ucb: 3.203271310915355 num_of_obs: 15\n",
      "iteration102\n"
     ]
    },
    {
     "name": "stderr",
     "output_type": "stream",
     "text": [
      " 51%|█████     | 102/200 [01:19<01:16,  1.28it/s]"
     ]
    },
    {
     "name": "stdout",
     "output_type": "stream",
     "text": [
      "user 6, g: -9.611687812379895e-05,curr_delay = 0.0952908010962627, ucb: 3.200838376787452 num_of_obs: 19\n",
      "user 14, g: 9.61168781237984e-05,curr_delay = 0.17839270080866365, ucb: 3.2004432099055804 num_of_obs: 17\n",
      "user 27, g: 0.0008650519031141856,curr_delay = 0.8836845917372528, ucb: 3.2055791721728144 num_of_obs: 15\n",
      "user 28, g: 0.0008650519031141856,curr_delay = 0.903708047106259, ucb: 3.204534575489187 num_of_obs: 15\n",
      "user 29, g: 0.0008650519031141856,curr_delay = 0.9100614273402817, ucb: 3.2038196223293673 num_of_obs: 15\n",
      "iteration103\n"
     ]
    },
    {
     "name": "stderr",
     "output_type": "stream",
     "text": [
      " 52%|█████▏    | 103/200 [01:20<01:18,  1.24it/s]"
     ]
    },
    {
     "name": "stdout",
     "output_type": "stream",
     "text": [
      "user 0, g: -0.0044013992312606715,curr_delay = 0.05, ucb: 3.2249178634887836 num_of_obs: 25\n",
      "user 1, g: -0.003207444413024583,curr_delay = 0.07759580534411759, ucb: 3.185790581373728 num_of_obs: 24\n",
      "user 2, g: -0.0013850923220326558,curr_delay = 0.09722878666306797, ucb: 3.1860021341447897 num_of_obs: 22\n",
      "user 3, g: -0.0013850923220326558,curr_delay = 0.09733880561881772, ucb: 3.183378882409196 num_of_obs: 22\n",
      "user 9, g: 2.6183219698159222e-06,curr_delay = 0.12001737017156816, ucb: 3.1918589561854644 num_of_obs: 18\n",
      "iteration104\n"
     ]
    },
    {
     "name": "stderr",
     "output_type": "stream",
     "text": [
      " 52%|█████▏    | 104/200 [01:21<01:17,  1.25it/s]"
     ]
    },
    {
     "name": "stdout",
     "output_type": "stream",
     "text": [
      "user 0, g: -0.005434335963182119,curr_delay = 0.08889427110816675, ucb: 3.1860257833440127 num_of_obs: 26\n",
      "user 4, g: -0.0006574621959237354,curr_delay = 0.1125365422039327, ucb: 3.1759130704136043 num_of_obs: 21\n",
      "user 7, g: -4.109138724523346e-05,curr_delay = 0.15733583012895141, ucb: 3.1844400873221694 num_of_obs: 19\n",
      "user 10, g: 1.0272846811308277e-05,curr_delay = 0.1668728345978731, ucb: 3.1754404896272392 num_of_obs: 18\n",
      "user 11, g: 1.0272846811308277e-05,curr_delay = 0.15613318626743022, ucb: 3.157405420278886 num_of_obs: 18\n",
      "iteration105\n"
     ]
    },
    {
     "name": "stderr",
     "output_type": "stream",
     "text": [
      " 52%|█████▎    | 105/200 [01:21<01:15,  1.25it/s]"
     ]
    },
    {
     "name": "stdout",
     "output_type": "stream",
     "text": [
      "user 1, g: -0.0038321995464852612,curr_delay = 0.055572992046969895, ucb: 3.135564693050771 num_of_obs: 25\n",
      "user 5, g: -0.00020408163265306137,curr_delay = 0.11436830068463388, ucb: 3.1478327694648875 num_of_obs: 20\n",
      "user 6, g: -0.00020408163265306137,curr_delay = 0.13856560624623274, ucb: 3.1405199742590906 num_of_obs: 20\n",
      "user 8, g: -2.267573696145135e-05,curr_delay = 0.14430283867576257, ucb: 3.1360008463817834 num_of_obs: 19\n",
      "user 12, g: 2.2675736961451085e-05,curr_delay = 0.17834684502762135, ucb: 3.1451238147418508 num_of_obs: 18\n",
      "iteration106\n"
     ]
    },
    {
     "name": "stderr",
     "output_type": "stream",
     "text": [
      " 53%|█████▎    | 106/200 [01:22<01:15,  1.24it/s]"
     ]
    },
    {
     "name": "stdout",
     "output_type": "stream",
     "text": [
      "user 2, g: -0.0016712155373600744,curr_delay = 0.09725131174537308, ucb: 3.1301336945931584 num_of_obs: 23\n",
      "user 9, g: -9.88884933349155e-06,curr_delay = 0.13626248032650998, ucb: 3.1245793603583927 num_of_obs: 19\n",
      "user 13, g: 3.95553973339662e-05,curr_delay = 0.19611936540843056, ucb: 3.13103421061225 num_of_obs: 18\n",
      "user 14, g: 3.95553973339662e-05,curr_delay = 0.19135703269597276, ucb: 3.125823804135739 num_of_obs: 18\n",
      "user 15, g: 0.0006328863573434592,curr_delay = 0.7118709908829185, ucb: 3.124190364866224 num_of_obs: 16\n",
      "iteration107\n"
     ]
    },
    {
     "name": "stderr",
     "output_type": "stream",
     "text": [
      " 54%|█████▎    | 107/200 [01:23<01:13,  1.26it/s]"
     ]
    },
    {
     "name": "stdout",
     "output_type": "stream",
     "text": [
      "user 0, g: -0.005825351073844394,curr_delay = 0.07300708857603606, ucb: 3.1371504932753007 num_of_obs: 27\n",
      "user 3, g: -0.0015163866810298816,curr_delay = 0.09949673340609858, ucb: 3.130140733591807 num_of_obs: 23\n",
      "user 16, g: 0.0007011772013082173,curr_delay = 0.7323195981397556, ucb: 3.1258117580585036 num_of_obs: 16\n",
      "user 17, g: 0.0007011772013082173,curr_delay = 0.7563620902790787, ucb: 3.12493392205619 num_of_obs: 16\n",
      "user 18, g: 0.0007011772013082173,curr_delay = 0.7664055560623035, ucb: 3.123482387383323 num_of_obs: 16\n",
      "iteration108\n"
     ]
    },
    {
     "name": "stderr",
     "output_type": "stream",
     "text": [
      " 54%|█████▍    | 108/200 [01:24<01:17,  1.19it/s]"
     ]
    },
    {
     "name": "stdout",
     "output_type": "stream",
     "text": [
      "user 19, g: 0.000771604938271604,curr_delay = 0.7515722140645087, ucb: 3.125051811451671 num_of_obs: 16\n",
      "user 20, g: 0.000771604938271604,curr_delay = 0.7729101271517508, ucb: 3.124488571149422 num_of_obs: 16\n",
      "user 21, g: 0.000771604938271604,curr_delay = 0.8090405223119563, ucb: 3.1228725506621613 num_of_obs: 16\n",
      "user 22, g: 0.000771604938271604,curr_delay = 0.8123082895353984, ucb: 3.121957699526063 num_of_obs: 16\n",
      "user 23, g: 0.000771604938271604,curr_delay = 0.8263702427516855, ucb: 3.1212613368780753 num_of_obs: 16\n",
      "iteration109\n"
     ]
    },
    {
     "name": "stderr",
     "output_type": "stream",
     "text": [
      " 55%|█████▍    | 109/200 [01:25<01:14,  1.21it/s]"
     ]
    },
    {
     "name": "stdout",
     "output_type": "stream",
     "text": [
      "user 4, g: -0.0006756819945945451,curr_delay = 0.11160743484801436, ucb: 3.1209019420270243 num_of_obs: 22\n",
      "user 24, g: 0.000844017993247855,curr_delay = 0.8522180830151855, ucb: 3.1229085103768965 num_of_obs: 16\n",
      "user 25, g: 0.000844017993247855,curr_delay = 0.8395063075961946, ucb: 3.1221268155627424 num_of_obs: 16\n",
      "user 26, g: 0.000844017993247855,curr_delay = 0.869673386713629, ucb: 3.1216966778953146 num_of_obs: 16\n",
      "user 27, g: 0.000844017993247855,curr_delay = 0.9062903268175491, ucb: 3.1205197990898546 num_of_obs: 16\n",
      "iteration110\n"
     ]
    },
    {
     "name": "stderr",
     "output_type": "stream",
     "text": [
      " 55%|█████▌    | 110/200 [01:26<01:13,  1.22it/s]"
     ]
    },
    {
     "name": "stdout",
     "output_type": "stream",
     "text": [
      "user 1, g: -0.0036730945821854917,curr_delay = 0.05447252955657515, ucb: 3.1056590077224637 num_of_obs: 26\n",
      "user 7, g: -3.673094582185505e-05,curr_delay = 0.16120296981782753, ucb: 3.122093045327755 num_of_obs: 20\n",
      "user 10, g: 9.182736455463678e-06,curr_delay = 0.1615481057622808, ucb: 3.1108105444758225 num_of_obs: 19\n",
      "user 28, g: 0.0009182736455463729,curr_delay = 0.881441669217911, ucb: 3.122441247753996 num_of_obs: 16\n",
      "user 29, g: 0.0009182736455463729,curr_delay = 0.8936407540475484, ucb: 3.1217482076933165 num_of_obs: 16\n",
      "iteration111\n"
     ]
    },
    {
     "name": "stderr",
     "output_type": "stream",
     "text": [
      " 56%|█████▌    | 111/200 [01:26<01:11,  1.25it/s]"
     ]
    },
    {
     "name": "stdout",
     "output_type": "stream",
     "text": [
      "user 0, g: -0.0058639720801883,curr_delay = 0.05, ucb: 3.097850381349568 num_of_obs: 28\n",
      "user 2, g: -0.0016435354273192113,curr_delay = 0.094371450593069, ucb: 3.0827639794193877 num_of_obs: 24\n",
      "user 5, g: -0.00018261504747991238,curr_delay = 0.10107602878780018, ucb: 3.094928243478199 num_of_obs: 21\n",
      "user 6, g: -0.00018261504747991238,curr_delay = 0.11830588912918821, ucb: 3.0841638793507706 num_of_obs: 21\n",
      "user 11, g: 2.029056083110121e-05,curr_delay = 0.18352583777542902, ucb: 3.097615542592643 num_of_obs: 19\n",
      "iteration112\n"
     ]
    },
    {
     "name": "stderr",
     "output_type": "stream",
     "text": [
      " 56%|█████▌    | 112/200 [01:27<01:09,  1.27it/s]"
     ]
    },
    {
     "name": "stdout",
     "output_type": "stream",
     "text": [
      "user 1, g: -0.004287131519274378,curr_delay = 0.07828134097745612, ucb: 3.0711986535904288 num_of_obs: 27\n",
      "user 3, g: -0.001496952947845805,curr_delay = 0.0967477834122023, ucb: 3.0821979393401735 num_of_obs: 24\n",
      "user 8, g: -8.857709750566995e-06,curr_delay = 0.1388132896163618, ucb: 3.0802164318944545 num_of_obs: 20\n",
      "user 9, g: -8.857709750566995e-06,curr_delay = 0.160050347928192, ucb: 3.067786606105474 num_of_obs: 20\n",
      "user 12, g: 3.5430839002267324e-05,curr_delay = 0.15107773267092445, ucb: 3.0836826444898637 num_of_obs: 19\n",
      "iteration113\n"
     ]
    },
    {
     "name": "stderr",
     "output_type": "stream",
     "text": [
      " 56%|█████▋    | 113/200 [01:28<01:07,  1.28it/s]"
     ]
    },
    {
     "name": "stdout",
     "output_type": "stream",
     "text": [
      "user 0, g: -0.006580607547793702,curr_delay = 0.05, ucb: 3.0676593510522263 num_of_obs: 29\n",
      "user 4, g: -0.0007853220908276123,curr_delay = 0.10082084434823196, ucb: 3.067255321293447 num_of_obs: 23\n",
      "user 7, g: -0.00010659496523698903,curr_delay = 0.13291574848683094, ucb: 3.0563201943196 num_of_obs: 21\n",
      "user 13, g: 5.438518634540239e-05,curr_delay = 0.18013962758930488, ucb: 3.068849701787361 num_of_obs: 19\n",
      "user 14, g: 5.438518634540239e-05,curr_delay = 0.19857093793968297, ucb: 3.0642812568213733 num_of_obs: 19\n",
      "iteration114\n"
     ]
    },
    {
     "name": "stderr",
     "output_type": "stream",
     "text": [
      " 57%|█████▋    | 114/200 [01:29<01:07,  1.28it/s]"
     ]
    },
    {
     "name": "stdout",
     "output_type": "stream",
     "text": [
      "user 10, g: 0.0,curr_delay = 0.1554894962768467, ucb: 3.0463656633491705 num_of_obs: 20\n",
      "user 15, g: 0.0006925207756232686,curr_delay = 0.7072942742755305, ucb: 3.050194428277542 num_of_obs: 17\n",
      "user 16, g: 0.0006925207756232686,curr_delay = 0.7365513168194903, ucb: 3.0487109397500536 num_of_obs: 17\n",
      "user 17, g: 0.0006925207756232686,curr_delay = 0.7525813633501255, ucb: 3.047752324964487 num_of_obs: 17\n",
      "user 18, g: 0.0006925207756232686,curr_delay = 0.7631397015776333, ucb: 3.046337367845604 num_of_obs: 17\n",
      "iteration115\n"
     ]
    },
    {
     "name": "stderr",
     "output_type": "stream",
     "text": [
      " 57%|█████▊    | 115/200 [01:29<01:08,  1.24it/s]"
     ]
    },
    {
     "name": "stdout",
     "output_type": "stream",
     "text": [
      "user 19, g: 0.0007582440663726101,curr_delay = 0.7722978449321948, ucb: 3.047784194878002 num_of_obs: 17\n",
      "user 20, g: 0.0007582440663726101,curr_delay = 0.7901759703421677, ucb: 3.047141367571932 num_of_obs: 17\n",
      "user 21, g: 0.0007582440663726101,curr_delay = 0.7569586527065953, ucb: 3.0454457875690513 num_of_obs: 17\n",
      "user 22, g: 0.0007582440663726101,curr_delay = 0.7837761437613794, ucb: 3.044572576097398 num_of_obs: 17\n",
      "user 23, g: 0.0007582440663726101,curr_delay = 0.8223571844888357, ucb: 3.0438542724801416 num_of_obs: 17\n",
      "iteration116\n"
     ]
    },
    {
     "name": "stderr",
     "output_type": "stream",
     "text": [
      " 58%|█████▊    | 116/200 [01:30<01:06,  1.26it/s]"
     ]
    },
    {
     "name": "stdout",
     "output_type": "stream",
     "text": [
      "user 5, g: -0.00020643413925221327,curr_delay = 0.07302680476623098, ucb: 3.0457226140461118 num_of_obs: 22\n",
      "user 24, g: 0.0008257365570088515,curr_delay = 0.8248553830339223, ucb: 3.045181618836712 num_of_obs: 17\n",
      "user 25, g: 0.0008257365570088515,curr_delay = 0.8706862181014352, ucb: 3.044504304048031 num_of_obs: 17\n",
      "user 26, g: 0.0008257365570088515,curr_delay = 0.8546384455505521, ucb: 3.043971927123825 num_of_obs: 17\n",
      "user 27, g: 0.0008257365570088515,curr_delay = 0.8747730911789097, ucb: 3.042723422657226 num_of_obs: 17\n",
      "iteration117\n"
     ]
    },
    {
     "name": "stderr",
     "output_type": "stream",
     "text": [
      " 58%|█████▊    | 117/200 [01:31<01:04,  1.28it/s]"
     ]
    },
    {
     "name": "stdout",
     "output_type": "stream",
     "text": [
      "user 2, g: -0.0014792899408284025,curr_delay = 0.07010038471657576, ucb: 3.0410000440499956 num_of_obs: 25\n",
      "user 3, g: -0.0014792899408284025,curr_delay = 0.10809084282963546, ucb: 3.0376547984373072 num_of_obs: 25\n",
      "user 11, g: 1.8262838775659157e-05,curr_delay = 0.2131381845743694, ucb: 3.036851751279358 num_of_obs: 20\n",
      "user 28, g: 0.0008948791000073038,curr_delay = 0.8799483890465971, ucb: 3.0445225186226668 num_of_obs: 17\n",
      "user 29, g: 0.0008948791000073038,curr_delay = 0.9123995191827904, ucb: 3.043824396310871 num_of_obs: 17\n",
      "iteration118\n"
     ]
    },
    {
     "name": "stderr",
     "output_type": "stream",
     "text": [
      " 59%|█████▉    | 118/200 [01:32<01:03,  1.29it/s]"
     ]
    },
    {
     "name": "stdout",
     "output_type": "stream",
     "text": [
      "user 0, g: -0.00625618436592295,curr_delay = 0.05305369324521625, ucb: 3.044927081042258 num_of_obs: 30\n",
      "user 1, g: -0.003862236266717739,curr_delay = 0.07559462125867014, ucb: 3.0365361092699246 num_of_obs: 28\n",
      "user 6, g: -0.00012767723195761133,curr_delay = 0.1000028579717194, ucb: 3.0367215675922945 num_of_obs: 22\n",
      "user 8, g: -7.979826997350708e-06,curr_delay = 0.11028705928695594, ucb: 3.0262496825360548 num_of_obs: 21\n",
      "user 12, g: 3.191930798940283e-05,curr_delay = 0.19133760663149207, ucb: 3.026654975651817 num_of_obs: 20\n",
      "iteration119\n"
     ]
    },
    {
     "name": "stderr",
     "output_type": "stream",
     "text": [
      " 60%|█████▉    | 119/200 [01:33<01:03,  1.27it/s]"
     ]
    },
    {
     "name": "stdout",
     "output_type": "stream",
     "text": [
      "user 0, g: -0.007298998030584783,curr_delay = 0.05964180876779753, ucb: 3.013486866139276 num_of_obs: 31\n",
      "user 4, g: -0.0007081263878100268,curr_delay = 0.10257297260992047, ucb: 3.0235912077891727 num_of_obs: 24\n",
      "user 7, g: -9.611687812379895e-05,curr_delay = 0.12515291127015762, ucb: 3.0055049839604733 num_of_obs: 22\n",
      "user 9, g: -1.9615689413020747e-06,curr_delay = 0.14453766283051575, ucb: 3.0144165559136322 num_of_obs: 21\n",
      "user 13, g: 4.9039223532550315e-05,curr_delay = 0.18758180154957893, ucb: 3.009717668820271 num_of_obs: 20\n",
      "iteration120\n"
     ]
    },
    {
     "name": "stderr",
     "output_type": "stream",
     "text": [
      " 60%|██████    | 120/200 [01:33<01:03,  1.26it/s]"
     ]
    },
    {
     "name": "stdout",
     "output_type": "stream",
     "text": [
      "user 1, g: -0.004444444444444446,curr_delay = 0.05, ucb: 2.996429011218666 num_of_obs: 29\n",
      "user 2, g: -0.0017361111111111127,curr_delay = 0.0898834962261253, ucb: 3.002535081048757 num_of_obs: 26\n",
      "user 5, g: -0.00027777777777777767,curr_delay = 0.11188072012301759, ucb: 3.0060019579752386 num_of_obs: 23\n",
      "user 10, g: 0.0,curr_delay = 0.1629737386538107, ucb: 2.9920090768424936 num_of_obs: 21\n",
      "user 14, g: 6.944444444444442e-05,curr_delay = 0.1820144150977829, ucb: 3.0064376498593344 num_of_obs: 20\n",
      "iteration121\n"
     ]
    },
    {
     "name": "stderr",
     "output_type": "stream",
     "text": [
      " 60%|██████    | 121/200 [01:34<01:02,  1.26it/s]"
     ]
    },
    {
     "name": "stdout",
     "output_type": "stream",
     "text": [
      "user 3, g: -0.0015955953221167358,curr_delay = 0.07354357163024153, ucb: 2.9913725960935293 num_of_obs: 26\n",
      "user 6, g: -0.00022956841138659364,curr_delay = 0.10532675148168129, ucb: 2.986759816868439 num_of_obs: 23\n",
      "user 15, g: 0.0006849107149633063,curr_delay = 0.6840330398625933, ucb: 2.9793791428181584 num_of_obs: 18\n",
      "user 16, g: 0.0006849107149633063,curr_delay = 0.689846160195681, ucb: 2.977817741785903 num_of_obs: 18\n",
      "user 17, g: 0.0006849107149633063,curr_delay = 0.7541743172473689, ucb: 2.976830461194022 num_of_obs: 18\n",
      "iteration122\n"
     ]
    },
    {
     "name": "stderr",
     "output_type": "stream",
     "text": [
      " 61%|██████    | 122/200 [01:35<01:01,  1.27it/s]"
     ]
    },
    {
     "name": "stdout",
     "output_type": "stream",
     "text": [
      "user 8, g: -2.9860551225775693e-05,curr_delay = 0.15786931228884987, ucb: 2.975751923632527 num_of_obs: 22\n",
      "user 11, g: 7.465137806443923e-06,curr_delay = 0.17024153093028602, ucb: 2.9761299132114196 num_of_obs: 21\n",
      "user 18, g: 0.0007465137806443908,curr_delay = 0.7797602033481721, ucb: 2.977939927782136 num_of_obs: 18\n",
      "user 19, g: 0.0007465137806443908,curr_delay = 0.7916257298259634, ucb: 2.9766711626671274 num_of_obs: 18\n",
      "user 20, g: 0.0007465137806443908,curr_delay = 0.7749590756833455, ucb: 2.975979983031912 num_of_obs: 18\n",
      "iteration123\n"
     ]
    },
    {
     "name": "stderr",
     "output_type": "stream",
     "text": [
      " 62%|██████▏   | 123/200 [01:36<01:00,  1.26it/s]"
     ]
    },
    {
     "name": "stdout",
     "output_type": "stream",
     "text": [
      "user 4, g: -0.0008097032189834102,curr_delay = 0.1059156005147905, ucb: 2.977820172932625 num_of_obs: 25\n",
      "user 21, g: 0.0008097032189834087,curr_delay = 0.7981846024298624, ucb: 2.9770202630029043 num_of_obs: 18\n",
      "user 22, g: 0.0008097032189834087,curr_delay = 0.822341568300459, ucb: 2.9760654709872023 num_of_obs: 18\n",
      "user 23, g: 0.0008097032189834087,curr_delay = 0.8352665007592486, ucb: 2.975213367904905 num_of_obs: 18\n",
      "user 24, g: 0.0008097032189834087,curr_delay = 0.842041016416911, ucb: 2.9738917471306774 num_of_obs: 18\n",
      "iteration124\n"
     ]
    },
    {
     "name": "stderr",
     "output_type": "stream",
     "text": [
      " 62%|██████▏   | 124/200 [01:37<01:00,  1.26it/s]"
     ]
    },
    {
     "name": "stdout",
     "output_type": "stream",
     "text": [
      "user 25, g: 0.0008743785408717771,curr_delay = 0.8509897693715491, ucb: 2.975517272347479 num_of_obs: 18\n",
      "user 26, g: 0.0008743785408717771,curr_delay = 0.842400163486169, ucb: 2.975079641280073 num_of_obs: 18\n",
      "user 27, g: 0.0008743785408717771,curr_delay = 0.855188866761809, ucb: 2.9738253669359622 num_of_obs: 18\n",
      "user 28, g: 0.0008743785408717771,curr_delay = 0.8663811309383215, ucb: 2.9729630788455967 num_of_obs: 18\n",
      "user 29, g: 0.0008743785408717771,curr_delay = 0.9245573369339293, ucb: 2.9721871425892874 num_of_obs: 18\n",
      "iteration125\n"
     ]
    },
    {
     "name": "stderr",
     "output_type": "stream",
     "text": [
      " 62%|██████▎   | 125/200 [01:37<00:59,  1.26it/s]"
     ]
    },
    {
     "name": "stdout",
     "output_type": "stream",
     "text": [
      "user 0, g: -0.006615111111111112,curr_delay = 0.05, ucb: 2.9893310478450488 num_of_obs: 32\n",
      "user 1, g: -0.004268444444444447,curr_delay = 0.08191358606178695, ucb: 2.975760665152518 num_of_obs: 30\n",
      "user 2, g: -0.0017084444444444445,curr_delay = 0.0854800934512957, ucb: 2.964089018010822 num_of_obs: 27\n",
      "user 9, g: -1.7777777777778303e-06,curr_delay = 0.13884613800660736, ucb: 2.9637294200618443 num_of_obs: 22\n",
      "user 12, g: 4.444444444444428e-05,curr_delay = 0.1722121746794522, ucb: 2.972231291862304 num_of_obs: 21\n",
      "iteration126\n"
     ]
    },
    {
     "name": "stderr",
     "output_type": "stream",
     "text": [
      " 63%|██████▎   | 126/200 [01:38<00:59,  1.25it/s]"
     ]
    },
    {
     "name": "stdout",
     "output_type": "stream",
     "text": [
      "user 0, g: -0.007621567145376668,curr_delay = 0.0667060323717188, ucb: 2.9624263886271356 num_of_obs: 33\n",
      "user 3, g: -0.0015747039556563364,curr_delay = 0.09192152272820467, ucb: 2.9580596284565766 num_of_obs: 27\n",
      "user 5, g: -0.00025195263290501383,curr_delay = 0.09446913384404362, ucb: 2.962365812424558 num_of_obs: 24\n",
      "user 7, g: -6.298815822625346e-05,curr_delay = 0.1339339164537022, ucb: 2.9609651509759347 num_of_obs: 23\n",
      "user 13, g: 6.298815822625346e-05,curr_delay = 0.188088453802921, ucb: 2.956317130033592 num_of_obs: 21\n",
      "iteration127\n"
     ]
    },
    {
     "name": "stderr",
     "output_type": "stream",
     "text": [
      " 64%|██████▎   | 127/200 [01:39<00:57,  1.27it/s]"
     ]
    },
    {
     "name": "stdout",
     "output_type": "stream",
     "text": [
      "user 1, g: -0.004837731897686018,curr_delay = 0.06867772004964551, ucb: 2.9374570220594034 num_of_obs: 31\n",
      "user 4, g: -0.0009110573776703122,curr_delay = 0.11538709109655806, ucb: 2.934118983543424 num_of_obs: 26\n",
      "user 6, g: -0.00020838930566750082,curr_delay = 0.10934206220621247, ucb: 2.94510388301287 num_of_obs: 24\n",
      "user 10, g: 1.7222256666735008e-06,curr_delay = 0.17397449039555157, ucb: 2.942607556728866 num_of_obs: 22\n",
      "user 14, g: 8.438905766700409e-05,curr_delay = 0.15331353746385062, ucb: 2.953525384558375 num_of_obs: 21\n",
      "iteration128\n"
     ]
    },
    {
     "name": "stderr",
     "output_type": "stream",
     "text": [
      " 64%|██████▍   | 128/200 [01:40<00:57,  1.26it/s]"
     ]
    },
    {
     "name": "stdout",
     "output_type": "stream",
     "text": [
      "user 2, g: -0.0019599066840277784,curr_delay = 0.09794604710063057, ucb: 2.9249509800350473 num_of_obs: 28\n",
      "user 3, g: -0.0019599066840277784,curr_delay = 0.0805693461583695, ucb: 2.9157520653506355 num_of_obs: 28\n",
      "user 5, g: -0.0004340277777777782,curr_delay = 0.1262833998232455, ucb: 2.916755413475038 num_of_obs: 25\n",
      "user 8, g: -2.7126736111111208e-05,curr_delay = 0.17111636378087314, ucb: 2.9264905671394645 num_of_obs: 23\n",
      "user 11, g: 6.78168402777773e-06,curr_delay = 0.15305033033218904, ucb: 2.924587588344227 num_of_obs: 22\n",
      "iteration129\n"
     ]
    },
    {
     "name": "stderr",
     "output_type": "stream",
     "text": [
      " 64%|██████▍   | 129/200 [01:40<00:56,  1.25it/s]"
     ]
    },
    {
     "name": "stdout",
     "output_type": "stream",
     "text": [
      "user 9, g: -1.5023135628868511e-05,curr_delay = 0.15269619565278877, ucb: 2.912734373430169 num_of_obs: 23\n",
      "user 12, g: 1.5023135628868296e-05,curr_delay = 0.15443084890260808, ucb: 2.9163692479698886 num_of_obs: 22\n",
      "user 15, g: 0.000736133645814554,curr_delay = 0.7167125712516856, ucb: 2.9163823869009216 num_of_obs: 19\n",
      "user 16, g: 0.000736133645814554,curr_delay = 0.6999886988099039, ucb: 2.9148735105692967 num_of_obs: 19\n",
      "user 17, g: 0.000736133645814554,curr_delay = 0.7108767644991226, ucb: 2.913597620122645 num_of_obs: 19\n",
      "iteration130\n"
     ]
    },
    {
     "name": "stderr",
     "output_type": "stream",
     "text": [
      " 65%|██████▌   | 130/200 [01:41<00:54,  1.29it/s]"
     ]
    },
    {
     "name": "stdout",
     "output_type": "stream",
     "text": [
      "user 7, g: -0.0001051939513477979,curr_delay = 0.12733155073651695, ucb: 2.9117678496178865 num_of_obs: 24\n",
      "user 18, g: 0.0007955292570677177,curr_delay = 0.7582912397657317, ucb: 2.9144281470575115 num_of_obs: 19\n",
      "user 19, g: 0.0007955292570677177,curr_delay = 0.7380581875535018, ucb: 2.913176473530221 num_of_obs: 19\n",
      "user 20, g: 0.0007955292570677177,curr_delay = 0.7586352741204486, ucb: 2.912599158054852 num_of_obs: 19\n",
      "user 21, g: 0.0007955292570677177,curr_delay = 0.7954264973231306, ucb: 2.9111419411656456 num_of_obs: 19\n",
      "iteration131\n"
     ]
    },
    {
     "name": "stderr",
     "output_type": "stream",
     "text": [
      " 66%|██████▌   | 131/200 [01:42<00:55,  1.25it/s]"
     ]
    },
    {
     "name": "stdout",
     "output_type": "stream",
     "text": [
      "user 22, g: 0.0008562697071525219,curr_delay = 0.7969245944627755, ucb: 2.9123790587366867 num_of_obs: 19\n",
      "user 23, g: 0.0008562697071525219,curr_delay = 0.8315189755669273, ucb: 2.911522025199107 num_of_obs: 19\n",
      "user 24, g: 0.0008562697071525219,curr_delay = 0.8302445438618057, ucb: 2.9102470720321247 num_of_obs: 19\n",
      "user 25, g: 0.0008562697071525219,curr_delay = 0.8352247654792788, ucb: 2.909433062533601 num_of_obs: 19\n",
      "user 26, g: 0.0008562697071525219,curr_delay = 0.8653762459442971, ucb: 2.9090530277240454 num_of_obs: 19\n",
      "iteration132\n"
     ]
    },
    {
     "name": "stderr",
     "output_type": "stream",
     "text": [
      " 66%|██████▌   | 132/200 [01:43<00:54,  1.25it/s]"
     ]
    },
    {
     "name": "stdout",
     "output_type": "stream",
     "text": [
      "user 0, g: -0.006944444444444446,curr_delay = 0.06023862958885801, ucb: 2.9374444697842876 num_of_obs: 34\n",
      "user 1, g: -0.004648760330578515,curr_delay = 0.07560496800755977, ucb: 2.910006192398084 num_of_obs: 32\n",
      "user 27, g: 0.0009182736455463729,curr_delay = 0.8678219633898496, ucb: 2.9100414380011443 num_of_obs: 19\n",
      "user 28, g: 0.0009182736455463729,curr_delay = 0.898626460836751, ucb: 2.9091850939400934 num_of_obs: 19\n",
      "user 29, g: 0.0009182736455463729,curr_delay = 0.8776674534314848, ucb: 2.908250521517266 num_of_obs: 19\n",
      "iteration133\n"
     ]
    },
    {
     "name": "stderr",
     "output_type": "stream",
     "text": [
      " 66%|██████▋   | 133/200 [01:44<00:53,  1.25it/s]"
     ]
    },
    {
     "name": "stdout",
     "output_type": "stream",
     "text": [
      "user 0, g: -0.00791609349187505,curr_delay = 0.05, ucb: 2.907817461058289 num_of_obs: 35\n",
      "user 4, g: -0.0008307108623689549,curr_delay = 0.10499690324253545, ucb: 2.895083711384589 num_of_obs: 27\n",
      "user 6, g: -0.0001900113692753186,curr_delay = 0.09962275759198674, ucb: 2.9049522427761003 num_of_obs: 25\n",
      "user 13, g: 7.694675284702985e-05,curr_delay = 0.1810031143327681, ucb: 2.9061970752337594 num_of_obs: 22\n",
      "user 14, g: 7.694675284702985e-05,curr_delay = 0.23358305053700792, ucb: 2.9043139576858605 num_of_obs: 22\n",
      "iteration134\n"
     ]
    },
    {
     "name": "stderr",
     "output_type": "stream",
     "text": [
      " 67%|██████▋   | 134/200 [01:44<00:52,  1.25it/s]"
     ]
    },
    {
     "name": "stdout",
     "output_type": "stream",
     "text": [
      "user 2, g: -0.0017883220712358607,curr_delay = 0.07719329918677965, ucb: 2.8905433303870773 num_of_obs: 29\n",
      "user 3, g: -0.0017883220712358607,curr_delay = 0.09168832955325891, ucb: 2.885605030198615 num_of_obs: 29\n",
      "user 8, g: -2.475186257765902e-05,curr_delay = 0.13531787818174945, ucb: 2.879100801982855 num_of_obs: 24\n",
      "user 10, g: 6.1879656444146855e-06,curr_delay = 0.16032815399791467, ucb: 2.895202153800571 num_of_obs: 23\n",
      "user 11, g: 6.1879656444146855e-06,curr_delay = 0.17143199343219337, ucb: 2.8777552513959526 num_of_obs: 23\n",
      "iteration135\n"
     ]
    },
    {
     "name": "stderr",
     "output_type": "stream",
     "text": [
      " 68%|██████▊   | 135/200 [01:45<00:52,  1.23it/s]"
     ]
    },
    {
     "name": "stdout",
     "output_type": "stream",
     "text": [
      "user 1, g: -0.004951989026063103,curr_delay = 0.07097182261874736, ucb: 2.878348671651886 num_of_obs: 33\n",
      "user 5, g: -0.0003429355281207133,curr_delay = 0.10113165846377492, ucb: 2.877877978348728 num_of_obs: 26\n",
      "user 7, g: -0.00012345679012345715,curr_delay = 0.1370146224602662, ucb: 2.868285342785568 num_of_obs: 25\n",
      "user 9, g: -1.3717421124828571e-05,curr_delay = 0.16291649583865953, ucb: 2.8674206327285643 num_of_obs: 24\n",
      "user 12, g: 1.3717421124828366e-05,curr_delay = 0.15054374776831014, ucb: 2.8697239570291924 num_of_obs: 23\n",
      "iteration136\n"
     ]
    },
    {
     "name": "stderr",
     "output_type": "stream",
     "text": [
      " 68%|██████▊   | 136/200 [01:46<00:51,  1.23it/s]"
     ]
    },
    {
     "name": "stdout",
     "output_type": "stream",
     "text": [
      "user 2, g: -0.0021686370626682046,curr_delay = 0.08173578953441023, ucb: 2.8557562969802723 num_of_obs: 30\n",
      "user 4, g: -0.0010152345251826218,curr_delay = 0.10672537690018978, ucb: 2.854380255692801 num_of_obs: 28\n",
      "user 6, g: -0.0002943579392541338,curr_delay = 0.09966038377200584, ucb: 2.8632923639267465 num_of_obs: 26\n",
      "user 15, g: 0.0007268838908112258,curr_delay = 0.6973870261583588, ucb: 2.8554620054575555 num_of_obs: 20\n",
      "user 16, g: 0.0007268838908112258,curr_delay = 0.7410277291981665, ucb: 2.8541202674218473 num_of_obs: 20\n",
      "iteration137\n"
     ]
    },
    {
     "name": "stderr",
     "output_type": "stream",
     "text": [
      " 68%|██████▊   | 137/200 [01:47<00:51,  1.23it/s]"
     ]
    },
    {
     "name": "stdout",
     "output_type": "stream",
     "text": [
      "user 13, g: 3.699954416561579e-05,curr_delay = 0.1786403199398452, ucb: 2.8538381606826175 num_of_obs: 23\n",
      "user 17, g: 0.0007829103545444316,curr_delay = 0.7407425641761227, ucb: 2.8549298321999492 num_of_obs: 20\n",
      "user 18, g: 0.0007829103545444316,curr_delay = 0.7733667244105259, ucb: 2.8533439450650344 num_of_obs: 20\n",
      "user 19, g: 0.0007829103545444316,curr_delay = 0.769561029119941, ucb: 2.8522532864668375 num_of_obs: 20\n",
      "user 20, g: 0.0007829103545444316,curr_delay = 0.7859475203186276, ucb: 2.8516096448428963 num_of_obs: 20\n",
      "iteration138\n"
     ]
    },
    {
     "name": "stderr",
     "output_type": "stream",
     "text": [
      " 69%|██████▉   | 138/200 [01:48<00:52,  1.18it/s]"
     ]
    },
    {
     "name": "stdout",
     "output_type": "stream",
     "text": [
      "user 3, g: -0.0018903591682419658,curr_delay = 0.09458510117005776, ucb: 2.8508043824710456 num_of_obs: 30\n",
      "user 14, g: 5.250997689561023e-05,curr_delay = 0.21549352075491085, ucb: 2.851127909033437 num_of_obs: 23\n",
      "user 21, g: 0.0008401596303297621,curr_delay = 0.788599294913874, ucb: 2.8521279368859265 num_of_obs: 20\n",
      "user 22, g: 0.0008401596303297621,curr_delay = 0.7941528830794441, ucb: 2.8511705792303297 num_of_obs: 20\n",
      "user 23, g: 0.0008401596303297621,curr_delay = 0.8171598288509707, ucb: 2.850221269854357 num_of_obs: 20\n",
      "iteration139\n"
     ]
    },
    {
     "name": "stderr",
     "output_type": "stream",
     "text": [
      " 70%|██████▉   | 139/200 [01:49<00:50,  1.21it/s]"
     ]
    },
    {
     "name": "stdout",
     "output_type": "stream",
     "text": [
      "user 24, g: 0.0008985617261586402,curr_delay = 0.8292348830018886, ucb: 2.8510611650436184 num_of_obs: 20\n",
      "user 25, g: 0.0008985617261586402,curr_delay = 0.8202455385047219, ucb: 2.850271098416838 num_of_obs: 20\n",
      "user 26, g: 0.0008985617261586402,curr_delay = 0.8739877956621676, ucb: 2.849801287086186 num_of_obs: 20\n",
      "user 27, g: 0.0008985617261586402,curr_delay = 0.8430987411966265, ucb: 2.848623755842925 num_of_obs: 20\n",
      "user 28, g: 0.0008985617261586402,curr_delay = 0.8776367586696039, ucb: 2.8477085334320087 num_of_obs: 20\n",
      "iteration140\n"
     ]
    },
    {
     "name": "stderr",
     "output_type": "stream",
     "text": [
      " 70%|███████   | 140/200 [01:49<00:49,  1.22it/s]"
     ]
    },
    {
     "name": "stdout",
     "output_type": "stream",
     "text": [
      "user 0, g: -0.006944444444444446,curr_delay = 0.05, ucb: 2.893477600433438 num_of_obs: 36\n",
      "user 1, g: -0.004767573696145126,curr_delay = 0.059739998687186255, ucb: 2.852530096531307 num_of_obs: 34\n",
      "user 5, g: -0.00036281179138322056,curr_delay = 0.09748469229554134, ucb: 2.841208582412907 num_of_obs: 27\n",
      "user 10, g: 5.668934240362771e-06,curr_delay = 0.18001493726885767, ucb: 2.849717266414624 num_of_obs: 24\n",
      "user 29, g: 0.0009580498866213153,curr_delay = 0.8902241441473706, ucb: 2.8489198464182404 num_of_obs: 20\n",
      "iteration141\n"
     ]
    },
    {
     "name": "stderr",
     "output_type": "stream",
     "text": [
      " 70%|███████   | 141/200 [01:50<00:47,  1.24it/s]"
     ]
    },
    {
     "name": "stdout",
     "output_type": "stream",
     "text": [
      "user 6, g: -0.0003143705045017855,curr_delay = 0.11795119428851457, ucb: 2.8274294200764065 num_of_obs: 27\n",
      "user 7, g: -0.00011317338162064315,curr_delay = 0.08591285610399348, ucb: 2.8278998793924215 num_of_obs: 26\n",
      "user 8, g: -1.2574820180071461e-05,curr_delay = 0.16416487559991788, ucb: 2.8394599116607906 num_of_obs: 25\n",
      "user 11, g: 1.2574820180071264e-05,curr_delay = 0.17411979466151403, ucb: 2.8339783645173786 num_of_obs: 24\n",
      "user 12, g: 1.2574820180071264e-05,curr_delay = 0.15411712327154894, ucb: 2.82618021572788 num_of_obs: 24\n",
      "iteration142\n"
     ]
    },
    {
     "name": "stderr",
     "output_type": "stream",
     "text": [
      " 71%|███████   | 142/200 [01:51<00:47,  1.23it/s]"
     ]
    },
    {
     "name": "stdout",
     "output_type": "stream",
     "text": [
      "user 0, g: -0.0075436972382022975,curr_delay = 0.059466063141760915, ucb: 2.8721745225568225 num_of_obs: 37\n",
      "user 1, g: -0.0052954660671383534,curr_delay = 0.059533085244097825, ucb: 2.8271803099520696 num_of_obs: 35\n",
      "user 2, g: -0.0019892437567502045,curr_delay = 0.07581458741592789, ucb: 2.8279269832762903 num_of_obs: 31\n",
      "user 4, g: -0.0009312526174259955,curr_delay = 0.09271754149446425, ucb: 2.820569899153485 num_of_obs: 29\n",
      "user 9, g: -5.5103705173136126e-06,curr_delay = 0.13623129090827674, ucb: 2.8255957973524857 num_of_obs: 25\n",
      "iteration143\n"
     ]
    },
    {
     "name": "stderr",
     "output_type": "stream",
     "text": [
      " 72%|███████▏  | 143/200 [01:52<00:45,  1.26it/s]"
     ]
    },
    {
     "name": "stdout",
     "output_type": "stream",
     "text": [
      "user 0, g: -0.008477730505702536,curr_delay = 0.05, ucb: 2.84596579919011 num_of_obs: 38\n",
      "user 3, g: -0.0018596399715280843,curr_delay = 0.07177687446634871, ucb: 2.8187101138601554 num_of_obs: 31\n",
      "user 5, g: -0.0004903798610092316,curr_delay = 0.13275690234590481, ucb: 2.8037989209831076 num_of_obs: 28\n",
      "user 13, g: 3.395982416961434e-05,curr_delay = 0.19467853623252432, ucb: 2.808621259389394 num_of_obs: 24\n",
      "user 14, g: 3.395982416961434e-05,curr_delay = 0.20450920680243223, ucb: 2.8021171870210764 num_of_obs: 24\n",
      "iteration144\n"
     ]
    },
    {
     "name": "stderr",
     "output_type": "stream",
     "text": [
      " 72%|███████▏  | 144/200 [01:53<00:44,  1.27it/s]"
     ]
    },
    {
     "name": "stdout",
     "output_type": "stream",
     "text": [
      "user 1, g: -0.005835262345679013,curr_delay = 0.053901476993162695, ucb: 2.8029629225825725 num_of_obs: 36\n",
      "user 10, g: 0.0,curr_delay = 0.17618295890711022, ucb: 2.8019556682096605 num_of_obs: 25\n",
      "user 15, g: 0.000771604938271604,curr_delay = 0.7593267254923879, ucb: 2.800754942143909 num_of_obs: 21\n",
      "user 16, g: 0.000771604938271604,curr_delay = 0.7133462326210441, ucb: 2.799269173904076 num_of_obs: 21\n",
      "user 17, g: 0.000771604938271604,curr_delay = 0.7295439412777246, ucb: 2.7980674690032217 num_of_obs: 21\n",
      "iteration145\n"
     ]
    },
    {
     "name": "stderr",
     "output_type": "stream",
     "text": [
      " 72%|███████▎  | 145/200 [01:53<00:43,  1.26it/s]"
     ]
    },
    {
     "name": "stdout",
     "output_type": "stream",
     "text": [
      "user 2, g: -0.00222090104373101,curr_delay = 0.07081418095940635, ucb: 2.7982039067089945 num_of_obs: 32\n",
      "user 18, g: 0.0008257365570088515,curr_delay = 0.7446331085244899, ucb: 2.798318830727614 num_of_obs: 21\n",
      "user 19, g: 0.0008257365570088515,curr_delay = 0.7666461226754224, ucb: 2.7972986912678275 num_of_obs: 21\n",
      "user 20, g: 0.0008257365570088515,curr_delay = 0.7946371431683654, ucb: 2.796619500432632 num_of_obs: 21\n",
      "user 21, g: 0.0008257365570088515,curr_delay = 0.7992658798648266, ucb: 2.7951448858759913 num_of_obs: 21\n",
      "iteration146\n"
     ]
    },
    {
     "name": "stderr",
     "output_type": "stream",
     "text": [
      " 73%|███████▎  | 146/200 [01:54<00:42,  1.26it/s]"
     ]
    },
    {
     "name": "stdout",
     "output_type": "stream",
     "text": [
      "user 7, g: -0.00013031421363190925,curr_delay = 0.11328924018422683, ucb: 2.7963210064152957 num_of_obs: 27\n",
      "user 8, g: -2.0850274181105478e-05,curr_delay = 0.1437940319297654, ucb: 2.795864589368294 num_of_obs: 26\n",
      "user 22, g: 0.0008809240841517065,curr_delay = 0.7921849624837959, ucb: 2.796099185902562 num_of_obs: 21\n",
      "user 23, g: 0.0008809240841517065,curr_delay = 0.8114810842885773, ucb: 2.795108710545908 num_of_obs: 21\n",
      "user 24, g: 0.0008809240841517065,curr_delay = 0.810249769765737, ucb: 2.7939213180932323 num_of_obs: 21\n",
      "iteration147\n"
     ]
    },
    {
     "name": "stderr",
     "output_type": "stream",
     "text": [
      " 74%|███████▎  | 147/200 [01:55<00:42,  1.24it/s]"
     ]
    },
    {
     "name": "stdout",
     "output_type": "stream",
     "text": [
      "user 6, g: -0.00028923133879402163,curr_delay = 0.14473307914307293, ucb: 2.792096371351198 num_of_obs: 28\n",
      "user 25, g: 0.0009371095376926267,curr_delay = 0.8439899521231412, ucb: 2.7950755941767484 num_of_obs: 21\n",
      "user 26, g: 0.0009371095376926267,curr_delay = 0.8472565446256218, ucb: 2.794441857411855 num_of_obs: 21\n",
      "user 27, g: 0.0009371095376926267,curr_delay = 0.8760180969524298, ucb: 2.793428002617681 num_of_obs: 21\n",
      "user 28, g: 0.0009371095376926267,curr_delay = 0.8924660033823347, ucb: 2.7924418484985134 num_of_obs: 21\n",
      "iteration148\n"
     ]
    },
    {
     "name": "stderr",
     "output_type": "stream",
     "text": [
      " 74%|███████▍  | 148/200 [01:56<00:41,  1.25it/s]"
     ]
    },
    {
     "name": "stdout",
     "output_type": "stream",
     "text": [
      "user 0, g: -0.008116224332440547,curr_delay = 0.06460377970894376, ucb: 2.8304480108054815 num_of_obs: 39\n",
      "user 3, g: -0.0018312231150068993,curr_delay = 0.12289845751736041, ucb: 2.7934669008899453 num_of_obs: 32\n",
      "user 4, g: -0.0008572761951140334,curr_delay = 0.08997178990534785, ucb: 2.7907197190936643 num_of_obs: 30\n",
      "user 11, g: 2.029056083110121e-05,curr_delay = 0.21432031776637425, ucb: 2.7923739269628536 num_of_obs: 25\n",
      "user 29, g: 0.000994237480723966,curr_delay = 0.8898180652312919, ucb: 2.7934847335286506 num_of_obs: 21\n",
      "iteration149\n"
     ]
    },
    {
     "name": "stderr",
     "output_type": "stream",
     "text": [
      " 74%|███████▍  | 149/200 [01:57<00:40,  1.27it/s]"
     ]
    },
    {
     "name": "stdout",
     "output_type": "stream",
     "text": [
      "user 0, g: -0.009039883088349377,curr_delay = 0.05, ucb: 2.8043371429687873 num_of_obs: 40\n",
      "user 1, g: -0.005616613866242265,curr_delay = 0.059318383195633505, ucb: 2.7863104818965185 num_of_obs: 37\n",
      "user 2, g: -0.0023134593536827674,curr_delay = 0.08162597756743281, ucb: 2.772740416507798 num_of_obs: 33\n",
      "user 9, g: -1.2511948911210583e-06,curr_delay = 0.149515554781561, ucb: 2.7883341013281906 num_of_obs: 26\n",
      "user 12, g: 3.127987227802553e-05,curr_delay = 0.19591327620842525, ucb: 2.7881370267997325 num_of_obs: 25\n",
      "iteration150\n"
     ]
    },
    {
     "name": "stderr",
     "output_type": "stream",
     "text": [
      " 75%|███████▌  | 150/200 [01:57<00:39,  1.26it/s]"
     ]
    },
    {
     "name": "stdout",
     "output_type": "stream",
     "text": [
      "user 5, g: -0.0004000000000000007,curr_delay = 0.09621048610775329, ucb: 2.769742143213859 num_of_obs: 29\n",
      "user 7, g: -0.00017777777777777784,curr_delay = 0.1421145489036102, ucb: 2.759460443757815 num_of_obs: 28\n",
      "user 10, g: 0.0,curr_delay = 0.1637829131304274, ucb: 2.7605785165763237 num_of_obs: 26\n",
      "user 13, g: 4.444444444444428e-05,curr_delay = 0.18612418847315282, ucb: 2.7667018832938637 num_of_obs: 25\n",
      "user 14, g: 4.444444444444428e-05,curr_delay = 0.21465924787663687, ucb: 2.7599544020853686 num_of_obs: 25\n",
      "iteration151\n"
     ]
    },
    {
     "name": "stderr",
     "output_type": "stream",
     "text": [
      " 76%|███████▌  | 151/200 [01:58<00:39,  1.24it/s]"
     ]
    },
    {
     "name": "stdout",
     "output_type": "stream",
     "text": [
      "user 0, g: -0.009649917888591637,curr_delay = 0.06470525510434169, ucb: 2.7861769727037817 num_of_obs: 41\n",
      "user 1, g: -0.006141299845523346,curr_delay = 0.09809509944402368, ucb: 2.763874147965568 num_of_obs: 38\n",
      "user 3, g: -0.0020479121286103444,curr_delay = 0.08533809839760781, ucb: 2.7573145327978734 num_of_obs: 33\n",
      "user 4, g: -0.0010245651993820932,curr_delay = 0.1267347491036112, ucb: 2.7582772235205004 num_of_obs: 31\n",
      "user 8, g: -3.045675384607888e-05,curr_delay = 0.1683258892976366, ucb: 2.756360044149841 num_of_obs: 27\n",
      "iteration152\n"
     ]
    },
    {
     "name": "stderr",
     "output_type": "stream",
     "text": [
      " 76%|███████▌  | 152/200 [01:59<00:37,  1.26it/s]"
     ]
    },
    {
     "name": "stdout",
     "output_type": "stream",
     "text": [
      "user 6, g: -0.0003077870113881194,curr_delay = 0.10535348177403453, ucb: 2.7541198979185992 num_of_obs: 29\n",
      "user 11, g: 4.809172052939274e-06,curr_delay = 0.1922548566864108, ucb: 2.74601222789999 num_of_obs: 26\n",
      "user 15, g: 0.0008127500769467516,curr_delay = 0.6827296832409306, ucb: 2.749190991205135 num_of_obs: 22\n",
      "user 16, g: 0.0008127500769467516,curr_delay = 0.7229799334476515, ucb: 2.7479780873112225 num_of_obs: 22\n",
      "user 17, g: 0.0008127500769467516,curr_delay = 0.7413772850158485, ucb: 2.7467595006079226 num_of_obs: 22\n",
      "iteration153\n"
     ]
    },
    {
     "name": "stderr",
     "output_type": "stream",
     "text": [
      " 76%|███████▋  | 153/200 [02:00<00:39,  1.19it/s]"
     ]
    },
    {
     "name": "stdout",
     "output_type": "stream",
     "text": [
      "user 2, g: -0.0024029219530949655,curr_delay = 0.09760920891930278, ucb: 2.745482937300325 num_of_obs: 34\n",
      "user 9, g: -1.067965312486661e-05,curr_delay = 0.17933188712392528, ucb: 2.7469668206434656 num_of_obs: 27\n",
      "user 18, g: 0.0008650519031141856,curr_delay = 0.7486958726475155, ucb: 2.746870722390706 num_of_obs: 22\n",
      "user 19, g: 0.0008650519031141856,curr_delay = 0.7526423462094849, ucb: 2.7458073503769844 num_of_obs: 22\n",
      "user 20, g: 0.0008650519031141856,curr_delay = 0.799489410381984, ucb: 2.7450511049059254 num_of_obs: 22\n",
      "iteration154\n"
     ]
    },
    {
     "name": "stderr",
     "output_type": "stream",
     "text": [
      " 77%|███████▋  | 154/200 [02:01<00:38,  1.20it/s]"
     ]
    },
    {
     "name": "stdout",
     "output_type": "stream",
     "text": [
      "user 12, g: 1.8740278480538153e-05,curr_delay = 0.18834600850370672, ucb: 2.7443978002496463 num_of_obs: 26\n",
      "user 21, g: 0.0009182736455463729,curr_delay = 0.7969222876247828, ucb: 2.745364642512373 num_of_obs: 22\n",
      "user 22, g: 0.0009182736455463729,curr_delay = 0.8195423030045483, ucb: 2.7445039751070843 num_of_obs: 22\n",
      "user 23, g: 0.0009182736455463729,curr_delay = 0.8394031921038775, ucb: 2.7434891965659842 num_of_obs: 22\n",
      "user 24, g: 0.0009182736455463729,curr_delay = 0.8206768927267349, ucb: 2.742362805456248 num_of_obs: 22\n",
      "iteration155\n"
     ]
    },
    {
     "name": "stderr",
     "output_type": "stream",
     "text": [
      " 78%|███████▊  | 155/200 [02:02<00:36,  1.22it/s]"
     ]
    },
    {
     "name": "stdout",
     "output_type": "stream",
     "text": [
      "user 25, g: 0.0009723667476008774,curr_delay = 0.8326888077753866, ucb: 2.7432849182669554 num_of_obs: 22\n",
      "user 26, g: 0.0009723667476008774,curr_delay = 0.8648132501670837, ucb: 2.742670482835611 num_of_obs: 22\n",
      "user 27, g: 0.0009723667476008774,curr_delay = 0.8729442356476766, ucb: 2.741612642258512 num_of_obs: 22\n",
      "user 28, g: 0.0009723667476008774,curr_delay = 0.8889838852841756, ucb: 2.740623357219757 num_of_obs: 22\n",
      "user 29, g: 0.0009723667476008774,curr_delay = 0.9039231927804251, ucb: 2.739855146813418 num_of_obs: 22\n",
      "iteration156\n"
     ]
    },
    {
     "name": "stderr",
     "output_type": "stream",
     "text": [
      " 78%|███████▊  | 156/200 [02:02<00:36,  1.21it/s]"
     ]
    },
    {
     "name": "stdout",
     "output_type": "stream",
     "text": [
      "user 3, g: -0.002013477975016437,curr_delay = 0.08420862052020929, ucb: 2.7310441516233097 num_of_obs: 34\n",
      "user 4, g: -0.0010272846811308347,curr_delay = 0.0871696790890889, ucb: 2.7250007522705624 num_of_obs: 32\n",
      "user 5, g: -0.0003698224852071012,curr_delay = 0.10994473322387666, ucb: 2.740645380727503 num_of_obs: 30\n",
      "user 7, g: -0.00016436554898093385,curr_delay = 0.1391635459818325, ucb: 2.724275474607589 num_of_obs: 29\n",
      "user 13, g: 4.109138724523311e-05,curr_delay = 0.18459399704267804, ucb: 2.7258998357932374 num_of_obs: 26\n",
      "iteration157\n"
     ]
    },
    {
     "name": "stderr",
     "output_type": "stream",
     "text": [
      " 78%|███████▊  | 157/200 [02:03<00:35,  1.20it/s]"
     ]
    },
    {
     "name": "stdout",
     "output_type": "stream",
     "text": [
      "user 1, g: -0.005680870533400049,curr_delay = 0.07013674897389038, ucb: 2.738629296382509 num_of_obs: 39\n",
      "user 6, g: -0.00032568371040519995,curr_delay = 0.13031547824259795, ucb: 2.7224973353796136 num_of_obs: 30\n",
      "user 8, g: -2.8173331349930793e-05,curr_delay = 0.16913441104370325, ucb: 2.7185614787206007 num_of_obs: 28\n",
      "user 10, g: 1.1269332539972318e-06,curr_delay = 0.16545168398576904, ucb: 2.72375619593558 num_of_obs: 27\n",
      "user 14, g: 5.5219729445864356e-05,curr_delay = 0.20393215377529372, ucb: 2.7195507690782454 num_of_obs: 26\n",
      "iteration158\n"
     ]
    },
    {
     "name": "stderr",
     "output_type": "stream",
     "text": [
      " 79%|███████▉  | 158/200 [02:04<00:34,  1.22it/s]"
     ]
    },
    {
     "name": "stdout",
     "output_type": "stream",
     "text": [
      "user 1, g: -0.006427032704872798,curr_delay = 0.11134267403880924, ucb: 2.7133735010531335 num_of_obs: 40\n",
      "user 2, g: -0.002354501593405617,curr_delay = 0.09374116882675959, ucb: 2.717736303451874 num_of_obs: 35\n",
      "user 5, g: -0.0005385532945218903,curr_delay = 0.1146601874541663, ucb: 2.7050528807266994 num_of_obs: 31\n",
      "user 9, g: -1.7803414694938523e-05,curr_delay = 0.16107841785039226, ucb: 2.707292493378341 num_of_obs: 28\n",
      "user 11, g: 4.450853673734631e-06,curr_delay = 0.16284495286542336, ucb: 2.7064130788644936 num_of_obs: 27\n",
      "iteration159\n"
     ]
    },
    {
     "name": "stderr",
     "output_type": "stream",
     "text": [
      " 80%|███████▉  | 159/200 [02:05<00:33,  1.22it/s]"
     ]
    },
    {
     "name": "stdout",
     "output_type": "stream",
     "text": [
      "user 3, g: -0.0022249911000356013,curr_delay = 0.06649611673406022, ucb: 2.7034341470300896 num_of_obs: 35\n",
      "user 12, g: 9.88884933349155e-06,curr_delay = 0.19883376768592637, ucb: 2.7035043662428144 num_of_obs: 27\n",
      "user 15, g: 0.0008009967960128156,curr_delay = 0.717219124866043, ucb: 2.6994369360265025 num_of_obs: 23\n",
      "user 16, g: 0.0008009967960128156,curr_delay = 0.7018856027798697, ucb: 2.6980938361959437 num_of_obs: 23\n",
      "user 17, g: 0.0008009967960128156,curr_delay = 0.7716043346889297, ucb: 2.696852632162201 num_of_obs: 23\n",
      "iteration160\n"
     ]
    },
    {
     "name": "stderr",
     "output_type": "stream",
     "text": [
      " 80%|████████  | 160/200 [02:06<00:32,  1.25it/s]"
     ]
    },
    {
     "name": "stdout",
     "output_type": "stream",
     "text": [
      "user 4, g: -0.0011111111111111124,curr_delay = 0.0836565697089381, ucb: 2.697484005418191 num_of_obs: 33\n",
      "user 18, g: 0.0008506944444444433,curr_delay = 0.752176435086126, ucb: 2.696885910885437 num_of_obs: 23\n",
      "user 19, g: 0.0008506944444444433,curr_delay = 0.783086185344388, ucb: 2.695854956918666 num_of_obs: 23\n",
      "user 20, g: 0.0008506944444444433,curr_delay = 0.8049800096612825, ucb: 2.694956145298604 num_of_obs: 23\n",
      "user 21, g: 0.0008506944444444433,curr_delay = 0.7703146308466676, ucb: 2.6936081804582828 num_of_obs: 23\n",
      "iteration161\n"
     ]
    },
    {
     "name": "stderr",
     "output_type": "stream",
     "text": [
      " 80%|████████  | 161/200 [02:06<00:30,  1.26it/s]"
     ]
    },
    {
     "name": "stdout",
     "output_type": "stream",
     "text": [
      "user 22, g: 0.0009012426646777163,curr_delay = 0.8241153754169936, ucb: 2.694322230259483 num_of_obs: 23\n",
      "user 23, g: 0.0009012426646777163,curr_delay = 0.8401358074180679, ucb: 2.693287962882077 num_of_obs: 23\n",
      "user 24, g: 0.0009012426646777163,curr_delay = 0.8292900027073361, ucb: 2.6922745525859195 num_of_obs: 23\n",
      "user 25, g: 0.0009012426646777163,curr_delay = 0.8590887200278198, ucb: 2.691470175930384 num_of_obs: 23\n",
      "user 26, g: 0.0009012426646777163,curr_delay = 0.8714352209946289, ucb: 2.690782283412602 num_of_obs: 23\n",
      "iteration162\n"
     ]
    },
    {
     "name": "stderr",
     "output_type": "stream",
     "text": [
      " 81%|████████  | 162/200 [02:07<00:30,  1.26it/s]"
     ]
    },
    {
     "name": "stdout",
     "output_type": "stream",
     "text": [
      "user 6, g: -0.0003429355281207133,curr_delay = 0.11805582255456826, ucb: 2.6892916716411808 num_of_obs: 31\n",
      "user 7, g: -0.00015241579027587256,curr_delay = 0.13587964323069168, ucb: 2.6910018009940315 num_of_obs: 30\n",
      "user 27, g: 0.0009525986892242036,curr_delay = 0.8840718166563512, ucb: 2.691351382282663 num_of_obs: 23\n",
      "user 28, g: 0.0009525986892242036,curr_delay = 0.8662673269818665, ucb: 2.690360090284086 num_of_obs: 23\n",
      "user 29, g: 0.0009525986892242036,curr_delay = 0.9139211246003196, ucb: 2.689584546036337 num_of_obs: 23\n",
      "iteration163\n"
     ]
    },
    {
     "name": "stderr",
     "output_type": "stream",
     "text": [
      " 82%|████████▏ | 163/200 [02:08<00:30,  1.23it/s]"
     ]
    },
    {
     "name": "stdout",
     "output_type": "stream",
     "text": [
      "user 0, g: -0.007202420531864621,curr_delay = 0.06539907562774867, ucb: 2.775125407928237 num_of_obs: 42\n",
      "user 1, g: -0.006198744568649346,curr_delay = 0.05853474710287651, ucb: 2.687263687633086 num_of_obs: 41\n",
      "user 2, g: -0.0023095002111901525,curr_delay = 0.06650408267758583, ucb: 2.691700567142866 num_of_obs: 36\n",
      "user 10, g: 1.0454957950159192e-06,curr_delay = 0.166806159064953, ucb: 2.687150877151098 num_of_obs: 28\n",
      "user 13, g: 5.122929395577965e-05,curr_delay = 0.17963429496073716, ucb: 2.6888192584691346 num_of_obs: 27\n",
      "iteration164\n"
     ]
    },
    {
     "name": "stderr",
     "output_type": "stream",
     "text": [
      " 82%|████████▏ | 164/200 [02:09<00:29,  1.24it/s]"
     ]
    },
    {
     "name": "stdout",
     "output_type": "stream",
     "text": [
      "user 0, g: -0.007997884856897352,curr_delay = 0.05, ucb: 2.7512437021385043 num_of_obs: 43\n",
      "user 3, g: -0.0021853724634807326,curr_delay = 0.0937831392111669, ucb: 2.684026194961068 num_of_obs: 36\n",
      "user 5, g: -0.0004998678035560848,curr_delay = 0.0918645926927641, ucb: 2.6759859306384475 num_of_obs: 32\n",
      "user 8, g: -1.6524555489457512e-05,curr_delay = 0.1263047920466359, ucb: 2.6839872487659435 num_of_obs: 29\n",
      "user 14, g: 6.609822195782915e-05,curr_delay = 0.18150062280330637, ucb: 2.6816844941439344 num_of_obs: 27\n",
      "iteration165\n"
     ]
    },
    {
     "name": "stderr",
     "output_type": "stream",
     "text": [
      " 82%|████████▎ | 165/200 [02:10<00:28,  1.24it/s]"
     ]
    },
    {
     "name": "stdout",
     "output_type": "stream",
     "text": [
      "user 0, g: -0.008824609733700648,curr_delay = 0.07389570652325186, ucb: 2.733703487608115 num_of_obs: 44\n",
      "user 2, g: -0.0026538108356290173,curr_delay = 0.06897830187162095, ucb: 2.6690968862743008 num_of_obs: 37\n",
      "user 4, g: -0.0011111111111111124,curr_delay = 0.1092494789096359, ucb: 2.673150991785313 num_of_obs: 34\n",
      "user 9, g: -9.182736455463847e-06,curr_delay = 0.1325195060226831, ucb: 2.6736069466016303 num_of_obs: 29\n",
      "user 11, g: 9.182736455463678e-06,curr_delay = 0.17069033997044586, ucb: 2.6720155370311556 num_of_obs: 28\n",
      "iteration166\n"
     ]
    },
    {
     "name": "stderr",
     "output_type": "stream",
     "text": [
      " 83%|████████▎ | 166/200 [02:10<00:27,  1.23it/s]"
     ]
    },
    {
     "name": "stdout",
     "output_type": "stream",
     "text": [
      "user 1, g: -0.006451508846631506,curr_delay = 0.07729856646261464, ucb: 2.6696966580749026 num_of_obs: 42\n",
      "user 3, g: -0.0025201206432154334,curr_delay = 0.09695356357020113, ucb: 2.655561903420051 num_of_obs: 37\n",
      "user 6, g: -0.00040321930291446913,curr_delay = 0.10710576699898311, ucb: 2.6575971339299453 num_of_obs: 32\n",
      "user 7, g: -0.0001975774584280901,curr_delay = 0.13824560773618697, ucb: 2.656879410979371 num_of_obs: 31\n",
      "user 12, g: 1.612877211657872e-05,curr_delay = 0.18375447758281435, ucb: 2.6671153829183982 num_of_obs: 28\n",
      "iteration167\n"
     ]
    },
    {
     "name": "stderr",
     "output_type": "stream",
     "text": [
      " 84%|████████▎ | 167/200 [02:11<00:27,  1.21it/s]"
     ]
    },
    {
     "name": "stdout",
     "output_type": "stream",
     "text": [
      "user 13, g: 2.4900299201995142e-05,curr_delay = 0.21495057258889394, ucb: 2.6496686255840265 num_of_obs: 28\n",
      "user 15, g: 0.0008376460651551182,curr_delay = 0.7122933590938324, ucb: 2.6540411206912107 num_of_obs: 24\n",
      "user 16, g: 0.0008376460651551182,curr_delay = 0.6912309678412826, ucb: 2.65282263295576 num_of_obs: 24\n",
      "user 17, g: 0.0008376460651551182,curr_delay = 0.7404649327179413, ucb: 2.6513555408715708 num_of_obs: 24\n",
      "user 18, g: 0.0008376460651551182,curr_delay = 0.7550618540061024, ucb: 2.649905382043497 num_of_obs: 24\n",
      "iteration168\n"
     ]
    },
    {
     "name": "stderr",
     "output_type": "stream",
     "text": [
      " 84%|████████▍ | 168/200 [02:12<00:27,  1.16it/s]"
     ]
    },
    {
     "name": "stdout",
     "output_type": "stream",
     "text": [
      "user 5, g: -0.0005668934240362811,curr_delay = 0.11535358517820728, ucb: 2.64896640580433 num_of_obs: 33\n",
      "user 8, g: -3.543083900226765e-05,curr_delay = 0.11586836187547617, ucb: 2.6504557866672926 num_of_obs: 30\n",
      "user 10, g: 0.0,curr_delay = 0.13165871332547552, ucb: 2.6509009754750648 num_of_obs: 29\n",
      "user 19, g: 0.000885770975056688,curr_delay = 0.7394596372056674, ucb: 2.6503116987599693 num_of_obs: 24\n",
      "user 20, g: 0.000885770975056688,curr_delay = 0.7928447930049083, ucb: 2.64937646204871 num_of_obs: 24\n",
      "iteration169\n"
     ]
    },
    {
     "name": "stderr",
     "output_type": "stream",
     "text": [
      " 84%|████████▍ | 169/200 [02:13<00:28,  1.10it/s]"
     ]
    },
    {
     "name": "stdout",
     "output_type": "stream",
     "text": [
      "user 2, g: -0.002731969391049957,curr_delay = 0.07684978841652056, ucb: 2.64900124310456 num_of_obs: 38\n",
      "user 21, g: 0.0009346467016016395,curr_delay = 0.783074592676091, ucb: 2.6497053505855077 num_of_obs: 24\n",
      "user 22, g: 0.0009346467016016395,curr_delay = 0.79523861574687, ucb: 2.6486599961049735 num_of_obs: 24\n",
      "user 23, g: 0.0009346467016016395,curr_delay = 0.8083867203068542, ucb: 2.6476203956126243 num_of_obs: 24\n",
      "user 24, g: 0.0009346467016016395,curr_delay = 0.8412607986631565, ucb: 2.6466848880104923 num_of_obs: 24\n",
      "iteration170\n"
     ]
    },
    {
     "name": "stderr",
     "output_type": "stream",
     "text": [
      " 85%|████████▌ | 170/200 [02:14<00:26,  1.14it/s]"
     ]
    },
    {
     "name": "stdout",
     "output_type": "stream",
     "text": [
      "user 4, g: -0.0011111111111111124,curr_delay = 0.10518728958986369, ucb: 2.64563268832845 num_of_obs: 35\n",
      "user 14, g: 6.151480199923106e-05,curr_delay = 0.18839725727416268, ucb: 2.64543527718434 num_of_obs: 28\n",
      "user 25, g: 0.000984236831987697,curr_delay = 0.8500025942905304, ucb: 2.647311584458269 num_of_obs: 24\n",
      "user 26, g: 0.000984236831987697,curr_delay = 0.8553342855722634, ucb: 2.6466177483480013 num_of_obs: 24\n",
      "user 27, g: 0.000984236831987697,curr_delay = 0.8633623788760258, ucb: 2.64559282246509 num_of_obs: 24\n",
      "iteration171\n"
     ]
    },
    {
     "name": "stderr",
     "output_type": "stream",
     "text": [
      " 86%|████████▌ | 171/200 [02:15<00:25,  1.16it/s]"
     ]
    },
    {
     "name": "stdout",
     "output_type": "stream",
     "text": [
      "user 0, g: -0.008216203276221742,curr_delay = 0.06561930610241717, ucb: 2.714791024045737 num_of_obs: 45\n",
      "user 1, g: -0.006232686980609418,curr_delay = 0.05158147181519056, ucb: 2.649957344844843 num_of_obs: 43\n",
      "user 9, g: -8.549639205225538e-06,curr_delay = 0.16747047376380336, ucb: 2.6424215036639263 num_of_obs: 30\n",
      "user 28, g: 0.0010345063438322903,curr_delay = 0.8779635210546247, ucb: 2.6461726294926287 num_of_obs: 24\n",
      "user 29, g: 0.0010345063438322903,curr_delay = 0.8866955046767733, ucb: 2.645299952960975 num_of_obs: 24\n",
      "iteration172\n"
     ]
    },
    {
     "name": "stderr",
     "output_type": "stream",
     "text": [
      " 86%|████████▌ | 172/200 [02:16<00:23,  1.18it/s]"
     ]
    },
    {
     "name": "stdout",
     "output_type": "stream",
     "text": [
      "user 1, g: -0.006944444444444446,curr_delay = 0.11098162272539522, ucb: 2.6340995873446826 num_of_obs: 44\n",
      "user 3, g: -0.0023473649420106967,curr_delay = 0.10305975898875545, ucb: 2.632486769426841 num_of_obs: 38\n",
      "user 6, g: -0.0003755783907217117,curr_delay = 0.12682123852635316, ucb: 2.6312025608191427 num_of_obs: 33\n",
      "user 11, g: 1.5023135628868296e-05,curr_delay = 0.16641003784346312, ucb: 2.6386918546056717 num_of_obs: 29\n",
      "user 12, g: 1.5023135628868296e-05,curr_delay = 0.18076607879102888, ucb: 2.631864324682786 num_of_obs: 29\n",
      "iteration173\n"
     ]
    },
    {
     "name": "stderr",
     "output_type": "stream",
     "text": [
      " 86%|████████▋ | 173/200 [02:16<00:22,  1.20it/s]"
     ]
    },
    {
     "name": "stdout",
     "output_type": "stream",
     "text": [
      "user 2, g: -0.002807570509464994,curr_delay = 0.061843271047215556, ucb: 2.627651541879298 num_of_obs: 39\n",
      "user 5, g: -0.0005800765515423538,curr_delay = 0.09699111838391151, ucb: 2.620949990954117 num_of_obs: 34\n",
      "user 7, g: -0.00015685269953705257,curr_delay = 0.14417142608613062, ucb: 2.6279763769102957 num_of_obs: 32\n",
      "user 8, g: -4.547800164092063e-05,curr_delay = 0.11484390242938669, ucb: 2.6210068986966073 num_of_obs: 31\n",
      "user 10, g: -9.281224824677832e-07,curr_delay = 0.16118190692053885, ucb: 2.619208798713815 num_of_obs: 30\n",
      "iteration174\n"
     ]
    },
    {
     "name": "stderr",
     "output_type": "stream",
     "text": [
      " 87%|████████▋ | 174/200 [02:17<00:21,  1.21it/s]"
     ]
    },
    {
     "name": "stdout",
     "output_type": "stream",
     "text": [
      "user 4, g: -0.0011890606420927477,curr_delay = 0.09177084192388345, ucb: 2.6185599520964624 num_of_obs: 36\n",
      "user 13, g: 3.3029462280353996e-05,curr_delay = 0.15079778713541264, ucb: 2.614916360512801 num_of_obs: 29\n",
      "user 14, g: 3.3029462280353996e-05,curr_delay = 0.1976367888724608, ucb: 2.608008777464018 num_of_obs: 29\n",
      "user 15, g: 0.0008257365570088515,curr_delay = 0.6966318077732082, ucb: 2.6097619203706173 num_of_obs: 25\n",
      "user 16, g: 0.0008257365570088515,curr_delay = 0.7550042396956808, ucb: 2.608683324841015 num_of_obs: 25\n",
      "iteration175\n"
     ]
    },
    {
     "name": "stderr",
     "output_type": "stream",
     "text": [
      " 88%|████████▊ | 175/200 [02:18<00:21,  1.19it/s]"
     ]
    },
    {
     "name": "stdout",
     "output_type": "stream",
     "text": [
      "user 3, g: -0.0025478458049886625,curr_delay = 0.08612453106333823, ucb: 2.606062811060625 num_of_obs: 39\n",
      "user 9, g: -2.267573696145135e-05,curr_delay = 0.16931056063848487, ucb: 2.607498031868407 num_of_obs: 31\n",
      "user 17, g: 0.000871655328798185,curr_delay = 0.7685019251690561, ucb: 2.6084869819505667 num_of_obs: 25\n",
      "user 18, g: 0.000871655328798185,curr_delay = 0.7449784922887335, ucb: 2.607042854660651 num_of_obs: 25\n",
      "user 19, g: 0.000871655328798185,curr_delay = 0.7940439988110994, ucb: 2.6060467039080395 num_of_obs: 25\n",
      "iteration176\n"
     ]
    },
    {
     "name": "stderr",
     "output_type": "stream",
     "text": [
      " 88%|████████▊ | 176/200 [02:19<00:19,  1.20it/s]"
     ]
    },
    {
     "name": "stdout",
     "output_type": "stream",
     "text": [
      "user 11, g: 3.5870064279155124e-06,curr_delay = 0.16052504850380403, ucb: 2.603345708023224 num_of_obs: 30\n",
      "user 20, g: 0.0009182736455463729,curr_delay = 0.7836816402807321, ucb: 2.6063619411351877 num_of_obs: 25\n",
      "user 21, g: 0.0009182736455463729,curr_delay = 0.7684936717788841, ucb: 2.6052755579957347 num_of_obs: 25\n",
      "user 22, g: 0.0009182736455463729,curr_delay = 0.8254197746621865, ucb: 2.604233065481213 num_of_obs: 25\n",
      "user 23, g: 0.0009182736455463729,curr_delay = 0.8317706292626238, ucb: 2.6031941722896095 num_of_obs: 25\n",
      "iteration177\n"
     ]
    },
    {
     "name": "stderr",
     "output_type": "stream",
     "text": [
      " 88%|████████▊ | 177/200 [02:20<00:19,  1.19it/s]"
     ]
    },
    {
     "name": "stdout",
     "output_type": "stream",
     "text": [
      "user 2, g: -0.0028807175460436023,curr_delay = 0.0983951616704111, ucb: 2.611108663702482 num_of_obs: 40\n",
      "user 6, g: -0.0003910115228701847,curr_delay = 0.12808773303862206, ucb: 2.602457362995441 num_of_obs: 34\n",
      "user 24, g: 0.0009655590666794338,curr_delay = 0.8433498619865181, ucb: 2.6035894420706636 num_of_obs: 25\n",
      "user 25, g: 0.0009655590666794338,curr_delay = 0.8624871594402733, ucb: 2.6027394891391067 num_of_obs: 25\n",
      "user 26, g: 0.0009655590666794338,curr_delay = 0.8515630133491173, ucb: 2.6020592848273796 num_of_obs: 25\n",
      "iteration178\n"
     ]
    },
    {
     "name": "stderr",
     "output_type": "stream",
     "text": [
      " 89%|████████▉ | 178/200 [02:21<00:18,  1.21it/s]"
     ]
    },
    {
     "name": "stdout",
     "output_type": "stream",
     "text": [
      "user 0, g: -0.007420499656328469,curr_delay = 0.05, ucb: 2.699291213061366 num_of_obs: 46\n",
      "user 1, g: -0.006484170068313485,curr_delay = 0.06508473714121202, ucb: 2.6121132868806454 num_of_obs: 45\n",
      "user 27, g: 0.0010134803405855038,curr_delay = 0.8667984225529145, ucb: 2.602438320492987 num_of_obs: 25\n",
      "user 28, g: 0.0010134803405855038,curr_delay = 0.9022265640432173, ucb: 2.601537939358755 num_of_obs: 25\n",
      "user 29, g: 0.0010134803405855038,curr_delay = 0.9395932080889313, ucb: 2.600678256394836 num_of_obs: 25\n",
      "iteration179\n"
     ]
    },
    {
     "name": "stderr",
     "output_type": "stream",
     "text": [
      " 90%|████████▉ | 179/200 [02:21<00:17,  1.21it/s]"
     ]
    },
    {
     "name": "stdout",
     "output_type": "stream",
     "text": [
      "user 4, g: -0.0011868474073149346,curr_delay = 0.10759466274788326, ucb: 2.5956425836636985 num_of_obs: 37\n",
      "user 5, g: -0.0005418404890955687,curr_delay = 0.1292776449790253, ucb: 2.5976600754703023 num_of_obs: 35\n",
      "user 7, g: -0.00014651366825144208,curr_delay = 0.15930758422241886, ucb: 2.5985652786885987 num_of_obs: 33\n",
      "user 8, g: -4.248029434509284e-05,curr_delay = 0.14548773631813158, ucb: 2.5941919162576337 num_of_obs: 32\n",
      "user 12, g: 2.1673619563822695e-05,curr_delay = 0.2064711078817174, ucb: 2.5997077608262322 num_of_obs: 30\n",
      "iteration180\n"
     ]
    },
    {
     "name": "stderr",
     "output_type": "stream",
     "text": [
      " 90%|█████████ | 180/200 [02:22<00:16,  1.21it/s]"
     ]
    },
    {
     "name": "stdout",
     "output_type": "stream",
     "text": [
      "user 1, g: -0.006944444444444446,curr_delay = 0.06079653790889216, ucb: 2.5939083803311322 num_of_obs: 46\n",
      "user 2, g: -0.0030864197530864196,curr_delay = 0.0693362070096346, ucb: 2.586515787145361 num_of_obs: 41\n",
      "user 3, g: -0.002500000000000002,curr_delay = 0.08647207690359777, ucb: 2.5852752274032715 num_of_obs: 40\n",
      "user 10, g: 0.0,curr_delay = 0.15749811155617527, ucb: 2.5891173118133977 num_of_obs: 31\n",
      "user 13, g: 3.086419753086398e-05,curr_delay = 0.1693982454375004, ucb: 2.5839384624062665 num_of_obs: 30\n",
      "iteration181\n"
     ]
    },
    {
     "name": "stderr",
     "output_type": "stream",
     "text": [
      " 90%|█████████ | 181/200 [02:23<00:15,  1.23it/s]"
     ]
    },
    {
     "name": "stdout",
     "output_type": "stream",
     "text": [
      "user 0, g: -0.00765222198481257,curr_delay = 0.05, ucb: 2.6854039439846495 num_of_obs: 47\n",
      "user 1, g: -0.00765222198481257,curr_delay = 0.07514018790381553, ucb: 2.5764922673507975 num_of_obs: 47\n",
      "user 6, g: -0.00044853467368042633,curr_delay = 0.13231227788252842, ucb: 2.5736664158205618 num_of_obs: 35\n",
      "user 9, g: -2.1197290816655453e-05,curr_delay = 0.14754120665917173, ucb: 2.576550446663835 num_of_obs: 32\n",
      "user 14, g: 4.1546690000644185e-05,curr_delay = 0.23906636620656146, ucb: 2.5757954385289863 num_of_obs: 30\n",
      "iteration182\n"
     ]
    },
    {
     "name": "stderr",
     "output_type": "stream",
     "text": [
      " 91%|█████████ | 182/200 [02:24<00:14,  1.26it/s]"
     ]
    },
    {
     "name": "stdout",
     "output_type": "stream",
     "text": [
      "user 4, g: -0.001341759583517826,curr_delay = 0.1018453106899425, ucb: 2.5692366957614006 num_of_obs: 38\n",
      "user 5, g: -0.0006574621959237354,curr_delay = 0.13046839377393932, ucb: 2.568208674880145 num_of_obs: 36\n",
      "user 11, g: 3.354398958794539e-06,curr_delay = 0.1405014258570402, ucb: 2.5725285121900283 num_of_obs: 31\n",
      "user 15, g: 0.0008587261334514069,curr_delay = 0.7143093478302602, ucb: 2.5693293662744123 num_of_obs: 26\n",
      "user 16, g: 0.0008587261334514069,curr_delay = 0.7329993374550039, ucb: 2.568071949262807 num_of_obs: 26\n",
      "iteration183\n"
     ]
    },
    {
     "name": "stderr",
     "output_type": "stream",
     "text": [
      " 92%|█████████▏| 183/200 [02:25<00:13,  1.23it/s]"
     ]
    },
    {
     "name": "stdout",
     "output_type": "stream",
     "text": [
      "user 2, g: -0.003292125772641764,curr_delay = 0.10182551117574667, ucb: 2.5680368280286086 num_of_obs: 42\n",
      "user 7, g: -0.00018662844516109808,curr_delay = 0.11669840654017646, ucb: 2.567108740081902 num_of_obs: 34\n",
      "user 17, g: 0.0009032816745797115,curr_delay = 0.7514659017062641, ucb: 2.567798587653945 num_of_obs: 26\n",
      "user 18, g: 0.0009032816745797115,curr_delay = 0.7477989431171923, ucb: 2.566494400888732 num_of_obs: 26\n",
      "user 19, g: 0.0009032816745797115,curr_delay = 0.7722277835553643, ucb: 2.5653722070170497 num_of_obs: 26\n",
      "iteration184\n"
     ]
    },
    {
     "name": "stderr",
     "output_type": "stream",
     "text": [
      " 92%|█████████▏| 184/200 [02:25<00:12,  1.25it/s]"
     ]
    },
    {
     "name": "stdout",
     "output_type": "stream",
     "text": [
      "user 8, g: -5.250997689561023e-05,curr_delay = 0.14052323684594578, ucb: 2.5644420999252664 num_of_obs: 33\n",
      "user 12, g: 1.3127494223902458e-05,curr_delay = 0.16621649568675936, ucb: 2.5654444853650307 num_of_obs: 31\n",
      "user 20, g: 0.0009484614576769585,curr_delay = 0.7906438805171709, ucb: 2.565670396547175 num_of_obs: 26\n",
      "user 21, g: 0.0009484614576769585,curr_delay = 0.7496813621860803, ucb: 2.564677905787724 num_of_obs: 26\n",
      "user 22, g: 0.0009484614576769585,curr_delay = 0.811013236736598, ucb: 2.5634976287487095 num_of_obs: 26\n",
      "iteration185\n"
     ]
    },
    {
     "name": "stderr",
     "output_type": "stream",
     "text": [
      " 92%|█████████▎| 185/200 [02:26<00:12,  1.22it/s]"
     ]
    },
    {
     "name": "stdout",
     "output_type": "stream",
     "text": [
      "user 3, g: -0.002455157860563268,curr_delay = 0.09023511612927508, ucb: 2.565123248262082 num_of_obs: 41\n",
      "user 23, g: 0.000994237480723966,curr_delay = 0.8180942464341057, ucb: 2.5637814456433246 num_of_obs: 26\n",
      "user 24, g: 0.000994237480723966,curr_delay = 0.8244291021429484, ucb: 2.562791085270385 num_of_obs: 26\n",
      "user 25, g: 0.000994237480723966,curr_delay = 0.7967801584199484, ucb: 2.5619225105357115 num_of_obs: 26\n",
      "user 26, g: 0.000994237480723966,curr_delay = 0.8496010806506258, ucb: 2.561299261731632 num_of_obs: 26\n",
      "iteration186\n"
     ]
    },
    {
     "name": "stderr",
     "output_type": "stream",
     "text": [
      " 93%|█████████▎| 186/200 [02:27<00:11,  1.22it/s]"
     ]
    },
    {
     "name": "stdout",
     "output_type": "stream",
     "text": [
      "user 0, g: -0.007399699387212396,curr_delay = 0.05085952375419102, ucb: 2.6737950830985815 num_of_obs: 48\n",
      "user 10, g: 0.0,curr_delay = 0.18915699003508313, ucb: 2.5593582113716082 num_of_obs: 32\n",
      "user 27, g: 0.0010405827263267429,curr_delay = 0.8713667674379204, ucb: 2.5615852858566805 num_of_obs: 26\n",
      "user 28, g: 0.0010405827263267429,curr_delay = 0.8945273013903448, ucb: 2.560630316536806 num_of_obs: 26\n",
      "user 29, g: 0.0010405827263267429,curr_delay = 0.9005905309801232, ucb: 2.5597168635241494 num_of_obs: 26\n",
      "iteration187\n"
     ]
    },
    {
     "name": "stderr",
     "output_type": "stream",
     "text": [
      " 94%|█████████▎| 187/200 [02:28<00:10,  1.26it/s]"
     ]
    },
    {
     "name": "stdout",
     "output_type": "stream",
     "text": [
      "user 1, g: -0.007169048141051918,curr_delay = 0.05896058898956017, ucb: 2.5610187524852805 num_of_obs: 48\n",
      "user 4, g: -0.0013353096869926074,curr_delay = 0.12031562520025482, ucb: 2.5466637274022297 num_of_obs: 39\n",
      "user 6, g: -0.00042021345890487163,curr_delay = 0.0957323203548602, ucb: 2.547914892876898 num_of_obs: 36\n",
      "user 9, g: -1.9858859116487296e-05,curr_delay = 0.1761092686155814, ucb: 2.5483050445026807 num_of_obs: 33\n",
      "user 13, g: 3.892336386831496e-05,curr_delay = 0.2064509754701762, ucb: 2.5543035972442594 num_of_obs: 31\n",
      "iteration188\n"
     ]
    },
    {
     "name": "stderr",
     "output_type": "stream",
     "text": [
      " 94%|█████████▍| 188/200 [02:29<00:09,  1.26it/s]"
     ]
    },
    {
     "name": "stdout",
     "output_type": "stream",
     "text": [
      "user 2, g: -0.0032191539660982845,curr_delay = 0.0840118790385689, ucb: 2.546671377432083 num_of_obs: 43\n",
      "user 3, g: -0.002643855942860019,curr_delay = 0.08066301444765048, ucb: 2.543064554434566 num_of_obs: 42\n",
      "user 5, g: -0.0006161661888235003,curr_delay = 0.11658302355816838, ucb: 2.54312147900889 num_of_obs: 37\n",
      "user 11, g: 3.1437050450178653e-06,curr_delay = 0.16652045998957546, ucb: 2.544498451066488 num_of_obs: 32\n",
      "user 14, g: 5.029928072028545e-05,curr_delay = 0.17829322527171287, ucb: 2.5435356199869164 num_of_obs: 31\n",
      "iteration189\n"
     ]
    },
    {
     "name": "stderr",
     "output_type": "stream",
     "text": [
      " 94%|█████████▍| 189/200 [02:29<00:08,  1.27it/s]"
     ]
    },
    {
     "name": "stdout",
     "output_type": "stream",
     "text": [
      "user 0, g: -0.007621567145376668,curr_delay = 0.07405414185409209, ucb: 2.6602613032603086 num_of_obs: 49\n",
      "user 1, g: -0.007621567145376668,curr_delay = 0.0621202038163858, ucb: 2.5461031741239175 num_of_obs: 49\n",
      "user 7, g: -0.0001749671061840374,curr_delay = 0.1261022179655798, ucb: 2.5425996735063423 num_of_obs: 35\n",
      "user 8, g: -6.298815822625346e-05,curr_delay = 0.1584563655232333, ucb: 2.536347842177846 num_of_obs: 34\n",
      "user 12, g: 6.998684247361496e-06,curr_delay = 0.20470047923182638, ucb: 2.5346900189931305 num_of_obs: 32\n",
      "iteration190\n"
     ]
    },
    {
     "name": "stderr",
     "output_type": "stream",
     "text": [
      " 95%|█████████▌| 190/200 [02:30<00:08,  1.24it/s]"
     ]
    },
    {
     "name": "stdout",
     "output_type": "stream",
     "text": [
      "user 10, g: -3.0778701138812134e-06,curr_delay = 0.16698118303350235, ucb: 2.526998979730738 num_of_obs: 33\n",
      "user 15, g: 0.000889504462911664,curr_delay = 0.7261093230855774, ucb: 2.5308940303761753 num_of_obs: 27\n",
      "user 16, g: 0.000889504462911664,curr_delay = 0.7218995316924555, ucb: 2.529616329468016 num_of_obs: 27\n",
      "user 17, g: 0.000889504462911664,curr_delay = 0.7495080429426645, ucb: 2.5280243251274457 num_of_obs: 27\n",
      "user 18, g: 0.000889504462911664,curr_delay = 0.7623846317152767, ucb: 2.5267828483748067 num_of_obs: 27\n",
      "iteration191\n"
     ]
    },
    {
     "name": "stderr",
     "output_type": "stream",
     "text": [
      " 96%|█████████▌| 191/200 [02:31<00:07,  1.24it/s]"
     ]
    },
    {
     "name": "stdout",
     "output_type": "stream",
     "text": [
      "user 2, g: -0.0034180654160917857,curr_delay = 0.07647468889324997, ucb: 2.5265303774676457 num_of_obs: 44\n",
      "user 6, g: -0.00047589460571560905,curr_delay = 0.1400612646203843, ucb: 2.52506960370097 num_of_obs: 37\n",
      "user 19, g: 0.0009327534272025917,curr_delay = 0.7378057829216631, ucb: 2.5268529728187987 num_of_obs: 27\n",
      "user 20, g: 0.0009327534272025917,curr_delay = 0.7843504663614363, ucb: 2.525824554929179 num_of_obs: 27\n",
      "user 21, g: 0.0009327534272025917,curr_delay = 0.8170425479047785, ucb: 2.525003137104314 num_of_obs: 27\n",
      "iteration192\n"
     ]
    },
    {
     "name": "stderr",
     "output_type": "stream",
     "text": [
      " 96%|█████████▌| 192/200 [02:32<00:06,  1.21it/s]"
     ]
    },
    {
     "name": "stdout",
     "output_type": "stream",
     "text": [
      "user 13, g: 2.712673611111092e-05,curr_delay = 0.17834636741482782, ucb: 2.5219740506019077 num_of_obs: 32\n",
      "user 22, g: 0.0009765625,curr_delay = 0.8069141519739648, ucb: 2.5248977394118093 num_of_obs: 27\n",
      "user 23, g: 0.0009765625,curr_delay = 0.8144096011863566, ucb: 2.523900448196677 num_of_obs: 27\n",
      "user 24, g: 0.0009765625,curr_delay = 0.82613095660249, ucb: 2.5229301161542534 num_of_obs: 27\n",
      "user 25, g: 0.0009765625,curr_delay = 0.8462900107559574, ucb: 2.5221758919005173 num_of_obs: 27\n",
      "iteration193\n"
     ]
    },
    {
     "name": "stderr",
     "output_type": "stream",
     "text": [
      " 96%|█████████▋| 193/200 [02:33<00:05,  1.17it/s]"
     ]
    },
    {
     "name": "stdout",
     "output_type": "stream",
     "text": [
      "user 3, g: -0.002595893700352881,curr_delay = 0.09585533300497437, ucb: 2.5252775291419405 num_of_obs: 43\n",
      "user 4, g: -0.0012535757857779928,curr_delay = 0.10777718284235635, ucb: 2.523951186596662 num_of_obs: 40\n",
      "user 26, g: 0.0010209073472516777,curr_delay = 0.8731168667345586, ucb: 2.5226430748097433 num_of_obs: 27\n",
      "user 27, g: 0.0010209073472516777,curr_delay = 0.8627308971453123, ucb: 2.521619270355366 num_of_obs: 27\n",
      "user 28, g: 0.0010209073472516777,curr_delay = 0.8850652422082632, ucb: 2.5206438892569927 num_of_obs: 27\n",
      "iteration194\n"
     ]
    },
    {
     "name": "stderr",
     "output_type": "stream",
     "text": [
      " 97%|█████████▋| 194/200 [02:34<00:05,  1.16it/s]"
     ]
    },
    {
     "name": "stdout",
     "output_type": "stream",
     "text": [
      "user 0, g: -0.0073806402853060305,curr_delay = 0.08077244479034872, ucb: 2.6425799973380557 num_of_obs: 50\n",
      "user 1, g: -0.0073806402853060305,curr_delay = 0.08915858578407677, ucb: 2.5333987572029337 num_of_obs: 50\n",
      "user 5, g: -0.0005786421983679927,curr_delay = 0.11479542967121222, ucb: 2.5201872986290774 num_of_obs: 38\n",
      "user 9, g: -1.1809024456489756e-05,curr_delay = 0.15224795944365851, ucb: 2.5206291844062654 num_of_obs: 34\n",
      "user 29, g: 0.0010657644571981906,curr_delay = 0.887758054713793, ucb: 2.5209607279203032 num_of_obs: 27\n",
      "iteration195\n"
     ]
    },
    {
     "name": "stderr",
     "output_type": "stream",
     "text": [
      " 98%|█████████▊| 195/200 [02:35<00:04,  1.21it/s]"
     ]
    },
    {
     "name": "stdout",
     "output_type": "stream",
     "text": [
      "user 0, g: -0.008053911900065745,curr_delay = 0.05523829116901908, ucb: 2.620844418067969 num_of_obs: 51\n",
      "user 1, g: -0.008053911900065745,curr_delay = 0.1289418718651187, ucb: 2.5126823127433884 num_of_obs: 51\n",
      "user 7, g: -0.00016436554898093385,curr_delay = 0.1309378999694669, ucb: 2.5180923765641685 num_of_obs: 36\n",
      "user 11, g: 6.574621959237297e-06,curr_delay = 0.19161419302066618, ucb: 2.5169813668726086 num_of_obs: 33\n",
      "user 14, g: 5.91715976331361e-05,curr_delay = 0.19530029208187902, ucb: 2.514982674696594 num_of_obs: 32\n",
      "iteration196\n"
     ]
    },
    {
     "name": "stderr",
     "output_type": "stream",
     "text": [
      " 98%|█████████▊| 196/200 [02:35<00:03,  1.22it/s]"
     ]
    },
    {
     "name": "stdout",
     "output_type": "stream",
     "text": [
      "user 0, g: -0.008749247998519139,curr_delay = 0.06571154430914608, ucb: 2.6054097194371773 num_of_obs: 52\n",
      "user 2, g: -0.0033435142764588837,curr_delay = 0.08370847720596758, ucb: 2.510246012984807 num_of_obs: 45\n",
      "user 3, g: -0.0027795131658105423,curr_delay = 0.08948126618192792, ucb: 2.503898733505431 num_of_obs: 44\n",
      "user 8, g: -4.6277014207043464e-05,curr_delay = 0.1297874311079321, ucb: 2.510340170784262 num_of_obs: 35\n",
      "user 12, g: 1.1569253551760866e-05,curr_delay = 0.15837434921319596, ucb: 2.5057030704915673 num_of_obs: 33\n",
      "iteration197\n"
     ]
    },
    {
     "name": "stderr",
     "output_type": "stream",
     "text": [
      " 98%|█████████▊| 197/200 [02:36<00:02,  1.19it/s]"
     ]
    },
    {
     "name": "stdout",
     "output_type": "stream",
     "text": [
      "user 0, g: -0.009465874181532925,curr_delay = 0.058151633857540824, ucb: 2.5876398693799603 num_of_obs: 53\n",
      "user 4, g: -0.0013234329952101608,curr_delay = 0.10463666667564962, ucb: 2.5013097219535525 num_of_obs: 41\n",
      "user 5, g: -0.0006878415945900295,curr_delay = 0.1389964303092506, ucb: 2.495308871913803 num_of_obs: 39\n",
      "user 6, g: -0.00044734755111214253,curr_delay = 0.12409304549960207, ucb: 2.500618171987145 num_of_obs: 38\n",
      "user 10, g: -7.157560817794468e-07,curr_delay = 0.14560234908281253, ucb: 2.50035992071117 num_of_obs: 34\n",
      "iteration198\n"
     ]
    },
    {
     "name": "stderr",
     "output_type": "stream",
     "text": [
      " 99%|█████████▉| 198/200 [02:37<00:01,  1.18it/s]"
     ]
    },
    {
     "name": "stdout",
     "output_type": "stream",
     "text": [
      "user 9, g: -2.550760126517707e-05,curr_delay = 0.13498482742748938, ucb: 2.492266204656199 num_of_obs: 35\n",
      "user 13, g: 2.5507601265176792e-05,curr_delay = 0.1901370162126235, ucb: 2.493375583021933 num_of_obs: 33\n",
      "user 15, g: 0.0009182736455463729,curr_delay = 0.7061125995746852, ucb: 2.494314146656628 num_of_obs: 28\n",
      "user 16, g: 0.0009182736455463729,curr_delay = 0.7271905409084538, ucb: 2.493098640643545 num_of_obs: 28\n",
      "user 17, g: 0.0009182736455463729,curr_delay = 0.763397004640805, ucb: 2.4914711071808897 num_of_obs: 28\n",
      "iteration199\n"
     ]
    },
    {
     "name": "stderr",
     "output_type": "stream",
     "text": [
      "100%|█████████▉| 199/200 [02:38<00:00,  1.21it/s]"
     ]
    },
    {
     "name": "stdout",
     "output_type": "stream",
     "text": [
      "user 7, g: -0.0002027165419504001,curr_delay = 0.11687383796053447, ucb: 2.492104095984515 num_of_obs: 37\n",
      "user 18, g: 0.0009602731693082938,curr_delay = 0.7422695883532477, ucb: 2.4913882078417626 num_of_obs: 28\n",
      "user 19, g: 0.0009602731693082938,curr_delay = 0.7605412355277547, ucb: 2.4903517194995675 num_of_obs: 28\n",
      "user 20, g: 0.0009602731693082938,curr_delay = 0.7535702920178614, ucb: 2.489212446786178 num_of_obs: 28\n",
      "user 21, g: 0.0009602731693082938,curr_delay = 0.8012542607155216, ucb: 2.488326981829361 num_of_obs: 28\n",
      "iteration200\n"
     ]
    },
    {
     "name": "stderr",
     "output_type": "stream",
     "text": [
      "100%|██████████| 200/200 [02:39<00:00,  1.26it/s]"
     ]
    },
    {
     "name": "stdout",
     "output_type": "stream",
     "text": [
      "user 11, g: 2.777777777777721e-06,curr_delay = 0.18998288137163954, ucb: 2.487294888948702 num_of_obs: 34\n",
      "user 22, g: 0.0010027777777777767,curr_delay = 0.819963459416196, ucb: 2.488223773932637 num_of_obs: 28\n",
      "user 23, g: 0.0010027777777777767,curr_delay = 0.8442835521176941, ucb: 2.4872422974948156 num_of_obs: 28\n",
      "user 24, g: 0.0010027777777777767,curr_delay = 0.8436471070783517, ucb: 2.4862756416013836 num_of_obs: 28\n",
      "user 25, g: 0.0010027777777777767,curr_delay = 0.8513115015999589, ucb: 2.4854959556338128 num_of_obs: 28\n"
     ]
    },
    {
     "name": "stderr",
     "output_type": "stream",
     "text": [
      "\n"
     ]
    }
   ],
   "source": [
    "\n",
    "\n",
    "choices_table = np.zeros((args.global_epochs, args.num_users))\n",
    "num_of_obs_arr = np.zeros((1,args.num_users))\n",
    "train_loss_list = []\n",
    "val_acc_list = []\n",
    "val_losses_list = []\n",
    "global_epochs_time_list = []\n",
    "\n",
    "\n",
    "time_counter = 0\n",
    "for global_epoch in tqdm(range(1, args.global_epochs+1)):\n",
    "    \"\"\"Part 1: Choosing Users\"\"\"\n",
    "    for usr_idx in range(args.num_users):\n",
    "        local_models[usr_idx].update_g(global_epoch)\n",
    "        local_models[usr_idx].update_ucb(global_epoch)\n",
    "    \n",
    "    print(f\"iteration{global_epoch}\")\n",
    "    a=time.time()\n",
    "    rounds_choise = utils.choose_users(local_models, args, method=args.method_choosing_users, privacy=False,\n",
    "                                       initiated_delay=args.initiated_delay)\n",
    "    #print(f\"choose_users took {time.time()-a}\")\n",
    "    \n",
    "    #choices_table[global_epoch-1, rounds_choise] = 1\n",
    "    num_of_obs_arr[0,rounds_choise] += 1\n",
    "    for usr_idx in rounds_choise:\n",
    "        local_models[usr_idx].update_emp_avg()\n",
    "        local_models[usr_idx].update_privacy_violation_and_reward()\n",
    "        local_models[usr_idx].increase_num_of_obs()\n",
    "        print(f\"user {usr_idx}, g: {local_models[usr_idx].g},curr_delay = {local_models[usr_idx].last_access_time}, ucb: {local_models[usr_idx].ucb} num_of_obs: {local_models[usr_idx].num_of_obs}\")\n",
    "    \n",
    "    max_delay = max([local_models[i].last_access_time for i in rounds_choise])\n",
    "    #print(f\"max_delay = {max_delay}\")\n",
    "    \n",
    "    \n",
    "    # \"\"\"Part 2: Training\"\"\"\n",
    "    # learning_utils.distribute_model(local_models, global_model)\n",
    "    # users_avg_loss_over_local_epochs = []\n",
    "\n",
    "    # for user_idx in rounds_choise:\n",
    "    #     user_loss = []\n",
    "    #     for local_epoch in range(args.local_epochs):\n",
    "    #         user = local_models[user_idx]\n",
    "    #         train_loss = learning_utils.train_one_epoch(user, train_criterion, args)\n",
    "    #         if args.lr_scheduler:\n",
    "    #             user.scheduler.step(train_loss)\n",
    "    #         user_loss.append(train_loss)\n",
    "    #     users_avg_loss_over_local_epochs.append(mean(user_loss))\n",
    "    \n",
    "    # avg_loss_over_chosen_users_curr_global_epoch = mean(users_avg_loss_over_local_epochs)\n",
    "    # train_loss_list.append(avg_loss_over_chosen_users_curr_global_epoch)\n",
    "\n",
    "    # #we return deltha_theta only for checking can be removed and fix the return value of the function later on to None\n",
    "    # deltha_theta = learning_utils.Fed_avg_models(local_models, global_model, rounds_choise)\n",
    "    # val_acc, val_loss = learning_utils.test(test_loader, global_model, test_criterion, args)\n",
    "    # val_acc_list.append(val_acc) ; val_losses_list.append(val_loss)\n",
    "    \n",
    "\n",
    "    # # boardio.add_scalars(\"Losses over time in seconds\", {\"train_loss\":avg_loss_over_chosen_users_curr_global_epoch,\n",
    "    # #                                     \"val_loss\": val_loss}, time.time()-start_time)\n",
    "    # # boardio.add_scalar('Val Accuracy', val_acc, time.time()-start_time)\n",
    "\n",
    "\n",
    "    # time_counter += max_delay\n",
    "    # print((f\"global epoch {global_epoch} has been done artifficialy in {max_delay:.2f} secs, the total time by now is {time_counter:.2f} \\n with avg train loss {avg_loss_over_chosen_users_curr_global_epoch:.3f}, avg val loss {val_loss:.3f}, avg val acc {val_acc:.2f}%\"))\n",
    "    # global_epochs_time_list.append(time_counter)\n",
    "    # gc.collect()\n",
    "\n",
    "\n",
    "    # if val_acc > best_val_acc:\n",
    "    #     best_val_acc = val_acc\n",
    "    #     torch.save({\"model's state dict\":global_model.state_dict(),\n",
    "    #                 \"train_loss_list\": train_loss_list,\n",
    "    #                 \"val_acc_list\": val_acc_list,\n",
    "    #                 \"val_losses_list\": val_losses_list,\n",
    "    #                 \"global_epochs_time_list\": global_epochs_time_list,\n",
    "    #                 \"num_of_users\": args.num_users,\n",
    "    #                 \"num_of_users_per_round\": args.num_users_per_round}\n",
    "    #                 , path_best_model)\n",
    "    \n",
    "    \n",
    "    # torch.save({\"model's state dict\":global_model.state_dict(),\n",
    "    #             \"train_loss_list\": train_loss_list,\n",
    "    #             \"val_acc_list\": val_acc_list,\n",
    "    #             \"val_losses_list\": val_losses_list,\n",
    "    #             \"global_epochs_time_list\": global_epochs_time_list,\n",
    "    #             \"num_of_obs_arr\": num_of_obs_arr.reshape(-1),\n",
    "    #             \"global_epoch\": global_epoch,\n",
    "    #             \"num_of_users\": args.num_users,\n",
    "    #             \"num_of_users_per_round\": args.num_users_per_round}\n",
    "    #             , last_model_path)\n",
    "\n",
    "    # if time_counter > args.max_seconds:\n",
    "    #     users_idxs = tuple([str(x) for x in range(1,args.num_users+1)])\n",
    "    #     fig, ax = plt.subplots()\n",
    "    #     ax.bar(users_idxs, num_of_obs_arr.reshape(-1), width = 0.4)\n",
    "    #     ax.set_title(\"Number of times each user was chosen\")\n",
    "    #     ax.set_ylabel(\"number of times\")\n",
    "    #     ax.set_xlabel(\"user index\")\n",
    "    #     #boardio.add_figure(\"Number of times each user was chosen\", fig, global_epoch)\n",
    "    #     plt.savefig(last_model_path.parent / \"Number of times each user was chosen.png\")\n",
    "    #     break\n",
    "\n",
    "\n",
    "#choices_table = choices_table.cumsum(axis=0)\n"
   ]
  },
  {
   "cell_type": "code",
   "execution_count": null,
   "metadata": {},
   "outputs": [],
   "source": [
    "path_dan = r\"C:\\dev\\FL_privacy_mab\\checkpoints\\BSFL brute\\cnn2\\11-12-2023_18-27-08\\last_model.pth.tar\"\n",
    "path_random = r\"C:\\dev\\FL_privacy_mab\\checkpoints\\random selection\\cnn2\\11-12-2023_18-37-17\\last_model.pth.tar\"\n",
    "\n",
    "random_dict = torch.load(path_random)\n",
    "dan_dict = torch.load(path_dan)\n",
    "\n",
    "random_train_loss_list = random_dict[\"train_loss_list\"]\n",
    "random_val_acc_list = random_dict[\"val_acc_list\"]\n",
    "random_val_losses_list = random_dict[\"val_losses_list\"]\n",
    "random_global_epochs_time_list = random_dict[\"global_epochs_time_list\"]\n",
    "\n",
    "dan_train_loss_list = dan_dict[\"train_loss_list\"]\n",
    "dan_val_acc_list = dan_dict[\"val_acc_list\"]\n",
    "dan_val_losses_list = dan_dict[\"val_losses_list\"]\n",
    "dan_global_epochs_time_list = dan_dict[\"global_epochs_time_list\"]\n",
    "\n",
    "fig, ax = plt.subplots(2,2, figsize=(15,15))\n",
    "\n",
    "ax[0,0].plot(random_global_epochs_time_list , random_train_loss_list, label=\"train loss random selection\", color = \"blue\")\n",
    "ax[0,0].plot(dan_global_epochs_time_list, dan_train_loss_list, label=\"train loss dan's selection\", color = \"green\")\n",
    "ax[0,0].set_title(\"train loss over time\")\n",
    "ax[0,0].set_xlabel(\"time(sec)\")\n",
    "ax[0,0].set_ylabel(\"train loss\")\n",
    "ax[0,0].legend()\n",
    "\n",
    "ax[0,1].plot(random_global_epochs_time_list , random_val_losses_list, label=\"val loss random selection\", color = \"blue\")\n",
    "ax[0,1].plot(dan_global_epochs_time_list, dan_val_losses_list, label=\"val loss dan's selection\", color = \"green\")\n",
    "ax[0,1].set_title(\"val loss over time\")\n",
    "ax[0,1].set_xlabel(\"time(sec)\")\n",
    "ax[0,1].set_ylabel(\"val loss\")\n",
    "ax[0,1].legend()\n",
    "\n",
    "ax[1,0].plot(random_global_epochs_time_list , random_val_acc_list, label=\"val acc random selection\", color = \"blue\")\n",
    "ax[1,0].plot(dan_global_epochs_time_list, dan_val_acc_list, label=\"val acc dan's selection\", color = \"green\")\n",
    "ax[1,0].set_title(\"val acc over time\")\n",
    "ax[1,0].set_xlabel(\"time(sec)\")\n",
    "ax[1,0].set_ylabel(\"val acc\")\n",
    "ax[1,0].legend()\n",
    "\n"
   ]
  },
  {
   "cell_type": "code",
   "execution_count": null,
   "metadata": {},
   "outputs": [],
   "source": [
    "%tensorboard --logdir=runs"
   ]
  }
 ],
 "metadata": {
  "kernelspec": {
   "display_name": "Python 3",
   "language": "python",
   "name": "python3"
  },
  "language_info": {
   "codemirror_mode": {
    "name": "ipython",
    "version": 3
   },
   "file_extension": ".py",
   "mimetype": "text/x-python",
   "name": "python",
   "nbconvert_exporter": "python",
   "pygments_lexer": "ipython3",
   "version": "3.11.3"
  }
 },
 "nbformat": 4,
 "nbformat_minor": 2
}
