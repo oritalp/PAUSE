{
 "cells": [
  {
   "cell_type": "code",
   "execution_count": 9,
   "metadata": {},
   "outputs": [],
   "source": [
    "import gc\n",
    "import sys\n",
    "from statistics import mean\n",
    "import time\n",
    "import torch\n",
    "from tqdm import tqdm\n",
    "from torchinfo import summary\n",
    "import numpy as np\n",
    "import itertools\n",
    "from pathlib import Path\n",
    "from scipy import special\n",
    "import matplotlib.pyplot as plt\n",
    "import datetime\n",
    "import torch.linalg as LA\n",
    "from torch.distributions.laplace import Laplace\n",
    "\n",
    "\n",
    "\n",
    "import utils\n",
    "import models\n",
    "import learning_utils\n",
    "from configurations import args_parser, arguments\n",
    "\n"
   ]
  },
  {
   "cell_type": "code",
   "execution_count": 10,
   "metadata": {},
   "outputs": [
    {
     "name": "stdout",
     "output_type": "stream",
     "text": [
      "The autoreload extension is already loaded. To reload it, use:\n",
      "  %reload_ext autoreload\n",
      "{'eval': <built-in function eval>, 'data': 'cifar10', 'model': 'cnn3', 'num_users': 30, 'num_users_per_round': 5, 'local_epochs': 1, 'local_iterations': 100, 'global_epochs': 300, 'tau_min': 0.05, 'privacy_noise': 'laplace', 'epsilon_bar': 100, 'optimizer': 'Adam', 'lr': 0.01, 'momentum': 0.5, 'lr_scheduler': False, 'seed': 0, 'alpha': 100, 'beta': 2, 'gamma': 5, 'max_seconds': 300, 'method_choosing_users': 'all users', 'data_truncation': None, 'choosing_users_verbose': False, 'save_best_model': False, 'privacy': False, 'privacy_choosing_users': True, 'epsilon_sum_deascent_coeff': 0.04, 'delta_f': 0.012, 'device': device(type='cuda'), 'snr_verbose': True, 'max_iterations_alsa': 500, 'ALSA_simulation': False, 'ALSA_verbose': False, 'beta_max_reduction': 30, 'accel_ucb_coeff': 1, 'max_time_alsa': 600, 'pre_ALSA_rounds': 1, 'norm_std': 0.5, 'norm_mean': 0.5, 'train_batch_size': 20, 'test_batch_size': 1000}\n"
     ]
    }
   ],
   "source": [
    "%load_ext autoreload\n",
    "%autoreload 2\n",
    "\n",
    "\n",
    "\n",
    "args = arguments()\n",
    "#boardio is for the the tensorboardx prensetaion and textio is for written documentation\n",
    "boardio, textio, best_val_acc, path_best_model, last_model_path = utils.initializations(args)\n",
    "textio.cprint(str(args) if args.__class__.__name__ == 'Namespace' else str(vars(args)))\n",
    "\n",
    "\n",
    "\n"
   ]
  },
  {
   "cell_type": "code",
   "execution_count": 11,
   "metadata": {},
   "outputs": [
    {
     "name": "stdout",
     "output_type": "stream",
     "text": [
      "Downloading https://www.cs.toronto.edu/~kriz/cifar-10-python.tar.gz to ./data\\cifar-10-python.tar.gz\n"
     ]
    },
    {
     "name": "stderr",
     "output_type": "stream",
     "text": [
      "100%|██████████| 170498071/170498071 [00:20<00:00, 8400051.27it/s]\n"
     ]
    },
    {
     "name": "stdout",
     "output_type": "stream",
     "text": [
      "Extracting ./data\\cifar-10-python.tar.gz to ./data\n",
      "=================================================================\n",
      "Layer (type:depth-idx)                   Param #\n",
      "=================================================================\n",
      "CNN3LayerCifar                           --\n",
      "├─Conv2d: 1-1                            896\n",
      "├─BatchNorm2d: 1-2                       64\n",
      "├─Conv2d: 1-3                            18,496\n",
      "├─BatchNorm2d: 1-4                       128\n",
      "├─Conv2d: 1-5                            73,856\n",
      "├─BatchNorm2d: 1-6                       256\n",
      "├─MaxPool2d: 1-7                         --\n",
      "├─Linear: 1-8                            65,664\n",
      "├─BatchNorm1d: 1-9                       256\n",
      "├─Linear: 1-10                           8,256\n",
      "├─BatchNorm1d: 1-11                      128\n",
      "├─Linear: 1-12                           2,080\n",
      "├─BatchNorm1d: 1-13                      64\n",
      "├─Linear: 1-14                           330\n",
      "├─Dropout: 1-15                          --\n",
      "├─Dropout: 1-16                          --\n",
      "├─Dropout: 1-17                          --\n",
      "=================================================================\n",
      "Total params: 170,474\n",
      "Trainable params: 170,474\n",
      "Non-trainable params: 0\n",
      "=================================================================\n",
      "global model's device: cuda:0\n"
     ]
    }
   ],
   "source": [
    "# data\n",
    "train_data, test_loader = utils.data(args)\n",
    "#input in the CNNs is the number of channels and in linear models is the size of the flatten pictures\n",
    "input, output, train_data, val_loader = utils.data_split(train_data, len(test_loader.dataset), args)\n",
    "\n",
    "# model\n",
    "if args.model == 'mlp':\n",
    "    global_model = models.FC3Layer(input, output)\n",
    "elif args.model == 'cnn2':\n",
    "    global_model = models.CNN2Layer(input, output, args.data)\n",
    "elif args.model == 'cnn3':\n",
    "    if args.data == 'cifar10':\n",
    "        global_model = models.CNN3LayerCifar()\n",
    "    else:\n",
    "        global_model = models.CNN3LayerMnist()\n",
    "elif args.model == 'cnn5':\n",
    "    if args.data == 'mnist' or args.data == 'fashion mnist':\n",
    "        raise ValueError('CNN5 is not supported for MNIST type datasets')\n",
    "    global_model = models.CNN5Layer(input, output)\n",
    "elif args.model == 'linear':\n",
    "    global_model = models.Linear(input, output)\n",
    "\n",
    "\n",
    "\n",
    "textio.cprint(str(summary(global_model)).encode('utf-8', errors='ignore').decode('utf-8', errors='ignore'))\n",
    "global_model = global_model.to(args.device)\n",
    "print(f\"global model's device: {next(global_model.parameters()).device}\")\n",
    "\n",
    "train_criterion = torch.nn.CrossEntropyLoss(reduction='mean')\n",
    "test_criterion = torch.nn.CrossEntropyLoss(reduction='sum')\n",
    "\n",
    "local_models = utils.federated_setup(global_model, train_data, args, i_i_d=True)\n",
    "utils.update_data_equility_partititon(local_models, args)\n",
    "\n",
    "\n",
    "\n"
   ]
  },
  {
   "cell_type": "code",
   "execution_count": 12,
   "metadata": {},
   "outputs": [],
   "source": [
    "# for i in range(100):\n",
    "#     local_models[0].update_privacy_violation_and_reward()\n",
    "#     print(f\"iteration {i}, next_privacy_term is {local_models[0].next_privacy_term}\")"
   ]
  },
  {
   "cell_type": "code",
   "execution_count": 13,
   "metadata": {},
   "outputs": [
    {
     "name": "stderr",
     "output_type": "stream",
     "text": [
      "  0%|          | 0/300 [00:00<?, ?it/s]"
     ]
    },
    {
     "name": "stdout",
     "output_type": "stream",
     "text": [
      "after cleansing the weights updates who were almost zeros (meaning with absolute value of less than 10**-7, 0.00% of the weights upadtes) we get:\n",
      "user No.2 has been picked 1, his deltas theta's mean\n",
      " is -0.0006463671452365816,\n",
      "the empirical var of deltas thetas is 0.003982466645538807\n",
      "the minimum of the deltas theta is -0.25982600450515747 and the maximum is 0.34222981333732605\n",
      "the added laplace noise var is 0.003060399989333737\n",
      "global epoch 1 has been done artifficialy in 0.92 secs, the total time by now is 0.92 \n",
      " with avg train loss 2.076, val loss 2.365, avg val acc 10.00%\n"
     ]
    },
    {
     "name": "stderr",
     "output_type": "stream",
     "text": [
      "  0%|          | 1/300 [00:23<1:57:46, 23.64s/it]"
     ]
    },
    {
     "name": "stdout",
     "output_type": "stream",
     "text": [
      "after cleansing the weights updates who were almost zeros (meaning with absolute value of less than 10**-7, 0.00% of the weights upadtes) we get:\n",
      "user No.23 has been picked 2, his deltas theta's mean\n",
      " is -0.00027860471163876355,\n",
      "the empirical var of deltas thetas is 0.001486930064857006\n",
      "the minimum of the deltas theta is -0.2237623929977417 and the maximum is 0.294674813747406\n",
      "the added laplace noise var is 0.0031852972822368235\n",
      "global epoch 2 has been done artifficialy in 0.94 secs, the total time by now is 1.86 \n",
      " with avg train loss 1.958, val loss 2.261, avg val acc 12.63%\n"
     ]
    },
    {
     "name": "stderr",
     "output_type": "stream",
     "text": [
      "  1%|          | 2/300 [00:43<1:47:02, 21.55s/it]"
     ]
    },
    {
     "name": "stdout",
     "output_type": "stream",
     "text": [
      "after cleansing the weights updates who were almost zeros (meaning with absolute value of less than 10**-7, 0.00% of the weights upadtes) we get:\n",
      "user No.2 has been picked 3, his deltas theta's mean\n",
      " is -0.0004514509637374431,\n",
      "the empirical var of deltas thetas is 0.000957108975853771\n",
      "the minimum of the deltas theta is -0.22792081534862518 and the maximum is 0.23903493583202362\n",
      "the added laplace noise var is 0.0033152917303578187\n",
      "global epoch 3 has been done artifficialy in 0.92 secs, the total time by now is 2.78 \n",
      " with avg train loss 1.861, val loss 1.835, avg val acc 34.90%\n"
     ]
    },
    {
     "name": "stderr",
     "output_type": "stream",
     "text": [
      "  1%|          | 3/300 [01:05<1:47:56, 21.81s/it]"
     ]
    },
    {
     "name": "stdout",
     "output_type": "stream",
     "text": [
      "after cleansing the weights updates who were almost zeros (meaning with absolute value of less than 10**-7, 0.00% of the weights upadtes) we get:\n",
      "user No.17 has been picked 4, his deltas theta's mean\n",
      " is -0.0009227091795764863,\n",
      "the empirical var of deltas thetas is 0.001155384466983378\n",
      "the minimum of the deltas theta is -0.2809796631336212 and the maximum is 0.23492802679538727\n",
      "the added laplace noise var is 0.0034505913525473436\n",
      "global epoch 4 has been done artifficialy in 0.94 secs, the total time by now is 3.72 \n",
      " with avg train loss 1.766, val loss 1.656, avg val acc 42.18%\n"
     ]
    },
    {
     "name": "stderr",
     "output_type": "stream",
     "text": [
      "  1%|▏         | 4/300 [01:29<1:50:34, 22.41s/it]"
     ]
    },
    {
     "name": "stdout",
     "output_type": "stream",
     "text": [
      "after cleansing the weights updates who were almost zeros (meaning with absolute value of less than 10**-7, 0.00% of the weights upadtes) we get:\n",
      "user No.9 has been picked 5, his deltas theta's mean\n",
      " is -0.0003002721641678363,\n",
      "the empirical var of deltas thetas is 0.0009726457064971328\n",
      "the minimum of the deltas theta is -0.2552891969680786 and the maximum is 0.20736460387706757\n",
      "the added laplace noise var is 0.0035914126570663605\n",
      "global epoch 5 has been done artifficialy in 0.91 secs, the total time by now is 4.63 \n",
      " with avg train loss 1.693, val loss 1.521, avg val acc 46.62%\n"
     ]
    },
    {
     "name": "stderr",
     "output_type": "stream",
     "text": [
      "  2%|▏         | 5/300 [01:52<1:51:38, 22.71s/it]"
     ]
    },
    {
     "name": "stdout",
     "output_type": "stream",
     "text": [
      "after cleansing the weights updates who were almost zeros (meaning with absolute value of less than 10**-7, 0.00% of the weights upadtes) we get:\n",
      "user No.8 has been picked 6, his deltas theta's mean\n",
      " is -0.0015684508252888918,\n",
      "the empirical var of deltas thetas is 0.0012826346792280674\n",
      "the minimum of the deltas theta is -0.28613874316215515 and the maximum is 0.3091847896575928\n",
      "the added laplace noise var is 0.0037379809880455804\n",
      "global epoch 6 has been done artifficialy in 0.89 secs, the total time by now is 5.52 \n",
      " with avg train loss 1.614, val loss 1.419, avg val acc 49.50%\n"
     ]
    },
    {
     "name": "stderr",
     "output_type": "stream",
     "text": [
      "  2%|▏         | 6/300 [02:15<1:52:22, 22.93s/it]"
     ]
    },
    {
     "name": "stdout",
     "output_type": "stream",
     "text": [
      "after cleansing the weights updates who were almost zeros (meaning with absolute value of less than 10**-7, 0.00% of the weights upadtes) we get:\n",
      "user No.25 has been picked 7, his deltas theta's mean\n",
      " is 0.0001032942091114819,\n",
      "the empirical var of deltas thetas is 0.0011613090755417943\n",
      "the minimum of the deltas theta is -0.24846896529197693 and the maximum is 0.27713122963905334\n",
      "the added laplace noise var is 0.003890530886084149\n",
      "global epoch 7 has been done artifficialy in 1.00 secs, the total time by now is 6.52 \n",
      " with avg train loss 1.575, val loss 1.369, avg val acc 51.59%\n"
     ]
    },
    {
     "name": "stderr",
     "output_type": "stream",
     "text": [
      "  2%|▏         | 7/300 [02:38<1:51:45, 22.89s/it]"
     ]
    },
    {
     "name": "stdout",
     "output_type": "stream",
     "text": [
      "after cleansing the weights updates who were almost zeros (meaning with absolute value of less than 10**-7, 0.00% of the weights upadtes) we get:\n",
      "user No.17 has been picked 8, his deltas theta's mean\n",
      " is -0.0009815751109272242,\n",
      "the empirical var of deltas thetas is 0.0013325043255463243\n",
      "the minimum of the deltas theta is -0.23967236280441284 and the maximum is 0.25528275966644287\n",
      "the added laplace noise var is 0.0040493064635646414\n",
      "global epoch 8 has been done artifficialy in 0.95 secs, the total time by now is 7.47 \n",
      " with avg train loss 1.529, val loss 1.312, avg val acc 52.93%\n"
     ]
    },
    {
     "name": "stderr",
     "output_type": "stream",
     "text": [
      "  3%|▎         | 8/300 [03:00<1:50:36, 22.73s/it]"
     ]
    },
    {
     "name": "stdout",
     "output_type": "stream",
     "text": [
      "after cleansing the weights updates who were almost zeros (meaning with absolute value of less than 10**-7, 0.00% of the weights upadtes) we get:\n",
      "user No.6 has been picked 9, his deltas theta's mean\n",
      " is -0.0013867439702153206,\n",
      "the empirical var of deltas thetas is 0.0012657104525715113\n",
      "the minimum of the deltas theta is -0.24688667058944702 and the maximum is 0.26825791597366333\n",
      "the added laplace noise var is 0.004214561795284956\n",
      "global epoch 9 has been done artifficialy in 0.94 secs, the total time by now is 8.41 \n",
      " with avg train loss 1.490, val loss 1.292, avg val acc 54.14%\n"
     ]
    },
    {
     "name": "stderr",
     "output_type": "stream",
     "text": [
      "  3%|▎         | 9/300 [03:23<1:49:47, 22.64s/it]"
     ]
    },
    {
     "name": "stdout",
     "output_type": "stream",
     "text": [
      "after cleansing the weights updates who were almost zeros (meaning with absolute value of less than 10**-7, 0.00% of the weights upadtes) we get:\n",
      "user No.21 has been picked 10, his deltas theta's mean\n",
      " is 9.480983135290444e-05,\n",
      "the empirical var of deltas thetas is 0.0014292430132627487\n",
      "the minimum of the deltas theta is -0.2571309506893158 and the maximum is 0.2949312627315521\n",
      "the added laplace noise var is 0.004386561325032196\n",
      "global epoch 10 has been done artifficialy in 0.91 secs, the total time by now is 9.33 \n",
      " with avg train loss 1.452, val loss 1.249, avg val acc 55.68%\n"
     ]
    },
    {
     "name": "stderr",
     "output_type": "stream",
     "text": [
      "  3%|▎         | 10/300 [03:45<1:49:06, 22.58s/it]"
     ]
    },
    {
     "name": "stdout",
     "output_type": "stream",
     "text": [
      "after cleansing the weights updates who were almost zeros (meaning with absolute value of less than 10**-7, 0.00% of the weights upadtes) we get:\n",
      "user No.8 has been picked 11, his deltas theta's mean\n",
      " is -0.002417470095679164,\n",
      "the empirical var of deltas thetas is 0.001799010788090527\n",
      "the minimum of the deltas theta is -0.2671564817428589 and the maximum is 0.272854208946228\n",
      "the added laplace noise var is 0.004565580288749148\n",
      "global epoch 11 has been done artifficialy in 0.90 secs, the total time by now is 10.23 \n",
      " with avg train loss 1.419, val loss 1.218, avg val acc 56.97%\n"
     ]
    },
    {
     "name": "stderr",
     "output_type": "stream",
     "text": [
      "  4%|▎         | 11/300 [04:08<1:48:33, 22.54s/it]"
     ]
    },
    {
     "name": "stdout",
     "output_type": "stream",
     "text": [
      "after cleansing the weights updates who were almost zeros (meaning with absolute value of less than 10**-7, 0.00% of the weights upadtes) we get:\n",
      "user No.2 has been picked 12, his deltas theta's mean\n",
      " is -0.0006961370236240327,\n",
      "the empirical var of deltas thetas is 0.001849920256063342\n",
      "the minimum of the deltas theta is -0.27067503333091736 and the maximum is 0.3375592529773712\n",
      "the added laplace noise var is 0.004751905154970509\n",
      "global epoch 12 has been done artifficialy in 0.96 secs, the total time by now is 11.19 \n",
      " with avg train loss 1.381, val loss 1.186, avg val acc 57.99%\n"
     ]
    },
    {
     "name": "stderr",
     "output_type": "stream",
     "text": [
      "  4%|▍         | 12/300 [04:30<1:48:10, 22.54s/it]"
     ]
    },
    {
     "name": "stdout",
     "output_type": "stream",
     "text": [
      "after cleansing the weights updates who were almost zeros (meaning with absolute value of less than 10**-7, 0.00% of the weights upadtes) we get:\n",
      "user No.0 has been picked 13, his deltas theta's mean\n",
      " is -0.0008926403825171292,\n",
      "the empirical var of deltas thetas is 0.0015277247875928879\n",
      "the minimum of the deltas theta is -0.35587209463119507 and the maximum is 0.28127509355545044\n",
      "the added laplace noise var is 0.004945834083233656\n",
      "global epoch 13 has been done artifficialy in 0.91 secs, the total time by now is 12.10 \n",
      " with avg train loss 1.360, val loss 1.165, avg val acc 59.45%\n"
     ]
    },
    {
     "name": "stderr",
     "output_type": "stream",
     "text": [
      "  4%|▍         | 13/300 [04:53<1:47:47, 22.53s/it]"
     ]
    },
    {
     "name": "stdout",
     "output_type": "stream",
     "text": [
      "after cleansing the weights updates who were almost zeros (meaning with absolute value of less than 10**-7, 0.00% of the weights upadtes) we get:\n",
      "user No.2 has been picked 14, his deltas theta's mean\n",
      " is -0.0009012732771225274,\n",
      "the empirical var of deltas thetas is 0.0019499699119478464\n",
      "the minimum of the deltas theta is -0.2886638343334198 and the maximum is 0.34525376558303833\n",
      "the added laplace noise var is 0.005147677401197522\n",
      "global epoch 14 has been done artifficialy in 0.89 secs, the total time by now is 12.99 \n",
      " with avg train loss 1.327, val loss 1.144, avg val acc 59.53%\n"
     ]
    },
    {
     "name": "stderr",
     "output_type": "stream",
     "text": [
      "  5%|▍         | 14/300 [05:15<1:47:17, 22.51s/it]"
     ]
    },
    {
     "name": "stdout",
     "output_type": "stream",
     "text": [
      "after cleansing the weights updates who were almost zeros (meaning with absolute value of less than 10**-7, 0.00% of the weights upadtes) we get:\n",
      "user No.15 has been picked 15, his deltas theta's mean\n",
      " is -0.0015824571019038558,\n",
      "the empirical var of deltas thetas is 0.0021530832163989544\n",
      "the minimum of the deltas theta is -0.31904837489128113 and the maximum is 0.37133869528770447\n",
      "the added laplace noise var is 0.005357758101233054\n",
      "global epoch 15 has been done artifficialy in 0.97 secs, the total time by now is 13.95 \n",
      " with avg train loss 1.310, val loss 1.115, avg val acc 60.46%\n"
     ]
    },
    {
     "name": "stderr",
     "output_type": "stream",
     "text": [
      "  5%|▌         | 15/300 [05:38<1:47:11, 22.57s/it]"
     ]
    },
    {
     "name": "stdout",
     "output_type": "stream",
     "text": [
      "after cleansing the weights updates who were almost zeros (meaning with absolute value of less than 10**-7, 0.00% of the weights upadtes) we get:\n",
      "user No.28 has been picked 16, his deltas theta's mean\n",
      " is -0.0006141370395198464,\n",
      "the empirical var of deltas thetas is 0.0020965237636119127\n",
      "the minimum of the deltas theta is -0.40882229804992676 and the maximum is 0.3768961727619171\n",
      "the added laplace noise var is 0.005576412357279915\n",
      "global epoch 16 has been done artifficialy in 0.92 secs, the total time by now is 14.87 \n",
      " with avg train loss 1.286, val loss 1.091, avg val acc 61.50%\n"
     ]
    },
    {
     "name": "stderr",
     "output_type": "stream",
     "text": [
      "  5%|▌         | 16/300 [06:01<1:46:43, 22.55s/it]"
     ]
    },
    {
     "name": "stdout",
     "output_type": "stream",
     "text": [
      "after cleansing the weights updates who were almost zeros (meaning with absolute value of less than 10**-7, 0.00% of the weights upadtes) we get:\n",
      "user No.23 has been picked 17, his deltas theta's mean\n",
      " is -0.0013748937053605914,\n",
      "the empirical var of deltas thetas is 0.0021773444022983313\n",
      "the minimum of the deltas theta is -0.3032863438129425 and the maximum is 0.4158916175365448\n",
      "the added laplace noise var is 0.0058039900627965095\n",
      "global epoch 17 has been done artifficialy in 0.93 secs, the total time by now is 15.80 \n",
      " with avg train loss 1.259, val loss 1.074, avg val acc 62.32%\n"
     ]
    },
    {
     "name": "stderr",
     "output_type": "stream",
     "text": [
      "  6%|▌         | 17/300 [06:23<1:46:16, 22.53s/it]"
     ]
    },
    {
     "name": "stdout",
     "output_type": "stream",
     "text": [
      "after cleansing the weights updates who were almost zeros (meaning with absolute value of less than 10**-7, 0.00% of the weights upadtes) we get:\n",
      "user No.26 has been picked 18, his deltas theta's mean\n",
      " is -0.0013272074284031987,\n",
      "the empirical var of deltas thetas is 0.0025361417792737484\n",
      "the minimum of the deltas theta is -0.39409032464027405 and the maximum is 0.36446285247802734\n",
      "the added laplace noise var is 0.006040855390664162\n",
      "global epoch 18 has been done artifficialy in 0.99 secs, the total time by now is 16.79 \n",
      " with avg train loss 1.228, val loss 1.049, avg val acc 63.02%\n"
     ]
    },
    {
     "name": "stderr",
     "output_type": "stream",
     "text": [
      "  6%|▌         | 18/300 [06:46<1:45:55, 22.54s/it]"
     ]
    },
    {
     "name": "stdout",
     "output_type": "stream",
     "text": [
      "after cleansing the weights updates who were almost zeros (meaning with absolute value of less than 10**-7, 0.00% of the weights upadtes) we get:\n",
      "user No.12 has been picked 19, his deltas theta's mean\n",
      " is -0.0003524894127622247,\n",
      "the empirical var of deltas thetas is 0.0027177133597433567\n",
      "the minimum of the deltas theta is -0.3370794653892517 and the maximum is 0.35514330863952637\n",
      "the added laplace noise var is 0.006287387375941429\n",
      "global epoch 19 has been done artifficialy in 0.92 secs, the total time by now is 17.71 \n",
      " with avg train loss 1.208, val loss 1.036, avg val acc 63.31%\n"
     ]
    },
    {
     "name": "stderr",
     "output_type": "stream",
     "text": [
      "  6%|▋         | 19/300 [07:08<1:45:36, 22.55s/it]"
     ]
    },
    {
     "name": "stdout",
     "output_type": "stream",
     "text": [
      "after cleansing the weights updates who were almost zeros (meaning with absolute value of less than 10**-7, 0.00% of the weights upadtes) we get:\n",
      "user No.5 has been picked 20, his deltas theta's mean\n",
      " is -0.0003220505022909492,\n",
      "the empirical var of deltas thetas is 0.0031764169689267874\n",
      "the minimum of the deltas theta is -0.45565077662467957 and the maximum is 0.4559760093688965\n",
      "the added laplace noise var is 0.006543980522401047\n",
      "global epoch 20 has been done artifficialy in 0.94 secs, the total time by now is 18.66 \n",
      " with avg train loss 1.204, val loss 1.028, avg val acc 63.90%\n"
     ]
    },
    {
     "name": "stderr",
     "output_type": "stream",
     "text": [
      "  7%|▋         | 20/300 [07:31<1:45:24, 22.59s/it]"
     ]
    },
    {
     "name": "stdout",
     "output_type": "stream",
     "text": [
      "after cleansing the weights updates who were almost zeros (meaning with absolute value of less than 10**-7, 0.00% of the weights upadtes) we get:\n",
      "user No.16 has been picked 21, his deltas theta's mean\n",
      " is -0.002606126246973872,\n",
      "the empirical var of deltas thetas is 0.003110043238848448\n",
      "the minimum of the deltas theta is -0.3450053334236145 and the maximum is 0.4777768552303314\n",
      "the added laplace noise var is 0.006811045433820142\n",
      "global epoch 21 has been done artifficialy in 0.92 secs, the total time by now is 19.58 \n",
      " with avg train loss 1.170, val loss 0.993, avg val acc 64.79%\n"
     ]
    },
    {
     "name": "stderr",
     "output_type": "stream",
     "text": [
      "  7%|▋         | 21/300 [07:53<1:45:07, 22.61s/it]"
     ]
    },
    {
     "name": "stdout",
     "output_type": "stream",
     "text": [
      "after cleansing the weights updates who were almost zeros (meaning with absolute value of less than 10**-7, 0.00% of the weights upadtes) we get:\n",
      "user No.16 has been picked 22, his deltas theta's mean\n",
      " is -0.0019563992973417044,\n",
      "the empirical var of deltas thetas is 0.003510879585519433\n",
      "the minimum of the deltas theta is -0.3807152211666107 and the maximum is 0.40469834208488464\n",
      "the added laplace noise var is 0.007089009471033874\n",
      "global epoch 22 has been done artifficialy in 0.93 secs, the total time by now is 20.51 \n",
      " with avg train loss 1.146, val loss 0.980, avg val acc 64.86%\n"
     ]
    },
    {
     "name": "stderr",
     "output_type": "stream",
     "text": [
      "  7%|▋         | 22/300 [08:16<1:44:44, 22.61s/it]"
     ]
    },
    {
     "name": "stdout",
     "output_type": "stream",
     "text": [
      "after cleansing the weights updates who were almost zeros (meaning with absolute value of less than 10**-7, 0.00% of the weights upadtes) we get:\n",
      "user No.20 has been picked 23, his deltas theta's mean\n",
      " is -0.002019363921135664,\n",
      "the empirical var of deltas thetas is 0.003003315767273307\n",
      "the minimum of the deltas theta is -0.37148162722587585 and the maximum is 0.411945104598999\n",
      "the added laplace noise var is 0.0073783174358039395\n",
      "global epoch 23 has been done artifficialy in 0.91 secs, the total time by now is 21.42 \n",
      " with avg train loss 1.126, val loss 0.964, avg val acc 65.32%\n"
     ]
    },
    {
     "name": "stderr",
     "output_type": "stream",
     "text": [
      "  8%|▊         | 23/300 [08:39<1:44:23, 22.61s/it]"
     ]
    },
    {
     "name": "stdout",
     "output_type": "stream",
     "text": [
      "after cleansing the weights updates who were almost zeros (meaning with absolute value of less than 10**-7, 0.00% of the weights upadtes) we get:\n",
      "user No.11 has been picked 24, his deltas theta's mean\n",
      " is -0.0005227813380770385,\n",
      "the empirical var of deltas thetas is 0.0035317549481987953\n",
      "the minimum of the deltas theta is -0.3825741708278656 and the maximum is 0.449449360370636\n",
      "the added laplace noise var is 0.007679432282596293\n",
      "global epoch 24 has been done artifficialy in 0.91 secs, the total time by now is 22.33 \n",
      " with avg train loss 1.107, val loss 0.961, avg val acc 65.73%\n"
     ]
    },
    {
     "name": "stderr",
     "output_type": "stream",
     "text": [
      "  8%|▊         | 24/300 [09:01<1:43:58, 22.60s/it]"
     ]
    },
    {
     "name": "stdout",
     "output_type": "stream",
     "text": [
      "after cleansing the weights updates who were almost zeros (meaning with absolute value of less than 10**-7, 0.00% of the weights upadtes) we get:\n",
      "user No.21 has been picked 25, his deltas theta's mean\n",
      " is -0.0020844193641096354,\n",
      "the empirical var of deltas thetas is 0.003479046281427145\n",
      "the minimum of the deltas theta is -0.33442044258117676 and the maximum is 0.36371028423309326\n",
      "the added laplace noise var is 0.007992835859407068\n",
      "global epoch 25 has been done artifficialy in 0.99 secs, the total time by now is 23.32 \n",
      " with avg train loss 1.083, val loss 0.934, avg val acc 66.96%\n"
     ]
    },
    {
     "name": "stderr",
     "output_type": "stream",
     "text": [
      "  8%|▊         | 25/300 [09:24<1:43:40, 22.62s/it]"
     ]
    },
    {
     "name": "stdout",
     "output_type": "stream",
     "text": [
      "after cleansing the weights updates who were almost zeros (meaning with absolute value of less than 10**-7, 0.00% of the weights upadtes) we get:\n",
      "user No.6 has been picked 26, his deltas theta's mean\n",
      " is -0.0025282057467848063,\n",
      "the empirical var of deltas thetas is 0.0038233106024563313\n",
      "the minimum of the deltas theta is -0.4312594532966614 and the maximum is 0.4645915925502777\n",
      "the added laplace noise var is 0.008319029678822153\n",
      "global epoch 26 has been done artifficialy in 0.92 secs, the total time by now is 24.23 \n",
      " with avg train loss 1.065, val loss 0.940, avg val acc 66.59%\n"
     ]
    },
    {
     "name": "stderr",
     "output_type": "stream",
     "text": [
      "  9%|▊         | 26/300 [09:47<1:43:24, 22.64s/it]"
     ]
    },
    {
     "name": "stdout",
     "output_type": "stream",
     "text": [
      "after cleansing the weights updates who were almost zeros (meaning with absolute value of less than 10**-7, 0.00% of the weights upadtes) we get:\n",
      "user No.29 has been picked 27, his deltas theta's mean\n",
      " is -0.0013859870377928019,\n",
      "the empirical var of deltas thetas is 0.004060481209307909\n",
      "the minimum of the deltas theta is -0.4129595160484314 and the maximum is 0.46986454725265503\n",
      "the added laplace noise var is 0.008658535720544341\n",
      "global epoch 27 has been done artifficialy in 0.90 secs, the total time by now is 25.13 \n",
      " with avg train loss 1.047, val loss 0.916, avg val acc 67.49%\n"
     ]
    },
    {
     "name": "stderr",
     "output_type": "stream",
     "text": [
      "  9%|▉         | 27/300 [10:09<1:43:07, 22.67s/it]"
     ]
    },
    {
     "name": "stdout",
     "output_type": "stream",
     "text": [
      "after cleansing the weights updates who were almost zeros (meaning with absolute value of less than 10**-7, 0.00% of the weights upadtes) we get:\n",
      "user No.1 has been picked 28, his deltas theta's mean\n",
      " is -0.0009337390074506402,\n",
      "the empirical var of deltas thetas is 0.003914008382707834\n",
      "the minimum of the deltas theta is -0.38190561532974243 and the maximum is 0.3857722282409668\n",
      "the added laplace noise var is 0.009011897266672203\n",
      "global epoch 28 has been done artifficialy in 0.91 secs, the total time by now is 26.05 \n",
      " with avg train loss 1.027, val loss 0.893, avg val acc 68.67%\n"
     ]
    },
    {
     "name": "stderr",
     "output_type": "stream",
     "text": [
      "  9%|▉         | 28/300 [10:32<1:42:52, 22.69s/it]"
     ]
    },
    {
     "name": "stdout",
     "output_type": "stream",
     "text": [
      "after cleansing the weights updates who were almost zeros (meaning with absolute value of less than 10**-7, 0.00% of the weights upadtes) we get:\n",
      "user No.7 has been picked 29, his deltas theta's mean\n",
      " is -0.0011423738906159997,\n",
      "the empirical var of deltas thetas is 0.00405527651309967\n",
      "the minimum of the deltas theta is -0.4318895936012268 and the maximum is 0.38336920738220215\n",
      "the added laplace noise var is 0.009379679771067361\n",
      "global epoch 29 has been done artifficialy in 0.91 secs, the total time by now is 26.96 \n",
      " with avg train loss 1.016, val loss 0.885, avg val acc 69.07%\n"
     ]
    },
    {
     "name": "stderr",
     "output_type": "stream",
     "text": [
      " 10%|▉         | 29/300 [10:55<1:42:21, 22.66s/it]"
     ]
    },
    {
     "name": "stdout",
     "output_type": "stream",
     "text": [
      "after cleansing the weights updates who were almost zeros (meaning with absolute value of less than 10**-7, 0.00% of the weights upadtes) we get:\n",
      "user No.24 has been picked 30, his deltas theta's mean\n",
      " is -0.0014463142724707723,\n",
      "the empirical var of deltas thetas is 0.0036061974242329597\n",
      "the minimum of the deltas theta is -0.32613039016723633 and the maximum is 0.4516569972038269\n",
      "the added laplace noise var is 0.009762471764201303\n",
      "global epoch 30 has been done artifficialy in 0.93 secs, the total time by now is 27.88 \n",
      " with avg train loss 0.995, val loss 0.871, avg val acc 69.60%\n"
     ]
    },
    {
     "name": "stderr",
     "output_type": "stream",
     "text": [
      " 10%|█         | 30/300 [11:17<1:41:50, 22.63s/it]"
     ]
    },
    {
     "name": "stdout",
     "output_type": "stream",
     "text": [
      "after cleansing the weights updates who were almost zeros (meaning with absolute value of less than 10**-7, 0.00% of the weights upadtes) we get:\n",
      "user No.3 has been picked 31, his deltas theta's mean\n",
      " is -0.0008067700546234846,\n",
      "the empirical var of deltas thetas is 0.003918313421308994\n",
      "the minimum of the deltas theta is -0.34039273858070374 and the maximum is 0.3728081285953522\n",
      "the added laplace noise var is 0.010160885794929691\n",
      "global epoch 31 has been done artifficialy in 1.00 secs, the total time by now is 28.88 \n",
      " with avg train loss 0.989, val loss 0.864, avg val acc 69.50%\n"
     ]
    },
    {
     "name": "stderr",
     "output_type": "stream",
     "text": [
      " 10%|█         | 31/300 [11:40<1:41:26, 22.63s/it]"
     ]
    },
    {
     "name": "stdout",
     "output_type": "stream",
     "text": [
      "after cleansing the weights updates who were almost zeros (meaning with absolute value of less than 10**-7, 0.00% of the weights upadtes) we get:\n",
      "user No.20 has been picked 32, his deltas theta's mean\n",
      " is -0.0014433027245104313,\n",
      "the empirical var of deltas thetas is 0.0036025729496032\n",
      "the minimum of the deltas theta is -0.3475247323513031 and the maximum is 0.3864595890045166\n",
      "the added laplace noise var is 0.01057555941070121\n",
      "global epoch 32 has been done artifficialy in 0.90 secs, the total time by now is 29.78 \n",
      " with avg train loss 0.976, val loss 0.853, avg val acc 70.13%\n"
     ]
    },
    {
     "name": "stderr",
     "output_type": "stream",
     "text": [
      " 11%|█         | 32/300 [12:02<1:41:03, 22.63s/it]"
     ]
    },
    {
     "name": "stdout",
     "output_type": "stream",
     "text": [
      "after cleansing the weights updates who were almost zeros (meaning with absolute value of less than 10**-7, 0.00% of the weights upadtes) we get:\n",
      "user No.22 has been picked 33, his deltas theta's mean\n",
      " is -0.0010161777026951313,\n",
      "the empirical var of deltas thetas is 0.003934008069336414\n",
      "the minimum of the deltas theta is -0.4364050626754761 and the maximum is 0.33722591400146484\n",
      "the added laplace noise var is 0.011007156177769524\n",
      "global epoch 33 has been done artifficialy in 0.97 secs, the total time by now is 30.75 \n",
      " with avg train loss 0.949, val loss 0.845, avg val acc 70.38%\n"
     ]
    },
    {
     "name": "stderr",
     "output_type": "stream",
     "text": [
      " 11%|█         | 33/300 [12:25<1:40:44, 22.64s/it]"
     ]
    },
    {
     "name": "stdout",
     "output_type": "stream",
     "text": [
      "after cleansing the weights updates who were almost zeros (meaning with absolute value of less than 10**-7, 0.00% of the weights upadtes) we get:\n",
      "user No.25 has been picked 34, his deltas theta's mean\n",
      " is -0.0011540093692019582,\n",
      "the empirical var of deltas thetas is 0.004267565440386534\n",
      "the minimum of the deltas theta is -0.36436909437179565 and the maximum is 0.4168805181980133\n",
      "the added laplace noise var is 0.011456366743040828\n",
      "global epoch 34 has been done artifficialy in 0.95 secs, the total time by now is 31.71 \n",
      " with avg train loss 0.928, val loss 0.838, avg val acc 70.49%\n"
     ]
    },
    {
     "name": "stderr",
     "output_type": "stream",
     "text": [
      " 11%|█▏        | 34/300 [12:49<1:41:51, 22.98s/it]"
     ]
    },
    {
     "name": "stdout",
     "output_type": "stream",
     "text": [
      "after cleansing the weights updates who were almost zeros (meaning with absolute value of less than 10**-7, 0.00% of the weights upadtes) we get:\n",
      "user No.8 has been picked 35, his deltas theta's mean\n",
      " is -0.00053422711789608,\n",
      "the empirical var of deltas thetas is 0.004222592804580927\n",
      "the minimum of the deltas theta is -0.31953805685043335 and the maximum is 0.35113972425460815\n",
      "the added laplace noise var is 0.011923909939256253\n",
      "global epoch 35 has been done artifficialy in 0.92 secs, the total time by now is 32.62 \n",
      " with avg train loss 0.922, val loss 0.838, avg val acc 70.56%\n"
     ]
    },
    {
     "name": "stderr",
     "output_type": "stream",
     "text": [
      " 12%|█▏        | 35/300 [13:11<1:40:53, 22.84s/it]"
     ]
    },
    {
     "name": "stdout",
     "output_type": "stream",
     "text": [
      "after cleansing the weights updates who were almost zeros (meaning with absolute value of less than 10**-7, 0.00% of the weights upadtes) we get:\n",
      "user No.8 has been picked 36, his deltas theta's mean\n",
      " is 0.0006325437570922077,\n",
      "the empirical var of deltas thetas is 0.003935582935810089\n",
      "the minimum of the deltas theta is -0.3463565707206726 and the maximum is 0.3469697833061218\n",
      "the added laplace noise var is 0.012410533935277612\n",
      "global epoch 36 has been done artifficialy in 0.89 secs, the total time by now is 33.51 \n",
      " with avg train loss 0.904, val loss 0.822, avg val acc 71.49%\n"
     ]
    },
    {
     "name": "stderr",
     "output_type": "stream",
     "text": [
      " 12%|█▏        | 36/300 [13:34<1:40:09, 22.76s/it]"
     ]
    },
    {
     "name": "stdout",
     "output_type": "stream",
     "text": [
      "after cleansing the weights updates who were almost zeros (meaning with absolute value of less than 10**-7, 0.00% of the weights upadtes) we get:\n",
      "user No.21 has been picked 37, his deltas theta's mean\n",
      " is -0.002394236857071519,\n",
      "the empirical var of deltas thetas is 0.004846170544624329\n",
      "the minimum of the deltas theta is -0.39371299743652344 and the maximum is 0.43016424775123596\n",
      "the added laplace noise var is 0.012917017433317197\n",
      "global epoch 37 has been done artifficialy in 0.93 secs, the total time by now is 34.44 \n",
      " with avg train loss 0.887, val loss 0.818, avg val acc 71.38%\n"
     ]
    },
    {
     "name": "stderr",
     "output_type": "stream",
     "text": [
      " 12%|█▏        | 37/300 [13:57<1:39:34, 22.72s/it]"
     ]
    },
    {
     "name": "stdout",
     "output_type": "stream",
     "text": [
      "after cleansing the weights updates who were almost zeros (meaning with absolute value of less than 10**-7, 0.00% of the weights upadtes) we get:\n",
      "user No.0 has been picked 38, his deltas theta's mean\n",
      " is -0.0005049854516983032,\n",
      "the empirical var of deltas thetas is 0.0044548059813678265\n",
      "the minimum of the deltas theta is -0.4001759886741638 and the maximum is 0.4061433672904968\n",
      "the added laplace noise var is 0.01344417091502745\n",
      "global epoch 38 has been done artifficialy in 0.97 secs, the total time by now is 35.40 \n",
      " with avg train loss 0.868, val loss 0.809, avg val acc 72.30%\n"
     ]
    },
    {
     "name": "stderr",
     "output_type": "stream",
     "text": [
      " 13%|█▎        | 38/300 [14:19<1:38:53, 22.65s/it]"
     ]
    },
    {
     "name": "stdout",
     "output_type": "stream",
     "text": [
      "after cleansing the weights updates who were almost zeros (meaning with absolute value of less than 10**-7, 0.00% of the weights upadtes) we get:\n",
      "user No.0 has been picked 39, his deltas theta's mean\n",
      " is 0.0007473619771189988,\n",
      "the empirical var of deltas thetas is 0.004077593795955181\n",
      "the minimum of the deltas theta is -0.3958519399166107 and the maximum is 0.3919060230255127\n",
      "the added laplace noise var is 0.013992837938444509\n",
      "global epoch 39 has been done artifficialy in 0.91 secs, the total time by now is 36.32 \n",
      " with avg train loss 0.865, val loss 0.805, avg val acc 72.20%\n"
     ]
    },
    {
     "name": "stderr",
     "output_type": "stream",
     "text": [
      " 13%|█▎        | 39/300 [14:42<1:38:18, 22.60s/it]"
     ]
    },
    {
     "name": "stdout",
     "output_type": "stream",
     "text": [
      "after cleansing the weights updates who were almost zeros (meaning with absolute value of less than 10**-7, 0.00% of the weights upadtes) we get:\n",
      "user No.25 has been picked 40, his deltas theta's mean\n",
      " is 0.0008915882790461183,\n",
      "the empirical var of deltas thetas is 0.004419573117047548\n",
      "the minimum of the deltas theta is -0.34498798847198486 and the maximum is 0.3265213370323181\n",
      "the added laplace noise var is 0.014563896487861052\n",
      "global epoch 40 has been done artifficialy in 0.94 secs, the total time by now is 37.25 \n",
      " with avg train loss 0.857, val loss 0.814, avg val acc 72.18%\n"
     ]
    },
    {
     "name": "stderr",
     "output_type": "stream",
     "text": [
      " 13%|█▎        | 40/300 [15:04<1:37:50, 22.58s/it]"
     ]
    },
    {
     "name": "stdout",
     "output_type": "stream",
     "text": [
      "after cleansing the weights updates who were almost zeros (meaning with absolute value of less than 10**-7, 0.00% of the weights upadtes) we get:\n",
      "user No.13 has been picked 41, his deltas theta's mean\n",
      " is -0.0010464496444910765,\n",
      "the empirical var of deltas thetas is 0.004921202082186937\n",
      "the minimum of the deltas theta is -0.4456571936607361 and the maximum is 0.4157063663005829\n",
      "the added laplace noise var is 0.015158260378788464\n",
      "global epoch 41 has been done artifficialy in 0.90 secs, the total time by now is 38.16 \n",
      " with avg train loss 0.837, val loss 0.790, avg val acc 72.75%\n"
     ]
    },
    {
     "name": "stderr",
     "output_type": "stream",
     "text": [
      " 14%|█▎        | 41/300 [15:27<1:37:39, 22.62s/it]"
     ]
    },
    {
     "name": "stdout",
     "output_type": "stream",
     "text": [
      "after cleansing the weights updates who were almost zeros (meaning with absolute value of less than 10**-7, 0.00% of the weights upadtes) we get:\n",
      "user No.3 has been picked 42, his deltas theta's mean\n",
      " is -6.602313806070015e-05,\n",
      "the empirical var of deltas thetas is 0.0049507515504956245\n",
      "the minimum of the deltas theta is -0.3903372287750244 and the maximum is 0.4229196608066559\n",
      "the added laplace noise var is 0.015776880720256625\n",
      "global epoch 42 has been done artifficialy in 0.90 secs, the total time by now is 39.06 \n",
      " with avg train loss 0.813, val loss 0.788, avg val acc 72.74%\n"
     ]
    },
    {
     "name": "stderr",
     "output_type": "stream",
     "text": [
      " 14%|█▍        | 42/300 [15:50<1:37:38, 22.71s/it]"
     ]
    },
    {
     "name": "stdout",
     "output_type": "stream",
     "text": [
      "after cleansing the weights updates who were almost zeros (meaning with absolute value of less than 10**-7, 0.00% of the weights upadtes) we get:\n",
      "user No.9 has been picked 43, his deltas theta's mean\n",
      " is 0.0005581390578299761,\n",
      "the empirical var of deltas thetas is 0.004805807955563068\n",
      "the minimum of the deltas theta is -0.40060901641845703 and the maximum is 0.37267404794692993\n",
      "the added laplace noise var is 0.016420747436791262\n",
      "global epoch 43 has been done artifficialy in 0.93 secs, the total time by now is 39.99 \n",
      " with avg train loss 0.807, val loss 0.782, avg val acc 72.93%\n"
     ]
    },
    {
     "name": "stderr",
     "output_type": "stream",
     "text": [
      " 14%|█▍        | 43/300 [16:13<1:37:19, 22.72s/it]"
     ]
    },
    {
     "name": "stdout",
     "output_type": "stream",
     "text": [
      "after cleansing the weights updates who were almost zeros (meaning with absolute value of less than 10**-7, 0.00% of the weights upadtes) we get:\n",
      "user No.14 has been picked 44, his deltas theta's mean\n",
      " is 0.0003389977209735662,\n",
      "the empirical var of deltas thetas is 0.004359879065304995\n",
      "the minimum of the deltas theta is -0.32151931524276733 and the maximum is 0.37506189942359924\n",
      "the added laplace noise var is 0.017090890852504384\n",
      "global epoch 44 has been done artifficialy in 0.98 secs, the total time by now is 40.97 \n",
      " with avg train loss 0.796, val loss 0.771, avg val acc 73.41%\n"
     ]
    },
    {
     "name": "stderr",
     "output_type": "stream",
     "text": [
      " 15%|█▍        | 44/300 [16:35<1:36:54, 22.71s/it]"
     ]
    },
    {
     "name": "stdout",
     "output_type": "stream",
     "text": [
      "after cleansing the weights updates who were almost zeros (meaning with absolute value of less than 10**-7, 0.00% of the weights upadtes) we get:\n",
      "user No.18 has been picked 45, his deltas theta's mean\n",
      " is -0.0007264121668413281,\n",
      "the empirical var of deltas thetas is 0.004938044119626284\n",
      "the minimum of the deltas theta is -0.3453325629234314 and the maximum is 0.3986559808254242\n",
      "the added laplace noise var is 0.017788383339832698\n",
      "global epoch 45 has been done artifficialy in 0.95 secs, the total time by now is 41.91 \n",
      " with avg train loss 0.781, val loss 0.777, avg val acc 73.41%\n"
     ]
    },
    {
     "name": "stderr",
     "output_type": "stream",
     "text": [
      " 15%|█▌        | 45/300 [16:58<1:36:37, 22.74s/it]"
     ]
    },
    {
     "name": "stdout",
     "output_type": "stream",
     "text": [
      "after cleansing the weights updates who were almost zeros (meaning with absolute value of less than 10**-7, 0.00% of the weights upadtes) we get:\n",
      "user No.2 has been picked 46, his deltas theta's mean\n",
      " is -0.00021194030705373734,\n",
      "the empirical var of deltas thetas is 0.004748342093080282\n",
      "the minimum of the deltas theta is -0.393096387386322 and the maximum is 0.40422523021698\n",
      "the added laplace noise var is 0.01851434103556225\n",
      "global epoch 46 has been done artifficialy in 1.01 secs, the total time by now is 42.92 \n",
      " with avg train loss 0.772, val loss 0.772, avg val acc 73.37%\n"
     ]
    },
    {
     "name": "stderr",
     "output_type": "stream",
     "text": [
      " 15%|█▌        | 46/300 [17:21<1:36:26, 22.78s/it]"
     ]
    },
    {
     "name": "stdout",
     "output_type": "stream",
     "text": [
      "after cleansing the weights updates who were almost zeros (meaning with absolute value of less than 10**-7, 0.00% of the weights upadtes) we get:\n",
      "user No.23 has been picked 47, his deltas theta's mean\n",
      " is -0.0010404417989775538,\n",
      "the empirical var of deltas thetas is 0.004713392350822687\n",
      "the minimum of the deltas theta is -0.4685673415660858 and the maximum is 0.4199613332748413\n",
      "the added laplace noise var is 0.019269925626885447\n",
      "global epoch 47 has been done artifficialy in 1.04 secs, the total time by now is 43.96 \n",
      " with avg train loss 0.764, val loss 0.772, avg val acc 73.51%\n"
     ]
    },
    {
     "name": "stderr",
     "output_type": "stream",
     "text": [
      " 16%|█▌        | 47/300 [17:44<1:36:48, 22.96s/it]"
     ]
    },
    {
     "name": "stdout",
     "output_type": "stream",
     "text": [
      "after cleansing the weights updates who were almost zeros (meaning with absolute value of less than 10**-7, 0.00% of the weights upadtes) we get:\n",
      "user No.0 has been picked 48, his deltas theta's mean\n",
      " is 0.0008518764516338706,\n",
      "the empirical var of deltas thetas is 0.0053642126731574535\n",
      "the minimum of the deltas theta is -0.3550645709037781 and the maximum is 0.4195753335952759\n",
      "the added laplace noise var is 0.02005634621034838\n",
      "global epoch 48 has been done artifficialy in 0.93 secs, the total time by now is 44.88 \n",
      " with avg train loss 0.742, val loss 0.767, avg val acc 73.85%\n"
     ]
    },
    {
     "name": "stderr",
     "output_type": "stream",
     "text": [
      " 16%|█▌        | 48/300 [18:08<1:37:17, 23.16s/it]"
     ]
    },
    {
     "name": "stdout",
     "output_type": "stream",
     "text": [
      "after cleansing the weights updates who were almost zeros (meaning with absolute value of less than 10**-7, 0.00% of the weights upadtes) we get:\n",
      "user No.27 has been picked 49, his deltas theta's mean\n",
      " is -0.000668336870148778,\n",
      "the empirical var of deltas thetas is 0.004888719413429499\n",
      "the minimum of the deltas theta is -0.402884304523468 and the maximum is 0.40045610070228577\n",
      "the added laplace noise var is 0.02087486122666327\n",
      "global epoch 49 has been done artifficialy in 0.98 secs, the total time by now is 45.87 \n",
      " with avg train loss 0.736, val loss 0.765, avg val acc 74.01%\n"
     ]
    },
    {
     "name": "stderr",
     "output_type": "stream",
     "text": [
      " 16%|█▋        | 49/300 [18:31<1:36:31, 23.07s/it]"
     ]
    },
    {
     "name": "stdout",
     "output_type": "stream",
     "text": [
      "after cleansing the weights updates who were almost zeros (meaning with absolute value of less than 10**-7, 0.00% of the weights upadtes) we get:\n",
      "user No.27 has been picked 50, his deltas theta's mean\n",
      " is 4.437129064172041e-06,\n",
      "the empirical var of deltas thetas is 0.004753567278385162\n",
      "the minimum of the deltas theta is -0.3663786053657532 and the maximum is 0.35089388489723206\n",
      "the added laplace noise var is 0.021726780474482066\n",
      "global epoch 50 has been done artifficialy in 0.95 secs, the total time by now is 46.82 \n",
      " with avg train loss 0.726, val loss 0.767, avg val acc 73.96%\n"
     ]
    },
    {
     "name": "stderr",
     "output_type": "stream",
     "text": [
      " 17%|█▋        | 50/300 [18:54<1:35:58, 23.03s/it]"
     ]
    },
    {
     "name": "stdout",
     "output_type": "stream",
     "text": [
      "after cleansing the weights updates who were almost zeros (meaning with absolute value of less than 10**-7, 0.00% of the weights upadtes) we get:\n",
      "user No.20 has been picked 51, his deltas theta's mean\n",
      " is -0.001422287430614233,\n",
      "the empirical var of deltas thetas is 0.0056943087838590145\n",
      "the minimum of the deltas theta is -0.3978365659713745 and the maximum is 0.4452102780342102\n",
      "the added laplace noise var is 0.022613467206353745\n",
      "global epoch 51 has been done artifficialy in 0.96 secs, the total time by now is 47.78 \n",
      " with avg train loss 0.718, val loss 0.761, avg val acc 74.34%\n"
     ]
    },
    {
     "name": "stderr",
     "output_type": "stream",
     "text": [
      " 17%|█▋        | 51/300 [19:17<1:35:25, 22.99s/it]"
     ]
    },
    {
     "name": "stdout",
     "output_type": "stream",
     "text": [
      "after cleansing the weights updates who were almost zeros (meaning with absolute value of less than 10**-7, 0.00% of the weights upadtes) we get:\n",
      "user No.3 has been picked 52, his deltas theta's mean\n",
      " is 0.0008099913829937577,\n",
      "the empirical var of deltas thetas is 0.005309684667736292\n",
      "the minimum of the deltas theta is -0.3709562420845032 and the maximum is 0.4233866333961487\n",
      "the added laplace noise var is 0.023536340310219228\n",
      "global epoch 52 has been done artifficialy in 0.96 secs, the total time by now is 48.74 \n",
      " with avg train loss 0.706, val loss 0.760, avg val acc 74.10%\n"
     ]
    },
    {
     "name": "stderr",
     "output_type": "stream",
     "text": [
      " 17%|█▋        | 52/300 [19:40<1:35:18, 23.06s/it]"
     ]
    },
    {
     "name": "stdout",
     "output_type": "stream",
     "text": [
      "after cleansing the weights updates who were almost zeros (meaning with absolute value of less than 10**-7, 0.00% of the weights upadtes) we get:\n",
      "user No.8 has been picked 53, his deltas theta's mean\n",
      " is 0.0005793746095150709,\n",
      "the empirical var of deltas thetas is 0.004814380779862404\n",
      "the minimum of the deltas theta is -0.38757768273353577 and the maximum is 0.37554091215133667\n",
      "the added laplace noise var is 0.02449687657993479\n",
      "global epoch 53 has been done artifficialy in 0.93 secs, the total time by now is 49.67 \n",
      " with avg train loss 0.694, val loss 0.757, avg val acc 74.25%\n"
     ]
    },
    {
     "name": "stderr",
     "output_type": "stream",
     "text": [
      " 18%|█▊        | 53/300 [20:03<1:35:30, 23.20s/it]"
     ]
    },
    {
     "name": "stdout",
     "output_type": "stream",
     "text": [
      "after cleansing the weights updates who were almost zeros (meaning with absolute value of less than 10**-7, 0.00% of the weights upadtes) we get:\n",
      "user No.17 has been picked 54, his deltas theta's mean\n",
      " is -0.0002516023232601583,\n",
      "the empirical var of deltas thetas is 0.00500698434188962\n",
      "the minimum of the deltas theta is -0.34851640462875366 and the maximum is 0.4499608874320984\n",
      "the added laplace noise var is 0.025496613078457308\n",
      "global epoch 54 has been done artifficialy in 0.93 secs, the total time by now is 50.60 \n",
      " with avg train loss 0.687, val loss 0.758, avg val acc 74.19%\n"
     ]
    },
    {
     "name": "stderr",
     "output_type": "stream",
     "text": [
      " 18%|█▊        | 54/300 [20:27<1:35:04, 23.19s/it]"
     ]
    },
    {
     "name": "stdout",
     "output_type": "stream",
     "text": [
      "after cleansing the weights updates who were almost zeros (meaning with absolute value of less than 10**-7, 0.00% of the weights upadtes) we get:\n",
      "user No.9 has been picked 55, his deltas theta's mean\n",
      " is -0.0009670617873780429,\n",
      "the empirical var of deltas thetas is 0.005624107085168362\n",
      "the minimum of the deltas theta is -0.402876615524292 and the maximum is 0.39669299125671387\n",
      "the added laplace noise var is 0.026537149597472925\n",
      "global epoch 55 has been done artifficialy in 0.97 secs, the total time by now is 51.57 \n",
      " with avg train loss 0.683, val loss 0.753, avg val acc 74.29%\n"
     ]
    },
    {
     "name": "stderr",
     "output_type": "stream",
     "text": [
      " 18%|█▊        | 55/300 [20:50<1:34:42, 23.19s/it]"
     ]
    },
    {
     "name": "stdout",
     "output_type": "stream",
     "text": [
      "after cleansing the weights updates who were almost zeros (meaning with absolute value of less than 10**-7, 0.00% of the weights upadtes) we get:\n",
      "user No.7 has been picked 56, his deltas theta's mean\n",
      " is -0.0009310490568168461,\n",
      "the empirical var of deltas thetas is 0.0056319087743759155\n",
      "the minimum of the deltas theta is -0.3691224455833435 and the maximum is 0.38134902715682983\n",
      "the added laplace noise var is 0.02762015121740502\n",
      "global epoch 56 has been done artifficialy in 0.94 secs, the total time by now is 52.51 \n",
      " with avg train loss 0.671, val loss 0.753, avg val acc 74.31%\n"
     ]
    },
    {
     "name": "stderr",
     "output_type": "stream",
     "text": [
      " 19%|█▊        | 56/300 [21:13<1:34:09, 23.15s/it]"
     ]
    },
    {
     "name": "stdout",
     "output_type": "stream",
     "text": [
      "after cleansing the weights updates who were almost zeros (meaning with absolute value of less than 10**-7, 0.00% of the weights upadtes) we get:\n",
      "user No.0 has been picked 57, his deltas theta's mean\n",
      " is -0.0007394313579425216,\n",
      "the empirical var of deltas thetas is 0.00479464465752244\n",
      "the minimum of the deltas theta is -0.39896273612976074 and the maximum is 0.3718964159488678\n",
      "the added laplace noise var is 0.028747350971898154\n",
      "global epoch 57 has been done artifficialy in 0.95 secs, the total time by now is 53.46 \n",
      " with avg train loss 0.652, val loss 0.749, avg val acc 74.52%\n"
     ]
    },
    {
     "name": "stderr",
     "output_type": "stream",
     "text": [
      " 19%|█▉        | 57/300 [21:36<1:33:38, 23.12s/it]"
     ]
    },
    {
     "name": "stdout",
     "output_type": "stream",
     "text": [
      "after cleansing the weights updates who were almost zeros (meaning with absolute value of less than 10**-7, 0.00% of the weights upadtes) we get:\n",
      "user No.22 has been picked 58, his deltas theta's mean\n",
      " is -0.00022780444123782218,\n",
      "the empirical var of deltas thetas is 0.005241877865046263\n",
      "the minimum of the deltas theta is -0.38193291425704956 and the maximum is 0.39824220538139343\n",
      "the added laplace noise var is 0.02992055262104161\n",
      "global epoch 58 has been done artifficialy in 1.00 secs, the total time by now is 54.46 \n",
      " with avg train loss 0.650, val loss 0.754, avg val acc 74.24%\n"
     ]
    },
    {
     "name": "stderr",
     "output_type": "stream",
     "text": [
      " 19%|█▉        | 58/300 [21:59<1:33:48, 23.26s/it]"
     ]
    },
    {
     "name": "stdout",
     "output_type": "stream",
     "text": [
      "after cleansing the weights updates who were almost zeros (meaning with absolute value of less than 10**-7, 0.00% of the weights upadtes) we get:\n",
      "user No.25 has been picked 59, his deltas theta's mean\n",
      " is -0.000458772003185004,\n",
      "the empirical var of deltas thetas is 0.00481199286878109\n",
      "the minimum of the deltas theta is -0.37373119592666626 and the maximum is 0.4084647595882416\n",
      "the added laplace noise var is 0.031141633537770413\n",
      "global epoch 59 has been done artifficialy in 0.93 secs, the total time by now is 55.39 \n",
      " with avg train loss 0.629, val loss 0.752, avg val acc 74.30%\n"
     ]
    },
    {
     "name": "stderr",
     "output_type": "stream",
     "text": [
      " 20%|█▉        | 59/300 [22:23<1:33:18, 23.23s/it]"
     ]
    },
    {
     "name": "stdout",
     "output_type": "stream",
     "text": [
      "after cleansing the weights updates who were almost zeros (meaning with absolute value of less than 10**-7, 0.00% of the weights upadtes) we get:\n",
      "user No.8 has been picked 60, his deltas theta's mean\n",
      " is 9.730288729770109e-05,\n",
      "the empirical var of deltas thetas is 0.005013772752135992\n",
      "the minimum of the deltas theta is -0.37236201763153076 and the maximum is 0.4416404962539673\n",
      "the added laplace noise var is 0.032412547712062464\n",
      "global epoch 60 has been done artifficialy in 0.90 secs, the total time by now is 56.29 \n",
      " with avg train loss 0.629, val loss 0.744, avg val acc 74.61%\n"
     ]
    },
    {
     "name": "stderr",
     "output_type": "stream",
     "text": [
      " 20%|██        | 60/300 [22:46<1:33:28, 23.37s/it]"
     ]
    },
    {
     "name": "stdout",
     "output_type": "stream",
     "text": [
      "after cleansing the weights updates who were almost zeros (meaning with absolute value of less than 10**-7, 0.00% of the weights upadtes) we get:\n",
      "user No.1 has been picked 61, his deltas theta's mean\n",
      " is -0.0004144364793319255,\n",
      "the empirical var of deltas thetas is 0.005527928471565247\n",
      "the minimum of the deltas theta is -0.44591590762138367 and the maximum is 0.41196417808532715\n",
      "the added laplace noise var is 0.03373532887773946\n",
      "global epoch 61 has been done artifficialy in 0.90 secs, the total time by now is 57.19 \n",
      " with avg train loss 0.620, val loss 0.747, avg val acc 74.65%\n"
     ]
    },
    {
     "name": "stderr",
     "output_type": "stream",
     "text": [
      " 20%|██        | 61/300 [23:09<1:32:15, 23.16s/it]"
     ]
    },
    {
     "name": "stdout",
     "output_type": "stream",
     "text": [
      "after cleansing the weights updates who were almost zeros (meaning with absolute value of less than 10**-7, 0.00% of the weights upadtes) we get:\n",
      "user No.27 has been picked 62, his deltas theta's mean\n",
      " is -0.00023886191775090992,\n",
      "the empirical var of deltas thetas is 0.00529662799090147\n",
      "the minimum of the deltas theta is -0.3647032380104065 and the maximum is 0.36278480291366577\n",
      "the added laplace noise var is 0.03511209376687483\n",
      "global epoch 62 has been done artifficialy in 0.97 secs, the total time by now is 58.16 \n",
      " with avg train loss 0.604, val loss 0.746, avg val acc 74.84%\n"
     ]
    },
    {
     "name": "stderr",
     "output_type": "stream",
     "text": [
      " 21%|██        | 62/300 [23:32<1:31:12, 23.00s/it]"
     ]
    },
    {
     "name": "stdout",
     "output_type": "stream",
     "text": [
      "after cleansing the weights updates who were almost zeros (meaning with absolute value of less than 10**-7, 0.00% of the weights upadtes) we get:\n",
      "user No.15 has been picked 63, his deltas theta's mean\n",
      " is -0.0008470415486954153,\n",
      "the empirical var of deltas thetas is 0.0053845541551709175\n",
      "the minimum of the deltas theta is -0.37678396701812744 and the maximum is 0.4356427788734436\n",
      "the added laplace noise var is 0.036545045497016725\n",
      "global epoch 63 has been done artifficialy in 0.94 secs, the total time by now is 59.10 \n",
      " with avg train loss 0.597, val loss 0.751, avg val acc 74.48%\n"
     ]
    },
    {
     "name": "stderr",
     "output_type": "stream",
     "text": [
      " 21%|██        | 63/300 [23:54<1:30:15, 22.85s/it]"
     ]
    },
    {
     "name": "stdout",
     "output_type": "stream",
     "text": [
      "after cleansing the weights updates who were almost zeros (meaning with absolute value of less than 10**-7, 0.00% of the weights upadtes) we get:\n",
      "user No.7 has been picked 64, his deltas theta's mean\n",
      " is -0.0009442204609513283,\n",
      "the empirical var of deltas thetas is 0.005243257153779268\n",
      "the minimum of the deltas theta is -0.3911002576351166 and the maximum is 0.42733556032180786\n",
      "the added laplace noise var is 0.03803647709664604\n",
      "global epoch 64 has been done artifficialy in 0.93 secs, the total time by now is 60.03 \n",
      " with avg train loss 0.591, val loss 0.750, avg val acc 74.66%\n"
     ]
    },
    {
     "name": "stderr",
     "output_type": "stream",
     "text": [
      " 21%|██▏       | 64/300 [24:18<1:30:36, 23.04s/it]"
     ]
    },
    {
     "name": "stdout",
     "output_type": "stream",
     "text": [
      "after cleansing the weights updates who were almost zeros (meaning with absolute value of less than 10**-7, 0.00% of the weights upadtes) we get:\n",
      "user No.22 has been picked 65, his deltas theta's mean\n",
      " is 0.00020313577260822058,\n",
      "the empirical var of deltas thetas is 0.005084679927676916\n",
      "the minimum of the deltas theta is -0.3273673951625824 and the maximum is 0.527386486530304\n",
      "the added laplace noise var is 0.039588775174511204\n",
      "global epoch 65 has been done artifficialy in 0.92 secs, the total time by now is 60.95 \n",
      " with avg train loss 0.577, val loss 0.751, avg val acc 74.80%\n"
     ]
    },
    {
     "name": "stderr",
     "output_type": "stream",
     "text": [
      " 22%|██▏       | 65/300 [24:40<1:29:23, 22.82s/it]"
     ]
    },
    {
     "name": "stdout",
     "output_type": "stream",
     "text": [
      "after cleansing the weights updates who were almost zeros (meaning with absolute value of less than 10**-7, 0.00% of the weights upadtes) we get:\n",
      "user No.3 has been picked 66, his deltas theta's mean\n",
      " is 0.0004508470883592963,\n",
      "the empirical var of deltas thetas is 0.00478378077968955\n",
      "the minimum of the deltas theta is -0.36740177869796753 and the maximum is 0.4250912070274353\n",
      "the added laplace noise var is 0.0412044237387114\n",
      "global epoch 66 has been done artifficialy in 0.91 secs, the total time by now is 61.86 \n",
      " with avg train loss 0.575, val loss 0.745, avg val acc 74.96%\n"
     ]
    },
    {
     "name": "stderr",
     "output_type": "stream",
     "text": [
      " 22%|██▏       | 66/300 [25:02<1:28:27, 22.68s/it]"
     ]
    },
    {
     "name": "stdout",
     "output_type": "stream",
     "text": [
      "after cleansing the weights updates who were almost zeros (meaning with absolute value of less than 10**-7, 0.00% of the weights upadtes) we get:\n",
      "user No.18 has been picked 67, his deltas theta's mean\n",
      " is 0.00013963774836156517,\n",
      "the empirical var of deltas thetas is 0.005490482784807682\n",
      "the minimum of the deltas theta is -0.3626193702220917 and the maximum is 0.4100078344345093\n",
      "the added laplace noise var is 0.042886008171639435\n",
      "global epoch 67 has been done artifficialy in 0.94 secs, the total time by now is 62.81 \n",
      " with avg train loss 0.569, val loss 0.752, avg val acc 74.77%\n"
     ]
    },
    {
     "name": "stderr",
     "output_type": "stream",
     "text": [
      " 22%|██▏       | 67/300 [25:24<1:27:32, 22.54s/it]"
     ]
    },
    {
     "name": "stdout",
     "output_type": "stream",
     "text": [
      "after cleansing the weights updates who were almost zeros (meaning with absolute value of less than 10**-7, 0.00% of the weights upadtes) we get:\n",
      "user No.11 has been picked 68, his deltas theta's mean\n",
      " is -0.0011930494802072644,\n",
      "the empirical var of deltas thetas is 0.00555716548115015\n",
      "the minimum of the deltas theta is -0.37901291251182556 and the maximum is 0.357422411441803\n",
      "the added laplace noise var is 0.04463621936714514\n",
      "global epoch 68 has been done artifficialy in 1.03 secs, the total time by now is 63.83 \n",
      " with avg train loss 0.557, val loss 0.753, avg val acc 75.11%\n"
     ]
    },
    {
     "name": "stderr",
     "output_type": "stream",
     "text": [
      " 23%|██▎       | 68/300 [25:47<1:26:47, 22.45s/it]"
     ]
    },
    {
     "name": "stdout",
     "output_type": "stream",
     "text": [
      "after cleansing the weights updates who were almost zeros (meaning with absolute value of less than 10**-7, 0.00% of the weights upadtes) we get:\n",
      "user No.15 has been picked 69, his deltas theta's mean\n",
      " is 5.5375072406604886e-05,\n",
      "the empirical var of deltas thetas is 0.00573797058314085\n",
      "the minimum of the deltas theta is -0.4000781774520874 and the maximum is 0.4213254749774933\n",
      "the added laplace noise var is 0.0464578580365396\n",
      "global epoch 69 has been done artifficialy in 1.00 secs, the total time by now is 64.83 \n",
      " with avg train loss 0.551, val loss 0.763, avg val acc 74.80%\n"
     ]
    },
    {
     "name": "stderr",
     "output_type": "stream",
     "text": [
      " 23%|██▎       | 69/300 [26:09<1:26:13, 22.39s/it]"
     ]
    },
    {
     "name": "stdout",
     "output_type": "stream",
     "text": [
      "after cleansing the weights updates who were almost zeros (meaning with absolute value of less than 10**-7, 0.00% of the weights upadtes) we get:\n",
      "user No.14 has been picked 70, his deltas theta's mean\n",
      " is -0.0002474063658155501,\n",
      "the empirical var of deltas thetas is 0.004834174644201994\n",
      "the minimum of the deltas theta is -0.4151960015296936 and the maximum is 0.3614743947982788\n",
      "the added laplace noise var is 0.04835383919033085\n",
      "global epoch 70 has been done artifficialy in 0.91 secs, the total time by now is 65.74 \n",
      " with avg train loss 0.547, val loss 0.750, avg val acc 74.99%\n"
     ]
    },
    {
     "name": "stderr",
     "output_type": "stream",
     "text": [
      " 23%|██▎       | 70/300 [26:31<1:25:39, 22.35s/it]"
     ]
    },
    {
     "name": "stdout",
     "output_type": "stream",
     "text": [
      "after cleansing the weights updates who were almost zeros (meaning with absolute value of less than 10**-7, 0.00% of the weights upadtes) we get:\n",
      "user No.25 has been picked 71, his deltas theta's mean\n",
      " is -0.0003892187960445881,\n",
      "the empirical var of deltas thetas is 0.005352672655135393\n",
      "the minimum of the deltas theta is -0.49017903208732605 and the maximum is 0.4413115382194519\n",
      "the added laplace noise var is 0.050327196802862476\n",
      "global epoch 71 has been done artifficialy in 0.96 secs, the total time by now is 66.71 \n",
      " with avg train loss 0.542, val loss 0.753, avg val acc 74.83%\n"
     ]
    },
    {
     "name": "stderr",
     "output_type": "stream",
     "text": [
      " 24%|██▎       | 71/300 [26:53<1:25:07, 22.30s/it]"
     ]
    },
    {
     "name": "stdout",
     "output_type": "stream",
     "text": [
      "after cleansing the weights updates who were almost zeros (meaning with absolute value of less than 10**-7, 0.00% of the weights upadtes) we get:\n",
      "user No.22 has been picked 72, his deltas theta's mean\n",
      " is 0.0005540826823562384,\n",
      "the empirical var of deltas thetas is 0.005273760296404362\n",
      "the minimum of the deltas theta is -0.3899923861026764 and the maximum is 0.3702971637248993\n",
      "the added laplace noise var is 0.05238108866731998\n",
      "global epoch 72 has been done artifficialy in 0.95 secs, the total time by now is 67.65 \n",
      " with avg train loss 0.532, val loss 0.759, avg val acc 75.04%\n"
     ]
    },
    {
     "name": "stderr",
     "output_type": "stream",
     "text": [
      " 24%|██▍       | 72/300 [27:16<1:25:10, 22.41s/it]"
     ]
    },
    {
     "name": "stdout",
     "output_type": "stream",
     "text": [
      "after cleansing the weights updates who were almost zeros (meaning with absolute value of less than 10**-7, 0.00% of the weights upadtes) we get:\n",
      "user No.18 has been picked 73, his deltas theta's mean\n",
      " is -0.0014875263441354036,\n",
      "the empirical var of deltas thetas is 0.004912218078970909\n",
      "the minimum of the deltas theta is -0.4060128331184387 and the maximum is 0.4334537386894226\n",
      "the added laplace noise var is 0.054518801448873444\n",
      "global epoch 73 has been done artifficialy in 0.87 secs, the total time by now is 68.52 \n",
      " with avg train loss 0.517, val loss 0.760, avg val acc 75.04%\n"
     ]
    },
    {
     "name": "stderr",
     "output_type": "stream",
     "text": [
      " 24%|██▍       | 73/300 [27:40<1:26:05, 22.75s/it]"
     ]
    },
    {
     "name": "stdout",
     "output_type": "stream",
     "text": [
      "after cleansing the weights updates who were almost zeros (meaning with absolute value of less than 10**-7, 0.00% of the weights upadtes) we get:\n",
      "user No.27 has been picked 74, his deltas theta's mean\n",
      " is -0.0005067618330940604,\n",
      "the empirical var of deltas thetas is 0.0051385932601988316\n",
      "the minimum of the deltas theta is -0.3657175600528717 and the maximum is 0.3731364905834198\n",
      "the added laplace noise var is 0.05674375594404307\n",
      "global epoch 74 has been done artifficialy in 0.92 secs, the total time by now is 69.44 \n",
      " with avg train loss 0.513, val loss 0.766, avg val acc 74.67%\n"
     ]
    },
    {
     "name": "stderr",
     "output_type": "stream",
     "text": [
      " 25%|██▍       | 74/300 [28:03<1:26:04, 22.85s/it]"
     ]
    },
    {
     "name": "stdout",
     "output_type": "stream",
     "text": [
      "after cleansing the weights updates who were almost zeros (meaning with absolute value of less than 10**-7, 0.00% of the weights upadtes) we get:\n",
      "user No.4 has been picked 75, his deltas theta's mean\n",
      " is 0.0008028121665120125,\n",
      "the empirical var of deltas thetas is 0.00456945039331913\n",
      "the minimum of the deltas theta is -0.3584980070590973 and the maximum is 0.3382827341556549\n",
      "the added laplace noise var is 0.0590595125547034\n",
      "global epoch 75 has been done artifficialy in 0.94 secs, the total time by now is 70.37 \n",
      " with avg train loss 0.506, val loss 0.767, avg val acc 74.64%\n"
     ]
    },
    {
     "name": "stderr",
     "output_type": "stream",
     "text": [
      " 25%|██▌       | 75/300 [28:25<1:24:59, 22.67s/it]"
     ]
    },
    {
     "name": "stdout",
     "output_type": "stream",
     "text": [
      "after cleansing the weights updates who were almost zeros (meaning with absolute value of less than 10**-7, 0.00% of the weights upadtes) we get:\n",
      "user No.5 has been picked 76, his deltas theta's mean\n",
      " is 7.703237497480586e-05,\n",
      "the empirical var of deltas thetas is 0.00534225394949317\n",
      "the minimum of the deltas theta is -0.4155915081501007 and the maximum is 0.38401222229003906\n",
      "the added laplace noise var is 0.061469776985485926\n",
      "global epoch 76 has been done artifficialy in 0.94 secs, the total time by now is 71.32 \n",
      " with avg train loss 0.511, val loss 0.768, avg val acc 74.59%\n"
     ]
    },
    {
     "name": "stderr",
     "output_type": "stream",
     "text": [
      " 25%|██▌       | 76/300 [28:47<1:24:20, 22.59s/it]"
     ]
    },
    {
     "name": "stdout",
     "output_type": "stream",
     "text": [
      "after cleansing the weights updates who were almost zeros (meaning with absolute value of less than 10**-7, 0.00% of the weights upadtes) we get:\n",
      "user No.28 has been picked 77, his deltas theta's mean\n",
      " is 0.0001368791563436389,\n",
      "the empirical var of deltas thetas is 0.005304727237671614\n",
      "the minimum of the deltas theta is -0.3420763611793518 and the maximum is 0.36759257316589355\n",
      "the added laplace noise var is 0.06397840617369704\n",
      "global epoch 77 has been done artifficialy in 0.95 secs, the total time by now is 72.26 \n",
      " with avg train loss 0.484, val loss 0.767, avg val acc 74.89%\n"
     ]
    },
    {
     "name": "stderr",
     "output_type": "stream",
     "text": [
      " 26%|██▌       | 77/300 [29:10<1:24:18, 22.69s/it]"
     ]
    },
    {
     "name": "stdout",
     "output_type": "stream",
     "text": [
      "after cleansing the weights updates who were almost zeros (meaning with absolute value of less than 10**-7, 0.00% of the weights upadtes) we get:\n",
      "user No.29 has been picked 78, his deltas theta's mean\n",
      " is 1.0434077921672724e-05,\n",
      "the empirical var of deltas thetas is 0.005992591846734285\n",
      "the minimum of the deltas theta is -0.3853631913661957 and the maximum is 0.4036479592323303\n",
      "the added laplace noise var is 0.0665894144612407\n",
      "global epoch 78 has been done artifficialy in 0.91 secs, the total time by now is 73.17 \n",
      " with avg train loss 0.486, val loss 0.765, avg val acc 75.00%\n"
     ]
    },
    {
     "name": "stderr",
     "output_type": "stream",
     "text": [
      " 26%|██▌       | 78/300 [29:34<1:25:11, 23.03s/it]"
     ]
    },
    {
     "name": "stdout",
     "output_type": "stream",
     "text": [
      "after cleansing the weights updates who were almost zeros (meaning with absolute value of less than 10**-7, 0.00% of the weights upadtes) we get:\n",
      "user No.7 has been picked 79, his deltas theta's mean\n",
      " is -0.00033329729922115803,\n",
      "the empirical var of deltas thetas is 0.0051106177270412445\n",
      "the minimum of the deltas theta is -0.3934537172317505 and the maximum is 0.36077430844306946\n",
      "the added laplace noise var is 0.06930698001842174\n",
      "global epoch 79 has been done artifficialy in 0.92 secs, the total time by now is 74.09 \n",
      " with avg train loss 0.495, val loss 0.768, avg val acc 75.08%\n"
     ]
    },
    {
     "name": "stderr",
     "output_type": "stream",
     "text": [
      " 26%|██▋       | 79/300 [29:57<1:24:54, 23.05s/it]"
     ]
    },
    {
     "name": "stdout",
     "output_type": "stream",
     "text": [
      "after cleansing the weights updates who were almost zeros (meaning with absolute value of less than 10**-7, 0.00% of the weights upadtes) we get:\n",
      "user No.10 has been picked 80, his deltas theta's mean\n",
      " is -0.0006838547415100038,\n",
      "the empirical var of deltas thetas is 0.004843262489885092\n",
      "the minimum of the deltas theta is -0.3549182116985321 and the maximum is 0.3602907061576843\n",
      "the added laplace noise var is 0.07213545152990992\n",
      "global epoch 80 has been done artifficialy in 0.91 secs, the total time by now is 74.99 \n",
      " with avg train loss 0.535, val loss 0.772, avg val acc 74.55%\n"
     ]
    },
    {
     "name": "stderr",
     "output_type": "stream",
     "text": [
      " 27%|██▋       | 80/300 [30:20<1:23:55, 22.89s/it]"
     ]
    },
    {
     "name": "stdout",
     "output_type": "stream",
     "text": [
      "after cleansing the weights updates who were almost zeros (meaning with absolute value of less than 10**-7, 0.00% of the weights upadtes) we get:\n",
      "user No.4 has been picked 81, his deltas theta's mean\n",
      " is -0.0003769181203097105,\n",
      "the empirical var of deltas thetas is 0.0044389767572283745\n",
      "the minimum of the deltas theta is -0.3325813114643097 and the maximum is 0.3742254376411438\n",
      "the added laplace noise var is 0.07507935515356305\n",
      "global epoch 81 has been done artifficialy in 0.93 secs, the total time by now is 75.92 \n",
      " with avg train loss 0.463, val loss 0.776, avg val acc 74.71%\n"
     ]
    },
    {
     "name": "stderr",
     "output_type": "stream",
     "text": [
      " 27%|██▋       | 81/300 [30:42<1:23:04, 22.76s/it]"
     ]
    },
    {
     "name": "stdout",
     "output_type": "stream",
     "text": [
      "after cleansing the weights updates who were almost zeros (meaning with absolute value of less than 10**-7, 0.00% of the weights upadtes) we get:\n",
      "user No.24 has been picked 82, his deltas theta's mean\n",
      " is 0.0002263477217638865,\n",
      "the empirical var of deltas thetas is 0.004668692592531443\n",
      "the minimum of the deltas theta is -0.35188764333724976 and the maximum is 0.34339720010757446\n",
      "the added laplace noise var is 0.07814340176324523\n",
      "global epoch 82 has been done artifficialy in 0.96 secs, the total time by now is 76.89 \n",
      " with avg train loss 0.453, val loss 0.780, avg val acc 75.01%\n"
     ]
    },
    {
     "name": "stderr",
     "output_type": "stream",
     "text": [
      " 27%|██▋       | 82/300 [31:05<1:23:20, 22.94s/it]"
     ]
    },
    {
     "name": "stdout",
     "output_type": "stream",
     "text": [
      "after cleansing the weights updates who were almost zeros (meaning with absolute value of less than 10**-7, 0.00% of the weights upadtes) we get:\n",
      "user No.26 has been picked 83, his deltas theta's mean\n",
      " is -0.0003033659013453871,\n",
      "the empirical var of deltas thetas is 0.004744056146591902\n",
      "the minimum of the deltas theta is -0.3864635229110718 and the maximum is 0.38059666752815247\n",
      "the added laplace noise var is 0.08133249448723011\n",
      "global epoch 83 has been done artifficialy in 0.97 secs, the total time by now is 77.86 \n",
      " with avg train loss 0.455, val loss 0.780, avg val acc 74.90%\n"
     ]
    },
    {
     "name": "stderr",
     "output_type": "stream",
     "text": [
      " 28%|██▊       | 83/300 [31:28<1:22:57, 22.94s/it]"
     ]
    },
    {
     "name": "stdout",
     "output_type": "stream",
     "text": [
      "after cleansing the weights updates who were almost zeros (meaning with absolute value of less than 10**-7, 0.00% of the weights upadtes) we get:\n",
      "user No.18 has been picked 84, his deltas theta's mean\n",
      " is -0.0005251729162409902,\n",
      "the empirical var of deltas thetas is 0.0057008760049939156\n",
      "the minimum of the deltas theta is -0.3833947777748108 and the maximum is 0.444348007440567\n",
      "the added laplace noise var is 0.08465173655425208\n",
      "global epoch 84 has been done artifficialy in 0.95 secs, the total time by now is 78.82 \n",
      " with avg train loss 0.447, val loss 0.779, avg val acc 75.20%\n"
     ]
    },
    {
     "name": "stderr",
     "output_type": "stream",
     "text": [
      " 28%|██▊       | 84/300 [31:51<1:22:03, 22.79s/it]"
     ]
    },
    {
     "name": "stdout",
     "output_type": "stream",
     "text": [
      "after cleansing the weights updates who were almost zeros (meaning with absolute value of less than 10**-7, 0.00% of the weights upadtes) we get:\n",
      "user No.14 has been picked 85, his deltas theta's mean\n",
      " is 0.0005443050758913159,\n",
      "the empirical var of deltas thetas is 0.004790674429386854\n",
      "the minimum of the deltas theta is -0.40224748849868774 and the maximum is 0.4151124358177185\n",
      "the added laplace noise var is 0.0881064394597612\n",
      "global epoch 85 has been done artifficialy in 0.90 secs, the total time by now is 79.72 \n",
      " with avg train loss 0.446, val loss 0.779, avg val acc 74.87%\n"
     ]
    },
    {
     "name": "stderr",
     "output_type": "stream",
     "text": [
      " 28%|██▊       | 85/300 [32:14<1:21:39, 22.79s/it]"
     ]
    },
    {
     "name": "stdout",
     "output_type": "stream",
     "text": [
      "after cleansing the weights updates who were almost zeros (meaning with absolute value of less than 10**-7, 0.00% of the weights upadtes) we get:\n",
      "user No.21 has been picked 86, his deltas theta's mean\n",
      " is -0.0004950957372784615,\n",
      "the empirical var of deltas thetas is 0.005698664579540491\n",
      "the minimum of the deltas theta is -0.410527765750885 and the maximum is 0.3730650842189789\n",
      "the added laplace noise var is 0.09170213146544885\n",
      "global epoch 86 has been done artifficialy in 0.92 secs, the total time by now is 80.64 \n",
      " with avg train loss 0.454, val loss 0.783, avg val acc 74.92%\n"
     ]
    },
    {
     "name": "stderr",
     "output_type": "stream",
     "text": [
      " 29%|██▊       | 86/300 [32:36<1:20:54, 22.68s/it]"
     ]
    },
    {
     "name": "stdout",
     "output_type": "stream",
     "text": [
      "after cleansing the weights updates who were almost zeros (meaning with absolute value of less than 10**-7, 0.00% of the weights upadtes) we get:\n",
      "user No.0 has been picked 87, his deltas theta's mean\n",
      " is -0.000878080609254539,\n",
      "the empirical var of deltas thetas is 0.004108605906367302\n",
      "the minimum of the deltas theta is -0.3763141334056854 and the maximum is 0.35135436058044434\n",
      "the added laplace noise var is 0.09544456644564597\n",
      "global epoch 87 has been done artifficialy in 0.96 secs, the total time by now is 81.60 \n",
      " with avg train loss 0.423, val loss 0.793, avg val acc 74.98%\n"
     ]
    },
    {
     "name": "stderr",
     "output_type": "stream",
     "text": [
      " 29%|██▉       | 87/300 [32:59<1:20:44, 22.75s/it]"
     ]
    },
    {
     "name": "stdout",
     "output_type": "stream",
     "text": [
      "after cleansing the weights updates who were almost zeros (meaning with absolute value of less than 10**-7, 0.00% of the weights upadtes) we get:\n",
      "user No.28 has been picked 88, his deltas theta's mean\n",
      " is 0.0002523625735193491,\n",
      "the empirical var of deltas thetas is 0.004845296498388052\n",
      "the minimum of the deltas theta is -0.379381388425827 and the maximum is 0.38232171535491943\n",
      "the added laplace noise var is 0.09933973309474964\n",
      "global epoch 88 has been done artifficialy in 0.98 secs, the total time by now is 82.58 \n",
      " with avg train loss 0.418, val loss 0.790, avg val acc 74.94%\n"
     ]
    },
    {
     "name": "stderr",
     "output_type": "stream",
     "text": [
      " 29%|██▉       | 88/300 [33:22<1:21:10, 22.98s/it]"
     ]
    },
    {
     "name": "stdout",
     "output_type": "stream",
     "text": [
      "after cleansing the weights updates who were almost zeros (meaning with absolute value of less than 10**-7, 0.00% of the weights upadtes) we get:\n",
      "user No.7 has been picked 89, his deltas theta's mean\n",
      " is -0.0002689744287636131,\n",
      "the empirical var of deltas thetas is 0.0049772909842431545\n",
      "the minimum of the deltas theta is -0.3641037940979004 and the maximum is 0.35560083389282227\n",
      "the added laplace noise var is 0.10339386451041159\n",
      "global epoch 89 has been done artifficialy in 0.89 secs, the total time by now is 83.46 \n",
      " with avg train loss 0.428, val loss 0.786, avg val acc 75.07%\n"
     ]
    },
    {
     "name": "stderr",
     "output_type": "stream",
     "text": [
      " 30%|██▉       | 89/300 [33:46<1:21:05, 23.06s/it]"
     ]
    },
    {
     "name": "stdout",
     "output_type": "stream",
     "text": [
      "after cleansing the weights updates who were almost zeros (meaning with absolute value of less than 10**-7, 0.00% of the weights upadtes) we get:\n",
      "user No.5 has been picked 90, his deltas theta's mean\n",
      " is 0.00045175576815381646,\n",
      "the empirical var of deltas thetas is 0.005202172789722681\n",
      "the minimum of the deltas theta is -0.44303321838378906 and the maximum is 0.37562984228134155\n",
      "the added laplace noise var is 0.10761344816782437\n",
      "global epoch 90 has been done artifficialy in 0.94 secs, the total time by now is 84.41 \n",
      " with avg train loss 0.413, val loss 0.793, avg val acc 74.95%\n"
     ]
    },
    {
     "name": "stderr",
     "output_type": "stream",
     "text": [
      " 30%|███       | 90/300 [34:09<1:20:58, 23.13s/it]"
     ]
    },
    {
     "name": "stdout",
     "output_type": "stream",
     "text": [
      "after cleansing the weights updates who were almost zeros (meaning with absolute value of less than 10**-7, 0.00% of the weights upadtes) we get:\n",
      "user No.20 has been picked 91, his deltas theta's mean\n",
      " is -0.0005129270721226931,\n",
      "the empirical var of deltas thetas is 0.00639678817242384\n",
      "the minimum of the deltas theta is -0.43390387296676636 and the maximum is 0.43628889322280884\n",
      "the added laplace noise var is 0.11200523630106572\n",
      "global epoch 91 has been done artifficialy in 0.92 secs, the total time by now is 85.32 \n",
      " with avg train loss 0.414, val loss 0.798, avg val acc 74.75%\n"
     ]
    },
    {
     "name": "stderr",
     "output_type": "stream",
     "text": [
      " 30%|███       | 91/300 [34:32<1:20:23, 23.08s/it]"
     ]
    },
    {
     "name": "stdout",
     "output_type": "stream",
     "text": [
      "after cleansing the weights updates who were almost zeros (meaning with absolute value of less than 10**-7, 0.00% of the weights upadtes) we get:\n",
      "user No.25 has been picked 92, his deltas theta's mean\n",
      " is -7.337686110986397e-05,\n",
      "the empirical var of deltas thetas is 0.006054118741303682\n",
      "the minimum of the deltas theta is -0.40487176179885864 and the maximum is 0.4016345143318176\n",
      "the added laplace noise var is 0.1165762567081136\n",
      "global epoch 92 has been done artifficialy in 0.95 secs, the total time by now is 86.27 \n",
      " with avg train loss 0.410, val loss 0.797, avg val acc 74.71%\n"
     ]
    },
    {
     "name": "stderr",
     "output_type": "stream",
     "text": [
      " 31%|███       | 92/300 [34:52<1:16:57, 22.20s/it]"
     ]
    },
    {
     "name": "stdout",
     "output_type": "stream",
     "text": [
      "after cleansing the weights updates who were almost zeros (meaning with absolute value of less than 10**-7, 0.00% of the weights upadtes) we get:\n",
      "user No.7 has been picked 93, his deltas theta's mean\n",
      " is -0.0008242045296356082,\n",
      "the empirical var of deltas thetas is 0.00451084366068244\n",
      "the minimum of the deltas theta is -0.4381576478481293 and the maximum is 0.4301677346229553\n",
      "the added laplace noise var is 0.12133382399682234\n",
      "global epoch 93 has been done artifficialy in 0.90 secs, the total time by now is 87.18 \n",
      " with avg train loss 0.387, val loss 0.811, avg val acc 74.90%\n"
     ]
    },
    {
     "name": "stderr",
     "output_type": "stream",
     "text": [
      " 31%|███       | 93/300 [35:14<1:16:44, 22.24s/it]"
     ]
    },
    {
     "name": "stdout",
     "output_type": "stream",
     "text": [
      "after cleansing the weights updates who were almost zeros (meaning with absolute value of less than 10**-7, 0.00% of the weights upadtes) we get:\n",
      "user No.20 has been picked 94, his deltas theta's mean\n",
      " is -0.0002867186558432877,\n",
      "the empirical var of deltas thetas is 0.005005309823900461\n",
      "the minimum of the deltas theta is -0.3813807964324951 and the maximum is 0.4189850687980652\n",
      "the added laplace noise var is 0.1262855512898556\n",
      "global epoch 94 has been done artifficialy in 0.92 secs, the total time by now is 88.09 \n",
      " with avg train loss 0.398, val loss 0.808, avg val acc 74.60%\n"
     ]
    },
    {
     "name": "stderr",
     "output_type": "stream",
     "text": [
      " 31%|███▏      | 94/300 [35:35<1:14:05, 21.58s/it]"
     ]
    },
    {
     "name": "stdout",
     "output_type": "stream",
     "text": [
      "after cleansing the weights updates who were almost zeros (meaning with absolute value of less than 10**-7, 0.00% of the weights upadtes) we get:\n",
      "user No.24 has been picked 95, his deltas theta's mean\n",
      " is 0.00036645596264861524,\n",
      "the empirical var of deltas thetas is 0.005655868910253048\n",
      "the minimum of the deltas theta is -0.4501469135284424 and the maximum is 0.4120577573776245\n",
      "the added laplace noise var is 0.1314393624073072\n",
      "global epoch 95 has been done artifficialy in 0.93 secs, the total time by now is 89.02 \n",
      " with avg train loss 0.403, val loss 0.803, avg val acc 74.74%\n"
     ]
    },
    {
     "name": "stderr",
     "output_type": "stream",
     "text": [
      " 32%|███▏      | 95/300 [35:56<1:13:47, 21.60s/it]"
     ]
    },
    {
     "name": "stdout",
     "output_type": "stream",
     "text": [
      "after cleansing the weights updates who were almost zeros (meaning with absolute value of less than 10**-7, 0.00% of the weights upadtes) we get:\n",
      "user No.11 has been picked 96, his deltas theta's mean\n",
      " is -0.0003820160054601729,\n",
      "the empirical var of deltas thetas is 0.0060643539763987064\n",
      "the minimum of the deltas theta is -0.4148685038089752 and the maximum is 0.4124223589897156\n",
      "the added laplace noise var is 0.13680350454650322\n",
      "global epoch 96 has been done artifficialy in 0.96 secs, the total time by now is 89.98 \n",
      " with avg train loss 0.376, val loss 0.811, avg val acc 74.82%\n"
     ]
    },
    {
     "name": "stderr",
     "output_type": "stream",
     "text": [
      " 32%|███▏      | 96/300 [36:20<1:15:14, 22.13s/it]"
     ]
    },
    {
     "name": "stdout",
     "output_type": "stream",
     "text": [
      "after cleansing the weights updates who were almost zeros (meaning with absolute value of less than 10**-7, 0.00% of the weights upadtes) we get:\n",
      "user No.9 has been picked 97, his deltas theta's mean\n",
      " is 0.0005245904321782291,\n",
      "the empirical var of deltas thetas is 0.0048302458599209785\n",
      "the minimum of the deltas theta is -0.3504250943660736 and the maximum is 0.32545366883277893\n",
      "the added laplace noise var is 0.14238656147927792\n",
      "global epoch 97 has been done artifficialy in 0.93 secs, the total time by now is 90.91 \n",
      " with avg train loss 0.386, val loss 0.811, avg val acc 74.82%\n"
     ]
    },
    {
     "name": "stderr",
     "output_type": "stream",
     "text": [
      " 32%|███▏      | 97/300 [36:41<1:14:16, 21.96s/it]"
     ]
    },
    {
     "name": "stdout",
     "output_type": "stream",
     "text": [
      "after cleansing the weights updates who were almost zeros (meaning with absolute value of less than 10**-7, 0.00% of the weights upadtes) we get:\n",
      "user No.7 has been picked 98, his deltas theta's mean\n",
      " is 0.0024033943191170692,\n",
      "the empirical var of deltas thetas is 0.006804859731346369\n",
      "the minimum of the deltas theta is -0.44929417967796326 and the maximum is 0.5409665703773499\n",
      "the added laplace noise var is 0.14819746728783936\n",
      "global epoch 98 has been done artifficialy in 0.98 secs, the total time by now is 91.89 \n",
      " with avg train loss 0.385, val loss 0.810, avg val acc 74.68%\n"
     ]
    },
    {
     "name": "stderr",
     "output_type": "stream",
     "text": [
      " 33%|███▎      | 98/300 [37:04<1:15:19, 22.37s/it]"
     ]
    },
    {
     "name": "stdout",
     "output_type": "stream",
     "text": [
      "after cleansing the weights updates who were almost zeros (meaning with absolute value of less than 10**-7, 0.00% of the weights upadtes) we get:\n",
      "user No.16 has been picked 99, his deltas theta's mean\n",
      " is -0.0001533460890641436,\n",
      "the empirical var of deltas thetas is 0.004972485359758139\n",
      "the minimum of the deltas theta is -0.3552197515964508 and the maximum is 0.39890605211257935\n",
      "the added laplace noise var is 0.15424552066120722\n",
      "global epoch 99 has been done artifficialy in 0.91 secs, the total time by now is 92.81 \n",
      " with avg train loss 0.375, val loss 0.818, avg val acc 74.64%\n"
     ]
    },
    {
     "name": "stderr",
     "output_type": "stream",
     "text": [
      " 33%|███▎      | 99/300 [37:28<1:15:56, 22.67s/it]"
     ]
    },
    {
     "name": "stdout",
     "output_type": "stream",
     "text": [
      "after cleansing the weights updates who were almost zeros (meaning with absolute value of less than 10**-7, 0.00% of the weights upadtes) we get:\n",
      "user No.29 has been picked 100, his deltas theta's mean\n",
      " is -7.637177986907773e-06,\n",
      "the empirical var of deltas thetas is 0.005263402126729488\n",
      "the minimum of the deltas theta is -0.40139240026474 and the maximum is 0.4169642925262451\n",
      "the added laplace noise var is 0.16054039977509912\n",
      "global epoch 100 has been done artifficialy in 0.93 secs, the total time by now is 93.74 \n",
      " with avg train loss 0.352, val loss 0.835, avg val acc 74.51%\n"
     ]
    },
    {
     "name": "stderr",
     "output_type": "stream",
     "text": [
      " 33%|███▎      | 100/300 [37:51<1:16:22, 22.91s/it]"
     ]
    },
    {
     "name": "stdout",
     "output_type": "stream",
     "text": [
      "after cleansing the weights updates who were almost zeros (meaning with absolute value of less than 10**-7, 0.00% of the weights upadtes) we get:\n",
      "user No.14 has been picked 101, his deltas theta's mean\n",
      " is -7.839646423235536e-05,\n",
      "the empirical var of deltas thetas is 0.0056369430385529995\n",
      "the minimum of the deltas theta is -0.35485589504241943 and the maximum is 0.3592126965522766\n",
      "the added laplace noise var is 0.1670921777790764\n",
      "global epoch 101 has been done artifficialy in 0.95 secs, the total time by now is 94.69 \n",
      " with avg train loss 0.374, val loss 0.825, avg val acc 74.77%\n"
     ]
    },
    {
     "name": "stderr",
     "output_type": "stream",
     "text": [
      " 34%|███▎      | 101/300 [38:15<1:16:38, 23.11s/it]"
     ]
    },
    {
     "name": "stdout",
     "output_type": "stream",
     "text": [
      "after cleansing the weights updates who were almost zeros (meaning with absolute value of less than 10**-7, 0.00% of the weights upadtes) we get:\n",
      "user No.8 has been picked 102, his deltas theta's mean\n",
      " is -0.0011562616564333439,\n",
      "the empirical var of deltas thetas is 0.004357166588306427\n",
      "the minimum of the deltas theta is -0.37131965160369873 and the maximum is 0.36669039726257324\n",
      "the added laplace noise var is 0.17391133891573268\n",
      "global epoch 102 has been done artifficialy in 0.94 secs, the total time by now is 95.64 \n",
      " with avg train loss 0.350, val loss 0.832, avg val acc 74.55%\n"
     ]
    },
    {
     "name": "stderr",
     "output_type": "stream",
     "text": [
      " 34%|███▍      | 102/300 [38:38<1:16:30, 23.18s/it]"
     ]
    },
    {
     "name": "stdout",
     "output_type": "stream",
     "text": [
      "after cleansing the weights updates who were almost zeros (meaning with absolute value of less than 10**-7, 0.00% of the weights upadtes) we get:\n",
      "user No.13 has been picked 103, his deltas theta's mean\n",
      " is 0.0005122260772623122,\n",
      "the empirical var of deltas thetas is 0.005396503489464521\n",
      "the minimum of the deltas theta is -0.4105004668235779 and the maximum is 0.4403834044933319\n",
      "the added laplace noise var is 0.18100879529771854\n",
      "global epoch 103 has been done artifficialy in 0.95 secs, the total time by now is 96.59 \n",
      " with avg train loss 0.354, val loss 0.830, avg val acc 74.76%\n"
     ]
    },
    {
     "name": "stderr",
     "output_type": "stream",
     "text": [
      " 34%|███▍      | 103/300 [39:02<1:16:20, 23.25s/it]"
     ]
    },
    {
     "name": "stdout",
     "output_type": "stream",
     "text": [
      "after cleansing the weights updates who were almost zeros (meaning with absolute value of less than 10**-7, 0.00% of the weights upadtes) we get:\n",
      "user No.4 has been picked 104, his deltas theta's mean\n",
      " is -1.6926067473832518e-05,\n",
      "the empirical var of deltas thetas is 0.005736773833632469\n",
      "the minimum of the deltas theta is -0.3912106156349182 and the maximum is 0.375925749540329\n",
      "the added laplace noise var is 0.18839590436945\n",
      "global epoch 104 has been done artifficialy in 0.97 secs, the total time by now is 97.56 \n",
      " with avg train loss 0.365, val loss 0.829, avg val acc 74.59%\n"
     ]
    },
    {
     "name": "stderr",
     "output_type": "stream",
     "text": [
      " 35%|███▍      | 104/300 [39:25<1:16:15, 23.34s/it]"
     ]
    },
    {
     "name": "stdout",
     "output_type": "stream",
     "text": [
      "after cleansing the weights updates who were almost zeros (meaning with absolute value of less than 10**-7, 0.00% of the weights upadtes) we get:\n",
      "user No.6 has been picked 105, his deltas theta's mean\n",
      " is -0.0012542657786980271,\n",
      "the empirical var of deltas thetas is 0.004258464090526104\n",
      "the minimum of the deltas theta is -0.35786327719688416 and the maximum is 0.3426210880279541\n",
      "the added laplace noise var is 0.19608448708144238\n",
      "global epoch 105 has been done artifficialy in 0.97 secs, the total time by now is 98.53 \n",
      " with avg train loss 0.353, val loss 0.828, avg val acc 74.79%\n"
     ]
    },
    {
     "name": "stderr",
     "output_type": "stream",
     "text": [
      " 35%|███▌      | 105/300 [39:48<1:15:35, 23.26s/it]"
     ]
    },
    {
     "name": "stdout",
     "output_type": "stream",
     "text": [
      "after cleansing the weights updates who were almost zeros (meaning with absolute value of less than 10**-7, 0.00% of the weights upadtes) we get:\n",
      "user No.7 has been picked 106, his deltas theta's mean\n",
      " is -0.0009534910204820335,\n",
      "the empirical var of deltas thetas is 0.005084511358290911\n",
      "the minimum of the deltas theta is -0.3855973482131958 and the maximum is 0.4192470908164978\n",
      "the added laplace noise var is 0.2040868468063534\n",
      "global epoch 106 has been done artifficialy in 0.93 secs, the total time by now is 99.46 \n",
      " with avg train loss 0.341, val loss 0.828, avg val acc 75.16%\n"
     ]
    },
    {
     "name": "stderr",
     "output_type": "stream",
     "text": [
      " 35%|███▌      | 106/300 [40:09<1:12:18, 22.37s/it]"
     ]
    },
    {
     "name": "stdout",
     "output_type": "stream",
     "text": [
      "after cleansing the weights updates who were almost zeros (meaning with absolute value of less than 10**-7, 0.00% of the weights upadtes) we get:\n",
      "user No.6 has been picked 107, his deltas theta's mean\n",
      " is -0.0003886912309098989,\n",
      "the empirical var of deltas thetas is 0.0051392498426139355\n",
      "the minimum of the deltas theta is -0.4065878689289093 and the maximum is 0.3792908787727356\n",
      "the added laplace noise var is 0.21241578902700403\n",
      "global epoch 107 has been done artifficialy in 0.91 secs, the total time by now is 100.37 \n",
      " with avg train loss 0.344, val loss 0.840, avg val acc 74.53%\n"
     ]
    },
    {
     "name": "stderr",
     "output_type": "stream",
     "text": [
      " 36%|███▌      | 107/300 [40:31<1:11:58, 22.37s/it]"
     ]
    },
    {
     "name": "stdout",
     "output_type": "stream",
     "text": [
      "after cleansing the weights updates who were almost zeros (meaning with absolute value of less than 10**-7, 0.00% of the weights upadtes) we get:\n",
      "user No.7 has been picked 108, his deltas theta's mean\n",
      " is -0.0002458140952512622,\n",
      "the empirical var of deltas thetas is 0.0041883233934640884\n",
      "the minimum of the deltas theta is -0.3776410222053528 and the maximum is 0.3622768521308899\n",
      "the added laplace noise var is 0.2210846418278831\n",
      "global epoch 108 has been done artifficialy in 0.90 secs, the total time by now is 101.27 \n",
      " with avg train loss 0.324, val loss 0.843, avg val acc 74.59%\n"
     ]
    },
    {
     "name": "stderr",
     "output_type": "stream",
     "text": [
      " 36%|███▌      | 108/300 [40:51<1:09:30, 21.72s/it]"
     ]
    },
    {
     "name": "stdout",
     "output_type": "stream",
     "text": [
      "after cleansing the weights updates who were almost zeros (meaning with absolute value of less than 10**-7, 0.00% of the weights upadtes) we get:\n",
      "user No.10 has been picked 109, his deltas theta's mean\n",
      " is 0.000522893329616636,\n",
      "the empirical var of deltas thetas is 0.0056534744799137115\n",
      "the minimum of the deltas theta is -0.524284303188324 and the maximum is 0.5135278701782227\n",
      "the added laplace noise var is 0.23010727722292584\n",
      "global epoch 109 has been done artifficialy in 0.93 secs, the total time by now is 102.20 \n",
      " with avg train loss 0.328, val loss 0.848, avg val acc 74.69%\n"
     ]
    },
    {
     "name": "stderr",
     "output_type": "stream",
     "text": [
      " 36%|███▋      | 109/300 [41:13<1:09:23, 21.80s/it]"
     ]
    },
    {
     "name": "stdout",
     "output_type": "stream",
     "text": [
      "after cleansing the weights updates who were almost zeros (meaning with absolute value of less than 10**-7, 0.00% of the weights upadtes) we get:\n",
      "user No.14 has been picked 110, his deltas theta's mean\n",
      " is -0.00017206059419550002,\n",
      "the empirical var of deltas thetas is 0.006011486519128084\n",
      "the minimum of the deltas theta is -0.4258422255516052 and the maximum is 0.3993254005908966\n",
      "the added laplace noise var is 0.23949813335369596\n",
      "global epoch 110 has been done artifficialy in 0.92 secs, the total time by now is 103.12 \n",
      " with avg train loss 0.337, val loss 0.845, avg val acc 74.61%\n"
     ]
    },
    {
     "name": "stderr",
     "output_type": "stream",
     "text": [
      " 37%|███▋      | 110/300 [41:33<1:07:30, 21.32s/it]"
     ]
    },
    {
     "name": "stdout",
     "output_type": "stream",
     "text": [
      "after cleansing the weights updates who were almost zeros (meaning with absolute value of less than 10**-7, 0.00% of the weights upadtes) we get:\n",
      "user No.27 has been picked 111, his deltas theta's mean\n",
      " is 0.0005614128313027322,\n",
      "the empirical var of deltas thetas is 0.005366376601159573\n",
      "the minimum of the deltas theta is -0.343163400888443 and the maximum is 0.379401296377182\n",
      "the added laplace noise var is 0.24927223759349212\n",
      "global epoch 111 has been done artifficialy in 0.94 secs, the total time by now is 104.06 \n",
      " with avg train loss 0.338, val loss 0.839, avg val acc 74.63%\n"
     ]
    },
    {
     "name": "stderr",
     "output_type": "stream",
     "text": [
      " 37%|███▋      | 111/300 [41:55<1:07:11, 21.33s/it]"
     ]
    },
    {
     "name": "stdout",
     "output_type": "stream",
     "text": [
      "after cleansing the weights updates who were almost zeros (meaning with absolute value of less than 10**-7, 0.00% of the weights upadtes) we get:\n",
      "user No.1 has been picked 112, his deltas theta's mean\n",
      " is -0.0001366264041280374,\n",
      "the empirical var of deltas thetas is 0.005030055996030569\n",
      "the minimum of the deltas theta is -0.4381825029850006 and the maximum is 0.35909149050712585\n",
      "the added laplace noise var is 0.2594452305943515\n",
      "global epoch 112 has been done artifficialy in 0.90 secs, the total time by now is 104.96 \n",
      " with avg train loss 0.323, val loss 0.849, avg val acc 74.76%\n"
     ]
    },
    {
     "name": "stderr",
     "output_type": "stream",
     "text": [
      " 37%|███▋      | 112/300 [42:18<1:08:53, 21.99s/it]"
     ]
    },
    {
     "name": "stdout",
     "output_type": "stream",
     "text": [
      "after cleansing the weights updates who were almost zeros (meaning with absolute value of less than 10**-7, 0.00% of the weights upadtes) we get:\n",
      "user No.20 has been picked 113, his deltas theta's mean\n",
      " is -0.0006513773114420474,\n",
      "the empirical var of deltas thetas is 0.004908466245979071\n",
      "the minimum of the deltas theta is -0.3772830367088318 and the maximum is 0.4369814693927765\n",
      "the added laplace noise var is 0.2700333913154297\n",
      "global epoch 113 has been done artifficialy in 0.90 secs, the total time by now is 105.86 \n",
      " with avg train loss 0.333, val loss 0.851, avg val acc 74.76%\n"
     ]
    },
    {
     "name": "stderr",
     "output_type": "stream",
     "text": [
      " 38%|███▊      | 113/300 [42:42<1:09:54, 22.43s/it]"
     ]
    },
    {
     "name": "stdout",
     "output_type": "stream",
     "text": [
      "after cleansing the weights updates who were almost zeros (meaning with absolute value of less than 10**-7, 0.00% of the weights upadtes) we get:\n",
      "user No.11 has been picked 114, his deltas theta's mean\n",
      " is -0.0004213525971863419,\n",
      "the empirical var of deltas thetas is 0.00479301018640399\n",
      "the minimum of the deltas theta is -0.375812292098999 and the maximum is 0.3709384799003601\n",
      "the added laplace noise var is 0.2810536630728085\n",
      "global epoch 114 has been done artifficialy in 0.93 secs, the total time by now is 106.79 \n",
      " with avg train loss 0.313, val loss 0.857, avg val acc 74.58%\n"
     ]
    },
    {
     "name": "stderr",
     "output_type": "stream",
     "text": [
      " 38%|███▊      | 114/300 [43:05<1:10:10, 22.64s/it]"
     ]
    },
    {
     "name": "stdout",
     "output_type": "stream",
     "text": [
      "after cleansing the weights updates who were almost zeros (meaning with absolute value of less than 10**-7, 0.00% of the weights upadtes) we get:\n",
      "user No.28 has been picked 115, his deltas theta's mean\n",
      " is -0.0009701087255962193,\n",
      "the empirical var of deltas thetas is 0.004521059803664684\n",
      "the minimum of the deltas theta is -0.3228810131549835 and the maximum is 0.4203171133995056\n",
      "the added laplace noise var is 0.2925236806524165\n",
      "global epoch 115 has been done artifficialy in 0.95 secs, the total time by now is 107.73 \n",
      " with avg train loss 0.314, val loss 0.851, avg val acc 74.82%\n"
     ]
    },
    {
     "name": "stderr",
     "output_type": "stream",
     "text": [
      " 38%|███▊      | 115/300 [43:28<1:10:41, 22.93s/it]"
     ]
    },
    {
     "name": "stdout",
     "output_type": "stream",
     "text": [
      "after cleansing the weights updates who were almost zeros (meaning with absolute value of less than 10**-7, 0.00% of the weights upadtes) we get:\n",
      "user No.19 has been picked 116, his deltas theta's mean\n",
      " is -0.0003473247052170336,\n",
      "the empirical var of deltas thetas is 0.004806496202945709\n",
      "the minimum of the deltas theta is -0.41542989015579224 and the maximum is 0.3617369532585144\n",
      "the added laplace noise var is 0.30446179852944827\n",
      "global epoch 116 has been done artifficialy in 0.88 secs, the total time by now is 108.61 \n",
      " with avg train loss 0.313, val loss 0.858, avg val acc 74.69%\n"
     ]
    },
    {
     "name": "stderr",
     "output_type": "stream",
     "text": [
      " 39%|███▊      | 116/300 [43:51<1:10:28, 22.98s/it]"
     ]
    },
    {
     "name": "stdout",
     "output_type": "stream",
     "text": [
      "after cleansing the weights updates who were almost zeros (meaning with absolute value of less than 10**-7, 0.00% of the weights upadtes) we get:\n",
      "user No.14 has been picked 117, his deltas theta's mean\n",
      " is -0.0007721532019786537,\n",
      "the empirical var of deltas thetas is 0.004081179387867451\n",
      "the minimum of the deltas theta is -0.36642199754714966 and the maximum is 0.3584943413734436\n",
      "the added laplace noise var is 0.31688712023944193\n",
      "global epoch 117 has been done artifficialy in 1.00 secs, the total time by now is 109.61 \n",
      " with avg train loss 0.304, val loss 0.856, avg val acc 74.90%\n"
     ]
    },
    {
     "name": "stderr",
     "output_type": "stream",
     "text": [
      " 39%|███▉      | 117/300 [44:12<1:07:43, 22.21s/it]"
     ]
    },
    {
     "name": "stdout",
     "output_type": "stream",
     "text": [
      "after cleansing the weights updates who were almost zeros (meaning with absolute value of less than 10**-7, 0.00% of the weights upadtes) we get:\n",
      "user No.27 has been picked 118, his deltas theta's mean\n",
      " is 0.00032947439467534423,\n",
      "the empirical var of deltas thetas is 0.005104999057948589\n",
      "the minimum of the deltas theta is -0.4070093035697937 and the maximum is 0.45266586542129517\n",
      "the added laplace noise var is 0.32981952894801003\n",
      "global epoch 118 has been done artifficialy in 0.94 secs, the total time by now is 110.55 \n",
      " with avg train loss 0.310, val loss 0.862, avg val acc 74.78%\n"
     ]
    },
    {
     "name": "stderr",
     "output_type": "stream",
     "text": [
      " 39%|███▉      | 118/300 [44:35<1:08:11, 22.48s/it]"
     ]
    },
    {
     "name": "stdout",
     "output_type": "stream",
     "text": [
      "after cleansing the weights updates who were almost zeros (meaning with absolute value of less than 10**-7, 0.00% of the weights upadtes) we get:\n",
      "user No.3 has been picked 119, his deltas theta's mean\n",
      " is 0.0007514595636166632,\n",
      "the empirical var of deltas thetas is 0.004839959554374218\n",
      "the minimum of the deltas theta is -0.33172154426574707 and the maximum is 0.3825019299983978\n",
      "the added laplace noise var is 0.34327971926814715\n",
      "global epoch 119 has been done artifficialy in 1.01 secs, the total time by now is 111.56 \n",
      " with avg train loss 0.296, val loss 0.867, avg val acc 74.97%\n"
     ]
    },
    {
     "name": "stderr",
     "output_type": "stream",
     "text": [
      " 40%|███▉      | 119/300 [44:59<1:09:22, 23.00s/it]"
     ]
    },
    {
     "name": "stdout",
     "output_type": "stream",
     "text": [
      "after cleansing the weights updates who were almost zeros (meaning with absolute value of less than 10**-7, 0.00% of the weights upadtes) we get:\n",
      "user No.5 has been picked 120, his deltas theta's mean\n",
      " is 0.0008192710229195654,\n",
      "the empirical var of deltas thetas is 0.008949759416282177\n",
      "the minimum of the deltas theta is -0.42956316471099854 and the maximum is 0.48347923159599304\n",
      "the added laplace noise var is 0.3572892303760259\n",
      "global epoch 120 has been done artifficialy in 1.00 secs, the total time by now is 112.56 \n",
      " with avg train loss 0.298, val loss 0.874, avg val acc 74.67%\n"
     ]
    },
    {
     "name": "stderr",
     "output_type": "stream",
     "text": [
      " 40%|████      | 120/300 [45:23<1:09:37, 23.21s/it]"
     ]
    },
    {
     "name": "stdout",
     "output_type": "stream",
     "text": [
      "after cleansing the weights updates who were almost zeros (meaning with absolute value of less than 10**-7, 0.00% of the weights upadtes) we get:\n",
      "user No.27 has been picked 121, his deltas theta's mean\n",
      " is 0.0006853102240711451,\n",
      "the empirical var of deltas thetas is 0.00453871488571167\n",
      "the minimum of the deltas theta is -0.3510785698890686 and the maximum is 0.4115099310874939\n",
      "the added laplace noise var is 0.37187048047827415\n",
      "global epoch 121 has been done artifficialy in 0.95 secs, the total time by now is 113.51 \n",
      " with avg train loss 0.297, val loss 0.872, avg val acc 74.77%\n"
     ]
    },
    {
     "name": "stderr",
     "output_type": "stream",
     "text": [
      " 40%|████      | 121/300 [45:46<1:09:35, 23.32s/it]"
     ]
    },
    {
     "name": "stdout",
     "output_type": "stream",
     "text": [
      "after cleansing the weights updates who were almost zeros (meaning with absolute value of less than 10**-7, 0.00% of the weights upadtes) we get:\n",
      "user No.6 has been picked 122, his deltas theta's mean\n",
      " is 3.4598684578668326e-05,\n",
      "the empirical var of deltas thetas is 0.005113513208925724\n",
      "the minimum of the deltas theta is -0.43756747245788574 and the maximum is 0.4033287763595581\n",
      "the added laplace noise var is 0.3870468026858879\n",
      "global epoch 122 has been done artifficialy in 0.92 secs, the total time by now is 114.42 \n",
      " with avg train loss 0.289, val loss 0.881, avg val acc 74.51%\n"
     ]
    },
    {
     "name": "stderr",
     "output_type": "stream",
     "text": [
      " 41%|████      | 122/300 [46:10<1:09:33, 23.45s/it]"
     ]
    },
    {
     "name": "stdout",
     "output_type": "stream",
     "text": [
      "after cleansing the weights updates who were almost zeros (meaning with absolute value of less than 10**-7, 0.00% of the weights upadtes) we get:\n",
      "user No.2 has been picked 123, his deltas theta's mean\n",
      " is 0.0003993166028521955,\n",
      "the empirical var of deltas thetas is 0.004329494200646877\n",
      "the minimum of the deltas theta is -0.4059159457683563 and the maximum is 0.3197034001350403\n",
      "the added laplace noise var is 0.4028424823521875\n",
      "global epoch 123 has been done artifficialy in 0.96 secs, the total time by now is 115.38 \n",
      " with avg train loss 0.304, val loss 0.870, avg val acc 74.69%\n"
     ]
    },
    {
     "name": "stderr",
     "output_type": "stream",
     "text": [
      " 41%|████      | 123/300 [46:34<1:09:30, 23.56s/it]"
     ]
    },
    {
     "name": "stdout",
     "output_type": "stream",
     "text": [
      "after cleansing the weights updates who were almost zeros (meaning with absolute value of less than 10**-7, 0.00% of the weights upadtes) we get:\n",
      "user No.10 has been picked 124, his deltas theta's mean\n",
      " is -0.0003212293377146125,\n",
      "the empirical var of deltas thetas is 0.0036661415360867977\n",
      "the minimum of the deltas theta is -0.3316631019115448 and the maximum is 0.35212963819503784\n",
      "the added laplace noise var is 0.4192827959345638\n",
      "global epoch 124 has been done artifficialy in 0.96 secs, the total time by now is 116.35 \n",
      " with avg train loss 0.277, val loss 0.879, avg val acc 74.82%\n"
     ]
    },
    {
     "name": "stderr",
     "output_type": "stream",
     "text": [
      " 41%|████▏     | 124/300 [46:58<1:09:24, 23.66s/it]"
     ]
    },
    {
     "name": "stdout",
     "output_type": "stream",
     "text": [
      "after cleansing the weights updates who were almost zeros (meaning with absolute value of less than 10**-7, 0.00% of the weights upadtes) we get:\n",
      "user No.1 has been picked 125, his deltas theta's mean\n",
      " is 0.0004205332661513239,\n",
      "the empirical var of deltas thetas is 0.004594549536705017\n",
      "the minimum of the deltas theta is -0.3717915713787079 and the maximum is 0.37198689579963684\n",
      "the added laplace noise var is 0.43639405144220245\n",
      "global epoch 125 has been done artifficialy in 0.97 secs, the total time by now is 117.32 \n",
      " with avg train loss 0.271, val loss 0.892, avg val acc 74.77%\n"
     ]
    },
    {
     "name": "stderr",
     "output_type": "stream",
     "text": [
      " 42%|████▏     | 125/300 [47:21<1:08:33, 23.50s/it]"
     ]
    },
    {
     "name": "stdout",
     "output_type": "stream",
     "text": [
      "after cleansing the weights updates who were almost zeros (meaning with absolute value of less than 10**-7, 0.00% of the weights upadtes) we get:\n",
      "user No.16 has been picked 126, his deltas theta's mean\n",
      " is -0.0013864021748304367,\n",
      "the empirical var of deltas thetas is 0.004425504244863987\n",
      "the minimum of the deltas theta is -0.3517810106277466 and the maximum is 0.37683895230293274\n",
      "the added laplace noise var is 0.4542036305345117\n",
      "global epoch 126 has been done artifficialy in 1.00 secs, the total time by now is 118.31 \n",
      " with avg train loss 0.281, val loss 0.887, avg val acc 74.56%\n"
     ]
    },
    {
     "name": "stderr",
     "output_type": "stream",
     "text": [
      " 42%|████▏     | 126/300 [47:45<1:08:34, 23.65s/it]"
     ]
    },
    {
     "name": "stdout",
     "output_type": "stream",
     "text": [
      "after cleansing the weights updates who were almost zeros (meaning with absolute value of less than 10**-7, 0.00% of the weights upadtes) we get:\n",
      "user No.7 has been picked 127, his deltas theta's mean\n",
      " is 0.0005640152376145124,\n",
      "the empirical var of deltas thetas is 0.005367885809391737\n",
      "the minimum of the deltas theta is -0.3821331560611725 and the maximum is 0.35751551389694214\n",
      "the added laplace noise var is 0.4727400323376186\n",
      "global epoch 127 has been done artifficialy in 0.95 secs, the total time by now is 119.27 \n",
      " with avg train loss 0.297, val loss 0.873, avg val acc 74.71%\n"
     ]
    },
    {
     "name": "stderr",
     "output_type": "stream",
     "text": [
      " 42%|████▏     | 127/300 [48:08<1:07:41, 23.48s/it]"
     ]
    },
    {
     "name": "stdout",
     "output_type": "stream",
     "text": [
      "after cleansing the weights updates who were almost zeros (meaning with absolute value of less than 10**-7, 0.00% of the weights upadtes) we get:\n",
      "user No.22 has been picked 128, his deltas theta's mean\n",
      " is 0.0004021001805085689,\n",
      "the empirical var of deltas thetas is 0.005026581697165966\n",
      "the minimum of the deltas theta is -0.4014909863471985 and the maximum is 0.34027332067489624\n",
      "the added laplace noise var is 0.4920329190490515\n",
      "global epoch 128 has been done artifficialy in 0.96 secs, the total time by now is 120.22 \n",
      " with avg train loss 0.268, val loss 0.891, avg val acc 74.35%\n"
     ]
    },
    {
     "name": "stderr",
     "output_type": "stream",
     "text": [
      " 43%|████▎     | 128/300 [48:32<1:07:26, 23.53s/it]"
     ]
    },
    {
     "name": "stdout",
     "output_type": "stream",
     "text": [
      "after cleansing the weights updates who were almost zeros (meaning with absolute value of less than 10**-7, 0.00% of the weights upadtes) we get:\n",
      "user No.0 has been picked 129, his deltas theta's mean\n",
      " is -0.00039539876161143184,\n",
      "the empirical var of deltas thetas is 0.004272966645658016\n",
      "the minimum of the deltas theta is -0.35696887969970703 and the maximum is 0.3310858905315399\n",
      "the added laplace noise var is 0.5121131634035839\n",
      "global epoch 129 has been done artifficialy in 0.91 secs, the total time by now is 121.13 \n",
      " with avg train loss 0.267, val loss 0.897, avg val acc 74.63%\n"
     ]
    },
    {
     "name": "stderr",
     "output_type": "stream",
     "text": [
      " 43%|████▎     | 129/300 [48:55<1:06:32, 23.35s/it]"
     ]
    },
    {
     "name": "stdout",
     "output_type": "stream",
     "text": [
      "after cleansing the weights updates who were almost zeros (meaning with absolute value of less than 10**-7, 0.00% of the weights upadtes) we get:\n",
      "user No.27 has been picked 130, his deltas theta's mean\n",
      " is -0.0012059208238497376,\n",
      "the empirical var of deltas thetas is 0.00489367451518774\n",
      "the minimum of the deltas theta is -0.38844892382621765 and the maximum is 0.41584527492523193\n",
      "the added laplace noise var is 0.5330128980761972\n",
      "global epoch 130 has been done artifficialy in 0.96 secs, the total time by now is 122.08 \n",
      " with avg train loss 0.264, val loss 0.897, avg val acc 74.76%\n"
     ]
    },
    {
     "name": "stderr",
     "output_type": "stream",
     "text": [
      " 43%|████▎     | 130/300 [49:17<1:05:29, 23.11s/it]"
     ]
    },
    {
     "name": "stdout",
     "output_type": "stream",
     "text": [
      "after cleansing the weights updates who were almost zeros (meaning with absolute value of less than 10**-7, 0.00% of the weights upadtes) we get:\n",
      "user No.13 has been picked 131, his deltas theta's mean\n",
      " is -0.00042464365833438933,\n",
      "the empirical var of deltas thetas is 0.0054021175019443035\n",
      "the minimum of the deltas theta is -0.3777554929256439 and the maximum is 0.36477431654930115\n",
      "the added laplace noise var is 0.5547655671012154\n",
      "global epoch 131 has been done artifficialy in 0.93 secs, the total time by now is 123.01 \n",
      " with avg train loss 0.264, val loss 0.904, avg val acc 74.53%\n"
     ]
    },
    {
     "name": "stderr",
     "output_type": "stream",
     "text": [
      " 44%|████▎     | 131/300 [49:38<1:03:00, 22.37s/it]"
     ]
    },
    {
     "name": "stdout",
     "output_type": "stream",
     "text": [
      "after cleansing the weights updates who were almost zeros (meaning with absolute value of less than 10**-7, 0.00% of the weights upadtes) we get:\n",
      "user No.19 has been picked 132, his deltas theta's mean\n",
      " is -0.0012043060269206762,\n",
      "the empirical var of deltas thetas is 0.0035834896843880415\n",
      "the minimum of the deltas theta is -0.31489115953445435 and the maximum is 0.30786895751953125\n",
      "the added laplace noise var is 0.5774059793898954\n",
      "global epoch 132 has been done artifficialy in 0.91 secs, the total time by now is 123.92 \n",
      " with avg train loss 0.266, val loss 0.905, avg val acc 74.56%\n"
     ]
    },
    {
     "name": "stderr",
     "output_type": "stream",
     "text": [
      " 44%|████▍     | 132/300 [50:01<1:03:02, 22.51s/it]"
     ]
    },
    {
     "name": "stdout",
     "output_type": "stream",
     "text": [
      "after cleansing the weights updates who were almost zeros (meaning with absolute value of less than 10**-7, 0.00% of the weights upadtes) we get:\n",
      "user No.2 has been picked 133, his deltas theta's mean\n",
      " is 0.000422391458414495,\n",
      "the empirical var of deltas thetas is 0.004489010665565729\n",
      "the minimum of the deltas theta is -0.3880162835121155 and the maximum is 0.3764864504337311\n",
      "the added laplace noise var is 0.6009703644321112\n",
      "global epoch 133 has been done artifficialy in 0.92 secs, the total time by now is 124.84 \n",
      " with avg train loss 0.268, val loss 0.904, avg val acc 74.57%\n"
     ]
    },
    {
     "name": "stderr",
     "output_type": "stream",
     "text": [
      " 44%|████▍     | 133/300 [50:25<1:04:07, 23.04s/it]"
     ]
    },
    {
     "name": "stdout",
     "output_type": "stream",
     "text": [
      "after cleansing the weights updates who were almost zeros (meaning with absolute value of less than 10**-7, 0.00% of the weights upadtes) we get:\n",
      "user No.13 has been picked 134, his deltas theta's mean\n",
      " is -0.00020145716553088278,\n",
      "the empirical var of deltas thetas is 0.0037399884313344955\n",
      "the minimum of the deltas theta is -0.33858853578567505 and the maximum is 0.3183014988899231\n",
      "the added laplace noise var is 0.6254964302712673\n",
      "global epoch 134 has been done artifficialy in 0.93 secs, the total time by now is 125.77 \n",
      " with avg train loss 0.264, val loss 0.907, avg val acc 74.42%\n"
     ]
    },
    {
     "name": "stderr",
     "output_type": "stream",
     "text": [
      " 45%|████▍     | 134/300 [50:49<1:04:27, 23.30s/it]"
     ]
    },
    {
     "name": "stdout",
     "output_type": "stream",
     "text": [
      "after cleansing the weights updates who were almost zeros (meaning with absolute value of less than 10**-7, 0.00% of the weights upadtes) we get:\n",
      "user No.3 has been picked 135, his deltas theta's mean\n",
      " is 0.0007554328767582774,\n",
      "the empirical var of deltas thetas is 0.004062381573021412\n",
      "the minimum of the deltas theta is -0.3257746994495392 and the maximum is 0.3390050530433655\n",
      "the added laplace noise var is 0.651023423845213\n",
      "global epoch 135 has been done artifficialy in 0.96 secs, the total time by now is 126.73 \n",
      " with avg train loss 0.256, val loss 0.911, avg val acc 74.56%\n"
     ]
    },
    {
     "name": "stderr",
     "output_type": "stream",
     "text": [
      " 45%|████▌     | 135/300 [51:12<1:04:14, 23.36s/it]"
     ]
    },
    {
     "name": "stdout",
     "output_type": "stream",
     "text": [
      "after cleansing the weights updates who were almost zeros (meaning with absolute value of less than 10**-7, 0.00% of the weights upadtes) we get:\n",
      "user No.6 has been picked 136, his deltas theta's mean\n",
      " is -0.000537483545485884,\n",
      "the empirical var of deltas thetas is 0.004536699503660202\n",
      "the minimum of the deltas theta is -0.38741880655288696 and the maximum is 0.3885858356952667\n",
      "the added laplace noise var is 0.6775921937897154\n",
      "global epoch 136 has been done artifficialy in 0.90 secs, the total time by now is 127.63 \n",
      " with avg train loss 0.249, val loss 0.922, avg val acc 74.22%\n"
     ]
    },
    {
     "name": "stderr",
     "output_type": "stream",
     "text": [
      " 45%|████▌     | 136/300 [51:36<1:03:44, 23.32s/it]"
     ]
    },
    {
     "name": "stdout",
     "output_type": "stream",
     "text": [
      "after cleansing the weights updates who were almost zeros (meaning with absolute value of less than 10**-7, 0.00% of the weights upadtes) we get:\n",
      "user No.15 has been picked 137, his deltas theta's mean\n",
      " is 9.732173930387944e-05,\n",
      "the empirical var of deltas thetas is 0.004745683167129755\n",
      "the minimum of the deltas theta is -0.40679460763931274 and the maximum is 0.3914351165294647\n",
      "the added laplace noise var is 0.7052452558049924\n",
      "global epoch 137 has been done artifficialy in 0.98 secs, the total time by now is 128.60 \n",
      " with avg train loss 0.251, val loss 0.927, avg val acc 74.36%\n"
     ]
    },
    {
     "name": "stderr",
     "output_type": "stream",
     "text": [
      " 46%|████▌     | 137/300 [51:59<1:03:03, 23.21s/it]"
     ]
    },
    {
     "name": "stdout",
     "output_type": "stream",
     "text": [
      "after cleansing the weights updates who were almost zeros (meaning with absolute value of less than 10**-7, 0.00% of the weights upadtes) we get:\n",
      "user No.5 has been picked 138, his deltas theta's mean\n",
      " is 0.0010943758534267545,\n",
      "the empirical var of deltas thetas is 0.0036378668155521154\n",
      "the minimum of the deltas theta is -0.41329362988471985 and the maximum is 0.3262803554534912\n",
      "the added laplace noise var is 0.7340268606899031\n",
      "global epoch 138 has been done artifficialy in 1.00 secs, the total time by now is 129.61 \n",
      " with avg train loss 0.277, val loss 0.920, avg val acc 74.02%\n"
     ]
    },
    {
     "name": "stderr",
     "output_type": "stream",
     "text": [
      " 46%|████▌     | 138/300 [52:22<1:02:52, 23.29s/it]"
     ]
    },
    {
     "name": "stdout",
     "output_type": "stream",
     "text": [
      "after cleansing the weights updates who were almost zeros (meaning with absolute value of less than 10**-7, 0.00% of the weights upadtes) we get:\n",
      "user No.0 has been picked 139, his deltas theta's mean\n",
      " is -0.00044269554200582206,\n",
      "the empirical var of deltas thetas is 0.005080414470285177\n",
      "the minimum of the deltas theta is -0.361541748046875 and the maximum is 0.36760056018829346\n",
      "the added laplace noise var is 0.7639830651526663\n",
      "global epoch 139 has been done artifficialy in 0.89 secs, the total time by now is 130.50 \n",
      " with avg train loss 0.246, val loss 0.916, avg val acc 74.69%\n"
     ]
    },
    {
     "name": "stderr",
     "output_type": "stream",
     "text": [
      " 46%|████▋     | 139/300 [52:46<1:02:40, 23.35s/it]"
     ]
    },
    {
     "name": "stdout",
     "output_type": "stream",
     "text": [
      "after cleansing the weights updates who were almost zeros (meaning with absolute value of less than 10**-7, 0.00% of the weights upadtes) we get:\n",
      "user No.14 has been picked 140, his deltas theta's mean\n",
      " is 0.0008552405633963645,\n",
      "the empirical var of deltas thetas is 0.004999737720936537\n",
      "the minimum of the deltas theta is -0.3603939414024353 and the maximum is 0.36094075441360474\n",
      "the added laplace noise var is 0.7951618055114205\n",
      "global epoch 140 has been done artifficialy in 0.95 secs, the total time by now is 131.45 \n",
      " with avg train loss 0.242, val loss 0.926, avg val acc 74.38%\n"
     ]
    },
    {
     "name": "stderr",
     "output_type": "stream",
     "text": [
      " 47%|████▋     | 140/300 [53:09<1:02:02, 23.26s/it]"
     ]
    },
    {
     "name": "stdout",
     "output_type": "stream",
     "text": [
      "after cleansing the weights updates who were almost zeros (meaning with absolute value of less than 10**-7, 0.00% of the weights upadtes) we get:\n",
      "user No.1 has been picked 141, his deltas theta's mean\n",
      " is -0.0003396152169443667,\n",
      "the empirical var of deltas thetas is 0.003923001699149609\n",
      "the minimum of the deltas theta is -0.3436053395271301 and the maximum is 0.327506422996521\n",
      "the added laplace noise var is 0.827612974402558\n",
      "global epoch 141 has been done artifficialy in 0.97 secs, the total time by now is 132.42 \n",
      " with avg train loss 0.244, val loss 0.926, avg val acc 74.55%\n"
     ]
    },
    {
     "name": "stderr",
     "output_type": "stream",
     "text": [
      " 47%|████▋     | 141/300 [53:32<1:02:02, 23.41s/it]"
     ]
    },
    {
     "name": "stdout",
     "output_type": "stream",
     "text": [
      "after cleansing the weights updates who were almost zeros (meaning with absolute value of less than 10**-7, 0.00% of the weights upadtes) we get:\n",
      "user No.21 has been picked 142, his deltas theta's mean\n",
      " is 0.0005139234126545489,\n",
      "the empirical var of deltas thetas is 0.00448068929836154\n",
      "the minimum of the deltas theta is -0.371155321598053 and the maximum is 0.3918139636516571\n",
      "the added laplace noise var is 0.8613885006195916\n",
      "global epoch 142 has been done artifficialy in 0.95 secs, the total time by now is 133.37 \n",
      " with avg train loss 0.245, val loss 0.933, avg val acc 74.49%\n"
     ]
    },
    {
     "name": "stderr",
     "output_type": "stream",
     "text": [
      " 47%|████▋     | 142/300 [53:56<1:01:27, 23.34s/it]"
     ]
    },
    {
     "name": "stdout",
     "output_type": "stream",
     "text": [
      "after cleansing the weights updates who were almost zeros (meaning with absolute value of less than 10**-7, 0.00% of the weights upadtes) we get:\n",
      "user No.17 has been picked 143, his deltas theta's mean\n",
      " is 0.00016822709585539997,\n",
      "the empirical var of deltas thetas is 0.004831535276025534\n",
      "the minimum of the deltas theta is -0.3340141177177429 and the maximum is 0.36800676584243774\n",
      "the added laplace noise var is 0.8965424322102977\n",
      "global epoch 143 has been done artifficialy in 0.94 secs, the total time by now is 134.31 \n",
      " with avg train loss 0.238, val loss 0.936, avg val acc 74.35%\n"
     ]
    },
    {
     "name": "stderr",
     "output_type": "stream",
     "text": [
      " 48%|████▊     | 143/300 [54:19<1:01:28, 23.49s/it]"
     ]
    },
    {
     "name": "stdout",
     "output_type": "stream",
     "text": [
      "after cleansing the weights updates who were almost zeros (meaning with absolute value of less than 10**-7, 0.00% of the weights upadtes) we get:\n",
      "user No.8 has been picked 144, his deltas theta's mean\n",
      " is 1.334005719400011e-05,\n",
      "the empirical var of deltas thetas is 0.0045411610044538975\n",
      "the minimum of the deltas theta is -0.3521496653556824 and the maximum is 0.3347996175289154\n",
      "the added laplace noise var is 0.9331310229651267\n",
      "global epoch 144 has been done artifficialy in 0.95 secs, the total time by now is 135.27 \n",
      " with avg train loss 0.229, val loss 0.956, avg val acc 74.29%\n"
     ]
    },
    {
     "name": "stderr",
     "output_type": "stream",
     "text": [
      " 48%|████▊     | 144/300 [54:43<1:01:20, 23.59s/it]"
     ]
    },
    {
     "name": "stdout",
     "output_type": "stream",
     "text": [
      "after cleansing the weights updates who were almost zeros (meaning with absolute value of less than 10**-7, 0.00% of the weights upadtes) we get:\n",
      "user No.0 has been picked 145, his deltas theta's mean\n",
      " is 0.00038910596049390733,\n",
      "the empirical var of deltas thetas is 0.0038604792207479477\n",
      "the minimum of the deltas theta is -0.3524410128593445 and the maximum is 0.3187101483345032\n",
      "the added laplace noise var is 0.9712128224352687\n",
      "global epoch 145 has been done artifficialy in 0.93 secs, the total time by now is 136.20 \n",
      " with avg train loss 0.239, val loss 0.944, avg val acc 74.23%\n"
     ]
    },
    {
     "name": "stderr",
     "output_type": "stream",
     "text": [
      " 48%|████▊     | 145/300 [55:07<1:00:41, 23.49s/it]"
     ]
    },
    {
     "name": "stdout",
     "output_type": "stream",
     "text": [
      "after cleansing the weights updates who were almost zeros (meaning with absolute value of less than 10**-7, 0.00% of the weights upadtes) we get:\n",
      "user No.8 has been picked 146, his deltas theta's mean\n",
      " is -0.0004970968002453446,\n",
      "the empirical var of deltas thetas is 0.0049538095481693745\n",
      "the minimum of the deltas theta is -0.3842799663543701 and the maximum is 0.3983086049556732\n",
      "the added laplace noise var is 1.0108487696244266\n",
      "global epoch 146 has been done artifficialy in 0.89 secs, the total time by now is 137.09 \n",
      " with avg train loss 0.232, val loss 0.941, avg val acc 74.42%\n"
     ]
    },
    {
     "name": "stderr",
     "output_type": "stream",
     "text": [
      " 49%|████▊     | 146/300 [55:31<1:00:47, 23.68s/it]"
     ]
    },
    {
     "name": "stdout",
     "output_type": "stream",
     "text": [
      "after cleansing the weights updates who were almost zeros (meaning with absolute value of less than 10**-7, 0.00% of the weights upadtes) we get:\n",
      "user No.14 has been picked 147, his deltas theta's mean\n",
      " is -1.4694835044792853e-05,\n",
      "the empirical var of deltas thetas is 0.003701958106830716\n",
      "the minimum of the deltas theta is -0.33006709814071655 and the maximum is 0.3024422526359558\n",
      "the added laplace noise var is 1.0521022905042225\n",
      "global epoch 147 has been done artifficialy in 0.96 secs, the total time by now is 138.05 \n",
      " with avg train loss 0.241, val loss 0.942, avg val acc 74.48%\n"
     ]
    },
    {
     "name": "stderr",
     "output_type": "stream",
     "text": [
      " 49%|████▉     | 147/300 [55:55<1:00:59, 23.92s/it]"
     ]
    },
    {
     "name": "stdout",
     "output_type": "stream",
     "text": [
      "after cleansing the weights updates who were almost zeros (meaning with absolute value of less than 10**-7, 0.00% of the weights upadtes) we get:\n",
      "user No.20 has been picked 148, his deltas theta's mean\n",
      " is 0.00013795297127217054,\n",
      "the empirical var of deltas thetas is 0.0045294682495296\n",
      "the minimum of the deltas theta is -0.36658167839050293 and the maximum is 0.3226076364517212\n",
      "the added laplace noise var is 1.0950393995092849\n",
      "global epoch 148 has been done artifficialy in 0.95 secs, the total time by now is 139.00 \n",
      " with avg train loss 0.255, val loss 0.938, avg val acc 74.10%\n"
     ]
    },
    {
     "name": "stderr",
     "output_type": "stream",
     "text": [
      " 49%|████▉     | 148/300 [56:20<1:01:08, 24.13s/it]"
     ]
    },
    {
     "name": "stdout",
     "output_type": "stream",
     "text": [
      "after cleansing the weights updates who were almost zeros (meaning with absolute value of less than 10**-7, 0.00% of the weights upadtes) we get:\n",
      "user No.7 has been picked 149, his deltas theta's mean\n",
      " is 0.0002026778383878991,\n",
      "the empirical var of deltas thetas is 0.0051527926698327065\n",
      "the minimum of the deltas theta is -0.32942068576812744 and the maximum is 0.3552444577217102\n",
      "the added laplace noise var is 1.139728805174427\n",
      "global epoch 149 has been done artifficialy in 0.89 secs, the total time by now is 139.89 \n",
      " with avg train loss 0.238, val loss 0.942, avg val acc 74.05%\n"
     ]
    },
    {
     "name": "stderr",
     "output_type": "stream",
     "text": [
      " 50%|████▉     | 149/300 [56:44<1:00:46, 24.15s/it]"
     ]
    },
    {
     "name": "stdout",
     "output_type": "stream",
     "text": [
      "after cleansing the weights updates who were almost zeros (meaning with absolute value of less than 10**-7, 0.00% of the weights upadtes) we get:\n",
      "user No.1 has been picked 150, his deltas theta's mean\n",
      " is 7.661498239031062e-05,\n",
      "the empirical var of deltas thetas is 0.004290093667805195\n",
      "the minimum of the deltas theta is -0.3667328953742981 and the maximum is 0.3537495732307434\n",
      "the added laplace noise var is 1.1862420200829609\n",
      "global epoch 150 has been done artifficialy in 0.97 secs, the total time by now is 140.86 \n",
      " with avg train loss 0.279, val loss 0.930, avg val acc 73.97%\n"
     ]
    },
    {
     "name": "stderr",
     "output_type": "stream",
     "text": [
      " 50%|█████     | 150/300 [57:08<1:00:07, 24.05s/it]"
     ]
    },
    {
     "name": "stdout",
     "output_type": "stream",
     "text": [
      "after cleansing the weights updates who were almost zeros (meaning with absolute value of less than 10**-7, 0.00% of the weights upadtes) we get:\n",
      "user No.11 has been picked 151, his deltas theta's mean\n",
      " is 1.4754577932762913e-05,\n",
      "the empirical var of deltas thetas is 0.004492293577641249\n",
      "the minimum of the deltas theta is -0.3499486446380615 and the maximum is 0.35253939032554626\n",
      "the added laplace noise var is 1.234653475302089\n",
      "global epoch 151 has been done artifficialy in 0.95 secs, the total time by now is 141.81 \n",
      " with avg train loss 0.214, val loss 0.950, avg val acc 73.86%\n"
     ]
    },
    {
     "name": "stderr",
     "output_type": "stream",
     "text": [
      " 50%|█████     | 151/300 [57:32<1:00:01, 24.17s/it]"
     ]
    },
    {
     "name": "stdout",
     "output_type": "stream",
     "text": [
      "after cleansing the weights updates who were almost zeros (meaning with absolute value of less than 10**-7, 0.00% of the weights upadtes) we get:\n",
      "user No.13 has been picked 152, his deltas theta's mean\n",
      " is -0.0011513883946463466,\n",
      "the empirical var of deltas thetas is 0.004825918469578028\n",
      "the minimum of the deltas theta is -0.40763604640960693 and the maximum is 0.37071484327316284\n",
      "the added laplace noise var is 1.28504063948849\n",
      "global epoch 152 has been done artifficialy in 1.04 secs, the total time by now is 142.85 \n",
      " with avg train loss 0.212, val loss 0.964, avg val acc 73.87%\n"
     ]
    },
    {
     "name": "stderr",
     "output_type": "stream",
     "text": [
      " 51%|█████     | 152/300 [57:56<59:30, 24.12s/it]  "
     ]
    },
    {
     "name": "stdout",
     "output_type": "stream",
     "text": [
      "after cleansing the weights updates who were almost zeros (meaning with absolute value of less than 10**-7, 0.00% of the weights upadtes) we get:\n",
      "user No.24 has been picked 153, his deltas theta's mean\n",
      " is -3.544349510775646e-06,\n",
      "the empirical var of deltas thetas is 0.004075555130839348\n",
      "the minimum of the deltas theta is -0.3326756954193115 and the maximum is 0.33724239468574524\n",
      "the added laplace noise var is 1.3374841428546966\n",
      "global epoch 153 has been done artifficialy in 0.94 secs, the total time by now is 143.79 \n",
      " with avg train loss 0.226, val loss 0.961, avg val acc 73.92%\n"
     ]
    },
    {
     "name": "stderr",
     "output_type": "stream",
     "text": [
      " 51%|█████     | 153/300 [58:17<56:58, 23.25s/it]"
     ]
    },
    {
     "name": "stdout",
     "output_type": "stream",
     "text": [
      "after cleansing the weights updates who were almost zeros (meaning with absolute value of less than 10**-7, 0.00% of the weights upadtes) we get:\n",
      "user No.5 has been picked 154, his deltas theta's mean\n",
      " is 0.0007921874057501554,\n",
      "the empirical var of deltas thetas is 0.004807192832231522\n",
      "the minimum of the deltas theta is -0.37296831607818604 and the maximum is 0.3731701970100403\n",
      "the added laplace noise var is 1.3920679061946397\n",
      "global epoch 154 has been done artifficialy in 0.92 secs, the total time by now is 144.72 \n",
      " with avg train loss 0.224, val loss 0.959, avg val acc 74.04%\n"
     ]
    },
    {
     "name": "stderr",
     "output_type": "stream",
     "text": [
      " 51%|█████▏    | 154/300 [58:42<57:29, 23.63s/it]"
     ]
    },
    {
     "name": "stdout",
     "output_type": "stream",
     "text": [
      "after cleansing the weights updates who were almost zeros (meaning with absolute value of less than 10**-7, 0.00% of the weights upadtes) we get:\n",
      "user No.10 has been picked 155, his deltas theta's mean\n",
      " is -0.00020979905093554407,\n",
      "the empirical var of deltas thetas is 0.004362661857157946\n",
      "the minimum of the deltas theta is -0.4152960777282715 and the maximum is 0.3585329055786133\n",
      "the added laplace noise var is 1.44887927517482\n",
      "global epoch 155 has been done artifficialy in 0.89 secs, the total time by now is 145.61 \n",
      " with avg train loss 0.214, val loss 0.975, avg val acc 73.90%\n"
     ]
    },
    {
     "name": "stderr",
     "output_type": "stream",
     "text": [
      " 52%|█████▏    | 155/300 [59:08<58:31, 24.22s/it]"
     ]
    },
    {
     "name": "stdout",
     "output_type": "stream",
     "text": [
      "after cleansing the weights updates who were almost zeros (meaning with absolute value of less than 10**-7, 0.00% of the weights upadtes) we get:\n",
      "user No.14 has been picked 156, his deltas theta's mean\n",
      " is -0.0004771712701767683,\n",
      "the empirical var of deltas thetas is 0.00436187069863081\n",
      "the minimum of the deltas theta is -0.36307722330093384 and the maximum is 0.3447415828704834\n",
      "the added laplace noise var is 1.5080091601060108\n",
      "global epoch 156 has been done artifficialy in 0.97 secs, the total time by now is 146.58 \n",
      " with avg train loss 0.211, val loss 0.972, avg val acc 74.06%\n"
     ]
    },
    {
     "name": "stderr",
     "output_type": "stream",
     "text": [
      " 52%|█████▏    | 156/300 [59:32<58:09, 24.23s/it]"
     ]
    },
    {
     "name": "stdout",
     "output_type": "stream",
     "text": [
      "after cleansing the weights updates who were almost zeros (meaning with absolute value of less than 10**-7, 0.00% of the weights upadtes) we get:\n",
      "user No.21 has been picked 157, his deltas theta's mean\n",
      " is -0.0007532815216109157,\n",
      "the empirical var of deltas thetas is 0.002822925802320242\n",
      "the minimum of the deltas theta is -0.30972859263420105 and the maximum is 0.341685950756073\n",
      "the added laplace noise var is 1.5695521814191502\n",
      "global epoch 157 has been done artifficialy in 0.92 secs, the total time by now is 147.50 \n",
      " with avg train loss 0.218, val loss 0.964, avg val acc 74.06%\n"
     ]
    },
    {
     "name": "stderr",
     "output_type": "stream",
     "text": [
      " 52%|█████▏    | 157/300 [59:57<58:06, 24.38s/it]"
     ]
    },
    {
     "name": "stdout",
     "output_type": "stream",
     "text": [
      "after cleansing the weights updates who were almost zeros (meaning with absolute value of less than 10**-7, 0.00% of the weights upadtes) we get:\n",
      "user No.17 has been picked 158, his deltas theta's mean\n",
      " is 0.0003923850890714675,\n",
      "the empirical var of deltas thetas is 0.004908071830868721\n",
      "the minimum of the deltas theta is -0.35473233461380005 and the maximum is 0.37728431820869446\n",
      "the added laplace noise var is 1.6336068210782178\n",
      "global epoch 158 has been done artifficialy in 0.93 secs, the total time by now is 148.43 \n",
      " with avg train loss 0.211, val loss 0.976, avg val acc 74.19%\n"
     ]
    },
    {
     "name": "stderr",
     "output_type": "stream",
     "text": [
      " 53%|█████▎    | 158/300 [1:00:20<57:20, 24.23s/it]"
     ]
    },
    {
     "name": "stdout",
     "output_type": "stream",
     "text": [
      "after cleansing the weights updates who were almost zeros (meaning with absolute value of less than 10**-7, 0.00% of the weights upadtes) we get:\n",
      "user No.4 has been picked 159, his deltas theta's mean\n",
      " is -8.209860243368894e-05,\n",
      "the empirical var of deltas thetas is 0.00393201969563961\n",
      "the minimum of the deltas theta is -0.3605213165283203 and the maximum is 0.3751518726348877\n",
      "the added laplace noise var is 1.7002755801723861\n",
      "global epoch 159 has been done artifficialy in 0.94 secs, the total time by now is 149.37 \n",
      " with avg train loss 0.211, val loss 0.978, avg val acc 74.01%\n"
     ]
    },
    {
     "name": "stderr",
     "output_type": "stream",
     "text": [
      " 53%|█████▎    | 159/300 [1:00:45<56:52, 24.20s/it]"
     ]
    },
    {
     "name": "stdout",
     "output_type": "stream",
     "text": [
      "after cleansing the weights updates who were almost zeros (meaning with absolute value of less than 10**-7, 0.00% of the weights upadtes) we get:\n",
      "user No.21 has been picked 160, his deltas theta's mean\n",
      " is -0.0006062660249881446,\n",
      "the empirical var of deltas thetas is 0.00332921021617949\n",
      "the minimum of the deltas theta is -0.3770456910133362 and the maximum is 0.3899365961551666\n",
      "the added laplace noise var is 1.7696651429396333\n",
      "global epoch 160 has been done artifficialy in 0.97 secs, the total time by now is 150.34 \n",
      " with avg train loss 0.226, val loss 0.964, avg val acc 74.03%\n"
     ]
    },
    {
     "name": "stderr",
     "output_type": "stream",
     "text": [
      " 53%|█████▎    | 160/300 [1:01:09<56:26, 24.19s/it]"
     ]
    },
    {
     "name": "stdout",
     "output_type": "stream",
     "text": [
      "after cleansing the weights updates who were almost zeros (meaning with absolute value of less than 10**-7, 0.00% of the weights upadtes) we get:\n",
      "user No.26 has been picked 161, his deltas theta's mean\n",
      " is -0.0001724942121654749,\n",
      "the empirical var of deltas thetas is 0.003317398251965642\n",
      "the minimum of the deltas theta is -0.2938622534275055 and the maximum is 0.32155781984329224\n",
      "the added laplace noise var is 1.841886547484283\n",
      "global epoch 161 has been done artifficialy in 0.95 secs, the total time by now is 151.29 \n",
      " with avg train loss 0.203, val loss 0.979, avg val acc 74.21%\n"
     ]
    },
    {
     "name": "stderr",
     "output_type": "stream",
     "text": [
      " 54%|█████▎    | 161/300 [1:01:32<55:30, 23.96s/it]"
     ]
    },
    {
     "name": "stdout",
     "output_type": "stream",
     "text": [
      "after cleansing the weights updates who were almost zeros (meaning with absolute value of less than 10**-7, 0.00% of the weights upadtes) we get:\n",
      "user No.28 has been picked 162, his deltas theta's mean\n",
      " is -0.0008508840692229569,\n",
      "the empirical var of deltas thetas is 0.00372461904771626\n",
      "the minimum of the deltas theta is -0.3064502477645874 and the maximum is 0.27666404843330383\n",
      "the added laplace noise var is 1.917055363461662\n",
      "global epoch 162 has been done artifficialy in 0.90 secs, the total time by now is 152.19 \n",
      " with avg train loss 0.204, val loss 0.978, avg val acc 74.12%\n"
     ]
    },
    {
     "name": "stderr",
     "output_type": "stream",
     "text": [
      " 54%|█████▍    | 162/300 [1:01:56<55:06, 23.96s/it]"
     ]
    },
    {
     "name": "stdout",
     "output_type": "stream",
     "text": [
      "after cleansing the weights updates who were almost zeros (meaning with absolute value of less than 10**-7, 0.00% of the weights upadtes) we get:\n",
      "user No.18 has been picked 163, his deltas theta's mean\n",
      " is -0.00084509706357494,\n",
      "the empirical var of deltas thetas is 0.005611386150121689\n",
      "the minimum of the deltas theta is -0.43252313137054443 and the maximum is 0.3958244323730469\n",
      "the added laplace noise var is 1.9952918770142025\n",
      "global epoch 163 has been done artifficialy in 0.92 secs, the total time by now is 153.12 \n",
      " with avg train loss 0.235, val loss 0.971, avg val acc 74.19%\n"
     ]
    },
    {
     "name": "stderr",
     "output_type": "stream",
     "text": [
      " 54%|█████▍    | 163/300 [1:02:20<54:32, 23.89s/it]"
     ]
    },
    {
     "name": "stdout",
     "output_type": "stream",
     "text": [
      "after cleansing the weights updates who were almost zeros (meaning with absolute value of less than 10**-7, 0.00% of the weights upadtes) we get:\n",
      "user No.22 has been picked 164, his deltas theta's mean\n",
      " is -0.0002373506868025288,\n",
      "the empirical var of deltas thetas is 0.0037576903123408556\n",
      "the minimum of the deltas theta is -0.3485341966152191 and the maximum is 0.33182239532470703\n",
      "the added laplace noise var is 2.0767212832549355\n",
      "global epoch 164 has been done artifficialy in 1.01 secs, the total time by now is 154.13 \n",
      " with avg train loss 0.209, val loss 0.978, avg val acc 73.96%\n"
     ]
    },
    {
     "name": "stderr",
     "output_type": "stream",
     "text": [
      " 55%|█████▍    | 164/300 [1:02:44<54:23, 24.00s/it]"
     ]
    },
    {
     "name": "stdout",
     "output_type": "stream",
     "text": [
      "after cleansing the weights updates who were almost zeros (meaning with absolute value of less than 10**-7, 0.00% of the weights upadtes) we get:\n",
      "user No.13 has been picked 165, his deltas theta's mean\n",
      " is -6.854487583041191e-05,\n",
      "the empirical var of deltas thetas is 0.0046240962110459805\n",
      "the minimum of the deltas theta is -0.3581743836402893 and the maximum is 0.3551509976387024\n",
      "the added laplace noise var is 2.1614738866063794\n",
      "global epoch 165 has been done artifficialy in 0.92 secs, the total time by now is 155.05 \n",
      " with avg train loss 0.232, val loss 0.969, avg val acc 74.03%\n"
     ]
    },
    {
     "name": "stderr",
     "output_type": "stream",
     "text": [
      " 55%|█████▌    | 165/300 [1:03:08<54:07, 24.06s/it]"
     ]
    },
    {
     "name": "stdout",
     "output_type": "stream",
     "text": [
      "after cleansing the weights updates who were almost zeros (meaning with absolute value of less than 10**-7, 0.00% of the weights upadtes) we get:\n",
      "user No.19 has been picked 166, his deltas theta's mean\n",
      " is 0.00034906298969872296,\n",
      "the empirical var of deltas thetas is 0.004078664816915989\n",
      "the minimum of the deltas theta is -0.3404977023601532 and the maximum is 0.3804686665534973\n",
      "the added laplace noise var is 2.2496853093154163\n",
      "global epoch 166 has been done artifficialy in 0.88 secs, the total time by now is 155.92 \n",
      " with avg train loss 0.196, val loss 0.980, avg val acc 73.71%\n"
     ]
    },
    {
     "name": "stderr",
     "output_type": "stream",
     "text": [
      " 55%|█████▌    | 166/300 [1:03:33<54:00, 24.19s/it]"
     ]
    },
    {
     "name": "stdout",
     "output_type": "stream",
     "text": [
      "after cleansing the weights updates who were almost zeros (meaning with absolute value of less than 10**-7, 0.00% of the weights upadtes) we get:\n",
      "user No.20 has been picked 167, his deltas theta's mean\n",
      " is -0.0011988573241978884,\n",
      "the empirical var of deltas thetas is 0.003553482238203287\n",
      "the minimum of the deltas theta is -0.34971654415130615 and the maximum is 0.3298395872116089\n",
      "the added laplace noise var is 2.341496708477819\n",
      "global epoch 167 has been done artifficialy in 1.02 secs, the total time by now is 156.95 \n",
      " with avg train loss 0.197, val loss 0.995, avg val acc 73.68%\n"
     ]
    },
    {
     "name": "stderr",
     "output_type": "stream",
     "text": [
      " 56%|█████▌    | 167/300 [1:03:57<53:43, 24.24s/it]"
     ]
    },
    {
     "name": "stdout",
     "output_type": "stream",
     "text": [
      "after cleansing the weights updates who were almost zeros (meaning with absolute value of less than 10**-7, 0.00% of the weights upadtes) we get:\n",
      "user No.27 has been picked 168, his deltas theta's mean\n",
      " is -4.962372713634977e-06,\n",
      "the empirical var of deltas thetas is 0.003229372901841998\n",
      "the minimum of the deltas theta is -0.35853272676467896 and the maximum is 0.336356520652771\n",
      "the added laplace noise var is 2.437055001919728\n",
      "global epoch 168 has been done artifficialy in 0.91 secs, the total time by now is 157.85 \n",
      " with avg train loss 0.188, val loss 0.998, avg val acc 73.87%\n"
     ]
    },
    {
     "name": "stderr",
     "output_type": "stream",
     "text": [
      " 56%|█████▌    | 168/300 [1:04:21<52:53, 24.04s/it]"
     ]
    },
    {
     "name": "stdout",
     "output_type": "stream",
     "text": [
      "after cleansing the weights updates who were almost zeros (meaning with absolute value of less than 10**-7, 0.00% of the weights upadtes) we get:\n",
      "user No.11 has been picked 169, his deltas theta's mean\n",
      " is 0.00010492680303286761,\n",
      "the empirical var of deltas thetas is 0.005280312150716782\n",
      "the minimum of the deltas theta is -0.37239381670951843 and the maximum is 0.4020291864871979\n",
      "the added laplace noise var is 2.536513103297504\n",
      "global epoch 169 has been done artifficialy in 0.97 secs, the total time by now is 158.83 \n",
      " with avg train loss 0.200, val loss 0.994, avg val acc 73.91%\n"
     ]
    },
    {
     "name": "stderr",
     "output_type": "stream",
     "text": [
      " 56%|█████▋    | 169/300 [1:04:45<52:27, 24.03s/it]"
     ]
    },
    {
     "name": "stdout",
     "output_type": "stream",
     "text": [
      "after cleansing the weights updates who were almost zeros (meaning with absolute value of less than 10**-7, 0.00% of the weights upadtes) we get:\n",
      "user No.18 has been picked 170, his deltas theta's mean\n",
      " is -0.0004102216043975204,\n",
      "the empirical var of deltas thetas is 0.0026246486231684685\n",
      "the minimum of the deltas theta is -0.31901347637176514 and the maximum is 0.29033246636390686\n",
      "the added laplace noise var is 2.6400301667922124\n",
      "global epoch 170 has been done artifficialy in 0.95 secs, the total time by now is 159.78 \n",
      " with avg train loss 0.193, val loss 0.999, avg val acc 74.34%\n"
     ]
    },
    {
     "name": "stderr",
     "output_type": "stream",
     "text": [
      " 57%|█████▋    | 170/300 [1:05:09<52:14, 24.11s/it]"
     ]
    },
    {
     "name": "stdout",
     "output_type": "stream",
     "text": [
      "after cleansing the weights updates who were almost zeros (meaning with absolute value of less than 10**-7, 0.00% of the weights upadtes) we get:\n",
      "user No.1 has been picked 171, his deltas theta's mean\n",
      " is -0.0004373377887532115,\n",
      "the empirical var of deltas thetas is 0.0032217681873589754\n",
      "the minimum of the deltas theta is -0.3854345381259918 and the maximum is 0.343433678150177\n",
      "the added laplace noise var is 2.7477718417902626\n",
      "global epoch 171 has been done artifficialy in 0.91 secs, the total time by now is 160.69 \n",
      " with avg train loss 0.219, val loss 0.990, avg val acc 74.00%\n"
     ]
    },
    {
     "name": "stderr",
     "output_type": "stream",
     "text": [
      " 57%|█████▋    | 171/300 [1:05:33<51:33, 23.98s/it]"
     ]
    },
    {
     "name": "stdout",
     "output_type": "stream",
     "text": [
      "after cleansing the weights updates who were almost zeros (meaning with absolute value of less than 10**-7, 0.00% of the weights upadtes) we get:\n",
      "user No.17 has been picked 172, his deltas theta's mean\n",
      " is 0.00018965954950544983,\n",
      "the empirical var of deltas thetas is 0.0036829239688813686\n",
      "the minimum of the deltas theta is -0.3732643127441406 and the maximum is 0.30769169330596924\n",
      "the added laplace noise var is 2.859910537957768\n",
      "global epoch 172 has been done artifficialy in 0.95 secs, the total time by now is 161.64 \n",
      " with avg train loss 0.184, val loss 1.001, avg val acc 73.93%\n"
     ]
    },
    {
     "name": "stderr",
     "output_type": "stream",
     "text": [
      " 57%|█████▋    | 172/300 [1:05:56<50:36, 23.72s/it]"
     ]
    },
    {
     "name": "stdout",
     "output_type": "stream",
     "text": [
      "after cleansing the weights updates who were almost zeros (meaning with absolute value of less than 10**-7, 0.00% of the weights upadtes) we get:\n",
      "user No.6 has been picked 173, his deltas theta's mean\n",
      " is -0.0007038626936264336,\n",
      "the empirical var of deltas thetas is 0.0040513924323022366\n",
      "the minimum of the deltas theta is -0.3586009442806244 and the maximum is 0.3559379577636719\n",
      "the added laplace noise var is 2.976625701132794\n",
      "global epoch 173 has been done artifficialy in 0.92 secs, the total time by now is 162.57 \n",
      " with avg train loss 0.184, val loss 1.008, avg val acc 73.92%\n"
     ]
    },
    {
     "name": "stderr",
     "output_type": "stream",
     "text": [
      " 58%|█████▊    | 173/300 [1:06:19<49:46, 23.52s/it]"
     ]
    },
    {
     "name": "stdout",
     "output_type": "stream",
     "text": [
      "after cleansing the weights updates who were almost zeros (meaning with absolute value of less than 10**-7, 0.00% of the weights upadtes) we get:\n",
      "user No.17 has been picked 174, his deltas theta's mean\n",
      " is -0.0004913507145829499,\n",
      "the empirical var of deltas thetas is 0.004268433433026075\n",
      "the minimum of the deltas theta is -0.3252222537994385 and the maximum is 0.37160587310791016\n",
      "the added laplace noise var is 3.098104100476984\n",
      "global epoch 174 has been done artifficialy in 0.93 secs, the total time by now is 163.49 \n",
      " with avg train loss 0.199, val loss 1.010, avg val acc 73.73%\n"
     ]
    },
    {
     "name": "stderr",
     "output_type": "stream",
     "text": [
      " 58%|█████▊    | 174/300 [1:06:42<49:02, 23.35s/it]"
     ]
    },
    {
     "name": "stdout",
     "output_type": "stream",
     "text": [
      "after cleansing the weights updates who were almost zeros (meaning with absolute value of less than 10**-7, 0.00% of the weights upadtes) we get:\n",
      "user No.24 has been picked 175, his deltas theta's mean\n",
      " is -0.0005667965160682797,\n",
      "the empirical var of deltas thetas is 0.0052656508050858974\n",
      "the minimum of the deltas theta is -0.3877096176147461 and the maximum is 0.3841875195503235\n",
      "the added laplace noise var is 3.224540127346062\n",
      "global epoch 175 has been done artifficialy in 0.89 secs, the total time by now is 164.39 \n",
      " with avg train loss 0.198, val loss 0.999, avg val acc 73.92%\n"
     ]
    },
    {
     "name": "stderr",
     "output_type": "stream",
     "text": [
      " 58%|█████▊    | 175/300 [1:07:05<48:24, 23.24s/it]"
     ]
    },
    {
     "name": "stdout",
     "output_type": "stream",
     "text": [
      "after cleansing the weights updates who were almost zeros (meaning with absolute value of less than 10**-7, 0.00% of the weights upadtes) we get:\n",
      "user No.2 has been picked 176, his deltas theta's mean\n",
      " is 0.0002459246607031673,\n",
      "the empirical var of deltas thetas is 0.00426700571551919\n",
      "the minimum of the deltas theta is -0.4100162982940674 and the maximum is 0.398211270570755\n",
      "the added laplace noise var is 3.3561361063574773\n",
      "global epoch 176 has been done artifficialy in 0.92 secs, the total time by now is 165.31 \n",
      " with avg train loss 0.173, val loss 1.012, avg val acc 74.03%\n"
     ]
    },
    {
     "name": "stderr",
     "output_type": "stream",
     "text": [
      " 59%|█████▊    | 176/300 [1:07:28<47:50, 23.15s/it]"
     ]
    },
    {
     "name": "stdout",
     "output_type": "stream",
     "text": [
      "after cleansing the weights updates who were almost zeros (meaning with absolute value of less than 10**-7, 0.00% of the weights upadtes) we get:\n",
      "user No.13 has been picked 177, his deltas theta's mean\n",
      " is -0.000825039460323751,\n",
      "the empirical var of deltas thetas is 0.004217279609292746\n",
      "the minimum of the deltas theta is -0.3649095296859741 and the maximum is 0.39313167333602905\n",
      "the added laplace noise var is 3.4931026191529533\n",
      "global epoch 177 has been done artifficialy in 0.92 secs, the total time by now is 166.23 \n",
      " with avg train loss 0.181, val loss 1.025, avg val acc 73.92%\n"
     ]
    },
    {
     "name": "stderr",
     "output_type": "stream",
     "text": [
      " 59%|█████▉    | 177/300 [1:07:51<47:20, 23.10s/it]"
     ]
    },
    {
     "name": "stdout",
     "output_type": "stream",
     "text": [
      "after cleansing the weights updates who were almost zeros (meaning with absolute value of less than 10**-7, 0.00% of the weights upadtes) we get:\n",
      "user No.17 has been picked 178, his deltas theta's mean\n",
      " is 0.00041929318103939295,\n",
      "the empirical var of deltas thetas is 0.008923197165131569\n",
      "the minimum of the deltas theta is -0.4914284944534302 and the maximum is 0.43558013439178467\n",
      "the added laplace noise var is 3.6356588413740445\n",
      "global epoch 178 has been done artifficialy in 0.93 secs, the total time by now is 167.17 \n",
      " with avg train loss 0.193, val loss 1.019, avg val acc 73.98%\n"
     ]
    },
    {
     "name": "stderr",
     "output_type": "stream",
     "text": [
      " 59%|█████▉    | 178/300 [1:08:14<46:52, 23.05s/it]"
     ]
    },
    {
     "name": "stdout",
     "output_type": "stream",
     "text": [
      "after cleansing the weights updates who were almost zeros (meaning with absolute value of less than 10**-7, 0.00% of the weights upadtes) we get:\n",
      "user No.21 has been picked 179, his deltas theta's mean\n",
      " is 7.405639189528301e-05,\n",
      "the empirical var of deltas thetas is 0.0035035114269703627\n",
      "the minimum of the deltas theta is -0.415805846452713 and the maximum is 0.4048326313495636\n",
      "the added laplace noise var is 3.7840328933899205\n",
      "global epoch 179 has been done artifficialy in 0.93 secs, the total time by now is 168.10 \n",
      " with avg train loss 0.202, val loss 1.004, avg val acc 74.07%\n"
     ]
    },
    {
     "name": "stderr",
     "output_type": "stream",
     "text": [
      " 60%|█████▉    | 179/300 [1:08:37<46:30, 23.07s/it]"
     ]
    },
    {
     "name": "stdout",
     "output_type": "stream",
     "text": [
      "after cleansing the weights updates who were almost zeros (meaning with absolute value of less than 10**-7, 0.00% of the weights upadtes) we get:\n",
      "user No.19 has been picked 180, his deltas theta's mean\n",
      " is -0.0010646015871316195,\n",
      "the empirical var of deltas thetas is 0.003957382403314114\n",
      "the minimum of the deltas theta is -0.3442617952823639 and the maximum is 0.30755770206451416\n",
      "the added laplace noise var is 3.9384622053386265\n",
      "global epoch 180 has been done artifficialy in 0.87 secs, the total time by now is 168.96 \n",
      " with avg train loss 0.212, val loss 0.999, avg val acc 74.16%\n"
     ]
    },
    {
     "name": "stderr",
     "output_type": "stream",
     "text": [
      " 60%|██████    | 180/300 [1:09:00<46:11, 23.10s/it]"
     ]
    },
    {
     "name": "stdout",
     "output_type": "stream",
     "text": [
      "after cleansing the weights updates who were almost zeros (meaning with absolute value of less than 10**-7, 0.00% of the weights upadtes) we get:\n",
      "user No.3 has been picked 181, his deltas theta's mean\n",
      " is 5.003881597076543e-06,\n",
      "the empirical var of deltas thetas is 0.003228249028325081\n",
      "the minimum of the deltas theta is -0.3259690999984741 and the maximum is 0.34406906366348267\n",
      "the added laplace noise var is 4.099193897065956\n",
      "global epoch 181 has been done artifficialy in 0.96 secs, the total time by now is 169.93 \n",
      " with avg train loss 0.178, val loss 1.013, avg val acc 73.85%\n"
     ]
    },
    {
     "name": "stderr",
     "output_type": "stream",
     "text": [
      " 60%|██████    | 181/300 [1:09:23<45:47, 23.09s/it]"
     ]
    },
    {
     "name": "stdout",
     "output_type": "stream",
     "text": [
      "after cleansing the weights updates who were almost zeros (meaning with absolute value of less than 10**-7, 0.00% of the weights upadtes) we get:\n",
      "user No.0 has been picked 182, his deltas theta's mean\n",
      " is -0.00018750007438939065,\n",
      "the empirical var of deltas thetas is 0.00367479189299047\n",
      "the minimum of the deltas theta is -0.40146738290786743 and the maximum is 0.30217063426971436\n",
      "the added laplace noise var is 4.266485173569931\n",
      "global epoch 182 has been done artifficialy in 0.89 secs, the total time by now is 170.82 \n",
      " with avg train loss 0.164, val loss 1.032, avg val acc 73.96%\n"
     ]
    },
    {
     "name": "stderr",
     "output_type": "stream",
     "text": [
      " 61%|██████    | 182/300 [1:09:46<45:27, 23.11s/it]"
     ]
    },
    {
     "name": "stdout",
     "output_type": "stream",
     "text": [
      "after cleansing the weights updates who were almost zeros (meaning with absolute value of less than 10**-7, 0.00% of the weights upadtes) we get:\n",
      "user No.17 has been picked 183, his deltas theta's mean\n",
      " is 0.0007149314624257386,\n",
      "the empirical var of deltas thetas is 0.004772098734974861\n",
      "the minimum of the deltas theta is -0.35020697116851807 and the maximum is 0.3562353849411011\n",
      "the added laplace noise var is 4.4406037365836655\n",
      "global epoch 183 has been done artifficialy in 0.94 secs, the total time by now is 171.76 \n",
      " with avg train loss 0.161, val loss 1.047, avg val acc 73.88%\n"
     ]
    },
    {
     "name": "stderr",
     "output_type": "stream",
     "text": [
      " 61%|██████    | 183/300 [1:10:09<45:02, 23.10s/it]"
     ]
    },
    {
     "name": "stdout",
     "output_type": "stream",
     "text": [
      "after cleansing the weights updates who were almost zeros (meaning with absolute value of less than 10**-7, 0.00% of the weights upadtes) we get:\n",
      "user No.2 has been picked 184, his deltas theta's mean\n",
      " is 0.00043217078200541437,\n",
      "the empirical var of deltas thetas is 0.004075597506016493\n",
      "the minimum of the deltas theta is -0.33187296986579895 and the maximum is 0.3609086573123932\n",
      "the added laplace noise var is 4.621828212955258\n",
      "global epoch 184 has been done artifficialy in 0.96 secs, the total time by now is 172.72 \n",
      " with avg train loss 0.177, val loss 1.044, avg val acc 73.82%\n"
     ]
    },
    {
     "name": "stderr",
     "output_type": "stream",
     "text": [
      " 61%|██████▏   | 184/300 [1:10:33<45:08, 23.35s/it]"
     ]
    },
    {
     "name": "stdout",
     "output_type": "stream",
     "text": [
      "after cleansing the weights updates who were almost zeros (meaning with absolute value of less than 10**-7, 0.00% of the weights upadtes) we get:\n",
      "user No.14 has been picked 185, his deltas theta's mean\n",
      " is -0.00019362475723028183,\n",
      "the empirical var of deltas thetas is 0.005798690021038055\n",
      "the minimum of the deltas theta is -0.4222038984298706 and the maximum is 0.4500602185726166\n",
      "the added laplace noise var is 4.810448600510185\n",
      "global epoch 185 has been done artifficialy in 0.99 secs, the total time by now is 173.71 \n",
      " with avg train loss 0.180, val loss 1.032, avg val acc 73.67%\n"
     ]
    },
    {
     "name": "stderr",
     "output_type": "stream",
     "text": [
      " 62%|██████▏   | 185/300 [1:10:57<45:19, 23.65s/it]"
     ]
    },
    {
     "name": "stdout",
     "output_type": "stream",
     "text": [
      "after cleansing the weights updates who were almost zeros (meaning with absolute value of less than 10**-7, 0.00% of the weights upadtes) we get:\n",
      "user No.24 has been picked 186, his deltas theta's mean\n",
      " is 4.530883234110661e-05,\n",
      "the empirical var of deltas thetas is 0.0036560031585395336\n",
      "the minimum of the deltas theta is -0.32322630286216736 and the maximum is 0.3307022452354431\n",
      "the added laplace noise var is 5.006766732109695\n",
      "global epoch 186 has been done artifficialy in 0.98 secs, the total time by now is 174.69 \n",
      " with avg train loss 0.174, val loss 1.035, avg val acc 74.09%\n"
     ]
    },
    {
     "name": "stderr",
     "output_type": "stream",
     "text": [
      " 62%|██████▏   | 186/300 [1:11:22<45:40, 24.04s/it]"
     ]
    },
    {
     "name": "stdout",
     "output_type": "stream",
     "text": [
      "after cleansing the weights updates who were almost zeros (meaning with absolute value of less than 10**-7, 0.00% of the weights upadtes) we get:\n",
      "user No.25 has been picked 187, his deltas theta's mean\n",
      " is 0.0005882152472622693,\n",
      "the empirical var of deltas thetas is 0.002807505428791046\n",
      "the minimum of the deltas theta is -0.29961347579956055 and the maximum is 0.2574620544910431\n",
      "the added laplace noise var is 5.211096758647786\n",
      "global epoch 187 has been done artifficialy in 0.97 secs, the total time by now is 175.66 \n",
      " with avg train loss 0.184, val loss 1.033, avg val acc 73.78%\n"
     ]
    },
    {
     "name": "stderr",
     "output_type": "stream",
     "text": [
      " 62%|██████▏   | 187/300 [1:11:47<45:26, 24.13s/it]"
     ]
    },
    {
     "name": "stdout",
     "output_type": "stream",
     "text": [
      "after cleansing the weights updates who were almost zeros (meaning with absolute value of less than 10**-7, 0.00% of the weights upadtes) we get:\n",
      "user No.4 has been picked 188, his deltas theta's mean\n",
      " is -0.0008270315593108535,\n",
      "the empirical var of deltas thetas is 0.004498105961829424\n",
      "the minimum of the deltas theta is -0.37427419424057007 and the maximum is 0.3531116843223572\n",
      "the added laplace noise var is 5.423765651759647\n",
      "global epoch 188 has been done artifficialy in 1.00 secs, the total time by now is 176.66 \n",
      " with avg train loss 0.179, val loss 1.024, avg val acc 73.60%\n"
     ]
    },
    {
     "name": "stderr",
     "output_type": "stream",
     "text": [
      " 63%|██████▎   | 188/300 [1:12:11<44:56, 24.08s/it]"
     ]
    },
    {
     "name": "stdout",
     "output_type": "stream",
     "text": [
      "after cleansing the weights updates who were almost zeros (meaning with absolute value of less than 10**-7, 0.00% of the weights upadtes) we get:\n",
      "user No.17 has been picked 189, his deltas theta's mean\n",
      " is -0.00046633800957351923,\n",
      "the empirical var of deltas thetas is 0.005360628478229046\n",
      "the minimum of the deltas theta is -0.3596116304397583 and the maximum is 0.440839946269989\n",
      "the added laplace noise var is 5.645113727046041\n",
      "global epoch 189 has been done artifficialy in 0.92 secs, the total time by now is 177.59 \n",
      " with avg train loss 0.202, val loss 1.026, avg val acc 73.66%\n"
     ]
    },
    {
     "name": "stderr",
     "output_type": "stream",
     "text": [
      " 63%|██████▎   | 189/300 [1:12:35<44:35, 24.10s/it]"
     ]
    },
    {
     "name": "stdout",
     "output_type": "stream",
     "text": [
      "after cleansing the weights updates who were almost zeros (meaning with absolute value of less than 10**-7, 0.00% of the weights upadtes) we get:\n",
      "user No.12 has been picked 190, his deltas theta's mean\n",
      " is 0.00040227299905382097,\n",
      "the empirical var of deltas thetas is 0.00397520512342453\n",
      "the minimum of the deltas theta is -0.3022826015949249 and the maximum is 0.31289172172546387\n",
      "the added laplace noise var is 5.875495188650869\n",
      "global epoch 190 has been done artifficialy in 0.87 secs, the total time by now is 178.45 \n",
      " with avg train loss 0.179, val loss 1.019, avg val acc 74.10%\n"
     ]
    },
    {
     "name": "stderr",
     "output_type": "stream",
     "text": [
      " 63%|██████▎   | 190/300 [1:12:58<43:47, 23.88s/it]"
     ]
    },
    {
     "name": "stdout",
     "output_type": "stream",
     "text": [
      "after cleansing the weights updates who were almost zeros (meaning with absolute value of less than 10**-7, 0.00% of the weights upadtes) we get:\n",
      "user No.19 has been picked 191, his deltas theta's mean\n",
      " is -0.0007699693669565022,\n",
      "the empirical var of deltas thetas is 0.004134368151426315\n",
      "the minimum of the deltas theta is -0.31575748324394226 and the maximum is 0.3281609117984772\n",
      "the added laplace noise var is 6.1152786960633625\n",
      "global epoch 191 has been done artifficialy in 0.95 secs, the total time by now is 179.40 \n",
      " with avg train loss 0.161, val loss 1.034, avg val acc 73.75%\n"
     ]
    },
    {
     "name": "stderr",
     "output_type": "stream",
     "text": [
      " 64%|██████▎   | 191/300 [1:13:22<43:10, 23.77s/it]"
     ]
    },
    {
     "name": "stdout",
     "output_type": "stream",
     "text": [
      "after cleansing the weights updates who were almost zeros (meaning with absolute value of less than 10**-7, 0.00% of the weights upadtes) we get:\n",
      "user No.14 has been picked 192, his deltas theta's mean\n",
      " is 0.0007743070018477738,\n",
      "the empirical var of deltas thetas is 0.006076037418097258\n",
      "the minimum of the deltas theta is -0.36588120460510254 and the maximum is 0.44148069620132446\n",
      "the added laplace noise var is 6.364847954051922\n",
      "global epoch 192 has been done artifficialy in 0.93 secs, the total time by now is 180.34 \n",
      " with avg train loss 0.165, val loss 1.052, avg val acc 73.85%\n"
     ]
    },
    {
     "name": "stderr",
     "output_type": "stream",
     "text": [
      " 64%|██████▍   | 192/300 [1:13:46<42:47, 23.78s/it]"
     ]
    },
    {
     "name": "stdout",
     "output_type": "stream",
     "text": [
      "after cleansing the weights updates who were almost zeros (meaning with absolute value of less than 10**-7, 0.00% of the weights upadtes) we get:\n",
      "user No.17 has been picked 193, his deltas theta's mean\n",
      " is 0.0006214147433638573,\n",
      "the empirical var of deltas thetas is 0.005137435160577297\n",
      "the minimum of the deltas theta is -0.4145336151123047 and the maximum is 0.35906532406806946\n",
      "the added laplace noise var is 6.624602326673619\n",
      "global epoch 193 has been done artifficialy in 0.94 secs, the total time by now is 181.27 \n",
      " with avg train loss 0.166, val loss 1.052, avg val acc 73.64%\n"
     ]
    },
    {
     "name": "stderr",
     "output_type": "stream",
     "text": [
      " 64%|██████▍   | 193/300 [1:14:09<42:19, 23.73s/it]"
     ]
    },
    {
     "name": "stdout",
     "output_type": "stream",
     "text": [
      "after cleansing the weights updates who were almost zeros (meaning with absolute value of less than 10**-7, 0.00% of the weights upadtes) we get:\n",
      "user No.1 has been picked 194, his deltas theta's mean\n",
      " is -0.0004723675665445626,\n",
      "the empirical var of deltas thetas is 0.004464396741241217\n",
      "the minimum of the deltas theta is -0.352516770362854 and the maximum is 0.3485930860042572\n",
      "the added laplace noise var is 6.894957476341865\n",
      "global epoch 194 has been done artifficialy in 0.92 secs, the total time by now is 182.20 \n",
      " with avg train loss 0.161, val loss 1.053, avg val acc 73.61%\n"
     ]
    },
    {
     "name": "stderr",
     "output_type": "stream",
     "text": [
      " 65%|██████▍   | 194/300 [1:14:34<42:41, 24.17s/it]"
     ]
    },
    {
     "name": "stdout",
     "output_type": "stream",
     "text": [
      "after cleansing the weights updates who were almost zeros (meaning with absolute value of less than 10**-7, 0.00% of the weights upadtes) we get:\n",
      "user No.24 has been picked 195, his deltas theta's mean\n",
      " is 0.00044308960787020624,\n",
      "the empirical var of deltas thetas is 0.004144367296248674\n",
      "the minimum of the deltas theta is -0.42130088806152344 and the maximum is 0.3514413833618164\n",
      "the added laplace noise var is 7.176346028974972\n",
      "global epoch 195 has been done artifficialy in 0.95 secs, the total time by now is 183.15 \n",
      " with avg train loss 0.153, val loss 1.062, avg val acc 73.87%\n"
     ]
    },
    {
     "name": "stderr",
     "output_type": "stream",
     "text": [
      " 65%|██████▌   | 195/300 [1:14:58<42:08, 24.08s/it]"
     ]
    },
    {
     "name": "stdout",
     "output_type": "stream",
     "text": [
      "after cleansing the weights updates who were almost zeros (meaning with absolute value of less than 10**-7, 0.00% of the weights upadtes) we get:\n",
      "user No.15 has been picked 196, his deltas theta's mean\n",
      " is -0.00033481852733530104,\n",
      "the empirical var of deltas thetas is 0.0034637420903891325\n",
      "the minimum of the deltas theta is -0.46299976110458374 and the maximum is 0.363273561000824\n",
      "the added laplace noise var is 7.469218266289913\n",
      "global epoch 196 has been done artifficialy in 1.01 secs, the total time by now is 184.16 \n",
      " with avg train loss 0.180, val loss 1.061, avg val acc 73.62%\n"
     ]
    },
    {
     "name": "stderr",
     "output_type": "stream",
     "text": [
      " 65%|██████▌   | 196/300 [1:15:23<41:54, 24.18s/it]"
     ]
    },
    {
     "name": "stdout",
     "output_type": "stream",
     "text": [
      "after cleansing the weights updates who were almost zeros (meaning with absolute value of less than 10**-7, 0.00% of the weights upadtes) we get:\n",
      "user No.25 has been picked 197, his deltas theta's mean\n",
      " is -2.88947849185206e-05,\n",
      "the empirical var of deltas thetas is 0.004676764830946922\n",
      "the minimum of the deltas theta is -0.3730195164680481 and the maximum is 0.33999568223953247\n",
      "the added laplace noise var is 7.774042846349133\n",
      "global epoch 197 has been done artifficialy in 0.96 secs, the total time by now is 185.12 \n",
      " with avg train loss 0.169, val loss 1.059, avg val acc 73.55%\n"
     ]
    },
    {
     "name": "stderr",
     "output_type": "stream",
     "text": [
      " 66%|██████▌   | 197/300 [1:15:46<40:50, 23.80s/it]"
     ]
    },
    {
     "name": "stdout",
     "output_type": "stream",
     "text": [
      "after cleansing the weights updates who were almost zeros (meaning with absolute value of less than 10**-7, 0.00% of the weights upadtes) we get:\n",
      "user No.20 has been picked 198, his deltas theta's mean\n",
      " is 0.00014030175225343555,\n",
      "the empirical var of deltas thetas is 0.003924161195755005\n",
      "the minimum of the deltas theta is -0.3889394998550415 and the maximum is 0.37883520126342773\n",
      "the added laplace noise var is 8.091307553513438\n",
      "global epoch 198 has been done artifficialy in 0.98 secs, the total time by now is 186.10 \n",
      " with avg train loss 0.176, val loss 1.042, avg val acc 73.91%\n"
     ]
    },
    {
     "name": "stderr",
     "output_type": "stream",
     "text": [
      " 66%|██████▌   | 198/300 [1:16:09<40:24, 23.77s/it]"
     ]
    },
    {
     "name": "stdout",
     "output_type": "stream",
     "text": [
      "after cleansing the weights updates who were almost zeros (meaning with absolute value of less than 10**-7, 0.00% of the weights upadtes) we get:\n",
      "user No.10 has been picked 199, his deltas theta's mean\n",
      " is 0.00021147049847058952,\n",
      "the empirical var of deltas thetas is 0.005446013528853655\n",
      "the minimum of the deltas theta is -0.380601167678833 and the maximum is 0.417896568775177\n",
      "the added laplace noise var is 8.421520079001041\n",
      "global epoch 199 has been done artifficialy in 0.92 secs, the total time by now is 187.02 \n",
      " with avg train loss 0.171, val loss 1.043, avg val acc 73.69%\n"
     ]
    },
    {
     "name": "stderr",
     "output_type": "stream",
     "text": [
      " 66%|██████▋   | 199/300 [1:16:34<40:21, 23.98s/it]"
     ]
    },
    {
     "name": "stdout",
     "output_type": "stream",
     "text": [
      "after cleansing the weights updates who were almost zeros (meaning with absolute value of less than 10**-7, 0.00% of the weights upadtes) we get:\n",
      "user No.2 has been picked 200, his deltas theta's mean\n",
      " is 0.0004976280033588409,\n",
      "the empirical var of deltas thetas is 0.004953069146722555\n",
      "the minimum of the deltas theta is -0.37035632133483887 and the maximum is 0.4132711887359619\n",
      "the added laplace noise var is 8.765208833301815\n",
      "global epoch 200 has been done artifficialy in 0.97 secs, the total time by now is 187.99 \n",
      " with avg train loss 0.156, val loss 1.048, avg val acc 73.89%\n"
     ]
    },
    {
     "name": "stderr",
     "output_type": "stream",
     "text": [
      " 67%|██████▋   | 200/300 [1:16:59<40:38, 24.39s/it]"
     ]
    },
    {
     "name": "stdout",
     "output_type": "stream",
     "text": [
      "after cleansing the weights updates who were almost zeros (meaning with absolute value of less than 10**-7, 0.00% of the weights upadtes) we get:\n",
      "user No.27 has been picked 201, his deltas theta's mean\n",
      " is -0.0002258764870930463,\n",
      "the empirical var of deltas thetas is 0.002680197823792696\n",
      "the minimum of the deltas theta is -0.32032540440559387 and the maximum is 0.3240119516849518\n",
      "the added laplace noise var is 9.12292379174683\n",
      "global epoch 201 has been done artifficialy in 0.93 secs, the total time by now is 188.92 \n",
      " with avg train loss 0.148, val loss 1.061, avg val acc 73.57%\n"
     ]
    },
    {
     "name": "stderr",
     "output_type": "stream",
     "text": [
      " 67%|██████▋   | 201/300 [1:17:23<40:12, 24.37s/it]"
     ]
    },
    {
     "name": "stdout",
     "output_type": "stream",
     "text": [
      "after cleansing the weights updates who were almost zeros (meaning with absolute value of less than 10**-7, 0.00% of the weights upadtes) we get:\n",
      "user No.16 has been picked 202, his deltas theta's mean\n",
      " is -0.0004948769346810877,\n",
      "the empirical var of deltas thetas is 0.00420436030253768\n",
      "the minimum of the deltas theta is -0.3732801675796509 and the maximum is 0.33959054946899414\n",
      "the added laplace noise var is 9.49523737458617\n",
      "global epoch 202 has been done artifficialy in 0.89 secs, the total time by now is 189.81 \n",
      " with avg train loss 0.155, val loss 1.080, avg val acc 73.56%\n"
     ]
    },
    {
     "name": "stderr",
     "output_type": "stream",
     "text": [
      " 67%|██████▋   | 202/300 [1:17:49<40:19, 24.69s/it]"
     ]
    },
    {
     "name": "stdout",
     "output_type": "stream",
     "text": [
      "after cleansing the weights updates who were almost zeros (meaning with absolute value of less than 10**-7, 0.00% of the weights upadtes) we get:\n",
      "user No.14 has been picked 203, his deltas theta's mean\n",
      " is -0.0005292438436299562,\n",
      "the empirical var of deltas thetas is 0.004044238477945328\n",
      "the minimum of the deltas theta is -0.36229634284973145 and the maximum is 0.3483416736125946\n",
      "the added laplace noise var is 9.88274536298354\n",
      "global epoch 203 has been done artifficialy in 0.95 secs, the total time by now is 190.76 \n",
      " with avg train loss 0.152, val loss 1.089, avg val acc 73.38%\n"
     ]
    },
    {
     "name": "stderr",
     "output_type": "stream",
     "text": [
      " 68%|██████▊   | 203/300 [1:18:13<39:38, 24.52s/it]"
     ]
    },
    {
     "name": "stdout",
     "output_type": "stream",
     "text": [
      "after cleansing the weights updates who were almost zeros (meaning with absolute value of less than 10**-7, 0.00% of the weights upadtes) we get:\n",
      "user No.28 has been picked 204, his deltas theta's mean\n",
      " is 9.054235852090642e-05,\n",
      "the empirical var of deltas thetas is 0.00400915602222085\n",
      "the minimum of the deltas theta is -0.41597118973731995 and the maximum is 0.40061265230178833\n",
      "the added laplace noise var is 10.286067852393124\n",
      "global epoch 204 has been done artifficialy in 0.96 secs, the total time by now is 191.72 \n",
      " with avg train loss 0.165, val loss 1.071, avg val acc 73.58%\n"
     ]
    },
    {
     "name": "stderr",
     "output_type": "stream",
     "text": [
      " 68%|██████▊   | 204/300 [1:18:38<39:35, 24.75s/it]"
     ]
    },
    {
     "name": "stdout",
     "output_type": "stream",
     "text": [
      "after cleansing the weights updates who were almost zeros (meaning with absolute value of less than 10**-7, 0.00% of the weights upadtes) we get:\n",
      "user No.4 has been picked 205, his deltas theta's mean\n",
      " is 0.00010921809007413685,\n",
      "the empirical var of deltas thetas is 0.003158144885674119\n",
      "the minimum of the deltas theta is -0.3437058925628662 and the maximum is 0.3103705644607544\n",
      "the added laplace noise var is 10.705850244844715\n",
      "global epoch 205 has been done artifficialy in 0.90 secs, the total time by now is 192.63 \n",
      " with avg train loss 0.165, val loss 1.066, avg val acc 73.75%\n"
     ]
    },
    {
     "name": "stderr",
     "output_type": "stream",
     "text": [
      " 68%|██████▊   | 205/300 [1:19:03<39:16, 24.81s/it]"
     ]
    },
    {
     "name": "stdout",
     "output_type": "stream",
     "text": [
      "after cleansing the weights updates who were almost zeros (meaning with absolute value of less than 10**-7, 0.00% of the weights upadtes) we get:\n",
      "user No.5 has been picked 206, his deltas theta's mean\n",
      " is -0.0008681777399033308,\n",
      "the empirical var of deltas thetas is 0.0037132548168301582\n",
      "the minimum of the deltas theta is -0.36799758672714233 and the maximum is 0.36702513694763184\n",
      "the added laplace noise var is 11.142764281724608\n",
      "global epoch 206 has been done artifficialy in 0.91 secs, the total time by now is 193.54 \n",
      " with avg train loss 0.162, val loss 1.067, avg val acc 73.24%\n"
     ]
    },
    {
     "name": "stderr",
     "output_type": "stream",
     "text": [
      " 69%|██████▊   | 206/300 [1:19:26<37:44, 24.09s/it]"
     ]
    },
    {
     "name": "stdout",
     "output_type": "stream",
     "text": [
      "after cleansing the weights updates who were almost zeros (meaning with absolute value of less than 10**-7, 0.00% of the weights upadtes) we get:\n",
      "user No.9 has been picked 207, his deltas theta's mean\n",
      " is 0.0004785140627063811,\n",
      "the empirical var of deltas thetas is 0.005126358009874821\n",
      "the minimum of the deltas theta is -0.43613141775131226 and the maximum is 0.38840389251708984\n",
      "the added laplace noise var is 11.59750911870507\n",
      "global epoch 207 has been done artifficialy in 0.96 secs, the total time by now is 194.50 \n",
      " with avg train loss 0.165, val loss 1.070, avg val acc 73.43%\n"
     ]
    },
    {
     "name": "stderr",
     "output_type": "stream",
     "text": [
      " 69%|██████▉   | 207/300 [1:19:50<37:22, 24.11s/it]"
     ]
    },
    {
     "name": "stdout",
     "output_type": "stream",
     "text": [
      "after cleansing the weights updates who were almost zeros (meaning with absolute value of less than 10**-7, 0.00% of the weights upadtes) we get:\n",
      "user No.15 has been picked 208, his deltas theta's mean\n",
      " is -0.0009559294558130205,\n",
      "the empirical var of deltas thetas is 0.0044840858317911625\n",
      "the minimum of the deltas theta is -0.38067758083343506 and the maximum is 0.3703056871891022\n",
      "the added laplace noise var is 12.070812444542716\n",
      "global epoch 208 has been done artifficialy in 0.93 secs, the total time by now is 195.43 \n",
      " with avg train loss 0.156, val loss 1.070, avg val acc 73.62%\n"
     ]
    },
    {
     "name": "stderr",
     "output_type": "stream",
     "text": [
      " 69%|██████▉   | 208/300 [1:20:11<35:30, 23.16s/it]"
     ]
    },
    {
     "name": "stdout",
     "output_type": "stream",
     "text": [
      "after cleansing the weights updates who were almost zeros (meaning with absolute value of less than 10**-7, 0.00% of the weights upadtes) we get:\n",
      "user No.9 has been picked 209, his deltas theta's mean\n",
      " is -2.4254244635812938e-05,\n",
      "the empirical var of deltas thetas is 0.003271978348493576\n",
      "the minimum of the deltas theta is -0.37905776500701904 and the maximum is 0.35453206300735474\n",
      "the added laplace noise var is 12.563431645535607\n",
      "global epoch 209 has been done artifficialy in 0.97 secs, the total time by now is 196.40 \n",
      " with avg train loss 0.154, val loss 1.073, avg val acc 73.52%\n"
     ]
    },
    {
     "name": "stderr",
     "output_type": "stream",
     "text": [
      " 70%|██████▉   | 209/300 [1:20:34<35:16, 23.26s/it]"
     ]
    },
    {
     "name": "stdout",
     "output_type": "stream",
     "text": [
      "after cleansing the weights updates who were almost zeros (meaning with absolute value of less than 10**-7, 0.00% of the weights upadtes) we get:\n",
      "user No.9 has been picked 210, his deltas theta's mean\n",
      " is -0.0006662104860879481,\n",
      "the empirical var of deltas thetas is 0.005943697411566973\n",
      "the minimum of the deltas theta is -0.39458590745925903 and the maximum is 0.4330641031265259\n",
      "the added laplace noise var is 13.076155017503078\n",
      "global epoch 210 has been done artifficialy in 0.94 secs, the total time by now is 197.34 \n",
      " with avg train loss 0.160, val loss 1.073, avg val acc 73.52%\n"
     ]
    },
    {
     "name": "stderr",
     "output_type": "stream",
     "text": [
      " 70%|███████   | 210/300 [1:20:56<34:22, 22.92s/it]"
     ]
    },
    {
     "name": "stdout",
     "output_type": "stream",
     "text": [
      "after cleansing the weights updates who were almost zeros (meaning with absolute value of less than 10**-7, 0.00% of the weights upadtes) we get:\n",
      "user No.19 has been picked 211, his deltas theta's mean\n",
      " is -0.0009106580982916057,\n",
      "the empirical var of deltas thetas is 0.003559751668944955\n",
      "the minimum of the deltas theta is -0.3397495746612549 and the maximum is 0.3346214294433594\n",
      "the added laplace noise var is 13.609803027227048\n",
      "global epoch 211 has been done artifficialy in 0.89 secs, the total time by now is 198.22 \n",
      " with avg train loss 0.151, val loss 1.074, avg val acc 74.04%\n"
     ]
    },
    {
     "name": "stderr",
     "output_type": "stream",
     "text": [
      " 70%|███████   | 211/300 [1:21:21<34:46, 23.44s/it]"
     ]
    },
    {
     "name": "stdout",
     "output_type": "stream",
     "text": [
      "after cleansing the weights updates who were almost zeros (meaning with absolute value of less than 10**-7, 0.00% of the weights upadtes) we get:\n",
      "user No.17 has been picked 212, his deltas theta's mean\n",
      " is 0.0007127139251679182,\n",
      "the empirical var of deltas thetas is 0.0034293204080313444\n",
      "the minimum of the deltas theta is -0.31817182898521423 and the maximum is 0.307473361492157\n",
      "the added laplace noise var is 14.165229625374106\n",
      "global epoch 212 has been done artifficialy in 0.93 secs, the total time by now is 199.15 \n",
      " with avg train loss 0.166, val loss 1.065, avg val acc 73.68%\n"
     ]
    },
    {
     "name": "stderr",
     "output_type": "stream",
     "text": [
      " 71%|███████   | 212/300 [1:21:45<34:43, 23.68s/it]"
     ]
    },
    {
     "name": "stdout",
     "output_type": "stream",
     "text": [
      "after cleansing the weights updates who were almost zeros (meaning with absolute value of less than 10**-7, 0.00% of the weights upadtes) we get:\n",
      "user No.25 has been picked 213, his deltas theta's mean\n",
      " is 0.00015621443162672222,\n",
      "the empirical var of deltas thetas is 0.00257268943823874\n",
      "the minimum of the deltas theta is -0.3039981424808502 and the maximum is 0.3682568669319153\n",
      "the added laplace noise var is 14.743323612998566\n",
      "global epoch 213 has been done artifficialy in 0.89 secs, the total time by now is 200.04 \n",
      " with avg train loss 0.149, val loss 1.064, avg val acc 73.37%\n"
     ]
    },
    {
     "name": "stderr",
     "output_type": "stream",
     "text": [
      " 71%|███████   | 213/300 [1:22:09<34:11, 23.58s/it]"
     ]
    },
    {
     "name": "stdout",
     "output_type": "stream",
     "text": [
      "after cleansing the weights updates who were almost zeros (meaning with absolute value of less than 10**-7, 0.00% of the weights upadtes) we get:\n",
      "user No.12 has been picked 214, his deltas theta's mean\n",
      " is 0.0008772843284532428,\n",
      "the empirical var of deltas thetas is 0.00383438216522336\n",
      "the minimum of the deltas theta is -0.33883464336395264 and the maximum is 0.3589099645614624\n",
      "the added laplace noise var is 15.34501006381397\n",
      "global epoch 214 has been done artifficialy in 0.87 secs, the total time by now is 200.91 \n",
      " with avg train loss 0.161, val loss 1.067, avg val acc 73.61%\n"
     ]
    },
    {
     "name": "stderr",
     "output_type": "stream",
     "text": [
      " 71%|███████▏  | 214/300 [1:22:32<33:52, 23.64s/it]"
     ]
    },
    {
     "name": "stdout",
     "output_type": "stream",
     "text": [
      "after cleansing the weights updates who were almost zeros (meaning with absolute value of less than 10**-7, 0.00% of the weights upadtes) we get:\n",
      "user No.15 has been picked 215, his deltas theta's mean\n",
      " is 0.00015831817290745676,\n",
      "the empirical var of deltas thetas is 0.004278306383639574\n",
      "the minimum of the deltas theta is -0.36182689666748047 and the maximum is 0.3568245768547058\n",
      "the added laplace noise var is 15.971251804508192\n",
      "global epoch 215 has been done artifficialy in 0.90 secs, the total time by now is 201.81 \n",
      " with avg train loss 0.161, val loss 1.061, avg val acc 73.62%\n"
     ]
    },
    {
     "name": "stderr",
     "output_type": "stream",
     "text": [
      " 72%|███████▏  | 215/300 [1:22:56<33:34, 23.70s/it]"
     ]
    },
    {
     "name": "stdout",
     "output_type": "stream",
     "text": [
      "after cleansing the weights updates who were almost zeros (meaning with absolute value of less than 10**-7, 0.00% of the weights upadtes) we get:\n",
      "user No.24 has been picked 216, his deltas theta's mean\n",
      " is -0.00023202855663839728,\n",
      "the empirical var of deltas thetas is 0.0056107682175934315\n",
      "the minimum of the deltas theta is -0.39937353134155273 and the maximum is 0.4464350938796997\n",
      "the added laplace noise var is 16.623050955471765\n",
      "global epoch 216 has been done artifficialy in 0.96 secs, the total time by now is 202.78 \n",
      " with avg train loss 0.155, val loss 1.057, avg val acc 73.84%\n"
     ]
    },
    {
     "name": "stderr",
     "output_type": "stream",
     "text": [
      " 72%|███████▏  | 216/300 [1:23:21<33:44, 24.10s/it]"
     ]
    },
    {
     "name": "stdout",
     "output_type": "stream",
     "text": [
      "after cleansing the weights updates who were almost zeros (meaning with absolute value of less than 10**-7, 0.00% of the weights upadtes) we get:\n",
      "user No.17 has been picked 217, his deltas theta's mean\n",
      " is -0.0003550299152266234,\n",
      "the empirical var of deltas thetas is 0.0040504103526473045\n",
      "the minimum of the deltas theta is -0.3353096842765808 and the maximum is 0.3144174814224243\n",
      "the added laplace noise var is 17.301450534404072\n",
      "global epoch 217 has been done artifficialy in 0.97 secs, the total time by now is 203.75 \n",
      " with avg train loss 0.143, val loss 1.073, avg val acc 73.68%\n"
     ]
    },
    {
     "name": "stderr",
     "output_type": "stream",
     "text": [
      " 72%|███████▏  | 217/300 [1:23:45<33:19, 24.09s/it]"
     ]
    },
    {
     "name": "stdout",
     "output_type": "stream",
     "text": [
      "after cleansing the weights updates who were almost zeros (meaning with absolute value of less than 10**-7, 0.00% of the weights upadtes) we get:\n",
      "user No.4 has been picked 218, his deltas theta's mean\n",
      " is -0.0007160523673519492,\n",
      "the empirical var of deltas thetas is 0.003429670352488756\n",
      "the minimum of the deltas theta is -0.35875654220581055 and the maximum is 0.3386044204235077\n",
      "the added laplace noise var is 18.007536125364428\n",
      "global epoch 218 has been done artifficialy in 0.95 secs, the total time by now is 204.70 \n",
      " with avg train loss 0.139, val loss 1.094, avg val acc 73.29%\n"
     ]
    },
    {
     "name": "stderr",
     "output_type": "stream",
     "text": [
      " 73%|███████▎  | 218/300 [1:24:10<33:11, 24.29s/it]"
     ]
    },
    {
     "name": "stdout",
     "output_type": "stream",
     "text": [
      "after cleansing the weights updates who were almost zeros (meaning with absolute value of less than 10**-7, 0.00% of the weights upadtes) we get:\n",
      "user No.14 has been picked 219, his deltas theta's mean\n",
      " is 0.0003155226295348257,\n",
      "the empirical var of deltas thetas is 0.00392451137304306\n",
      "the minimum of the deltas theta is -0.38554513454437256 and the maximum is 0.35877498984336853\n",
      "the added laplace noise var is 18.742437615937934\n",
      "global epoch 219 has been done artifficialy in 0.96 secs, the total time by now is 205.66 \n",
      " with avg train loss 0.158, val loss 1.082, avg val acc 73.76%\n"
     ]
    },
    {
     "name": "stderr",
     "output_type": "stream",
     "text": [
      " 73%|███████▎  | 219/300 [1:24:34<32:51, 24.34s/it]"
     ]
    },
    {
     "name": "stdout",
     "output_type": "stream",
     "text": [
      "after cleansing the weights updates who were almost zeros (meaning with absolute value of less than 10**-7, 0.00% of the weights upadtes) we get:\n",
      "user No.14 has been picked 220, his deltas theta's mean\n",
      " is 0.0007128390716388822,\n",
      "the empirical var of deltas thetas is 0.003755738725885749\n",
      "the minimum of the deltas theta is -0.4274267554283142 and the maximum is 0.30843180418014526\n",
      "the added laplace noise var is 19.507331005296916\n",
      "global epoch 220 has been done artifficialy in 0.90 secs, the total time by now is 206.56 \n",
      " with avg train loss 0.173, val loss 1.068, avg val acc 73.83%\n"
     ]
    },
    {
     "name": "stderr",
     "output_type": "stream",
     "text": [
      " 73%|███████▎  | 220/300 [1:24:58<32:16, 24.20s/it]"
     ]
    },
    {
     "name": "stdout",
     "output_type": "stream",
     "text": [
      "after cleansing the weights updates who were almost zeros (meaning with absolute value of less than 10**-7, 0.00% of the weights upadtes) we get:\n",
      "user No.6 has been picked 221, his deltas theta's mean\n",
      " is -0.0007784617482684553,\n",
      "the empirical var of deltas thetas is 0.004851650446653366\n",
      "the minimum of the deltas theta is -0.4192231297492981 and the maximum is 0.43964463472366333\n",
      "the added laplace noise var is 20.303440286050243\n",
      "global epoch 221 has been done artifficialy in 0.90 secs, the total time by now is 207.46 \n",
      " with avg train loss 0.154, val loss 1.068, avg val acc 73.88%\n"
     ]
    },
    {
     "name": "stderr",
     "output_type": "stream",
     "text": [
      " 74%|███████▎  | 221/300 [1:25:22<31:39, 24.04s/it]"
     ]
    },
    {
     "name": "stdout",
     "output_type": "stream",
     "text": [
      "after cleansing the weights updates who were almost zeros (meaning with absolute value of less than 10**-7, 0.00% of the weights upadtes) we get:\n",
      "user No.6 has been picked 222, his deltas theta's mean\n",
      " is -0.00011931305925827473,\n",
      "the empirical var of deltas thetas is 0.003925608936697245\n",
      "the minimum of the deltas theta is -0.3556221127510071 and the maximum is 0.3499884605407715\n",
      "the added laplace noise var is 21.1320394028929\n",
      "global epoch 222 has been done artifficialy in 0.89 secs, the total time by now is 208.35 \n",
      " with avg train loss 0.128, val loss 1.093, avg val acc 73.54%\n"
     ]
    },
    {
     "name": "stderr",
     "output_type": "stream",
     "text": [
      " 74%|███████▍  | 222/300 [1:25:46<31:12, 24.01s/it]"
     ]
    },
    {
     "name": "stdout",
     "output_type": "stream",
     "text": [
      "after cleansing the weights updates who were almost zeros (meaning with absolute value of less than 10**-7, 0.02% of the weights upadtes) we get:\n",
      "user No.13 has been picked 223, his deltas theta's mean\n",
      " is -0.0003915487031918019,\n",
      "the empirical var of deltas thetas is 0.005049675703048706\n",
      "the minimum of the deltas theta is -0.39202558994293213 and the maximum is 0.3872406780719757\n",
      "the added laplace noise var is 21.99445429118899\n",
      "global epoch 223 has been done artifficialy in 0.94 secs, the total time by now is 209.28 \n",
      " with avg train loss 0.135, val loss 1.095, avg val acc 73.78%\n"
     ]
    },
    {
     "name": "stderr",
     "output_type": "stream",
     "text": [
      " 74%|███████▍  | 223/300 [1:26:10<30:40, 23.90s/it]"
     ]
    },
    {
     "name": "stdout",
     "output_type": "stream",
     "text": [
      "after cleansing the weights updates who were almost zeros (meaning with absolute value of less than 10**-7, 0.00% of the weights upadtes) we get:\n",
      "user No.7 has been picked 224, his deltas theta's mean\n",
      " is -0.00024890562053769827,\n",
      "the empirical var of deltas thetas is 0.004517023917287588\n",
      "the minimum of the deltas theta is -0.38787275552749634 and the maximum is 0.3944193422794342\n",
      "the added laplace noise var is 22.892064998751533\n",
      "global epoch 224 has been done artifficialy in 1.00 secs, the total time by now is 210.28 \n",
      " with avg train loss 0.154, val loss 1.092, avg val acc 73.81%\n"
     ]
    },
    {
     "name": "stderr",
     "output_type": "stream",
     "text": [
      " 75%|███████▍  | 224/300 [1:26:34<30:16, 23.90s/it]"
     ]
    },
    {
     "name": "stdout",
     "output_type": "stream",
     "text": [
      "after cleansing the weights updates who were almost zeros (meaning with absolute value of less than 10**-7, 0.00% of the weights upadtes) we get:\n",
      "user No.14 has been picked 225, his deltas theta's mean\n",
      " is 0.0002548685879446566,\n",
      "the empirical var of deltas thetas is 0.0037447032518684864\n",
      "the minimum of the deltas theta is -0.4321485459804535 and the maximum is 0.32869070768356323\n",
      "the added laplace noise var is 23.82630789421303\n",
      "global epoch 225 has been done artifficialy in 0.90 secs, the total time by now is 211.18 \n",
      " with avg train loss 0.159, val loss 1.088, avg val acc 73.75%\n"
     ]
    },
    {
     "name": "stderr",
     "output_type": "stream",
     "text": [
      " 75%|███████▌  | 225/300 [1:26:57<29:40, 23.74s/it]"
     ]
    },
    {
     "name": "stdout",
     "output_type": "stream",
     "text": [
      "after cleansing the weights updates who were almost zeros (meaning with absolute value of less than 10**-7, 0.00% of the weights upadtes) we get:\n",
      "user No.24 has been picked 226, his deltas theta's mean\n",
      " is -0.0008315080776810646,\n",
      "the empirical var of deltas thetas is 0.005611549597233534\n",
      "the minimum of the deltas theta is -0.3611856997013092 and the maximum is 0.42482101917266846\n",
      "the added laplace noise var is 24.798677965522106\n",
      "global epoch 226 has been done artifficialy in 0.93 secs, the total time by now is 212.11 \n",
      " with avg train loss 0.155, val loss 1.083, avg val acc 73.63%\n"
     ]
    },
    {
     "name": "stderr",
     "output_type": "stream",
     "text": [
      " 75%|███████▌  | 226/300 [1:27:20<29:11, 23.67s/it]"
     ]
    },
    {
     "name": "stdout",
     "output_type": "stream",
     "text": [
      "after cleansing the weights updates who were almost zeros (meaning with absolute value of less than 10**-7, 0.00% of the weights upadtes) we get:\n",
      "user No.29 has been picked 227, his deltas theta's mean\n",
      " is -0.00012917634740006179,\n",
      "the empirical var of deltas thetas is 0.0044093686155974865\n",
      "the minimum of the deltas theta is -0.4104424715042114 and the maximum is 0.34581947326660156\n",
      "the added laplace noise var is 25.810731212242757\n",
      "global epoch 227 has been done artifficialy in 0.89 secs, the total time by now is 213.00 \n",
      " with avg train loss 0.148, val loss 1.086, avg val acc 73.58%\n"
     ]
    },
    {
     "name": "stderr",
     "output_type": "stream",
     "text": [
      " 76%|███████▌  | 227/300 [1:27:44<28:46, 23.65s/it]"
     ]
    },
    {
     "name": "stdout",
     "output_type": "stream",
     "text": [
      "after cleansing the weights updates who were almost zeros (meaning with absolute value of less than 10**-7, 0.00% of the weights upadtes) we get:\n",
      "user No.29 has been picked 228, his deltas theta's mean\n",
      " is 0.0009933756664395332,\n",
      "the empirical var of deltas thetas is 0.0043054185807704926\n",
      "the minimum of the deltas theta is -0.41274788975715637 and the maximum is 0.3886473476886749\n",
      "the added laplace noise var is 26.86408713548605\n",
      "global epoch 228 has been done artifficialy in 0.93 secs, the total time by now is 213.93 \n",
      " with avg train loss 0.132, val loss 1.104, avg val acc 73.26%\n"
     ]
    },
    {
     "name": "stderr",
     "output_type": "stream",
     "text": [
      " 76%|███████▌  | 228/300 [1:28:07<28:19, 23.60s/it]"
     ]
    },
    {
     "name": "stdout",
     "output_type": "stream",
     "text": [
      "after cleansing the weights updates who were almost zeros (meaning with absolute value of less than 10**-7, 0.00% of the weights upadtes) we get:\n",
      "user No.26 has been picked 229, his deltas theta's mean\n",
      " is 0.0005625472986139357,\n",
      "the empirical var of deltas thetas is 0.002217891626060009\n",
      "the minimum of the deltas theta is -0.3190429210662842 and the maximum is 0.3681837320327759\n",
      "the added laplace noise var is 27.960431329456988\n",
      "global epoch 229 has been done artifficialy in 0.97 secs, the total time by now is 214.91 \n",
      " with avg train loss 0.139, val loss 1.105, avg val acc 73.40%\n"
     ]
    },
    {
     "name": "stderr",
     "output_type": "stream",
     "text": [
      " 76%|███████▋  | 229/300 [1:28:31<27:56, 23.61s/it]"
     ]
    },
    {
     "name": "stdout",
     "output_type": "stream",
     "text": [
      "after cleansing the weights updates who were almost zeros (meaning with absolute value of less than 10**-7, 0.00% of the weights upadtes) we get:\n",
      "user No.11 has been picked 230, his deltas theta's mean\n",
      " is -0.00048053095815703273,\n",
      "the empirical var of deltas thetas is 0.004034019540995359\n",
      "the minimum of the deltas theta is -0.3645448684692383 and the maximum is 0.34004124999046326\n",
      "the added laplace noise var is 29.10151817876526\n",
      "global epoch 230 has been done artifficialy in 0.92 secs, the total time by now is 215.83 \n",
      " with avg train loss 0.141, val loss 1.100, avg val acc 73.58%\n"
     ]
    },
    {
     "name": "stderr",
     "output_type": "stream",
     "text": [
      " 77%|███████▋  | 230/300 [1:28:55<27:31, 23.59s/it]"
     ]
    },
    {
     "name": "stdout",
     "output_type": "stream",
     "text": [
      "after cleansing the weights updates who were almost zeros (meaning with absolute value of less than 10**-7, 0.00% of the weights upadtes) we get:\n",
      "user No.5 has been picked 231, his deltas theta's mean\n",
      " is -0.0008803558885119855,\n",
      "the empirical var of deltas thetas is 0.0043840366415679455\n",
      "the minimum of the deltas theta is -0.41458719968795776 and the maximum is 0.39586061239242554\n",
      "the added laplace noise var is 30.289173665814502\n",
      "global epoch 231 has been done artifficialy in 0.94 secs, the total time by now is 216.77 \n",
      " with avg train loss 0.145, val loss 1.094, avg val acc 73.38%\n"
     ]
    },
    {
     "name": "stderr",
     "output_type": "stream",
     "text": [
      " 77%|███████▋  | 231/300 [1:29:18<27:06, 23.57s/it]"
     ]
    },
    {
     "name": "stdout",
     "output_type": "stream",
     "text": [
      "after cleansing the weights updates who were almost zeros (meaning with absolute value of less than 10**-7, 0.00% of the weights upadtes) we get:\n",
      "user No.12 has been picked 232, his deltas theta's mean\n",
      " is 0.0006158915348351002,\n",
      "the empirical var of deltas thetas is 0.004930603317916393\n",
      "the minimum of the deltas theta is -0.3724370002746582 and the maximum is 0.3951731026172638\n",
      "the added laplace noise var is 31.525298292764067\n",
      "global epoch 232 has been done artifficialy in 0.87 secs, the total time by now is 217.64 \n",
      " with avg train loss 0.160, val loss 1.088, avg val acc 73.47%\n"
     ]
    },
    {
     "name": "stderr",
     "output_type": "stream",
     "text": [
      " 77%|███████▋  | 232/300 [1:29:42<26:41, 23.55s/it]"
     ]
    },
    {
     "name": "stdout",
     "output_type": "stream",
     "text": [
      "after cleansing the weights updates who were almost zeros (meaning with absolute value of less than 10**-7, 0.00% of the weights upadtes) we get:\n",
      "user No.29 has been picked 233, his deltas theta's mean\n",
      " is 0.00018168716633226722,\n",
      "the empirical var of deltas thetas is 0.003695369465276599\n",
      "the minimum of the deltas theta is -0.3326687216758728 and the maximum is 0.31256020069122314\n",
      "the added laplace noise var is 32.81187012273777\n",
      "global epoch 233 has been done artifficialy in 0.95 secs, the total time by now is 218.59 \n",
      " with avg train loss 0.132, val loss 1.096, avg val acc 73.37%\n"
     ]
    },
    {
     "name": "stderr",
     "output_type": "stream",
     "text": [
      " 78%|███████▊  | 233/300 [1:30:05<26:17, 23.54s/it]"
     ]
    },
    {
     "name": "stdout",
     "output_type": "stream",
     "text": [
      "after cleansing the weights updates who were almost zeros (meaning with absolute value of less than 10**-7, 0.00% of the weights upadtes) we get:\n",
      "user No.19 has been picked 234, his deltas theta's mean\n",
      " is 0.000255373161053285,\n",
      "the empirical var of deltas thetas is 0.0032272536773234606\n",
      "the minimum of the deltas theta is -0.3054293394088745 and the maximum is 0.2847699224948883\n",
      "the added laplace noise var is 34.15094794514676\n",
      "global epoch 234 has been done artifficialy in 0.91 secs, the total time by now is 219.50 \n",
      " with avg train loss 0.120, val loss 1.099, avg val acc 73.48%\n"
     ]
    },
    {
     "name": "stderr",
     "output_type": "stream",
     "text": [
      " 78%|███████▊  | 234/300 [1:30:29<25:58, 23.62s/it]"
     ]
    },
    {
     "name": "stdout",
     "output_type": "stream",
     "text": [
      "after cleansing the weights updates who were almost zeros (meaning with absolute value of less than 10**-7, 0.00% of the weights upadtes) we get:\n",
      "user No.17 has been picked 235, his deltas theta's mean\n",
      " is 2.3677243007114157e-05,\n",
      "the empirical var of deltas thetas is 0.0035384439397603273\n",
      "the minimum of the deltas theta is -0.3172157406806946 and the maximum is 0.3173152804374695\n",
      "the added laplace noise var is 35.544674570192186\n",
      "global epoch 235 has been done artifficialy in 1.00 secs, the total time by now is 220.51 \n",
      " with avg train loss 0.128, val loss 1.118, avg val acc 73.50%\n"
     ]
    },
    {
     "name": "stderr",
     "output_type": "stream",
     "text": [
      " 78%|███████▊  | 235/300 [1:30:53<25:34, 23.61s/it]"
     ]
    },
    {
     "name": "stdout",
     "output_type": "stream",
     "text": [
      "after cleansing the weights updates who were almost zeros (meaning with absolute value of less than 10**-7, 0.04% of the weights upadtes) we get:\n",
      "user No.25 has been picked 236, his deltas theta's mean\n",
      " is 0.00023234538093674928,\n",
      "the empirical var of deltas thetas is 0.005268453620374203\n",
      "the minimum of the deltas theta is -0.42689430713653564 and the maximum is 0.4312591552734375\n",
      "the added laplace noise var is 36.995280257818195\n",
      "global epoch 236 has been done artifficialy in 0.90 secs, the total time by now is 221.41 \n",
      " with avg train loss 0.136, val loss 1.122, avg val acc 73.70%\n"
     ]
    },
    {
     "name": "stderr",
     "output_type": "stream",
     "text": [
      " 79%|███████▊  | 236/300 [1:31:16<25:09, 23.58s/it]"
     ]
    },
    {
     "name": "stdout",
     "output_type": "stream",
     "text": [
      "after cleansing the weights updates who were almost zeros (meaning with absolute value of less than 10**-7, 0.00% of the weights upadtes) we get:\n",
      "user No.13 has been picked 237, his deltas theta's mean\n",
      " is 0.00024991045938804746,\n",
      "the empirical var of deltas thetas is 0.0045254104770720005\n",
      "the minimum of the deltas theta is -0.418634295463562 and the maximum is 0.3768202066421509\n",
      "the added laplace noise var is 38.50508628660416\n",
      "global epoch 237 has been done artifficialy in 0.97 secs, the total time by now is 222.38 \n",
      " with avg train loss 0.141, val loss 1.124, avg val acc 73.74%\n"
     ]
    },
    {
     "name": "stderr",
     "output_type": "stream",
     "text": [
      " 79%|███████▉  | 237/300 [1:31:40<24:44, 23.56s/it]"
     ]
    },
    {
     "name": "stdout",
     "output_type": "stream",
     "text": [
      "after cleansing the weights updates who were almost zeros (meaning with absolute value of less than 10**-7, 0.00% of the weights upadtes) we get:\n",
      "user No.17 has been picked 238, his deltas theta's mean\n",
      " is -7.411339174723253e-05,\n",
      "the empirical var of deltas thetas is 0.0037541703786700964\n",
      "the minimum of the deltas theta is -0.3203662037849426 and the maximum is 0.33656835556030273\n",
      "the added laplace noise var is 40.07650866830516\n",
      "global epoch 238 has been done artifficialy in 0.93 secs, the total time by now is 223.31 \n",
      " with avg train loss 0.142, val loss 1.104, avg val acc 73.89%\n"
     ]
    },
    {
     "name": "stderr",
     "output_type": "stream",
     "text": [
      " 79%|███████▉  | 238/300 [1:32:03<24:20, 23.56s/it]"
     ]
    },
    {
     "name": "stdout",
     "output_type": "stream",
     "text": [
      "after cleansing the weights updates who were almost zeros (meaning with absolute value of less than 10**-7, 0.00% of the weights upadtes) we get:\n",
      "user No.16 has been picked 239, his deltas theta's mean\n",
      " is -0.0014833187451586127,\n",
      "the empirical var of deltas thetas is 0.004995909985154867\n",
      "the minimum of the deltas theta is -0.3828486204147339 and the maximum is 0.4078562557697296\n",
      "the added laplace noise var is 41.712062013986696\n",
      "global epoch 239 has been done artifficialy in 0.96 secs, the total time by now is 224.27 \n",
      " with avg train loss 0.139, val loss 1.109, avg val acc 73.29%\n"
     ]
    },
    {
     "name": "stderr",
     "output_type": "stream",
     "text": [
      " 80%|███████▉  | 239/300 [1:32:27<23:56, 23.56s/it]"
     ]
    },
    {
     "name": "stdout",
     "output_type": "stream",
     "text": [
      "after cleansing the weights updates who were almost zeros (meaning with absolute value of less than 10**-7, 0.01% of the weights upadtes) we get:\n",
      "user No.10 has been picked 240, his deltas theta's mean\n",
      " is 0.0002978578850161284,\n",
      "the empirical var of deltas thetas is 0.0031205222476273775\n",
      "the minimum of the deltas theta is -0.31764906644821167 and the maximum is 0.37296950817108154\n",
      "the added laplace noise var is 43.41436355793835\n",
      "global epoch 240 has been done artifficialy in 0.93 secs, the total time by now is 225.21 \n",
      " with avg train loss 0.158, val loss 1.084, avg val acc 73.67%\n"
     ]
    },
    {
     "name": "stderr",
     "output_type": "stream",
     "text": [
      " 80%|████████  | 240/300 [1:32:50<23:35, 23.59s/it]"
     ]
    },
    {
     "name": "stdout",
     "output_type": "stream",
     "text": [
      "after cleansing the weights updates who were almost zeros (meaning with absolute value of less than 10**-7, 0.00% of the weights upadtes) we get:\n",
      "user No.12 has been picked 241, his deltas theta's mean\n",
      " is 0.0027652413118630648,\n",
      "the empirical var of deltas thetas is 0.016665523871779442\n",
      "the minimum of the deltas theta is -0.5144522190093994 and the maximum is 0.5184621214866638\n",
      "the added laplace noise var is 45.186137345807666\n",
      "global epoch 241 has been done artifficialy in 0.94 secs, the total time by now is 226.15 \n",
      " with avg train loss 0.121, val loss 1.109, avg val acc 73.32%\n"
     ]
    },
    {
     "name": "stderr",
     "output_type": "stream",
     "text": [
      " 80%|████████  | 241/300 [1:33:14<23:11, 23.59s/it]"
     ]
    },
    {
     "name": "stdout",
     "output_type": "stream",
     "text": [
      "after cleansing the weights updates who were almost zeros (meaning with absolute value of less than 10**-7, 0.00% of the weights upadtes) we get:\n",
      "user No.0 has been picked 242, his deltas theta's mean\n",
      " is 0.00014371288125403225,\n",
      "the empirical var of deltas thetas is 0.0024799176026135683\n",
      "the minimum of the deltas theta is -0.31466734409332275 and the maximum is 0.28057846426963806\n",
      "the added laplace noise var is 47.03021859365362\n",
      "global epoch 242 has been done artifficialy in 0.92 secs, the total time by now is 227.07 \n",
      " with avg train loss 0.118, val loss 1.123, avg val acc 73.41%\n"
     ]
    },
    {
     "name": "stderr",
     "output_type": "stream",
     "text": [
      " 81%|████████  | 242/300 [1:33:38<22:52, 23.66s/it]"
     ]
    },
    {
     "name": "stdout",
     "output_type": "stream",
     "text": [
      "after cleansing the weights updates who were almost zeros (meaning with absolute value of less than 10**-7, 0.00% of the weights upadtes) we get:\n",
      "user No.7 has been picked 243, his deltas theta's mean\n",
      " is -0.0005847775028087199,\n",
      "the empirical var of deltas thetas is 0.005189997144043446\n",
      "the minimum of the deltas theta is -0.4115598201751709 and the maximum is 0.35129547119140625\n",
      "the added laplace noise var is 48.94955822489793\n",
      "global epoch 243 has been done artifficialy in 0.96 secs, the total time by now is 228.03 \n",
      " with avg train loss 0.130, val loss 1.126, avg val acc 73.46%\n"
     ]
    },
    {
     "name": "stderr",
     "output_type": "stream",
     "text": [
      " 81%|████████  | 243/300 [1:34:01<22:27, 23.64s/it]"
     ]
    },
    {
     "name": "stdout",
     "output_type": "stream",
     "text": [
      "after cleansing the weights updates who were almost zeros (meaning with absolute value of less than 10**-7, 0.00% of the weights upadtes) we get:\n",
      "user No.28 has been picked 244, his deltas theta's mean\n",
      " is 0.0005614399560727179,\n",
      "the empirical var of deltas thetas is 0.005322457756847143\n",
      "the minimum of the deltas theta is -0.3619921803474426 and the maximum is 0.377493679523468\n",
      "the added laplace noise var is 50.947227592431354\n",
      "global epoch 244 has been done artifficialy in 1.00 secs, the total time by now is 229.04 \n",
      " with avg train loss 0.137, val loss 1.122, avg val acc 73.30%\n"
     ]
    },
    {
     "name": "stderr",
     "output_type": "stream",
     "text": [
      " 81%|████████▏ | 244/300 [1:34:25<22:02, 23.61s/it]"
     ]
    },
    {
     "name": "stdout",
     "output_type": "stream",
     "text": [
      "after cleansing the weights updates who were almost zeros (meaning with absolute value of less than 10**-7, 0.00% of the weights upadtes) we get:\n",
      "user No.10 has been picked 245, his deltas theta's mean\n",
      " is -0.0015754762571305037,\n",
      "the empirical var of deltas thetas is 0.005998173262923956\n",
      "the minimum of the deltas theta is -0.4858812093734741 and the maximum is 0.3809378445148468\n",
      "the added laplace noise var is 53.02642339343432\n",
      "global epoch 245 has been done artifficialy in 0.96 secs, the total time by now is 230.00 \n",
      " with avg train loss 0.158, val loss 1.096, avg val acc 73.51%\n"
     ]
    },
    {
     "name": "stderr",
     "output_type": "stream",
     "text": [
      " 82%|████████▏ | 245/300 [1:34:49<21:38, 23.62s/it]"
     ]
    },
    {
     "name": "stdout",
     "output_type": "stream",
     "text": [
      "after cleansing the weights updates who were almost zeros (meaning with absolute value of less than 10**-7, 0.03% of the weights upadtes) we get:\n",
      "user No.27 has been picked 246, his deltas theta's mean\n",
      " is -0.0005500555271282792,\n",
      "the empirical var of deltas thetas is 0.003501428756862879\n",
      "the minimum of the deltas theta is -0.3479137718677521 and the maximum is 0.32794228196144104\n",
      "the added laplace noise var is 55.190472784773696\n",
      "global epoch 246 has been done artifficialy in 0.99 secs, the total time by now is 230.99 \n",
      " with avg train loss 0.141, val loss 1.088, avg val acc 73.68%\n"
     ]
    },
    {
     "name": "stderr",
     "output_type": "stream",
     "text": [
      " 82%|████████▏ | 246/300 [1:35:12<21:15, 23.61s/it]"
     ]
    },
    {
     "name": "stdout",
     "output_type": "stream",
     "text": [
      "after cleansing the weights updates who were almost zeros (meaning with absolute value of less than 10**-7, 0.04% of the weights upadtes) we get:\n",
      "user No.26 has been picked 247, his deltas theta's mean\n",
      " is 0.00012058204447384924,\n",
      "the empirical var of deltas thetas is 0.0026534649077802896\n",
      "the minimum of the deltas theta is -0.28256312012672424 and the maximum is 0.339133620262146\n",
      "the added laplace noise var is 57.442838707164306\n",
      "global epoch 247 has been done artifficialy in 0.98 secs, the total time by now is 231.97 \n",
      " with avg train loss 0.124, val loss 1.108, avg val acc 73.61%\n"
     ]
    },
    {
     "name": "stderr",
     "output_type": "stream",
     "text": [
      " 82%|████████▏ | 247/300 [1:35:36<20:52, 23.63s/it]"
     ]
    },
    {
     "name": "stdout",
     "output_type": "stream",
     "text": [
      "after cleansing the weights updates who were almost zeros (meaning with absolute value of less than 10**-7, 0.00% of the weights upadtes) we get:\n",
      "user No.5 has been picked 248, his deltas theta's mean\n",
      " is 0.0007921665674075484,\n",
      "the empirical var of deltas thetas is 0.004183363635092974\n",
      "the minimum of the deltas theta is -0.34325575828552246 and the maximum is 0.38189712166786194\n",
      "the added laplace noise var is 59.787125426612114\n",
      "global epoch 248 has been done artifficialy in 0.91 secs, the total time by now is 232.88 \n",
      " with avg train loss 0.147, val loss 1.102, avg val acc 73.55%\n"
     ]
    },
    {
     "name": "stderr",
     "output_type": "stream",
     "text": [
      " 83%|████████▎ | 248/300 [1:35:59<20:23, 23.54s/it]"
     ]
    },
    {
     "name": "stdout",
     "output_type": "stream",
     "text": [
      "after cleansing the weights updates who were almost zeros (meaning with absolute value of less than 10**-7, 0.04% of the weights upadtes) we get:\n",
      "user No.12 has been picked 249, his deltas theta's mean\n",
      " is -0.0004472556756809354,\n",
      "the empirical var of deltas thetas is 0.004589001182466745\n",
      "the minimum of the deltas theta is -0.3582059442996979 and the maximum is 0.37917983531951904\n",
      "the added laplace noise var is 62.22708430200962\n",
      "global epoch 249 has been done artifficialy in 0.90 secs, the total time by now is 233.78 \n",
      " with avg train loss 0.178, val loss 1.070, avg val acc 73.59%\n"
     ]
    },
    {
     "name": "stderr",
     "output_type": "stream",
     "text": [
      " 83%|████████▎ | 249/300 [1:36:23<20:06, 23.65s/it]"
     ]
    },
    {
     "name": "stdout",
     "output_type": "stream",
     "text": [
      "after cleansing the weights updates who were almost zeros (meaning with absolute value of less than 10**-7, 0.00% of the weights upadtes) we get:\n",
      "user No.13 has been picked 250, his deltas theta's mean\n",
      " is -0.000594929966609925,\n",
      "the empirical var of deltas thetas is 0.0030047858599573374\n",
      "the minimum of the deltas theta is -0.3167579174041748 and the maximum is 0.308506041765213\n",
      "the added laplace noise var is 64.76661978810958\n",
      "global epoch 250 has been done artifficialy in 0.91 secs, the total time by now is 234.69 \n",
      " with avg train loss 0.120, val loss 1.094, avg val acc 73.52%\n"
     ]
    },
    {
     "name": "stderr",
     "output_type": "stream",
     "text": [
      " 83%|████████▎ | 250/300 [1:36:47<19:47, 23.74s/it]"
     ]
    },
    {
     "name": "stdout",
     "output_type": "stream",
     "text": [
      "after cleansing the weights updates who were almost zeros (meaning with absolute value of less than 10**-7, 0.00% of the weights upadtes) we get:\n",
      "user No.12 has been picked 251, his deltas theta's mean\n",
      " is 0.0004927012487314641,\n",
      "the empirical var of deltas thetas is 0.003185829846188426\n",
      "the minimum of the deltas theta is -0.35949212312698364 and the maximum is 0.3048892021179199\n",
      "the added laplace noise var is 67.40979568348646\n",
      "global epoch 251 has been done artifficialy in 0.92 secs, the total time by now is 235.62 \n",
      " with avg train loss 0.151, val loss 1.088, avg val acc 73.44%\n"
     ]
    },
    {
     "name": "stderr",
     "output_type": "stream",
     "text": [
      " 84%|████████▎ | 251/300 [1:37:11<19:22, 23.72s/it]"
     ]
    },
    {
     "name": "stdout",
     "output_type": "stream",
     "text": [
      "after cleansing the weights updates who were almost zeros (meaning with absolute value of less than 10**-7, 0.00% of the weights upadtes) we get:\n",
      "user No.11 has been picked 252, his deltas theta's mean\n",
      " is 0.00010443869541632012,\n",
      "the empirical var of deltas thetas is 0.0024342138785868883\n",
      "the minimum of the deltas theta is -0.3169015944004059 and the maximum is 0.3242262601852417\n",
      "the added laplace noise var is 70.16084163348019\n",
      "global epoch 252 has been done artifficialy in 0.92 secs, the total time by now is 236.54 \n",
      " with avg train loss 0.102, val loss 1.115, avg val acc 73.46%\n"
     ]
    },
    {
     "name": "stderr",
     "output_type": "stream",
     "text": [
      " 84%|████████▍ | 252/300 [1:37:35<19:04, 23.84s/it]"
     ]
    },
    {
     "name": "stdout",
     "output_type": "stream",
     "text": [
      "after cleansing the weights updates who were almost zeros (meaning with absolute value of less than 10**-7, 0.00% of the weights upadtes) we get:\n",
      "user No.27 has been picked 253, his deltas theta's mean\n",
      " is -0.0008115317905321717,\n",
      "the empirical var of deltas thetas is 0.002196544548496604\n",
      "the minimum of the deltas theta is -0.31150564551353455 and the maximum is 0.2914765477180481\n",
      "the added laplace noise var is 73.02415989853215\n",
      "global epoch 253 has been done artifficialy in 0.91 secs, the total time by now is 237.44 \n",
      " with avg train loss 0.112, val loss 1.139, avg val acc 73.68%\n"
     ]
    },
    {
     "name": "stderr",
     "output_type": "stream",
     "text": [
      " 84%|████████▍ | 253/300 [1:38:00<18:52, 24.10s/it]"
     ]
    },
    {
     "name": "stdout",
     "output_type": "stream",
     "text": [
      "after cleansing the weights updates who were almost zeros (meaning with absolute value of less than 10**-7, 0.00% of the weights upadtes) we get:\n",
      "user No.11 has been picked 254, his deltas theta's mean\n",
      " is -0.0003566762898117304,\n",
      "the empirical var of deltas thetas is 0.005501358304172754\n",
      "the minimum of the deltas theta is -0.36987927556037903 and the maximum is 0.4506489634513855\n",
      "the added laplace noise var is 76.00433239873992\n",
      "global epoch 254 has been done artifficialy in 0.91 secs, the total time by now is 238.36 \n",
      " with avg train loss 0.120, val loss 1.142, avg val acc 73.43%\n"
     ]
    },
    {
     "name": "stderr",
     "output_type": "stream",
     "text": [
      " 85%|████████▍ | 254/300 [1:38:24<18:35, 24.25s/it]"
     ]
    }
   ],
   "source": [
    "\n",
    "\n",
    "choices_table = np.zeros((args.global_epochs, args.num_users))\n",
    "num_of_obs_arr = np.zeros((1,args.num_users))\n",
    "train_loss_list = []\n",
    "val_acc_list = []\n",
    "val_losses_list = []\n",
    "l1_norm_avg_deltha_theta_list = []\n",
    "global_epochs_time_list = []\n",
    "privacy_violations_list = []\n",
    "max_privacy_violation = 0\n",
    "\n",
    "\n",
    "time_counter = 0\n",
    "for global_epoch in tqdm(range(1, args.global_epochs+1)):\n",
    "    \"\"\"Part 1: Choosing Users\"\"\"\n",
    "    for usr_idx in range(args.num_users):\n",
    "        local_models[usr_idx].update_g(global_epoch)\n",
    "        local_models[usr_idx].update_ucb(global_epoch)\n",
    "    \n",
    "    if args.choosing_users_verbose:\n",
    "        textio.cprint(f\"iteration: {global_epoch}\")\n",
    "    a=time.time()\n",
    "    rounds_choise = utils.choose_users(local_models, args, global_epoch, textio, method=args.method_choosing_users)\n",
    "\n",
    "    \n",
    "    #choices_table[global_epoch-1, rounds_choise] = 1\n",
    "    num_of_obs_arr[0,rounds_choise] += 1\n",
    "    num_slow_users = 0\n",
    "    num_fast_users = 0\n",
    "    for usr_idx in sorted(rounds_choise):\n",
    "        local_models[usr_idx].update_emp_avg()\n",
    "        local_models[usr_idx].update_privacy_violation_and_reward()\n",
    "        local_models[usr_idx].increase_num_of_obs()\n",
    "        if local_models[usr_idx].privacy_violation > max_privacy_violation:\n",
    "            max_privacy_violation = local_models[usr_idx].privacy_violation\n",
    "        if args.choosing_users_verbose:\n",
    "            textio.cprint(f\"user {usr_idx}, emp_avg: {local_models[usr_idx].emp_avg}, h: {local_models[usr_idx].ucb_generalization}, ucb: {local_models[usr_idx].ucb}, num_of_obs(calculated after picking at this round): {local_models[usr_idx].num_of_obs}, privacy reward: {local_models[usr_idx].privacy_reward}, g: {local_models[usr_idx].g}, curr_delay = {local_models[usr_idx].last_access_time}\")\n",
    "        if usr_idx < args.num_users//2:\n",
    "            num_fast_users += 1\n",
    "        else:\n",
    "            num_slow_users += 1\n",
    "    if args.choosing_users_verbose:\n",
    "        textio.cprint(f\"num of fast users chosen: {num_fast_users}, num of slow users chosen: {num_slow_users}\")\n",
    "    \n",
    "    max_delay = max([local_models[i].last_access_time for i in rounds_choise])\n",
    "    if args.choosing_users_verbose:\n",
    "        textio.cprint(f\"max_delay = {max_delay:.2f} seconds\")\n",
    "\n",
    "    privacy_violations_list.append(max_privacy_violation)\n",
    "    \n",
    "    \n",
    "    \n",
    "    \"\"\"Part 2: Training\"\"\"\n",
    "    learning_utils.distribute_model(local_models, global_model)\n",
    "    users_avg_loss_over_local_epochs = []\n",
    "\n",
    "    for user_idx in rounds_choise:\n",
    "        user_loss = []\n",
    "        for local_epoch in range(args.local_epochs):\n",
    "            user = local_models[user_idx]\n",
    "            train_loss = learning_utils.train_one_epoch(user, train_criterion, args)\n",
    "            if args.lr_scheduler:\n",
    "                user.scheduler.step(train_loss)\n",
    "            user_loss.append(train_loss)\n",
    "        users_avg_loss_over_local_epochs.append(mean(user_loss))\n",
    "    \n",
    "    avg_loss_over_chosen_users_curr_global_epoch = mean(users_avg_loss_over_local_epochs)\n",
    "    train_loss_list.append(avg_loss_over_chosen_users_curr_global_epoch)\n",
    "\n",
    "\n",
    "    avg_deltha_theta = learning_utils.Fed_avg_models(local_models, global_model, rounds_choise, textio\n",
    "                                                     ,args, snr_verbose = args.snr_verbose)\n",
    "    # l1_norm_avg_deltha_theta = sum(LA.vector_norm(param.flatten(),1) for param in avg_deltha_theta.values())\n",
    "    # l1_norm_avg_deltha_theta_list.append(l1_norm_avg_deltha_theta)\n",
    "    # print(f\"l1_norm_avg_deltha_theta is {l1_norm_avg_deltha_theta}\")\n",
    "    \n",
    "\n",
    "    val_acc, val_loss = learning_utils.test(test_loader, global_model, test_criterion, args)\n",
    "    val_acc_list.append(val_acc) ; val_losses_list.append(val_loss)\n",
    "    \n",
    "\n",
    "    # boardio.add_scalars(\"Losses over time in seconds\", {\"train_loss\":avg_loss_over_chosen_users_curr_global_epoch,\n",
    "    #                                     \"val_loss\": val_loss}, time.time()-start_time)\n",
    "    # boardio.add_scalar('Val Accuracy', val_acc, time.time()-start_time)\n",
    "\n",
    "\n",
    "    time_counter += max_delay\n",
    "    textio.cprint((f\"global epoch {global_epoch} has been done artifficialy in {max_delay:.2f} secs, the total time by now is {time_counter:.2f} \\n with avg train loss {avg_loss_over_chosen_users_curr_global_epoch:.3f}, val loss {val_loss:.3f}, avg val acc {val_acc:.2f}%\"))\n",
    "    global_epochs_time_list.append(time_counter)\n",
    "    gc.collect()\n",
    "\n",
    "\n",
    "    if val_acc > best_val_acc and args.save_best_model:\n",
    "        best_val_acc = val_acc\n",
    "        torch.save({\"model's state dict\":global_model.state_dict(),\n",
    "                    \"train_loss_list\": train_loss_list,\n",
    "                    \"val_acc_list\": val_acc_list,\n",
    "                    \"val_losses_list\": val_losses_list,\n",
    "                    \"global_epochs_time_list\": global_epochs_time_list,\n",
    "                    \"num_of_users\": args.num_users,\n",
    "                    \"num_of_users_per_round\": args.num_users_per_round,\n",
    "                    \"privacy_violations_list\": privacy_violations_list}\n",
    "                    , path_best_model)\n",
    "    \n",
    "    \n",
    "    torch.save({\"model's state dict\":global_model.state_dict(),\n",
    "                \"train_loss_list\": train_loss_list,\n",
    "                \"val_acc_list\": val_acc_list,\n",
    "                \"val_losses_list\": val_losses_list,\n",
    "                \"global_epochs_time_list\": global_epochs_time_list,\n",
    "                \"num_of_obs_arr\": num_of_obs_arr.reshape(-1),\n",
    "                \"global_epoch\": global_epoch,\n",
    "                \"num_of_users\": args.num_users,\n",
    "                \"num_of_users_per_round\": args.num_users_per_round,\n",
    "                \"privacy_violations_list\": privacy_violations_list}\n",
    "                , last_model_path)\n",
    "    \n",
    "    users_idxs = tuple([str(x) for x in range(1,args.num_users+1)])\n",
    "    plt.bar(users_idxs, num_of_obs_arr.reshape(-1))\n",
    "    plt.title(\"Number of times each user was chosen\")\n",
    "    plt.ylabel(\"number of times\")\n",
    "    #hide x labels \n",
    "    plt.xticks([])\n",
    "    fig = plt.gcf()\n",
    "    fig.set_size_inches(18.5, 10.5)\n",
    "    #boardio.add_figure(\"Number of times each user was chosen\", fig, global_epoch)\n",
    "    plt.savefig(last_model_path.parent / \"Number of times each user was chosen.png\")\n",
    "\n",
    "    if time_counter > args.max_seconds:\n",
    "        break\n",
    "\n",
    "\n"
   ]
  }
 ],
 "metadata": {
  "kernelspec": {
   "display_name": "Python 3",
   "language": "python",
   "name": "python3"
  },
  "language_info": {
   "codemirror_mode": {
    "name": "ipython",
    "version": 3
   },
   "file_extension": ".py",
   "mimetype": "text/x-python",
   "name": "python",
   "nbconvert_exporter": "python",
   "pygments_lexer": "ipython3",
   "version": "3.11.5"
  }
 },
 "nbformat": 4,
 "nbformat_minor": 2
}
