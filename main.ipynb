{
 "cells": [
  {
   "cell_type": "code",
   "execution_count": 1,
   "metadata": {},
   "outputs": [],
   "source": [
    "import gc\n",
    "import sys\n",
    "from statistics import mean\n",
    "import time\n",
    "import torch\n",
    "from tqdm import tqdm\n",
    "from torchinfo import summary\n",
    "import numpy as np\n",
    "import itertools\n",
    "from pathlib import Path\n",
    "from scipy import special\n",
    "import matplotlib.pyplot as plt\n",
    "import datetime\n",
    "import torch.linalg as LA\n",
    "from torch.distributions.laplace import Laplace\n",
    "\n",
    "import utils\n",
    "import models\n",
    "import learning_utils\n",
    "from configurations import args_parser, arguments\n",
    "\n"
   ]
  },
  {
   "cell_type": "code",
   "execution_count": 3,
   "metadata": {},
   "outputs": [
    {
     "name": "stdout",
     "output_type": "stream",
     "text": [
      "{'exp_name': None, 'eval': False, 'data': 'mnist', 'norm_std': 0.5, 'norm_mean': 0.5, 'train_batch_size': 20, 'test_batch_size': 1000, 'model': 'cnn2', 'num_users': 30, 'num_users_per_round': 5, 'local_epochs': 1, 'local_iterations': 100, 'global_epochs': 200, 'tau_min': 0.05, 'privacy_noise': 'laplace', 'epsilon_bar': 400, 'optimizer': 'sgd', 'lr': 0.01, 'momentum': 0.5, 'lr_scheduler': False, 'device': 'cpu', 'seed': 0, 'zeta_coeff': 1.05, 'alpha': 1, 'beta': 2, 'gamma': 0.1, 'max_seconds': 300, 'method_choosing_users': 'BSFL brute', 'data_truncation': 1000, 'choosing_users_verbose': True, 'save_best_model': False, 'privacy': False, 'privacy_choosing_users': True, 'epsilon_sum_deascent_coeff': 0.01}\n"
     ]
    }
   ],
   "source": [
    "start_time = time.time()\n",
    "args = arguments()\n",
    "#boardio is for the the tensorboardx prensation and textio is for written documentation\n",
    "boardio, textio, best_val_acc, path_best_model, last_model_path = utils.initializations(args)\n",
    "textio.cprint(str(args) if args.__class__.__name__ == 'Namespace' else str(vars(args)))\n",
    "\n",
    "#mnist_train_data, mnist_test_loader  = utils.data(args)\n",
    "\n",
    "\n",
    "\n"
   ]
  },
  {
   "cell_type": "code",
   "execution_count": 4,
   "metadata": {},
   "outputs": [
    {
     "name": "stdout",
     "output_type": "stream",
     "text": [
      "=================================================================\n",
      "Layer (type:depth-idx)                   Param #\n",
      "=================================================================\n",
      "CNN2Layer                                --\n",
      "├─Conv2d: 1-1                            156\n",
      "├─Conv2d: 1-2                            906\n",
      "├─Linear: 1-3                            4,850\n",
      "├─Linear: 1-4                            510\n",
      "├─Dropout: 1-5                           --\n",
      "├─Dropout: 1-6                           --\n",
      "├─BatchNorm2d: 1-7                       12\n",
      "├─BatchNorm1d: 1-8                       100\n",
      "=================================================================\n",
      "Total params: 6,534\n",
      "Trainable params: 6,534\n",
      "Non-trainable params: 0\n",
      "=================================================================\n"
     ]
    }
   ],
   "source": [
    "# data\n",
    "train_data, test_loader = utils.data(args)\n",
    "#input in the CNNs is the number of channels and in linear models is the size of the flatten pictures\n",
    "input, output, train_data, val_loader = utils.data_split(train_data, len(test_loader.dataset), args)\n",
    "\n",
    "# model\n",
    "if args.model == 'mlp':\n",
    "    global_model = models.FC2Layer(input, output)\n",
    "elif args.model == 'cnn2':\n",
    "    global_model = models.CNN2Layer(input, output, args.data)\n",
    "elif args.model == 'cnn3':\n",
    "    if args.data == 'cifar10':\n",
    "        global_model = models.CNN3LayerCifar()\n",
    "    else:\n",
    "        global_model = models.CNN3LayerMnist()\n",
    "elif args.model == 'cnn5':\n",
    "    if args.data == 'mnist' or args.data == 'fashion mnist':\n",
    "        raise ValueError('CNN5 is not supported for MNIST type datasets')\n",
    "    global_model = models.CNN5Layer(input, output)\n",
    "elif args.model == 'linear':\n",
    "    global_model = models.Linear(input, output)\n",
    "\n",
    "\n",
    "\n",
    "textio.cprint(str(summary(global_model)).encode('utf-8', errors='ignore').decode('utf-8', errors='ignore'))\n",
    "global_model.to(args.device)\n",
    "\n",
    "train_criterion = torch.nn.CrossEntropyLoss(reduction='mean')\n",
    "test_criterion = torch.nn.CrossEntropyLoss(reduction='sum')\n",
    "\n",
    "local_models = utils.federated_setup(global_model, train_data, args, i_i_d=True)\n",
    "utils.update_data_equility_partititon(local_models, args)\n",
    "\n"
   ]
  },
  {
   "cell_type": "code",
   "execution_count": 5,
   "metadata": {},
   "outputs": [
    {
     "name": "stderr",
     "output_type": "stream",
     "text": [
      "  0%|          | 0/200 [00:00<?, ?it/s]"
     ]
    },
    {
     "name": "stdout",
     "output_type": "stream",
     "text": [
      "iteration1\n"
     ]
    },
    {
     "name": "stderr",
     "output_type": "stream",
     "text": [
      "  0%|          | 1/200 [00:00<01:33,  2.13it/s]"
     ]
    },
    {
     "name": "stdout",
     "output_type": "stream",
     "text": [
      "user 5, g: 0.027777777777777776, ucb: inf, num_of_obs: 1, curr_delay = 0.100240881835021, privacy reward: 0.9900498337491681\n",
      "user 9, g: 0.027777777777777776, ucb: inf, num_of_obs: 1, curr_delay = 0.13641105284531385, privacy reward: 0.9900498337491681\n",
      "user 10, g: 0.027777777777777776, ucb: inf, num_of_obs: 1, curr_delay = 0.14561784036417957, privacy reward: 0.9900498337491681\n",
      "user 14, g: 0.027777777777777776, ucb: inf, num_of_obs: 1, curr_delay = 0.19649721564120354, privacy reward: 0.9900498337491681\n",
      "user 29, g: 0.027777777777777776, ucb: inf, num_of_obs: 1, curr_delay = 0.8842598609443887, privacy reward: 0.9900498337491681\n",
      "max_delay = 0.88 seconds\n",
      "iteration2\n"
     ]
    },
    {
     "name": "stderr",
     "output_type": "stream",
     "text": [
      "  1%|          | 2/200 [00:00<01:27,  2.26it/s]"
     ]
    },
    {
     "name": "stdout",
     "output_type": "stream",
     "text": [
      "user 1, g: 0.027777777777777776, ucb: inf, num_of_obs: 1, curr_delay = 0.0681234843428367, privacy reward: 0.9900498337491681\n",
      "user 12, g: 0.027777777777777776, ucb: inf, num_of_obs: 1, curr_delay = 0.17503269555333004, privacy reward: 0.9900498337491681\n",
      "user 13, g: 0.027777777777777776, ucb: inf, num_of_obs: 1, curr_delay = 0.20067956847244758, privacy reward: 0.9900498337491681\n",
      "user 22, g: 0.027777777777777776, ucb: inf, num_of_obs: 1, curr_delay = 0.8311805899976838, privacy reward: 0.9900498337491681\n",
      "user 26, g: 0.027777777777777776, ucb: inf, num_of_obs: 1, curr_delay = 0.8795438137520223, privacy reward: 0.9900498337491681\n",
      "max_delay = 0.88 seconds\n",
      "iteration3\n"
     ]
    },
    {
     "name": "stderr",
     "output_type": "stream",
     "text": [
      "  2%|▏         | 3/200 [00:01<01:34,  2.08it/s]"
     ]
    },
    {
     "name": "stdout",
     "output_type": "stream",
     "text": [
      "user 8, g: 0.027777777777777776, ucb: inf, num_of_obs: 1, curr_delay = 0.1263610849185779, privacy reward: 0.9900498337491681\n",
      "user 11, g: 0.027777777777777776, ucb: inf, num_of_obs: 1, curr_delay = 0.19189416112699112, privacy reward: 0.9900498337491681\n",
      "user 20, g: 0.027777777777777776, ucb: inf, num_of_obs: 1, curr_delay = 0.7765788198374641, privacy reward: 0.9900498337491681\n",
      "user 24, g: 0.027777777777777776, ucb: inf, num_of_obs: 1, curr_delay = 0.8652962902239829, privacy reward: 0.9900498337491681\n",
      "user 25, g: 0.027777777777777776, ucb: inf, num_of_obs: 1, curr_delay = 0.8363620482279428, privacy reward: 0.9900498337491681\n",
      "max_delay = 0.87 seconds\n",
      "iteration4\n"
     ]
    },
    {
     "name": "stderr",
     "output_type": "stream",
     "text": [
      "  2%|▏         | 4/200 [00:01<01:35,  2.06it/s]"
     ]
    },
    {
     "name": "stdout",
     "output_type": "stream",
     "text": [
      "user 4, g: 0.027777777777777776, ucb: inf, num_of_obs: 1, curr_delay = 0.1066111916712441, privacy reward: 0.9900498337491681\n",
      "user 6, g: 0.027777777777777776, ucb: inf, num_of_obs: 1, curr_delay = 0.11485552607760433, privacy reward: 0.9900498337491681\n",
      "user 17, g: 0.027777777777777776, ucb: inf, num_of_obs: 1, curr_delay = 0.7309045421817976, privacy reward: 0.9900498337491681\n",
      "user 19, g: 0.027777777777777776, ucb: inf, num_of_obs: 1, curr_delay = 0.7469784375198131, privacy reward: 0.9900498337491681\n",
      "user 21, g: 0.027777777777777776, ucb: inf, num_of_obs: 1, curr_delay = 0.7941445234312965, privacy reward: 0.9900498337491681\n",
      "max_delay = 0.79 seconds\n",
      "iteration5\n"
     ]
    },
    {
     "name": "stderr",
     "output_type": "stream",
     "text": [
      "  2%|▎         | 5/200 [00:02<01:33,  2.08it/s]"
     ]
    },
    {
     "name": "stdout",
     "output_type": "stream",
     "text": [
      "user 2, g: 0.027777777777777776, ucb: inf, num_of_obs: 1, curr_delay = 0.1023708636938294, privacy reward: 0.9900498337491681\n",
      "user 3, g: 0.027777777777777776, ucb: inf, num_of_obs: 1, curr_delay = 0.09799787860053966, privacy reward: 0.9900498337491681\n",
      "user 18, g: 0.027777777777777776, ucb: inf, num_of_obs: 1, curr_delay = 0.7579906587253812, privacy reward: 0.9900498337491681\n",
      "user 27, g: 0.027777777777777776, ucb: inf, num_of_obs: 1, curr_delay = 0.8838928733472815, privacy reward: 0.9900498337491681\n",
      "user 28, g: 0.027777777777777776, ucb: inf, num_of_obs: 1, curr_delay = 0.8746910867296526, privacy reward: 0.9900498337491681\n",
      "max_delay = 0.88 seconds\n",
      "iteration6\n"
     ]
    },
    {
     "name": "stderr",
     "output_type": "stream",
     "text": [
      "  3%|▎         | 6/200 [00:02<01:33,  2.07it/s]"
     ]
    },
    {
     "name": "stdout",
     "output_type": "stream",
     "text": [
      "user 0, g: 0.027777777777777776, ucb: inf, num_of_obs: 1, curr_delay = 0.05, privacy reward: 0.9900498337491681\n",
      "user 7, g: 0.027777777777777776, ucb: inf, num_of_obs: 1, curr_delay = 0.1325320586147438, privacy reward: 0.9900498337491681\n",
      "user 15, g: 0.027777777777777776, ucb: inf, num_of_obs: 1, curr_delay = 0.7374636417184545, privacy reward: 0.9900498337491681\n",
      "user 16, g: 0.027777777777777776, ucb: inf, num_of_obs: 1, curr_delay = 0.7339719489566243, privacy reward: 0.9900498337491681\n",
      "user 23, g: 0.027777777777777776, ucb: inf, num_of_obs: 1, curr_delay = 0.8033737438041609, privacy reward: 0.9900498337491681\n",
      "max_delay = 0.80 seconds\n",
      "iteration7\n"
     ]
    },
    {
     "name": "stderr",
     "output_type": "stream",
     "text": [
      "  4%|▎         | 7/200 [00:03<01:33,  2.07it/s]"
     ]
    },
    {
     "name": "stdout",
     "output_type": "stream",
     "text": [
      "user 0, g: 0.0005668934240362811, ucb: 8.640504202711977, num_of_obs: 2, curr_delay = 0.05194123922184571, privacy reward: 0.9801986733067554\n",
      "user 1, g: 0.0005668934240362811, ucb: 8.374465486142096, num_of_obs: 2, curr_delay = 0.05, privacy reward: 0.9801986733067554\n",
      "user 2, g: 0.0005668934240362811, ucb: 8.128924424988698, num_of_obs: 2, curr_delay = 0.08776605931878231, privacy reward: 0.9801986733067554\n",
      "user 3, g: 0.0005668934240362811, ucb: 8.150719328937422, num_of_obs: 2, curr_delay = 0.07260389249043528, privacy reward: 0.9801986733067554\n",
      "user 5, g: 0.0005668934240362811, ucb: 8.139302687768117, num_of_obs: 2, curr_delay = 0.08453834895755463, privacy reward: 0.9801986733067554\n",
      "max_delay = 0.09 seconds\n",
      "iteration8\n"
     ]
    },
    {
     "name": "stderr",
     "output_type": "stream",
     "text": [
      "  4%|▍         | 8/200 [00:03<01:33,  2.04it/s]"
     ]
    },
    {
     "name": "stdout",
     "output_type": "stream",
     "text": [
      "user 4, g: 0.0017361111111111104, ucb: 8.367300456657498, num_of_obs: 2, curr_delay = 0.11191736569648968, privacy reward: 0.9801986733067554\n",
      "user 6, g: 0.0017361111111111104, ucb: 8.33363605417626, num_of_obs: 2, curr_delay = 0.11743994638745538, privacy reward: 0.9801986733067554\n",
      "user 7, g: 0.0017361111111111104, ucb: 8.275573753284414, num_of_obs: 2, curr_delay = 0.10636068022126977, privacy reward: 0.9801986733067554\n",
      "user 8, g: 0.0017361111111111104, ucb: 8.293997985961283, num_of_obs: 2, curr_delay = 0.1325689076350012, privacy reward: 0.9801986733067554\n",
      "user 9, g: 0.0017361111111111104, ucb: 8.264845756536594, num_of_obs: 2, curr_delay = 0.11821645544860417, privacy reward: 0.9801986733067554\n",
      "max_delay = 0.13 seconds\n",
      "iteration9\n"
     ]
    },
    {
     "name": "stderr",
     "output_type": "stream",
     "text": [
      "  4%|▍         | 9/200 [00:04<01:31,  2.08it/s]"
     ]
    },
    {
     "name": "stdout",
     "output_type": "stream",
     "text": [
      "user 10, g: 0.0030864197530864196, ucb: 8.462276844670631, num_of_obs: 2, curr_delay = 0.14986905904013614, privacy reward: 0.9801986733067554\n",
      "user 11, g: 0.0030864197530864196, ucb: 8.379472622711852, num_of_obs: 2, curr_delay = 0.15773164444401694, privacy reward: 0.9801986733067554\n",
      "user 12, g: 0.0030864197530864196, ucb: 8.404573238900143, num_of_obs: 2, curr_delay = 0.1870830290983779, privacy reward: 0.9801986733067554\n",
      "user 13, g: 0.0030864197530864196, ucb: 8.368065739678308, num_of_obs: 2, curr_delay = 0.18915501149958475, privacy reward: 0.9801986733067554\n",
      "user 14, g: 0.0030864197530864196, ucb: 8.373368855507659, num_of_obs: 2, curr_delay = 0.1773978697214661, privacy reward: 0.9801986733067554\n",
      "max_delay = 0.19 seconds\n",
      "iteration10\n"
     ]
    },
    {
     "name": "stderr",
     "output_type": "stream",
     "text": [
      "  5%|▌         | 10/200 [00:04<01:30,  2.10it/s]"
     ]
    },
    {
     "name": "stdout",
     "output_type": "stream",
     "text": [
      "user 15, g: 0.004444444444444443, ucb: 8.379090634009643, num_of_obs: 2, curr_delay = 0.729421074454796, privacy reward: 0.9801986733067554\n",
      "user 16, g: 0.004444444444444443, ucb: 8.379413175769319, num_of_obs: 2, curr_delay = 0.7402693978604653, privacy reward: 0.9801986733067554\n",
      "user 17, g: 0.004444444444444443, ucb: 8.37969906727615, num_of_obs: 2, curr_delay = 0.7574249656895324, privacy reward: 0.9801986733067554\n",
      "user 18, g: 0.004444444444444443, ucb: 8.377254554942725, num_of_obs: 2, curr_delay = 0.7719408900019992, privacy reward: 0.9801986733067554\n",
      "user 19, g: 0.004444444444444443, ucb: 8.378227017775842, num_of_obs: 2, curr_delay = 0.7495417268286839, privacy reward: 0.9801986733067554\n",
      "max_delay = 0.77 seconds\n",
      "iteration11\n"
     ]
    },
    {
     "name": "stderr",
     "output_type": "stream",
     "text": [
      "  6%|▌         | 11/200 [00:05<01:33,  2.02it/s]"
     ]
    },
    {
     "name": "stdout",
     "output_type": "stream",
     "text": [
      "user 20, g: 0.005739210284664828, ucb: 8.545944855786763, num_of_obs: 2, curr_delay = 0.7610678886814677, privacy reward: 0.9801986733067554\n",
      "user 21, g: 0.005739210284664828, ucb: 8.54452072305693, num_of_obs: 2, curr_delay = 0.8354349025849156, privacy reward: 0.9801986733067554\n",
      "user 22, g: 0.005739210284664828, ucb: 8.541715289921632, num_of_obs: 2, curr_delay = 0.8009594769077941, privacy reward: 0.9801986733067554\n",
      "user 23, g: 0.005739210284664828, ucb: 8.54379742409582, num_of_obs: 2, curr_delay = 0.8069037193042801, privacy reward: 0.9801986733067554\n",
      "user 25, g: 0.005739210284664828, ucb: 8.541342613175118, num_of_obs: 2, curr_delay = 0.8782129360034373, privacy reward: 0.9801986733067554\n",
      "max_delay = 0.88 seconds\n",
      "iteration12\n"
     ]
    },
    {
     "name": "stderr",
     "output_type": "stream",
     "text": [
      "  6%|▌         | 12/200 [00:05<01:32,  2.03it/s]"
     ]
    },
    {
     "name": "stdout",
     "output_type": "stream",
     "text": [
      "user 24, g: 0.006944444444444444, ucb: 8.691855686592383, num_of_obs: 2, curr_delay = 0.8179504171558105, privacy reward: 0.9801986733067554\n",
      "user 26, g: 0.006944444444444444, ucb: 8.690919662414169, num_of_obs: 2, curr_delay = 0.8618603883833355, privacy reward: 0.9801986733067554\n",
      "user 27, g: 0.006944444444444444, ucb: 8.690639952247162, num_of_obs: 2, curr_delay = 0.9363072855388145, privacy reward: 0.9801986733067554\n",
      "user 28, g: 0.006944444444444444, ucb: 8.691235049340658, num_of_obs: 2, curr_delay = 0.8732432049189158, privacy reward: 0.9801986733067554\n",
      "user 29, g: 0.006944444444444444, ucb: 8.690616475287849, num_of_obs: 2, curr_delay = 0.885216279330566, privacy reward: 0.9801986733067554\n",
      "max_delay = 0.94 seconds\n",
      "iteration13\n"
     ]
    },
    {
     "name": "stderr",
     "output_type": "stream",
     "text": [
      "  6%|▋         | 13/200 [00:06<01:30,  2.07it/s]"
     ]
    },
    {
     "name": "stdout",
     "output_type": "stream",
     "text": [
      "user 0, g: 0.00016436554898093314, ucb: 7.184073826672997, num_of_obs: 3, curr_delay = 0.05, privacy reward: 0.9704455335485084\n",
      "user 1, g: 0.00016436554898093314, ucb: 7.069741346588579, num_of_obs: 3, curr_delay = 0.05307318181107121, privacy reward: 0.9704455335485084\n",
      "user 2, g: 0.00016436554898093314, ucb: 6.731818970230534, num_of_obs: 3, curr_delay = 0.08734406867962188, privacy reward: 0.9704455335485084\n",
      "user 3, g: 0.00016436554898093314, ucb: 6.802202423393866, num_of_obs: 3, curr_delay = 0.05145223332002969, privacy reward: 0.9704455335485084\n",
      "user 5, g: 0.00016436554898093314, ucb: 6.747883726115935, num_of_obs: 3, curr_delay = 0.10649657559955247, privacy reward: 0.9704455335485084\n",
      "max_delay = 0.11 seconds\n",
      "iteration14\n"
     ]
    },
    {
     "name": "stderr",
     "output_type": "stream",
     "text": [
      "  7%|▋         | 14/200 [00:06<01:30,  2.05it/s]"
     ]
    },
    {
     "name": "stdout",
     "output_type": "stream",
     "text": [
      "user 4, g: 0.0005668934240362811, ucb: 6.749605540470067, num_of_obs: 3, curr_delay = 0.10565573342144757, privacy reward: 0.9704455335485084\n",
      "user 6, g: 0.0005668934240362811, ucb: 6.722268999594873, num_of_obs: 3, curr_delay = 0.11698826602850428, privacy reward: 0.9704455335485084\n",
      "user 7, g: 0.0005668934240362811, ucb: 6.715412360286951, num_of_obs: 3, curr_delay = 0.11170529459977004, privacy reward: 0.9704455335485084\n",
      "user 8, g: 0.0005668934240362811, ucb: 6.67815638111429, num_of_obs: 3, curr_delay = 0.1296687796040908, privacy reward: 0.9704455335485084\n",
      "user 9, g: 0.0005668934240362811, ucb: 6.686475575241004, num_of_obs: 3, curr_delay = 0.1176468679308803, privacy reward: 0.9704455335485084\n",
      "max_delay = 0.13 seconds\n",
      "iteration15\n"
     ]
    },
    {
     "name": "stderr",
     "output_type": "stream",
     "text": [
      "  8%|▊         | 15/200 [00:07<01:31,  2.02it/s]"
     ]
    },
    {
     "name": "stdout",
     "output_type": "stream",
     "text": [
      "user 10, g: 0.0011111111111111107, ucb: 6.711935766707291, num_of_obs: 3, curr_delay = 0.18234746479773775, privacy reward: 0.9704455335485084\n",
      "user 11, g: 0.0011111111111111107, ucb: 6.662218419860541, num_of_obs: 3, curr_delay = 0.19299762962876016, privacy reward: 0.9704455335485084\n",
      "user 12, g: 0.0011111111111111107, ucb: 6.649902186927301, num_of_obs: 3, curr_delay = 0.18204520428717763, privacy reward: 0.9704455335485084\n",
      "user 13, g: 0.0011111111111111107, ucb: 6.630184664000274, num_of_obs: 3, curr_delay = 0.1911479662303508, privacy reward: 0.9704455335485084\n",
      "user 14, g: 0.0011111111111111107, ucb: 6.6415956451642675, num_of_obs: 3, curr_delay = 0.20852004002631852, privacy reward: 0.9704455335485084\n",
      "max_delay = 0.21 seconds\n",
      "iteration16\n"
     ]
    },
    {
     "name": "stderr",
     "output_type": "stream",
     "text": [
      "  8%|▊         | 16/200 [00:07<01:33,  1.98it/s]"
     ]
    },
    {
     "name": "stdout",
     "output_type": "stream",
     "text": [
      "user 15, g: 0.0017361111111111104, ucb: 6.517114020075868, num_of_obs: 3, curr_delay = 0.7173405690350831, privacy reward: 0.9704455335485084\n",
      "user 16, g: 0.0017361111111111104, ucb: 6.5167730240896535, num_of_obs: 3, curr_delay = 0.7265999448453084, privacy reward: 0.9704455335485084\n",
      "user 17, g: 0.0017361111111111104, ucb: 6.5161510504114615, num_of_obs: 3, curr_delay = 0.7604496765789519, privacy reward: 0.9704455335485084\n",
      "user 18, g: 0.0017361111111111104, ucb: 6.51430812383427, num_of_obs: 3, curr_delay = 0.7581599593428014, privacy reward: 0.9704455335485084\n",
      "user 19, g: 0.0017361111111111104, ucb: 6.515762169341793, num_of_obs: 3, curr_delay = 0.7861822599646153, privacy reward: 0.9704455335485084\n",
      "max_delay = 0.79 seconds\n",
      "iteration17\n"
     ]
    },
    {
     "name": "stderr",
     "output_type": "stream",
     "text": [
      "  8%|▊         | 17/200 [00:08<01:29,  2.05it/s]"
     ]
    },
    {
     "name": "stdout",
     "output_type": "stream",
     "text": [
      "user 20, g: 0.002402921953094963, ucb: 6.584105425545523, num_of_obs: 3, curr_delay = 0.7908313928159847, privacy reward: 0.9704455335485084\n",
      "user 21, g: 0.002402921953094963, ucb: 6.580469312251251, num_of_obs: 3, curr_delay = 0.8087936242551735, privacy reward: 0.9704455335485084\n",
      "user 22, g: 0.002402921953094963, ucb: 6.5803546271902, num_of_obs: 3, curr_delay = 0.7990574083958131, privacy reward: 0.9704455335485084\n",
      "user 23, g: 0.002402921953094963, ucb: 6.581165759714222, num_of_obs: 3, curr_delay = 0.7682005413147673, privacy reward: 0.9704455335485084\n",
      "user 24, g: 0.002402921953094963, ucb: 6.578520399931672, num_of_obs: 3, curr_delay = 0.8314848838472633, privacy reward: 0.9704455335485084\n",
      "max_delay = 0.83 seconds\n",
      "iteration18\n"
     ]
    },
    {
     "name": "stderr",
     "output_type": "stream",
     "text": [
      "  9%|▉         | 18/200 [00:08<01:31,  1.98it/s]"
     ]
    },
    {
     "name": "stdout",
     "output_type": "stream",
     "text": [
      "user 25, g: 0.0030864197530864196, ucb: 6.642853410397225, num_of_obs: 3, curr_delay = 0.8776685605996714, privacy reward: 0.9704455335485084\n",
      "user 26, g: 0.0030864197530864196, ucb: 6.641925992961357, num_of_obs: 3, curr_delay = 0.8677445076515631, privacy reward: 0.9704455335485084\n",
      "user 27, g: 0.0030864197530864196, ucb: 6.63947975562865, num_of_obs: 3, curr_delay = 0.8659652326073367, privacy reward: 0.9704455335485084\n",
      "user 28, g: 0.0030864197530864196, ucb: 6.6417055769071975, num_of_obs: 3, curr_delay = 0.8981532486316336, privacy reward: 0.9704455335485084\n",
      "user 29, g: 0.0030864197530864196, ucb: 6.641009066936098, num_of_obs: 3, curr_delay = 0.899438300166982, privacy reward: 0.9704455335485084\n",
      "max_delay = 0.90 seconds\n",
      "iteration19\n"
     ]
    },
    {
     "name": "stderr",
     "output_type": "stream",
     "text": [
      " 10%|▉         | 19/200 [00:09<01:32,  1.95it/s]"
     ]
    },
    {
     "name": "stdout",
     "output_type": "stream",
     "text": [
      "user 0, g: 7.694675284702985e-05, ucb: 6.413810577290166, num_of_obs: 4, curr_delay = 0.055130189228625386, privacy reward: 0.9607894391523234\n",
      "user 1, g: 7.694675284702985e-05, ucb: 6.318287387756172, num_of_obs: 4, curr_delay = 0.05, privacy reward: 0.9607894391523234\n",
      "user 2, g: 7.694675284702985e-05, ucb: 5.969790245125458, num_of_obs: 4, curr_delay = 0.1181457986373482, privacy reward: 0.9607894391523234\n",
      "user 3, g: 7.694675284702985e-05, ucb: 6.149821347084442, num_of_obs: 4, curr_delay = 0.07242995538469127, privacy reward: 0.9607894391523234\n",
      "user 5, g: 7.694675284702985e-05, ucb: 5.946183398363035, num_of_obs: 4, curr_delay = 0.10980893516625131, privacy reward: 0.9607894391523234\n",
      "max_delay = 0.12 seconds\n",
      "iteration20\n"
     ]
    },
    {
     "name": "stderr",
     "output_type": "stream",
     "text": [
      " 10%|█         | 20/200 [00:09<01:30,  1.99it/s]"
     ]
    },
    {
     "name": "stdout",
     "output_type": "stream",
     "text": [
      "user 4, g: 0.00027777777777777767, ucb: 5.936324035449502, num_of_obs: 4, curr_delay = 0.08502464892631752, privacy reward: 0.9607894391523234\n",
      "user 6, g: 0.00027777777777777767, ucb: 5.902819076748293, num_of_obs: 4, curr_delay = 0.13361808916094098, privacy reward: 0.9607894391523234\n",
      "user 7, g: 0.00027777777777777767, ucb: 5.904985672697297, num_of_obs: 4, curr_delay = 0.123458402459722, privacy reward: 0.9607894391523234\n",
      "user 8, g: 0.00027777777777777767, ucb: 5.859478844081902, num_of_obs: 4, curr_delay = 0.1692660258659151, privacy reward: 0.9607894391523234\n",
      "user 9, g: 0.00027777777777777767, ucb: 5.878159260120939, num_of_obs: 4, curr_delay = 0.14443427681933024, privacy reward: 0.9607894391523234\n",
      "max_delay = 0.17 seconds\n",
      "iteration21\n"
     ]
    },
    {
     "name": "stderr",
     "output_type": "stream",
     "text": [
      " 10%|█         | 21/200 [00:10<01:30,  1.99it/s]"
     ]
    },
    {
     "name": "stdout",
     "output_type": "stream",
     "text": [
      "user 10, g: 0.0005668934240362811, ucb: 5.83478275201826, num_of_obs: 4, curr_delay = 0.14054815165278928, privacy reward: 0.9607894391523234\n",
      "user 11, g: 0.0005668934240362811, ucb: 5.7965941061858, num_of_obs: 4, curr_delay = 0.1994101345878932, privacy reward: 0.9607894391523234\n",
      "user 12, g: 0.0005668934240362811, ucb: 5.793578790023273, num_of_obs: 4, curr_delay = 0.18445799408585628, privacy reward: 0.9607894391523234\n",
      "user 13, g: 0.0005668934240362811, ucb: 5.776073910052494, num_of_obs: 4, curr_delay = 0.16429183230687763, privacy reward: 0.9607894391523234\n",
      "user 14, g: 0.0005668934240362811, ucb: 5.77641711209887, num_of_obs: 4, curr_delay = 0.19312558880238836, privacy reward: 0.9607894391523234\n",
      "max_delay = 0.20 seconds\n",
      "iteration22\n"
     ]
    },
    {
     "name": "stderr",
     "output_type": "stream",
     "text": [
      " 11%|█         | 22/200 [00:10<01:28,  2.00it/s]"
     ]
    },
    {
     "name": "stdout",
     "output_type": "stream",
     "text": [
      "user 0, g: -0.00022956841138659364, ucb: 5.7822465199891155, num_of_obs: 5, curr_delay = 0.07547925734718056, privacy reward: 0.9512294245007142\n",
      "user 1, g: -0.00022956841138659364, ucb: 5.7338681021710425, num_of_obs: 5, curr_delay = 0.06426612198260398, privacy reward: 0.9512294245007142\n",
      "user 15, g: 0.0009182736455463729, ucb: 5.628397550478006, num_of_obs: 4, curr_delay = 0.7161306500663723, privacy reward: 0.9607894391523234\n",
      "user 16, g: 0.0009182736455463729, ucb: 5.627874139387498, num_of_obs: 4, curr_delay = 0.7340539098621937, privacy reward: 0.9607894391523234\n",
      "user 17, g: 0.0009182736455463729, ucb: 5.626438461119922, num_of_obs: 4, curr_delay = 0.716356746522558, privacy reward: 0.9607894391523234\n",
      "max_delay = 0.73 seconds\n",
      "iteration23\n"
     ]
    },
    {
     "name": "stderr",
     "output_type": "stream",
     "text": [
      " 12%|█▏        | 23/200 [00:11<01:25,  2.06it/s]"
     ]
    },
    {
     "name": "stdout",
     "output_type": "stream",
     "text": [
      "user 18, g: 0.0013127494223902538, ucb: 5.665109994183053, num_of_obs: 4, curr_delay = 0.7350331487245817, privacy reward: 0.9607894391523234\n",
      "user 19, g: 0.0013127494223902538, ucb: 5.665295804718399, num_of_obs: 4, curr_delay = 0.7421717561064806, privacy reward: 0.9607894391523234\n",
      "user 20, g: 0.0013127494223902538, ucb: 5.6639839649551424, num_of_obs: 4, curr_delay = 0.7710726146824559, privacy reward: 0.9607894391523234\n",
      "user 22, g: 0.0013127494223902538, ucb: 5.661266474355823, num_of_obs: 4, curr_delay = 0.7817485582913549, privacy reward: 0.9607894391523234\n",
      "user 23, g: 0.0013127494223902538, ucb: 5.662645044095091, num_of_obs: 4, curr_delay = 0.8190556048687185, privacy reward: 0.9607894391523234\n",
      "max_delay = 0.82 seconds\n",
      "iteration24\n"
     ]
    },
    {
     "name": "stderr",
     "output_type": "stream",
     "text": [
      " 12%|█▏        | 24/200 [00:11<01:25,  2.06it/s]"
     ]
    },
    {
     "name": "stdout",
     "output_type": "stream",
     "text": [
      "user 21, g: 0.0017361111111111104, ucb: 5.698966475502133, num_of_obs: 4, curr_delay = 0.8114779124790896, privacy reward: 0.9607894391523234\n",
      "user 24, g: 0.0017361111111111104, ucb: 5.697104839516216, num_of_obs: 4, curr_delay = 0.8298505626086761, privacy reward: 0.9607894391523234\n",
      "user 25, g: 0.0017361111111111104, ucb: 5.695318231833328, num_of_obs: 4, curr_delay = 0.8380285320743024, privacy reward: 0.9607894391523234\n",
      "user 26, g: 0.0017361111111111104, ucb: 5.694917131331663, num_of_obs: 4, curr_delay = 0.8716683401152783, privacy reward: 0.9607894391523234\n",
      "user 28, g: 0.0017361111111111104, ucb: 5.694119900597549, num_of_obs: 4, curr_delay = 0.8768871120555923, privacy reward: 0.9607894391523234\n",
      "max_delay = 0.88 seconds\n",
      "iteration25\n"
     ]
    },
    {
     "name": "stderr",
     "output_type": "stream",
     "text": [
      " 12%|█▎        | 25/200 [00:12<01:22,  2.11it/s]"
     ]
    },
    {
     "name": "stdout",
     "output_type": "stream",
     "text": [
      "user 2, g: 4.444444444444428e-05, ucb: 5.4268498232835665, num_of_obs: 5, curr_delay = 0.08133709474411473, privacy reward: 0.9512294245007142\n",
      "user 3, g: 4.444444444444428e-05, ucb: 5.628652201511638, num_of_obs: 5, curr_delay = 0.08587409862921212, privacy reward: 0.9512294245007142\n",
      "user 5, g: 4.444444444444428e-05, ucb: 5.41717729928892, num_of_obs: 5, curr_delay = 0.11453564047488801, privacy reward: 0.9512294245007142\n",
      "user 27, g: 0.002177777777777777, ucb: 5.729416498554045, num_of_obs: 4, curr_delay = 0.8839256326524052, privacy reward: 0.9607894391523234\n",
      "user 29, g: 0.002177777777777777, ucb: 5.729719776568497, num_of_obs: 4, curr_delay = 0.8835453386312168, privacy reward: 0.9607894391523234\n",
      "max_delay = 0.88 seconds\n",
      "iteration26\n"
     ]
    },
    {
     "name": "stderr",
     "output_type": "stream",
     "text": [
      " 13%|█▎        | 26/200 [00:12<01:26,  2.01it/s]"
     ]
    },
    {
     "name": "stdout",
     "output_type": "stream",
     "text": [
      "user 0, g: -0.0006574621959237354, ucb: 5.327778325483221, num_of_obs: 6, curr_delay = 0.05325478609168033, privacy reward: 0.941764533584249\n",
      "user 4, g: 0.00016436554898093314, ucb: 5.43751333969712, num_of_obs: 5, curr_delay = 0.11669449897732016, privacy reward: 0.9512294245007142\n",
      "user 6, g: 0.00016436554898093314, ucb: 5.358918637728831, num_of_obs: 5, curr_delay = 0.1075408892383647, privacy reward: 0.9512294245007142\n",
      "user 7, g: 0.00016436554898093314, ucb: 5.368242054641801, num_of_obs: 5, curr_delay = 0.10892356612745292, privacy reward: 0.9512294245007142\n",
      "user 9, g: 0.00016436554898093314, ucb: 5.333418121027376, num_of_obs: 5, curr_delay = 0.1679363359087242, privacy reward: 0.9512294245007142\n",
      "max_delay = 0.17 seconds\n",
      "iteration27\n"
     ]
    },
    {
     "name": "stderr",
     "output_type": "stream",
     "text": [
      " 14%|█▎        | 27/200 [00:13<01:26,  2.01it/s]"
     ]
    },
    {
     "name": "stdout",
     "output_type": "stream",
     "text": [
      "user 1, g: -0.0003429355281207133, ucb: 5.337725735646469, num_of_obs: 6, curr_delay = 0.07947962537400156, privacy reward: 0.941764533584249\n",
      "user 8, g: 0.0003429355281207133, ucb: 5.335259270311373, num_of_obs: 5, curr_delay = 0.16461604931442836, privacy reward: 0.9512294245007142\n",
      "user 10, g: 0.0003429355281207133, ucb: 5.29853332396073, num_of_obs: 5, curr_delay = 0.15277477918555304, privacy reward: 0.9512294245007142\n",
      "user 11, g: 0.0003429355281207133, ucb: 5.243639226599635, num_of_obs: 5, curr_delay = 0.18317785982550927, privacy reward: 0.9512294245007142\n",
      "user 12, g: 0.0003429355281207133, ucb: 5.24645896737983, num_of_obs: 5, curr_delay = 0.19510396948227096, privacy reward: 0.9512294245007142\n",
      "max_delay = 0.20 seconds\n",
      "iteration28\n"
     ]
    },
    {
     "name": "stderr",
     "output_type": "stream",
     "text": [
      " 14%|█▍        | 28/200 [00:13<01:25,  2.02it/s]"
     ]
    },
    {
     "name": "stdout",
     "output_type": "stream",
     "text": [
      "user 3, g: -0.0001417233560090706, ucb: 5.160024335253469, num_of_obs: 6, curr_delay = 0.07363301401826479, privacy reward: 0.941764533584249\n",
      "user 13, g: 0.0005668934240362811, ucb: 5.269003520503667, num_of_obs: 5, curr_delay = 0.18887076477631853, privacy reward: 0.9512294245007142\n",
      "user 14, g: 0.0005668934240362811, ucb: 5.257901520659409, num_of_obs: 5, curr_delay = 0.1886659779931702, privacy reward: 0.9512294245007142\n",
      "user 15, g: 0.0005668934240362811, ucb: 5.0681205674694905, num_of_obs: 5, curr_delay = 0.6910744649274158, privacy reward: 0.9512294245007142\n",
      "user 16, g: 0.0005668934240362811, ucb: 5.06730181567805, num_of_obs: 5, curr_delay = 0.7767994633282396, privacy reward: 0.9512294245007142\n",
      "max_delay = 0.78 seconds\n",
      "iteration29\n"
     ]
    },
    {
     "name": "stderr",
     "output_type": "stream",
     "text": [
      " 14%|█▍        | 29/200 [00:14<01:23,  2.05it/s]"
     ]
    },
    {
     "name": "stdout",
     "output_type": "stream",
     "text": [
      "user 17, g: 0.0008257365570088515, ucb: 5.092899749691231, num_of_obs: 5, curr_delay = 0.7390632002064028, privacy reward: 0.9512294245007142\n",
      "user 18, g: 0.0008257365570088515, ucb: 5.091584559031255, num_of_obs: 5, curr_delay = 0.7276832937710235, privacy reward: 0.9512294245007142\n",
      "user 19, g: 0.0008257365570088515, ucb: 5.091560343728451, num_of_obs: 5, curr_delay = 0.7384875686903796, privacy reward: 0.9512294245007142\n",
      "user 20, g: 0.0008257365570088515, ucb: 5.089945185322575, num_of_obs: 5, curr_delay = 0.7677896388595328, privacy reward: 0.9512294245007142\n",
      "user 23, g: 0.0008257365570088515, ucb: 5.087991289827167, num_of_obs: 5, curr_delay = 0.8349515521263647, privacy reward: 0.9512294245007142\n",
      "max_delay = 0.83 seconds\n",
      "iteration30\n"
     ]
    },
    {
     "name": "stderr",
     "output_type": "stream",
     "text": [
      " 15%|█▌        | 30/200 [00:14<01:21,  2.08it/s]"
     ]
    },
    {
     "name": "stdout",
     "output_type": "stream",
     "text": [
      "user 21, g: 0.0011111111111111107, ucb: 5.112203164011025, num_of_obs: 5, curr_delay = 0.7787805787339577, privacy reward: 0.9512294245007142\n",
      "user 22, g: 0.0011111111111111107, ucb: 5.112919939443913, num_of_obs: 5, curr_delay = 0.8040637051553287, privacy reward: 0.9512294245007142\n",
      "user 24, g: 0.0011111111111111107, ucb: 5.110465897098438, num_of_obs: 5, curr_delay = 0.8119444564050966, privacy reward: 0.9512294245007142\n",
      "user 25, g: 0.0011111111111111107, ucb: 5.108978948286789, num_of_obs: 5, curr_delay = 0.8569238851953159, privacy reward: 0.9512294245007142\n",
      "user 26, g: 0.0011111111111111107, ucb: 5.108102479623392, num_of_obs: 5, curr_delay = 0.862124521565764, privacy reward: 0.9512294245007142\n",
      "max_delay = 0.86 seconds\n",
      "iteration31\n"
     ]
    },
    {
     "name": "stderr",
     "output_type": "stream",
     "text": [
      " 16%|█▌        | 31/200 [00:15<01:20,  2.10it/s]"
     ]
    },
    {
     "name": "stdout",
     "output_type": "stream",
     "text": [
      "user 0, g: -0.0007226268932824606, ucb: 5.05547660888032, num_of_obs: 7, curr_delay = 0.05, privacy reward: 0.9323938199059486\n",
      "user 2, g: 2.8905075731298364e-05, ucb: 5.0728538265579255, num_of_obs: 6, curr_delay = 0.08432703301353169, privacy reward: 0.941764533584249\n",
      "user 27, g: 0.001416348710833622, ucb: 5.1309974924111845, num_of_obs: 5, curr_delay = 0.8509756166400856, privacy reward: 0.9512294245007142\n",
      "user 28, g: 0.001416348710833622, ucb: 5.1317065995763205, num_of_obs: 5, curr_delay = 0.8758618877064005, privacy reward: 0.9512294245007142\n",
      "user 29, g: 0.001416348710833622, ucb: 5.131231037664711, num_of_obs: 5, curr_delay = 0.886713856872075, privacy reward: 0.9512294245007142\n",
      "max_delay = 0.89 seconds\n",
      "iteration32\n"
     ]
    },
    {
     "name": "stderr",
     "output_type": "stream",
     "text": [
      " 16%|█▌        | 32/200 [00:15<01:18,  2.13it/s]"
     ]
    },
    {
     "name": "stdout",
     "output_type": "stream",
     "text": [
      "user 1, g: -0.0004340277777777782, ucb: 5.009966991110992, num_of_obs: 7, curr_delay = 0.06717633607901642, privacy reward: 0.9323938199059486\n",
      "user 4, g: 0.00010850694444444425, ucb: 5.041193641978644, num_of_obs: 6, curr_delay = 0.11622234490825188, privacy reward: 0.941764533584249\n",
      "user 5, g: 0.00010850694444444425, ucb: 5.0504146885067875, num_of_obs: 6, curr_delay = 0.10782063927001267, privacy reward: 0.941764533584249\n",
      "user 6, g: 0.00010850694444444425, ucb: 4.985611924516709, num_of_obs: 6, curr_delay = 0.09847885296412692, privacy reward: 0.941764533584249\n",
      "user 7, g: 0.00010850694444444425, ucb: 4.9918902688423765, num_of_obs: 6, curr_delay = 0.12398741544002882, privacy reward: 0.941764533584249\n",
      "max_delay = 0.12 seconds\n",
      "iteration33\n"
     ]
    },
    {
     "name": "stderr",
     "output_type": "stream",
     "text": [
      " 16%|█▋        | 33/200 [00:16<01:19,  2.10it/s]"
     ]
    },
    {
     "name": "stdout",
     "output_type": "stream",
     "text": [
      "user 3, g: -0.00022956841138659364, ucb: 4.868257754575118, num_of_obs: 7, curr_delay = 0.10233968250905946, privacy reward: 0.9323938199059486\n",
      "user 8, g: 0.0002295684113865928, ucb: 4.931805129228262, num_of_obs: 6, curr_delay = 0.15649154263091486, privacy reward: 0.941764533584249\n",
      "user 9, g: 0.0002295684113865928, ucb: 4.951969377232162, num_of_obs: 6, curr_delay = 0.16335600886883198, privacy reward: 0.941764533584249\n",
      "user 10, g: 0.0002295684113865928, ucb: 4.907132784053707, num_of_obs: 6, curr_delay = 0.1852218870908201, privacy reward: 0.941764533584249\n",
      "user 11, g: 0.0002295684113865928, ucb: 4.852353426385842, num_of_obs: 6, curr_delay = 0.16161937187849407, privacy reward: 0.941764533584249\n",
      "max_delay = 0.19 seconds\n",
      "iteration34\n"
     ]
    },
    {
     "name": "stderr",
     "output_type": "stream",
     "text": [
      " 17%|█▋        | 34/200 [00:16<01:21,  2.04it/s]"
     ]
    },
    {
     "name": "stdout",
     "output_type": "stream",
     "text": [
      "user 0, g: -0.0015378700499807767, ucb: 4.811953218786489, num_of_obs: 8, curr_delay = 0.05, privacy reward: 0.9231163463866362\n",
      "user 2, g: -9.611687812379895e-05, ucb: 4.742595091083905, num_of_obs: 7, curr_delay = 0.0934881655165395, privacy reward: 0.9323938199059486\n",
      "user 12, g: 0.0003844675124951936, ucb: 4.870783743266046, num_of_obs: 6, curr_delay = 0.18525801459311056, privacy reward: 0.941764533584249\n",
      "user 13, g: 0.0003844675124951936, ucb: 4.868626762182844, num_of_obs: 6, curr_delay = 0.17173062633033312, privacy reward: 0.941764533584249\n",
      "user 14, g: 0.0003844675124951936, ucb: 4.859802632624609, num_of_obs: 6, curr_delay = 0.18362223849933249, privacy reward: 0.941764533584249\n",
      "max_delay = 0.19 seconds\n",
      "iteration35\n"
     ]
    },
    {
     "name": "stderr",
     "output_type": "stream",
     "text": [
      " 18%|█▊        | 35/200 [00:17<01:20,  2.04it/s]"
     ]
    },
    {
     "name": "stdout",
     "output_type": "stream",
     "text": [
      "user 4, g: -2.267573696145135e-05, ucb: 4.688869022333323, num_of_obs: 7, curr_delay = 0.13471109487456567, privacy reward: 0.9323938199059486\n",
      "user 5, g: -2.267573696145135e-05, ucb: 4.7021404337149235, num_of_obs: 7, curr_delay = 0.12946342787210183, privacy reward: 0.9323938199059486\n",
      "user 15, g: 0.0005668934240362811, ucb: 4.688311406082474, num_of_obs: 6, curr_delay = 0.6928503246719929, privacy reward: 0.941764533584249\n",
      "user 16, g: 0.0005668934240362811, ucb: 4.686059519350734, num_of_obs: 6, curr_delay = 0.7391516237606014, privacy reward: 0.941764533584249\n",
      "user 17, g: 0.0005668934240362811, ucb: 4.686191967084283, num_of_obs: 6, curr_delay = 0.74346555678924, privacy reward: 0.941764533584249\n",
      "max_delay = 0.74 seconds\n",
      "iteration36\n"
     ]
    },
    {
     "name": "stderr",
     "output_type": "stream",
     "text": [
      " 18%|█▊        | 36/200 [00:17<01:20,  2.04it/s]"
     ]
    },
    {
     "name": "stdout",
     "output_type": "stream",
     "text": [
      "user 18, g: 0.000771604938271604, ucb: 4.703613365973283, num_of_obs: 6, curr_delay = 0.7495567574344123, privacy reward: 0.941764533584249\n",
      "user 19, g: 0.000771604938271604, ucb: 4.703392940973994, num_of_obs: 6, curr_delay = 0.7858152857625295, privacy reward: 0.941764533584249\n",
      "user 20, g: 0.000771604938271604, ucb: 4.701584025717103, num_of_obs: 6, curr_delay = 0.7846472895775237, privacy reward: 0.941764533584249\n",
      "user 21, g: 0.000771604938271604, ucb: 4.69901918714804, num_of_obs: 6, curr_delay = 0.7666271093535411, privacy reward: 0.941764533584249\n",
      "user 22, g: 0.000771604938271604, ucb: 4.699188845715695, num_of_obs: 6, curr_delay = 0.819471997746776, privacy reward: 0.941764533584249\n",
      "max_delay = 0.82 seconds\n",
      "iteration37\n"
     ]
    },
    {
     "name": "stderr",
     "output_type": "stream",
     "text": [
      " 18%|█▊        | 37/200 [00:18<01:18,  2.07it/s]"
     ]
    },
    {
     "name": "stdout",
     "output_type": "stream",
     "text": [
      "user 1, g: -0.0005072640207775352, ucb: 4.766369915305527, num_of_obs: 8, curr_delay = 0.07978471222879277, privacy reward: 0.9231163463866362\n",
      "user 23, g: 0.000994237480723966, ucb: 4.716666081756042, num_of_obs: 6, curr_delay = 0.8308157861359148, privacy reward: 0.941764533584249\n",
      "user 24, g: 0.000994237480723966, ucb: 4.714797730170834, num_of_obs: 6, curr_delay = 0.8500614521073812, privacy reward: 0.941764533584249\n",
      "user 25, g: 0.000994237480723966, ucb: 4.712961705600782, num_of_obs: 6, curr_delay = 0.8408323588344614, privacy reward: 0.941764533584249\n",
      "user 26, g: 0.000994237480723966, ucb: 4.7121901352762725, num_of_obs: 6, curr_delay = 0.8553616703793925, privacy reward: 0.941764533584249\n",
      "max_delay = 0.86 seconds\n",
      "iteration38\n"
     ]
    },
    {
     "name": "stderr",
     "output_type": "stream",
     "text": [
      " 19%|█▉        | 38/200 [00:18<01:18,  2.07it/s]"
     ]
    },
    {
     "name": "stdout",
     "output_type": "stream",
     "text": [
      "user 6, g: 7.694675284702985e-05, ucb: 4.7039536672255995, num_of_obs: 7, curr_delay = 0.1260619104539841, privacy reward: 0.9323938199059486\n",
      "user 7, g: 7.694675284702985e-05, ucb: 4.691776206943853, num_of_obs: 7, curr_delay = 0.11309775918648006, privacy reward: 0.9323938199059486\n",
      "user 27, g: 0.0012311480455524776, ucb: 4.728384816113946, num_of_obs: 6, curr_delay = 0.8793881589073685, privacy reward: 0.941764533584249\n",
      "user 28, g: 0.0012311480455524776, ucb: 4.728618209024498, num_of_obs: 6, curr_delay = 0.8685058183159352, privacy reward: 0.941764533584249\n",
      "user 29, g: 0.0012311480455524776, ucb: 4.728098029569894, num_of_obs: 6, curr_delay = 0.8714812578718781, privacy reward: 0.941764533584249\n",
      "max_delay = 0.88 seconds\n",
      "iteration39\n"
     ]
    },
    {
     "name": "stderr",
     "output_type": "stream",
     "text": [
      " 20%|█▉        | 39/200 [00:19<01:17,  2.09it/s]"
     ]
    },
    {
     "name": "stdout",
     "output_type": "stream",
     "text": [
      "user 0, g: -0.0014792899408284025, ucb: 4.640389701041366, num_of_obs: 9, curr_delay = 0.08155653762452436, privacy reward: 0.9139311852712286\n",
      "user 3, g: -0.00016436554898093385, ucb: 4.621137548490567, num_of_obs: 8, curr_delay = 0.0909816008285369, privacy reward: 0.9231163463866362\n",
      "user 8, g: 0.00016436554898093314, ucb: 4.626112167055542, num_of_obs: 7, curr_delay = 0.12233799040401963, privacy reward: 0.9323938199059486\n",
      "user 9, g: 0.00016436554898093314, ucb: 4.640678019014599, num_of_obs: 7, curr_delay = 0.15110750810955156, privacy reward: 0.9323938199059486\n",
      "user 10, g: 0.00016436554898093314, ucb: 4.597291948577087, num_of_obs: 7, curr_delay = 0.14438354665472133, privacy reward: 0.9323938199059486\n",
      "max_delay = 0.15 seconds\n",
      "iteration40\n"
     ]
    },
    {
     "name": "stderr",
     "output_type": "stream",
     "text": [
      " 20%|██        | 40/200 [00:19<01:17,  2.07it/s]"
     ]
    },
    {
     "name": "stdout",
     "output_type": "stream",
     "text": [
      "user 1, g: -0.0011111111111111124, ucb: 4.526084153720197, num_of_obs: 9, curr_delay = 0.07106618752469487, privacy reward: 0.9139311852712286\n",
      "user 11, g: 0.00027777777777777767, ucb: 4.572976092417757, num_of_obs: 7, curr_delay = 0.17070580741161187, privacy reward: 0.9323938199059486\n",
      "user 12, g: 0.00027777777777777767, ucb: 4.565495897427103, num_of_obs: 7, curr_delay = 0.1758126635506196, privacy reward: 0.9323938199059486\n",
      "user 13, g: 0.00027777777777777767, ucb: 4.567241713401229, num_of_obs: 7, curr_delay = 0.1939417511745931, privacy reward: 0.9323938199059486\n",
      "user 14, g: 0.00027777777777777767, ucb: 4.556745691255211, num_of_obs: 7, curr_delay = 0.17392889651051102, privacy reward: 0.9323938199059486\n",
      "max_delay = 0.19 seconds\n",
      "iteration41\n"
     ]
    },
    {
     "name": "stderr",
     "output_type": "stream",
     "text": [
      " 20%|██        | 41/200 [00:19<01:17,  2.04it/s]"
     ]
    },
    {
     "name": "stdout",
     "output_type": "stream",
     "text": [
      "user 2, g: -1.6524555489457512e-05, ucb: 4.5317214965079256, num_of_obs: 8, curr_delay = 0.07111914375907291, privacy reward: 0.9231163463866362\n",
      "user 4, g: -1.6524555489457512e-05, ucb: 4.447527520053153, num_of_obs: 8, curr_delay = 0.10208154874001825, privacy reward: 0.9231163463866362\n",
      "user 5, g: -1.6524555489457512e-05, ucb: 4.461052269628851, num_of_obs: 8, curr_delay = 0.10163576410778029, privacy reward: 0.9231163463866362\n",
      "user 6, g: -1.6524555489457512e-05, ucb: 4.422537604750065, num_of_obs: 8, curr_delay = 0.14934784519704156, privacy reward: 0.9231163463866362\n",
      "user 7, g: -1.6524555489457512e-05, ucb: 4.418594766903765, num_of_obs: 8, curr_delay = 0.07966682589974153, privacy reward: 0.9231163463866362\n",
      "max_delay = 0.15 seconds\n",
      "iteration42\n"
     ]
    },
    {
     "name": "stderr",
     "output_type": "stream",
     "text": [
      " 21%|██        | 42/200 [00:20<01:18,  2.01it/s]"
     ]
    },
    {
     "name": "stdout",
     "output_type": "stream",
     "text": [
      "user 15, g: 0.0005668934240362811, ucb: 4.39306650612376, num_of_obs: 7, curr_delay = 0.7162075384154822, privacy reward: 0.9323938199059486\n",
      "user 16, g: 0.0005668934240362811, ucb: 4.390436510680367, num_of_obs: 7, curr_delay = 0.7315515105992756, privacy reward: 0.9323938199059486\n",
      "user 17, g: 0.0005668934240362811, ucb: 4.39048146571612, num_of_obs: 7, curr_delay = 0.7395324103024367, privacy reward: 0.9323938199059486\n",
      "user 18, g: 0.0005668934240362811, ucb: 4.3896899179129045, num_of_obs: 7, curr_delay = 0.7543709889994326, privacy reward: 0.9323938199059486\n",
      "user 19, g: 0.0005668934240362811, ucb: 4.388993246282554, num_of_obs: 7, curr_delay = 0.7877630454692889, privacy reward: 0.9323938199059486\n",
      "max_delay = 0.79 seconds\n",
      "iteration43\n"
     ]
    },
    {
     "name": "stderr",
     "output_type": "stream",
     "text": [
      " 22%|██▏       | 43/200 [00:21<01:17,  2.02it/s]"
     ]
    },
    {
     "name": "stdout",
     "output_type": "stream",
     "text": [
      "user 3, g: -0.0003755783907217117, ucb: 4.400646175736014, num_of_obs: 9, curr_delay = 0.06571606434851511, privacy reward: 0.9139311852712286\n",
      "user 20, g: 0.000736133645814554, ucb: 4.401087982173405, num_of_obs: 7, curr_delay = 0.7648454539082978, privacy reward: 0.9323938199059486\n",
      "user 21, g: 0.000736133645814554, ucb: 4.399200259607001, num_of_obs: 7, curr_delay = 0.7743185951862359, privacy reward: 0.9323938199059486\n",
      "user 22, g: 0.000736133645814554, ucb: 4.398640665263099, num_of_obs: 7, curr_delay = 0.8376167063216455, privacy reward: 0.9323938199059486\n",
      "user 23, g: 0.000736133645814554, ucb: 4.398322155779061, num_of_obs: 7, curr_delay = 0.8552678404355413, privacy reward: 0.9323938199059486\n",
      "max_delay = 0.86 seconds\n",
      "iteration44\n"
     ]
    },
    {
     "name": "stderr",
     "output_type": "stream",
     "text": [
      " 22%|██▏       | 44/200 [00:21<01:16,  2.04it/s]"
     ]
    },
    {
     "name": "stdout",
     "output_type": "stream",
     "text": [
      "user 24, g: 0.0009182736455463729, ucb: 4.409771144233005, num_of_obs: 7, curr_delay = 0.8383085364676283, privacy reward: 0.9323938199059486\n",
      "user 25, g: 0.0009182736455463729, ucb: 4.408348725189602, num_of_obs: 7, curr_delay = 0.8344581662653144, privacy reward: 0.9323938199059486\n",
      "user 26, g: 0.0009182736455463729, ucb: 4.407537403226716, num_of_obs: 7, curr_delay = 0.8556558267135493, privacy reward: 0.9323938199059486\n",
      "user 27, g: 0.0009182736455463729, ucb: 4.406469608349612, num_of_obs: 7, curr_delay = 0.8918794717801015, privacy reward: 0.9323938199059486\n",
      "user 28, g: 0.0009182736455463729, ucb: 4.406782839892998, num_of_obs: 7, curr_delay = 0.8845511457983477, privacy reward: 0.9323938199059486\n",
      "max_delay = 0.89 seconds\n",
      "iteration45\n"
     ]
    },
    {
     "name": "stderr",
     "output_type": "stream",
     "text": [
      " 22%|██▎       | 45/200 [00:21<01:15,  2.05it/s]"
     ]
    },
    {
     "name": "stdout",
     "output_type": "stream",
     "text": [
      "user 0, g: -0.0011111111111111124, ucb: 4.460362312489407, num_of_obs: 10, curr_delay = 0.06507890450212306, privacy reward: 0.9048374180359601\n",
      "user 8, g: 0.00012345679012345652, ucb: 4.394205532716338, num_of_obs: 8, curr_delay = 0.11775734634635293, privacy reward: 0.9231163463866362\n",
      "user 9, g: 0.00012345679012345652, ucb: 4.395574328003964, num_of_obs: 8, curr_delay = 0.13260273984546384, privacy reward: 0.9231163463866362\n",
      "user 10, g: 0.00012345679012345652, ucb: 4.360587639587594, num_of_obs: 8, curr_delay = 0.1570131498068256, privacy reward: 0.9231163463866362\n",
      "user 29, g: 0.0011111111111111107, ucb: 4.419213442386761, num_of_obs: 7, curr_delay = 0.901297848789931, privacy reward: 0.9323938199059486\n",
      "max_delay = 0.90 seconds\n",
      "iteration46\n"
     ]
    },
    {
     "name": "stderr",
     "output_type": "stream",
     "text": [
      " 23%|██▎       | 46/200 [00:22<01:16,  2.02it/s]"
     ]
    },
    {
     "name": "stdout",
     "output_type": "stream",
     "text": [
      "user 1, g: -0.0008401596303297637, ucb: 4.367716721513049, num_of_obs: 10, curr_delay = 0.06321561991185765, privacy reward: 0.9048374180359601\n",
      "user 2, g: -5.250997689561023e-05, ucb: 4.3515290745709185, num_of_obs: 9, curr_delay = 0.08241315362084696, privacy reward: 0.9139311852712286\n",
      "user 11, g: 0.0002100399075824401, ucb: 4.331106640229869, num_of_obs: 8, curr_delay = 0.17129743531675728, privacy reward: 0.9231163463866362\n",
      "user 12, g: 0.0002100399075824401, ucb: 4.323479622396251, num_of_obs: 8, curr_delay = 0.17247253469118917, privacy reward: 0.9231163463866362\n",
      "user 13, g: 0.0002100399075824401, ucb: 4.3211782854433585, num_of_obs: 8, curr_delay = 0.16688179115770638, privacy reward: 0.9231163463866362\n",
      "max_delay = 0.17 seconds\n",
      "iteration47\n"
     ]
    },
    {
     "name": "stderr",
     "output_type": "stream",
     "text": [
      " 24%|██▎       | 47/200 [00:22<01:15,  2.02it/s]"
     ]
    },
    {
     "name": "stdout",
     "output_type": "stream",
     "text": [
      "user 0, g: -0.002125144610432072, ucb: 4.2838198899182105, num_of_obs: 11, curr_delay = 0.05, privacy reward: 0.8958341352965288\n",
      "user 4, g: -1.2574820180071461e-05, ucb: 4.261831398087538, num_of_obs: 9, curr_delay = 0.12674258690662943, privacy reward: 0.9139311852712286\n",
      "user 5, g: -1.2574820180071461e-05, ucb: 4.273934095399925, num_of_obs: 9, curr_delay = 0.11927855603609955, privacy reward: 0.9139311852712286\n",
      "user 7, g: -1.2574820180071461e-05, ucb: 4.2537414049976325, num_of_obs: 9, curr_delay = 0.13651995980082804, privacy reward: 0.9139311852712286\n",
      "user 14, g: 0.0003143705045017855, ucb: 4.327780415501497, num_of_obs: 8, curr_delay = 0.18954606079446232, privacy reward: 0.9231163463866362\n",
      "max_delay = 0.19 seconds\n",
      "iteration48\n"
     ]
    },
    {
     "name": "stderr",
     "output_type": "stream",
     "text": [
      " 24%|██▍       | 48/200 [00:23<01:16,  1.98it/s]"
     ]
    },
    {
     "name": "stdout",
     "output_type": "stream",
     "text": [
      "user 1, g: -0.0017361111111111127, ucb: 4.202740985789466, num_of_obs: 11, curr_delay = 0.06542989006913347, privacy reward: 0.8958341352965288\n",
      "user 3, g: -0.0004340277777777782, ucb: 4.2501310840784665, num_of_obs: 10, curr_delay = 0.09134605542748679, privacy reward: 0.9048374180359601\n",
      "user 6, g: 0.0, ucb: 4.230963005987077, num_of_obs: 9, curr_delay = 0.1167966231213822, privacy reward: 0.9139311852712286\n",
      "user 8, g: 0.0, ucb: 4.173917798881345, num_of_obs: 9, curr_delay = 0.1566362343411365, privacy reward: 0.9139311852712286\n",
      "user 9, g: 0.0, ucb: 4.169173514245314, num_of_obs: 9, curr_delay = 0.1557681876452154, privacy reward: 0.9139311852712286\n",
      "max_delay = 0.16 seconds\n",
      "iteration49\n"
     ]
    },
    {
     "name": "stderr",
     "output_type": "stream",
     "text": [
      " 24%|██▍       | 49/200 [00:24<01:16,  1.97it/s]"
     ]
    },
    {
     "name": "stdout",
     "output_type": "stream",
     "text": [
      "user 2, g: -0.00028923133879402163, ucb: 4.1691013779982224, num_of_obs: 10, curr_delay = 0.07362235752479783, privacy reward: 0.9048374180359601\n",
      "user 15, g: 0.0005668934240362811, ucb: 4.154049563340547, num_of_obs: 8, curr_delay = 0.7072995812120232, privacy reward: 0.9231163463866362\n",
      "user 16, g: 0.0005668934240362811, ucb: 4.151586098734023, num_of_obs: 8, curr_delay = 0.7300313374262253, privacy reward: 0.9231163463866362\n",
      "user 17, g: 0.0005668934240362811, ucb: 4.151519260478085, num_of_obs: 8, curr_delay = 0.7469319614114871, privacy reward: 0.9231163463866362\n",
      "user 18, g: 0.0005668934240362811, ucb: 4.150650804722773, num_of_obs: 8, curr_delay = 0.7664434441714439, privacy reward: 0.9231163463866362\n",
      "max_delay = 0.77 seconds\n",
      "iteration50\n"
     ]
    },
    {
     "name": "stderr",
     "output_type": "stream",
     "text": [
      " 25%|██▌       | 50/200 [00:24<01:17,  1.94it/s]"
     ]
    },
    {
     "name": "stdout",
     "output_type": "stream",
     "text": [
      "user 19, g: 0.00071111111111111, ucb: 4.160238794099914, num_of_obs: 8, curr_delay = 0.7857888423062097, privacy reward: 0.9231163463866362\n",
      "user 20, g: 0.00071111111111111, ucb: 4.159231931160506, num_of_obs: 8, curr_delay = 0.7755095379890383, privacy reward: 0.9231163463866362\n",
      "user 21, g: 0.00071111111111111, ucb: 4.1574996289343265, num_of_obs: 8, curr_delay = 0.7971477345704872, privacy reward: 0.9231163463866362\n",
      "user 22, g: 0.00071111111111111, ucb: 4.156322872446302, num_of_obs: 8, curr_delay = 0.7973771680637156, privacy reward: 0.9231163463866362\n",
      "user 23, g: 0.00071111111111111, ucb: 4.155873870623449, num_of_obs: 8, curr_delay = 0.7965286622560981, privacy reward: 0.9231163463866362\n",
      "max_delay = 0.80 seconds\n",
      "iteration51\n"
     ]
    },
    {
     "name": "stderr",
     "output_type": "stream",
     "text": [
      " 26%|██▌       | 51/200 [00:25<01:15,  1.96it/s]"
     ]
    },
    {
     "name": "stdout",
     "output_type": "stream",
     "text": [
      "user 24, g: 0.0008650519031141856, ucb: 4.164863995078979, num_of_obs: 8, curr_delay = 0.8141012487863722, privacy reward: 0.9231163463866362\n",
      "user 25, g: 0.0008650519031141856, ucb: 4.163684094454412, num_of_obs: 8, curr_delay = 0.8705344475216515, privacy reward: 0.9231163463866362\n",
      "user 26, g: 0.0008650519031141856, ucb: 4.162776616870694, num_of_obs: 8, curr_delay = 0.8695734321708768, privacy reward: 0.9231163463866362\n",
      "user 27, g: 0.0008650519031141856, ucb: 4.161522317955686, num_of_obs: 8, curr_delay = 0.8863398861694599, privacy reward: 0.9231163463866362\n",
      "user 28, g: 0.0008650519031141856, ucb: 4.161857153159239, num_of_obs: 8, curr_delay = 0.8610796785818661, privacy reward: 0.9231163463866362\n",
      "max_delay = 0.89 seconds\n",
      "iteration52\n"
     ]
    },
    {
     "name": "stderr",
     "output_type": "stream",
     "text": [
      " 26%|██▌       | 52/200 [00:25<01:14,  1.99it/s]"
     ]
    },
    {
     "name": "stdout",
     "output_type": "stream",
     "text": [
      "user 10, g: 0.00016436554898093314, ucb: 4.170420818210852, num_of_obs: 9, curr_delay = 0.1846527367096854, privacy reward: 0.9139311852712286\n",
      "user 11, g: 0.00016436554898093314, ucb: 4.131117390992491, num_of_obs: 9, curr_delay = 0.17748851382595818, privacy reward: 0.9139311852712286\n",
      "user 12, g: 0.00016436554898093314, ucb: 4.124195160301377, num_of_obs: 9, curr_delay = 0.18468882303584247, privacy reward: 0.9139311852712286\n",
      "user 13, g: 0.00016436554898093314, ucb: 4.123395496065067, num_of_obs: 9, curr_delay = 0.193507047078803, privacy reward: 0.9139311852712286\n",
      "user 29, g: 0.0010272846811308347, ucb: 4.171431558356207, num_of_obs: 8, curr_delay = 0.9012020848558581, privacy reward: 0.9231163463866362\n",
      "max_delay = 0.90 seconds\n",
      "iteration53\n"
     ]
    },
    {
     "name": "stderr",
     "output_type": "stream",
     "text": [
      " 26%|██▋       | 53/200 [00:26<01:12,  2.01it/s]"
     ]
    },
    {
     "name": "stdout",
     "output_type": "stream",
     "text": [
      "user 0, g: -0.0016712155373600744, ucb: 4.186262796343042, num_of_obs: 12, curr_delay = 0.061053134511026105, privacy reward: 0.8869204367171581\n",
      "user 3, g: -0.0004845536173410872, ucb: 4.098075694718696, num_of_obs: 11, curr_delay = 0.06390339827138572, privacy reward: 0.8958341352965288\n",
      "user 4, g: -9.88884933349155e-06, ucb: 4.092476463991279, num_of_obs: 10, curr_delay = 0.09239878098254978, privacy reward: 0.9048374180359601\n",
      "user 5, g: -9.88884933349155e-06, ucb: 4.105977355098293, num_of_obs: 10, curr_delay = 0.10497760612663212, privacy reward: 0.9048374180359601\n",
      "user 14, g: 0.0002472212333372888, ucb: 4.124020622433109, num_of_obs: 9, curr_delay = 0.2040124212864253, privacy reward: 0.9139311852712286\n",
      "max_delay = 0.20 seconds\n",
      "iteration54\n"
     ]
    },
    {
     "name": "stderr",
     "output_type": "stream",
     "text": [
      " 27%|██▋       | 54/200 [00:26<01:11,  2.04it/s]"
     ]
    },
    {
     "name": "stdout",
     "output_type": "stream",
     "text": [
      "user 0, g: -0.0030864197530864196, ucb: 4.047188159630082, num_of_obs: 13, curr_delay = 0.05001639929234906, privacy reward: 0.878095430920562\n",
      "user 1, g: -0.0013717421124828531, ucb: 4.090417350017722, num_of_obs: 12, curr_delay = 0.05, privacy reward: 0.8869204367171581\n",
      "user 2, g: -0.0003429355281207133, ucb: 4.037842271105724, num_of_obs: 11, curr_delay = 0.07145072163489997, privacy reward: 0.8958341352965288\n",
      "user 6, g: 0.0, ucb: 4.068102152679623, num_of_obs: 10, curr_delay = 0.12806596642476423, privacy reward: 0.9048374180359601\n",
      "user 7, g: 0.0, ucb: 4.090699629541739, num_of_obs: 10, curr_delay = 0.12594702448963974, privacy reward: 0.9048374180359601\n",
      "max_delay = 0.13 seconds\n",
      "iteration55\n"
     ]
    },
    {
     "name": "stderr",
     "output_type": "stream",
     "text": [
      " 28%|██▊       | 55/200 [00:26<01:10,  2.05it/s]"
     ]
    },
    {
     "name": "stdout",
     "output_type": "stream",
     "text": [
      "user 1, g: -0.0026538108356290173, ucb: 3.9745791768324543, num_of_obs: 13, curr_delay = 0.05935204819597423, privacy reward: 0.878095430920562\n",
      "user 3, g: -0.0011111111111111124, ucb: 3.9651039828131265, num_of_obs: 12, curr_delay = 0.09398893255617362, privacy reward: 0.8869204367171581\n",
      "user 8, g: 9.182736455463678e-06, ucb: 4.0136742527922715, num_of_obs: 10, curr_delay = 0.15568900769675087, privacy reward: 0.9048374180359601\n",
      "user 9, g: 9.182736455463678e-06, ucb: 4.009654762151416, num_of_obs: 10, curr_delay = 0.17740061336322105, privacy reward: 0.9048374180359601\n",
      "user 10, g: 9.182736455463678e-06, ucb: 3.970350370588472, num_of_obs: 10, curr_delay = 0.15516038698038676, privacy reward: 0.9048374180359601\n",
      "max_delay = 0.18 seconds\n",
      "iteration56\n"
     ]
    },
    {
     "name": "stderr",
     "output_type": "stream",
     "text": [
      " 28%|██▊       | 56/200 [00:27<01:10,  2.05it/s]"
     ]
    },
    {
     "name": "stdout",
     "output_type": "stream",
     "text": [
      "user 15, g: 0.0005668934240362811, ucb: 3.955348464981472, num_of_obs: 9, curr_delay = 0.6950642003452528, privacy reward: 0.9139311852712286\n",
      "user 16, g: 0.0005668934240362811, ucb: 3.9529177843466257, num_of_obs: 9, curr_delay = 0.7255246026790343, privacy reward: 0.9139311852712286\n",
      "user 17, g: 0.0005668934240362811, ucb: 3.9526655872289376, num_of_obs: 9, curr_delay = 0.7537079712269833, privacy reward: 0.9139311852712286\n",
      "user 18, g: 0.0005668934240362811, ucb: 3.951692673958944, num_of_obs: 9, curr_delay = 0.7453711788500973, privacy reward: 0.9139311852712286\n",
      "user 19, g: 0.0005668934240362811, ucb: 3.9506182223921944, num_of_obs: 9, curr_delay = 0.8153450760668366, privacy reward: 0.9139311852712286\n",
      "max_delay = 0.82 seconds\n",
      "iteration57\n"
     ]
    },
    {
     "name": "stderr",
     "output_type": "stream",
     "text": [
      " 28%|██▊       | 57/200 [00:27<01:11,  2.01it/s]"
     ]
    },
    {
     "name": "stdout",
     "output_type": "stream",
     "text": [
      "user 20, g: 0.0006925207756232686, ucb: 3.958375020279319, num_of_obs: 9, curr_delay = 0.8044638174185031, privacy reward: 0.9139311852712286\n",
      "user 21, g: 0.0006925207756232686, ucb: 3.956640492202188, num_of_obs: 9, curr_delay = 0.7875188610664178, privacy reward: 0.9139311852712286\n",
      "user 22, g: 0.0006925207756232686, ucb: 3.955608574300479, num_of_obs: 9, curr_delay = 0.8152254319057998, privacy reward: 0.9139311852712286\n",
      "user 23, g: 0.0006925207756232686, ucb: 3.9552240473816545, num_of_obs: 9, curr_delay = 0.8486646348063936, privacy reward: 0.9139311852712286\n",
      "user 24, g: 0.0006925207756232686, ucb: 3.9538644775327807, num_of_obs: 9, curr_delay = 0.8078269892500113, privacy reward: 0.9139311852712286\n",
      "max_delay = 0.85 seconds\n",
      "iteration58\n"
     ]
    },
    {
     "name": "stderr",
     "output_type": "stream",
     "text": [
      " 29%|██▉       | 58/200 [00:28<01:12,  1.96it/s]"
     ]
    },
    {
     "name": "stdout",
     "output_type": "stream",
     "text": [
      "user 25, g: 0.0008257365570088515, ucb: 3.9607001910083732, num_of_obs: 9, curr_delay = 0.8785858045341688, privacy reward: 0.9139311852712286\n",
      "user 26, g: 0.0008257365570088515, ucb: 3.9599140825962076, num_of_obs: 9, curr_delay = 0.8338906981240465, privacy reward: 0.9139311852712286\n",
      "user 27, g: 0.0008257365570088515, ucb: 3.95868060994131, num_of_obs: 9, curr_delay = 0.879330695376792, privacy reward: 0.9139311852712286\n",
      "user 28, g: 0.0008257365570088515, ucb: 3.959180449210121, num_of_obs: 9, curr_delay = 0.8868982967554949, privacy reward: 0.9139311852712286\n",
      "user 29, g: 0.0008257365570088515, ucb: 3.958376333441004, num_of_obs: 9, curr_delay = 0.9233542806800098, privacy reward: 0.9139311852712286\n",
      "max_delay = 0.92 seconds\n",
      "iteration59\n"
     ]
    },
    {
     "name": "stderr",
     "output_type": "stream",
     "text": [
      " 30%|██▉       | 59/200 [00:29<01:12,  1.95it/s]"
     ]
    },
    {
     "name": "stdout",
     "output_type": "stream",
     "text": [
      "user 0, g: -0.0028807175460436023, ucb: 3.965284292343749, num_of_obs: 14, curr_delay = 0.062075338242891215, privacy reward: 0.8693582353988065\n",
      "user 4, g: -7.979826997350708e-06, ucb: 3.960748491815589, num_of_obs: 11, curr_delay = 0.1206325254929418, privacy reward: 0.8958341352965288\n",
      "user 5, g: -7.979826997350708e-06, ucb: 3.9664152315293872, num_of_obs: 11, curr_delay = 0.12119781513160341, privacy reward: 0.8958341352965288\n",
      "user 11, g: 0.0001994956749337669, ucb: 3.968503796807248, num_of_obs: 10, curr_delay = 0.19706449873193688, privacy reward: 0.9048374180359601\n",
      "user 12, g: 0.0001994956749337669, ucb: 3.9611303995884097, num_of_obs: 10, curr_delay = 0.17892244126585152, privacy reward: 0.9048374180359601\n",
      "max_delay = 0.20 seconds\n",
      "iteration60\n"
     ]
    },
    {
     "name": "stderr",
     "output_type": "stream",
     "text": [
      " 30%|███       | 60/200 [00:29<01:10,  1.98it/s]"
     ]
    },
    {
     "name": "stdout",
     "output_type": "stream",
     "text": [
      "user 2, g: -0.00027777777777777767, ucb: 3.9311539638012274, num_of_obs: 12, curr_delay = 0.07666004164887213, privacy reward: 0.8869204367171581\n",
      "user 6, g: 0.0, ucb: 3.923243276931185, num_of_obs: 11, curr_delay = 0.13353103972376687, privacy reward: 0.8958341352965288\n",
      "user 7, g: 0.0, ucb: 3.9442378579420234, num_of_obs: 11, curr_delay = 0.13470845920576566, privacy reward: 0.8958341352965288\n",
      "user 13, g: 0.00027777777777777767, ucb: 3.9666390588906597, num_of_obs: 10, curr_delay = 0.19514781249494417, privacy reward: 0.9048374180359601\n",
      "user 14, g: 0.00027777777777777767, ucb: 3.9574788077704297, num_of_obs: 10, curr_delay = 0.17886600169085032, privacy reward: 0.9048374180359601\n",
      "max_delay = 0.20 seconds\n",
      "iteration61\n"
     ]
    },
    {
     "name": "stderr",
     "output_type": "stream",
     "text": [
      " 30%|███       | 61/200 [00:30<01:10,  1.98it/s]"
     ]
    },
    {
     "name": "stdout",
     "output_type": "stream",
     "text": [
      "user 0, g: -0.003949057899608828, ucb: 3.8591671445935822, num_of_obs: 15, curr_delay = 0.056365177442021734, privacy reward: 0.8607079764250586\n",
      "user 1, g: -0.0021574248260622887, ucb: 3.8919823293725795, num_of_obs: 14, curr_delay = 0.05250942933666891, privacy reward: 0.8693582353988065\n",
      "user 3, g: -0.0009032816745797131, ucb: 3.8543905763599744, num_of_obs: 13, curr_delay = 0.08221781360572035, privacy reward: 0.878095430920562\n",
      "user 8, g: 7.465137806443923e-06, ucb: 3.8668590035112977, num_of_obs: 11, curr_delay = 0.17008766359173236, privacy reward: 0.8958341352965288\n",
      "user 9, g: 7.465137806443923e-06, ucb: 3.859310952172721, num_of_obs: 11, curr_delay = 0.14607812924708297, privacy reward: 0.8958341352965288\n",
      "max_delay = 0.17 seconds\n",
      "iteration62\n"
     ]
    },
    {
     "name": "stderr",
     "output_type": "stream",
     "text": [
      " 31%|███       | 62/200 [00:30<01:08,  2.00it/s]"
     ]
    },
    {
     "name": "stdout",
     "output_type": "stream",
     "text": [
      "user 2, g: -0.0007226268932824606, ucb: 3.806901611633955, num_of_obs: 13, curr_delay = 0.1132038672015731, privacy reward: 0.878095430920562\n",
      "user 4, g: -0.00011562030292519405, ucb: 3.813770984800269, num_of_obs: 12, curr_delay = 0.1315119545503707, privacy reward: 0.8869204367171581\n",
      "user 5, g: -0.00011562030292519405, ucb: 3.818746818867294, num_of_obs: 12, curr_delay = 0.13925876301977577, privacy reward: 0.8869204367171581\n",
      "user 10, g: 2.8905075731298364e-05, ucb: 3.834915481514871, num_of_obs: 11, curr_delay = 0.1519338291986268, privacy reward: 0.8958341352965288\n",
      "user 11, g: 2.8905075731298364e-05, ucb: 3.7977134057250534, num_of_obs: 11, curr_delay = 0.14250083540111824, privacy reward: 0.8958341352965288\n",
      "max_delay = 0.15 seconds\n",
      "iteration63\n"
     ]
    },
    {
     "name": "stderr",
     "output_type": "stream",
     "text": [
      " 32%|███▏      | 63/200 [00:31<01:09,  1.98it/s]"
     ]
    },
    {
     "name": "stdout",
     "output_type": "stream",
     "text": [
      "user 1, g: -0.0030864197530864196, ucb: 3.8015853770371155, num_of_obs: 15, curr_delay = 0.054898144280807804, privacy reward: 0.8607079764250586\n",
      "user 7, g: -6.298815822625346e-05, ucb: 3.794774996257689, num_of_obs: 12, curr_delay = 0.14577879580882241, privacy reward: 0.8869204367171581\n",
      "user 12, g: 6.298815822625346e-05, ucb: 3.800464219817971, num_of_obs: 11, curr_delay = 0.20642329282140523, privacy reward: 0.8958341352965288\n",
      "user 13, g: 6.298815822625346e-05, ucb: 3.7962673115379877, num_of_obs: 11, curr_delay = 0.18874863583710672, privacy reward: 0.8958341352965288\n",
      "user 14, g: 6.298815822625346e-05, ucb: 3.7903553683958195, num_of_obs: 11, curr_delay = 0.19392035069961433, privacy reward: 0.8958341352965288\n",
      "max_delay = 0.21 seconds\n",
      "iteration64\n"
     ]
    },
    {
     "name": "stderr",
     "output_type": "stream",
     "text": [
      " 32%|███▏      | 64/200 [00:31<01:07,  2.01it/s]"
     ]
    },
    {
     "name": "stdout",
     "output_type": "stream",
     "text": [
      "user 15, g: 0.0006781684027777773, ucb: 3.7936113176149537, num_of_obs: 10, curr_delay = 0.7054385704128611, privacy reward: 0.9048374180359601\n",
      "user 16, g: 0.0006781684027777773, ucb: 3.791115140336204, num_of_obs: 10, curr_delay = 0.7436227092465194, privacy reward: 0.9048374180359601\n",
      "user 17, g: 0.0006781684027777773, ucb: 3.7906046362485055, num_of_obs: 10, curr_delay = 0.7395463395705398, privacy reward: 0.9048374180359601\n",
      "user 18, g: 0.0006781684027777773, ucb: 3.789822266881465, num_of_obs: 10, curr_delay = 0.7682353805368113, privacy reward: 0.9048374180359601\n",
      "user 19, g: 0.0006781684027777773, ucb: 3.788227538357949, num_of_obs: 10, curr_delay = 0.7928334967127032, privacy reward: 0.9048374180359601\n",
      "max_delay = 0.79 seconds\n",
      "iteration65\n"
     ]
    },
    {
     "name": "stderr",
     "output_type": "stream",
     "text": [
      " 32%|███▎      | 65/200 [00:32<01:07,  2.01it/s]"
     ]
    },
    {
     "name": "stdout",
     "output_type": "stream",
     "text": [
      "user 20, g: 0.0007955292570677177, ucb: 3.7945640110319214, num_of_obs: 10, curr_delay = 0.7590627578435604, privacy reward: 0.9048374180359601\n",
      "user 21, g: 0.0007955292570677177, ucb: 3.7931708020217183, num_of_obs: 10, curr_delay = 0.8008522552896539, privacy reward: 0.9048374180359601\n",
      "user 22, g: 0.0007955292570677177, ucb: 3.7920137845026667, num_of_obs: 10, curr_delay = 0.8056680409279767, privacy reward: 0.9048374180359601\n",
      "user 23, g: 0.0007955292570677177, ucb: 3.7914034671568646, num_of_obs: 10, curr_delay = 0.8256309872964723, privacy reward: 0.9048374180359601\n",
      "user 24, g: 0.0007955292570677177, ucb: 3.7905258887862097, num_of_obs: 10, curr_delay = 0.8345611870420369, privacy reward: 0.9048374180359601\n",
      "max_delay = 0.83 seconds\n",
      "iteration66\n"
     ]
    },
    {
     "name": "stderr",
     "output_type": "stream",
     "text": [
      " 33%|███▎      | 66/200 [00:32<01:08,  1.96it/s]"
     ]
    },
    {
     "name": "stdout",
     "output_type": "stream",
     "text": [
      "user 6, g: 0.0, ucb: 3.7948055042924422, num_of_obs: 12, curr_delay = 0.12496110978781612, privacy reward: 0.8869204367171581\n",
      "user 25, g: 0.0009182736455463729, ucb: 3.7954272171455377, num_of_obs: 10, curr_delay = 0.83940783409873, privacy reward: 0.9048374180359601\n",
      "user 26, g: 0.0009182736455463729, ucb: 3.7950673717411574, num_of_obs: 10, curr_delay = 0.8570126990251978, privacy reward: 0.9048374180359601\n",
      "user 27, g: 0.0009182736455463729, ucb: 3.7936266774426817, num_of_obs: 10, curr_delay = 0.8659898466355893, privacy reward: 0.9048374180359601\n",
      "user 28, g: 0.0009182736455463729, ucb: 3.794017070212048, num_of_obs: 10, curr_delay = 0.8510632861744392, privacy reward: 0.9048374180359601\n",
      "max_delay = 0.87 seconds\n",
      "iteration67\n"
     ]
    },
    {
     "name": "stderr",
     "output_type": "stream",
     "text": [
      " 34%|███▎      | 67/200 [00:33<01:07,  1.97it/s]"
     ]
    },
    {
     "name": "stdout",
     "output_type": "stream",
     "text": [
      "user 0, g: -0.0032734338258954008, ucb: 3.790789522926854, num_of_obs: 16, curr_delay = 0.09286285945097339, privacy reward: 0.8521437889662121\n",
      "user 3, g: -0.0007487438429741846, ucb: 3.760460427513402, num_of_obs: 14, curr_delay = 0.07386452126398454, privacy reward: 0.8693582353988065\n",
      "user 8, g: 6.1879656444146855e-06, ucb: 3.7358669582922435, num_of_obs: 12, curr_delay = 0.1379283398156524, privacy reward: 0.8869204367171581\n",
      "user 9, g: 6.1879656444146855e-06, ucb: 3.733397505166534, num_of_obs: 12, curr_delay = 0.1346970532191565, privacy reward: 0.8869204367171581\n",
      "user 29, g: 0.001045766193906091, ucb: 3.7997556441294105, num_of_obs: 10, curr_delay = 0.9143953185790424, privacy reward: 0.9048374180359601\n",
      "max_delay = 0.91 seconds\n",
      "iteration68\n"
     ]
    },
    {
     "name": "stderr",
     "output_type": "stream",
     "text": [
      " 34%|███▍      | 68/200 [00:33<01:06,  1.98it/s]"
     ]
    },
    {
     "name": "stdout",
     "output_type": "stream",
     "text": [
      "user 1, g: -0.002907535563244906, ucb: 3.7328828970761507, num_of_obs: 16, curr_delay = 0.07631416193405009, privacy reward: 0.8521437889662121\n",
      "user 2, g: -0.0006007304882737407, ucb: 3.703456038200187, num_of_obs: 14, curr_delay = 0.10178846081759782, privacy reward: 0.8693582353988065\n",
      "user 4, g: -9.611687812379895e-05, ucb: 3.7001376213055956, num_of_obs: 13, curr_delay = 0.08132642273675897, privacy reward: 0.878095430920562\n",
      "user 5, g: -9.611687812379895e-05, ucb: 3.7029363241003987, num_of_obs: 13, curr_delay = 0.11097606219991255, privacy reward: 0.878095430920562\n",
      "user 10, g: 2.4029219530949463e-05, ucb: 3.7096733470268974, num_of_obs: 12, curr_delay = 0.14570766499762017, privacy reward: 0.8869204367171581\n",
      "max_delay = 0.15 seconds\n",
      "iteration69\n"
     ]
    },
    {
     "name": "stderr",
     "output_type": "stream",
     "text": [
      " 34%|███▍      | 69/200 [00:34<01:05,  1.99it/s]"
     ]
    },
    {
     "name": "stdout",
     "output_type": "stream",
     "text": [
      "user 0, g: -0.004253308128544425, ucb: 3.686480507837897, num_of_obs: 17, curr_delay = 0.06874959466206268, privacy reward: 0.8436648165963845\n",
      "user 7, g: -5.250997689561023e-05, ucb: 3.6792820096891994, num_of_obs: 13, curr_delay = 0.1367295706624969, privacy reward: 0.878095430920562\n",
      "user 11, g: 5.250997689561023e-05, ucb: 3.683697031551789, num_of_obs: 12, curr_delay = 0.1792871633366992, privacy reward: 0.8869204367171581\n",
      "user 12, g: 5.250997689561023e-05, ucb: 3.670125365321794, num_of_obs: 12, curr_delay = 0.1651197967566864, privacy reward: 0.8869204367171581\n",
      "user 13, g: 5.250997689561023e-05, ucb: 3.668371980528348, num_of_obs: 12, curr_delay = 0.19957872861766351, privacy reward: 0.8869204367171581\n",
      "max_delay = 0.20 seconds\n",
      "iteration70\n"
     ]
    },
    {
     "name": "stderr",
     "output_type": "stream",
     "text": [
      " 35%|███▌      | 70/200 [00:34<01:04,  2.01it/s]"
     ]
    },
    {
     "name": "stdout",
     "output_type": "stream",
     "text": [
      "user 6, g: -2.267573696145135e-05, ucb: 3.6723443382769365, num_of_obs: 13, curr_delay = 0.12336225073977188, privacy reward: 0.878095430920562\n",
      "user 14, g: 9.070294784580487e-05, ucb: 3.668124329618667, num_of_obs: 12, curr_delay = 0.195300155939737, privacy reward: 0.8869204367171581\n",
      "user 15, g: 0.0005668934240362811, ucb: 3.6404523388015475, num_of_obs: 11, curr_delay = 0.7248418041823578, privacy reward: 0.8958341352965288\n",
      "user 16, g: 0.0005668934240362811, ucb: 3.637841829723672, num_of_obs: 11, curr_delay = 0.7215251001544166, privacy reward: 0.8958341352965288\n",
      "user 17, g: 0.0005668934240362811, ucb: 3.637419437761328, num_of_obs: 11, curr_delay = 0.7315820655112432, privacy reward: 0.8958341352965288\n",
      "max_delay = 0.73 seconds\n",
      "iteration71\n"
     ]
    },
    {
     "name": "stderr",
     "output_type": "stream",
     "text": [
      " 36%|███▌      | 71/200 [00:35<01:04,  2.01it/s]"
     ]
    },
    {
     "name": "stdout",
     "output_type": "stream",
     "text": [
      "user 3, g: -0.0009312526174259955, ucb: 3.6700230925003816, num_of_obs: 15, curr_delay = 0.08959456930100035, privacy reward: 0.8607079764250586\n",
      "user 18, g: 0.0006667548325949428, ucb: 3.6424176531577466, num_of_obs: 11, curr_delay = 0.7269573243242392, privacy reward: 0.8958341352965288\n",
      "user 19, g: 0.0006667548325949428, ucb: 3.640780469945073, num_of_obs: 11, curr_delay = 0.7682777637541481, privacy reward: 0.8958341352965288\n",
      "user 20, g: 0.0006667548325949428, ucb: 3.640523530605973, num_of_obs: 11, curr_delay = 0.8067074641891843, privacy reward: 0.8958341352965288\n",
      "user 21, g: 0.0006667548325949428, ucb: 3.6389259207059945, num_of_obs: 11, curr_delay = 0.7994583610838892, privacy reward: 0.8958341352965288\n",
      "max_delay = 0.81 seconds\n",
      "iteration72\n"
     ]
    },
    {
     "name": "stderr",
     "output_type": "stream",
     "text": [
      " 36%|███▌      | 72/200 [00:35<01:03,  2.01it/s]"
     ]
    },
    {
     "name": "stdout",
     "output_type": "stream",
     "text": [
      "user 22, g: 0.000771604938271604, ucb: 3.643709133446412, num_of_obs: 11, curr_delay = 0.8066734947072804, privacy reward: 0.8958341352965288\n",
      "user 23, g: 0.000771604938271604, ucb: 3.6430097921260858, num_of_obs: 11, curr_delay = 0.8233289057195613, privacy reward: 0.8958341352965288\n",
      "user 24, g: 0.000771604938271604, ucb: 3.64215516980138, num_of_obs: 11, curr_delay = 0.8455379047177335, privacy reward: 0.8958341352965288\n",
      "user 25, g: 0.000771604938271604, ucb: 3.6403980225793022, num_of_obs: 11, curr_delay = 0.8265196370165125, privacy reward: 0.8958341352965288\n",
      "user 26, g: 0.000771604938271604, ucb: 3.6399518008819727, num_of_obs: 11, curr_delay = 0.8730374057888695, privacy reward: 0.8958341352965288\n",
      "max_delay = 0.87 seconds\n",
      "iteration73\n"
     ]
    },
    {
     "name": "stderr",
     "output_type": "stream",
     "text": [
      " 36%|███▋      | 73/200 [00:35<01:02,  2.04it/s]"
     ]
    },
    {
     "name": "stdout",
     "output_type": "stream",
     "text": [
      "user 1, g: -0.0027574487604511994, ucb: 3.6533933386254946, num_of_obs: 17, curr_delay = 0.0876154380575127, privacy reward: 0.8436648165963845\n",
      "user 8, g: 5.2125685452763695e-06, ucb: 3.625682494959971, num_of_obs: 13, curr_delay = 0.15811344835115412, privacy reward: 0.878095430920562\n",
      "user 27, g: 0.0008809240841517065, ucb: 3.64436630790498, num_of_obs: 11, curr_delay = 0.8651092919770935, privacy reward: 0.8958341352965288\n",
      "user 28, g: 0.0008809240841517065, ucb: 3.6448189254007506, num_of_obs: 11, curr_delay = 0.8655859262190755, privacy reward: 0.8958341352965288\n",
      "user 29, g: 0.0008809240841517065, ucb: 3.6435461381366037, num_of_obs: 11, curr_delay = 0.8792348149049004, privacy reward: 0.8958341352965288\n",
      "max_delay = 0.88 seconds\n",
      "iteration74\n"
     ]
    },
    {
     "name": "stderr",
     "output_type": "stream",
     "text": [
      " 37%|███▋      | 74/200 [00:36<01:04,  1.96it/s]"
     ]
    },
    {
     "name": "stdout",
     "output_type": "stream",
     "text": [
      "user 0, g: -0.003976949922895871, ucb: 3.616514497021936, num_of_obs: 18, curr_delay = 0.06286802889221066, privacy reward: 0.8352702114112729\n",
      "user 2, g: -0.0005072640207775352, ucb: 3.6133707673583664, num_of_obs: 15, curr_delay = 0.09069801074478084, privacy reward: 0.8607079764250586\n",
      "user 4, g: -8.116224332440582e-05, ucb: 3.6163352306554906, num_of_obs: 14, curr_delay = 0.10431542597111343, privacy reward: 0.8693582353988065\n",
      "user 5, g: -8.116224332440582e-05, ucb: 3.60628336227148, num_of_obs: 14, curr_delay = 0.10969366878822316, privacy reward: 0.8693582353988065\n",
      "user 9, g: 2.029056083110121e-05, ucb: 3.6293322801048333, num_of_obs: 13, curr_delay = 0.15866506823917761, privacy reward: 0.878095430920562\n",
      "max_delay = 0.16 seconds\n",
      "iteration75\n"
     ]
    },
    {
     "name": "stderr",
     "output_type": "stream",
     "text": [
      " 38%|███▊      | 75/200 [00:37<01:04,  1.95it/s]"
     ]
    },
    {
     "name": "stdout",
     "output_type": "stream",
     "text": [
      "user 3, g: -0.0011111111111111124, ucb: 3.580276611310438, num_of_obs: 16, curr_delay = 0.07913122635048361, privacy reward: 0.8521437889662121\n",
      "user 6, g: -4.444444444444465e-05, ucb: 3.569194882070604, num_of_obs: 14, curr_delay = 0.1497616403215029, privacy reward: 0.8693582353988065\n",
      "user 7, g: -4.444444444444465e-05, ucb: 3.5776494102660994, num_of_obs: 14, curr_delay = 0.12163491936525092, privacy reward: 0.8693582353988065\n",
      "user 10, g: 4.444444444444428e-05, ucb: 3.604894796415643, num_of_obs: 13, curr_delay = 0.19161998876932643, privacy reward: 0.878095430920562\n",
      "user 11, g: 4.444444444444428e-05, ucb: 3.570352555322989, num_of_obs: 13, curr_delay = 0.1929860555763518, privacy reward: 0.878095430920562\n",
      "max_delay = 0.19 seconds\n",
      "iteration76\n"
     ]
    },
    {
     "name": "stderr",
     "output_type": "stream",
     "text": [
      " 38%|███▊      | 76/200 [00:37<01:03,  1.94it/s]"
     ]
    },
    {
     "name": "stdout",
     "output_type": "stream",
     "text": [
      "user 0, g: -0.0049245921822099106, ucb: 3.543527070724508, num_of_obs: 19, curr_delay = 0.08512970971733852, privacy reward: 0.8269591339433633\n",
      "user 1, g: -0.0032510003077870124, ucb: 3.5670977711174725, num_of_obs: 18, curr_delay = 0.08753154899832719, privacy reward: 0.8352702114112729\n",
      "user 12, g: 7.694675284702985e-05, ucb: 3.5649414803597193, num_of_obs: 13, curr_delay = 0.20112186952970088, privacy reward: 0.878095430920562\n",
      "user 13, g: 7.694675284702985e-05, ucb: 3.5589773151749435, num_of_obs: 13, curr_delay = 0.20791322549080907, privacy reward: 0.878095430920562\n",
      "user 14, g: 7.694675284702985e-05, ucb: 3.553919339274311, num_of_obs: 13, curr_delay = 0.21457916499471535, privacy reward: 0.878095430920562\n",
      "max_delay = 0.21 seconds\n",
      "iteration77\n"
     ]
    },
    {
     "name": "stderr",
     "output_type": "stream",
     "text": [
      " 38%|███▊      | 77/200 [00:38<01:02,  1.97it/s]"
     ]
    },
    {
     "name": "stdout",
     "output_type": "stream",
     "text": [
      "user 2, g: -0.0007917767658027409, ucb: 3.522230603228069, num_of_obs: 16, curr_delay = 0.07710205415201539, privacy reward: 0.8521437889662121\n",
      "user 4, g: -0.00022956841138659364, ucb: 3.516721864008374, num_of_obs: 15, curr_delay = 0.10437677525967597, privacy reward: 0.8607079764250586\n",
      "user 8, g: -4.685069620134598e-06, ucb: 3.5140547999400455, num_of_obs: 14, curr_delay = 0.16328876591547764, privacy reward: 0.8693582353988065\n",
      "user 9, g: -4.685069620134598e-06, ucb: 3.5125496378377385, num_of_obs: 14, curr_delay = 0.1299416031473956, privacy reward: 0.8693582353988065\n",
      "user 15, g: 0.0005668934240362811, ucb: 3.5121536186247693, num_of_obs: 12, curr_delay = 0.6881307076805322, privacy reward: 0.8869204367171581\n",
      "max_delay = 0.69 seconds\n",
      "iteration78\n"
     ]
    },
    {
     "name": "stderr",
     "output_type": "stream",
     "text": [
      " 39%|███▉      | 78/200 [00:38<01:01,  1.97it/s]"
     ]
    },
    {
     "name": "stdout",
     "output_type": "stream",
     "text": [
      "user 16, g: 0.000657462195923734, ucb: 3.514917612210488, num_of_obs: 12, curr_delay = 0.7497237478023402, privacy reward: 0.8869204367171581\n",
      "user 17, g: 0.000657462195923734, ucb: 3.5144470171470714, num_of_obs: 12, curr_delay = 0.729095415122012, privacy reward: 0.8869204367171581\n",
      "user 18, g: 0.000657462195923734, ucb: 3.5136168967256522, num_of_obs: 12, curr_delay = 0.7886415769315671, privacy reward: 0.8869204367171581\n",
      "user 19, g: 0.000657462195923734, ucb: 3.51179225748536, num_of_obs: 12, curr_delay = 0.7658116080074955, privacy reward: 0.8869204367171581\n",
      "user 20, g: 0.000657462195923734, ucb: 3.5112768314986407, num_of_obs: 12, curr_delay = 0.7826806090426661, privacy reward: 0.8869204367171581\n",
      "max_delay = 0.79 seconds\n",
      "iteration79\n"
     ]
    },
    {
     "name": "stderr",
     "output_type": "stream",
     "text": [
      " 40%|███▉      | 79/200 [00:39<01:01,  1.96it/s]"
     ]
    },
    {
     "name": "stdout",
     "output_type": "stream",
     "text": [
      "user 5, g: -0.00011127134184336576, ucb: 3.5147012590831292, num_of_obs: 15, curr_delay = 0.12486397121128573, privacy reward: 0.8607079764250586\n",
      "user 21, g: 0.0007521942708611511, ucb: 3.514911415906938, num_of_obs: 12, curr_delay = 0.7914588814422102, privacy reward: 0.8869204367171581\n",
      "user 22, g: 0.0007521942708611511, ucb: 3.5138799846095554, num_of_obs: 12, curr_delay = 0.8092500153429603, privacy reward: 0.8869204367171581\n",
      "user 23, g: 0.0007521942708611511, ucb: 3.513130231145729, num_of_obs: 12, curr_delay = 0.8316062353720584, privacy reward: 0.8869204367171581\n",
      "user 24, g: 0.0007521942708611511, ucb: 3.512208291122991, num_of_obs: 12, curr_delay = 0.8310574259156064, privacy reward: 0.8869204367171581\n",
      "max_delay = 0.83 seconds\n",
      "iteration80\n"
     ]
    },
    {
     "name": "stderr",
     "output_type": "stream",
     "text": [
      " 40%|████      | 80/200 [00:39<01:01,  1.95it/s]"
     ]
    },
    {
     "name": "stdout",
     "output_type": "stream",
     "text": [
      "user 25, g: 0.0008506944444444433, ucb: 3.515699903953385, num_of_obs: 12, curr_delay = 0.8285274984526279, privacy reward: 0.8869204367171581\n",
      "user 26, g: 0.0008506944444444433, ucb: 3.515001219159237, num_of_obs: 12, curr_delay = 0.848950212985029, privacy reward: 0.8869204367171581\n",
      "user 27, g: 0.0008506944444444433, ucb: 3.513815201629481, num_of_obs: 12, curr_delay = 0.8769035634832172, privacy reward: 0.8869204367171581\n",
      "user 28, g: 0.0008506944444444433, ucb: 3.5142237788606026, num_of_obs: 12, curr_delay = 0.866990637369945, privacy reward: 0.8869204367171581\n",
      "user 29, g: 0.0008506944444444433, ucb: 3.5129851803973056, num_of_obs: 12, curr_delay = 0.8998012847044673, privacy reward: 0.8869204367171581\n",
      "max_delay = 0.90 seconds\n",
      "iteration81\n"
     ]
    },
    {
     "name": "stderr",
     "output_type": "stream",
     "text": [
      " 40%|████      | 81/200 [00:40<01:00,  1.97it/s]"
     ]
    },
    {
     "name": "stdout",
     "output_type": "stream",
     "text": [
      "user 1, g: -0.0030864197530864196, ucb: 3.4960459354451734, num_of_obs: 19, curr_delay = 0.06280303225494123, privacy reward: 0.8269591339433633\n",
      "user 3, g: -0.0009525986892242036, ucb: 3.511594973196723, num_of_obs: 17, curr_delay = 0.0726833997733499, privacy reward: 0.8436648165963845\n",
      "user 6, g: -3.810394756896814e-05, ucb: 3.4757330649686913, num_of_obs: 15, curr_delay = 0.12737366421397892, privacy reward: 0.8607079764250586\n",
      "user 7, g: -3.810394756896814e-05, ucb: 3.4890981484225265, num_of_obs: 15, curr_delay = 0.1423578110441893, privacy reward: 0.8607079764250586\n",
      "user 10, g: 3.810394756896814e-05, ucb: 3.4995081310891925, num_of_obs: 14, curr_delay = 0.16831839099104767, privacy reward: 0.8693582353988065\n",
      "max_delay = 0.17 seconds\n",
      "iteration82\n"
     ]
    },
    {
     "name": "stderr",
     "output_type": "stream",
     "text": [
      " 41%|████      | 82/200 [00:40<01:00,  1.95it/s]"
     ]
    },
    {
     "name": "stdout",
     "output_type": "stream",
     "text": [
      "user 0, g: -0.00423028620530108, ucb: 3.480523899679215, num_of_obs: 20, curr_delay = 0.05, privacy reward: 0.8187307530779828\n",
      "user 2, g: -0.0008097032189834102, ucb: 3.4538373814984036, num_of_obs: 17, curr_delay = 0.11303358049825434, privacy reward: 0.8436648165963845\n",
      "user 11, g: 6.609822195782915e-05, ucb: 3.4719236543704945, num_of_obs: 14, curr_delay = 0.141387430848155, privacy reward: 0.8693582353988065\n",
      "user 12, g: 6.609822195782915e-05, ucb: 3.4614743714687526, num_of_obs: 14, curr_delay = 0.2174062103792287, privacy reward: 0.8693582353988065\n",
      "user 13, g: 6.609822195782915e-05, ucb: 3.4553443310461835, num_of_obs: 14, curr_delay = 0.1803010553423847, privacy reward: 0.8693582353988065\n",
      "max_delay = 0.22 seconds\n",
      "iteration83\n"
     ]
    },
    {
     "name": "stderr",
     "output_type": "stream",
     "text": [
      " 42%|████▏     | 83/200 [00:41<00:59,  1.95it/s]"
     ]
    },
    {
     "name": "stdout",
     "output_type": "stream",
     "text": [
      "user 1, g: -0.0038749375010080477, ucb: 3.431501811442275, num_of_obs: 20, curr_delay = 0.06486564285367982, privacy reward: 0.8187307530779828\n",
      "user 3, g: -0.0014556216835212338, ucb: 3.436359981398887, num_of_obs: 18, curr_delay = 0.09243858726478514, privacy reward: 0.8352702114112729\n",
      "user 4, g: -0.0001975774584280901, ucb: 3.439501401532604, num_of_obs: 16, curr_delay = 0.09981423929215857, privacy reward: 0.8521437889662121\n",
      "user 9, g: -4.03219302914468e-06, ucb: 3.426356414941437, num_of_obs: 15, curr_delay = 0.15281349555642706, privacy reward: 0.8607079764250586\n",
      "user 14, g: 0.000100804825728617, ucb: 3.4544835870792205, num_of_obs: 14, curr_delay = 0.20392531344041218, privacy reward: 0.8693582353988065\n",
      "max_delay = 0.20 seconds\n",
      "iteration84\n"
     ]
    },
    {
     "name": "stderr",
     "output_type": "stream",
     "text": [
      " 42%|████▏     | 84/200 [00:41<00:59,  1.93it/s]"
     ]
    },
    {
     "name": "stdout",
     "output_type": "stream",
     "text": [
      "user 5, g: -0.0001417233560090706, ucb: 3.4280090352991506, num_of_obs: 16, curr_delay = 0.06656937513109384, privacy reward: 0.8521437889662121\n",
      "user 8, g: 0.0, ucb: 3.426308180234127, num_of_obs: 15, curr_delay = 0.14654803302999947, privacy reward: 0.8607079764250586\n",
      "user 15, g: 0.0005668934240362811, ucb: 3.3986643958347877, num_of_obs: 13, curr_delay = 0.713241236764403, privacy reward: 0.878095430920562\n",
      "user 16, g: 0.0005668934240362811, ucb: 3.3960179471625316, num_of_obs: 13, curr_delay = 0.7305658825831514, privacy reward: 0.878095430920562\n",
      "user 17, g: 0.0005668934240362811, ucb: 3.3957438098805657, num_of_obs: 13, curr_delay = 0.7276064672543763, privacy reward: 0.878095430920562\n",
      "max_delay = 0.73 seconds\n",
      "iteration85\n"
     ]
    },
    {
     "name": "stderr",
     "output_type": "stream",
     "text": [
      " 42%|████▎     | 85/200 [00:42<00:58,  1.98it/s]"
     ]
    },
    {
     "name": "stdout",
     "output_type": "stream",
     "text": [
      "user 7, g: -9.611687812379895e-05, ucb: 3.3966461812736073, num_of_obs: 16, curr_delay = 0.1513758900571097, privacy reward: 0.8521437889662121\n",
      "user 10, g: 3.844675124951914e-06, ucb: 3.3991707591734506, num_of_obs: 15, curr_delay = 0.17721529049266146, privacy reward: 0.8607079764250586\n",
      "user 18, g: 0.0006497500961168777, ucb: 3.3989931456226308, num_of_obs: 13, curr_delay = 0.7715041421355208, privacy reward: 0.878095430920562\n",
      "user 19, g: 0.0006497500961168777, ucb: 3.397478063970322, num_of_obs: 13, curr_delay = 0.7629227609987163, privacy reward: 0.878095430920562\n",
      "user 20, g: 0.0006497500961168777, ucb: 3.3968883242862025, num_of_obs: 13, curr_delay = 0.7936386267969041, privacy reward: 0.878095430920562\n",
      "max_delay = 0.79 seconds\n",
      "iteration86\n"
     ]
    },
    {
     "name": "stderr",
     "output_type": "stream",
     "text": [
      " 43%|████▎     | 86/200 [00:42<00:57,  1.97it/s]"
     ]
    },
    {
     "name": "stdout",
     "output_type": "stream",
     "text": [
      "user 21, g: 0.000736133645814554, ucb: 3.399928787913302, num_of_obs: 13, curr_delay = 0.7865144674311929, privacy reward: 0.878095430920562\n",
      "user 22, g: 0.000736133645814554, ucb: 3.398867569800924, num_of_obs: 13, curr_delay = 0.7993984246019413, privacy reward: 0.878095430920562\n",
      "user 23, g: 0.000736133645814554, ucb: 3.398041879669528, num_of_obs: 13, curr_delay = 0.8140752463856903, privacy reward: 0.878095430920562\n",
      "user 24, g: 0.000736133645814554, ucb: 3.397200076713874, num_of_obs: 13, curr_delay = 0.8468766291315216, privacy reward: 0.878095430920562\n",
      "user 25, g: 0.000736133645814554, ucb: 3.395864486447655, num_of_obs: 13, curr_delay = 0.861500889907655, privacy reward: 0.878095430920562\n",
      "max_delay = 0.86 seconds\n",
      "iteration87\n"
     ]
    },
    {
     "name": "stderr",
     "output_type": "stream",
     "text": [
      " 44%|████▎     | 87/200 [00:43<00:56,  1.99it/s]"
     ]
    },
    {
     "name": "stdout",
     "output_type": "stream",
     "text": [
      "user 0, g: -0.003996564935922844, ucb: 3.4388057224075625, num_of_obs: 21, curr_delay = 0.07703508683623253, privacy reward: 0.8105842459701882\n",
      "user 26, g: 0.0008257365570088515, ucb: 3.39943072594456, num_of_obs: 13, curr_delay = 0.8633219730488975, privacy reward: 0.878095430920562\n",
      "user 27, g: 0.0008257365570088515, ucb: 3.3981870885242245, num_of_obs: 13, curr_delay = 0.8576417978277535, privacy reward: 0.878095430920562\n",
      "user 28, g: 0.0008257365570088515, ucb: 3.398615945736253, num_of_obs: 13, curr_delay = 0.864025830286124, privacy reward: 0.878095430920562\n",
      "user 29, g: 0.0008257365570088515, ucb: 3.3973053200604735, num_of_obs: 13, curr_delay = 0.8803836948952527, privacy reward: 0.878095430920562\n",
      "max_delay = 0.88 seconds\n",
      "iteration88\n"
     ]
    },
    {
     "name": "stderr",
     "output_type": "stream",
     "text": [
      " 44%|████▍     | 88/200 [00:43<00:55,  2.00it/s]"
     ]
    },
    {
     "name": "stdout",
     "output_type": "stream",
     "text": [
      "user 1, g: -0.0036730945821854917, ucb: 3.3806414995657814, num_of_obs: 21, curr_delay = 0.05, privacy reward: 0.8105842459701882\n",
      "user 2, g: -0.0007030532598714419, ucb: 3.382208152806234, num_of_obs: 18, curr_delay = 0.08300022281693285, privacy reward: 0.8352702114112729\n",
      "user 3, g: -0.0014348025711662092, ucb: 3.369865146974093, num_of_obs: 19, curr_delay = 0.06790720295948895, privacy reward: 0.8269591339433633\n",
      "user 6, g: -1.434802571166205e-05, ucb: 3.398540261585674, num_of_obs: 16, curr_delay = 0.1058196951825033, privacy reward: 0.8521437889662121\n",
      "user 11, g: 5.73921028466482e-05, ucb: 3.385494007268812, num_of_obs: 15, curr_delay = 0.16877905350954192, privacy reward: 0.8607079764250586\n",
      "max_delay = 0.17 seconds\n",
      "iteration89\n"
     ]
    },
    {
     "name": "stderr",
     "output_type": "stream",
     "text": [
      " 44%|████▍     | 89/200 [00:44<00:54,  2.02it/s]"
     ]
    },
    {
     "name": "stdout",
     "output_type": "stream",
     "text": [
      "user 0, g: -0.00480088092132026, ucb: 3.3732522049499627, num_of_obs: 22, curr_delay = 0.07260197044745974, privacy reward: 0.8025187979624795\n",
      "user 4, g: -0.0001718357670888918, ucb: 3.3698860256602488, num_of_obs: 17, curr_delay = 0.112240419790129, privacy reward: 0.8436648165963845\n",
      "user 5, g: -0.0001718357670888918, ucb: 3.3709730651886947, num_of_obs: 17, curr_delay = 0.11625684637744002, privacy reward: 0.8436648165963845\n",
      "user 12, g: 8.767130973923037e-05, ucb: 3.370864782329758, num_of_obs: 15, curr_delay = 0.16789919974851256, privacy reward: 0.8607079764250586\n",
      "user 13, g: 8.767130973923037e-05, ucb: 3.3685532970406378, num_of_obs: 15, curr_delay = 0.20366678407429575, privacy reward: 0.8607079764250586\n",
      "max_delay = 0.20 seconds\n",
      "iteration90\n"
     ]
    },
    {
     "name": "stderr",
     "output_type": "stream",
     "text": [
      " 45%|████▌     | 90/200 [00:44<00:56,  1.94it/s]"
     ]
    },
    {
     "name": "stdout",
     "output_type": "stream",
     "text": [
      "user 6, g: -0.00012345679012345715, ucb: 3.3149301252172347, num_of_obs: 17, curr_delay = 0.1454997896241425, privacy reward: 0.8436648165963845\n",
      "user 7, g: -0.00012345679012345715, ucb: 3.3151547974098796, num_of_obs: 17, curr_delay = 0.12018662062355184, privacy reward: 0.8436648165963845\n",
      "user 8, g: 0.0, ucb: 3.344659914693479, num_of_obs: 16, curr_delay = 0.11983786294341878, privacy reward: 0.8521437889662121\n",
      "user 9, g: 0.0, ucb: 3.3476616676505713, num_of_obs: 16, curr_delay = 0.1295375527493977, privacy reward: 0.8521437889662121\n",
      "user 14, g: 0.00012345679012345652, ucb: 3.3652471743702206, num_of_obs: 15, curr_delay = 0.2113783448362146, privacy reward: 0.8607079764250586\n",
      "max_delay = 0.21 seconds\n",
      "iteration91\n"
     ]
    },
    {
     "name": "stderr",
     "output_type": "stream",
     "text": [
      " 46%|████▌     | 91/200 [00:45<00:56,  1.92it/s]"
     ]
    },
    {
     "name": "stdout",
     "output_type": "stream",
     "text": [
      "user 0, g: -0.005638744649733662, ucb: 3.314225443842552, num_of_obs: 23, curr_delay = 0.0705360343247656, privacy reward: 0.7945336025033352\n",
      "user 1, g: -0.004109138724523342, ucb: 3.3376781870688363, num_of_obs: 22, curr_delay = 0.09554789203807079, privacy reward: 0.8025187979624795\n",
      "user 2, g: -0.0009694212990916288, ucb: 3.314947163264262, num_of_obs: 19, curr_delay = 0.09838711712184281, privacy reward: 0.8269591339433633\n",
      "user 3, g: -0.0017744770492023254, ucb: 3.312106922762383, num_of_obs: 20, curr_delay = 0.05, privacy reward: 0.8187307530779828\n",
      "user 10, g: 3.354398958794539e-06, ucb: 3.315238461263722, num_of_obs: 16, curr_delay = 0.13506765320710845, privacy reward: 0.8521437889662121\n",
      "max_delay = 0.14 seconds\n",
      "iteration92\n"
     ]
    },
    {
     "name": "stderr",
     "output_type": "stream",
     "text": [
      " 46%|████▌     | 92/200 [00:45<00:55,  1.95it/s]"
     ]
    },
    {
     "name": "stdout",
     "output_type": "stream",
     "text": [
      "user 11, g: 1.3127494223902458e-05, ucb: 3.2958302836787774, num_of_obs: 16, curr_delay = 0.16655218356778867, privacy reward: 0.8521437889662121\n",
      "user 15, g: 0.0006432472169712246, ucb: 3.30072805477611, num_of_obs: 14, curr_delay = 0.7009846208147115, privacy reward: 0.8693582353988065\n",
      "user 16, g: 0.0006432472169712246, ucb: 3.2981573012699625, num_of_obs: 14, curr_delay = 0.7104798142152029, privacy reward: 0.8693582353988065\n",
      "user 17, g: 0.0006432472169712246, ucb: 3.297925664427669, num_of_obs: 14, curr_delay = 0.751830051185693, privacy reward: 0.8693582353988065\n",
      "user 18, g: 0.0006432472169712246, ucb: 3.296524180064478, num_of_obs: 14, curr_delay = 0.73133705407104, privacy reward: 0.8693582353988065\n",
      "max_delay = 0.75 seconds\n",
      "iteration93\n"
     ]
    },
    {
     "name": "stderr",
     "output_type": "stream",
     "text": [
      " 46%|████▋     | 93/200 [00:46<00:54,  1.97it/s]"
     ]
    },
    {
     "name": "stdout",
     "output_type": "stream",
     "text": [
      "user 19, g: 0.0007226268932824606, ucb: 3.299041003706735, num_of_obs: 14, curr_delay = 0.7414765856637898, privacy reward: 0.8693582353988065\n",
      "user 20, g: 0.0007226268932824606, ucb: 3.2983015156864375, num_of_obs: 14, curr_delay = 0.8020235026988192, privacy reward: 0.8693582353988065\n",
      "user 21, g: 0.0007226268932824606, ucb: 3.2971052096558457, num_of_obs: 14, curr_delay = 0.7944830171495464, privacy reward: 0.8693582353988065\n",
      "user 22, g: 0.0007226268932824606, ucb: 3.2960468092429607, num_of_obs: 14, curr_delay = 0.7915633842666365, privacy reward: 0.8693582353988065\n",
      "user 23, g: 0.0007226268932824606, ucb: 3.2951978914566347, num_of_obs: 14, curr_delay = 0.8211099859268209, privacy reward: 0.8693582353988065\n",
      "max_delay = 0.82 seconds\n",
      "iteration94\n"
     ]
    },
    {
     "name": "stderr",
     "output_type": "stream",
     "text": [
      " 47%|████▋     | 94/200 [00:46<00:53,  1.99it/s]"
     ]
    },
    {
     "name": "stdout",
     "output_type": "stream",
     "text": [
      "user 24, g: 0.0008047884915245704, ucb: 3.2980513329849006, num_of_obs: 14, curr_delay = 0.8555693223329538, privacy reward: 0.8693582353988065\n",
      "user 25, g: 0.0008047884915245704, ucb: 3.296741385700666, num_of_obs: 14, curr_delay = 0.8221312194225702, privacy reward: 0.8693582353988065\n",
      "user 26, g: 0.0008047884915245704, ucb: 3.2960290998257893, num_of_obs: 14, curr_delay = 0.8626010553348362, privacy reward: 0.8693582353988065\n",
      "user 27, g: 0.0008047884915245704, ucb: 3.2949106327757804, num_of_obs: 14, curr_delay = 0.8922626085581336, privacy reward: 0.8693582353988065\n",
      "user 28, g: 0.0008047884915245704, ucb: 3.2952733658113544, num_of_obs: 14, curr_delay = 0.8746035394533336, privacy reward: 0.8693582353988065\n",
      "max_delay = 0.89 seconds\n",
      "iteration95\n"
     ]
    },
    {
     "name": "stderr",
     "output_type": "stream",
     "text": [
      " 48%|████▊     | 95/200 [00:47<00:53,  1.95it/s]"
     ]
    },
    {
     "name": "stdout",
     "output_type": "stream",
     "text": [
      "user 4, g: -0.00015081563558017876, ucb: 3.302273755405531, num_of_obs: 18, curr_delay = 0.134975685155032, privacy reward: 0.8352702114112729\n",
      "user 5, g: -0.00015081563558017876, ucb: 3.302391550232471, num_of_obs: 18, curr_delay = 0.10402518947944824, privacy reward: 0.8352702114112729\n",
      "user 12, g: 7.694675284702985e-05, ucb: 3.28928557503409, num_of_obs: 16, curr_delay = 0.17440264828427343, privacy reward: 0.8521437889662121\n",
      "user 13, g: 7.694675284702985e-05, ucb: 3.2836416096606325, num_of_obs: 16, curr_delay = 0.19735390402170255, privacy reward: 0.8521437889662121\n",
      "user 29, g: 0.000889504462911664, ucb: 3.297749561244684, num_of_obs: 14, curr_delay = 0.8888770166542755, privacy reward: 0.8693582353988065\n",
      "max_delay = 0.89 seconds\n",
      "iteration96\n"
     ]
    },
    {
     "name": "stderr",
     "output_type": "stream",
     "text": [
      " 48%|████▊     | 96/200 [00:47<00:53,  1.93it/s]"
     ]
    },
    {
     "name": "stdout",
     "output_type": "stream",
     "text": [
      "user 1, g: -0.00390625, ucb: 3.2814357096387603, num_of_obs: 23, curr_delay = 0.08177071500999139, privacy reward: 0.7945336025033352\n",
      "user 3, g: -0.0017361111111111127, ucb: 3.27774247097763, num_of_obs: 21, curr_delay = 0.10028017338762289, privacy reward: 0.8105842459701882\n",
      "user 8, g: 0.0, ucb: 3.2746871296777864, num_of_obs: 17, curr_delay = 0.16700979970731863, privacy reward: 0.8436648165963845\n",
      "user 9, g: 0.0, ucb: 3.2755486513193786, num_of_obs: 17, curr_delay = 0.1538693334937625, privacy reward: 0.8436648165963845\n",
      "user 14, g: 0.00010850694444444425, ucb: 3.2798260791827274, num_of_obs: 16, curr_delay = 0.21739782042546013, privacy reward: 0.8521437889662121\n",
      "max_delay = 0.22 seconds\n",
      "iteration97\n"
     ]
    },
    {
     "name": "stderr",
     "output_type": "stream",
     "text": [
      " 48%|████▊     | 97/200 [00:48<00:54,  1.90it/s]"
     ]
    },
    {
     "name": "stdout",
     "output_type": "stream",
     "text": [
      "user 0, g: -0.004962742527839775, ucb: 3.2713730711497213, num_of_obs: 24, curr_delay = 0.05, privacy reward: 0.7866278610665545\n",
      "user 2, g: -0.0008532020169813776, ucb: 3.2572258837776262, num_of_obs: 20, curr_delay = 0.07418969174838458, privacy reward: 0.8187307530779828\n",
      "user 6, g: -7.380640285306025e-05, ucb: 3.247641682009774, num_of_obs: 18, curr_delay = 0.08204035098390328, privacy reward: 0.8352702114112729\n",
      "user 7, g: -7.380640285306025e-05, ucb: 3.252110583838588, num_of_obs: 18, curr_delay = 0.14719525667456235, privacy reward: 0.8352702114112729\n",
      "user 10, g: 2.9522561141223915e-06, ucb: 3.2440321736495767, num_of_obs: 17, curr_delay = 0.18313695470641775, privacy reward: 0.8436648165963845\n",
      "max_delay = 0.18 seconds\n",
      "iteration98\n"
     ]
    },
    {
     "name": "stderr",
     "output_type": "stream",
     "text": [
      " 49%|████▉     | 98/200 [00:48<00:52,  1.93it/s]"
     ]
    },
    {
     "name": "stdout",
     "output_type": "stream",
     "text": [
      "user 0, g: -0.006120135128881485, ucb: 3.229760807841426, num_of_obs: 25, curr_delay = 0.05854390662582566, privacy reward: 0.7788007830714061\n",
      "user 1, g: -0.004627701420704339, ucb: 3.2244875764432352, num_of_obs: 24, curr_delay = 0.07297156100459654, privacy reward: 0.7866278610665545\n",
      "user 4, g: -0.00028923133879402163, ucb: 3.2264024553929294, num_of_obs: 19, curr_delay = 0.11511215503533406, privacy reward: 0.8269591339433633\n",
      "user 5, g: -0.00028923133879402163, ucb: 3.2326368018259735, num_of_obs: 19, curr_delay = 0.09853907460595467, privacy reward: 0.8269591339433633\n",
      "user 11, g: 1.1569253551760866e-05, ucb: 3.2213354757298287, num_of_obs: 17, curr_delay = 0.17759429400693194, privacy reward: 0.8436648165963845\n",
      "max_delay = 0.18 seconds\n",
      "iteration99\n"
     ]
    },
    {
     "name": "stderr",
     "output_type": "stream",
     "text": [
      " 50%|████▉     | 99/200 [00:49<00:52,  1.93it/s]"
     ]
    },
    {
     "name": "stdout",
     "output_type": "stream",
     "text": [
      "user 12, g: 2.5507601265176792e-05, ucb: 3.2076138692816243, num_of_obs: 17, curr_delay = 0.200423580589692, privacy reward: 0.8436648165963845\n",
      "user 15, g: 0.0006376900316294253, ucb: 3.2084267876327806, num_of_obs: 15, curr_delay = 0.7351102392295384, privacy reward: 0.8607079764250586\n",
      "user 16, g: 0.0006376900316294253, ucb: 3.20597156902963, num_of_obs: 15, curr_delay = 0.7106827051662918, privacy reward: 0.8607079764250586\n",
      "user 17, g: 0.0006376900316294253, ucb: 3.205480007335739, num_of_obs: 15, curr_delay = 0.7058716097282154, privacy reward: 0.8607079764250586\n",
      "user 18, g: 0.0006376900316294253, ucb: 3.2043117388468687, num_of_obs: 15, curr_delay = 0.7447424698797827, privacy reward: 0.8607079764250586\n",
      "max_delay = 0.74 seconds\n",
      "iteration100\n"
     ]
    },
    {
     "name": "stderr",
     "output_type": "stream",
     "text": [
      " 50%|█████     | 100/200 [00:49<00:50,  1.97it/s]"
     ]
    },
    {
     "name": "stdout",
     "output_type": "stream",
     "text": [
      "user 13, g: 4.444444444444428e-05, ucb: 3.2034470740314163, num_of_obs: 17, curr_delay = 0.16972828070377588, privacy reward: 0.8436648165963845\n",
      "user 19, g: 0.00071111111111111, ucb: 3.2064281291213446, num_of_obs: 15, curr_delay = 0.7613290799889808, privacy reward: 0.8607079764250586\n",
      "user 20, g: 0.00071111111111111, ucb: 3.205377840247249, num_of_obs: 15, curr_delay = 0.7560880250277942, privacy reward: 0.8607079764250586\n",
      "user 21, g: 0.00071111111111111, ucb: 3.204309248547144, num_of_obs: 15, curr_delay = 0.7768721497985256, privacy reward: 0.8607079764250586\n",
      "user 22, g: 0.00071111111111111, ucb: 3.2033430287506914, num_of_obs: 15, curr_delay = 0.8108457776268319, privacy reward: 0.8607079764250586\n",
      "max_delay = 0.81 seconds\n",
      "iteration101\n"
     ]
    },
    {
     "name": "stderr",
     "output_type": "stream",
     "text": [
      " 50%|█████     | 101/200 [00:50<00:50,  1.97it/s]"
     ]
    },
    {
     "name": "stdout",
     "output_type": "stream",
     "text": [
      "user 23, g: 0.0007869598841072214, ucb: 3.205784324207951, num_of_obs: 15, curr_delay = 0.8166836253344268, privacy reward: 0.8607079764250586\n",
      "user 24, g: 0.0007869598841072214, ucb: 3.2047176737370884, num_of_obs: 15, curr_delay = 0.8365810754586648, privacy reward: 0.8607079764250586\n",
      "user 25, g: 0.0007869598841072214, ucb: 3.2036710743995225, num_of_obs: 15, curr_delay = 0.8434348245017744, privacy reward: 0.8607079764250586\n",
      "user 26, g: 0.0007869598841072214, ucb: 3.2028058575899228, num_of_obs: 15, curr_delay = 0.868980389174841, privacy reward: 0.8607079764250586\n",
      "user 28, g: 0.0007869598841072214, ucb: 3.2020472857980207, num_of_obs: 15, curr_delay = 0.8809617133358254, privacy reward: 0.8607079764250586\n",
      "max_delay = 0.88 seconds\n",
      "iteration102\n"
     ]
    },
    {
     "name": "stderr",
     "output_type": "stream",
     "text": [
      " 51%|█████     | 102/200 [00:50<00:49,  2.00it/s]"
     ]
    },
    {
     "name": "stdout",
     "output_type": "stream",
     "text": [
      "user 2, g: -0.0008650519031141872, ucb: 3.208741663349451, num_of_obs: 21, curr_delay = 0.0931995481438047, privacy reward: 0.8105842459701882\n",
      "user 8, g: 0.0, ucb: 3.2031932793833913, num_of_obs: 18, curr_delay = 0.16692538964316758, privacy reward: 0.8352702114112729\n",
      "user 9, g: 0.0, ucb: 3.2055080886261695, num_of_obs: 18, curr_delay = 0.14941278069693512, privacy reward: 0.8352702114112729\n",
      "user 27, g: 0.0008650519031141856, ucb: 3.204984555386983, num_of_obs: 15, curr_delay = 0.8651935993189392, privacy reward: 0.8607079764250586\n",
      "user 29, g: 0.0008650519031141856, ucb: 3.204136429474225, num_of_obs: 15, curr_delay = 0.9144060446826062, privacy reward: 0.8607079764250586\n",
      "max_delay = 0.91 seconds\n",
      "iteration103\n"
     ]
    },
    {
     "name": "stderr",
     "output_type": "stream",
     "text": [
      " 52%|█████▏    | 103/200 [00:51<00:48,  1.98it/s]"
     ]
    },
    {
     "name": "stdout",
     "output_type": "stream",
     "text": [
      "user 0, g: -0.005783873231323512, ucb: 3.1948184446303127, num_of_obs: 26, curr_delay = 0.06334995901680683, privacy reward: 0.7710515858035675\n",
      "user 3, g: -0.0013850923220326558, ucb: 3.226554269411504, num_of_obs: 22, curr_delay = 0.08112743424966212, privacy reward: 0.8025187979624795\n",
      "user 6, g: -6.545804924539985e-05, ucb: 3.1969273876294815, num_of_obs: 19, curr_delay = 0.11456328181849984, privacy reward: 0.8269591339433633\n",
      "user 7, g: -6.545804924539985e-05, ucb: 3.1861607207862654, num_of_obs: 19, curr_delay = 0.12750020652445915, privacy reward: 0.8269591339433633\n",
      "user 14, g: 0.00012829777652098332, ucb: 3.204574500433721, num_of_obs: 17, curr_delay = 0.19389441765101895, privacy reward: 0.8436648165963845\n",
      "max_delay = 0.19 seconds\n",
      "iteration104\n"
     ]
    },
    {
     "name": "stderr",
     "output_type": "stream",
     "text": [
      " 52%|█████▏    | 104/200 [00:51<00:47,  2.00it/s]"
     ]
    },
    {
     "name": "stdout",
     "output_type": "stream",
     "text": [
      "user 1, g: -0.004109138724523342, ucb: 3.18455311670033, num_of_obs: 25, curr_delay = 0.0686818091434625, privacy reward: 0.7788007830714061\n",
      "user 3, g: -0.002013477975016437, ucb: 3.168326372614926, num_of_obs: 23, curr_delay = 0.10000111533172876, privacy reward: 0.7945336025033352\n",
      "user 4, g: -0.0002568211702827087, ucb: 3.1685952590378204, num_of_obs: 20, curr_delay = 0.09308419288807977, privacy reward: 0.8187307530779828\n",
      "user 5, g: -0.0002568211702827087, ucb: 3.178346425607674, num_of_obs: 20, curr_delay = 0.11476998537316217, privacy reward: 0.8187307530779828\n",
      "user 10, g: 1.0272846811308277e-05, ucb: 3.175657991176994, num_of_obs: 18, curr_delay = 0.15878616733475628, privacy reward: 0.8352702114112729\n",
      "max_delay = 0.16 seconds\n",
      "iteration105\n"
     ]
    },
    {
     "name": "stderr",
     "output_type": "stream",
     "text": [
      " 52%|█████▎    | 105/200 [00:52<00:48,  1.96it/s]"
     ]
    },
    {
     "name": "stdout",
     "output_type": "stream",
     "text": [
      "user 2, g: -0.0011111111111111124, ucb: 3.1514810533663806, num_of_obs: 22, curr_delay = 0.07795735951407938, privacy reward: 0.8025187979624795\n",
      "user 9, g: -2.267573696145135e-05, ucb: 3.1329262935488877, num_of_obs: 19, curr_delay = 0.16190484651656523, privacy reward: 0.8269591339433633\n",
      "user 11, g: 2.2675736961451085e-05, ucb: 3.1546571951952713, num_of_obs: 18, curr_delay = 0.14448515685870958, privacy reward: 0.8352702114112729\n",
      "user 12, g: 2.2675736961451085e-05, ucb: 3.136802813567648, num_of_obs: 18, curr_delay = 0.1987916665495763, privacy reward: 0.8352702114112729\n",
      "user 13, g: 2.2675736961451085e-05, ucb: 3.1325155460525544, num_of_obs: 18, curr_delay = 0.20750016449587017, privacy reward: 0.8352702114112729\n",
      "max_delay = 0.21 seconds\n",
      "iteration106\n"
     ]
    },
    {
     "name": "stderr",
     "output_type": "stream",
     "text": [
      " 53%|█████▎    | 106/200 [00:52<00:47,  1.97it/s]"
     ]
    },
    {
     "name": "stdout",
     "output_type": "stream",
     "text": [
      "user 8, g: -9.88884933349155e-06, ucb: 3.1316243572611233, num_of_obs: 19, curr_delay = 0.15639138206502323, privacy reward: 0.8269591339433633\n",
      "user 14, g: 3.95553973339662e-05, ucb: 3.1254722318871373, num_of_obs: 18, curr_delay = 0.2125158894011585, privacy reward: 0.8352702114112729\n",
      "user 15, g: 0.0006328863573434592, ucb: 3.124313275795831, num_of_obs: 16, curr_delay = 0.7243081005328593, privacy reward: 0.8521437889662121\n",
      "user 16, g: 0.0006328863573434592, ucb: 3.122177596811526, num_of_obs: 16, curr_delay = 0.7329230041044367, privacy reward: 0.8521437889662121\n",
      "user 17, g: 0.0006328863573434592, ucb: 3.1217507743233694, num_of_obs: 16, curr_delay = 0.7354682400118447, privacy reward: 0.8521437889662121\n",
      "max_delay = 0.74 seconds\n",
      "iteration107\n"
     ]
    },
    {
     "name": "stderr",
     "output_type": "stream",
     "text": [
      " 54%|█████▎    | 107/200 [00:53<00:46,  1.99it/s]"
     ]
    },
    {
     "name": "stdout",
     "output_type": "stream",
     "text": [
      "user 6, g: -0.00011888471579274273, ucb: 3.134885906994015, num_of_obs: 20, curr_delay = 0.12183674602693853, privacy reward: 0.8187307530779828\n",
      "user 7, g: -0.00011888471579274273, ucb: 3.12235518137046, num_of_obs: 20, curr_delay = 0.134982444452406, privacy reward: 0.8187307530779828\n",
      "user 18, g: 0.0007011772013082173, ucb: 3.1234869477376783, num_of_obs: 16, curr_delay = 0.7866297793168959, privacy reward: 0.8521437889662121\n",
      "user 19, g: 0.0007011772013082173, ucb: 3.1221636405465936, num_of_obs: 16, curr_delay = 0.7591945237964328, privacy reward: 0.8521437889662121\n",
      "user 20, g: 0.0007011772013082173, ucb: 3.121213720510466, num_of_obs: 16, curr_delay = 0.7850385315950671, privacy reward: 0.8521437889662121\n",
      "max_delay = 0.79 seconds\n",
      "iteration108\n"
     ]
    },
    {
     "name": "stderr",
     "output_type": "stream",
     "text": [
      " 54%|█████▍    | 108/200 [00:53<00:46,  1.99it/s]"
     ]
    },
    {
     "name": "stdout",
     "output_type": "stream",
     "text": [
      "user 21, g: 0.000771604938271604, ucb: 3.1231398222779005, num_of_obs: 16, curr_delay = 0.7628547497048632, privacy reward: 0.8521437889662121\n",
      "user 22, g: 0.000771604938271604, ucb: 3.1220582406606407, num_of_obs: 16, curr_delay = 0.797993146858684, privacy reward: 0.8521437889662121\n",
      "user 23, g: 0.000771604938271604, ucb: 3.121141595765864, num_of_obs: 16, curr_delay = 0.7974391413899038, privacy reward: 0.8521437889662121\n",
      "user 24, g: 0.000771604938271604, ucb: 3.120048978787024, num_of_obs: 16, curr_delay = 0.836210659676138, privacy reward: 0.8521437889662121\n",
      "user 25, g: 0.000771604938271604, ucb: 3.119039774935437, num_of_obs: 16, curr_delay = 0.8616212730218962, privacy reward: 0.8521437889662121\n",
      "max_delay = 0.86 seconds\n",
      "iteration109\n"
     ]
    },
    {
     "name": "stderr",
     "output_type": "stream",
     "text": [
      " 55%|█████▍    | 109/200 [00:54<00:45,  2.01it/s]"
     ]
    },
    {
     "name": "stdout",
     "output_type": "stream",
     "text": [
      "user 5, g: -0.00028289799773681667, ucb: 3.1213530228271633, num_of_obs: 21, curr_delay = 0.1310825936848075, privacy reward: 0.8105842459701882\n",
      "user 26, g: 0.000844017993247855, ucb: 3.1211264503897738, num_of_obs: 16, curr_delay = 0.8647762177427915, privacy reward: 0.8521437889662121\n",
      "user 27, g: 0.000844017993247855, ucb: 3.120045440748424, num_of_obs: 16, curr_delay = 0.8594934100787479, privacy reward: 0.8521437889662121\n",
      "user 28, g: 0.000844017993247855, ucb: 3.1203662805651575, num_of_obs: 16, curr_delay = 0.9159805256518074, privacy reward: 0.8521437889662121\n",
      "user 29, g: 0.000844017993247855, ucb: 3.1190465078689615, num_of_obs: 16, curr_delay = 0.9015774224030623, privacy reward: 0.8521437889662121\n",
      "max_delay = 0.92 seconds\n",
      "iteration110\n"
     ]
    },
    {
     "name": "stderr",
     "output_type": "stream",
     "text": [
      " 55%|█████▌    | 110/200 [00:54<00:44,  2.01it/s]"
     ]
    },
    {
     "name": "stdout",
     "output_type": "stream",
     "text": [
      "user 0, g: -0.004857667584940313, ucb: 3.1635505922804446, num_of_obs: 27, curr_delay = 0.05440843274594928, privacy reward: 0.7633794943368545\n",
      "user 1, g: -0.0036730945821854917, ucb: 3.148200727255465, num_of_obs: 26, curr_delay = 0.067181568512383, privacy reward: 0.7710515858035675\n",
      "user 3, g: -0.0017998163452708903, ucb: 3.1212302364574986, num_of_obs: 24, curr_delay = 0.0655374364022067, privacy reward: 0.7866278610665545\n",
      "user 4, g: -0.00022956841138659364, ucb: 3.1197448639407783, num_of_obs: 21, curr_delay = 0.11479543689236438, privacy reward: 0.8105842459701882\n",
      "user 10, g: 9.182736455463678e-06, ucb: 3.111863714490411, num_of_obs: 19, curr_delay = 0.16924392337865637, privacy reward: 0.8269591339433633\n",
      "max_delay = 0.17 seconds\n",
      "iteration111\n"
     ]
    },
    {
     "name": "stderr",
     "output_type": "stream",
     "text": [
      " 56%|█████▌    | 111/200 [00:55<00:44,  1.99it/s]"
     ]
    },
    {
     "name": "stdout",
     "output_type": "stream",
     "text": [
      "user 1, g: -0.004565376186997809, ucb: 3.1032070231292104, num_of_obs: 27, curr_delay = 0.05, privacy reward: 0.7633794943368545\n",
      "user 2, g: -0.0009942374807239678, ucb: 3.1103008454981795, num_of_obs: 23, curr_delay = 0.06626743186487302, privacy reward: 0.7945336025033352\n",
      "user 3, g: -0.002455157860563268, ucb: 3.076336263076432, num_of_obs: 25, curr_delay = 0.11551986630999685, privacy reward: 0.7788007830714061\n",
      "user 6, g: -0.00018261504747991238, ucb: 3.0760736699251536, num_of_obs: 21, curr_delay = 0.11850602564329496, privacy reward: 0.8105842459701882\n",
      "user 11, g: 2.029056083110121e-05, ucb: 3.09367018873393, num_of_obs: 19, curr_delay = 0.17488568816849, privacy reward: 0.8269591339433633\n",
      "max_delay = 0.17 seconds\n",
      "iteration112\n"
     ]
    },
    {
     "name": "stderr",
     "output_type": "stream",
     "text": [
      " 56%|█████▌    | 112/200 [00:55<00:45,  1.94it/s]"
     ]
    },
    {
     "name": "stdout",
     "output_type": "stream",
     "text": [
      "user 1, g: -0.005536068594104311, ucb: 3.070248995258697, num_of_obs: 28, curr_delay = 0.06085886065175046, privacy reward: 0.7557837414557268\n",
      "user 8, g: -8.857709750566995e-06, ucb: 3.071975121348114, num_of_obs: 20, curr_delay = 0.1375870747526454, privacy reward: 0.8187307530779828\n",
      "user 9, g: -8.857709750566995e-06, ucb: 3.0753210575135603, num_of_obs: 20, curr_delay = 0.15152599299891426, privacy reward: 0.8187307530779828\n",
      "user 12, g: 3.5430839002267324e-05, ucb: 3.0742220882296967, num_of_obs: 19, curr_delay = 0.20723319638255738, privacy reward: 0.8269591339433633\n",
      "user 13, g: 3.5430839002267324e-05, ucb: 3.0695865615032565, num_of_obs: 19, curr_delay = 0.18371994230499114, privacy reward: 0.8269591339433633\n",
      "max_delay = 0.21 seconds\n",
      "iteration113\n"
     ]
    },
    {
     "name": "stderr",
     "output_type": "stream",
     "text": [
      " 56%|█████▋    | 113/200 [00:56<00:44,  1.95it/s]"
     ]
    },
    {
     "name": "stdout",
     "output_type": "stream",
     "text": [
      "user 2, g: -0.0013596296586350638, ucb: 3.0670487857231743, num_of_obs: 24, curr_delay = 0.08174070189376018, privacy reward: 0.7866278610665545\n",
      "user 4, g: -0.00036764385969492166, ucb: 3.0617835034592393, num_of_obs: 22, curr_delay = 0.10024328959863595, privacy reward: 0.8025187979624795\n",
      "user 5, g: -0.00036764385969492166, ucb: 3.0631958617172637, num_of_obs: 22, curr_delay = 0.09472687762174978, privacy reward: 0.8025187979624795\n",
      "user 7, g: -0.00010659496523698903, ucb: 3.0672054483274787, num_of_obs: 21, curr_delay = 0.15881730561042628, privacy reward: 0.8105842459701882\n",
      "user 14, g: 5.438518634540239e-05, ucb: 3.062503930145001, num_of_obs: 19, curr_delay = 0.18380044964885764, privacy reward: 0.8269591339433633\n",
      "max_delay = 0.18 seconds\n",
      "iteration114\n"
     ]
    },
    {
     "name": "stderr",
     "output_type": "stream",
     "text": [
      " 57%|█████▋    | 114/200 [00:56<00:44,  1.94it/s]"
     ]
    },
    {
     "name": "stdout",
     "output_type": "stream",
     "text": [
      "user 10, g: 0.0, ucb: 3.046622679705346, num_of_obs: 20, curr_delay = 0.1744248926779114, privacy reward: 0.8187307530779828\n",
      "user 15, g: 0.0006925207756232686, ucb: 3.050234279232933, num_of_obs: 17, curr_delay = 0.6946298897882527, privacy reward: 0.8436648165963845\n",
      "user 16, g: 0.0006925207756232686, ucb: 3.0481813672500246, num_of_obs: 17, curr_delay = 0.706471585001471, privacy reward: 0.8436648165963845\n",
      "user 17, g: 0.0006925207756232686, ucb: 3.0477664656043, num_of_obs: 17, curr_delay = 0.7487714083553115, privacy reward: 0.8436648165963845\n",
      "user 18, g: 0.0006925207756232686, ucb: 3.0462368114256755, num_of_obs: 17, curr_delay = 0.756299569155279, privacy reward: 0.8436648165963845\n",
      "max_delay = 0.76 seconds\n",
      "iteration115\n"
     ]
    },
    {
     "name": "stderr",
     "output_type": "stream",
     "text": [
      " 57%|█████▊    | 115/200 [00:57<00:42,  1.98it/s]"
     ]
    },
    {
     "name": "stdout",
     "output_type": "stream",
     "text": [
      "user 19, g: 0.0007582440663726101, ucb: 3.047886102733793, num_of_obs: 17, curr_delay = 0.7932346676146403, privacy reward: 0.8436648165963845\n",
      "user 20, g: 0.0007582440663726101, ucb: 3.046860044416186, num_of_obs: 17, curr_delay = 0.7658193214377493, privacy reward: 0.8436648165963845\n",
      "user 21, g: 0.0007582440663726101, ucb: 3.045930209410273, num_of_obs: 17, curr_delay = 0.7974627466153574, privacy reward: 0.8436648165963845\n",
      "user 22, g: 0.0007582440663726101, ucb: 3.044735845576661, num_of_obs: 17, curr_delay = 0.8106823015360509, privacy reward: 0.8436648165963845\n",
      "user 23, g: 0.0007582440663726101, ucb: 3.0438792116045303, num_of_obs: 17, curr_delay = 0.821683834255313, privacy reward: 0.8436648165963845\n",
      "max_delay = 0.82 seconds\n",
      "iteration116\n"
     ]
    },
    {
     "name": "stderr",
     "output_type": "stream",
     "text": [
      " 58%|█████▊    | 116/200 [00:57<00:43,  1.94it/s]"
     ]
    },
    {
     "name": "stdout",
     "output_type": "stream",
     "text": [
      "user 24, g: 0.0008257365570088515, ucb: 3.045393244823922, num_of_obs: 17, curr_delay = 0.8347014778954105, privacy reward: 0.8436648165963845\n",
      "user 25, g: 0.0008257365570088515, ucb: 3.0443369031538974, num_of_obs: 17, curr_delay = 0.8865857941555607, privacy reward: 0.8436648165963845\n",
      "user 26, g: 0.0008257365570088515, ucb: 3.0434576874682198, num_of_obs: 17, curr_delay = 0.8398485381088531, privacy reward: 0.8436648165963845\n",
      "user 27, g: 0.0008257365570088515, ucb: 3.042466451950936, num_of_obs: 17, curr_delay = 0.8659207323360975, privacy reward: 0.8436648165963845\n",
      "user 28, g: 0.0008257365570088515, ucb: 3.0425430211993936, num_of_obs: 17, curr_delay = 0.8814086554685272, privacy reward: 0.8436648165963845\n",
      "max_delay = 0.89 seconds\n",
      "iteration117\n"
     ]
    },
    {
     "name": "stderr",
     "output_type": "stream",
     "text": [
      " 58%|█████▊    | 117/200 [00:58<00:42,  1.95it/s]"
     ]
    },
    {
     "name": "stdout",
     "output_type": "stream",
     "text": [
      "user 0, g: -0.004109138724523342, ucb: 3.1380870422184466, num_of_obs: 28, curr_delay = 0.05, privacy reward: 0.7557837414557268\n",
      "user 1, g: -0.005277960406165537, ucb: 3.040837116720107, num_of_obs: 29, curr_delay = 0.06070468125213982, privacy reward: 0.7482635675785665\n",
      "user 3, g: -0.0022098034918547737, ucb: 3.031876378172411, num_of_obs: 26, curr_delay = 0.09188996882542978, privacy reward: 0.7710515858035675\n",
      "user 11, g: 1.8262838775659157e-05, ucb: 3.033822460065956, num_of_obs: 20, curr_delay = 0.18906659312214244, privacy reward: 0.8187307530779828\n",
      "user 29, g: 0.0008948791000073038, ucb: 3.0440545035845497, num_of_obs: 17, curr_delay = 0.8937393493111112, privacy reward: 0.8436648165963845\n",
      "max_delay = 0.89 seconds\n",
      "iteration118\n"
     ]
    },
    {
     "name": "stderr",
     "output_type": "stream",
     "text": [
      " 59%|█████▉    | 118/200 [00:58<00:41,  1.95it/s]"
     ]
    },
    {
     "name": "stdout",
     "output_type": "stream",
     "text": [
      "user 2, g: -0.0013485907625522696, ucb: 3.027031137893474, num_of_obs: 25, curr_delay = 0.09604265155570121, privacy reward: 0.7788007830714061\n",
      "user 5, g: -0.0003910115228701847, ucb: 3.0179277671563334, num_of_obs: 23, curr_delay = 0.11213872856332104, privacy reward: 0.7945336025033352\n",
      "user 6, g: -0.00012767723195761133, ucb: 3.0289826178719053, num_of_obs: 22, curr_delay = 0.1275444586806453, privacy reward: 0.8025187979624795\n",
      "user 8, g: -7.979826997350708e-06, ucb: 3.0185809459672104, num_of_obs: 21, curr_delay = 0.1200523094471559, privacy reward: 0.8105842459701882\n",
      "user 9, g: -7.979826997350708e-06, ucb: 3.020088093319459, num_of_obs: 21, curr_delay = 0.17252728994975083, privacy reward: 0.8105842459701882\n",
      "max_delay = 0.17 seconds\n",
      "iteration119\n"
     ]
    },
    {
     "name": "stderr",
     "output_type": "stream",
     "text": [
      " 60%|█████▉    | 119/200 [00:59<00:42,  1.91it/s]"
     ]
    },
    {
     "name": "stdout",
     "output_type": "stream",
     "text": [
      "user 0, g: -0.00470972702806613, ucb: 3.106446085618537, num_of_obs: 29, curr_delay = 0.0528057597956665, privacy reward: 0.7482635675785665\n",
      "user 4, g: -0.0003315051510800405, ucb: 3.017514166888324, num_of_obs: 23, curr_delay = 0.09661357139903562, privacy reward: 0.7945336025033352\n",
      "user 7, g: -9.611687812379895e-05, ucb: 3.0129504165732226, num_of_obs: 22, curr_delay = 0.139181969488747, privacy reward: 0.8025187979624795\n",
      "user 12, g: 4.9039223532550315e-05, ucb: 3.015398634261533, num_of_obs: 20, curr_delay = 0.19561697677927792, privacy reward: 0.8187307530779828\n",
      "user 13, g: 4.9039223532550315e-05, ucb: 3.0126323077003865, num_of_obs: 20, curr_delay = 0.21223079002911344, privacy reward: 0.8187307530779828\n",
      "max_delay = 0.21 seconds\n",
      "iteration120\n"
     ]
    },
    {
     "name": "stderr",
     "output_type": "stream",
     "text": [
      " 60%|██████    | 120/200 [01:00<00:41,  1.91it/s]"
     ]
    },
    {
     "name": "stdout",
     "output_type": "stream",
     "text": [
      "user 0, g: -0.0056250000000000015, ucb: 3.0725960310029583, num_of_obs: 30, curr_delay = 0.07738538019209765, privacy reward: 0.7408182206817193\n",
      "user 1, g: -0.0056250000000000015, ucb: 3.0088786984959626, num_of_obs: 30, curr_delay = 0.07705951449442708, privacy reward: 0.7408182206817193\n",
      "user 3, g: -0.002500000000000002, ucb: 2.98793755179228, num_of_obs: 27, curr_delay = 0.07722972831780787, privacy reward: 0.7633794943368545\n",
      "user 10, g: 0.0, ucb: 2.990507802523736, num_of_obs: 21, curr_delay = 0.18582686390610406, privacy reward: 0.8105842459701882\n",
      "user 14, g: 6.944444444444442e-05, ucb: 3.005818865200325, num_of_obs: 20, curr_delay = 0.18406901813711557, privacy reward: 0.8187307530779828\n",
      "max_delay = 0.19 seconds\n",
      "iteration121\n"
     ]
    },
    {
     "name": "stderr",
     "output_type": "stream",
     "text": [
      " 60%|██████    | 121/200 [01:00<00:41,  1.92it/s]"
     ]
    },
    {
     "name": "stdout",
     "output_type": "stream",
     "text": [
      "user 15, g: 0.0006849107149633063, ucb: 2.9794924639749887, num_of_obs: 18, curr_delay = 0.6993025685346524, privacy reward: 0.8352702114112729\n",
      "user 16, g: 0.0006849107149633063, ucb: 2.97748933956099, num_of_obs: 18, curr_delay = 0.7287283009468712, privacy reward: 0.8352702114112729\n",
      "user 17, g: 0.0006849107149633063, ucb: 2.9768636556093875, num_of_obs: 18, curr_delay = 0.7465597544171, privacy reward: 0.8352702114112729\n",
      "user 18, g: 0.0006849107149633063, ucb: 2.9753848819790045, num_of_obs: 18, curr_delay = 0.7810413184130531, privacy reward: 0.8352702114112729\n",
      "user 19, g: 0.0006849107149633063, ucb: 2.9741712963128077, num_of_obs: 18, curr_delay = 0.7796376629788511, privacy reward: 0.8352702114112729\n",
      "max_delay = 0.78 seconds\n",
      "iteration122\n"
     ]
    },
    {
     "name": "stderr",
     "output_type": "stream",
     "text": [
      " 61%|██████    | 122/200 [01:01<00:40,  1.92it/s]"
     ]
    },
    {
     "name": "stdout",
     "output_type": "stream",
     "text": [
      "user 11, g: 7.465137806443923e-06, ucb: 2.9747454611288706, num_of_obs: 21, curr_delay = 0.18482766369435094, privacy reward: 0.8105842459701882\n",
      "user 20, g: 0.0007465137806443908, ucb: 2.9758335910625884, num_of_obs: 18, curr_delay = 0.7673212453853591, privacy reward: 0.8352702114112729\n",
      "user 21, g: 0.0007465137806443908, ucb: 2.9748060582413176, num_of_obs: 18, curr_delay = 0.8442378037276413, privacy reward: 0.8352702114112729\n",
      "user 22, g: 0.0007465137806443908, ucb: 2.973621809248634, num_of_obs: 18, curr_delay = 0.8266772050705026, privacy reward: 0.8352702114112729\n",
      "user 23, g: 0.0007465137806443908, ucb: 2.9727669898352813, num_of_obs: 18, curr_delay = 0.8211529886309306, privacy reward: 0.8352702114112729\n",
      "max_delay = 0.84 seconds\n",
      "iteration123\n"
     ]
    },
    {
     "name": "stderr",
     "output_type": "stream",
     "text": [
      " 62%|██████▏   | 123/200 [01:01<00:40,  1.90it/s]"
     ]
    },
    {
     "name": "stdout",
     "output_type": "stream",
     "text": [
      "user 24, g: 0.0008097032189834087, ucb: 2.974048863868468, num_of_obs: 18, curr_delay = 0.8489722212723958, privacy reward: 0.8352702114112729\n",
      "user 25, g: 0.0008097032189834087, ucb: 2.9728484520766547, num_of_obs: 18, curr_delay = 0.8435640016266261, privacy reward: 0.8352702114112729\n",
      "user 26, g: 0.0008097032189834087, ucb: 2.972205568077897, num_of_obs: 18, curr_delay = 0.8434228483748893, privacy reward: 0.8352702114112729\n",
      "user 27, g: 0.0008097032189834087, ucb: 2.9711671970943265, num_of_obs: 18, curr_delay = 0.8794480945469484, privacy reward: 0.8352702114112729\n",
      "user 28, g: 0.0008097032189834087, ucb: 2.971179578146082, num_of_obs: 18, curr_delay = 0.8808797209998269, privacy reward: 0.8352702114112729\n",
      "max_delay = 0.88 seconds\n",
      "iteration124\n"
     ]
    },
    {
     "name": "stderr",
     "output_type": "stream",
     "text": [
      " 62%|██████▏   | 124/200 [01:02<00:39,  1.92it/s]"
     ]
    },
    {
     "name": "stdout",
     "output_type": "stream",
     "text": [
      "user 2, g: -0.0012212394496473578, ucb: 2.987520636125094, num_of_obs: 26, curr_delay = 0.08728340596169484, privacy reward: 0.7710515858035675\n",
      "user 4, g: -0.000354087177708406, ucb: 2.9744267291510256, num_of_obs: 24, curr_delay = 0.09955137092878329, privacy reward: 0.7866278610665545\n",
      "user 5, g: -0.000354087177708406, ucb: 2.973863988554569, num_of_obs: 24, curr_delay = 0.12465144289128037, privacy reward: 0.7866278610665545\n",
      "user 6, g: -0.00011562030292519405, ucb: 2.980986540207746, num_of_obs: 23, curr_delay = 0.13071334163290346, privacy reward: 0.7945336025033352\n",
      "user 29, g: 0.0008743785408717771, ucb: 2.972471018121296, num_of_obs: 18, curr_delay = 0.8794472719824253, privacy reward: 0.8352702114112729\n",
      "max_delay = 0.88 seconds\n",
      "iteration125\n"
     ]
    },
    {
     "name": "stderr",
     "output_type": "stream",
     "text": [
      " 62%|██████▎   | 125/200 [01:02<00:39,  1.88it/s]"
     ]
    },
    {
     "name": "stdout",
     "output_type": "stream",
     "text": [
      "user 0, g: -0.005377777777777778, ucb: 3.0377983525839003, num_of_obs: 31, curr_delay = 0.06712867080619916, privacy reward: 0.7334469562242907\n",
      "user 1, g: -0.005377777777777778, ucb: 2.9762960067953426, num_of_obs: 31, curr_delay = 0.07841715061544104, privacy reward: 0.7334469562242907\n",
      "user 7, g: -8.711111111111109e-05, ucb: 2.9641253138816466, num_of_obs: 23, curr_delay = 0.10149235474091337, privacy reward: 0.7945336025033352\n",
      "user 8, g: -1.7777777777778303e-06, ucb: 2.9733075554064166, num_of_obs: 22, curr_delay = 0.143310958492728, privacy reward: 0.8025187979624795\n",
      "user 9, g: -1.7777777777778303e-06, ucb: 2.968710748508887, num_of_obs: 22, curr_delay = 0.1452010549096352, privacy reward: 0.8025187979624795\n",
      "max_delay = 0.15 seconds\n",
      "iteration126\n"
     ]
    },
    {
     "name": "stderr",
     "output_type": "stream",
     "text": [
      " 63%|██████▎   | 126/200 [01:03<00:38,  1.91it/s]"
     ]
    },
    {
     "name": "stdout",
     "output_type": "stream",
     "text": [
      "user 0, g: -0.006298815822625346, ucb: 3.0007653028757018, num_of_obs: 32, curr_delay = 0.050775461651649284, privacy reward: 0.7261490370736924\n",
      "user 3, g: -0.0022675736961451243, ucb: 2.9560882004095386, num_of_obs: 28, curr_delay = 0.10100735070901859, privacy reward: 0.7557837414557268\n",
      "user 12, g: 6.298815822625346e-05, ucb: 2.961166605200219, num_of_obs: 21, curr_delay = 0.18840955257229614, privacy reward: 0.8105842459701882\n",
      "user 13, g: 6.298815822625346e-05, ucb: 2.9575381472451907, num_of_obs: 21, curr_delay = 0.180252964531942, privacy reward: 0.8105842459701882\n",
      "user 14, g: 6.298815822625346e-05, ucb: 2.9505838629108703, num_of_obs: 21, curr_delay = 0.19134073684819072, privacy reward: 0.8105842459701882\n",
      "max_delay = 0.19 seconds\n",
      "iteration127\n"
     ]
    },
    {
     "name": "stderr",
     "output_type": "stream",
     "text": [
      " 64%|██████▎   | 127/200 [01:03<00:37,  1.94it/s]"
     ]
    },
    {
     "name": "stdout",
     "output_type": "stream",
     "text": [
      "user 1, g: -0.00599506754569065, ucb: 2.939555483544905, num_of_obs: 32, curr_delay = 0.053416940115321034, privacy reward: 0.7261490370736924\n",
      "user 2, g: -0.0014483917856724607, ucb: 2.9462870689670893, num_of_obs: 27, curr_delay = 0.11136011390975274, privacy reward: 0.7633794943368545\n",
      "user 4, g: -0.0004977232176686579, ucb: 2.9291815695430063, num_of_obs: 25, curr_delay = 0.09452744068608522, privacy reward: 0.7788007830714061\n",
      "user 6, g: -0.00020838930566750082, ucb: 2.9293351755825836, num_of_obs: 24, curr_delay = 0.11886573834597018, privacy reward: 0.7866278610665545\n",
      "user 10, g: 1.7222256666735008e-06, ucb: 2.9393810939387754, num_of_obs: 22, curr_delay = 0.15563563187243956, privacy reward: 0.8025187979624795\n",
      "max_delay = 0.16 seconds\n",
      "iteration128\n"
     ]
    },
    {
     "name": "stderr",
     "output_type": "stream",
     "text": [
      " 64%|██████▍   | 128/200 [01:04<00:36,  1.97it/s]"
     ]
    },
    {
     "name": "stdout",
     "output_type": "stream",
     "text": [
      "user 7, g: -0.00016954210069444468, ucb: 2.917987124829356, num_of_obs: 24, curr_delay = 0.13259676853309665, privacy reward: 0.7866278610665545\n",
      "user 8, g: -2.7126736111111208e-05, ucb: 2.9193052055522424, num_of_obs: 23, curr_delay = 0.127667445584503, privacy reward: 0.7945336025033352\n",
      "user 9, g: -2.7126736111111208e-05, ucb: 2.914710910003423, num_of_obs: 23, curr_delay = 0.14428024732252326, privacy reward: 0.7945336025033352\n",
      "user 11, g: 6.78168402777773e-06, ucb: 2.9221653438993433, num_of_obs: 22, curr_delay = 0.20042824140156257, privacy reward: 0.8025187979624795\n",
      "user 15, g: 0.0006781684027777773, ucb: 2.9141211467804693, num_of_obs: 19, curr_delay = 0.6984070376541281, privacy reward: 0.8269591339433633\n",
      "max_delay = 0.70 seconds\n",
      "iteration129\n"
     ]
    },
    {
     "name": "stderr",
     "output_type": "stream",
     "text": [
      " 64%|██████▍   | 129/200 [01:04<00:36,  1.97it/s]"
     ]
    },
    {
     "name": "stdout",
     "output_type": "stream",
     "text": [
      "user 16, g: 0.000736133645814554, ucb: 2.9143485056719878, num_of_obs: 19, curr_delay = 0.7281026436547385, privacy reward: 0.8269591339433633\n",
      "user 17, g: 0.000736133645814554, ucb: 2.91366653737319, num_of_obs: 19, curr_delay = 0.7379332127123457, privacy reward: 0.8269591339433633\n",
      "user 18, g: 0.000736133645814554, ucb: 2.912105652518067, num_of_obs: 19, curr_delay = 0.7414269936343003, privacy reward: 0.8269591339433633\n",
      "user 19, g: 0.000736133645814554, ucb: 2.910965891391124, num_of_obs: 19, curr_delay = 0.79661436045933, privacy reward: 0.8269591339433633\n",
      "user 20, g: 0.000736133645814554, ucb: 2.910236389695147, num_of_obs: 19, curr_delay = 0.7773108261289603, privacy reward: 0.8269591339433633\n",
      "max_delay = 0.80 seconds\n",
      "iteration130\n"
     ]
    },
    {
     "name": "stderr",
     "output_type": "stream",
     "text": [
      " 65%|██████▌   | 130/200 [01:05<00:35,  1.96it/s]"
     ]
    },
    {
     "name": "stdout",
     "output_type": "stream",
     "text": [
      "user 21, g: 0.0007955292570677177, ucb: 2.9111963114757797, num_of_obs: 19, curr_delay = 0.8260931494099574, privacy reward: 0.8269591339433633\n",
      "user 22, g: 0.0007955292570677177, ucb: 2.9101477474763047, num_of_obs: 19, curr_delay = 0.7984932374571686, privacy reward: 0.8269591339433633\n",
      "user 23, g: 0.0007955292570677177, ucb: 2.909363023219483, num_of_obs: 19, curr_delay = 0.8248195128973623, privacy reward: 0.8269591339433633\n",
      "user 24, g: 0.0007955292570677177, ucb: 2.908127430403368, num_of_obs: 19, curr_delay = 0.8237549952904117, privacy reward: 0.8269591339433633\n",
      "user 25, g: 0.0007955292570677177, ucb: 2.9070146850069682, num_of_obs: 19, curr_delay = 0.8793315681576575, privacy reward: 0.8269591339433633\n",
      "max_delay = 0.88 seconds\n",
      "iteration131\n"
     ]
    },
    {
     "name": "stderr",
     "output_type": "stream",
     "text": [
      " 66%|██████▌   | 131/200 [01:05<00:36,  1.88it/s]"
     ]
    },
    {
     "name": "stdout",
     "output_type": "stream",
     "text": [
      "user 12, g: 4.046643228509089e-05, ucb: 2.906696235621494, num_of_obs: 22, curr_delay = 0.18986056418425495, privacy reward: 0.8025187979624795\n",
      "user 26, g: 0.0008562697071525219, ucb: 2.9086491648618953, num_of_obs: 19, curr_delay = 0.9086314990911416, privacy reward: 0.8269591339433633\n",
      "user 27, g: 0.0008562697071525219, ucb: 2.9075335696827604, num_of_obs: 19, curr_delay = 0.8789091030253934, privacy reward: 0.8269591339433633\n",
      "user 28, g: 0.0008562697071525219, ucb: 2.9075401295540613, num_of_obs: 19, curr_delay = 0.895904144555912, privacy reward: 0.8269591339433633\n",
      "user 29, g: 0.0008562697071525219, ucb: 2.9064504212544686, num_of_obs: 19, curr_delay = 0.9070299495328253, privacy reward: 0.8269591339433633\n",
      "max_delay = 0.91 seconds\n",
      "iteration132\n"
     ]
    },
    {
     "name": "stderr",
     "output_type": "stream",
     "text": [
      " 66%|██████▌   | 132/200 [01:06<00:35,  1.89it/s]"
     ]
    },
    {
     "name": "stdout",
     "output_type": "stream",
     "text": [
      "user 0, g: -0.005739210284664832, ucb: 2.981515286942529, num_of_obs: 33, curr_delay = 0.05482122755427303, privacy reward: 0.7189237334319276\n",
      "user 2, g: -0.0014348025711662092, ucb: 2.906391624185206, num_of_obs: 28, curr_delay = 0.06501175402543086, privacy reward: 0.7557837414557268\n",
      "user 3, g: -0.00206611570247934, ucb: 2.9201330172128923, num_of_obs: 29, curr_delay = 0.07091184852650409, privacy reward: 0.7482635675785665\n",
      "user 5, g: -0.00022956841138659364, ucb: 2.93421659636374, num_of_obs: 25, curr_delay = 0.11322287019780664, privacy reward: 0.7788007830714061\n",
      "user 13, g: 5.73921028466482e-05, ucb: 2.9058698632268287, num_of_obs: 22, curr_delay = 0.16098292842129008, privacy reward: 0.8025187979624795\n",
      "max_delay = 0.16 seconds\n",
      "iteration133\n"
     ]
    },
    {
     "name": "stderr",
     "output_type": "stream",
     "text": [
      " 66%|██████▋   | 133/200 [01:06<00:35,  1.91it/s]"
     ]
    },
    {
     "name": "stdout",
     "output_type": "stream",
     "text": [
      "user 0, g: -0.006634694505687777, ucb: 2.952599898341055, num_of_obs: 34, curr_delay = 0.06728576065101728, privacy reward: 0.7117703227626112\n",
      "user 1, g: -0.005466360135928794, ucb: 2.9206372864453964, num_of_obs: 33, curr_delay = 0.06329829269608932, privacy reward: 0.7189237334319276\n",
      "user 4, g: -0.00045382880760799234, ucb: 2.893345227238164, num_of_obs: 26, curr_delay = 0.12339963862001424, privacy reward: 0.7710515858035675\n",
      "user 10, g: 1.570341894837344e-06, ucb: 2.891684667147286, num_of_obs: 23, curr_delay = 0.167567767172254, privacy reward: 0.7945336025033352\n",
      "user 14, g: 7.694675284702985e-05, ucb: 2.900521656902075, num_of_obs: 22, curr_delay = 0.2015857021741449, privacy reward: 0.8025187979624795\n",
      "max_delay = 0.20 seconds\n",
      "iteration134\n"
     ]
    },
    {
     "name": "stderr",
     "output_type": "stream",
     "text": [
      " 67%|██████▋   | 134/200 [01:07<00:34,  1.90it/s]"
     ]
    },
    {
     "name": "stdout",
     "output_type": "stream",
     "text": [
      "user 0, g: -0.007580257914408063, ucb: 2.919980814765898, num_of_obs: 35, curr_delay = 0.05, privacy reward: 0.704688089718715\n",
      "user 1, g: -0.006336476819880696, ucb: 2.8898767472742914, num_of_obs: 34, curr_delay = 0.07715291131084269, privacy reward: 0.7117703227626112\n",
      "user 3, g: -0.0024751862577658966, ucb: 2.886300413272977, num_of_obs: 30, curr_delay = 0.09463998162200955, privacy reward: 0.7408182206817193\n",
      "user 5, g: -0.0003960298012425443, ucb: 2.8871430927738815, num_of_obs: 26, curr_delay = 0.11852349011122341, privacy reward: 0.7710515858035675\n",
      "user 6, g: -0.00015469914111036854, ucb: 2.8902068066987385, num_of_obs: 25, curr_delay = 0.11328342437826064, privacy reward: 0.7788007830714061\n",
      "max_delay = 0.12 seconds\n",
      "iteration135\n"
     ]
    },
    {
     "name": "stderr",
     "output_type": "stream",
     "text": [
      " 68%|██████▊   | 135/200 [01:07<00:33,  1.94it/s]"
     ]
    },
    {
     "name": "stdout",
     "output_type": "stream",
     "text": [
      "user 2, g: -0.0016598079561042527, ucb: 2.8765322774446482, num_of_obs: 29, curr_delay = 0.07038669815389818, privacy reward: 0.7482635675785665\n",
      "user 7, g: -0.00012345679012345715, ucb: 2.8774445798769537, num_of_obs: 25, curr_delay = 0.13455581049670218, privacy reward: 0.7788007830714061\n",
      "user 8, g: -1.3717421124828571e-05, ucb: 2.8784691808937497, num_of_obs: 24, curr_delay = 0.13446074396615085, privacy reward: 0.7866278610665545\n",
      "user 9, g: -1.3717421124828571e-05, ucb: 2.8721139966719975, num_of_obs: 24, curr_delay = 0.15561077984441238, privacy reward: 0.7866278610665545\n",
      "user 11, g: 1.3717421124828366e-05, ucb: 2.8738937177846, num_of_obs: 23, curr_delay = 0.17164449003146537, privacy reward: 0.7945336025033352\n",
      "max_delay = 0.17 seconds\n",
      "iteration136\n"
     ]
    },
    {
     "name": "stderr",
     "output_type": "stream",
     "text": [
      " 68%|██████▊   | 136/200 [01:08<00:32,  1.96it/s]"
     ]
    },
    {
     "name": "stdout",
     "output_type": "stream",
     "text": [
      "user 12, g: 2.4029219530949463e-05, ucb: 2.855711238793728, num_of_obs: 23, curr_delay = 0.17646486480525025, privacy reward: 0.7945336025033352\n",
      "user 13, g: 2.4029219530949463e-05, ucb: 2.8551057952621224, num_of_obs: 23, curr_delay = 0.2168860137374783, privacy reward: 0.7945336025033352\n",
      "user 15, g: 0.0007268838908112258, ucb: 2.8555756317823673, num_of_obs: 20, curr_delay = 0.6913661532236192, privacy reward: 0.8187307530779828\n",
      "user 16, g: 0.0007268838908112258, ucb: 2.8534777318223243, num_of_obs: 20, curr_delay = 0.7253778340402732, privacy reward: 0.8187307530779828\n",
      "user 17, g: 0.0007268838908112258, ucb: 2.852783507799797, num_of_obs: 20, curr_delay = 0.7280313131606033, privacy reward: 0.8187307530779828\n",
      "max_delay = 0.73 seconds\n",
      "iteration137\n"
     ]
    },
    {
     "name": "stderr",
     "output_type": "stream",
     "text": [
      " 68%|██████▊   | 137/200 [01:08<00:33,  1.90it/s]"
     ]
    },
    {
     "name": "stdout",
     "output_type": "stream",
     "text": [
      "user 18, g: 0.0007829103545444316, ucb: 2.8533638546781717, num_of_obs: 20, curr_delay = 0.7762447880241503, privacy reward: 0.8187307530779828\n",
      "user 19, g: 0.0007829103545444316, ucb: 2.8520381917237225, num_of_obs: 20, curr_delay = 0.7532076688409676, privacy reward: 0.8187307530779828\n",
      "user 20, g: 0.0007829103545444316, ucb: 2.851429121970548, num_of_obs: 20, curr_delay = 0.7818632348951416, privacy reward: 0.8187307530779828\n",
      "user 21, g: 0.0007829103545444316, ucb: 2.8499973711477398, num_of_obs: 20, curr_delay = 0.7902412875749835, privacy reward: 0.8187307530779828\n",
      "user 22, g: 0.0007829103545444316, ucb: 2.8491141039854084, num_of_obs: 20, curr_delay = 0.8046865187372872, privacy reward: 0.8187307530779828\n",
      "max_delay = 0.80 seconds\n",
      "iteration138\n"
     ]
    },
    {
     "name": "stderr",
     "output_type": "stream",
     "text": [
      " 69%|██████▉   | 138/200 [01:09<00:32,  1.90it/s]"
     ]
    },
    {
     "name": "stdout",
     "output_type": "stream",
     "text": [
      "user 14, g: 5.250997689561023e-05, ucb: 2.8490523872240026, num_of_obs: 23, curr_delay = 0.1916953992735421, privacy reward: 0.7945336025033352\n",
      "user 23, g: 0.0008401596303297621, ucb: 2.850324749522261, num_of_obs: 20, curr_delay = 0.8188539556948848, privacy reward: 0.8187307530779828\n",
      "user 24, g: 0.0008401596303297621, ucb: 2.8491583108968337, num_of_obs: 20, curr_delay = 0.811096446543633, privacy reward: 0.8187307530779828\n",
      "user 25, g: 0.0008401596303297621, ucb: 2.847902221228377, num_of_obs: 20, curr_delay = 0.8496634126241353, privacy reward: 0.8187307530779828\n",
      "user 26, g: 0.0008401596303297621, ucb: 2.847231027932711, num_of_obs: 20, curr_delay = 0.8761519398095527, privacy reward: 0.8187307530779828\n",
      "max_delay = 0.88 seconds\n",
      "iteration139\n"
     ]
    },
    {
     "name": "stderr",
     "output_type": "stream",
     "text": [
      " 70%|██████▉   | 139/200 [01:09<00:31,  1.94it/s]"
     ]
    },
    {
     "name": "stdout",
     "output_type": "stream",
     "text": [
      "user 5, g: -0.0004154949421757563, ucb: 2.8473631106569264, num_of_obs: 27, curr_delay = 0.11875903824345356, privacy reward: 0.7633794943368545\n",
      "user 6, g: -0.00017396155018431302, ucb: 2.850284618534394, num_of_obs: 26, curr_delay = 0.12035456301007735, privacy reward: 0.7710515858035675\n",
      "user 27, g: 0.0008985617261586402, ucb: 2.848314977765468, num_of_obs: 20, curr_delay = 0.8874665348472837, privacy reward: 0.8187307530779828\n",
      "user 28, g: 0.0008985617261586402, ucb: 2.8482643943696675, num_of_obs: 20, curr_delay = 0.8865501378222447, privacy reward: 0.8187307530779828\n",
      "user 29, g: 0.0008985617261586402, ucb: 2.847196009104367, num_of_obs: 20, curr_delay = 0.9153101042071846, privacy reward: 0.8187307530779828\n",
      "max_delay = 0.92 seconds\n",
      "iteration140\n"
     ]
    },
    {
     "name": "stderr",
     "output_type": "stream",
     "text": [
      " 70%|███████   | 140/200 [01:10<00:31,  1.92it/s]"
     ]
    },
    {
     "name": "stdout",
     "output_type": "stream",
     "text": [
      "user 1, g: -0.00580498866213152, ucb: 2.86401572723534, num_of_obs: 35, curr_delay = 0.10159935741690276, privacy reward: 0.704688089718715\n",
      "user 2, g: -0.0016383219954648545, ucb: 2.849351336043475, num_of_obs: 30, curr_delay = 0.09407280647712374, privacy reward: 0.7408182206817193\n",
      "user 3, g: -0.0022675736961451243, ucb: 2.8547728696398478, num_of_obs: 31, curr_delay = 0.10246459890453138, privacy reward: 0.7334469562242907\n",
      "user 4, g: -0.00036281179138322056, ucb: 2.8562013876007617, num_of_obs: 27, curr_delay = 0.13929059355336523, privacy reward: 0.7633794943368545\n",
      "user 10, g: 5.668934240362771e-06, ucb: 2.8476579348059947, num_of_obs: 24, curr_delay = 0.16518387064748136, privacy reward: 0.7866278610665545\n",
      "max_delay = 0.17 seconds\n",
      "iteration141\n"
     ]
    },
    {
     "name": "stderr",
     "output_type": "stream",
     "text": [
      " 70%|███████   | 141/200 [01:10<00:30,  1.95it/s]"
     ]
    },
    {
     "name": "stdout",
     "output_type": "stream",
     "text": [
      "user 0, g: -0.006652079875257785, ucb: 2.9052301757571186, num_of_obs: 36, curr_delay = 0.05, privacy reward: 0.6976763260710326\n",
      "user 7, g: -0.00011317338162064315, ucb: 2.83695948564369, num_of_obs: 26, curr_delay = 0.14472177110538817, privacy reward: 0.7710515858035675\n",
      "user 8, g: -1.2574820180071461e-05, ucb: 2.8371149600195595, num_of_obs: 25, curr_delay = 0.14808473179753393, privacy reward: 0.7788007830714061\n",
      "user 9, g: -1.2574820180071461e-05, ucb: 2.8289186899908128, num_of_obs: 25, curr_delay = 0.15472713008000938, privacy reward: 0.7788007830714061\n",
      "user 11, g: 1.2574820180071264e-05, ucb: 2.8283934824488286, num_of_obs: 24, curr_delay = 0.16730471138858272, privacy reward: 0.7866278610665545\n",
      "max_delay = 0.17 seconds\n",
      "iteration142\n"
     ]
    },
    {
     "name": "stderr",
     "output_type": "stream",
     "text": [
      " 71%|███████   | 142/200 [01:11<00:29,  1.98it/s]"
     ]
    },
    {
     "name": "stdout",
     "output_type": "stream",
     "text": [
      "user 2, g: -0.0019892437567502045, ucb: 2.812641578591234, num_of_obs: 31, curr_delay = 0.07656997514182678, privacy reward: 0.7334469562242907\n",
      "user 4, g: -0.0005510370517313587, ucb: 2.810874157964454, num_of_obs: 28, curr_delay = 0.1131677037600824, privacy reward: 0.7557837414557268\n",
      "user 6, g: -0.00027000815534836614, ucb: 2.808131001840893, num_of_obs: 27, curr_delay = 0.13039365867090522, privacy reward: 0.7633794943368545\n",
      "user 12, g: 2.204148206925419e-05, ucb: 2.8106087475371897, num_of_obs: 24, curr_delay = 0.17601337016269725, privacy reward: 0.7866278610665545\n",
      "user 13, g: 2.204148206925419e-05, ucb: 2.807733685029956, num_of_obs: 24, curr_delay = 0.1916441458416621, privacy reward: 0.7866278610665545\n",
      "max_delay = 0.19 seconds\n",
      "iteration143\n"
     ]
    },
    {
     "name": "stderr",
     "output_type": "stream",
     "text": [
      " 72%|███████▏  | 143/200 [01:11<00:29,  1.91it/s]"
     ]
    },
    {
     "name": "stdout",
     "output_type": "stream",
     "text": [
      "user 10, g: -1.3583929667846126e-06, ucb: 2.799273173105307, num_of_obs: 25, curr_delay = 0.14654253787130378, privacy reward: 0.7788007830714061\n",
      "user 14, g: 3.395982416961434e-05, ucb: 2.801384293408954, num_of_obs: 24, curr_delay = 0.2104919154014935, privacy reward: 0.7866278610665545\n",
      "user 15, g: 0.0007185898794290392, ucb: 2.798979198654351, num_of_obs: 21, curr_delay = 0.6930781750683025, privacy reward: 0.8105842459701882\n",
      "user 16, g: 0.0007185898794290392, ucb: 2.796816644506404, num_of_obs: 21, curr_delay = 0.7201028098199372, privacy reward: 0.8105842459701882\n",
      "user 17, g: 0.0007185898794290392, ucb: 2.796144570189596, num_of_obs: 21, curr_delay = 0.745976273378827, privacy reward: 0.8105842459701882\n",
      "max_delay = 0.75 seconds\n",
      "iteration144\n"
     ]
    },
    {
     "name": "stderr",
     "output_type": "stream",
     "text": [
      " 72%|███████▏  | 144/200 [01:12<00:29,  1.93it/s]"
     ]
    },
    {
     "name": "stdout",
     "output_type": "stream",
     "text": [
      "user 18, g: 0.000771604938271604, ucb: 2.7964254322061057, num_of_obs: 21, curr_delay = 0.735407065988747, privacy reward: 0.8105842459701882\n",
      "user 19, g: 0.000771604938271604, ucb: 2.795264556599202, num_of_obs: 21, curr_delay = 0.7847438023360501, privacy reward: 0.8105842459701882\n",
      "user 20, g: 0.000771604938271604, ucb: 2.794564292753243, num_of_obs: 21, curr_delay = 0.7808980403141781, privacy reward: 0.8105842459701882\n",
      "user 21, g: 0.000771604938271604, ucb: 2.7931702300266528, num_of_obs: 21, curr_delay = 0.8059377183077964, privacy reward: 0.8105842459701882\n",
      "user 22, g: 0.000771604938271604, ucb: 2.792274335412455, num_of_obs: 21, curr_delay = 0.7994551830213802, privacy reward: 0.8105842459701882\n",
      "max_delay = 0.81 seconds\n",
      "iteration145\n"
     ]
    },
    {
     "name": "stderr",
     "output_type": "stream",
     "text": [
      " 72%|███████▎  | 145/200 [01:12<00:28,  1.95it/s]"
     ]
    },
    {
     "name": "stdout",
     "output_type": "stream",
     "text": [
      "user 23, g: 0.0008257365570088515, ucb: 2.793314727525165, num_of_obs: 21, curr_delay = 0.8190892186534625, privacy reward: 0.8105842459701882\n",
      "user 24, g: 0.0008257365570088515, ucb: 2.7922358108648777, num_of_obs: 21, curr_delay = 0.8277531687061884, privacy reward: 0.8105842459701882\n",
      "user 25, g: 0.0008257365570088515, ucb: 2.790902619767368, num_of_obs: 21, curr_delay = 0.8334487427908946, privacy reward: 0.8105842459701882\n",
      "user 26, g: 0.0008257365570088515, ucb: 2.7901760309087855, num_of_obs: 21, curr_delay = 0.8481415399879165, privacy reward: 0.8105842459701882\n",
      "user 27, g: 0.0008257365570088515, ucb: 2.7892286613042647, num_of_obs: 21, curr_delay = 0.8809032269773313, privacy reward: 0.8105842459701882\n",
      "max_delay = 0.88 seconds\n",
      "iteration146\n"
     ]
    },
    {
     "name": "stderr",
     "output_type": "stream",
     "text": [
      " 73%|███████▎  | 146/200 [01:13<00:27,  1.96it/s]"
     ]
    },
    {
     "name": "stdout",
     "output_type": "stream",
     "text": [
      "user 5, g: -0.00033360438689768765, ucb: 2.8128977415976797, num_of_obs: 28, curr_delay = 0.08575436733840738, privacy reward: 0.7557837414557268\n",
      "user 7, g: -0.00013031421363190925, ucb: 2.795936221862703, num_of_obs: 27, curr_delay = 0.11576959174888074, privacy reward: 0.7633794943368545\n",
      "user 8, g: -2.0850274181105478e-05, ucb: 2.7949363430498715, num_of_obs: 26, curr_delay = 0.12876426890300136, privacy reward: 0.7710515858035675\n",
      "user 28, g: 0.0008809240841517065, ucb: 2.791069478084718, num_of_obs: 21, curr_delay = 0.8634533598322538, privacy reward: 0.8105842459701882\n",
      "user 29, g: 0.0008809240841517065, ucb: 2.789965907369414, num_of_obs: 21, curr_delay = 0.9034979753602932, privacy reward: 0.8105842459701882\n",
      "max_delay = 0.90 seconds\n",
      "iteration147\n"
     ]
    },
    {
     "name": "stderr",
     "output_type": "stream",
     "text": [
      " 74%|███████▎  | 147/200 [01:14<00:27,  1.93it/s]"
     ]
    },
    {
     "name": "stdout",
     "output_type": "stream",
     "text": [
      "user 1, g: -0.00510204081632653, ucb: 2.835996778164853, num_of_obs: 36, curr_delay = 0.1098854076150437, privacy reward: 0.6976763260710326\n",
      "user 2, g: -0.001955203850247584, ucb: 2.7862200054691044, num_of_obs: 32, curr_delay = 0.1049536469223353, privacy reward: 0.7261490370736924\n",
      "user 3, g: -0.001955203850247584, ucb: 2.824754189773432, num_of_obs: 32, curr_delay = 0.06593932595918339, privacy reward: 0.7261490370736924\n",
      "user 9, g: -1.1569253551760866e-05, ucb: 2.7881623117117473, num_of_obs: 26, curr_delay = 0.17276205938285297, privacy reward: 0.7710515858035675\n",
      "user 11, g: 1.1569253551760866e-05, ucb: 2.785813165079487, num_of_obs: 25, curr_delay = 0.17452225188740328, privacy reward: 0.7788007830714061\n",
      "max_delay = 0.17 seconds\n",
      "iteration148\n"
     ]
    },
    {
     "name": "stderr",
     "output_type": "stream",
     "text": [
      " 74%|███████▍  | 148/200 [01:14<00:28,  1.84it/s]"
     ]
    },
    {
     "name": "stdout",
     "output_type": "stream",
     "text": [
      "user 0, g: -0.0058639720801883, ucb: 2.890627841520098, num_of_obs: 37, curr_delay = 0.05664120932679166, privacy reward: 0.6907343306373563\n",
      "user 1, g: -0.0058639720801883, ucb: 2.7997661825170286, num_of_obs: 37, curr_delay = 0.06098481967492659, privacy reward: 0.6907343306373563\n",
      "user 3, g: -0.002455157860563268, ucb: 2.795710381682832, num_of_obs: 33, curr_delay = 0.09055648449062373, privacy reward: 0.7189237334319276\n",
      "user 4, g: -0.0005072640207775352, ucb: 2.7773889494298736, num_of_obs: 29, curr_delay = 0.10762344781180833, privacy reward: 0.7482635675785665\n",
      "user 5, g: -0.0005072640207775352, ucb: 2.7780514217238896, num_of_obs: 29, curr_delay = 0.11827015143544044, privacy reward: 0.7482635675785665\n",
      "max_delay = 0.12 seconds\n",
      "iteration149\n"
     ]
    },
    {
     "name": "stderr",
     "output_type": "stream",
     "text": [
      " 74%|███████▍  | 149/200 [01:15<00:29,  1.72it/s]"
     ]
    },
    {
     "name": "stdout",
     "output_type": "stream",
     "text": [
      "user 0, g: -0.006667617574783921, ucb: 2.865104420244659, num_of_obs: 38, curr_delay = 0.05898727255416207, privacy reward: 0.6838614092123576\n",
      "user 1, g: -0.006667617574783921, ucb: 2.774999202020456, num_of_obs: 38, curr_delay = 0.057326872090548084, privacy reward: 0.6838614092123576\n",
      "user 6, g: -0.0002114519365994524, ucb: 2.7735582112975647, num_of_obs: 28, curr_delay = 0.09887438964256559, privacy reward: 0.7557837414557268\n",
      "user 12, g: 3.127987227802553e-05, ucb: 2.7697948312532255, num_of_obs: 25, curr_delay = 0.19624863339313237, privacy reward: 0.7788007830714061\n",
      "user 13, g: 3.127987227802553e-05, ucb: 2.7660741835062326, num_of_obs: 25, curr_delay = 0.1966783794212377, privacy reward: 0.7788007830714061\n",
      "max_delay = 0.20 seconds\n",
      "iteration150\n"
     ]
    },
    {
     "name": "stderr",
     "output_type": "stream",
     "text": [
      " 75%|███████▌  | 150/200 [01:15<00:28,  1.76it/s]"
     ]
    },
    {
     "name": "stdout",
     "output_type": "stream",
     "text": [
      "user 0, g: -0.007511111111111117, ucb: 2.839668020820596, num_of_obs: 39, curr_delay = 0.09433051791465341, privacy reward: 0.6770568744981664\n",
      "user 3, g: -0.0028444444444444454, ucb: 2.7631266875617886, num_of_obs: 34, curr_delay = 0.11328458411510262, privacy reward: 0.7117703227626112\n",
      "user 7, g: -0.00017777777777777784, ucb: 2.7587396942164664, num_of_obs: 28, curr_delay = 0.10686132308057326, privacy reward: 0.7557837414557268\n",
      "user 10, g: 0.0, ucb: 2.7619775406611096, num_of_obs: 26, curr_delay = 0.16922944207710103, privacy reward: 0.7710515858035675\n",
      "user 14, g: 4.444444444444428e-05, ucb: 2.758962505868222, num_of_obs: 25, curr_delay = 0.20410939656517393, privacy reward: 0.7788007830714061\n",
      "max_delay = 0.20 seconds\n",
      "iteration151\n"
     ]
    },
    {
     "name": "stderr",
     "output_type": "stream",
     "text": [
      " 76%|███████▌  | 151/200 [01:16<00:28,  1.73it/s]"
     ]
    },
    {
     "name": "stdout",
     "output_type": "stream",
     "text": [
      "user 8, g: -3.045675384607888e-05, ucb: 2.757028534330123, num_of_obs: 27, curr_delay = 0.13462933554988732, privacy reward: 0.7633794943368545\n",
      "user 9, g: -3.045675384607888e-05, ucb: 2.745101743492534, num_of_obs: 27, curr_delay = 0.17112512590375661, privacy reward: 0.7633794943368545\n",
      "user 15, g: 0.000761418846151972, ucb: 2.7478627608566644, num_of_obs: 22, curr_delay = 0.7257590034578336, privacy reward: 0.8025187979624795\n",
      "user 16, g: 0.000761418846151972, ucb: 2.7456742614650786, num_of_obs: 22, curr_delay = 0.7358194848199888, privacy reward: 0.8025187979624795\n",
      "user 17, g: 0.000761418846151972, ucb: 2.7449195111955067, num_of_obs: 22, curr_delay = 0.7481029813758643, privacy reward: 0.8025187979624795\n",
      "max_delay = 0.75 seconds\n",
      "iteration152\n"
     ]
    },
    {
     "name": "stderr",
     "output_type": "stream",
     "text": [
      " 76%|███████▌  | 152/200 [01:16<00:26,  1.79it/s]"
     ]
    },
    {
     "name": "stdout",
     "output_type": "stream",
     "text": [
      "user 11, g: 4.809172052939274e-06, ucb: 2.7434700578732976, num_of_obs: 26, curr_delay = 0.17715016857407762, privacy reward: 0.7710515858035675\n",
      "user 18, g: 0.0008127500769467516, ucb: 2.745169636440906, num_of_obs: 22, curr_delay = 0.7628955739742111, privacy reward: 0.8025187979624795\n",
      "user 19, g: 0.0008127500769467516, ucb: 2.7438604932835178, num_of_obs: 22, curr_delay = 0.7615292592560449, privacy reward: 0.8025187979624795\n",
      "user 20, g: 0.0008127500769467516, ucb: 2.7432085174091783, num_of_obs: 22, curr_delay = 0.7597482652308243, privacy reward: 0.8025187979624795\n",
      "user 21, g: 0.0008127500769467516, ucb: 2.741786109473175, num_of_obs: 22, curr_delay = 0.7895484547263754, privacy reward: 0.8025187979624795\n",
      "max_delay = 0.79 seconds\n",
      "iteration153\n"
     ]
    },
    {
     "name": "stderr",
     "output_type": "stream",
     "text": [
      " 76%|███████▋  | 153/200 [01:17<00:25,  1.85it/s]"
     ]
    },
    {
     "name": "stdout",
     "output_type": "stream",
     "text": [
      "user 22, g: 0.0008650519031141856, ucb: 2.7427046303684754, num_of_obs: 22, curr_delay = 0.8026170686099368, privacy reward: 0.8025187979624795\n",
      "user 23, g: 0.0008650519031141856, ucb: 2.7418142550158855, num_of_obs: 22, curr_delay = 0.8138830195984185, privacy reward: 0.8025187979624795\n",
      "user 24, g: 0.0008650519031141856, ucb: 2.740756290059113, num_of_obs: 22, curr_delay = 0.8192920198214071, privacy reward: 0.8025187979624795\n",
      "user 25, g: 0.0008650519031141856, ucb: 2.7394669276489285, num_of_obs: 22, curr_delay = 0.8633818231137211, privacy reward: 0.8025187979624795\n",
      "user 26, g: 0.0008650519031141856, ucb: 2.738725449341264, num_of_obs: 22, curr_delay = 0.8600748059811906, privacy reward: 0.8025187979624795\n",
      "max_delay = 0.86 seconds\n",
      "iteration154\n"
     ]
    },
    {
     "name": "stderr",
     "output_type": "stream",
     "text": [
      " 77%|███████▋  | 154/200 [01:17<00:24,  1.87it/s]"
     ]
    },
    {
     "name": "stdout",
     "output_type": "stream",
     "text": [
      "user 5, g: -0.00046850696201345624, ucb: 2.745402176109966, num_of_obs: 30, curr_delay = 0.07285775644360676, privacy reward: 0.7408182206817193\n",
      "user 6, g: -0.00022956841138659364, ucb: 2.7419103825872844, num_of_obs: 29, curr_delay = 0.11780820360008826, privacy reward: 0.7482635675785665\n",
      "user 27, g: 0.0009182736455463729, ucb: 2.73945407234608, num_of_obs: 22, curr_delay = 0.8875216702107602, privacy reward: 0.8025187979624795\n",
      "user 28, g: 0.0009182736455463729, ucb: 2.739465702628426, num_of_obs: 22, curr_delay = 0.886251497244901, privacy reward: 0.8025187979624795\n",
      "user 29, g: 0.0009182736455463729, ucb: 2.7382924667012087, num_of_obs: 22, curr_delay = 0.8959775880622035, privacy reward: 0.8025187979624795\n",
      "max_delay = 0.90 seconds\n",
      "iteration155\n"
     ]
    },
    {
     "name": "stderr",
     "output_type": "stream",
     "text": [
      " 78%|███████▊  | 155/200 [01:18<00:24,  1.84it/s]"
     ]
    },
    {
     "name": "stdout",
     "output_type": "stream",
     "text": [
      "user 0, g: -0.007215863105561334, ucb: 2.812193653230548, num_of_obs: 40, curr_delay = 0.06791392524759571, privacy reward: 0.6703200460356411\n",
      "user 1, g: -0.00616140594288357, ucb: 2.7590772147919953, num_of_obs: 39, curr_delay = 0.05, privacy reward: 0.6770568744981664\n",
      "user 2, g: -0.001582841947045902, ucb: 2.759557021582172, num_of_obs: 33, curr_delay = 0.07326363650261583, privacy reward: 0.7189237334319276\n",
      "user 3, g: -0.0027760434732339015, ucb: 2.7328604602093667, num_of_obs: 35, curr_delay = 0.08248109110104826, privacy reward: 0.704688089718715\n",
      "user 4, g: -0.00041738929355994973, ucb: 2.747670839747225, num_of_obs: 30, curr_delay = 0.10997262040329596, privacy reward: 0.7408182206817193\n",
      "max_delay = 0.11 seconds\n",
      "iteration156\n"
     ]
    },
    {
     "name": "stderr",
     "output_type": "stream",
     "text": [
      " 78%|███████▊  | 156/200 [01:19<00:24,  1.81it/s]"
     ]
    },
    {
     "name": "stdout",
     "output_type": "stream",
     "text": [
      "user 2, g: -0.002013477975016437, ucb: 2.730672303485488, num_of_obs: 34, curr_delay = 0.08378202851011038, privacy reward: 0.7117703227626112\n",
      "user 7, g: -0.00016436554898093385, ucb: 2.7277257258580674, num_of_obs: 29, curr_delay = 0.13738669685301808, privacy reward: 0.7482635675785665\n",
      "user 10, g: 0.0, ucb: 2.723196813680803, num_of_obs: 27, curr_delay = 0.1606313817928898, privacy reward: 0.7633794943368545\n",
      "user 12, g: 4.109138724523311e-05, ucb: 2.7299188940863037, num_of_obs: 26, curr_delay = 0.19757148654016235, privacy reward: 0.7710515858035675\n",
      "user 13, g: 4.109138724523311e-05, ucb: 2.7263248043829047, num_of_obs: 26, curr_delay = 0.20226933041110168, privacy reward: 0.7710515858035675\n",
      "max_delay = 0.20 seconds\n",
      "iteration157\n"
     ]
    },
    {
     "name": "stderr",
     "output_type": "stream",
     "text": [
      " 78%|███████▊  | 157/200 [01:19<00:23,  1.84it/s]"
     ]
    },
    {
     "name": "stdout",
     "output_type": "stream",
     "text": [
      "user 0, g: -0.007763443186786934, ucb: 2.787229805553511, num_of_obs: 41, curr_delay = 0.061672220144891765, privacy reward: 0.6636502501363211\n",
      "user 1, g: -0.006681587262949592, ucb: 2.741890601342149, num_of_obs: 40, curr_delay = 0.06977434368031293, privacy reward: 0.6703200460356411\n",
      "user 5, g: -0.0005961476913645369, ucb: 2.7187808008178624, num_of_obs: 31, curr_delay = 0.09681849152866076, privacy reward: 0.7334469562242907\n",
      "user 8, g: -2.8173331349930793e-05, ucb: 2.7219588116138245, num_of_obs: 28, curr_delay = 0.14256455185685907, privacy reward: 0.7557837414557268\n",
      "user 14, g: 5.5219729445864356e-05, ucb: 2.7190801234869397, num_of_obs: 26, curr_delay = 0.1960197179902039, privacy reward: 0.7710515858035675\n",
      "max_delay = 0.20 seconds\n",
      "iteration158\n"
     ]
    },
    {
     "name": "stderr",
     "output_type": "stream",
     "text": [
      " 79%|███████▉  | 158/200 [01:20<00:22,  1.87it/s]"
     ]
    },
    {
     "name": "stdout",
     "output_type": "stream",
     "text": [
      "user 3, g: -0.0030087770834446043, ucb: 2.7059640328359746, num_of_obs: 36, curr_delay = 0.05612609022320946, privacy reward: 0.6976763260710326\n",
      "user 4, g: -0.0005385532945218903, ucb: 2.7132475865491967, num_of_obs: 31, curr_delay = 0.10817130994437621, privacy reward: 0.7334469562242907\n",
      "user 6, g: -0.0002848546351190164, ucb: 2.7075017695478243, num_of_obs: 30, curr_delay = 0.13693129966939313, privacy reward: 0.7408182206817193\n",
      "user 9, g: -1.7803414694938523e-05, ucb: 2.7090279034636526, num_of_obs: 28, curr_delay = 0.14329938388642194, privacy reward: 0.7557837414557268\n",
      "user 11, g: 4.450853673734631e-06, ucb: 2.70482156774757, num_of_obs: 27, curr_delay = 0.1851746834240017, privacy reward: 0.7633794943368545\n",
      "max_delay = 0.19 seconds\n",
      "iteration159\n"
     ]
    },
    {
     "name": "stderr",
     "output_type": "stream",
     "text": [
      " 80%|███████▉  | 159/200 [01:20<00:21,  1.89it/s]"
     ]
    },
    {
     "name": "stdout",
     "output_type": "stream",
     "text": [
      "user 15, g: 0.0008009967960128156, ucb: 2.699652180122864, num_of_obs: 23, curr_delay = 0.7279127669756272, privacy reward: 0.7945336025033352\n",
      "user 16, g: 0.0008009967960128156, ucb: 2.6975203423434464, num_of_obs: 23, curr_delay = 0.738927621073095, privacy reward: 0.7945336025033352\n",
      "user 17, g: 0.0008009967960128156, ucb: 2.696749183877145, num_of_obs: 23, curr_delay = 0.7151059418955994, privacy reward: 0.7945336025033352\n",
      "user 18, g: 0.0008009967960128156, ucb: 2.695248567489195, num_of_obs: 23, curr_delay = 0.7794949968224202, privacy reward: 0.7945336025033352\n",
      "user 19, g: 0.0008009967960128156, ucb: 2.6940042758226044, num_of_obs: 23, curr_delay = 0.7608701019283471, privacy reward: 0.7945336025033352\n",
      "max_delay = 0.78 seconds\n",
      "iteration160\n"
     ]
    },
    {
     "name": "stderr",
     "output_type": "stream",
     "text": [
      " 80%|████████  | 160/200 [01:21<00:21,  1.85it/s]"
     ]
    },
    {
     "name": "stdout",
     "output_type": "stream",
     "text": [
      "user 20, g: 0.0008506944444444433, ucb: 2.695014363084459, num_of_obs: 23, curr_delay = 0.7729844291458701, privacy reward: 0.7945336025033352\n",
      "user 21, g: 0.0008506944444444433, ucb: 2.693543703840781, num_of_obs: 23, curr_delay = 0.7893323093163845, privacy reward: 0.7945336025033352\n",
      "user 22, g: 0.0008506944444444433, ucb: 2.6927052510990825, num_of_obs: 23, curr_delay = 0.788128198127596, privacy reward: 0.7945336025033352\n",
      "user 23, g: 0.0008506944444444433, ucb: 2.6918161510778806, num_of_obs: 23, curr_delay = 0.8045806052784792, privacy reward: 0.7945336025033352\n",
      "user 24, g: 0.0008506944444444433, ucb: 2.690787839568454, num_of_obs: 23, curr_delay = 0.8513046995198733, privacy reward: 0.7945336025033352\n",
      "max_delay = 0.85 seconds\n",
      "iteration161\n"
     ]
    },
    {
     "name": "stderr",
     "output_type": "stream",
     "text": [
      " 80%|████████  | 161/200 [01:21<00:20,  1.87it/s]"
     ]
    },
    {
     "name": "stdout",
     "output_type": "stream",
     "text": [
      "user 12, g: 2.6790804538576523e-05, ucb: 2.6890596985332147, num_of_obs: 27, curr_delay = 0.1631508256864744, privacy reward: 0.7633794943368545\n",
      "user 25, g: 0.0009012426646777163, ucb: 2.691029735764359, num_of_obs: 23, curr_delay = 0.8469276443108246, privacy reward: 0.7945336025033352\n",
      "user 26, g: 0.0009012426646777163, ucb: 2.690332082510578, num_of_obs: 23, curr_delay = 0.8531492740961043, privacy reward: 0.7945336025033352\n",
      "user 27, g: 0.0009012426646777163, ucb: 2.689289458953441, num_of_obs: 23, curr_delay = 0.8739988755802883, privacy reward: 0.7945336025033352\n",
      "user 28, g: 0.0009012426646777163, ucb: 2.689304230655686, num_of_obs: 23, curr_delay = 0.8906763891167441, privacy reward: 0.7945336025033352\n",
      "max_delay = 0.89 seconds\n",
      "iteration162\n"
     ]
    },
    {
     "name": "stderr",
     "output_type": "stream",
     "text": [
      " 81%|████████  | 162/200 [01:22<00:20,  1.89it/s]"
     ]
    },
    {
     "name": "stdout",
     "output_type": "stream",
     "text": [
      "user 7, g: -0.00015241579027587256, ucb: 2.6944933112212954, num_of_obs: 30, curr_delay = 0.1080325095220474, privacy reward: 0.7408182206817193\n",
      "user 8, g: -3.810394756896814e-05, ucb: 2.6864172188238453, num_of_obs: 29, curr_delay = 0.12638225546188384, privacy reward: 0.7482635675785665\n",
      "user 10, g: 0.0, ucb: 2.686980741876752, num_of_obs: 28, curr_delay = 0.15634649964079184, privacy reward: 0.7557837414557268\n",
      "user 13, g: 3.810394756896814e-05, ucb: 2.68685262696292, num_of_obs: 27, curr_delay = 0.18659329460346902, privacy reward: 0.7633794943368545\n",
      "user 29, g: 0.0009525986892242036, ucb: 2.689759820160048, num_of_obs: 23, curr_delay = 0.8966960664898921, privacy reward: 0.7945336025033352\n",
      "max_delay = 0.90 seconds\n",
      "iteration163\n"
     ]
    },
    {
     "name": "stderr",
     "output_type": "stream",
     "text": [
      " 82%|████████▏ | 163/200 [01:22<00:19,  1.92it/s]"
     ]
    },
    {
     "name": "stdout",
     "output_type": "stream",
     "text": [
      "user 0, g: -0.007202420531864621, ucb: 2.769744681577378, num_of_obs: 42, curr_delay = 0.05, privacy reward: 0.6570468198150585\n",
      "user 1, g: -0.006198744568649346, ucb: 2.7229630579144475, num_of_obs: 41, curr_delay = 0.08345973751112656, privacy reward: 0.6636502501363211\n",
      "user 2, g: -0.0017574784314217486, ucb: 2.7083389309704335, num_of_obs: 35, curr_delay = 0.09008070465413037, privacy reward: 0.704688089718715\n",
      "user 3, g: -0.002936797688199699, ucb: 2.69058301733295, num_of_obs: 37, curr_delay = 0.08456073181179669, privacy reward: 0.6907343306373563\n",
      "user 5, g: -0.0005530672755634187, ucb: 2.6918965329166444, num_of_obs: 32, curr_delay = 0.10022038326170606, privacy reward: 0.7261490370736924\n",
      "max_delay = 0.10 seconds\n",
      "iteration164\n"
     ]
    },
    {
     "name": "stderr",
     "output_type": "stream",
     "text": [
      " 82%|████████▏ | 164/200 [01:23<00:18,  1.93it/s]"
     ]
    },
    {
     "name": "stdout",
     "output_type": "stream",
     "text": [
      "user 2, g: -0.0021853724634807326, ucb: 2.678137237453832, num_of_obs: 36, curr_delay = 0.07150265180902708, privacy reward: 0.6976763260710326\n",
      "user 4, g: -0.0004998678035560848, ucb: 2.6847601175924765, num_of_obs: 32, curr_delay = 0.12014245573726787, privacy reward: 0.7261490370736924\n",
      "user 6, g: -0.0002643928878313175, ucb: 2.675508704857603, num_of_obs: 31, curr_delay = 0.12152993976387513, privacy reward: 0.7334469562242907\n",
      "user 9, g: -1.6524555489457512e-05, ucb: 2.675263041210016, num_of_obs: 29, curr_delay = 0.1514594011939669, privacy reward: 0.7482635675785665\n",
      "user 14, g: 6.609822195782915e-05, ucb: 2.6816125964099307, num_of_obs: 27, curr_delay = 0.18230771535120235, privacy reward: 0.7633794943368545\n",
      "max_delay = 0.18 seconds\n",
      "iteration165\n"
     ]
    },
    {
     "name": "stderr",
     "output_type": "stream",
     "text": [
      " 82%|████████▎ | 165/200 [01:23<00:18,  1.93it/s]"
     ]
    },
    {
     "name": "stdout",
     "output_type": "stream",
     "text": [
      "user 1, g: -0.006694214876033058, ucb: 2.6971599662632557, num_of_obs: 42, curr_delay = 0.09820594070878662, privacy reward: 0.6570468198150585\n",
      "user 3, g: -0.003314967860422407, ucb: 2.663927759872631, num_of_obs: 38, curr_delay = 0.10952996849068736, privacy reward: 0.6838614092123576\n",
      "user 5, g: -0.0007438016528925625, ucb: 2.660395587291201, num_of_obs: 33, curr_delay = 0.0931828431250048, privacy reward: 0.7189237334319276\n",
      "user 7, g: -0.00022956841138659364, ucb: 2.6620796190662435, num_of_obs: 31, curr_delay = 0.1061818674886263, privacy reward: 0.7334469562242907\n",
      "user 11, g: 9.182736455463678e-06, ucb: 2.6691116665607635, num_of_obs: 28, curr_delay = 0.19170767351128715, privacy reward: 0.7557837414557268\n",
      "max_delay = 0.19 seconds\n",
      "iteration166\n"
     ]
    },
    {
     "name": "stderr",
     "output_type": "stream",
     "text": [
      " 83%|████████▎ | 166/200 [01:24<00:17,  1.90it/s]"
     ]
    },
    {
     "name": "stdout",
     "output_type": "stream",
     "text": [
      "user 10, g: -4.03219302914468e-06, ucb: 2.6500994577252306, num_of_obs: 29, curr_delay = 0.16482844916684125, privacy reward: 0.7482635675785665\n",
      "user 12, g: 1.612877211657872e-05, ucb: 2.6523729322555005, num_of_obs: 28, curr_delay = 0.17872637807753727, privacy reward: 0.7557837414557268\n",
      "user 15, g: 0.0007903098337123588, ucb: 2.652686016557759, num_of_obs: 24, curr_delay = 0.6973762879621983, privacy reward: 0.7866278610665545\n",
      "user 16, g: 0.0007903098337123588, ucb: 2.6506023489638637, num_of_obs: 24, curr_delay = 0.7169095625508098, privacy reward: 0.7866278610665545\n",
      "user 17, g: 0.0007903098337123588, ucb: 2.649962722776908, num_of_obs: 24, curr_delay = 0.7402243933800882, privacy reward: 0.7866278610665545\n",
      "max_delay = 0.74 seconds\n",
      "iteration167\n"
     ]
    },
    {
     "name": "stderr",
     "output_type": "stream",
     "text": [
      " 84%|████████▎ | 167/200 [01:24<00:17,  1.93it/s]"
     ]
    },
    {
     "name": "stdout",
     "output_type": "stream",
     "text": [
      "user 8, g: -4.880458643591087e-05, ucb: 2.654168639532926, num_of_obs: 30, curr_delay = 0.13346021803919902, privacy reward: 0.7408182206817193\n",
      "user 13, g: 2.4900299201995142e-05, ucb: 2.6488009903057166, num_of_obs: 28, curr_delay = 0.198629782577726, privacy reward: 0.7557837414557268\n",
      "user 18, g: 0.0008376460651551182, ucb: 2.6497926982653586, num_of_obs: 24, curr_delay = 0.7762503592633659, privacy reward: 0.7866278610665545\n",
      "user 19, g: 0.0008376460651551182, ucb: 2.648670773445462, num_of_obs: 24, curr_delay = 0.7812329128156292, privacy reward: 0.7866278610665545\n",
      "user 20, g: 0.0008376460651551182, ucb: 2.6480374054708657, num_of_obs: 24, curr_delay = 0.776442643761769, privacy reward: 0.7866278610665545\n",
      "max_delay = 0.78 seconds\n",
      "iteration168\n"
     ]
    },
    {
     "name": "stderr",
     "output_type": "stream",
     "text": [
      " 84%|████████▍ | 168/200 [01:25<00:16,  1.91it/s]"
     ]
    },
    {
     "name": "stdout",
     "output_type": "stream",
     "text": [
      "user 21, g: 0.000885770975056688, ucb: 2.648078967310244, num_of_obs: 24, curr_delay = 0.789662111366797, privacy reward: 0.7866278610665545\n",
      "user 22, g: 0.000885770975056688, ucb: 2.6472811768057816, num_of_obs: 24, curr_delay = 0.7922003337125813, privacy reward: 0.7866278610665545\n",
      "user 23, g: 0.000885770975056688, ucb: 2.646374329919315, num_of_obs: 24, curr_delay = 0.8148721832179561, privacy reward: 0.7866278610665545\n",
      "user 24, g: 0.000885770975056688, ucb: 2.6452424319364125, num_of_obs: 24, curr_delay = 0.8299790008002743, privacy reward: 0.7866278610665545\n",
      "user 25, g: 0.000885770975056688, ucb: 2.6439428857171756, num_of_obs: 24, curr_delay = 0.8755184056019655, privacy reward: 0.7866278610665545\n",
      "max_delay = 0.88 seconds\n",
      "iteration169\n"
     ]
    },
    {
     "name": "stderr",
     "output_type": "stream",
     "text": [
      " 84%|████████▍ | 169/200 [01:25<00:16,  1.92it/s]"
     ]
    },
    {
     "name": "stdout",
     "output_type": "stream",
     "text": [
      "user 14, g: 4.765628343234141e-05, ucb: 2.6439484082796487, num_of_obs: 28, curr_delay = 0.21419694914427215, privacy reward: 0.7557837414557268\n",
      "user 26, g: 0.0009346467016016395, ucb: 2.6447535623674314, num_of_obs: 24, curr_delay = 0.8781390469756856, privacy reward: 0.7866278610665545\n",
      "user 27, g: 0.0009346467016016395, ucb: 2.6436954842047147, num_of_obs: 24, curr_delay = 0.8691639638909807, privacy reward: 0.7866278610665545\n",
      "user 28, g: 0.0009346467016016395, ucb: 2.643663039753664, num_of_obs: 24, curr_delay = 0.8791562834873298, privacy reward: 0.7866278610665545\n",
      "user 29, g: 0.0009346467016016395, ucb: 2.642548811948246, num_of_obs: 24, curr_delay = 0.9109533953128365, privacy reward: 0.7866278610665545\n",
      "max_delay = 0.91 seconds\n",
      "iteration170\n"
     ]
    },
    {
     "name": "stderr",
     "output_type": "stream",
     "text": [
      " 85%|████████▌ | 170/200 [01:26<00:15,  1.92it/s]"
     ]
    },
    {
     "name": "stdout",
     "output_type": "stream",
     "text": [
      "user 0, g: -0.006462898885044217, ucb: 2.75830924957217, num_of_obs: 43, curr_delay = 0.0815905541235543, privacy reward: 0.6505090947233183\n",
      "user 1, g: -0.006462898885044217, ucb: 2.6735107730334713, num_of_obs: 43, curr_delay = 0.05242642760004945, privacy reward: 0.6505090947233183\n",
      "user 2, g: -0.002033833141099578, ucb: 2.6592524590950566, num_of_obs: 37, curr_delay = 0.08083507756530897, privacy reward: 0.6907343306373563\n",
      "user 4, g: -0.0004652056901191852, ucb: 2.655992655882806, num_of_obs: 33, curr_delay = 0.09326179550957989, privacy reward: 0.7189237334319276\n",
      "user 6, g: -0.00024605920799692423, ucb: 2.6464115345731916, num_of_obs: 32, curr_delay = 0.11113329656681253, privacy reward: 0.7261490370736924\n",
      "max_delay = 0.11 seconds\n",
      "iteration171\n"
     ]
    },
    {
     "name": "stderr",
     "output_type": "stream",
     "text": [
      " 86%|████████▌ | 171/200 [01:26<00:15,  1.87it/s]"
     ]
    },
    {
     "name": "stdout",
     "output_type": "stream",
     "text": [
      "user 3, g: -0.0030864197530864196, ucb: 2.6394413903689617, num_of_obs: 39, curr_delay = 0.11587805947060517, privacy reward: 0.6770568744981664\n",
      "user 5, g: -0.0006925207756232686, ucb: 2.636454793334668, num_of_obs: 34, curr_delay = 0.12304600671289154, privacy reward: 0.7117703227626112\n",
      "user 7, g: -0.00021374098013063846, ucb: 2.6353044822640035, num_of_obs: 32, curr_delay = 0.1165091397683658, privacy reward: 0.7261490370736924\n",
      "user 9, g: -8.549639205225538e-06, ucb: 2.643738284076849, num_of_obs: 30, curr_delay = 0.17504248664132294, privacy reward: 0.7408182206817193\n",
      "user 11, g: 8.549639205225538e-06, ucb: 2.633414255854811, num_of_obs: 29, curr_delay = 0.1878120668985496, privacy reward: 0.7482635675785665\n",
      "max_delay = 0.19 seconds\n",
      "iteration172\n"
     ]
    },
    {
     "name": "stderr",
     "output_type": "stream",
     "text": [
      " 86%|████████▌ | 172/200 [01:27<00:14,  1.90it/s]"
     ]
    },
    {
     "name": "stdout",
     "output_type": "stream",
     "text": [
      "user 2, g: -0.0023473649420106967, ucb: 2.634185389137788, num_of_obs: 38, curr_delay = 0.12080836654364882, privacy reward: 0.6838614092123576\n",
      "user 4, g: -0.0006347274803196932, ucb: 2.6272039891648777, num_of_obs: 34, curr_delay = 0.09140039605101437, privacy reward: 0.7117703227626112\n",
      "user 8, g: -6.0092542515474046e-05, ucb: 2.622719692848851, num_of_obs: 31, curr_delay = 0.11040104234148634, privacy reward: 0.7334469562242907\n",
      "user 10, g: -3.755783907217128e-06, ucb: 2.61714590204799, num_of_obs: 30, curr_delay = 0.16229768376870335, privacy reward: 0.7408182206817193\n",
      "user 12, g: 1.5023135628868296e-05, ucb: 2.6179217842866773, num_of_obs: 29, curr_delay = 0.1753364645619059, privacy reward: 0.7482635675785665\n",
      "max_delay = 0.18 seconds\n",
      "iteration173\n"
     ]
    },
    {
     "name": "stderr",
     "output_type": "stream",
     "text": [
      " 86%|████████▋ | 173/200 [01:28<00:14,  1.91it/s]"
     ]
    },
    {
     "name": "stdout",
     "output_type": "stream",
     "text": [
      "user 9, g: -4.547800164092063e-05, ucb: 2.605810119158275, num_of_obs: 31, curr_delay = 0.12960859285023504, privacy reward: 0.7334469562242907\n",
      "user 13, g: 2.3203062061694045e-05, ucb: 2.613448638299471, num_of_obs: 29, curr_delay = 0.182044825045266, privacy reward: 0.7482635675785665\n",
      "user 15, g: 0.0007805510077553917, ucb: 2.6085601806633107, num_of_obs: 25, curr_delay = 0.690573595935202, privacy reward: 0.7788007830714061\n",
      "user 16, g: 0.0007805510077553917, ucb: 2.6064819367015115, num_of_obs: 25, curr_delay = 0.7319431780074899, privacy reward: 0.7788007830714061\n",
      "user 17, g: 0.0007805510077553917, ucb: 2.6057774316472373, num_of_obs: 25, curr_delay = 0.7266595358805742, privacy reward: 0.7788007830714061\n",
      "max_delay = 0.73 seconds\n",
      "iteration174\n"
     ]
    },
    {
     "name": "stderr",
     "output_type": "stream",
     "text": [
      " 87%|████████▋ | 174/200 [01:28<00:13,  1.91it/s]"
     ]
    },
    {
     "name": "stdout",
     "output_type": "stream",
     "text": [
      "user 7, g: -0.0002972651605231869, ucb: 2.604649519856635, num_of_obs: 33, curr_delay = 0.11889391717786447, privacy reward: 0.7189237334319276\n",
      "user 14, g: 3.3029462280353996e-05, ucb: 2.6067567940018455, num_of_obs: 29, curr_delay = 0.2166859352363098, privacy reward: 0.7482635675785665\n",
      "user 18, g: 0.0008257365570088515, ucb: 2.605449532694567, num_of_obs: 25, curr_delay = 0.7677776443254294, privacy reward: 0.7788007830714061\n",
      "user 19, g: 0.0008257365570088515, ucb: 2.6043572377129443, num_of_obs: 25, curr_delay = 0.7809005072312941, privacy reward: 0.7788007830714061\n",
      "user 20, g: 0.0008257365570088515, ucb: 2.60376671245163, num_of_obs: 25, curr_delay = 0.7700130404544878, privacy reward: 0.7788007830714061\n",
      "max_delay = 0.78 seconds\n",
      "iteration175\n"
     ]
    },
    {
     "name": "stderr",
     "output_type": "stream",
     "text": [
      " 88%|████████▊ | 175/200 [01:29<00:13,  1.92it/s]"
     ]
    },
    {
     "name": "stdout",
     "output_type": "stream",
     "text": [
      "user 21, g: 0.000871655328798185, ucb: 2.6037278895222213, num_of_obs: 25, curr_delay = 0.7900220406759013, privacy reward: 0.7788007830714061\n",
      "user 22, g: 0.000871655328798185, ucb: 2.602954887264738, num_of_obs: 25, curr_delay = 0.8000070815501452, privacy reward: 0.7788007830714061\n",
      "user 23, g: 0.000871655328798185, ucb: 2.602012657662707, num_of_obs: 25, curr_delay = 0.8048283824084246, privacy reward: 0.7788007830714061\n",
      "user 24, g: 0.000871655328798185, ucb: 2.6008813875852073, num_of_obs: 25, curr_delay = 0.8484629197536526, privacy reward: 0.7788007830714061\n",
      "user 25, g: 0.000871655328798185, ucb: 2.5995054280469505, num_of_obs: 25, curr_delay = 0.8441742872227481, privacy reward: 0.7788007830714061\n",
      "max_delay = 0.85 seconds\n",
      "iteration176\n"
     ]
    },
    {
     "name": "stderr",
     "output_type": "stream",
     "text": [
      " 88%|████████▊ | 176/200 [01:29<00:12,  1.91it/s]"
     ]
    },
    {
     "name": "stdout",
     "output_type": "stream",
     "text": [
      "user 11, g: 3.5870064279155124e-06, ucb: 2.598354055451543, num_of_obs: 30, curr_delay = 0.18656261096405055, privacy reward: 0.7408182206817193\n",
      "user 26, g: 0.0009182736455463729, ucb: 2.6002420823416594, num_of_obs: 25, curr_delay = 0.8531113688690544, privacy reward: 0.7788007830714061\n",
      "user 27, g: 0.0009182736455463729, ucb: 2.599252588859837, num_of_obs: 25, curr_delay = 0.8877131688621328, privacy reward: 0.7788007830714061\n",
      "user 28, g: 0.0009182736455463729, ucb: 2.599194253113369, num_of_obs: 25, curr_delay = 0.8744011260947142, privacy reward: 0.7788007830714061\n",
      "user 29, g: 0.0009182736455463729, ucb: 2.5980437364818516, num_of_obs: 25, curr_delay = 0.8647617132391783, privacy reward: 0.7788007830714061\n",
      "max_delay = 0.89 seconds\n",
      "iteration177\n"
     ]
    },
    {
     "name": "stderr",
     "output_type": "stream",
     "text": [
      " 88%|████████▊ | 177/200 [01:30<00:12,  1.85it/s]"
     ]
    },
    {
     "name": "stdout",
     "output_type": "stream",
     "text": [
      "user 0, g: -0.005817293881068661, ucb: 2.737975770792886, num_of_obs: 44, curr_delay = 0.08146034854422134, privacy reward: 0.6440364210831433\n",
      "user 1, g: -0.005817293881068661, ucb: 2.6630772922082775, num_of_obs: 44, curr_delay = 0.07593029139109606, privacy reward: 0.6440364210831433\n",
      "user 3, g: -0.0028807175460436023, ucb: 2.6151478929637912, num_of_obs: 40, curr_delay = 0.10267784378557031, privacy reward: 0.6703200460356411\n",
      "user 5, g: -0.0006463659867854073, ucb: 2.609551480879666, num_of_obs: 35, curr_delay = 0.15301535107936157, privacy reward: 0.704688089718715\n",
      "user 6, g: -0.00019949567493376767, ucb: 2.6209315962178534, num_of_obs: 33, curr_delay = 0.13678534433075626, privacy reward: 0.7189237334319276\n",
      "max_delay = 0.15 seconds\n",
      "iteration178\n"
     ]
    },
    {
     "name": "stderr",
     "output_type": "stream",
     "text": [
      " 89%|████████▉ | 178/200 [01:30<00:11,  1.89it/s]"
     ]
    },
    {
     "name": "stdout",
     "output_type": "stream",
     "text": [
      "user 0, g: -0.006484170068313485, ucb: 2.7121916161245796, num_of_obs: 45, curr_delay = 0.05758737395834275, privacy reward: 0.6376281516217752\n",
      "user 1, g: -0.006484170068313485, ucb: 2.640011356761867, num_of_obs: 45, curr_delay = 0.06084160525989501, privacy reward: 0.6376281516217752\n",
      "user 2, g: -0.0021917827434807615, ucb: 2.6091610611186487, num_of_obs: 39, curr_delay = 0.08700466936726974, privacy reward: 0.6770568744981664\n",
      "user 4, g: -0.0005926580538371981, ucb: 2.604683939783509, num_of_obs: 35, curr_delay = 0.11521697330663351, privacy reward: 0.704688089718715\n",
      "user 8, g: -5.610963823310776e-05, ucb: 2.596440455562803, num_of_obs: 32, curr_delay = 0.13982098942735513, privacy reward: 0.7261490370736924\n",
      "max_delay = 0.14 seconds\n",
      "iteration179\n"
     ]
    },
    {
     "name": "stderr",
     "output_type": "stream",
     "text": [
      " 90%|████████▉ | 179/200 [01:31<00:11,  1.89it/s]"
     ]
    },
    {
     "name": "stdout",
     "output_type": "stream",
     "text": [
      "user 1, g: -0.0071791697443206485, ucb: 2.6213787674916706, num_of_obs: 46, curr_delay = 0.05, privacy reward: 0.631283645506928\n",
      "user 3, g: -0.0032259015358793762, ucb: 2.588865278968389, num_of_obs: 41, curr_delay = 0.09456716416211652, privacy reward: 0.6636502501363211\n",
      "user 6, g: -0.0003129670665016007, ucb: 2.5880595030377345, num_of_obs: 34, curr_delay = 0.11994488652543224, privacy reward: 0.7117703227626112\n",
      "user 10, g: -8.669447825529078e-07, ucb: 2.5870851433530158, num_of_obs: 31, curr_delay = 0.16738815891567538, privacy reward: 0.7334469562242907\n",
      "user 12, g: 2.1673619563822695e-05, ucb: 2.5865413577659355, num_of_obs: 30, curr_delay = 0.19481779802404833, privacy reward: 0.7408182206817193\n",
      "max_delay = 0.19 seconds\n",
      "iteration180\n"
     ]
    },
    {
     "name": "stderr",
     "output_type": "stream",
     "text": [
      " 90%|█████████ | 180/200 [01:31<00:10,  1.89it/s]"
     ]
    },
    {
     "name": "stdout",
     "output_type": "stream",
     "text": [
      "user 2, g: -0.002500000000000002, ucb: 2.5849085415176285, num_of_obs: 40, curr_delay = 0.059049351487897736, privacy reward: 0.6703200460356411\n",
      "user 5, g: -0.0007716049382716057, ucb: 2.5780546532007014, num_of_obs: 36, curr_delay = 0.09413159865633458, privacy reward: 0.6976763260710326\n",
      "user 7, g: -0.00027777777777777767, ucb: 2.5786337029230326, num_of_obs: 34, curr_delay = 0.14364075538537743, privacy reward: 0.7117703227626112\n",
      "user 9, g: -3.0864197530864286e-05, ucb: 2.5790882685906196, num_of_obs: 32, curr_delay = 0.16314124455709905, privacy reward: 0.7261490370736924\n",
      "user 13, g: 3.086419753086398e-05, ucb: 2.5818272415593975, num_of_obs: 30, curr_delay = 0.17246935574840064, privacy reward: 0.7408182206817193\n",
      "max_delay = 0.17 seconds\n",
      "iteration181\n"
     ]
    },
    {
     "name": "stderr",
     "output_type": "stream",
     "text": [
      " 90%|█████████ | 181/200 [01:32<00:09,  1.91it/s]"
     ]
    },
    {
     "name": "stdout",
     "output_type": "stream",
     "text": [
      "user 11, g: 8.478916326662078e-07, ucb: 2.565046277163996, num_of_obs: 31, curr_delay = 0.15495259561099514, privacy reward: 0.7334469562242907\n",
      "user 14, g: 4.1546690000644185e-05, ucb: 2.573819708765045, num_of_obs: 30, curr_delay = 0.19418082717817875, privacy reward: 0.7408182206817193\n",
      "user 15, g: 0.0008148238589922289, ucb: 2.568239844110673, num_of_obs: 26, curr_delay = 0.7012094063806654, privacy reward: 0.7710515858035675\n",
      "user 16, g: 0.0008148238589922289, ucb: 2.5660810392876776, num_of_obs: 26, curr_delay = 0.7194628553778468, privacy reward: 0.7710515858035675\n",
      "user 17, g: 0.0008148238589922289, ucb: 2.565424582476475, num_of_obs: 26, curr_delay = 0.7336380421487497, privacy reward: 0.7710515858035675\n",
      "max_delay = 0.73 seconds\n",
      "iteration182\n"
     ]
    },
    {
     "name": "stderr",
     "output_type": "stream",
     "text": [
      " 91%|█████████ | 182/200 [01:32<00:09,  1.84it/s]"
     ]
    },
    {
     "name": "stdout",
     "output_type": "stream",
     "text": [
      "user 18, g: 0.0008587261334514069, ucb: 2.5649234379130768, num_of_obs: 26, curr_delay = 0.7575086060937632, privacy reward: 0.7710515858035675\n",
      "user 19, g: 0.0008587261334514069, ucb: 2.5638310596031793, num_of_obs: 26, curr_delay = 0.7792174246477245, privacy reward: 0.7710515858035675\n",
      "user 20, g: 0.0008587261334514069, ucb: 2.5633003682313023, num_of_obs: 26, curr_delay = 0.8055985718820428, privacy reward: 0.7710515858035675\n",
      "user 21, g: 0.0008587261334514069, ucb: 2.561843695815452, num_of_obs: 26, curr_delay = 0.7893600373525042, privacy reward: 0.7710515858035675\n",
      "user 22, g: 0.0008587261334514069, ucb: 2.5610700165789018, num_of_obs: 26, curr_delay = 0.8009422170110894, privacy reward: 0.7710515858035675\n",
      "max_delay = 0.81 seconds\n",
      "iteration183\n"
     ]
    },
    {
     "name": "stderr",
     "output_type": "stream",
     "text": [
      " 92%|█████████▏| 183/200 [01:33<00:09,  1.88it/s]"
     ]
    },
    {
     "name": "stdout",
     "output_type": "stream",
     "text": [
      "user 23, g: 0.0009032816745797115, ucb: 2.561465772334427, num_of_obs: 26, curr_delay = 0.8220473941410689, privacy reward: 0.7710515858035675\n",
      "user 24, g: 0.0009032816745797115, ucb: 2.5602519550119798, num_of_obs: 26, curr_delay = 0.8548460897171252, privacy reward: 0.7710515858035675\n",
      "user 25, g: 0.0009032816745797115, ucb: 2.558943009084726, num_of_obs: 26, curr_delay = 0.8640434802518251, privacy reward: 0.7710515858035675\n",
      "user 26, g: 0.0009032816745797115, ucb: 2.5582802165923946, num_of_obs: 26, curr_delay = 0.8360060702725179, privacy reward: 0.7710515858035675\n",
      "user 27, g: 0.0009032816745797115, ucb: 2.5572389230305133, num_of_obs: 26, curr_delay = 0.8851613360928887, privacy reward: 0.7710515858035675\n",
      "max_delay = 0.89 seconds\n",
      "iteration184\n"
     ]
    },
    {
     "name": "stderr",
     "output_type": "stream",
     "text": [
      " 92%|█████████▏| 184/200 [01:33<00:08,  1.83it/s]"
     ]
    },
    {
     "name": "stdout",
     "output_type": "stream",
     "text": [
      "user 0, g: -0.006068184204998952, ucb: 2.697918703457898, num_of_obs: 46, curr_delay = 0.05, privacy reward: 0.631283645506928\n",
      "user 2, g: -0.0025729888678848985, ucb: 2.570451462439972, num_of_obs: 41, curr_delay = 0.05673861819033189, privacy reward: 0.6636502501363211\n",
      "user 3, g: -0.0031538804872925856, ucb: 2.5676903269282993, num_of_obs: 42, curr_delay = 0.12382817517631423, privacy reward: 0.6570468198150585\n",
      "user 4, g: -0.0005546366309598834, ucb: 2.579719544940225, num_of_obs: 36, curr_delay = 0.07394862363289724, privacy reward: 0.6976763260710326\n",
      "user 8, g: -5.250997689561023e-05, ucb: 2.5682280161374336, num_of_obs: 33, curr_delay = 0.15967821368120308, privacy reward: 0.7189237334319276\n",
      "max_delay = 0.16 seconds\n",
      "iteration185\n"
     ]
    },
    {
     "name": "stderr",
     "output_type": "stream",
     "text": [
      " 92%|█████████▎| 185/200 [01:34<00:08,  1.85it/s]"
     ]
    },
    {
     "name": "stdout",
     "output_type": "stream",
     "text": [
      "user 4, g: -0.0007799691583475378, ucb: 2.5570829505106962, num_of_obs: 37, curr_delay = 0.1293127389043898, privacy reward: 0.6907343306373563\n",
      "user 6, g: -0.00029299569840110447, ucb: 2.5626855490182727, num_of_obs: 35, curr_delay = 0.11135599214580726, privacy reward: 0.704688089718715\n",
      "user 10, g: -8.116224332440883e-07, ucb: 2.5568095404717757, num_of_obs: 32, curr_delay = 0.15124464219570544, privacy reward: 0.7261490370736924\n",
      "user 28, g: 0.000994237480723966, ucb: 2.559824293953323, num_of_obs: 26, curr_delay = 0.8827231764514517, privacy reward: 0.7710515858035675\n",
      "user 29, g: 0.000994237480723966, ucb: 2.5587452940672106, num_of_obs: 26, curr_delay = 0.9167331561203887, privacy reward: 0.7710515858035675\n",
      "max_delay = 0.92 seconds\n",
      "iteration186\n"
     ]
    },
    {
     "name": "stderr",
     "output_type": "stream",
     "text": [
      " 93%|█████████▎| 186/200 [01:34<00:07,  1.87it/s]"
     ]
    },
    {
     "name": "stdout",
     "output_type": "stream",
     "text": [
      "user 5, g: -0.0007226268932824606, ucb: 2.5568500319676604, num_of_obs: 37, curr_delay = 0.13630212290441573, privacy reward: 0.6907343306373563\n",
      "user 7, g: -0.0002601456815816862, ucb: 2.5514907682530743, num_of_obs: 35, curr_delay = 0.12916383693265815, privacy reward: 0.704688089718715\n",
      "user 9, g: -2.8905075731298662e-05, ucb: 2.5497737791266806, num_of_obs: 33, curr_delay = 0.1536007393442585, privacy reward: 0.7189237334319276\n",
      "user 12, g: 2.8905075731298364e-05, ucb: 2.5555656377714318, num_of_obs: 31, curr_delay = 0.18492081768017446, privacy reward: 0.7334469562242907\n",
      "user 13, g: 2.8905075731298364e-05, ucb: 2.5509150714597246, num_of_obs: 31, curr_delay = 0.17113556530342736, privacy reward: 0.7334469562242907\n",
      "max_delay = 0.18 seconds\n",
      "iteration187\n"
     ]
    },
    {
     "name": "stderr",
     "output_type": "stream",
     "text": [
      " 94%|█████████▎| 187/200 [01:35<00:06,  1.89it/s]"
     ]
    },
    {
     "name": "stdout",
     "output_type": "stream",
     "text": [
      "user 2, g: -0.0027651475433796914, ucb: 2.556246820319668, num_of_obs: 42, curr_delay = 0.10506455388979728, privacy reward: 0.6570468198150585\n",
      "user 6, g: -0.00042021345890487163, ucb: 2.5349101481653227, num_of_obs: 36, curr_delay = 0.12022399091737626, privacy reward: 0.6976763260710326\n",
      "user 8, g: -9.611687812379895e-05, ucb: 2.536509281147925, num_of_obs: 34, curr_delay = 0.12500736865987377, privacy reward: 0.7117703227626112\n",
      "user 11, g: 7.943543646594819e-07, ucb: 2.536209249205038, num_of_obs: 32, curr_delay = 0.14883522986439016, privacy reward: 0.7261490370736924\n",
      "user 14, g: 3.892336386831496e-05, ucb: 2.5420716140074027, num_of_obs: 31, curr_delay = 0.20715957747728883, privacy reward: 0.7334469562242907\n",
      "max_delay = 0.21 seconds\n",
      "iteration188\n"
     ]
    },
    {
     "name": "stderr",
     "output_type": "stream",
     "text": [
      " 94%|█████████▍| 188/200 [01:36<00:06,  1.85it/s]"
     ]
    },
    {
     "name": "stdout",
     "output_type": "stream",
     "text": [
      "user 10, g: -1.2574820180071461e-05, ucb: 2.525486898028654, num_of_obs: 33, curr_delay = 0.14513835579193013, privacy reward: 0.7189237334319276\n",
      "user 15, g: 0.0008047884915245704, ucb: 2.528686592786333, num_of_obs: 27, curr_delay = 0.7175657544691557, privacy reward: 0.7633794943368545\n",
      "user 16, g: 0.0008047884915245704, ucb: 2.5265412387485067, num_of_obs: 27, curr_delay = 0.7274328745373672, privacy reward: 0.7633794943368545\n",
      "user 17, g: 0.0008047884915245704, ucb: 2.5258583844504003, num_of_obs: 27, curr_delay = 0.7116803204789918, privacy reward: 0.7633794943368545\n",
      "user 18, g: 0.0008047884915245704, ucb: 2.5240215884743633, num_of_obs: 27, curr_delay = 0.7644124297323986, privacy reward: 0.7633794943368545\n",
      "max_delay = 0.76 seconds\n",
      "iteration189\n"
     ]
    },
    {
     "name": "stderr",
     "output_type": "stream",
     "text": [
      " 94%|█████████▍| 189/200 [01:36<00:05,  1.84it/s]"
     ]
    },
    {
     "name": "stdout",
     "output_type": "stream",
     "text": [
      "user 12, g: 6.998684247361496e-06, ucb: 2.5218588331022285, num_of_obs: 32, curr_delay = 0.1819100721874099, privacy reward: 0.7261490370736924\n",
      "user 19, g: 0.0008468407939307409, ucb: 2.524145314516753, num_of_obs: 27, curr_delay = 0.7664223833327816, privacy reward: 0.7633794943368545\n",
      "user 20, g: 0.0008468407939307409, ucb: 2.523554215441104, num_of_obs: 27, curr_delay = 0.7834077496044132, privacy reward: 0.7633794943368545\n",
      "user 21, g: 0.0008468407939307409, ucb: 2.5222026765955468, num_of_obs: 27, curr_delay = 0.8250158899531553, privacy reward: 0.7633794943368545\n",
      "user 22, g: 0.0008468407939307409, ucb: 2.521423524415831, num_of_obs: 27, curr_delay = 0.8133789421496724, privacy reward: 0.7633794943368545\n",
      "max_delay = 0.83 seconds\n",
      "iteration190\n"
     ]
    },
    {
     "name": "stderr",
     "output_type": "stream",
     "text": [
      " 95%|█████████▌| 190/200 [01:37<00:05,  1.85it/s]"
     ]
    },
    {
     "name": "stdout",
     "output_type": "stream",
     "text": [
      "user 13, g: 1.2311480455524659e-05, ucb: 2.5191942958629245, num_of_obs: 32, curr_delay = 0.17983059052874797, privacy reward: 0.7261490370736924\n",
      "user 23, g: 0.000889504462911664, ucb: 2.5217153536744727, num_of_obs: 27, curr_delay = 0.8239507400672234, privacy reward: 0.7633794943368545\n",
      "user 24, g: 0.000889504462911664, ucb: 2.520458464610233, num_of_obs: 27, curr_delay = 0.8223442294900124, privacy reward: 0.7633794943368545\n",
      "user 25, g: 0.000889504462911664, ucb: 2.519175916493607, num_of_obs: 27, curr_delay = 0.8542571620719245, privacy reward: 0.7633794943368545\n",
      "user 26, g: 0.000889504462911664, ucb: 2.5186132590948374, num_of_obs: 27, curr_delay = 0.867430322595175, privacy reward: 0.7633794943368545\n",
      "max_delay = 0.87 seconds\n",
      "iteration191\n"
     ]
    },
    {
     "name": "stderr",
     "output_type": "stream",
     "text": [
      " 96%|█████████▌| 191/200 [01:37<00:04,  1.87it/s]"
     ]
    },
    {
     "name": "stdout",
     "output_type": "stream",
     "text": [
      "user 1, g: -0.005501341642072435, ucb: 2.6177017993729916, num_of_obs: 47, curr_delay = 0.06085020433877202, privacy reward: 0.6250022682827028\n",
      "user 2, g: -0.0028332861245884485, ucb: 2.533771765547008, num_of_obs: 43, curr_delay = 0.07460370997899045, privacy reward: 0.6505090947233183\n",
      "user 3, g: -0.0028332861245884485, ucb: 2.5461804457071104, num_of_obs: 43, curr_delay = 0.10393323898412965, privacy reward: 0.6505090947233183\n",
      "user 4, g: -0.0007317355457483205, ucb: 2.5326952507480813, num_of_obs: 38, curr_delay = 0.13379343027379964, privacy reward: 0.6838614092123576\n",
      "user 5, g: -0.0007317355457483205, ucb: 2.530885201625271, num_of_obs: 38, curr_delay = 0.0939585078622216, privacy reward: 0.6838614092123576\n",
      "max_delay = 0.13 seconds\n",
      "iteration192\n"
     ]
    },
    {
     "name": "stderr",
     "output_type": "stream",
     "text": [
      " 96%|█████████▌| 192/200 [01:38<00:04,  1.88it/s]"
     ]
    },
    {
     "name": "stdout",
     "output_type": "stream",
     "text": [
      "user 7, g: -0.000244140625, ucb: 2.5265241184736116, num_of_obs: 36, curr_delay = 0.1633772188390199, privacy reward: 0.6976763260710326\n",
      "user 9, g: -2.7126736111111208e-05, ucb: 2.5222614983887883, num_of_obs: 34, curr_delay = 0.14765486412681417, privacy reward: 0.7117703227626112\n",
      "user 27, g: 0.0009765625, ucb: 2.5199382557373444, num_of_obs: 27, curr_delay = 0.8909480389103744, privacy reward: 0.7633794943368545\n",
      "user 28, g: 0.0009765625, ucb: 2.5199233887502643, num_of_obs: 27, curr_delay = 0.8845178832651659, privacy reward: 0.7633794943368545\n",
      "user 29, g: 0.0009765625, ucb: 2.518805065749303, num_of_obs: 27, curr_delay = 0.9136547324237492, privacy reward: 0.7633794943368545\n",
      "max_delay = 0.91 seconds\n",
      "iteration193\n"
     ]
    },
    {
     "name": "stderr",
     "output_type": "stream",
     "text": [
      " 96%|█████████▋| 193/200 [01:38<00:03,  1.84it/s]"
     ]
    },
    {
     "name": "stdout",
     "output_type": "stream",
     "text": [
      "user 2, g: -0.003150718438377167, ucb: 2.514720122563496, num_of_obs: 44, curr_delay = 0.1008091460104889, privacy reward: 0.6440364210831433\n",
      "user 3, g: -0.003150718438377167, ucb: 2.522441858864904, num_of_obs: 44, curr_delay = 0.10583018319928425, privacy reward: 0.6440364210831433\n",
      "user 6, g: -0.0003944923204500645, ucb: 2.511544158022647, num_of_obs: 37, curr_delay = 0.12545653858503436, privacy reward: 0.6907343306373563\n",
      "user 8, g: -9.023359314642296e-05, ucb: 2.5119757102012312, num_of_obs: 35, curr_delay = 0.14774760986618998, privacy reward: 0.704688089718715\n",
      "user 14, g: 3.654087656342754e-05, ucb: 2.5112240221090354, num_of_obs: 32, curr_delay = 0.19447336646419566, privacy reward: 0.7261490370736924\n",
      "max_delay = 0.19 seconds\n",
      "iteration194\n"
     ]
    },
    {
     "name": "stderr",
     "output_type": "stream",
     "text": [
      " 97%|█████████▋| 194/200 [01:39<00:03,  1.86it/s]"
     ]
    },
    {
     "name": "stdout",
     "output_type": "stream",
     "text": [
      "user 0, g: -0.004962742527839775, ucb: 2.690497167414895, num_of_obs: 47, curr_delay = 0.05, privacy reward: 0.6250022682827028\n",
      "user 1, g: -0.005715567836940992, ucb: 2.601786570206257, num_of_obs: 48, curr_delay = 0.05478109070115206, privacy reward: 0.6187833918061428\n",
      "user 4, g: -0.0008532020169813776, ucb: 2.5058708158028518, num_of_obs: 39, curr_delay = 0.11637297332978544, privacy reward: 0.6770568744981664\n",
      "user 5, g: -0.0008532020169813776, ucb: 2.5082778564006274, num_of_obs: 39, curr_delay = 0.08975063349487318, privacy reward: 0.6770568744981664\n",
      "user 11, g: 2.9522561141223915e-06, ucb: 2.5100927918619163, num_of_obs: 33, curr_delay = 0.15750984461509623, privacy reward: 0.7189237334319276\n",
      "max_delay = 0.16 seconds\n",
      "iteration195\n"
     ]
    },
    {
     "name": "stderr",
     "output_type": "stream",
     "text": [
      " 98%|█████████▊| 195/200 [01:39<00:02,  1.88it/s]"
     ]
    },
    {
     "name": "stdout",
     "output_type": "stream",
     "text": [
      "user 12, g: 6.574621959237297e-06, ucb: 2.4931510230431586, num_of_obs: 33, curr_delay = 0.14886360121962836, privacy reward: 0.7189237334319276\n",
      "user 13, g: 6.574621959237297e-06, ucb: 2.489571067472747, num_of_obs: 33, curr_delay = 0.18230008325390387, privacy reward: 0.7189237334319276\n",
      "user 15, g: 0.0007955292570677177, ucb: 2.491107677565942, num_of_obs: 28, curr_delay = 0.7117563388685263, privacy reward: 0.7557837414557268\n",
      "user 16, g: 0.0007955292570677177, ucb: 2.4890067751224207, num_of_obs: 28, curr_delay = 0.6919463860307701, privacy reward: 0.7557837414557268\n",
      "user 17, g: 0.0007955292570677177, ucb: 2.4884055598322044, num_of_obs: 28, curr_delay = 0.7676820555466196, privacy reward: 0.7557837414557268\n",
      "max_delay = 0.77 seconds\n",
      "iteration196\n"
     ]
    },
    {
     "name": "stderr",
     "output_type": "stream",
     "text": [
      " 98%|█████████▊| 196/200 [01:40<00:02,  1.88it/s]"
     ]
    },
    {
     "name": "stdout",
     "output_type": "stream",
     "text": [
      "user 0, g: -0.005347887454301448, ucb: 2.675925728796469, num_of_obs: 48, curr_delay = 0.10239262122286327, privacy reward: 0.6187833918061428\n",
      "user 1, g: -0.006120135128881485, ucb: 2.5873638409436652, num_of_obs: 49, curr_delay = 0.090279074665923, privacy reward: 0.6126263941844181\n",
      "user 3, g: -0.0033435142764588837, ucb: 2.5002744883114385, num_of_obs: 45, curr_delay = 0.09437083351504788, privacy reward: 0.6376281516217752\n",
      "user 7, g: -0.00028923133879402163, ucb: 2.4982206892212018, num_of_obs: 37, curr_delay = 0.14058264719273772, privacy reward: 0.6907343306373563\n",
      "user 10, g: -2.8923133879402165e-06, ucb: 2.5013733008325674, num_of_obs: 34, curr_delay = 0.138848804863268, privacy reward: 0.7117703227626112\n",
      "max_delay = 0.14 seconds\n",
      "iteration197\n"
     ]
    },
    {
     "name": "stderr",
     "output_type": "stream",
     "text": [
      " 98%|█████████▊| 197/200 [01:40<00:01,  1.87it/s]"
     ]
    },
    {
     "name": "stdout",
     "output_type": "stream",
     "text": [
      "user 18, g: 0.0008768012001797977, ucb: 2.4887982172262855, num_of_obs: 28, curr_delay = 0.7187346661950598, privacy reward: 0.7557837414557268\n",
      "user 19, g: 0.0008768012001797977, ucb: 2.487712294874203, num_of_obs: 28, curr_delay = 0.7660739722147311, privacy reward: 0.7557837414557268\n",
      "user 20, g: 0.0008768012001797977, ucb: 2.4870907011657644, num_of_obs: 28, curr_delay = 0.7769042628173833, privacy reward: 0.7557837414557268\n",
      "user 21, g: 0.0008768012001797977, ucb: 2.485670003363006, num_of_obs: 28, curr_delay = 0.8061774587299183, privacy reward: 0.7557837414557268\n",
      "user 22, g: 0.0008768012001797977, ucb: 2.484951822352404, num_of_obs: 28, curr_delay = 0.7900963117329556, privacy reward: 0.7557837414557268\n",
      "max_delay = 0.81 seconds\n",
      "iteration198\n"
     ]
    },
    {
     "name": "stderr",
     "output_type": "stream",
     "text": [
      " 99%|█████████▉| 198/200 [01:41<00:01,  1.88it/s]"
     ]
    },
    {
     "name": "stdout",
     "output_type": "stream",
     "text": [
      "user 23, g: 0.0009182736455463729, ucb: 2.4851725722446227, num_of_obs: 28, curr_delay = 0.7982840302355213, privacy reward: 0.7557837414557268\n",
      "user 24, g: 0.0009182736455463729, ucb: 2.4839666253390114, num_of_obs: 28, curr_delay = 0.8468950431579654, privacy reward: 0.7557837414557268\n",
      "user 25, g: 0.0009182736455463729, ucb: 2.4826474529197613, num_of_obs: 28, curr_delay = 0.8440454069580183, privacy reward: 0.7557837414557268\n",
      "user 26, g: 0.0009182736455463729, ucb: 2.4820727136856378, num_of_obs: 28, curr_delay = 0.8471641322659539, privacy reward: 0.7557837414557268\n",
      "user 28, g: 0.0009182736455463729, ucb: 2.4809299829777585, num_of_obs: 28, curr_delay = 0.8992444074415359, privacy reward: 0.7557837414557268\n",
      "max_delay = 0.90 seconds\n",
      "iteration199\n"
     ]
    },
    {
     "name": "stderr",
     "output_type": "stream",
     "text": [
      "100%|█████████▉| 199/200 [01:41<00:00,  1.85it/s]"
     ]
    },
    {
     "name": "stdout",
     "output_type": "stream",
     "text": [
      "user 9, g: -1.753603304069201e-05, ucb: 2.497269807622689, num_of_obs: 35, curr_delay = 0.16003510123803016, privacy reward: 0.704688089718715\n",
      "user 11, g: 7.014413216276711e-07, ucb: 2.4823401186560625, num_of_obs: 34, curr_delay = 0.17965351664300214, privacy reward: 0.7117703227626112\n",
      "user 14, g: 3.437062475975621e-05, ucb: 2.4822160055177243, num_of_obs: 33, curr_delay = 0.1582149937238337, privacy reward: 0.7189237334319276\n",
      "user 27, g: 0.0009602731693082938, ucb: 2.482083516773091, num_of_obs: 28, curr_delay = 0.8607888755107017, privacy reward: 0.7557837414557268\n",
      "user 29, g: 0.0009602731693082938, ucb: 2.480940640204101, num_of_obs: 28, curr_delay = 0.9029108625405724, privacy reward: 0.7557837414557268\n",
      "max_delay = 0.90 seconds\n",
      "iteration200\n"
     ]
    },
    {
     "name": "stderr",
     "output_type": "stream",
     "text": [
      "100%|██████████| 200/200 [01:42<00:00,  1.95it/s]"
     ]
    },
    {
     "name": "stdout",
     "output_type": "stream",
     "text": [
      "user 0, g: -0.005377777777777778, ucb: 2.652842233357314, num_of_obs: 49, curr_delay = 0.06491582659410691, privacy reward: 0.6126263941844181\n",
      "user 2, g: -0.0028444444444444454, ucb: 2.496890157694188, num_of_obs: 45, curr_delay = 0.07158690867115235, privacy reward: 0.6376281516217752\n",
      "user 5, g: -0.0008027777777777787, ucb: 2.4900343115811303, num_of_obs: 40, curr_delay = 0.09604735967851973, privacy reward: 0.6703200460356411\n",
      "user 6, g: -0.00033611111111111135, ucb: 2.4895221966179197, num_of_obs: 38, curr_delay = 0.1401632423560255, privacy reward: 0.6838614092123576\n",
      "user 8, g: -6.944444444444442e-05, ucb: 2.487611996689047, num_of_obs: 36, curr_delay = 0.1474409994292305, privacy reward: 0.6976763260710326\n",
      "max_delay = 0.15 seconds\n"
     ]
    },
    {
     "name": "stderr",
     "output_type": "stream",
     "text": [
      "\n"
     ]
    }
   ],
   "source": [
    "\n",
    "\n",
    "choices_table = np.zeros((args.global_epochs, args.num_users))\n",
    "num_of_obs_arr = np.zeros((1,args.num_users))\n",
    "train_loss_list = []\n",
    "val_acc_list = []\n",
    "val_losses_list = []\n",
    "l1_norm_avg_deltha_theta_list = []\n",
    "global_epochs_time_list = []\n",
    "\n",
    "\n",
    "time_counter = 0\n",
    "for global_epoch in tqdm(range(1, args.global_epochs+1)):\n",
    "    \"\"\"Part 1: Choosing Users\"\"\"\n",
    "    for usr_idx in range(args.num_users):\n",
    "        local_models[usr_idx].update_g(global_epoch)\n",
    "        local_models[usr_idx].update_ucb(global_epoch)\n",
    "    \n",
    "    if args.choosing_users_verbose:\n",
    "        print(f\"iteration{global_epoch}\")\n",
    "    a=time.time()\n",
    "    rounds_choise = utils.choose_users(local_models, args, method=args.method_choosing_users)\n",
    "\n",
    "    \n",
    "    #choices_table[global_epoch-1, rounds_choise] = 1\n",
    "    num_of_obs_arr[0,rounds_choise] += 1\n",
    "    for usr_idx in rounds_choise:\n",
    "        local_models[usr_idx].update_emp_avg()\n",
    "        local_models[usr_idx].update_privacy_violation_and_reward()\n",
    "        local_models[usr_idx].increase_num_of_obs()\n",
    "        if args.choosing_users_verbose:\n",
    "            print(f\"user {usr_idx}, g: {local_models[usr_idx].g}, ucb: {local_models[usr_idx].ucb}, num_of_obs: {local_models[usr_idx].num_of_obs}, curr_delay = {local_models[usr_idx].last_access_time}, privacy reward: {local_models[usr_idx].privacy_reward}\")\n",
    "    \n",
    "    max_delay = max([local_models[i].last_access_time for i in rounds_choise])\n",
    "    if args.choosing_users_verbose:\n",
    "        print(f\"max_delay = {max_delay:.2f} seconds\")\n",
    "    \n",
    "    \n",
    "#     \"\"\"Part 2: Training\"\"\"\n",
    "#     learning_utils.distribute_model(local_models, global_model)\n",
    "#     users_avg_loss_over_local_epochs = []\n",
    "\n",
    "#     for user_idx in rounds_choise:\n",
    "#         user_loss = []\n",
    "#         for local_epoch in range(args.local_epochs):\n",
    "#             user = local_models[user_idx]\n",
    "#             train_loss = learning_utils.train_one_epoch(user, train_criterion, args)\n",
    "#             if args.lr_scheduler:\n",
    "#                 user.scheduler.step(train_loss)\n",
    "#             user_loss.append(train_loss)\n",
    "#         users_avg_loss_over_local_epochs.append(mean(user_loss))\n",
    "    \n",
    "#     avg_loss_over_chosen_users_curr_global_epoch = mean(users_avg_loss_over_local_epochs)\n",
    "#     train_loss_list.append(avg_loss_over_chosen_users_curr_global_epoch)\n",
    "\n",
    "\n",
    "#     avg_deltha_theta = learning_utils.Fed_avg_models(local_models, global_model, rounds_choise, args)\n",
    "#     # l1_norm_avg_deltha_theta = sum(LA.vector_norm(param.flatten(),1) for param in avg_deltha_theta.values())\n",
    "#     # l1_norm_avg_deltha_theta_list.append(l1_norm_avg_deltha_theta)\n",
    "#     # print(f\"l1_norm_avg_deltha_theta is {l1_norm_avg_deltha_theta}\")\n",
    "    \n",
    "\n",
    "#     val_acc, val_loss = learning_utils.test(test_loader, global_model, test_criterion, args)\n",
    "#     val_acc_list.append(val_acc) ; val_losses_list.append(val_loss)\n",
    "    \n",
    "\n",
    "#     # boardio.add_scalars(\"Losses over time in seconds\", {\"train_loss\":avg_loss_over_chosen_users_curr_global_epoch,\n",
    "#     #                                     \"val_loss\": val_loss}, time.time()-start_time)\n",
    "#     # boardio.add_scalar('Val Accuracy', val_acc, time.time()-start_time)\n",
    "\n",
    "\n",
    "#     time_counter += max_delay\n",
    "#     print((f\"global epoch {global_epoch} has been done artifficialy in {max_delay:.2f} secs, the total time by now is {time_counter:.2f} \\n with avg train loss {avg_loss_over_chosen_users_curr_global_epoch:.3f}, val loss {val_loss:.3f}, avg val acc {val_acc:.2f}%\"))\n",
    "#     global_epochs_time_list.append(time_counter)\n",
    "#     gc.collect()\n",
    "\n",
    "\n",
    "#     if val_acc > best_val_acc and args.save_best_model:\n",
    "#         best_val_acc = val_acc\n",
    "#         torch.save({\"model's state dict\":global_model.state_dict(),\n",
    "#                     \"train_loss_list\": train_loss_list,\n",
    "#                     \"val_acc_list\": val_acc_list,\n",
    "#                     \"val_losses_list\": val_losses_list,\n",
    "#                     \"global_epochs_time_list\": global_epochs_time_list,\n",
    "#                     \"num_of_users\": args.num_users,\n",
    "#                     \"num_of_users_per_round\": args.num_users_per_round,\n",
    "#                     \"l1_norm_avg_deltha_theta_list\": l1_norm_avg_deltha_theta_list}\n",
    "#                     , path_best_model)\n",
    "    \n",
    "    \n",
    "#     torch.save({\"model's state dict\":global_model.state_dict(),\n",
    "#                 \"train_loss_list\": train_loss_list,\n",
    "#                 \"val_acc_list\": val_acc_list,\n",
    "#                 \"val_losses_list\": val_losses_list,\n",
    "#                 \"global_epochs_time_list\": global_epochs_time_list,\n",
    "#                 \"num_of_obs_arr\": num_of_obs_arr.reshape(-1),\n",
    "#                 \"global_epoch\": global_epoch,\n",
    "#                 \"num_of_users\": args.num_users,\n",
    "#                 \"num_of_users_per_round\": args.num_users_per_round,\n",
    "#                 \"l1_norm_avg_deltha_theta_list\": l1_norm_avg_deltha_theta_list}\n",
    "#                 , last_model_path)\n",
    "\n",
    "#     if time_counter > args.max_seconds:\n",
    "#         break\n",
    "\n",
    "# users_idxs = tuple([str(x) for x in range(1,args.num_users+1)])\n",
    "# fig, ax = plt.subplots()\n",
    "# ax.bar(users_idxs, num_of_obs_arr.reshape(-1), width = 0.4)\n",
    "# ax.set_title(\"Number of times each user was chosen\")\n",
    "# ax.set_ylabel(\"number of times\")\n",
    "# ax.set_xlabel(\"user index\")\n",
    "# #boardio.add_figure(\"Number of times each user was chosen\", fig, global_epoch)\n",
    "# plt.savefig(last_model_path.parent / \"Number of times each user was chosen.png\")\n",
    "\n",
    "# #choices_table = choices_table.cumsum(axis=0)\n"
   ]
  }
 ],
 "metadata": {
  "kernelspec": {
   "display_name": "Python 3",
   "language": "python",
   "name": "python3"
  },
  "language_info": {
   "codemirror_mode": {
    "name": "ipython",
    "version": 3
   },
   "file_extension": ".py",
   "mimetype": "text/x-python",
   "name": "python",
   "nbconvert_exporter": "python",
   "pygments_lexer": "ipython3",
   "version": "3.11.3"
  }
 },
 "nbformat": 4,
 "nbformat_minor": 2
}
