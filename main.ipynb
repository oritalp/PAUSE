{
 "cells": [
  {
   "cell_type": "code",
   "execution_count": 1,
   "metadata": {},
   "outputs": [],
   "source": [
    "import gc\n",
    "import sys\n",
    "from statistics import mean\n",
    "import time\n",
    "import torch\n",
    "from tqdm import tqdm\n",
    "from torchinfo import summary\n",
    "import numpy as np\n",
    "import itertools\n",
    "from pathlib import Path\n",
    "from scipy import special\n",
    "import matplotlib.pyplot as plt\n",
    "import datetime\n",
    "\n",
    "import utils\n",
    "import models\n",
    "import learning_utils\n",
    "from configurations import args_parser, arguments\n",
    "\n"
   ]
  },
  {
   "cell_type": "code",
   "execution_count": 2,
   "metadata": {},
   "outputs": [
    {
     "name": "stdout",
     "output_type": "stream",
     "text": [
      "{'exp_name': 'random selection', 'eval': False, 'data': 'mnist', 'norm_std': 0.5, 'norm_mean': 0.5, 'train_batch_size': 20, 'test_batch_size': 1000, 'model': 'cnn2', 'num_users': 30, 'num_users_per_round': 5, 'local_epochs': 1, 'local_iterations': 100, 'global_epochs': 200, 'tau_min': 0.05, 'privacy_noise': 'laplace', 'epsilon': 4, 'optimizer': 'sgd', 'lr': 0.01, 'momentum': 0.5, 'lr_scheduler': True, 'device': 'cpu', 'seed': 0, 'zeta_coeff': 1.5, 'alpha': 1, 'beta': 2, 'gamma': 1, 'max_seconds': 200, 'method_choosing_users': 'random', 'data_truncation': 700, 'choosing_users_verbose': False}\n"
     ]
    }
   ],
   "source": [
    "start_time = time.time()\n",
    "args = arguments()\n",
    "#boardio is for the the tensorboardx prensation and textio is for written documentation\n",
    "boardio, textio, best_val_acc, path_best_model, last_model_path = utils.initializations(args)\n",
    "textio.cprint(str(args) if args.__class__.__name__ == 'Namespace' else str(vars(args)))\n",
    "\n",
    "#mnist_train_data, mnist_test_loader  = utils.data(args)\n",
    "\n",
    "\n",
    "\n"
   ]
  },
  {
   "cell_type": "code",
   "execution_count": 3,
   "metadata": {},
   "outputs": [
    {
     "name": "stdout",
     "output_type": "stream",
     "text": [
      "=================================================================\n",
      "Layer (type:depth-idx)                   Param #\n",
      "=================================================================\n",
      "CNN2Layer                                --\n",
      "├─Conv2d: 1-1                            156\n",
      "├─Conv2d: 1-2                            906\n",
      "├─Linear: 1-3                            4,850\n",
      "├─Linear: 1-4                            510\n",
      "├─Dropout: 1-5                           --\n",
      "├─Dropout: 1-6                           --\n",
      "=================================================================\n",
      "Total params: 6,422\n",
      "Trainable params: 6,422\n",
      "Non-trainable params: 0\n",
      "=================================================================\n"
     ]
    }
   ],
   "source": [
    "# data\n",
    "train_data, test_loader = utils.data(args)\n",
    "#input in the CNNs is the number of channels and in linear models is the size of the flatten pictures\n",
    "input, output, train_data, val_loader = utils.data_split(train_data, len(test_loader.dataset), args)\n",
    "\n",
    "# model\n",
    "if args.model == 'mlp':\n",
    "    global_model = models.FC2Layer(input, output)\n",
    "elif args.model == 'cnn2':\n",
    "    global_model = models.CNN2Layer(input, output, args.data)\n",
    "elif args.model == 'cnn3':\n",
    "    if args.data == 'mnist':\n",
    "        raise ValueError('CNN3 is not supported for MNIST')\n",
    "    global_model = models.CNN3Layer()\n",
    "elif args.model == 'cnn5':\n",
    "    if args.data == 'mnist':\n",
    "        raise ValueError('CNN3 is not supported for MNIST')\n",
    "    global_model = models.CNN5Layer(input, output)\n",
    "elif args.model == 'linear':\n",
    "    global_model = models.Linear(input, output)\n",
    "\n",
    "\n",
    "\n",
    "textio.cprint(str(summary(global_model)).encode('utf-8', errors='ignore').decode('utf-8', errors='ignore'))\n",
    "global_model.to(args.device)\n",
    "\n",
    "train_criterion = torch.nn.CrossEntropyLoss(reduction='mean')\n",
    "test_criterion = torch.nn.CrossEntropyLoss(reduction='sum')\n",
    "\n",
    "local_models = utils.federated_setup(global_model, train_data, args, i_i_d=True)\n",
    "utils.update_data_equility_partititon(local_models, args)\n",
    "\n"
   ]
  },
  {
   "cell_type": "code",
   "execution_count": 4,
   "metadata": {},
   "outputs": [
    {
     "name": "stderr",
     "output_type": "stream",
     "text": [
      "  0%|          | 0/200 [00:00<?, ?it/s]"
     ]
    },
    {
     "name": "stderr",
     "output_type": "stream",
     "text": [
      "  0%|          | 1/200 [00:05<17:16,  5.21s/it]"
     ]
    },
    {
     "name": "stdout",
     "output_type": "stream",
     "text": [
      "global epoch 1 has been done artifficialy in 0.91 secs, the total time by now is 0.91 \n",
      " with avg train loss 2.292, avg val loss 2.309, avg val acc 9.73%\n"
     ]
    },
    {
     "name": "stderr",
     "output_type": "stream",
     "text": [
      "  1%|          | 2/200 [00:10<16:39,  5.05s/it]"
     ]
    },
    {
     "name": "stdout",
     "output_type": "stream",
     "text": [
      "global epoch 2 has been done artifficialy in 0.83 secs, the total time by now is 1.74 \n",
      " with avg train loss 2.304, avg val loss 2.308, avg val acc 9.72%\n"
     ]
    },
    {
     "name": "stderr",
     "output_type": "stream",
     "text": [
      "  2%|▏         | 3/200 [00:15<16:24,  5.00s/it]"
     ]
    },
    {
     "name": "stdout",
     "output_type": "stream",
     "text": [
      "global epoch 3 has been done artifficialy in 0.84 secs, the total time by now is 2.58 \n",
      " with avg train loss 2.314, avg val loss 2.308, avg val acc 9.73%\n"
     ]
    },
    {
     "name": "stderr",
     "output_type": "stream",
     "text": [
      "  2%|▏         | 4/200 [00:19<16:11,  4.96s/it]"
     ]
    },
    {
     "name": "stdout",
     "output_type": "stream",
     "text": [
      "global epoch 4 has been done artifficialy in 0.18 secs, the total time by now is 2.76 \n",
      " with avg train loss 2.301, avg val loss 2.307, avg val acc 9.71%\n"
     ]
    },
    {
     "name": "stderr",
     "output_type": "stream",
     "text": [
      "  2%|▎         | 5/200 [00:25<16:11,  4.98s/it]"
     ]
    },
    {
     "name": "stdout",
     "output_type": "stream",
     "text": [
      "global epoch 5 has been done artifficialy in 0.77 secs, the total time by now is 3.52 \n",
      " with avg train loss 2.319, avg val loss 2.306, avg val acc 9.70%\n"
     ]
    },
    {
     "name": "stderr",
     "output_type": "stream",
     "text": [
      "  3%|▎         | 6/200 [00:29<16:05,  4.97s/it]"
     ]
    },
    {
     "name": "stdout",
     "output_type": "stream",
     "text": [
      "global epoch 6 has been done artifficialy in 0.86 secs, the total time by now is 4.38 \n",
      " with avg train loss 2.305, avg val loss 2.306, avg val acc 9.71%\n"
     ]
    },
    {
     "name": "stderr",
     "output_type": "stream",
     "text": [
      "  4%|▎         | 7/200 [00:34<15:51,  4.93s/it]"
     ]
    },
    {
     "name": "stdout",
     "output_type": "stream",
     "text": [
      "global epoch 7 has been done artifficialy in 0.86 secs, the total time by now is 5.24 \n",
      " with avg train loss 2.306, avg val loss 2.305, avg val acc 9.70%\n"
     ]
    },
    {
     "name": "stderr",
     "output_type": "stream",
     "text": [
      "  4%|▍         | 8/200 [00:39<15:41,  4.90s/it]"
     ]
    },
    {
     "name": "stdout",
     "output_type": "stream",
     "text": [
      "global epoch 8 has been done artifficialy in 0.89 secs, the total time by now is 6.13 \n",
      " with avg train loss 2.324, avg val loss 2.304, avg val acc 9.71%\n"
     ]
    },
    {
     "name": "stderr",
     "output_type": "stream",
     "text": [
      "  4%|▍         | 9/200 [00:44<15:45,  4.95s/it]"
     ]
    },
    {
     "name": "stdout",
     "output_type": "stream",
     "text": [
      "global epoch 9 has been done artifficialy in 0.80 secs, the total time by now is 6.93 \n",
      " with avg train loss 2.312, avg val loss 2.304, avg val acc 9.74%\n"
     ]
    },
    {
     "name": "stderr",
     "output_type": "stream",
     "text": [
      "  5%|▌         | 10/200 [00:49<15:37,  4.94s/it]"
     ]
    },
    {
     "name": "stdout",
     "output_type": "stream",
     "text": [
      "global epoch 10 has been done artifficialy in 0.85 secs, the total time by now is 7.78 \n",
      " with avg train loss 2.311, avg val loss 2.303, avg val acc 9.73%\n"
     ]
    },
    {
     "name": "stderr",
     "output_type": "stream",
     "text": [
      "  6%|▌         | 11/200 [00:54<15:30,  4.92s/it]"
     ]
    },
    {
     "name": "stdout",
     "output_type": "stream",
     "text": [
      "global epoch 11 has been done artifficialy in 0.74 secs, the total time by now is 8.52 \n",
      " with avg train loss 2.302, avg val loss 2.302, avg val acc 9.71%\n"
     ]
    },
    {
     "name": "stderr",
     "output_type": "stream",
     "text": [
      "  6%|▌         | 12/200 [00:59<15:27,  4.93s/it]"
     ]
    },
    {
     "name": "stdout",
     "output_type": "stream",
     "text": [
      "global epoch 12 has been done artifficialy in 0.80 secs, the total time by now is 9.31 \n",
      " with avg train loss 2.318, avg val loss 2.302, avg val acc 9.74%\n"
     ]
    },
    {
     "name": "stderr",
     "output_type": "stream",
     "text": [
      "  6%|▋         | 13/200 [01:04<15:20,  4.92s/it]"
     ]
    },
    {
     "name": "stdout",
     "output_type": "stream",
     "text": [
      "global epoch 13 has been done artifficialy in 0.89 secs, the total time by now is 10.20 \n",
      " with avg train loss 2.284, avg val loss 2.301, avg val acc 9.71%\n"
     ]
    },
    {
     "name": "stderr",
     "output_type": "stream",
     "text": [
      "  7%|▋         | 14/200 [01:09<15:10,  4.90s/it]"
     ]
    },
    {
     "name": "stdout",
     "output_type": "stream",
     "text": [
      "global epoch 14 has been done artifficialy in 0.84 secs, the total time by now is 11.04 \n",
      " with avg train loss 2.315, avg val loss 2.300, avg val acc 9.79%\n"
     ]
    },
    {
     "name": "stderr",
     "output_type": "stream",
     "text": [
      "  8%|▊         | 15/200 [01:14<15:06,  4.90s/it]"
     ]
    },
    {
     "name": "stdout",
     "output_type": "stream",
     "text": [
      "global epoch 15 has been done artifficialy in 0.84 secs, the total time by now is 11.88 \n",
      " with avg train loss 2.287, avg val loss 2.299, avg val acc 10.05%\n"
     ]
    },
    {
     "name": "stderr",
     "output_type": "stream",
     "text": [
      "  8%|▊         | 16/200 [01:19<15:09,  4.94s/it]"
     ]
    },
    {
     "name": "stdout",
     "output_type": "stream",
     "text": [
      "global epoch 16 has been done artifficialy in 0.89 secs, the total time by now is 12.76 \n",
      " with avg train loss 2.295, avg val loss 2.298, avg val acc 10.21%\n"
     ]
    },
    {
     "name": "stderr",
     "output_type": "stream",
     "text": [
      "  8%|▊         | 17/200 [01:23<14:58,  4.91s/it]"
     ]
    },
    {
     "name": "stdout",
     "output_type": "stream",
     "text": [
      "global epoch 17 has been done artifficialy in 0.86 secs, the total time by now is 13.62 \n",
      " with avg train loss 2.304, avg val loss 2.297, avg val acc 10.08%\n"
     ]
    },
    {
     "name": "stderr",
     "output_type": "stream",
     "text": [
      "  9%|▉         | 18/200 [01:28<14:55,  4.92s/it]"
     ]
    },
    {
     "name": "stdout",
     "output_type": "stream",
     "text": [
      "global epoch 18 has been done artifficialy in 0.89 secs, the total time by now is 14.50 \n",
      " with avg train loss 2.297, avg val loss 2.297, avg val acc 9.83%\n"
     ]
    },
    {
     "name": "stderr",
     "output_type": "stream",
     "text": [
      " 10%|▉         | 19/200 [01:33<14:49,  4.92s/it]"
     ]
    },
    {
     "name": "stdout",
     "output_type": "stream",
     "text": [
      "global epoch 19 has been done artifficialy in 0.92 secs, the total time by now is 15.42 \n",
      " with avg train loss 2.288, avg val loss 2.296, avg val acc 10.28%\n"
     ]
    },
    {
     "name": "stderr",
     "output_type": "stream",
     "text": [
      " 10%|█         | 20/200 [01:38<14:40,  4.89s/it]"
     ]
    },
    {
     "name": "stdout",
     "output_type": "stream",
     "text": [
      "global epoch 20 has been done artifficialy in 0.78 secs, the total time by now is 16.20 \n",
      " with avg train loss 2.306, avg val loss 2.295, avg val acc 10.74%\n"
     ]
    },
    {
     "name": "stderr",
     "output_type": "stream",
     "text": [
      " 10%|█         | 21/200 [01:43<14:31,  4.87s/it]"
     ]
    },
    {
     "name": "stdout",
     "output_type": "stream",
     "text": [
      "global epoch 21 has been done artifficialy in 0.90 secs, the total time by now is 17.10 \n",
      " with avg train loss 2.302, avg val loss 2.294, avg val acc 11.25%\n"
     ]
    },
    {
     "name": "stderr",
     "output_type": "stream",
     "text": [
      " 11%|█         | 22/200 [01:48<14:30,  4.89s/it]"
     ]
    },
    {
     "name": "stdout",
     "output_type": "stream",
     "text": [
      "global epoch 22 has been done artifficialy in 0.82 secs, the total time by now is 17.92 \n",
      " with avg train loss 2.285, avg val loss 2.293, avg val acc 11.43%\n"
     ]
    },
    {
     "name": "stderr",
     "output_type": "stream",
     "text": [
      " 12%|█▏        | 23/200 [01:53<14:23,  4.88s/it]"
     ]
    },
    {
     "name": "stdout",
     "output_type": "stream",
     "text": [
      "global epoch 23 has been done artifficialy in 0.84 secs, the total time by now is 18.76 \n",
      " with avg train loss 2.309, avg val loss 2.292, avg val acc 11.47%\n"
     ]
    },
    {
     "name": "stderr",
     "output_type": "stream",
     "text": [
      " 12%|█▏        | 24/200 [01:58<14:19,  4.88s/it]"
     ]
    },
    {
     "name": "stdout",
     "output_type": "stream",
     "text": [
      "global epoch 24 has been done artifficialy in 0.88 secs, the total time by now is 19.64 \n",
      " with avg train loss 2.282, avg val loss 2.291, avg val acc 10.95%\n"
     ]
    },
    {
     "name": "stderr",
     "output_type": "stream",
     "text": [
      " 12%|█▎        | 25/200 [02:03<14:15,  4.89s/it]"
     ]
    },
    {
     "name": "stdout",
     "output_type": "stream",
     "text": [
      "global epoch 25 has been done artifficialy in 0.91 secs, the total time by now is 20.55 \n",
      " with avg train loss 2.278, avg val loss 2.289, avg val acc 10.88%\n"
     ]
    },
    {
     "name": "stderr",
     "output_type": "stream",
     "text": [
      " 13%|█▎        | 26/200 [02:07<14:10,  4.89s/it]"
     ]
    },
    {
     "name": "stdout",
     "output_type": "stream",
     "text": [
      "global epoch 26 has been done artifficialy in 0.89 secs, the total time by now is 21.44 \n",
      " with avg train loss 2.284, avg val loss 2.288, avg val acc 11.28%\n"
     ]
    },
    {
     "name": "stderr",
     "output_type": "stream",
     "text": [
      " 14%|█▎        | 27/200 [02:12<14:01,  4.86s/it]"
     ]
    },
    {
     "name": "stdout",
     "output_type": "stream",
     "text": [
      "global epoch 27 has been done artifficialy in 0.83 secs, the total time by now is 22.27 \n",
      " with avg train loss 2.279, avg val loss 2.287, avg val acc 10.96%\n"
     ]
    },
    {
     "name": "stderr",
     "output_type": "stream",
     "text": [
      " 14%|█▍        | 28/200 [02:17<14:02,  4.90s/it]"
     ]
    },
    {
     "name": "stdout",
     "output_type": "stream",
     "text": [
      "global epoch 28 has been done artifficialy in 0.18 secs, the total time by now is 22.45 \n",
      " with avg train loss 2.297, avg val loss 2.285, avg val acc 11.59%\n"
     ]
    },
    {
     "name": "stderr",
     "output_type": "stream",
     "text": [
      " 14%|█▍        | 29/200 [02:22<13:55,  4.89s/it]"
     ]
    },
    {
     "name": "stdout",
     "output_type": "stream",
     "text": [
      "global epoch 29 has been done artifficialy in 0.79 secs, the total time by now is 23.23 \n",
      " with avg train loss 2.307, avg val loss 2.286, avg val acc 12.22%\n"
     ]
    },
    {
     "name": "stderr",
     "output_type": "stream",
     "text": [
      " 15%|█▌        | 30/200 [02:27<14:01,  4.95s/it]"
     ]
    },
    {
     "name": "stdout",
     "output_type": "stream",
     "text": [
      "global epoch 30 has been done artifficialy in 0.87 secs, the total time by now is 24.11 \n",
      " with avg train loss 2.292, avg val loss 2.284, avg val acc 12.09%\n"
     ]
    },
    {
     "name": "stderr",
     "output_type": "stream",
     "text": [
      " 16%|█▌        | 31/200 [02:32<13:57,  4.96s/it]"
     ]
    },
    {
     "name": "stdout",
     "output_type": "stream",
     "text": [
      "global epoch 31 has been done artifficialy in 0.90 secs, the total time by now is 25.01 \n",
      " with avg train loss 2.282, avg val loss 2.283, avg val acc 11.86%\n"
     ]
    },
    {
     "name": "stderr",
     "output_type": "stream",
     "text": [
      " 16%|█▌        | 32/200 [02:38<14:22,  5.13s/it]"
     ]
    },
    {
     "name": "stdout",
     "output_type": "stream",
     "text": [
      "global epoch 32 has been done artifficialy in 0.88 secs, the total time by now is 25.89 \n",
      " with avg train loss 2.270, avg val loss 2.282, avg val acc 10.64%\n"
     ]
    },
    {
     "name": "stderr",
     "output_type": "stream",
     "text": [
      " 16%|█▋        | 33/200 [02:43<14:41,  5.28s/it]"
     ]
    },
    {
     "name": "stdout",
     "output_type": "stream",
     "text": [
      "global epoch 33 has been done artifficialy in 0.83 secs, the total time by now is 26.72 \n",
      " with avg train loss 2.281, avg val loss 2.281, avg val acc 11.10%\n"
     ]
    },
    {
     "name": "stderr",
     "output_type": "stream",
     "text": [
      " 17%|█▋        | 34/200 [02:49<14:58,  5.41s/it]"
     ]
    },
    {
     "name": "stdout",
     "output_type": "stream",
     "text": [
      "global epoch 34 has been done artifficialy in 0.72 secs, the total time by now is 27.44 \n",
      " with avg train loss 2.271, avg val loss 2.279, avg val acc 10.10%\n"
     ]
    },
    {
     "name": "stderr",
     "output_type": "stream",
     "text": [
      " 18%|█▊        | 35/200 [02:55<14:56,  5.44s/it]"
     ]
    },
    {
     "name": "stdout",
     "output_type": "stream",
     "text": [
      "global epoch 35 has been done artifficialy in 0.71 secs, the total time by now is 28.15 \n",
      " with avg train loss 2.288, avg val loss 2.278, avg val acc 10.54%\n"
     ]
    },
    {
     "name": "stderr",
     "output_type": "stream",
     "text": [
      " 18%|█▊        | 36/200 [03:00<14:47,  5.41s/it]"
     ]
    },
    {
     "name": "stdout",
     "output_type": "stream",
     "text": [
      "global epoch 36 has been done artifficialy in 0.79 secs, the total time by now is 28.94 \n",
      " with avg train loss 2.281, avg val loss 2.277, avg val acc 11.08%\n"
     ]
    },
    {
     "name": "stderr",
     "output_type": "stream",
     "text": [
      " 18%|█▊        | 37/200 [03:05<14:23,  5.30s/it]"
     ]
    },
    {
     "name": "stdout",
     "output_type": "stream",
     "text": [
      "global epoch 37 has been done artifficialy in 0.92 secs, the total time by now is 29.86 \n",
      " with avg train loss 2.281, avg val loss 2.276, avg val acc 10.78%\n"
     ]
    },
    {
     "name": "stderr",
     "output_type": "stream",
     "text": [
      " 19%|█▉        | 38/200 [03:10<14:29,  5.37s/it]"
     ]
    },
    {
     "name": "stdout",
     "output_type": "stream",
     "text": [
      "global epoch 38 has been done artifficialy in 0.77 secs, the total time by now is 30.62 \n",
      " with avg train loss 2.273, avg val loss 2.275, avg val acc 11.14%\n"
     ]
    },
    {
     "name": "stderr",
     "output_type": "stream",
     "text": [
      " 20%|█▉        | 39/200 [03:16<14:28,  5.39s/it]"
     ]
    },
    {
     "name": "stdout",
     "output_type": "stream",
     "text": [
      "global epoch 39 has been done artifficialy in 0.85 secs, the total time by now is 31.48 \n",
      " with avg train loss 2.268, avg val loss 2.273, avg val acc 11.08%\n"
     ]
    },
    {
     "name": "stderr",
     "output_type": "stream",
     "text": [
      " 20%|██        | 40/200 [03:21<14:22,  5.39s/it]"
     ]
    },
    {
     "name": "stdout",
     "output_type": "stream",
     "text": [
      "global epoch 40 has been done artifficialy in 0.82 secs, the total time by now is 32.30 \n",
      " with avg train loss 2.259, avg val loss 2.271, avg val acc 11.39%\n"
     ]
    },
    {
     "name": "stderr",
     "output_type": "stream",
     "text": [
      " 20%|██        | 41/200 [03:26<13:58,  5.27s/it]"
     ]
    },
    {
     "name": "stdout",
     "output_type": "stream",
     "text": [
      "global epoch 41 has been done artifficialy in 0.89 secs, the total time by now is 33.19 \n",
      " with avg train loss 2.253, avg val loss 2.269, avg val acc 12.34%\n"
     ]
    },
    {
     "name": "stderr",
     "output_type": "stream",
     "text": [
      " 21%|██        | 42/200 [03:31<13:44,  5.22s/it]"
     ]
    },
    {
     "name": "stdout",
     "output_type": "stream",
     "text": [
      "global epoch 42 has been done artifficialy in 0.80 secs, the total time by now is 33.98 \n",
      " with avg train loss 2.257, avg val loss 2.268, avg val acc 12.68%\n"
     ]
    },
    {
     "name": "stderr",
     "output_type": "stream",
     "text": [
      " 22%|██▏       | 43/200 [03:36<13:23,  5.12s/it]"
     ]
    },
    {
     "name": "stdout",
     "output_type": "stream",
     "text": [
      "global epoch 43 has been done artifficialy in 0.86 secs, the total time by now is 34.84 \n",
      " with avg train loss 2.266, avg val loss 2.266, avg val acc 15.05%\n"
     ]
    },
    {
     "name": "stderr",
     "output_type": "stream",
     "text": [
      " 22%|██▏       | 44/200 [03:41<13:03,  5.02s/it]"
     ]
    },
    {
     "name": "stdout",
     "output_type": "stream",
     "text": [
      "global epoch 44 has been done artifficialy in 0.84 secs, the total time by now is 35.68 \n",
      " with avg train loss 2.272, avg val loss 2.264, avg val acc 19.22%\n"
     ]
    },
    {
     "name": "stderr",
     "output_type": "stream",
     "text": [
      " 22%|██▎       | 45/200 [03:46<12:55,  5.00s/it]"
     ]
    },
    {
     "name": "stdout",
     "output_type": "stream",
     "text": [
      "global epoch 45 has been done artifficialy in 0.86 secs, the total time by now is 36.54 \n",
      " with avg train loss 2.273, avg val loss 2.263, avg val acc 22.70%\n"
     ]
    },
    {
     "name": "stderr",
     "output_type": "stream",
     "text": [
      " 23%|██▎       | 46/200 [03:51<12:59,  5.06s/it]"
     ]
    },
    {
     "name": "stdout",
     "output_type": "stream",
     "text": [
      "global epoch 46 has been done artifficialy in 0.89 secs, the total time by now is 37.43 \n",
      " with avg train loss 2.241, avg val loss 2.261, avg val acc 21.27%\n"
     ]
    },
    {
     "name": "stderr",
     "output_type": "stream",
     "text": [
      " 24%|██▎       | 47/200 [03:56<12:53,  5.05s/it]"
     ]
    },
    {
     "name": "stdout",
     "output_type": "stream",
     "text": [
      "global epoch 47 has been done artifficialy in 0.78 secs, the total time by now is 38.21 \n",
      " with avg train loss 2.279, avg val loss 2.260, avg val acc 24.06%\n"
     ]
    },
    {
     "name": "stderr",
     "output_type": "stream",
     "text": [
      " 24%|██▍       | 48/200 [04:02<12:59,  5.13s/it]"
     ]
    },
    {
     "name": "stdout",
     "output_type": "stream",
     "text": [
      "global epoch 48 has been done artifficialy in 0.81 secs, the total time by now is 39.02 \n",
      " with avg train loss 2.266, avg val loss 2.258, avg val acc 21.87%\n"
     ]
    },
    {
     "name": "stderr",
     "output_type": "stream",
     "text": [
      " 24%|██▍       | 49/200 [04:07<13:11,  5.24s/it]"
     ]
    },
    {
     "name": "stdout",
     "output_type": "stream",
     "text": [
      "global epoch 49 has been done artifficialy in 0.90 secs, the total time by now is 39.92 \n",
      " with avg train loss 2.234, avg val loss 2.256, avg val acc 20.64%\n"
     ]
    },
    {
     "name": "stderr",
     "output_type": "stream",
     "text": [
      " 25%|██▌       | 50/200 [04:12<13:12,  5.28s/it]"
     ]
    },
    {
     "name": "stdout",
     "output_type": "stream",
     "text": [
      "global epoch 50 has been done artifficialy in 0.95 secs, the total time by now is 40.87 \n",
      " with avg train loss 2.244, avg val loss 2.255, avg val acc 17.48%\n"
     ]
    },
    {
     "name": "stderr",
     "output_type": "stream",
     "text": [
      " 26%|██▌       | 51/200 [04:18<13:11,  5.31s/it]"
     ]
    },
    {
     "name": "stdout",
     "output_type": "stream",
     "text": [
      "global epoch 51 has been done artifficialy in 0.82 secs, the total time by now is 41.69 \n",
      " with avg train loss 2.229, avg val loss 2.253, avg val acc 15.80%\n"
     ]
    },
    {
     "name": "stderr",
     "output_type": "stream",
     "text": [
      " 26%|██▌       | 52/200 [04:23<12:59,  5.27s/it]"
     ]
    },
    {
     "name": "stdout",
     "output_type": "stream",
     "text": [
      "global epoch 52 has been done artifficialy in 0.90 secs, the total time by now is 42.59 \n",
      " with avg train loss 2.200, avg val loss 2.252, avg val acc 16.97%\n"
     ]
    },
    {
     "name": "stderr",
     "output_type": "stream",
     "text": [
      " 26%|██▋       | 53/200 [04:28<12:38,  5.16s/it]"
     ]
    },
    {
     "name": "stdout",
     "output_type": "stream",
     "text": [
      "global epoch 53 has been done artifficialy in 0.87 secs, the total time by now is 43.46 \n",
      " with avg train loss 2.205, avg val loss 2.251, avg val acc 15.43%\n"
     ]
    },
    {
     "name": "stderr",
     "output_type": "stream",
     "text": [
      " 27%|██▋       | 54/200 [04:33<12:23,  5.09s/it]"
     ]
    },
    {
     "name": "stdout",
     "output_type": "stream",
     "text": [
      "global epoch 54 has been done artifficialy in 0.89 secs, the total time by now is 44.34 \n",
      " with avg train loss 2.245, avg val loss 2.248, avg val acc 16.48%\n"
     ]
    },
    {
     "name": "stderr",
     "output_type": "stream",
     "text": [
      " 28%|██▊       | 55/200 [04:38<12:08,  5.03s/it]"
     ]
    },
    {
     "name": "stdout",
     "output_type": "stream",
     "text": [
      "global epoch 55 has been done artifficialy in 0.88 secs, the total time by now is 45.22 \n",
      " with avg train loss 2.234, avg val loss 2.246, avg val acc 16.43%\n"
     ]
    },
    {
     "name": "stderr",
     "output_type": "stream",
     "text": [
      " 28%|██▊       | 56/200 [04:43<11:55,  4.97s/it]"
     ]
    },
    {
     "name": "stdout",
     "output_type": "stream",
     "text": [
      "global epoch 56 has been done artifficialy in 0.81 secs, the total time by now is 46.04 \n",
      " with avg train loss 2.233, avg val loss 2.244, avg val acc 15.98%\n"
     ]
    },
    {
     "name": "stderr",
     "output_type": "stream",
     "text": [
      " 28%|██▊       | 57/200 [04:47<11:41,  4.91s/it]"
     ]
    },
    {
     "name": "stdout",
     "output_type": "stream",
     "text": [
      "global epoch 57 has been done artifficialy in 0.89 secs, the total time by now is 46.92 \n",
      " with avg train loss 2.249, avg val loss 2.242, avg val acc 15.36%\n"
     ]
    },
    {
     "name": "stderr",
     "output_type": "stream",
     "text": [
      " 29%|██▉       | 58/200 [04:52<11:30,  4.86s/it]"
     ]
    },
    {
     "name": "stdout",
     "output_type": "stream",
     "text": [
      "global epoch 58 has been done artifficialy in 0.85 secs, the total time by now is 47.78 \n",
      " with avg train loss 2.195, avg val loss 2.241, avg val acc 13.56%\n"
     ]
    },
    {
     "name": "stderr",
     "output_type": "stream",
     "text": [
      " 30%|██▉       | 59/200 [04:57<11:22,  4.84s/it]"
     ]
    },
    {
     "name": "stdout",
     "output_type": "stream",
     "text": [
      "global epoch 59 has been done artifficialy in 0.88 secs, the total time by now is 48.66 \n",
      " with avg train loss 2.264, avg val loss 2.237, avg val acc 16.94%\n"
     ]
    },
    {
     "name": "stderr",
     "output_type": "stream",
     "text": [
      " 30%|███       | 60/200 [05:02<11:12,  4.80s/it]"
     ]
    },
    {
     "name": "stdout",
     "output_type": "stream",
     "text": [
      "global epoch 60 has been done artifficialy in 0.82 secs, the total time by now is 49.48 \n",
      " with avg train loss 2.219, avg val loss 2.234, avg val acc 17.59%\n"
     ]
    },
    {
     "name": "stderr",
     "output_type": "stream",
     "text": [
      " 30%|███       | 61/200 [05:06<11:01,  4.76s/it]"
     ]
    },
    {
     "name": "stdout",
     "output_type": "stream",
     "text": [
      "global epoch 61 has been done artifficialy in 0.89 secs, the total time by now is 50.38 \n",
      " with avg train loss 2.218, avg val loss 2.232, avg val acc 16.31%\n"
     ]
    },
    {
     "name": "stderr",
     "output_type": "stream",
     "text": [
      " 31%|███       | 62/200 [05:11<11:10,  4.86s/it]"
     ]
    },
    {
     "name": "stdout",
     "output_type": "stream",
     "text": [
      "global epoch 62 has been done artifficialy in 0.75 secs, the total time by now is 51.12 \n",
      " with avg train loss 2.233, avg val loss 2.228, avg val acc 15.69%\n"
     ]
    },
    {
     "name": "stderr",
     "output_type": "stream",
     "text": [
      " 32%|███▏      | 63/200 [05:16<11:11,  4.90s/it]"
     ]
    },
    {
     "name": "stdout",
     "output_type": "stream",
     "text": [
      "global epoch 63 has been done artifficialy in 0.88 secs, the total time by now is 52.01 \n",
      " with avg train loss 2.198, avg val loss 2.225, avg val acc 16.23%\n"
     ]
    },
    {
     "name": "stderr",
     "output_type": "stream",
     "text": [
      " 32%|███▏      | 64/200 [05:22<11:29,  5.07s/it]"
     ]
    },
    {
     "name": "stdout",
     "output_type": "stream",
     "text": [
      "global epoch 64 has been done artifficialy in 0.87 secs, the total time by now is 52.88 \n",
      " with avg train loss 2.193, avg val loss 2.221, avg val acc 18.37%\n"
     ]
    },
    {
     "name": "stderr",
     "output_type": "stream",
     "text": [
      " 32%|███▎      | 65/200 [05:27<11:39,  5.18s/it]"
     ]
    },
    {
     "name": "stdout",
     "output_type": "stream",
     "text": [
      "global epoch 65 has been done artifficialy in 0.82 secs, the total time by now is 53.70 \n",
      " with avg train loss 2.204, avg val loss 2.219, avg val acc 20.74%\n"
     ]
    },
    {
     "name": "stderr",
     "output_type": "stream",
     "text": [
      " 33%|███▎      | 66/200 [05:32<11:34,  5.18s/it]"
     ]
    },
    {
     "name": "stdout",
     "output_type": "stream",
     "text": [
      "global epoch 66 has been done artifficialy in 0.77 secs, the total time by now is 54.47 \n",
      " with avg train loss 2.213, avg val loss 2.215, avg val acc 23.30%\n"
     ]
    },
    {
     "name": "stderr",
     "output_type": "stream",
     "text": [
      " 34%|███▎      | 67/200 [05:37<11:21,  5.12s/it]"
     ]
    },
    {
     "name": "stdout",
     "output_type": "stream",
     "text": [
      "global epoch 67 has been done artifficialy in 0.82 secs, the total time by now is 55.29 \n",
      " with avg train loss 2.192, avg val loss 2.211, avg val acc 20.01%\n"
     ]
    },
    {
     "name": "stderr",
     "output_type": "stream",
     "text": [
      " 34%|███▍      | 68/200 [05:43<11:18,  5.14s/it]"
     ]
    },
    {
     "name": "stdout",
     "output_type": "stream",
     "text": [
      "global epoch 68 has been done artifficialy in 0.72 secs, the total time by now is 56.01 \n",
      " with avg train loss 2.164, avg val loss 2.207, avg val acc 20.58%\n"
     ]
    },
    {
     "name": "stderr",
     "output_type": "stream",
     "text": [
      " 34%|███▍      | 69/200 [05:47<11:02,  5.06s/it]"
     ]
    },
    {
     "name": "stdout",
     "output_type": "stream",
     "text": [
      "global epoch 69 has been done artifficialy in 0.90 secs, the total time by now is 56.91 \n",
      " with avg train loss 2.140, avg val loss 2.203, avg val acc 18.22%\n"
     ]
    },
    {
     "name": "stderr",
     "output_type": "stream",
     "text": [
      " 35%|███▌      | 70/200 [05:52<10:46,  4.97s/it]"
     ]
    },
    {
     "name": "stdout",
     "output_type": "stream",
     "text": [
      "global epoch 70 has been done artifficialy in 0.79 secs, the total time by now is 57.70 \n",
      " with avg train loss 2.229, avg val loss 2.198, avg val acc 20.99%\n"
     ]
    },
    {
     "name": "stderr",
     "output_type": "stream",
     "text": [
      " 36%|███▌      | 71/200 [05:58<10:56,  5.09s/it]"
     ]
    },
    {
     "name": "stdout",
     "output_type": "stream",
     "text": [
      "global epoch 71 has been done artifficialy in 0.81 secs, the total time by now is 58.51 \n",
      " with avg train loss 2.192, avg val loss 2.192, avg val acc 22.19%\n"
     ]
    },
    {
     "name": "stderr",
     "output_type": "stream",
     "text": [
      " 36%|███▌      | 72/200 [06:03<10:54,  5.11s/it]"
     ]
    },
    {
     "name": "stdout",
     "output_type": "stream",
     "text": [
      "global epoch 72 has been done artifficialy in 0.77 secs, the total time by now is 59.28 \n",
      " with avg train loss 2.169, avg val loss 2.193, avg val acc 15.40%\n"
     ]
    },
    {
     "name": "stderr",
     "output_type": "stream",
     "text": [
      " 36%|███▋      | 73/200 [06:08<10:48,  5.10s/it]"
     ]
    },
    {
     "name": "stdout",
     "output_type": "stream",
     "text": [
      "global epoch 73 has been done artifficialy in 0.90 secs, the total time by now is 60.18 \n",
      " with avg train loss 2.153, avg val loss 2.188, avg val acc 15.60%\n"
     ]
    },
    {
     "name": "stderr",
     "output_type": "stream",
     "text": [
      " 37%|███▋      | 74/200 [06:13<10:49,  5.16s/it]"
     ]
    },
    {
     "name": "stdout",
     "output_type": "stream",
     "text": [
      "global epoch 74 has been done artifficialy in 0.84 secs, the total time by now is 61.02 \n",
      " with avg train loss 2.176, avg val loss 2.178, avg val acc 17.26%\n"
     ]
    },
    {
     "name": "stderr",
     "output_type": "stream",
     "text": [
      " 38%|███▊      | 75/200 [06:18<10:46,  5.17s/it]"
     ]
    },
    {
     "name": "stdout",
     "output_type": "stream",
     "text": [
      "global epoch 75 has been done artifficialy in 0.89 secs, the total time by now is 61.90 \n",
      " with avg train loss 2.169, avg val loss 2.170, avg val acc 20.77%\n"
     ]
    },
    {
     "name": "stderr",
     "output_type": "stream",
     "text": [
      " 38%|███▊      | 76/200 [06:23<10:37,  5.14s/it]"
     ]
    },
    {
     "name": "stdout",
     "output_type": "stream",
     "text": [
      "global epoch 76 has been done artifficialy in 0.87 secs, the total time by now is 62.77 \n",
      " with avg train loss 2.146, avg val loss 2.162, avg val acc 25.13%\n"
     ]
    },
    {
     "name": "stderr",
     "output_type": "stream",
     "text": [
      " 38%|███▊      | 77/200 [06:28<10:25,  5.08s/it]"
     ]
    },
    {
     "name": "stdout",
     "output_type": "stream",
     "text": [
      "global epoch 77 has been done artifficialy in 0.87 secs, the total time by now is 63.64 \n",
      " with avg train loss 2.158, avg val loss 2.156, avg val acc 24.01%\n"
     ]
    },
    {
     "name": "stderr",
     "output_type": "stream",
     "text": [
      " 39%|███▉      | 78/200 [06:33<10:10,  5.00s/it]"
     ]
    },
    {
     "name": "stdout",
     "output_type": "stream",
     "text": [
      "global epoch 78 has been done artifficialy in 0.90 secs, the total time by now is 64.54 \n",
      " with avg train loss 2.226, avg val loss 2.151, avg val acc 28.09%\n"
     ]
    },
    {
     "name": "stderr",
     "output_type": "stream",
     "text": [
      " 40%|███▉      | 79/200 [06:38<10:04,  4.99s/it]"
     ]
    },
    {
     "name": "stdout",
     "output_type": "stream",
     "text": [
      "global epoch 79 has been done artifficialy in 0.79 secs, the total time by now is 65.32 \n",
      " with avg train loss 2.173, avg val loss 2.147, avg val acc 29.70%\n"
     ]
    },
    {
     "name": "stderr",
     "output_type": "stream",
     "text": [
      " 40%|████      | 80/200 [06:43<10:04,  5.04s/it]"
     ]
    },
    {
     "name": "stdout",
     "output_type": "stream",
     "text": [
      "global epoch 80 has been done artifficialy in 0.91 secs, the total time by now is 66.23 \n",
      " with avg train loss 2.132, avg val loss 2.139, avg val acc 29.97%\n"
     ]
    },
    {
     "name": "stderr",
     "output_type": "stream",
     "text": [
      " 40%|████      | 81/200 [06:49<10:28,  5.28s/it]"
     ]
    },
    {
     "name": "stdout",
     "output_type": "stream",
     "text": [
      "global epoch 81 has been done artifficialy in 0.90 secs, the total time by now is 67.13 \n",
      " with avg train loss 2.190, avg val loss 2.130, avg val acc 27.39%\n"
     ]
    },
    {
     "name": "stderr",
     "output_type": "stream",
     "text": [
      " 41%|████      | 82/200 [06:54<10:07,  5.15s/it]"
     ]
    },
    {
     "name": "stdout",
     "output_type": "stream",
     "text": [
      "global epoch 82 has been done artifficialy in 0.91 secs, the total time by now is 68.05 \n",
      " with avg train loss 2.183, avg val loss 2.122, avg val acc 29.44%\n"
     ]
    },
    {
     "name": "stderr",
     "output_type": "stream",
     "text": [
      " 42%|████▏     | 83/200 [06:59<10:03,  5.16s/it]"
     ]
    },
    {
     "name": "stdout",
     "output_type": "stream",
     "text": [
      "global epoch 83 has been done artifficialy in 0.78 secs, the total time by now is 68.83 \n",
      " with avg train loss 2.085, avg val loss 2.115, avg val acc 24.15%\n"
     ]
    },
    {
     "name": "stderr",
     "output_type": "stream",
     "text": [
      " 42%|████▏     | 84/200 [07:04<09:52,  5.10s/it]"
     ]
    },
    {
     "name": "stdout",
     "output_type": "stream",
     "text": [
      "global epoch 84 has been done artifficialy in 0.77 secs, the total time by now is 69.60 \n",
      " with avg train loss 2.117, avg val loss 2.103, avg val acc 27.84%\n"
     ]
    },
    {
     "name": "stderr",
     "output_type": "stream",
     "text": [
      " 42%|████▎     | 85/200 [07:09<09:41,  5.06s/it]"
     ]
    },
    {
     "name": "stdout",
     "output_type": "stream",
     "text": [
      "global epoch 85 has been done artifficialy in 0.79 secs, the total time by now is 70.39 \n",
      " with avg train loss 2.202, avg val loss 2.093, avg val acc 30.88%\n"
     ]
    },
    {
     "name": "stderr",
     "output_type": "stream",
     "text": [
      " 43%|████▎     | 86/200 [07:14<09:40,  5.09s/it]"
     ]
    },
    {
     "name": "stdout",
     "output_type": "stream",
     "text": [
      "global epoch 86 has been done artifficialy in 0.79 secs, the total time by now is 71.18 \n",
      " with avg train loss 2.130, avg val loss 2.083, avg val acc 30.89%\n"
     ]
    },
    {
     "name": "stderr",
     "output_type": "stream",
     "text": [
      " 44%|████▎     | 87/200 [07:20<09:42,  5.16s/it]"
     ]
    },
    {
     "name": "stdout",
     "output_type": "stream",
     "text": [
      "global epoch 87 has been done artifficialy in 0.86 secs, the total time by now is 72.04 \n",
      " with avg train loss 2.024, avg val loss 2.070, avg val acc 30.56%\n"
     ]
    },
    {
     "name": "stderr",
     "output_type": "stream",
     "text": [
      " 44%|████▍     | 88/200 [07:25<09:46,  5.24s/it]"
     ]
    },
    {
     "name": "stdout",
     "output_type": "stream",
     "text": [
      "global epoch 88 has been done artifficialy in 0.83 secs, the total time by now is 72.86 \n",
      " with avg train loss 2.011, avg val loss 2.059, avg val acc 29.64%\n"
     ]
    },
    {
     "name": "stderr",
     "output_type": "stream",
     "text": [
      " 44%|████▍     | 89/200 [07:30<09:40,  5.23s/it]"
     ]
    },
    {
     "name": "stdout",
     "output_type": "stream",
     "text": [
      "global epoch 89 has been done artifficialy in 0.80 secs, the total time by now is 73.67 \n",
      " with avg train loss 2.086, avg val loss 2.050, avg val acc 33.99%\n"
     ]
    },
    {
     "name": "stderr",
     "output_type": "stream",
     "text": [
      " 45%|████▌     | 90/200 [07:36<09:39,  5.27s/it]"
     ]
    },
    {
     "name": "stdout",
     "output_type": "stream",
     "text": [
      "global epoch 90 has been done artifficialy in 0.89 secs, the total time by now is 74.56 \n",
      " with avg train loss 2.102, avg val loss 2.035, avg val acc 31.36%\n"
     ]
    },
    {
     "name": "stderr",
     "output_type": "stream",
     "text": [
      " 46%|████▌     | 91/200 [07:41<09:27,  5.20s/it]"
     ]
    },
    {
     "name": "stdout",
     "output_type": "stream",
     "text": [
      "global epoch 91 has been done artifficialy in 0.89 secs, the total time by now is 75.44 \n",
      " with avg train loss 2.044, avg val loss 2.021, avg val acc 34.74%\n"
     ]
    },
    {
     "name": "stderr",
     "output_type": "stream",
     "text": [
      " 46%|████▌     | 92/200 [07:45<09:12,  5.12s/it]"
     ]
    },
    {
     "name": "stdout",
     "output_type": "stream",
     "text": [
      "global epoch 92 has been done artifficialy in 0.87 secs, the total time by now is 76.32 \n",
      " with avg train loss 1.978, avg val loss 2.011, avg val acc 29.65%\n"
     ]
    },
    {
     "name": "stderr",
     "output_type": "stream",
     "text": [
      " 46%|████▋     | 93/200 [07:51<09:07,  5.12s/it]"
     ]
    },
    {
     "name": "stdout",
     "output_type": "stream",
     "text": [
      "global epoch 93 has been done artifficialy in 0.87 secs, the total time by now is 77.19 \n",
      " with avg train loss 1.966, avg val loss 1.998, avg val acc 31.02%\n"
     ]
    },
    {
     "name": "stderr",
     "output_type": "stream",
     "text": [
      " 47%|████▋     | 94/200 [07:56<09:03,  5.13s/it]"
     ]
    },
    {
     "name": "stdout",
     "output_type": "stream",
     "text": [
      "global epoch 94 has been done artifficialy in 0.84 secs, the total time by now is 78.03 \n",
      " with avg train loss 1.982, avg val loss 1.979, avg val acc 36.52%\n"
     ]
    },
    {
     "name": "stderr",
     "output_type": "stream",
     "text": [
      " 48%|████▊     | 95/200 [08:01<08:48,  5.04s/it]"
     ]
    },
    {
     "name": "stdout",
     "output_type": "stream",
     "text": [
      "global epoch 95 has been done artifficialy in 0.93 secs, the total time by now is 78.96 \n",
      " with avg train loss 1.904, avg val loss 1.959, avg val acc 34.75%\n"
     ]
    },
    {
     "name": "stderr",
     "output_type": "stream",
     "text": [
      " 48%|████▊     | 96/200 [08:06<08:42,  5.02s/it]"
     ]
    },
    {
     "name": "stdout",
     "output_type": "stream",
     "text": [
      "global epoch 96 has been done artifficialy in 0.78 secs, the total time by now is 79.74 \n",
      " with avg train loss 1.994, avg val loss 1.939, avg val acc 36.29%\n"
     ]
    },
    {
     "name": "stderr",
     "output_type": "stream",
     "text": [
      " 48%|████▊     | 97/200 [08:11<08:41,  5.06s/it]"
     ]
    },
    {
     "name": "stdout",
     "output_type": "stream",
     "text": [
      "global epoch 97 has been done artifficialy in 0.75 secs, the total time by now is 80.49 \n",
      " with avg train loss 1.833, avg val loss 1.935, avg val acc 32.12%\n"
     ]
    },
    {
     "name": "stderr",
     "output_type": "stream",
     "text": [
      " 49%|████▉     | 98/200 [08:16<08:37,  5.08s/it]"
     ]
    },
    {
     "name": "stdout",
     "output_type": "stream",
     "text": [
      "global epoch 98 has been done artifficialy in 0.93 secs, the total time by now is 81.42 \n",
      " with avg train loss 2.064, avg val loss 1.900, avg val acc 41.65%\n"
     ]
    },
    {
     "name": "stderr",
     "output_type": "stream",
     "text": [
      " 50%|████▉     | 99/200 [08:21<08:31,  5.06s/it]"
     ]
    },
    {
     "name": "stdout",
     "output_type": "stream",
     "text": [
      "global epoch 99 has been done artifficialy in 0.91 secs, the total time by now is 82.33 \n",
      " with avg train loss 1.783, avg val loss 1.879, avg val acc 37.53%\n"
     ]
    },
    {
     "name": "stderr",
     "output_type": "stream",
     "text": [
      " 50%|█████     | 100/200 [08:26<08:20,  5.01s/it]"
     ]
    },
    {
     "name": "stdout",
     "output_type": "stream",
     "text": [
      "global epoch 100 has been done artifficialy in 0.85 secs, the total time by now is 83.17 \n",
      " with avg train loss 1.794, avg val loss 1.856, avg val acc 40.34%\n"
     ]
    },
    {
     "name": "stderr",
     "output_type": "stream",
     "text": [
      " 50%|█████     | 101/200 [08:31<08:15,  5.01s/it]"
     ]
    },
    {
     "name": "stdout",
     "output_type": "stream",
     "text": [
      "global epoch 101 has been done artifficialy in 0.89 secs, the total time by now is 84.06 \n",
      " with avg train loss 1.658, avg val loss 1.845, avg val acc 35.78%\n"
     ]
    },
    {
     "name": "stderr",
     "output_type": "stream",
     "text": [
      " 51%|█████     | 102/200 [08:36<08:10,  5.01s/it]"
     ]
    },
    {
     "name": "stdout",
     "output_type": "stream",
     "text": [
      "global epoch 102 has been done artifficialy in 0.90 secs, the total time by now is 84.95 \n",
      " with avg train loss 1.927, avg val loss 1.813, avg val acc 40.93%\n"
     ]
    },
    {
     "name": "stderr",
     "output_type": "stream",
     "text": [
      " 52%|█████▏    | 103/200 [08:41<08:05,  5.01s/it]"
     ]
    },
    {
     "name": "stdout",
     "output_type": "stream",
     "text": [
      "global epoch 103 has been done artifficialy in 0.90 secs, the total time by now is 85.86 \n",
      " with avg train loss 1.723, avg val loss 1.787, avg val acc 42.82%\n"
     ]
    },
    {
     "name": "stderr",
     "output_type": "stream",
     "text": [
      " 52%|█████▏    | 104/200 [08:46<07:56,  4.96s/it]"
     ]
    },
    {
     "name": "stdout",
     "output_type": "stream",
     "text": [
      "global epoch 104 has been done artifficialy in 0.88 secs, the total time by now is 86.74 \n",
      " with avg train loss 1.926, avg val loss 1.768, avg val acc 45.38%\n"
     ]
    },
    {
     "name": "stderr",
     "output_type": "stream",
     "text": [
      " 52%|█████▎    | 105/200 [08:51<07:53,  4.98s/it]"
     ]
    },
    {
     "name": "stdout",
     "output_type": "stream",
     "text": [
      "global epoch 105 has been done artifficialy in 0.82 secs, the total time by now is 87.56 \n",
      " with avg train loss 1.727, avg val loss 1.730, avg val acc 45.92%\n"
     ]
    },
    {
     "name": "stderr",
     "output_type": "stream",
     "text": [
      " 53%|█████▎    | 106/200 [08:56<07:53,  5.03s/it]"
     ]
    },
    {
     "name": "stdout",
     "output_type": "stream",
     "text": [
      "global epoch 106 has been done artifficialy in 0.86 secs, the total time by now is 88.42 \n",
      " with avg train loss 1.722, avg val loss 1.715, avg val acc 48.08%\n"
     ]
    },
    {
     "name": "stderr",
     "output_type": "stream",
     "text": [
      " 54%|█████▎    | 107/200 [09:01<07:48,  5.03s/it]"
     ]
    },
    {
     "name": "stdout",
     "output_type": "stream",
     "text": [
      "global epoch 107 has been done artifficialy in 0.86 secs, the total time by now is 89.28 \n",
      " with avg train loss 1.634, avg val loss 1.684, avg val acc 46.59%\n"
     ]
    },
    {
     "name": "stderr",
     "output_type": "stream",
     "text": [
      " 54%|█████▍    | 108/200 [09:06<07:41,  5.02s/it]"
     ]
    },
    {
     "name": "stdout",
     "output_type": "stream",
     "text": [
      "global epoch 108 has been done artifficialy in 0.86 secs, the total time by now is 90.13 \n",
      " with avg train loss 1.758, avg val loss 1.657, avg val acc 49.00%\n"
     ]
    },
    {
     "name": "stderr",
     "output_type": "stream",
     "text": [
      " 55%|█████▍    | 109/200 [09:11<07:35,  5.01s/it]"
     ]
    },
    {
     "name": "stdout",
     "output_type": "stream",
     "text": [
      "global epoch 109 has been done artifficialy in 0.93 secs, the total time by now is 91.06 \n",
      " with avg train loss 1.749, avg val loss 1.623, avg val acc 51.61%\n"
     ]
    },
    {
     "name": "stderr",
     "output_type": "stream",
     "text": [
      " 55%|█████▌    | 110/200 [09:16<07:38,  5.09s/it]"
     ]
    },
    {
     "name": "stdout",
     "output_type": "stream",
     "text": [
      "global epoch 110 has been done artifficialy in 0.82 secs, the total time by now is 91.88 \n",
      " with avg train loss 1.596, avg val loss 1.601, avg val acc 54.29%\n"
     ]
    },
    {
     "name": "stderr",
     "output_type": "stream",
     "text": [
      " 56%|█████▌    | 111/200 [09:21<07:27,  5.03s/it]"
     ]
    },
    {
     "name": "stdout",
     "output_type": "stream",
     "text": [
      "global epoch 111 has been done artifficialy in 0.91 secs, the total time by now is 92.79 \n",
      " with avg train loss 1.785, avg val loss 1.570, avg val acc 56.59%\n"
     ]
    },
    {
     "name": "stderr",
     "output_type": "stream",
     "text": [
      " 56%|█████▌    | 112/200 [09:26<07:22,  5.02s/it]"
     ]
    },
    {
     "name": "stdout",
     "output_type": "stream",
     "text": [
      "global epoch 112 has been done artifficialy in 0.85 secs, the total time by now is 93.64 \n",
      " with avg train loss 1.746, avg val loss 1.545, avg val acc 58.95%\n"
     ]
    },
    {
     "name": "stderr",
     "output_type": "stream",
     "text": [
      " 56%|█████▋    | 113/200 [09:31<07:11,  4.96s/it]"
     ]
    },
    {
     "name": "stdout",
     "output_type": "stream",
     "text": [
      "global epoch 113 has been done artifficialy in 0.86 secs, the total time by now is 94.50 \n",
      " with avg train loss 1.634, avg val loss 1.613, avg val acc 50.12%\n"
     ]
    },
    {
     "name": "stderr",
     "output_type": "stream",
     "text": [
      " 57%|█████▋    | 114/200 [09:36<07:06,  4.96s/it]"
     ]
    },
    {
     "name": "stdout",
     "output_type": "stream",
     "text": [
      "global epoch 114 has been done artifficialy in 0.87 secs, the total time by now is 95.37 \n",
      " with avg train loss 1.581, avg val loss 1.501, avg val acc 57.42%\n"
     ]
    },
    {
     "name": "stderr",
     "output_type": "stream",
     "text": [
      " 57%|█████▊    | 115/200 [09:40<06:55,  4.89s/it]"
     ]
    },
    {
     "name": "stdout",
     "output_type": "stream",
     "text": [
      "global epoch 115 has been done artifficialy in 0.87 secs, the total time by now is 96.24 \n",
      " with avg train loss 1.760, avg val loss 1.479, avg val acc 60.11%\n"
     ]
    },
    {
     "name": "stderr",
     "output_type": "stream",
     "text": [
      " 58%|█████▊    | 116/200 [09:45<06:50,  4.88s/it]"
     ]
    },
    {
     "name": "stdout",
     "output_type": "stream",
     "text": [
      "global epoch 116 has been done artifficialy in 0.89 secs, the total time by now is 97.13 \n",
      " with avg train loss 1.638, avg val loss 1.441, avg val acc 62.59%\n"
     ]
    },
    {
     "name": "stderr",
     "output_type": "stream",
     "text": [
      " 58%|█████▊    | 117/200 [09:50<06:44,  4.88s/it]"
     ]
    },
    {
     "name": "stdout",
     "output_type": "stream",
     "text": [
      "global epoch 117 has been done artifficialy in 0.84 secs, the total time by now is 97.96 \n",
      " with avg train loss 1.698, avg val loss 1.450, avg val acc 58.86%\n"
     ]
    },
    {
     "name": "stderr",
     "output_type": "stream",
     "text": [
      " 59%|█████▉    | 118/200 [09:55<06:40,  4.88s/it]"
     ]
    },
    {
     "name": "stdout",
     "output_type": "stream",
     "text": [
      "global epoch 118 has been done artifficialy in 0.88 secs, the total time by now is 98.85 \n",
      " with avg train loss 1.477, avg val loss 1.382, avg val acc 61.25%\n"
     ]
    },
    {
     "name": "stderr",
     "output_type": "stream",
     "text": [
      " 60%|█████▉    | 119/200 [10:00<06:38,  4.92s/it]"
     ]
    },
    {
     "name": "stdout",
     "output_type": "stream",
     "text": [
      "global epoch 119 has been done artifficialy in 0.89 secs, the total time by now is 99.74 \n",
      " with avg train loss 1.372, avg val loss 1.356, avg val acc 59.00%\n"
     ]
    },
    {
     "name": "stderr",
     "output_type": "stream",
     "text": [
      " 60%|██████    | 120/200 [10:05<06:43,  5.04s/it]"
     ]
    },
    {
     "name": "stdout",
     "output_type": "stream",
     "text": [
      "global epoch 120 has been done artifficialy in 0.78 secs, the total time by now is 100.52 \n",
      " with avg train loss 1.641, avg val loss 1.339, avg val acc 57.16%\n"
     ]
    },
    {
     "name": "stderr",
     "output_type": "stream",
     "text": [
      " 60%|██████    | 121/200 [10:11<06:43,  5.11s/it]"
     ]
    },
    {
     "name": "stdout",
     "output_type": "stream",
     "text": [
      "global epoch 121 has been done artifficialy in 0.86 secs, the total time by now is 101.38 \n",
      " with avg train loss 1.387, avg val loss 1.312, avg val acc 60.66%\n"
     ]
    },
    {
     "name": "stderr",
     "output_type": "stream",
     "text": [
      " 61%|██████    | 122/200 [10:16<06:38,  5.11s/it]"
     ]
    },
    {
     "name": "stdout",
     "output_type": "stream",
     "text": [
      "global epoch 122 has been done artifficialy in 0.83 secs, the total time by now is 102.21 \n",
      " with avg train loss 1.510, avg val loss 1.288, avg val acc 62.16%\n"
     ]
    },
    {
     "name": "stderr",
     "output_type": "stream",
     "text": [
      " 62%|██████▏   | 123/200 [10:21<06:33,  5.11s/it]"
     ]
    },
    {
     "name": "stdout",
     "output_type": "stream",
     "text": [
      "global epoch 123 has been done artifficialy in 0.75 secs, the total time by now is 102.97 \n",
      " with avg train loss 1.443, avg val loss 1.292, avg val acc 62.82%\n"
     ]
    },
    {
     "name": "stderr",
     "output_type": "stream",
     "text": [
      " 62%|██████▏   | 124/200 [10:26<06:30,  5.14s/it]"
     ]
    },
    {
     "name": "stdout",
     "output_type": "stream",
     "text": [
      "global epoch 124 has been done artifficialy in 0.86 secs, the total time by now is 103.83 \n",
      " with avg train loss 1.452, avg val loss 1.239, avg val acc 68.14%\n"
     ]
    },
    {
     "name": "stderr",
     "output_type": "stream",
     "text": [
      " 62%|██████▎   | 125/200 [10:31<06:30,  5.20s/it]"
     ]
    },
    {
     "name": "stdout",
     "output_type": "stream",
     "text": [
      "global epoch 125 has been done artifficialy in 0.89 secs, the total time by now is 104.72 \n",
      " with avg train loss 1.265, avg val loss 1.257, avg val acc 63.83%\n"
     ]
    },
    {
     "name": "stderr",
     "output_type": "stream",
     "text": [
      " 63%|██████▎   | 126/200 [10:36<06:19,  5.13s/it]"
     ]
    },
    {
     "name": "stdout",
     "output_type": "stream",
     "text": [
      "global epoch 126 has been done artifficialy in 0.75 secs, the total time by now is 105.47 \n",
      " with avg train loss 1.549, avg val loss 1.222, avg val acc 69.69%\n"
     ]
    },
    {
     "name": "stderr",
     "output_type": "stream",
     "text": [
      " 64%|██████▎   | 127/200 [10:42<06:13,  5.11s/it]"
     ]
    },
    {
     "name": "stdout",
     "output_type": "stream",
     "text": [
      "global epoch 127 has been done artifficialy in 0.89 secs, the total time by now is 106.37 \n",
      " with avg train loss 1.406, avg val loss 1.181, avg val acc 70.20%\n"
     ]
    },
    {
     "name": "stderr",
     "output_type": "stream",
     "text": [
      " 64%|██████▍   | 128/200 [10:47<06:06,  5.09s/it]"
     ]
    },
    {
     "name": "stdout",
     "output_type": "stream",
     "text": [
      "global epoch 128 has been done artifficialy in 0.83 secs, the total time by now is 107.20 \n",
      " with avg train loss 1.329, avg val loss 1.185, avg val acc 69.64%\n"
     ]
    },
    {
     "name": "stderr",
     "output_type": "stream",
     "text": [
      " 64%|██████▍   | 129/200 [10:52<05:59,  5.07s/it]"
     ]
    },
    {
     "name": "stdout",
     "output_type": "stream",
     "text": [
      "global epoch 129 has been done artifficialy in 0.77 secs, the total time by now is 107.96 \n",
      " with avg train loss 1.480, avg val loss 1.207, avg val acc 66.70%\n"
     ]
    },
    {
     "name": "stderr",
     "output_type": "stream",
     "text": [
      " 65%|██████▌   | 130/200 [10:56<05:51,  5.02s/it]"
     ]
    },
    {
     "name": "stdout",
     "output_type": "stream",
     "text": [
      "global epoch 130 has been done artifficialy in 0.84 secs, the total time by now is 108.80 \n",
      " with avg train loss 1.433, avg val loss 1.137, avg val acc 71.78%\n"
     ]
    },
    {
     "name": "stderr",
     "output_type": "stream",
     "text": [
      " 66%|██████▌   | 131/200 [11:01<05:45,  5.01s/it]"
     ]
    },
    {
     "name": "stdout",
     "output_type": "stream",
     "text": [
      "global epoch 131 has been done artifficialy in 0.82 secs, the total time by now is 109.63 \n",
      " with avg train loss 1.532, avg val loss 1.121, avg val acc 73.64%\n"
     ]
    },
    {
     "name": "stderr",
     "output_type": "stream",
     "text": [
      " 66%|██████▌   | 132/200 [11:06<05:38,  4.97s/it]"
     ]
    },
    {
     "name": "stdout",
     "output_type": "stream",
     "text": [
      "global epoch 132 has been done artifficialy in 0.84 secs, the total time by now is 110.46 \n",
      " with avg train loss 1.222, avg val loss 1.088, avg val acc 73.05%\n"
     ]
    },
    {
     "name": "stderr",
     "output_type": "stream",
     "text": [
      " 66%|██████▋   | 133/200 [11:11<05:28,  4.91s/it]"
     ]
    },
    {
     "name": "stdout",
     "output_type": "stream",
     "text": [
      "global epoch 133 has been done artifficialy in 0.87 secs, the total time by now is 111.33 \n",
      " with avg train loss 1.202, avg val loss 1.062, avg val acc 70.22%\n"
     ]
    },
    {
     "name": "stderr",
     "output_type": "stream",
     "text": [
      " 67%|██████▋   | 134/200 [11:16<05:24,  4.92s/it]"
     ]
    },
    {
     "name": "stdout",
     "output_type": "stream",
     "text": [
      "global epoch 134 has been done artifficialy in 0.85 secs, the total time by now is 112.18 \n",
      " with avg train loss 1.158, avg val loss 1.055, avg val acc 68.12%\n"
     ]
    },
    {
     "name": "stderr",
     "output_type": "stream",
     "text": [
      " 68%|██████▊   | 135/200 [11:21<05:21,  4.95s/it]"
     ]
    },
    {
     "name": "stdout",
     "output_type": "stream",
     "text": [
      "global epoch 135 has been done artifficialy in 0.83 secs, the total time by now is 113.00 \n",
      " with avg train loss 1.318, avg val loss 1.044, avg val acc 70.00%\n"
     ]
    },
    {
     "name": "stderr",
     "output_type": "stream",
     "text": [
      " 68%|██████▊   | 136/200 [11:26<05:24,  5.06s/it]"
     ]
    },
    {
     "name": "stdout",
     "output_type": "stream",
     "text": [
      "global epoch 136 has been done artifficialy in 0.83 secs, the total time by now is 113.83 \n",
      " with avg train loss 1.063, avg val loss 0.999, avg val acc 72.16%\n"
     ]
    },
    {
     "name": "stderr",
     "output_type": "stream",
     "text": [
      " 68%|██████▊   | 137/200 [11:32<05:21,  5.10s/it]"
     ]
    },
    {
     "name": "stdout",
     "output_type": "stream",
     "text": [
      "global epoch 137 has been done artifficialy in 0.88 secs, the total time by now is 114.72 \n",
      " with avg train loss 1.035, avg val loss 1.001, avg val acc 70.60%\n"
     ]
    },
    {
     "name": "stderr",
     "output_type": "stream",
     "text": [
      " 69%|██████▉   | 138/200 [11:36<05:11,  5.03s/it]"
     ]
    },
    {
     "name": "stdout",
     "output_type": "stream",
     "text": [
      "global epoch 138 has been done artifficialy in 0.84 secs, the total time by now is 115.56 \n",
      " with avg train loss 1.178, avg val loss 0.997, avg val acc 69.29%\n"
     ]
    },
    {
     "name": "stderr",
     "output_type": "stream",
     "text": [
      " 70%|██████▉   | 139/200 [11:42<05:08,  5.05s/it]"
     ]
    },
    {
     "name": "stdout",
     "output_type": "stream",
     "text": [
      "global epoch 139 has been done artifficialy in 0.84 secs, the total time by now is 116.40 \n",
      " with avg train loss 1.130, avg val loss 0.977, avg val acc 68.73%\n"
     ]
    },
    {
     "name": "stderr",
     "output_type": "stream",
     "text": [
      " 70%|███████   | 140/200 [11:46<04:58,  4.98s/it]"
     ]
    },
    {
     "name": "stdout",
     "output_type": "stream",
     "text": [
      "global epoch 140 has been done artifficialy in 0.80 secs, the total time by now is 117.19 \n",
      " with avg train loss 0.912, avg val loss 0.939, avg val acc 73.18%\n"
     ]
    },
    {
     "name": "stderr",
     "output_type": "stream",
     "text": [
      " 70%|███████   | 141/200 [11:51<04:51,  4.94s/it]"
     ]
    },
    {
     "name": "stdout",
     "output_type": "stream",
     "text": [
      "global epoch 141 has been done artifficialy in 0.87 secs, the total time by now is 118.07 \n",
      " with avg train loss 1.268, avg val loss 0.923, avg val acc 75.50%\n"
     ]
    },
    {
     "name": "stderr",
     "output_type": "stream",
     "text": [
      " 71%|███████   | 142/200 [11:56<04:44,  4.91s/it]"
     ]
    },
    {
     "name": "stdout",
     "output_type": "stream",
     "text": [
      "global epoch 142 has been done artifficialy in 0.84 secs, the total time by now is 118.91 \n",
      " with avg train loss 1.097, avg val loss 0.946, avg val acc 72.34%\n"
     ]
    },
    {
     "name": "stderr",
     "output_type": "stream",
     "text": [
      " 72%|███████▏  | 143/200 [12:01<04:40,  4.91s/it]"
     ]
    },
    {
     "name": "stdout",
     "output_type": "stream",
     "text": [
      "global epoch 143 has been done artifficialy in 0.87 secs, the total time by now is 119.78 \n",
      " with avg train loss 1.095, avg val loss 0.907, avg val acc 75.02%\n"
     ]
    },
    {
     "name": "stderr",
     "output_type": "stream",
     "text": [
      " 72%|███████▏  | 144/200 [12:06<04:36,  4.93s/it]"
     ]
    },
    {
     "name": "stdout",
     "output_type": "stream",
     "text": [
      "global epoch 144 has been done artifficialy in 0.90 secs, the total time by now is 120.68 \n",
      " with avg train loss 1.046, avg val loss 0.872, avg val acc 76.36%\n"
     ]
    },
    {
     "name": "stderr",
     "output_type": "stream",
     "text": [
      " 72%|███████▎  | 145/200 [12:11<04:30,  4.91s/it]"
     ]
    },
    {
     "name": "stdout",
     "output_type": "stream",
     "text": [
      "global epoch 145 has been done artifficialy in 0.87 secs, the total time by now is 121.55 \n",
      " with avg train loss 0.888, avg val loss 0.868, avg val acc 75.59%\n"
     ]
    },
    {
     "name": "stderr",
     "output_type": "stream",
     "text": [
      " 73%|███████▎  | 146/200 [12:16<04:27,  4.96s/it]"
     ]
    },
    {
     "name": "stdout",
     "output_type": "stream",
     "text": [
      "global epoch 146 has been done artifficialy in 0.90 secs, the total time by now is 122.45 \n",
      " with avg train loss 0.985, avg val loss 0.898, avg val acc 73.54%\n"
     ]
    },
    {
     "name": "stderr",
     "output_type": "stream",
     "text": [
      " 74%|███████▎  | 147/200 [12:21<04:25,  5.01s/it]"
     ]
    },
    {
     "name": "stdout",
     "output_type": "stream",
     "text": [
      "global epoch 147 has been done artifficialy in 0.87 secs, the total time by now is 123.31 \n",
      " with avg train loss 0.985, avg val loss 0.834, avg val acc 77.96%\n"
     ]
    },
    {
     "name": "stderr",
     "output_type": "stream",
     "text": [
      " 74%|███████▍  | 148/200 [12:26<04:19,  4.99s/it]"
     ]
    },
    {
     "name": "stdout",
     "output_type": "stream",
     "text": [
      "global epoch 148 has been done artifficialy in 0.88 secs, the total time by now is 124.19 \n",
      " with avg train loss 1.195, avg val loss 0.837, avg val acc 77.05%\n"
     ]
    },
    {
     "name": "stderr",
     "output_type": "stream",
     "text": [
      " 74%|███████▍  | 149/200 [12:31<04:12,  4.95s/it]"
     ]
    },
    {
     "name": "stdout",
     "output_type": "stream",
     "text": [
      "global epoch 149 has been done artifficialy in 0.91 secs, the total time by now is 125.11 \n",
      " with avg train loss 0.965, avg val loss 0.855, avg val acc 74.25%\n"
     ]
    },
    {
     "name": "stderr",
     "output_type": "stream",
     "text": [
      " 75%|███████▌  | 150/200 [12:36<04:05,  4.91s/it]"
     ]
    },
    {
     "name": "stdout",
     "output_type": "stream",
     "text": [
      "global epoch 150 has been done artifficialy in 0.79 secs, the total time by now is 125.90 \n",
      " with avg train loss 1.015, avg val loss 0.830, avg val acc 74.99%\n"
     ]
    },
    {
     "name": "stderr",
     "output_type": "stream",
     "text": [
      " 76%|███████▌  | 151/200 [12:41<03:59,  4.90s/it]"
     ]
    },
    {
     "name": "stdout",
     "output_type": "stream",
     "text": [
      "global epoch 151 has been done artifficialy in 0.89 secs, the total time by now is 126.79 \n",
      " with avg train loss 0.890, avg val loss 0.798, avg val acc 77.07%\n"
     ]
    },
    {
     "name": "stderr",
     "output_type": "stream",
     "text": [
      " 76%|███████▌  | 152/200 [12:45<03:56,  4.92s/it]"
     ]
    },
    {
     "name": "stdout",
     "output_type": "stream",
     "text": [
      "global epoch 152 has been done artifficialy in 0.85 secs, the total time by now is 127.64 \n",
      " with avg train loss 0.961, avg val loss 0.785, avg val acc 79.43%\n"
     ]
    },
    {
     "name": "stderr",
     "output_type": "stream",
     "text": [
      " 76%|███████▋  | 153/200 [12:50<03:52,  4.95s/it]"
     ]
    },
    {
     "name": "stdout",
     "output_type": "stream",
     "text": [
      "global epoch 153 has been done artifficialy in 0.21 secs, the total time by now is 127.85 \n",
      " with avg train loss 0.924, avg val loss 0.782, avg val acc 77.38%\n"
     ]
    },
    {
     "name": "stderr",
     "output_type": "stream",
     "text": [
      " 77%|███████▋  | 154/200 [12:55<03:46,  4.93s/it]"
     ]
    },
    {
     "name": "stdout",
     "output_type": "stream",
     "text": [
      "global epoch 154 has been done artifficialy in 0.87 secs, the total time by now is 128.72 \n",
      " with avg train loss 0.777, avg val loss 0.780, avg val acc 77.31%\n"
     ]
    },
    {
     "name": "stderr",
     "output_type": "stream",
     "text": [
      " 78%|███████▊  | 155/200 [13:00<03:41,  4.91s/it]"
     ]
    },
    {
     "name": "stdout",
     "output_type": "stream",
     "text": [
      "global epoch 155 has been done artifficialy in 0.82 secs, the total time by now is 129.54 \n",
      " with avg train loss 0.982, avg val loss 0.792, avg val acc 75.57%\n"
     ]
    },
    {
     "name": "stderr",
     "output_type": "stream",
     "text": [
      " 78%|███████▊  | 156/200 [13:05<03:37,  4.94s/it]"
     ]
    },
    {
     "name": "stdout",
     "output_type": "stream",
     "text": [
      "global epoch 156 has been done artifficialy in 0.93 secs, the total time by now is 130.46 \n",
      " with avg train loss 1.042, avg val loss 0.762, avg val acc 78.33%\n"
     ]
    },
    {
     "name": "stderr",
     "output_type": "stream",
     "text": [
      " 78%|███████▊  | 157/200 [13:10<03:32,  4.94s/it]"
     ]
    },
    {
     "name": "stdout",
     "output_type": "stream",
     "text": [
      "global epoch 157 has been done artifficialy in 0.87 secs, the total time by now is 131.34 \n",
      " with avg train loss 0.920, avg val loss 0.734, avg val acc 80.21%\n"
     ]
    },
    {
     "name": "stderr",
     "output_type": "stream",
     "text": [
      " 79%|███████▉  | 158/200 [13:15<03:28,  4.95s/it]"
     ]
    },
    {
     "name": "stdout",
     "output_type": "stream",
     "text": [
      "global epoch 158 has been done artifficialy in 0.76 secs, the total time by now is 132.10 \n",
      " with avg train loss 0.908, avg val loss 0.732, avg val acc 80.39%\n"
     ]
    },
    {
     "name": "stderr",
     "output_type": "stream",
     "text": [
      " 80%|███████▉  | 159/200 [13:20<03:23,  4.96s/it]"
     ]
    },
    {
     "name": "stdout",
     "output_type": "stream",
     "text": [
      "global epoch 159 has been done artifficialy in 0.87 secs, the total time by now is 132.97 \n",
      " with avg train loss 0.758, avg val loss 0.712, avg val acc 81.04%\n"
     ]
    },
    {
     "name": "stderr",
     "output_type": "stream",
     "text": [
      " 80%|████████  | 160/200 [13:25<03:18,  4.95s/it]"
     ]
    },
    {
     "name": "stdout",
     "output_type": "stream",
     "text": [
      "global epoch 160 has been done artifficialy in 0.86 secs, the total time by now is 133.83 \n",
      " with avg train loss 0.742, avg val loss 0.722, avg val acc 80.34%\n"
     ]
    },
    {
     "name": "stderr",
     "output_type": "stream",
     "text": [
      " 80%|████████  | 161/200 [13:30<03:14,  4.98s/it]"
     ]
    },
    {
     "name": "stdout",
     "output_type": "stream",
     "text": [
      "global epoch 161 has been done artifficialy in 0.82 secs, the total time by now is 134.65 \n",
      " with avg train loss 0.776, avg val loss 0.703, avg val acc 80.23%\n"
     ]
    },
    {
     "name": "stderr",
     "output_type": "stream",
     "text": [
      " 81%|████████  | 162/200 [13:35<03:11,  5.04s/it]"
     ]
    },
    {
     "name": "stdout",
     "output_type": "stream",
     "text": [
      "global epoch 162 has been done artifficialy in 0.90 secs, the total time by now is 135.55 \n",
      " with avg train loss 1.135, avg val loss 0.706, avg val acc 80.20%\n"
     ]
    },
    {
     "name": "stderr",
     "output_type": "stream",
     "text": [
      " 82%|████████▏ | 163/200 [13:41<03:09,  5.13s/it]"
     ]
    },
    {
     "name": "stdout",
     "output_type": "stream",
     "text": [
      "global epoch 163 has been done artifficialy in 0.76 secs, the total time by now is 136.32 \n",
      " with avg train loss 0.955, avg val loss 0.712, avg val acc 80.03%\n"
     ]
    },
    {
     "name": "stderr",
     "output_type": "stream",
     "text": [
      " 82%|████████▏ | 164/200 [13:46<03:05,  5.17s/it]"
     ]
    },
    {
     "name": "stdout",
     "output_type": "stream",
     "text": [
      "global epoch 164 has been done artifficialy in 0.87 secs, the total time by now is 137.19 \n",
      " with avg train loss 0.872, avg val loss 0.704, avg val acc 79.46%\n"
     ]
    },
    {
     "name": "stderr",
     "output_type": "stream",
     "text": [
      " 82%|████████▎ | 165/200 [13:51<03:01,  5.18s/it]"
     ]
    },
    {
     "name": "stdout",
     "output_type": "stream",
     "text": [
      "global epoch 165 has been done artifficialy in 0.89 secs, the total time by now is 138.08 \n",
      " with avg train loss 0.742, avg val loss 0.703, avg val acc 78.34%\n"
     ]
    },
    {
     "name": "stderr",
     "output_type": "stream",
     "text": [
      " 83%|████████▎ | 166/200 [13:56<02:56,  5.20s/it]"
     ]
    },
    {
     "name": "stdout",
     "output_type": "stream",
     "text": [
      "global epoch 166 has been done artifficialy in 0.82 secs, the total time by now is 138.90 \n",
      " with avg train loss 0.841, avg val loss 0.676, avg val acc 81.39%\n"
     ]
    },
    {
     "name": "stderr",
     "output_type": "stream",
     "text": [
      " 84%|████████▎ | 167/200 [14:02<02:54,  5.28s/it]"
     ]
    },
    {
     "name": "stdout",
     "output_type": "stream",
     "text": [
      "global epoch 167 has been done artifficialy in 0.88 secs, the total time by now is 139.77 \n",
      " with avg train loss 0.701, avg val loss 0.680, avg val acc 79.96%\n"
     ]
    },
    {
     "name": "stderr",
     "output_type": "stream",
     "text": [
      " 84%|████████▍ | 168/200 [14:07<02:46,  5.19s/it]"
     ]
    },
    {
     "name": "stdout",
     "output_type": "stream",
     "text": [
      "global epoch 168 has been done artifficialy in 0.91 secs, the total time by now is 140.69 \n",
      " with avg train loss 0.779, avg val loss 0.699, avg val acc 77.67%\n"
     ]
    },
    {
     "name": "stderr",
     "output_type": "stream",
     "text": [
      " 84%|████████▍ | 169/200 [14:12<02:39,  5.14s/it]"
     ]
    },
    {
     "name": "stdout",
     "output_type": "stream",
     "text": [
      "global epoch 169 has been done artifficialy in 0.82 secs, the total time by now is 141.51 \n",
      " with avg train loss 1.087, avg val loss 0.686, avg val acc 78.98%\n"
     ]
    },
    {
     "name": "stderr",
     "output_type": "stream",
     "text": [
      " 85%|████████▌ | 170/200 [14:17<02:33,  5.13s/it]"
     ]
    },
    {
     "name": "stdout",
     "output_type": "stream",
     "text": [
      "global epoch 170 has been done artifficialy in 0.89 secs, the total time by now is 142.40 \n",
      " with avg train loss 1.004, avg val loss 0.669, avg val acc 80.16%\n"
     ]
    },
    {
     "name": "stderr",
     "output_type": "stream",
     "text": [
      " 86%|████████▌ | 171/200 [14:22<02:27,  5.09s/it]"
     ]
    },
    {
     "name": "stdout",
     "output_type": "stream",
     "text": [
      "global epoch 171 has been done artifficialy in 0.89 secs, the total time by now is 143.29 \n",
      " with avg train loss 0.809, avg val loss 0.662, avg val acc 80.59%\n"
     ]
    },
    {
     "name": "stderr",
     "output_type": "stream",
     "text": [
      " 86%|████████▌ | 172/200 [14:27<02:21,  5.05s/it]"
     ]
    },
    {
     "name": "stdout",
     "output_type": "stream",
     "text": [
      "global epoch 172 has been done artifficialy in 0.82 secs, the total time by now is 144.11 \n",
      " with avg train loss 0.950, avg val loss 0.656, avg val acc 82.17%\n"
     ]
    },
    {
     "name": "stderr",
     "output_type": "stream",
     "text": [
      " 86%|████████▋ | 173/200 [14:32<02:15,  5.01s/it]"
     ]
    },
    {
     "name": "stdout",
     "output_type": "stream",
     "text": [
      "global epoch 173 has been done artifficialy in 0.92 secs, the total time by now is 145.03 \n",
      " with avg train loss 0.832, avg val loss 0.639, avg val acc 83.04%\n"
     ]
    },
    {
     "name": "stderr",
     "output_type": "stream",
     "text": [
      " 87%|████████▋ | 174/200 [14:37<02:08,  4.95s/it]"
     ]
    },
    {
     "name": "stdout",
     "output_type": "stream",
     "text": [
      "global epoch 174 has been done artifficialy in 0.87 secs, the total time by now is 145.90 \n",
      " with avg train loss 0.622, avg val loss 0.629, avg val acc 82.36%\n"
     ]
    },
    {
     "name": "stderr",
     "output_type": "stream",
     "text": [
      " 88%|████████▊ | 175/200 [14:42<02:03,  4.94s/it]"
     ]
    },
    {
     "name": "stdout",
     "output_type": "stream",
     "text": [
      "global epoch 175 has been done artifficialy in 0.85 secs, the total time by now is 146.75 \n",
      " with avg train loss 0.614, avg val loss 0.620, avg val acc 82.53%\n"
     ]
    },
    {
     "name": "stderr",
     "output_type": "stream",
     "text": [
      " 88%|████████▊ | 176/200 [14:46<01:58,  4.94s/it]"
     ]
    },
    {
     "name": "stdout",
     "output_type": "stream",
     "text": [
      "global epoch 176 has been done artifficialy in 0.84 secs, the total time by now is 147.60 \n",
      " with avg train loss 0.768, avg val loss 0.625, avg val acc 81.75%\n"
     ]
    },
    {
     "name": "stderr",
     "output_type": "stream",
     "text": [
      " 88%|████████▊ | 177/200 [14:51<01:52,  4.91s/it]"
     ]
    },
    {
     "name": "stdout",
     "output_type": "stream",
     "text": [
      "global epoch 177 has been done artifficialy in 0.86 secs, the total time by now is 148.46 \n",
      " with avg train loss 0.806, avg val loss 0.641, avg val acc 79.96%\n"
     ]
    },
    {
     "name": "stderr",
     "output_type": "stream",
     "text": [
      " 89%|████████▉ | 178/200 [14:56<01:48,  4.94s/it]"
     ]
    },
    {
     "name": "stdout",
     "output_type": "stream",
     "text": [
      "global epoch 178 has been done artifficialy in 0.73 secs, the total time by now is 149.19 \n",
      " with avg train loss 0.916, avg val loss 0.634, avg val acc 81.28%\n"
     ]
    },
    {
     "name": "stderr",
     "output_type": "stream",
     "text": [
      " 90%|████████▉ | 179/200 [15:01<01:43,  4.91s/it]"
     ]
    },
    {
     "name": "stdout",
     "output_type": "stream",
     "text": [
      "global epoch 179 has been done artifficialy in 0.84 secs, the total time by now is 150.03 \n",
      " with avg train loss 0.804, avg val loss 0.639, avg val acc 80.34%\n"
     ]
    },
    {
     "name": "stderr",
     "output_type": "stream",
     "text": [
      " 90%|█████████ | 180/200 [15:06<01:38,  4.92s/it]"
     ]
    },
    {
     "name": "stdout",
     "output_type": "stream",
     "text": [
      "global epoch 180 has been done artifficialy in 0.71 secs, the total time by now is 150.74 \n",
      " with avg train loss 0.944, avg val loss 0.619, avg val acc 82.56%\n"
     ]
    },
    {
     "name": "stderr",
     "output_type": "stream",
     "text": [
      " 90%|█████████ | 181/200 [15:11<01:34,  4.98s/it]"
     ]
    },
    {
     "name": "stdout",
     "output_type": "stream",
     "text": [
      "global epoch 181 has been done artifficialy in 0.88 secs, the total time by now is 151.62 \n",
      " with avg train loss 0.614, avg val loss 0.594, avg val acc 83.35%\n"
     ]
    },
    {
     "name": "stderr",
     "output_type": "stream",
     "text": [
      " 91%|█████████ | 182/200 [15:16<01:29,  4.98s/it]"
     ]
    },
    {
     "name": "stdout",
     "output_type": "stream",
     "text": [
      "global epoch 182 has been done artifficialy in 0.90 secs, the total time by now is 152.53 \n",
      " with avg train loss 0.896, avg val loss 0.597, avg val acc 82.40%\n"
     ]
    },
    {
     "name": "stderr",
     "output_type": "stream",
     "text": [
      " 92%|█████████▏| 183/200 [15:21<01:24,  4.96s/it]"
     ]
    },
    {
     "name": "stdout",
     "output_type": "stream",
     "text": [
      "global epoch 183 has been done artifficialy in 0.85 secs, the total time by now is 153.38 \n",
      " with avg train loss 0.938, avg val loss 0.595, avg val acc 82.90%\n"
     ]
    },
    {
     "name": "stderr",
     "output_type": "stream",
     "text": [
      " 92%|█████████▏| 184/200 [15:26<01:21,  5.08s/it]"
     ]
    },
    {
     "name": "stdout",
     "output_type": "stream",
     "text": [
      "global epoch 184 has been done artifficialy in 0.73 secs, the total time by now is 154.11 \n",
      " with avg train loss 0.697, avg val loss 0.574, avg val acc 83.46%\n"
     ]
    },
    {
     "name": "stderr",
     "output_type": "stream",
     "text": [
      " 92%|█████████▎| 185/200 [15:32<01:16,  5.09s/it]"
     ]
    },
    {
     "name": "stdout",
     "output_type": "stream",
     "text": [
      "global epoch 185 has been done artifficialy in 0.81 secs, the total time by now is 154.92 \n",
      " with avg train loss 0.751, avg val loss 0.575, avg val acc 83.29%\n"
     ]
    },
    {
     "name": "stderr",
     "output_type": "stream",
     "text": [
      " 93%|█████████▎| 186/200 [15:37<01:10,  5.05s/it]"
     ]
    },
    {
     "name": "stdout",
     "output_type": "stream",
     "text": [
      "global epoch 186 has been done artifficialy in 0.81 secs, the total time by now is 155.73 \n",
      " with avg train loss 0.880, avg val loss 0.575, avg val acc 83.63%\n"
     ]
    },
    {
     "name": "stderr",
     "output_type": "stream",
     "text": [
      " 94%|█████████▎| 187/200 [15:41<01:05,  5.00s/it]"
     ]
    },
    {
     "name": "stdout",
     "output_type": "stream",
     "text": [
      "global epoch 187 has been done artifficialy in 0.83 secs, the total time by now is 156.56 \n",
      " with avg train loss 0.829, avg val loss 0.585, avg val acc 83.29%\n"
     ]
    },
    {
     "name": "stderr",
     "output_type": "stream",
     "text": [
      " 94%|█████████▍| 188/200 [15:46<00:59,  4.97s/it]"
     ]
    },
    {
     "name": "stdout",
     "output_type": "stream",
     "text": [
      "global epoch 188 has been done artifficialy in 0.13 secs, the total time by now is 156.69 \n",
      " with avg train loss 0.989, avg val loss 0.583, avg val acc 82.49%\n"
     ]
    },
    {
     "name": "stderr",
     "output_type": "stream",
     "text": [
      " 94%|█████████▍| 189/200 [15:51<00:54,  4.98s/it]"
     ]
    },
    {
     "name": "stdout",
     "output_type": "stream",
     "text": [
      "global epoch 189 has been done artifficialy in 0.91 secs, the total time by now is 157.60 \n",
      " with avg train loss 0.718, avg val loss 0.591, avg val acc 82.06%\n"
     ]
    },
    {
     "name": "stderr",
     "output_type": "stream",
     "text": [
      " 95%|█████████▌| 190/200 [15:56<00:49,  4.95s/it]"
     ]
    },
    {
     "name": "stdout",
     "output_type": "stream",
     "text": [
      "global epoch 190 has been done artifficialy in 0.90 secs, the total time by now is 158.50 \n",
      " with avg train loss 0.726, avg val loss 0.599, avg val acc 81.65%\n"
     ]
    },
    {
     "name": "stderr",
     "output_type": "stream",
     "text": [
      " 96%|█████████▌| 191/200 [16:01<00:44,  4.92s/it]"
     ]
    },
    {
     "name": "stdout",
     "output_type": "stream",
     "text": [
      "global epoch 191 has been done artifficialy in 0.90 secs, the total time by now is 159.40 \n",
      " with avg train loss 0.728, avg val loss 0.585, avg val acc 82.64%\n"
     ]
    },
    {
     "name": "stderr",
     "output_type": "stream",
     "text": [
      " 96%|█████████▌| 192/200 [16:06<00:39,  4.92s/it]"
     ]
    },
    {
     "name": "stdout",
     "output_type": "stream",
     "text": [
      "global epoch 192 has been done artifficialy in 0.84 secs, the total time by now is 160.24 \n",
      " with avg train loss 0.838, avg val loss 0.613, avg val acc 81.52%\n"
     ]
    },
    {
     "name": "stderr",
     "output_type": "stream",
     "text": [
      " 96%|█████████▋| 193/200 [16:11<00:34,  4.94s/it]"
     ]
    },
    {
     "name": "stdout",
     "output_type": "stream",
     "text": [
      "global epoch 193 has been done artifficialy in 0.88 secs, the total time by now is 161.12 \n",
      " with avg train loss 0.516, avg val loss 0.599, avg val acc 80.84%\n"
     ]
    },
    {
     "name": "stderr",
     "output_type": "stream",
     "text": [
      " 97%|█████████▋| 194/200 [16:16<00:29,  4.99s/it]"
     ]
    },
    {
     "name": "stdout",
     "output_type": "stream",
     "text": [
      "global epoch 194 has been done artifficialy in 0.89 secs, the total time by now is 162.01 \n",
      " with avg train loss 0.726, avg val loss 0.564, avg val acc 82.26%\n"
     ]
    },
    {
     "name": "stderr",
     "output_type": "stream",
     "text": [
      " 98%|█████████▊| 195/200 [16:21<00:25,  5.00s/it]"
     ]
    },
    {
     "name": "stdout",
     "output_type": "stream",
     "text": [
      "global epoch 195 has been done artifficialy in 0.89 secs, the total time by now is 162.90 \n",
      " with avg train loss 0.736, avg val loss 0.548, avg val acc 84.44%\n"
     ]
    },
    {
     "name": "stderr",
     "output_type": "stream",
     "text": [
      " 98%|█████████▊| 196/200 [16:26<00:19,  4.97s/it]"
     ]
    },
    {
     "name": "stdout",
     "output_type": "stream",
     "text": [
      "global epoch 196 has been done artifficialy in 0.76 secs, the total time by now is 163.66 \n",
      " with avg train loss 0.885, avg val loss 0.541, avg val acc 84.00%\n"
     ]
    },
    {
     "name": "stderr",
     "output_type": "stream",
     "text": [
      " 98%|█████████▊| 197/200 [16:31<00:14,  4.99s/it]"
     ]
    },
    {
     "name": "stdout",
     "output_type": "stream",
     "text": [
      "global epoch 197 has been done artifficialy in 0.80 secs, the total time by now is 164.46 \n",
      " with avg train loss 0.507, avg val loss 0.541, avg val acc 83.41%\n"
     ]
    },
    {
     "name": "stderr",
     "output_type": "stream",
     "text": [
      " 99%|█████████▉| 198/200 [16:36<00:09,  4.98s/it]"
     ]
    },
    {
     "name": "stdout",
     "output_type": "stream",
     "text": [
      "global epoch 198 has been done artifficialy in 0.86 secs, the total time by now is 165.32 \n",
      " with avg train loss 0.671, avg val loss 0.536, avg val acc 83.57%\n"
     ]
    },
    {
     "name": "stderr",
     "output_type": "stream",
     "text": [
      "100%|█████████▉| 199/200 [16:41<00:04,  4.98s/it]"
     ]
    },
    {
     "name": "stdout",
     "output_type": "stream",
     "text": [
      "global epoch 199 has been done artifficialy in 0.73 secs, the total time by now is 166.05 \n",
      " with avg train loss 0.899, avg val loss 0.515, avg val acc 85.29%\n"
     ]
    },
    {
     "name": "stderr",
     "output_type": "stream",
     "text": [
      "100%|██████████| 200/200 [16:46<00:00,  5.03s/it]"
     ]
    },
    {
     "name": "stdout",
     "output_type": "stream",
     "text": [
      "global epoch 200 has been done artifficialy in 0.81 secs, the total time by now is 166.86 \n",
      " with avg train loss 0.740, avg val loss 0.509, avg val acc 84.98%\n"
     ]
    },
    {
     "name": "stderr",
     "output_type": "stream",
     "text": [
      "\n"
     ]
    },
    {
     "data": {
      "image/png": "[encoded data removed]",
      "text/plain": [
       "<Figure size 640x480 with 1 Axes>"
      ]
     },
     "metadata": {},
     "output_type": "display_data"
    }
   ],
   "source": [
    "\n",
    "\n",
    "choices_table = np.zeros((args.global_epochs, args.num_users))\n",
    "num_of_obs_arr = np.zeros((1,args.num_users))\n",
    "train_loss_list = []\n",
    "val_acc_list = []\n",
    "val_losses_list = []\n",
    "global_epochs_time_list = []\n",
    "\n",
    "\n",
    "time_counter = 0\n",
    "for global_epoch in tqdm(range(1, args.global_epochs+1)):\n",
    "    \"\"\"Part 1: Choosing Users\"\"\"\n",
    "    for usr_idx in range(args.num_users):\n",
    "        local_models[usr_idx].update_g(global_epoch)\n",
    "        local_models[usr_idx].update_ucb(global_epoch)\n",
    "    \n",
    "    if args.choosing_users_verbose:\n",
    "        print(f\"iteration{global_epoch}\")\n",
    "    a=time.time()\n",
    "    rounds_choise = utils.choose_users(local_models, args, method=args.method_choosing_users, privacy=False)\n",
    "    #print(f\"choose_users took {time.time()-a}\")\n",
    "    \n",
    "    #choices_table[global_epoch-1, rounds_choise] = 1\n",
    "    num_of_obs_arr[0,rounds_choise] += 1\n",
    "    for usr_idx in rounds_choise:\n",
    "        local_models[usr_idx].update_emp_avg()\n",
    "        local_models[usr_idx].update_privacy_violation_and_reward()\n",
    "        local_models[usr_idx].increase_num_of_obs()\n",
    "        if args.choosing_users_verbose:\n",
    "            print(f\"user {usr_idx}, g: {local_models[usr_idx].g},curr_delay = {local_models[usr_idx].last_access_time}, ucb: {local_models[usr_idx].ucb} num_of_obs: {local_models[usr_idx].num_of_obs}\")\n",
    "    \n",
    "    max_delay = max([local_models[i].last_access_time for i in rounds_choise])\n",
    "    if args.choosing_users_verbose:\n",
    "        print(f\"max_delay = {max_delay}\")\n",
    "    \n",
    "    \n",
    "    \"\"\"Part 2: Training\"\"\"\n",
    "    learning_utils.distribute_model(local_models, global_model)\n",
    "    users_avg_loss_over_local_epochs = []\n",
    "\n",
    "    for user_idx in rounds_choise:\n",
    "        user_loss = []\n",
    "        for local_epoch in range(args.local_epochs):\n",
    "            user = local_models[user_idx]\n",
    "            train_loss = learning_utils.train_one_epoch(user, train_criterion, args)\n",
    "            if args.lr_scheduler:\n",
    "                user.scheduler.step(train_loss)\n",
    "            user_loss.append(train_loss)\n",
    "        users_avg_loss_over_local_epochs.append(mean(user_loss))\n",
    "    \n",
    "    avg_loss_over_chosen_users_curr_global_epoch = mean(users_avg_loss_over_local_epochs)\n",
    "    train_loss_list.append(avg_loss_over_chosen_users_curr_global_epoch)\n",
    "\n",
    "    #we return deltha_theta only for checking can be removed and fix the return value of the function later on to None\n",
    "    deltha_theta = learning_utils.Fed_avg_models(local_models, global_model, rounds_choise)\n",
    "    val_acc, val_loss = learning_utils.test(test_loader, global_model, test_criterion, args)\n",
    "    val_acc_list.append(val_acc) ; val_losses_list.append(val_loss)\n",
    "    \n",
    "\n",
    "    # boardio.add_scalars(\"Losses over time in seconds\", {\"train_loss\":avg_loss_over_chosen_users_curr_global_epoch,\n",
    "    #                                     \"val_loss\": val_loss}, time.time()-start_time)\n",
    "    # boardio.add_scalar('Val Accuracy', val_acc, time.time()-start_time)\n",
    "\n",
    "\n",
    "    time_counter += max_delay\n",
    "    print((f\"global epoch {global_epoch} has been done artifficialy in {max_delay:.2f} secs, the total time by now is {time_counter:.2f} \\n with avg train loss {avg_loss_over_chosen_users_curr_global_epoch:.3f}, avg val loss {val_loss:.3f}, avg val acc {val_acc:.2f}%\"))\n",
    "    global_epochs_time_list.append(time_counter)\n",
    "    gc.collect()\n",
    "\n",
    "\n",
    "    if val_acc > best_val_acc:\n",
    "        best_val_acc = val_acc\n",
    "        torch.save({\"model's state dict\":global_model.state_dict(),\n",
    "                    \"train_loss_list\": train_loss_list,\n",
    "                    \"val_acc_list\": val_acc_list,\n",
    "                    \"val_losses_list\": val_losses_list,\n",
    "                    \"global_epochs_time_list\": global_epochs_time_list,\n",
    "                    \"num_of_users\": args.num_users,\n",
    "                    \"num_of_users_per_round\": args.num_users_per_round}\n",
    "                    , path_best_model)\n",
    "    \n",
    "    \n",
    "    torch.save({\"model's state dict\":global_model.state_dict(),\n",
    "                \"train_loss_list\": train_loss_list,\n",
    "                \"val_acc_list\": val_acc_list,\n",
    "                \"val_losses_list\": val_losses_list,\n",
    "                \"global_epochs_time_list\": global_epochs_time_list,\n",
    "                \"num_of_obs_arr\": num_of_obs_arr.reshape(-1),\n",
    "                \"global_epoch\": global_epoch,\n",
    "                \"num_of_users\": args.num_users,\n",
    "                \"num_of_users_per_round\": args.num_users_per_round}\n",
    "                , last_model_path)\n",
    "\n",
    "    if time_counter > args.max_seconds:\n",
    "        break\n",
    "\n",
    "users_idxs = tuple([str(x) for x in range(1,args.num_users+1)])\n",
    "fig, ax = plt.subplots()\n",
    "ax.bar(users_idxs, num_of_obs_arr.reshape(-1), width = 0.4)\n",
    "ax.set_title(\"Number of times each user was chosen\")\n",
    "ax.set_ylabel(\"number of times\")\n",
    "ax.set_xlabel(\"user index\")\n",
    "#boardio.add_figure(\"Number of times each user was chosen\", fig, global_epoch)\n",
    "plt.savefig(last_model_path.parent / \"Number of times each user was chosen.png\")\n",
    "\n",
    "#choices_table = choices_table.cumsum(axis=0)\n"
   ]
  },
  {
   "cell_type": "code",
   "execution_count": 5,
   "metadata": {},
   "outputs": [
    {
     "data": {
      "text/plain": [
       "<matplotlib.legend.Legend at 0x2c41493f390>"
      ]
     },
     "execution_count": 5,
     "metadata": {},
     "output_type": "execute_result"
    },
    {
     "data": {
      "image/png": "[encoded data removed]",
      "text/plain": [
       "<Figure size 1500x1500 with 4 Axes>"
      ]
     },
     "metadata": {},
     "output_type": "display_data"
    }
   ],
   "source": [
    "path_dan = r\"C:\\dev\\FL_privacy_mab\\checkpoints\\BSFL brute\\cnn2\\12-12-2023_16-34-54\\last_model.pth.tar\"\n",
    "path_random = r\"C:\\dev\\FL_privacy_mab\\checkpoints\\random selection\\cnn2\\12-12-2023_16-57-45\\last_model.pth.tar\"\n",
    "\n",
    "random_dict = torch.load(path_random)\n",
    "dan_dict = torch.load(path_dan)\n",
    "\n",
    "random_train_loss_list = random_dict[\"train_loss_list\"]\n",
    "random_val_acc_list = random_dict[\"val_acc_list\"]\n",
    "random_val_losses_list = random_dict[\"val_losses_list\"]\n",
    "random_global_epochs_time_list = random_dict[\"global_epochs_time_list\"]\n",
    "\n",
    "dan_train_loss_list = dan_dict[\"train_loss_list\"]\n",
    "dan_val_acc_list = dan_dict[\"val_acc_list\"]\n",
    "dan_val_losses_list = dan_dict[\"val_losses_list\"]\n",
    "dan_global_epochs_time_list = dan_dict[\"global_epochs_time_list\"]\n",
    "\n",
    "fig, ax = plt.subplots(2,2, figsize=(15,15))\n",
    "\n",
    "ax[0,0].plot(random_global_epochs_time_list , random_train_loss_list, label=\"train loss random selection\", color = \"green\")\n",
    "ax[0,0].plot(dan_global_epochs_time_list, dan_train_loss_list, label=\"train loss dan's selection\", color = \"blue\")\n",
    "ax[0,0].set_title(\"train loss over time\")\n",
    "ax[0,0].set_xlabel(\"time(sec)\")\n",
    "ax[0,0].set_ylabel(\"train loss\")\n",
    "ax[0,0].legend()\n",
    "\n",
    "ax[0,1].plot(random_global_epochs_time_list , random_val_losses_list, label=\"val loss random selection\", color = \"green\")\n",
    "ax[0,1].plot(dan_global_epochs_time_list, dan_val_losses_list, label=\"val loss dan's selection\", color = \"blue\")\n",
    "ax[0,1].set_title(\"val loss over time\")\n",
    "ax[0,1].set_xlabel(\"time(sec)\")\n",
    "ax[0,1].set_ylabel(\"val loss\")\n",
    "ax[0,1].legend()\n",
    "\n",
    "ax[1,0].plot(random_global_epochs_time_list , random_val_acc_list, label=\"val acc random selection\", color = \"green\")\n",
    "ax[1,0].plot(dan_global_epochs_time_list, dan_val_acc_list, label=\"val acc dan's selection\", color = \"blue\")\n",
    "ax[1,0].set_title(\"val acc over time\")\n",
    "ax[1,0].set_xlabel(\"time(sec)\")\n",
    "ax[1,0].set_ylabel(\"val acc\")\n",
    "ax[1,0].legend()\n",
    "\n"
   ]
  },
  {
   "cell_type": "code",
   "execution_count": null,
   "metadata": {},
   "outputs": [],
   "source": [
    "%tensorboard --logdir=runs"
   ]
  }
 ],
 "metadata": {
  "kernelspec": {
   "display_name": "Python 3",
   "language": "python",
   "name": "python3"
  },
  "language_info": {
   "codemirror_mode": {
    "name": "ipython",
    "version": 3
   },
   "file_extension": ".py",
   "mimetype": "text/x-python",
   "name": "python",
   "nbconvert_exporter": "python",
   "pygments_lexer": "ipython3",
   "version": "3.11.3"
  }
 },
 "nbformat": 4,
 "nbformat_minor": 2
}
